{
 "cells": [
  {
   "attachments": {},
   "cell_type": "markdown",
   "metadata": {},
   "source": [
    "# Functions"
   ]
  },
  {
   "cell_type": "code",
   "execution_count": 1,
   "metadata": {},
   "outputs": [],
   "source": [
    "def scraping_data_open_and_games(year, competition, scores=False):\n",
    "    base_url = \"https://c3po.crossfit.com/api/leaderboards/v2/competitions\"\n",
    "    data_list = []\n",
    "    genders = [1, 2]\n",
    "\n",
    "    # Iterate over each gender\n",
    "    for gender in genders:\n",
    "        # Create the initial API URL to fetch the data for the first page\n",
    "        url = f\"{base_url}/{competition}/{year}/leaderboards?division={gender}&page=1\"\n",
    "        try:\n",
    "            # Fetch the response for the first page\n",
    "            response = requests.get(url).json()\n",
    "            # Extract the total number of pages from the response\n",
    "            total_pages = response['pagination']['totalPages']\n",
    "            # Iterate over each page\n",
    "            for page in range(1, total_pages + 1):\n",
    "                # Create the API URL for each page\n",
    "                url = f\"{base_url}/{competition}/{year}/leaderboards?division={gender}&page={page}\"\n",
    "                try:\n",
    "                    # Fetch the response for the current page\n",
    "                    response = requests.get(url).json()\n",
    "                    # Extract the data for each row in the leaderboardRows\n",
    "                    for row in response['leaderboardRows']:\n",
    "                        # Append entrant data for the first query\n",
    "                        if not scores:\n",
    "                            row_data = row['entrant'].copy()\n",
    "                            row_data['overallRank'] = row['overallRank']\n",
    "                            row_data['overallScore'] = row['overallScore']\n",
    "                            # Append the row data to the data_list\n",
    "                            data_list.append(row_data)\n",
    "                        # Append score data for the second query\n",
    "                        else:\n",
    "                            total_ordinals = pd.DataFrame(row['scores'] for row in response['leaderboardRows']).shape[1]\n",
    "                            for ordinal in range(0, total_ordinals):\n",
    "                                score_data = row['scores'][ordinal].copy()\n",
    "                                score_data['competitorId'] = row['entrant']['competitorId']\n",
    "                                # Append the score data to the data_list\n",
    "                                data_list.append(score_data)\n",
    "                except Exception as e:\n",
    "                    # Handle any errors that occur during the API request for a specific page\n",
    "                    print(f\"Error occurred while fetching data for gender={gender}, page={page}: {e}\")\n",
    "        except Exception as e:\n",
    "            # Handle any errors that occur during the API request for fetching total_pages\n",
    "            print(f\"Error occurred while fetching total_pages for gender={gender}: {e}\")\n",
    "\n",
    "    # Create a DataFrame from the collected data_list\n",
    "    df = pd.DataFrame(data_list)\n",
    "    \n",
    "    return df"
   ]
  }
 ],
 "metadata": {
  "kernelspec": {
   "display_name": "Python 3",
   "language": "python",
   "name": "python3"
  },
  "language_info": {
   "codemirror_mode": {
    "name": "ipython",
    "version": 3
   },
   "file_extension": ".py",
   "mimetype": "text/x-python",
   "name": "python",
   "nbconvert_exporter": "python",
   "pygments_lexer": "ipython3",
   "version": "3.11.4"
  },
  "orig_nbformat": 4
 },
 "nbformat": 4,
 "nbformat_minor": 2
}
