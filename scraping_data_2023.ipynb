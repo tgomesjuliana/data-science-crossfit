{
 "cells": [
  {
   "attachments": {},
   "cell_type": "markdown",
   "metadata": {},
   "source": [
    "# Imports"
   ]
  },
  {
   "cell_type": "code",
   "execution_count": null,
   "metadata": {},
   "outputs": [],
   "source": [
    "import pandas as pd\n",
    "import requests\n",
    "import nbimporter\n",
    "from nbimporter import NotebookLoader\n",
    "\n",
    "loader = NotebookLoader('.')\n",
    "module = loader.load_module('scraping_data_functions')"
   ]
  },
  {
   "attachments": {},
   "cell_type": "markdown",
   "metadata": {},
   "source": [
    "# Data Scraping"
   ]
  },
  {
   "attachments": {},
   "cell_type": "markdown",
   "metadata": {},
   "source": [
    "### 2023"
   ]
  },
  {
   "attachments": {},
   "cell_type": "markdown",
   "metadata": {},
   "source": [
    "##### Open"
   ]
  },
  {
   "attachments": {},
   "cell_type": "markdown",
   "metadata": {},
   "source": [
    "###### Athletes information"
   ]
  },
  {
   "cell_type": "code",
   "execution_count": null,
   "metadata": {},
   "outputs": [],
   "source": [
    "# Query 1 - 2023 Open Not Scores\n",
    "df_2023_open_not_scores = module.scraping_data_open_and_games('2023', 'open')\n",
    "\n",
    "df_2023_open_not_scores"
   ]
  },
  {
   "attachments": {},
   "cell_type": "markdown",
   "metadata": {},
   "source": [
    "###### Athletes scores"
   ]
  },
  {
   "cell_type": "code",
   "execution_count": null,
   "metadata": {},
   "outputs": [],
   "source": [
    "# Query 2 - 2023 Open Scores\n",
    "df_2023_open_scores = module.scraping_data_open_and_games('2023', 'open', scores=True)\n",
    "\n",
    "df_2023_open_scores"
   ]
  },
  {
   "attachments": {},
   "cell_type": "markdown",
   "metadata": {},
   "source": [
    "##### Quarterfinals"
   ]
  },
  {
   "attachments": {},
   "cell_type": "markdown",
   "metadata": {},
   "source": [
    "###### Athletes information"
   ]
  },
  {
   "cell_type": "code",
   "execution_count": null,
   "metadata": {},
   "outputs": [],
   "source": [
    "# Query 3 - 2023 Quarterfinals Not Scores\n",
    "parameters = [211]\n",
    "\n",
    "df_2023_quarterfinals_not_scores = module.scraping_data_quarterfinal_and_semifinal('2023', 'quarterfinal', parameters)\n",
    "\n",
    "df_2023_quarterfinals_not_scores"
   ]
  },
  {
   "attachments": {},
   "cell_type": "markdown",
   "metadata": {},
   "source": [
    "###### Athletes scores"
   ]
  },
  {
   "cell_type": "code",
   "execution_count": null,
   "metadata": {},
   "outputs": [],
   "source": [
    "# Query 4 - 2023 Quarterfinals Not Scores\n",
    "parameters = [211]\n",
    "\n",
    "df_2023_quarterfinals_scores = module.scraping_data_quarterfinal_and_semifinal('2023', 'quarterfinal', parameters, scores=True)\n",
    "\n",
    "df_2023_quarterfinals_scores"
   ]
  },
  {
   "attachments": {},
   "cell_type": "markdown",
   "metadata": {},
   "source": [
    "##### Semifinals"
   ]
  },
  {
   "attachments": {},
   "cell_type": "markdown",
   "metadata": {},
   "source": [
    "###### Athletes information"
   ]
  },
  {
   "cell_type": "code",
   "execution_count": null,
   "metadata": {},
   "outputs": [],
   "source": [
    "# Query 5 - 2023 Semifinals Not Scores\n",
    "parameters = [215, 217, 218, 219, 220, 221, 222]\n",
    "\n",
    "df_2023_semifinals_not_scores = module.scraping_data_quarterfinal_and_semifinal('2023', 'semifinal', parameters)\n",
    "\n",
    "df_2023_semifinals_not_scores"
   ]
  },
  {
   "attachments": {},
   "cell_type": "markdown",
   "metadata": {},
   "source": [
    "###### Athletes scores"
   ]
  },
  {
   "cell_type": "code",
   "execution_count": null,
   "metadata": {},
   "outputs": [],
   "source": [
    "# Query 6 - 2023 Semifinals Not Scores\n",
    "parameters = [215, 217, 218, 219, 220, 221, 222]\n",
    "\n",
    "df_2023_semifinals_not_scores = module.scraping_data_quarterfinal_and_semifinal('2023', 'semifinal', parameters, scores=True)\n",
    "\n",
    "df_2023_semifinals_not_scores"
   ]
  },
  {
   "attachments": {},
   "cell_type": "markdown",
   "metadata": {},
   "source": [
    "##### Games"
   ]
  },
  {
   "attachments": {},
   "cell_type": "markdown",
   "metadata": {},
   "source": [
    "###### Athletes information"
   ]
  },
  {
   "cell_type": "code",
   "execution_count": null,
   "metadata": {},
   "outputs": [],
   "source": [
    "# Query 7 - 2023 Games Not Scores\n",
    "df_2023_games_not_scores = module.scraping_data_open_and_games('2023', 'games')\n",
    "\n",
    "df_2023_games_not_scores"
   ]
  }
 ],
 "metadata": {
  "kernelspec": {
   "display_name": "Python 3",
   "language": "python",
   "name": "python3"
  },
  "language_info": {
   "codemirror_mode": {
    "name": "ipython",
    "version": 3
   },
   "file_extension": ".py",
   "mimetype": "text/x-python",
   "name": "python",
   "nbconvert_exporter": "python",
   "pygments_lexer": "ipython3",
   "version": "3.11.4"
  },
  "orig_nbformat": 4
 },
 "nbformat": 4,
 "nbformat_minor": 2
}
