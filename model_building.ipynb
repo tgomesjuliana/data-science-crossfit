{
 "cells": [
  {
   "cell_type": "markdown",
   "metadata": {},
   "source": [
    "# Imports"
   ]
  },
  {
   "cell_type": "code",
   "execution_count": 1,
   "metadata": {},
   "outputs": [],
   "source": [
    "import pandas as pd\n",
    "import numpy as np\n",
    "import matplotlib.pyplot as plt\n",
    "import statsmodels.api as sm\n",
    "from sklearn.model_selection import train_test_split, cross_val_score, GridSearchCV\n",
    "from sklearn.linear_model import LinearRegression, Lasso\n",
    "from sklearn.tree import DecisionTreeRegressor\n",
    "from sklearn.ensemble import RandomForestRegressor\n",
    "from sklearn.metrics import mean_absolute_error, mean_absolute_percentage_error\n",
    "from sklearn.pipeline import Pipeline\n",
    "from xgboost import XGBRegressor"
   ]
  },
  {
   "cell_type": "markdown",
   "metadata": {},
   "source": [
    "# Definitions"
   ]
  },
  {
   "cell_type": "code",
   "execution_count": 2,
   "metadata": {},
   "outputs": [],
   "source": [
    "base_path = \"C:/Users/Zi/Documents/data-science-crossfit/\""
   ]
  },
  {
   "cell_type": "markdown",
   "metadata": {},
   "source": [
    "# Model Building"
   ]
  },
  {
   "cell_type": "code",
   "execution_count": 3,
   "metadata": {},
   "outputs": [],
   "source": [
    "df_games_and_open = pd.read_csv(base_path + \"csv_files/version_2_clean_data/df_games_and_open.csv\")\n",
    "df_games_and_open = df_games_and_open[df_games_and_open['year'] != 2023]\n",
    "df_games_and_open = df_games_and_open.select_dtypes(include=[np.number]).drop(columns=['year','overallRank'])"
   ]
  },
  {
   "cell_type": "code",
   "execution_count": 4,
   "metadata": {},
   "outputs": [
    {
     "data": {
      "text/html": [
       "<div>\n",
       "<style scoped>\n",
       "    .dataframe tbody tr th:only-of-type {\n",
       "        vertical-align: middle;\n",
       "    }\n",
       "\n",
       "    .dataframe tbody tr th {\n",
       "        vertical-align: top;\n",
       "    }\n",
       "\n",
       "    .dataframe thead th {\n",
       "        text-align: right;\n",
       "    }\n",
       "</style>\n",
       "<table border=\"1\" class=\"dataframe\">\n",
       "  <thead>\n",
       "    <tr style=\"text-align: right;\">\n",
       "      <th></th>\n",
       "      <th>competitorId</th>\n",
       "      <th>genderId</th>\n",
       "      <th>age</th>\n",
       "      <th>ageNull</th>\n",
       "      <th>height</th>\n",
       "      <th>heightNull</th>\n",
       "      <th>weight</th>\n",
       "      <th>weightNull</th>\n",
       "      <th>bmi</th>\n",
       "      <th>bmiNull</th>\n",
       "      <th>affiliateId</th>\n",
       "      <th>countryOfOriginCode</th>\n",
       "      <th>regionId</th>\n",
       "      <th>statusId</th>\n",
       "      <th>overallScore</th>\n",
       "      <th>openCompetitor</th>\n",
       "      <th>openRank</th>\n",
       "      <th>openScore</th>\n",
       "      <th>gamesCompetitions</th>\n",
       "      <th>openCompetitions</th>\n",
       "    </tr>\n",
       "  </thead>\n",
       "  <tbody>\n",
       "    <tr>\n",
       "      <th>0</th>\n",
       "      <td>1616</td>\n",
       "      <td>1</td>\n",
       "      <td>20</td>\n",
       "      <td>0</td>\n",
       "      <td>178.000000</td>\n",
       "      <td>0</td>\n",
       "      <td>83.000000</td>\n",
       "      <td>0</td>\n",
       "      <td>26.196187</td>\n",
       "      <td>0</td>\n",
       "      <td>0</td>\n",
       "      <td>0</td>\n",
       "      <td>0</td>\n",
       "      <td>1</td>\n",
       "      <td>232</td>\n",
       "      <td>0</td>\n",
       "      <td>1000</td>\n",
       "      <td>5000</td>\n",
       "      <td>1</td>\n",
       "      <td>0</td>\n",
       "    </tr>\n",
       "    <tr>\n",
       "      <th>1</th>\n",
       "      <td>1616</td>\n",
       "      <td>1</td>\n",
       "      <td>21</td>\n",
       "      <td>0</td>\n",
       "      <td>178.000000</td>\n",
       "      <td>0</td>\n",
       "      <td>83.000000</td>\n",
       "      <td>0</td>\n",
       "      <td>26.196187</td>\n",
       "      <td>0</td>\n",
       "      <td>0</td>\n",
       "      <td>0</td>\n",
       "      <td>0</td>\n",
       "      <td>1</td>\n",
       "      <td>21</td>\n",
       "      <td>0</td>\n",
       "      <td>1000</td>\n",
       "      <td>5000</td>\n",
       "      <td>2</td>\n",
       "      <td>0</td>\n",
       "    </tr>\n",
       "    <tr>\n",
       "      <th>2</th>\n",
       "      <td>1685</td>\n",
       "      <td>1</td>\n",
       "      <td>29</td>\n",
       "      <td>0</td>\n",
       "      <td>163.000000</td>\n",
       "      <td>0</td>\n",
       "      <td>82.000000</td>\n",
       "      <td>0</td>\n",
       "      <td>30.863036</td>\n",
       "      <td>0</td>\n",
       "      <td>0</td>\n",
       "      <td>0</td>\n",
       "      <td>0</td>\n",
       "      <td>1</td>\n",
       "      <td>19</td>\n",
       "      <td>0</td>\n",
       "      <td>1000</td>\n",
       "      <td>5000</td>\n",
       "      <td>1</td>\n",
       "      <td>0</td>\n",
       "    </tr>\n",
       "    <tr>\n",
       "      <th>3</th>\n",
       "      <td>1690</td>\n",
       "      <td>1</td>\n",
       "      <td>23</td>\n",
       "      <td>0</td>\n",
       "      <td>181.000000</td>\n",
       "      <td>0</td>\n",
       "      <td>93.000000</td>\n",
       "      <td>0</td>\n",
       "      <td>28.387412</td>\n",
       "      <td>0</td>\n",
       "      <td>7104</td>\n",
       "      <td>1</td>\n",
       "      <td>1</td>\n",
       "      <td>1</td>\n",
       "      <td>483</td>\n",
       "      <td>1</td>\n",
       "      <td>17</td>\n",
       "      <td>566</td>\n",
       "      <td>1</td>\n",
       "      <td>1</td>\n",
       "    </tr>\n",
       "    <tr>\n",
       "      <th>4</th>\n",
       "      <td>1690</td>\n",
       "      <td>1</td>\n",
       "      <td>25</td>\n",
       "      <td>0</td>\n",
       "      <td>181.000000</td>\n",
       "      <td>0</td>\n",
       "      <td>93.000000</td>\n",
       "      <td>0</td>\n",
       "      <td>28.387412</td>\n",
       "      <td>0</td>\n",
       "      <td>7104</td>\n",
       "      <td>1</td>\n",
       "      <td>1</td>\n",
       "      <td>1</td>\n",
       "      <td>702</td>\n",
       "      <td>1</td>\n",
       "      <td>3</td>\n",
       "      <td>86</td>\n",
       "      <td>2</td>\n",
       "      <td>2</td>\n",
       "    </tr>\n",
       "    <tr>\n",
       "      <th>...</th>\n",
       "      <td>...</td>\n",
       "      <td>...</td>\n",
       "      <td>...</td>\n",
       "      <td>...</td>\n",
       "      <td>...</td>\n",
       "      <td>...</td>\n",
       "      <td>...</td>\n",
       "      <td>...</td>\n",
       "      <td>...</td>\n",
       "      <td>...</td>\n",
       "      <td>...</td>\n",
       "      <td>...</td>\n",
       "      <td>...</td>\n",
       "      <td>...</td>\n",
       "      <td>...</td>\n",
       "      <td>...</td>\n",
       "      <td>...</td>\n",
       "      <td>...</td>\n",
       "      <td>...</td>\n",
       "      <td>...</td>\n",
       "    </tr>\n",
       "    <tr>\n",
       "      <th>1709</th>\n",
       "      <td>2377148</td>\n",
       "      <td>2</td>\n",
       "      <td>27</td>\n",
       "      <td>1</td>\n",
       "      <td>165.374825</td>\n",
       "      <td>1</td>\n",
       "      <td>65.663854</td>\n",
       "      <td>1</td>\n",
       "      <td>24.013081</td>\n",
       "      <td>1</td>\n",
       "      <td>0</td>\n",
       "      <td>0</td>\n",
       "      <td>0</td>\n",
       "      <td>1</td>\n",
       "      <td>237</td>\n",
       "      <td>0</td>\n",
       "      <td>1000</td>\n",
       "      <td>5000</td>\n",
       "      <td>1</td>\n",
       "      <td>1</td>\n",
       "    </tr>\n",
       "    <tr>\n",
       "      <th>1710</th>\n",
       "      <td>2377149</td>\n",
       "      <td>2</td>\n",
       "      <td>27</td>\n",
       "      <td>1</td>\n",
       "      <td>165.374825</td>\n",
       "      <td>1</td>\n",
       "      <td>65.663854</td>\n",
       "      <td>1</td>\n",
       "      <td>24.013081</td>\n",
       "      <td>1</td>\n",
       "      <td>0</td>\n",
       "      <td>0</td>\n",
       "      <td>0</td>\n",
       "      <td>2</td>\n",
       "      <td>162</td>\n",
       "      <td>0</td>\n",
       "      <td>1000</td>\n",
       "      <td>5000</td>\n",
       "      <td>1</td>\n",
       "      <td>1</td>\n",
       "    </tr>\n",
       "    <tr>\n",
       "      <th>1711</th>\n",
       "      <td>2377150</td>\n",
       "      <td>2</td>\n",
       "      <td>27</td>\n",
       "      <td>1</td>\n",
       "      <td>165.374825</td>\n",
       "      <td>1</td>\n",
       "      <td>65.663854</td>\n",
       "      <td>1</td>\n",
       "      <td>24.013081</td>\n",
       "      <td>1</td>\n",
       "      <td>0</td>\n",
       "      <td>0</td>\n",
       "      <td>0</td>\n",
       "      <td>2</td>\n",
       "      <td>81</td>\n",
       "      <td>0</td>\n",
       "      <td>1000</td>\n",
       "      <td>5000</td>\n",
       "      <td>1</td>\n",
       "      <td>1</td>\n",
       "    </tr>\n",
       "    <tr>\n",
       "      <th>1712</th>\n",
       "      <td>2377151</td>\n",
       "      <td>2</td>\n",
       "      <td>27</td>\n",
       "      <td>1</td>\n",
       "      <td>165.374825</td>\n",
       "      <td>1</td>\n",
       "      <td>65.663854</td>\n",
       "      <td>1</td>\n",
       "      <td>24.013081</td>\n",
       "      <td>1</td>\n",
       "      <td>0</td>\n",
       "      <td>0</td>\n",
       "      <td>0</td>\n",
       "      <td>2</td>\n",
       "      <td>76</td>\n",
       "      <td>0</td>\n",
       "      <td>1000</td>\n",
       "      <td>5000</td>\n",
       "      <td>1</td>\n",
       "      <td>1</td>\n",
       "    </tr>\n",
       "    <tr>\n",
       "      <th>1713</th>\n",
       "      <td>2377152</td>\n",
       "      <td>2</td>\n",
       "      <td>27</td>\n",
       "      <td>1</td>\n",
       "      <td>165.374825</td>\n",
       "      <td>1</td>\n",
       "      <td>65.663854</td>\n",
       "      <td>1</td>\n",
       "      <td>24.013081</td>\n",
       "      <td>1</td>\n",
       "      <td>0</td>\n",
       "      <td>0</td>\n",
       "      <td>0</td>\n",
       "      <td>2</td>\n",
       "      <td>86</td>\n",
       "      <td>0</td>\n",
       "      <td>1000</td>\n",
       "      <td>5000</td>\n",
       "      <td>1</td>\n",
       "      <td>1</td>\n",
       "    </tr>\n",
       "  </tbody>\n",
       "</table>\n",
       "<p>1633 rows × 20 columns</p>\n",
       "</div>"
      ],
      "text/plain": [
       "      competitorId  genderId  age  ageNull      height  heightNull     weight  \\\n",
       "0             1616         1   20        0  178.000000           0  83.000000   \n",
       "1             1616         1   21        0  178.000000           0  83.000000   \n",
       "2             1685         1   29        0  163.000000           0  82.000000   \n",
       "3             1690         1   23        0  181.000000           0  93.000000   \n",
       "4             1690         1   25        0  181.000000           0  93.000000   \n",
       "...            ...       ...  ...      ...         ...         ...        ...   \n",
       "1709       2377148         2   27        1  165.374825           1  65.663854   \n",
       "1710       2377149         2   27        1  165.374825           1  65.663854   \n",
       "1711       2377150         2   27        1  165.374825           1  65.663854   \n",
       "1712       2377151         2   27        1  165.374825           1  65.663854   \n",
       "1713       2377152         2   27        1  165.374825           1  65.663854   \n",
       "\n",
       "      weightNull        bmi  bmiNull  affiliateId  countryOfOriginCode  \\\n",
       "0              0  26.196187        0            0                    0   \n",
       "1              0  26.196187        0            0                    0   \n",
       "2              0  30.863036        0            0                    0   \n",
       "3              0  28.387412        0         7104                    1   \n",
       "4              0  28.387412        0         7104                    1   \n",
       "...          ...        ...      ...          ...                  ...   \n",
       "1709           1  24.013081        1            0                    0   \n",
       "1710           1  24.013081        1            0                    0   \n",
       "1711           1  24.013081        1            0                    0   \n",
       "1712           1  24.013081        1            0                    0   \n",
       "1713           1  24.013081        1            0                    0   \n",
       "\n",
       "      regionId  statusId  overallScore  openCompetitor  openRank  openScore  \\\n",
       "0            0         1           232               0      1000       5000   \n",
       "1            0         1            21               0      1000       5000   \n",
       "2            0         1            19               0      1000       5000   \n",
       "3            1         1           483               1        17        566   \n",
       "4            1         1           702               1         3         86   \n",
       "...        ...       ...           ...             ...       ...        ...   \n",
       "1709         0         1           237               0      1000       5000   \n",
       "1710         0         2           162               0      1000       5000   \n",
       "1711         0         2            81               0      1000       5000   \n",
       "1712         0         2            76               0      1000       5000   \n",
       "1713         0         2            86               0      1000       5000   \n",
       "\n",
       "      gamesCompetitions  openCompetitions  \n",
       "0                     1                 0  \n",
       "1                     2                 0  \n",
       "2                     1                 0  \n",
       "3                     1                 1  \n",
       "4                     2                 2  \n",
       "...                 ...               ...  \n",
       "1709                  1                 1  \n",
       "1710                  1                 1  \n",
       "1711                  1                 1  \n",
       "1712                  1                 1  \n",
       "1713                  1                 1  \n",
       "\n",
       "[1633 rows x 20 columns]"
      ]
     },
     "execution_count": 4,
     "metadata": {},
     "output_type": "execute_result"
    }
   ],
   "source": [
    "df_games_and_open"
   ]
  },
  {
   "cell_type": "markdown",
   "metadata": {},
   "source": [
    "### Splits"
   ]
  },
  {
   "cell_type": "markdown",
   "metadata": {},
   "source": [
    "#####  X and y"
   ]
  },
  {
   "cell_type": "code",
   "execution_count": 5,
   "metadata": {},
   "outputs": [],
   "source": [
    "X = df_games_and_open.copy()\n",
    "y = X.pop('overallScore')"
   ]
  },
  {
   "cell_type": "code",
   "execution_count": 6,
   "metadata": {},
   "outputs": [
    {
     "data": {
      "text/plain": [
       "(1633, 19)"
      ]
     },
     "execution_count": 6,
     "metadata": {},
     "output_type": "execute_result"
    }
   ],
   "source": [
    "X.shape"
   ]
  },
  {
   "cell_type": "code",
   "execution_count": 7,
   "metadata": {},
   "outputs": [
    {
     "data": {
      "text/plain": [
       "(1633,)"
      ]
     },
     "execution_count": 7,
     "metadata": {},
     "output_type": "execute_result"
    }
   ],
   "source": [
    "y.shape"
   ]
  },
  {
   "cell_type": "markdown",
   "metadata": {},
   "source": [
    "##### Train and test"
   ]
  },
  {
   "cell_type": "code",
   "execution_count": 8,
   "metadata": {},
   "outputs": [],
   "source": [
    "train_X, val_X, train_y, val_y = train_test_split(X, y, train_size=0.8, test_size=0.2, random_state=1)"
   ]
  },
  {
   "cell_type": "code",
   "execution_count": 9,
   "metadata": {},
   "outputs": [
    {
     "data": {
      "text/plain": [
       "(1306, 19)"
      ]
     },
     "execution_count": 9,
     "metadata": {},
     "output_type": "execute_result"
    }
   ],
   "source": [
    "train_X.shape"
   ]
  },
  {
   "cell_type": "code",
   "execution_count": 10,
   "metadata": {},
   "outputs": [
    {
     "data": {
      "text/plain": [
       "(1306,)"
      ]
     },
     "execution_count": 10,
     "metadata": {},
     "output_type": "execute_result"
    }
   ],
   "source": [
    "train_y.shape"
   ]
  },
  {
   "cell_type": "code",
   "execution_count": 11,
   "metadata": {},
   "outputs": [
    {
     "data": {
      "text/plain": [
       "(327, 19)"
      ]
     },
     "execution_count": 11,
     "metadata": {},
     "output_type": "execute_result"
    }
   ],
   "source": [
    "val_X.shape"
   ]
  },
  {
   "cell_type": "code",
   "execution_count": 12,
   "metadata": {},
   "outputs": [
    {
     "data": {
      "text/plain": [
       "(327,)"
      ]
     },
     "execution_count": 12,
     "metadata": {},
     "output_type": "execute_result"
    }
   ],
   "source": [
    "val_y.shape"
   ]
  },
  {
   "cell_type": "markdown",
   "metadata": {},
   "source": [
    "### Linear regressions"
   ]
  },
  {
   "cell_type": "markdown",
   "metadata": {},
   "source": [
    "##### Multiple linear regression"
   ]
  },
  {
   "cell_type": "code",
   "execution_count": 13,
   "metadata": {},
   "outputs": [
    {
     "data": {
      "text/html": [
       "<table class=\"simpletable\">\n",
       "<caption>OLS Regression Results</caption>\n",
       "<tr>\n",
       "  <th>Dep. Variable:</th>      <td>overallScore</td>   <th>  R-squared:         </th> <td>   0.561</td> \n",
       "</tr>\n",
       "<tr>\n",
       "  <th>Model:</th>                   <td>OLS</td>       <th>  Adj. R-squared:    </th> <td>   0.555</td> \n",
       "</tr>\n",
       "<tr>\n",
       "  <th>Method:</th>             <td>Least Squares</td>  <th>  F-statistic:       </th> <td>   108.3</td> \n",
       "</tr>\n",
       "<tr>\n",
       "  <th>Date:</th>             <td>Mon, 24 Jul 2023</td> <th>  Prob (F-statistic):</th> <td>2.67e-271</td>\n",
       "</tr>\n",
       "<tr>\n",
       "  <th>Time:</th>                 <td>12:51:25</td>     <th>  Log-Likelihood:    </th> <td> -10941.</td> \n",
       "</tr>\n",
       "<tr>\n",
       "  <th>No. Observations:</th>      <td>  1633</td>      <th>  AIC:               </th> <td>2.192e+04</td>\n",
       "</tr>\n",
       "<tr>\n",
       "  <th>Df Residuals:</th>          <td>  1613</td>      <th>  BIC:               </th> <td>2.203e+04</td>\n",
       "</tr>\n",
       "<tr>\n",
       "  <th>Df Model:</th>              <td>    19</td>      <th>                     </th>     <td> </td>    \n",
       "</tr>\n",
       "<tr>\n",
       "  <th>Covariance Type:</th>      <td>nonrobust</td>    <th>                     </th>     <td> </td>    \n",
       "</tr>\n",
       "</table>\n",
       "<table class=\"simpletable\">\n",
       "<tr>\n",
       "           <td></td>              <th>coef</th>     <th>std err</th>      <th>t</th>      <th>P>|t|</th>  <th>[0.025</th>    <th>0.975]</th>  \n",
       "</tr>\n",
       "<tr>\n",
       "  <th>const</th>               <td>  635.5002</td> <td>  733.175</td> <td>    0.867</td> <td> 0.386</td> <td> -802.575</td> <td> 2073.576</td>\n",
       "</tr>\n",
       "<tr>\n",
       "  <th>competitorId</th>        <td>-4.797e-06</td> <td> 1.89e-05</td> <td>   -0.254</td> <td> 0.799</td> <td>-4.18e-05</td> <td> 3.22e-05</td>\n",
       "</tr>\n",
       "<tr>\n",
       "  <th>genderId</th>            <td>   33.9727</td> <td>   20.760</td> <td>    1.636</td> <td> 0.102</td> <td>   -6.746</td> <td>   74.692</td>\n",
       "</tr>\n",
       "<tr>\n",
       "  <th>age</th>                 <td>   -6.4984</td> <td>    1.150</td> <td>   -5.652</td> <td> 0.000</td> <td>   -8.754</td> <td>   -4.243</td>\n",
       "</tr>\n",
       "<tr>\n",
       "  <th>ageNull</th>             <td>  -12.4838</td> <td>   49.900</td> <td>   -0.250</td> <td> 0.802</td> <td> -110.360</td> <td>   85.392</td>\n",
       "</tr>\n",
       "<tr>\n",
       "  <th>height</th>              <td>   -0.8447</td> <td>    4.267</td> <td>   -0.198</td> <td> 0.843</td> <td>   -9.215</td> <td>    7.525</td>\n",
       "</tr>\n",
       "<tr>\n",
       "  <th>heightNull</th>          <td>   20.2601</td> <td>   66.958</td> <td>    0.303</td> <td> 0.762</td> <td> -111.074</td> <td>  151.594</td>\n",
       "</tr>\n",
       "<tr>\n",
       "  <th>weight</th>              <td>    2.3172</td> <td>    4.648</td> <td>    0.498</td> <td> 0.618</td> <td>   -6.801</td> <td>   11.435</td>\n",
       "</tr>\n",
       "<tr>\n",
       "  <th>weightNull</th>          <td>   -5.9811</td> <td>   56.090</td> <td>   -0.107</td> <td> 0.915</td> <td> -115.998</td> <td>  104.036</td>\n",
       "</tr>\n",
       "<tr>\n",
       "  <th>bmi</th>                 <td>   -6.9725</td> <td>   13.600</td> <td>   -0.513</td> <td> 0.608</td> <td>  -33.649</td> <td>   19.704</td>\n",
       "</tr>\n",
       "<tr>\n",
       "  <th>bmiNull</th>             <td>  -28.2535</td> <td>   84.689</td> <td>   -0.334</td> <td> 0.739</td> <td> -194.365</td> <td>  137.858</td>\n",
       "</tr>\n",
       "<tr>\n",
       "  <th>affiliateId</th>         <td>   -0.0033</td> <td>    0.001</td> <td>   -3.523</td> <td> 0.000</td> <td>   -0.005</td> <td>   -0.001</td>\n",
       "</tr>\n",
       "<tr>\n",
       "  <th>countryOfOriginCode</th> <td>   -1.1035</td> <td>    0.383</td> <td>   -2.879</td> <td> 0.004</td> <td>   -1.855</td> <td>   -0.352</td>\n",
       "</tr>\n",
       "<tr>\n",
       "  <th>regionId</th>            <td>   -1.8291</td> <td>    2.971</td> <td>   -0.616</td> <td> 0.538</td> <td>   -7.657</td> <td>    3.999</td>\n",
       "</tr>\n",
       "<tr>\n",
       "  <th>statusId</th>            <td>  -53.4749</td> <td>    3.776</td> <td>  -14.162</td> <td> 0.000</td> <td>  -60.881</td> <td>  -46.068</td>\n",
       "</tr>\n",
       "<tr>\n",
       "  <th>openCompetitor</th>      <td>  157.2588</td> <td>   31.475</td> <td>    4.996</td> <td> 0.000</td> <td>   95.523</td> <td>  218.994</td>\n",
       "</tr>\n",
       "<tr>\n",
       "  <th>openRank</th>            <td>   -0.0728</td> <td>    0.055</td> <td>   -1.324</td> <td> 0.186</td> <td>   -0.181</td> <td>    0.035</td>\n",
       "</tr>\n",
       "<tr>\n",
       "  <th>openScore</th>           <td>   -0.0151</td> <td>    0.009</td> <td>   -1.678</td> <td> 0.094</td> <td>   -0.033</td> <td>    0.003</td>\n",
       "</tr>\n",
       "<tr>\n",
       "  <th>gamesCompetitions</th>   <td>   55.7323</td> <td>    4.630</td> <td>   12.037</td> <td> 0.000</td> <td>   46.651</td> <td>   64.814</td>\n",
       "</tr>\n",
       "<tr>\n",
       "  <th>openCompetitions</th>    <td>  -12.0718</td> <td>    4.092</td> <td>   -2.950</td> <td> 0.003</td> <td>  -20.099</td> <td>   -4.045</td>\n",
       "</tr>\n",
       "</table>\n",
       "<table class=\"simpletable\">\n",
       "<tr>\n",
       "  <th>Omnibus:</th>       <td>40.854</td> <th>  Durbin-Watson:     </th> <td>   1.647</td>\n",
       "</tr>\n",
       "<tr>\n",
       "  <th>Prob(Omnibus):</th> <td> 0.000</td> <th>  Jarque-Bera (JB):  </th> <td>  87.810</td>\n",
       "</tr>\n",
       "<tr>\n",
       "  <th>Skew:</th>          <td>-0.084</td> <th>  Prob(JB):          </th> <td>8.55e-20</td>\n",
       "</tr>\n",
       "<tr>\n",
       "  <th>Kurtosis:</th>      <td> 4.124</td> <th>  Cond. No.          </th> <td>9.68e+07</td>\n",
       "</tr>\n",
       "</table><br/><br/>Notes:<br/>[1] Standard Errors assume that the covariance matrix of the errors is correctly specified.<br/>[2] The condition number is large, 9.68e+07. This might indicate that there are<br/>strong multicollinearity or other numerical problems."
      ],
      "text/latex": [
       "\\begin{center}\n",
       "\\begin{tabular}{lclc}\n",
       "\\toprule\n",
       "\\textbf{Dep. Variable:}      &   overallScore   & \\textbf{  R-squared:         } &     0.561   \\\\\n",
       "\\textbf{Model:}              &       OLS        & \\textbf{  Adj. R-squared:    } &     0.555   \\\\\n",
       "\\textbf{Method:}             &  Least Squares   & \\textbf{  F-statistic:       } &     108.3   \\\\\n",
       "\\textbf{Date:}               & Mon, 24 Jul 2023 & \\textbf{  Prob (F-statistic):} & 2.67e-271   \\\\\n",
       "\\textbf{Time:}               &     12:51:25     & \\textbf{  Log-Likelihood:    } &   -10941.   \\\\\n",
       "\\textbf{No. Observations:}   &        1633      & \\textbf{  AIC:               } & 2.192e+04   \\\\\n",
       "\\textbf{Df Residuals:}       &        1613      & \\textbf{  BIC:               } & 2.203e+04   \\\\\n",
       "\\textbf{Df Model:}           &          19      & \\textbf{                     } &             \\\\\n",
       "\\textbf{Covariance Type:}    &    nonrobust     & \\textbf{                     } &             \\\\\n",
       "\\bottomrule\n",
       "\\end{tabular}\n",
       "\\begin{tabular}{lcccccc}\n",
       "                             & \\textbf{coef} & \\textbf{std err} & \\textbf{t} & \\textbf{P$> |$t$|$} & \\textbf{[0.025} & \\textbf{0.975]}  \\\\\n",
       "\\midrule\n",
       "\\textbf{const}               &     635.5002  &      733.175     &     0.867  &         0.386        &     -802.575    &     2073.576     \\\\\n",
       "\\textbf{competitorId}        &   -4.797e-06  &     1.89e-05     &    -0.254  &         0.799        &    -4.18e-05    &     3.22e-05     \\\\\n",
       "\\textbf{genderId}            &      33.9727  &       20.760     &     1.636  &         0.102        &       -6.746    &       74.692     \\\\\n",
       "\\textbf{age}                 &      -6.4984  &        1.150     &    -5.652  &         0.000        &       -8.754    &       -4.243     \\\\\n",
       "\\textbf{ageNull}             &     -12.4838  &       49.900     &    -0.250  &         0.802        &     -110.360    &       85.392     \\\\\n",
       "\\textbf{height}              &      -0.8447  &        4.267     &    -0.198  &         0.843        &       -9.215    &        7.525     \\\\\n",
       "\\textbf{heightNull}          &      20.2601  &       66.958     &     0.303  &         0.762        &     -111.074    &      151.594     \\\\\n",
       "\\textbf{weight}              &       2.3172  &        4.648     &     0.498  &         0.618        &       -6.801    &       11.435     \\\\\n",
       "\\textbf{weightNull}          &      -5.9811  &       56.090     &    -0.107  &         0.915        &     -115.998    &      104.036     \\\\\n",
       "\\textbf{bmi}                 &      -6.9725  &       13.600     &    -0.513  &         0.608        &      -33.649    &       19.704     \\\\\n",
       "\\textbf{bmiNull}             &     -28.2535  &       84.689     &    -0.334  &         0.739        &     -194.365    &      137.858     \\\\\n",
       "\\textbf{affiliateId}         &      -0.0033  &        0.001     &    -3.523  &         0.000        &       -0.005    &       -0.001     \\\\\n",
       "\\textbf{countryOfOriginCode} &      -1.1035  &        0.383     &    -2.879  &         0.004        &       -1.855    &       -0.352     \\\\\n",
       "\\textbf{regionId}            &      -1.8291  &        2.971     &    -0.616  &         0.538        &       -7.657    &        3.999     \\\\\n",
       "\\textbf{statusId}            &     -53.4749  &        3.776     &   -14.162  &         0.000        &      -60.881    &      -46.068     \\\\\n",
       "\\textbf{openCompetitor}      &     157.2588  &       31.475     &     4.996  &         0.000        &       95.523    &      218.994     \\\\\n",
       "\\textbf{openRank}            &      -0.0728  &        0.055     &    -1.324  &         0.186        &       -0.181    &        0.035     \\\\\n",
       "\\textbf{openScore}           &      -0.0151  &        0.009     &    -1.678  &         0.094        &       -0.033    &        0.003     \\\\\n",
       "\\textbf{gamesCompetitions}   &      55.7323  &        4.630     &    12.037  &         0.000        &       46.651    &       64.814     \\\\\n",
       "\\textbf{openCompetitions}    &     -12.0718  &        4.092     &    -2.950  &         0.003        &      -20.099    &       -4.045     \\\\\n",
       "\\bottomrule\n",
       "\\end{tabular}\n",
       "\\begin{tabular}{lclc}\n",
       "\\textbf{Omnibus:}       & 40.854 & \\textbf{  Durbin-Watson:     } &    1.647  \\\\\n",
       "\\textbf{Prob(Omnibus):} &  0.000 & \\textbf{  Jarque-Bera (JB):  } &   87.810  \\\\\n",
       "\\textbf{Skew:}          & -0.084 & \\textbf{  Prob(JB):          } & 8.55e-20  \\\\\n",
       "\\textbf{Kurtosis:}      &  4.124 & \\textbf{  Cond. No.          } & 9.68e+07  \\\\\n",
       "\\bottomrule\n",
       "\\end{tabular}\n",
       "%\\caption{OLS Regression Results}\n",
       "\\end{center}\n",
       "\n",
       "Notes: \\newline\n",
       " [1] Standard Errors assume that the covariance matrix of the errors is correctly specified. \\newline\n",
       " [2] The condition number is large, 9.68e+07. This might indicate that there are \\newline\n",
       " strong multicollinearity or other numerical problems."
      ],
      "text/plain": [
       "<class 'statsmodels.iolib.summary.Summary'>\n",
       "\"\"\"\n",
       "                            OLS Regression Results                            \n",
       "==============================================================================\n",
       "Dep. Variable:           overallScore   R-squared:                       0.561\n",
       "Model:                            OLS   Adj. R-squared:                  0.555\n",
       "Method:                 Least Squares   F-statistic:                     108.3\n",
       "Date:                Mon, 24 Jul 2023   Prob (F-statistic):          2.67e-271\n",
       "Time:                        12:51:25   Log-Likelihood:                -10941.\n",
       "No. Observations:                1633   AIC:                         2.192e+04\n",
       "Df Residuals:                    1613   BIC:                         2.203e+04\n",
       "Df Model:                          19                                         \n",
       "Covariance Type:            nonrobust                                         \n",
       "=======================================================================================\n",
       "                          coef    std err          t      P>|t|      [0.025      0.975]\n",
       "---------------------------------------------------------------------------------------\n",
       "const                 635.5002    733.175      0.867      0.386    -802.575    2073.576\n",
       "competitorId        -4.797e-06   1.89e-05     -0.254      0.799   -4.18e-05    3.22e-05\n",
       "genderId               33.9727     20.760      1.636      0.102      -6.746      74.692\n",
       "age                    -6.4984      1.150     -5.652      0.000      -8.754      -4.243\n",
       "ageNull               -12.4838     49.900     -0.250      0.802    -110.360      85.392\n",
       "height                 -0.8447      4.267     -0.198      0.843      -9.215       7.525\n",
       "heightNull             20.2601     66.958      0.303      0.762    -111.074     151.594\n",
       "weight                  2.3172      4.648      0.498      0.618      -6.801      11.435\n",
       "weightNull             -5.9811     56.090     -0.107      0.915    -115.998     104.036\n",
       "bmi                    -6.9725     13.600     -0.513      0.608     -33.649      19.704\n",
       "bmiNull               -28.2535     84.689     -0.334      0.739    -194.365     137.858\n",
       "affiliateId            -0.0033      0.001     -3.523      0.000      -0.005      -0.001\n",
       "countryOfOriginCode    -1.1035      0.383     -2.879      0.004      -1.855      -0.352\n",
       "regionId               -1.8291      2.971     -0.616      0.538      -7.657       3.999\n",
       "statusId              -53.4749      3.776    -14.162      0.000     -60.881     -46.068\n",
       "openCompetitor        157.2588     31.475      4.996      0.000      95.523     218.994\n",
       "openRank               -0.0728      0.055     -1.324      0.186      -0.181       0.035\n",
       "openScore              -0.0151      0.009     -1.678      0.094      -0.033       0.003\n",
       "gamesCompetitions      55.7323      4.630     12.037      0.000      46.651      64.814\n",
       "openCompetitions      -12.0718      4.092     -2.950      0.003     -20.099      -4.045\n",
       "==============================================================================\n",
       "Omnibus:                       40.854   Durbin-Watson:                   1.647\n",
       "Prob(Omnibus):                  0.000   Jarque-Bera (JB):               87.810\n",
       "Skew:                          -0.084   Prob(JB):                     8.55e-20\n",
       "Kurtosis:                       4.124   Cond. No.                     9.68e+07\n",
       "==============================================================================\n",
       "\n",
       "Notes:\n",
       "[1] Standard Errors assume that the covariance matrix of the errors is correctly specified.\n",
       "[2] The condition number is large, 9.68e+07. This might indicate that there are\n",
       "strong multicollinearity or other numerical problems.\n",
       "\"\"\""
      ]
     },
     "execution_count": 13,
     "metadata": {},
     "output_type": "execute_result"
    }
   ],
   "source": [
    "X_sm = sm.add_constant(X)\n",
    "model = sm.OLS(y,X_sm)\n",
    "model.fit().summary()"
   ]
  },
  {
   "cell_type": "markdown",
   "metadata": {},
   "source": [
    "##### Linear regression"
   ]
  },
  {
   "cell_type": "code",
   "execution_count": 14,
   "metadata": {},
   "outputs": [
    {
     "data": {
      "text/plain": [
       "155.09281619674599"
      ]
     },
     "execution_count": 14,
     "metadata": {},
     "output_type": "execute_result"
    }
   ],
   "source": [
    "linear_regression_model = LinearRegression()\n",
    "linear_regression_model.fit(train_X, train_y)\n",
    "linear_regression_predictions = linear_regression_model.predict(val_X)\n",
    "mean_absolute_error(val_y, linear_regression_predictions)"
   ]
  },
  {
   "cell_type": "code",
   "execution_count": 15,
   "metadata": {},
   "outputs": [
    {
     "data": {
      "text/plain": [
       "1.0821806429928304e+17"
      ]
     },
     "execution_count": 15,
     "metadata": {},
     "output_type": "execute_result"
    }
   ],
   "source": [
    "mean_absolute_percentage_error(val_y, linear_regression_predictions)"
   ]
  },
  {
   "cell_type": "code",
   "execution_count": 16,
   "metadata": {},
   "outputs": [
    {
     "data": {
      "text/plain": [
       "-150.3081739192815"
      ]
     },
     "execution_count": 16,
     "metadata": {},
     "output_type": "execute_result"
    }
   ],
   "source": [
    "np.mean(cross_val_score(linear_regression_model, train_X, train_y, scoring='neg_mean_absolute_error', cv=3))"
   ]
  },
  {
   "cell_type": "markdown",
   "metadata": {},
   "source": [
    "##### Lasso regression"
   ]
  },
  {
   "cell_type": "code",
   "execution_count": 17,
   "metadata": {},
   "outputs": [
    {
     "data": {
      "text/plain": [
       "153.80783682763632"
      ]
     },
     "execution_count": 17,
     "metadata": {},
     "output_type": "execute_result"
    }
   ],
   "source": [
    "lasso_regression_model = Lasso(max_iter=10000)\n",
    "lasso_regression_model.fit(train_X, train_y)\n",
    "lasso_regression_predictions = lasso_regression_model.predict(val_X)\n",
    "mean_absolute_error(val_y, lasso_regression_predictions)"
   ]
  },
  {
   "cell_type": "code",
   "execution_count": 18,
   "metadata": {},
   "outputs": [
    {
     "data": {
      "text/plain": [
       "1.0840246860438851e+17"
      ]
     },
     "execution_count": 18,
     "metadata": {},
     "output_type": "execute_result"
    }
   ],
   "source": [
    "mean_absolute_percentage_error(val_y, lasso_regression_predictions)"
   ]
  },
  {
   "cell_type": "code",
   "execution_count": 19,
   "metadata": {},
   "outputs": [
    {
     "data": {
      "text/plain": [
       "-149.89903440022326"
      ]
     },
     "execution_count": 19,
     "metadata": {},
     "output_type": "execute_result"
    }
   ],
   "source": [
    "np.mean(cross_val_score(lasso_regression_model, train_X, train_y, scoring='neg_mean_absolute_error', cv=3))"
   ]
  },
  {
   "cell_type": "code",
   "execution_count": 20,
   "metadata": {},
   "outputs": [
    {
     "data": {
      "text/plain": [
       "[<matplotlib.lines.Line2D at 0x1bba4c0f850>]"
      ]
     },
     "execution_count": 20,
     "metadata": {},
     "output_type": "execute_result"
    },
    {
     "data": {
      "image/png": "[encoded data removed]",
      "text/plain": [
       "<Figure size 640x480 with 1 Axes>"
      ]
     },
     "metadata": {},
     "output_type": "display_data"
    }
   ],
   "source": [
    "alpha = []\n",
    "error = []\n",
    "for i in range (1, 100):\n",
    "    alpha.append(i/100)\n",
    "    model = Lasso(alpha=(i/100), max_iter=10000)\n",
    "    error.append(np.mean(cross_val_score(model, train_X, train_y, scoring='neg_mean_absolute_error', cv=3)))\n",
    "plt.plot(alpha, error)"
   ]
  },
  {
   "cell_type": "code",
   "execution_count": 21,
   "metadata": {},
   "outputs": [
    {
     "data": {
      "text/html": [
       "<div>\n",
       "<style scoped>\n",
       "    .dataframe tbody tr th:only-of-type {\n",
       "        vertical-align: middle;\n",
       "    }\n",
       "\n",
       "    .dataframe tbody tr th {\n",
       "        vertical-align: top;\n",
       "    }\n",
       "\n",
       "    .dataframe thead th {\n",
       "        text-align: right;\n",
       "    }\n",
       "</style>\n",
       "<table border=\"1\" class=\"dataframe\">\n",
       "  <thead>\n",
       "    <tr style=\"text-align: right;\">\n",
       "      <th></th>\n",
       "      <th>alpha</th>\n",
       "      <th>error</th>\n",
       "    </tr>\n",
       "  </thead>\n",
       "  <tbody>\n",
       "    <tr>\n",
       "      <th>44</th>\n",
       "      <td>0.45</td>\n",
       "      <td>-149.813875</td>\n",
       "    </tr>\n",
       "  </tbody>\n",
       "</table>\n",
       "</div>"
      ],
      "text/plain": [
       "    alpha       error\n",
       "44   0.45 -149.813875"
      ]
     },
     "execution_count": 21,
     "metadata": {},
     "output_type": "execute_result"
    }
   ],
   "source": [
    "err = tuple(zip(alpha, error))\n",
    "df_err = pd.DataFrame(err,columns=['alpha', 'error'])\n",
    "df_err[df_err.error == max(df_err.error)]"
   ]
  },
  {
   "cell_type": "markdown",
   "metadata": {},
   "source": [
    "### Non-linear regressions"
   ]
  },
  {
   "cell_type": "markdown",
   "metadata": {},
   "source": [
    "##### Decision tree"
   ]
  },
  {
   "cell_type": "code",
   "execution_count": 22,
   "metadata": {},
   "outputs": [
    {
     "data": {
      "text/plain": [
       "142.58409785932722"
      ]
     },
     "execution_count": 22,
     "metadata": {},
     "output_type": "execute_result"
    }
   ],
   "source": [
    "decision_tree_model = DecisionTreeRegressor(random_state=1)\n",
    "decision_tree_model.fit(train_X, train_y)\n",
    "decision_tree_predictions = decision_tree_model.predict(val_X)\n",
    "mean_absolute_error(val_y, decision_tree_predictions)"
   ]
  },
  {
   "cell_type": "code",
   "execution_count": 23,
   "metadata": {},
   "outputs": [
    {
     "data": {
      "text/plain": [
       "4.218509375729611e+16"
      ]
     },
     "execution_count": 23,
     "metadata": {},
     "output_type": "execute_result"
    }
   ],
   "source": [
    "mean_absolute_percentage_error(val_y, decision_tree_predictions)"
   ]
  },
  {
   "cell_type": "code",
   "execution_count": 24,
   "metadata": {},
   "outputs": [
    {
     "data": {
      "text/plain": [
       "-135.08946184400153"
      ]
     },
     "execution_count": 24,
     "metadata": {},
     "output_type": "execute_result"
    }
   ],
   "source": [
    "np.mean(cross_val_score(decision_tree_model, train_X, train_y, scoring='neg_mean_absolute_error', cv=3))"
   ]
  },
  {
   "cell_type": "code",
   "execution_count": 25,
   "metadata": {},
   "outputs": [
    {
     "name": "stdout",
     "output_type": "stream",
     "text": [
      "Max leaf nodes: 5  \t\t Mean Absolute Error:  120\n",
      "Max leaf nodes: 10  \t\t Mean Absolute Error:  112\n",
      "Max leaf nodes: 15  \t\t Mean Absolute Error:  114\n",
      "Max leaf nodes: 20  \t\t Mean Absolute Error:  111\n",
      "Max leaf nodes: 25  \t\t Mean Absolute Error:  114\n",
      "Max leaf nodes: 30  \t\t Mean Absolute Error:  113\n",
      "Max leaf nodes: 35  \t\t Mean Absolute Error:  114\n",
      "Max leaf nodes: 40  \t\t Mean Absolute Error:  111\n",
      "Max leaf nodes: 45  \t\t Mean Absolute Error:  112\n",
      "Max leaf nodes: 50  \t\t Mean Absolute Error:  114\n",
      "Max leaf nodes: 55  \t\t Mean Absolute Error:  117\n",
      "Max leaf nodes: 60  \t\t Mean Absolute Error:  118\n",
      "Max leaf nodes: 65  \t\t Mean Absolute Error:  118\n",
      "Max leaf nodes: 70  \t\t Mean Absolute Error:  118\n",
      "Max leaf nodes: 75  \t\t Mean Absolute Error:  118\n",
      "Max leaf nodes: 80  \t\t Mean Absolute Error:  117\n",
      "Max leaf nodes: 85  \t\t Mean Absolute Error:  117\n",
      "Max leaf nodes: 90  \t\t Mean Absolute Error:  117\n",
      "Max leaf nodes: 95  \t\t Mean Absolute Error:  121\n"
     ]
    }
   ],
   "source": [
    "def get_mae(max_leaf_nodes, train_X, val_X, train_y, val_y):\n",
    "    model = DecisionTreeRegressor(max_leaf_nodes=max_leaf_nodes, random_state=0)\n",
    "    model.fit(train_X, train_y)\n",
    "    preds_val = model.predict(val_X)\n",
    "    mae = mean_absolute_error(val_y, preds_val)\n",
    "    return(mae)\n",
    "\n",
    "for max_leaf_nodes in range(5, 100, 5):\n",
    "    my_mae = get_mae(max_leaf_nodes, train_X, val_X, train_y, val_y)\n",
    "    print(\"Max leaf nodes: %d  \\t\\t Mean Absolute Error:  %d\" %(max_leaf_nodes, my_mae))"
   ]
  },
  {
   "cell_type": "code",
   "execution_count": 26,
   "metadata": {},
   "outputs": [
    {
     "data": {
      "text/plain": [
       "20"
      ]
     },
     "execution_count": 26,
     "metadata": {},
     "output_type": "execute_result"
    }
   ],
   "source": [
    "scores = {max_leaf_nodes: get_mae(max_leaf_nodes, train_X, val_X, train_y, val_y) for max_leaf_nodes in range(5, 100, 1)}\n",
    "best_tree_size = min(scores, key=scores.get)\n",
    "best_tree_size"
   ]
  },
  {
   "cell_type": "markdown",
   "metadata": {},
   "source": [
    "##### Random forest"
   ]
  },
  {
   "cell_type": "code",
   "execution_count": 27,
   "metadata": {},
   "outputs": [
    {
     "data": {
      "text/plain": [
       "102.35018348623854"
      ]
     },
     "execution_count": 27,
     "metadata": {},
     "output_type": "execute_result"
    }
   ],
   "source": [
    "random_forest_model = RandomForestRegressor(random_state=1)\n",
    "random_forest_model.fit(train_X, train_y)\n",
    "random_forest_predictions = random_forest_model.predict(val_X)\n",
    "mean_absolute_error(val_y, random_forest_predictions)"
   ]
  },
  {
   "cell_type": "code",
   "execution_count": 28,
   "metadata": {},
   "outputs": [
    {
     "data": {
      "text/plain": [
       "4.888554101941238e+16"
      ]
     },
     "execution_count": 28,
     "metadata": {},
     "output_type": "execute_result"
    }
   ],
   "source": [
    "mean_absolute_percentage_error(val_y, random_forest_predictions)"
   ]
  },
  {
   "cell_type": "code",
   "execution_count": 29,
   "metadata": {},
   "outputs": [
    {
     "data": {
      "text/plain": [
       "-104.80658176034306"
      ]
     },
     "execution_count": 29,
     "metadata": {},
     "output_type": "execute_result"
    }
   ],
   "source": [
    "np.mean(cross_val_score(random_forest_model, train_X, train_y, scoring='neg_mean_absolute_error', cv=3))"
   ]
  },
  {
   "cell_type": "code",
   "execution_count": 30,
   "metadata": {},
   "outputs": [
    {
     "name": "stdout",
     "output_type": "stream",
     "text": [
      "Model 1 MAE: 101\n",
      "Model 2 MAE: 100\n",
      "Model 3 MAE: 102\n"
     ]
    }
   ],
   "source": [
    "model_1 = RandomForestRegressor(n_estimators=100, criterion='absolute_error', random_state=1)\n",
    "model_2 = RandomForestRegressor(n_estimators=200, min_samples_split=20, random_state=1)\n",
    "model_3 = RandomForestRegressor(n_estimators=100, max_depth=7, random_state=1)\n",
    "models = [model_1, model_2, model_3]\n",
    "\n",
    "def score_model(model, X_t, X_v, y_t, y_v):\n",
    "    model.fit(X_t, y_t)\n",
    "    prediction = model.predict(X_v)\n",
    "    return mean_absolute_error(y_v, prediction)\n",
    "\n",
    "for i in range(0, len(models)):\n",
    "    mae = score_model(models[i], train_X, val_X, train_y, val_y)\n",
    "    print(\"Model %d MAE: %d\" % (i+1, mae))"
   ]
  },
  {
   "cell_type": "code",
   "execution_count": 31,
   "metadata": {},
   "outputs": [
    {
     "data": {
      "image/png": "[encoded data removed]",
      "text/plain": [
       "<Figure size 640x480 with 1 Axes>"
      ]
     },
     "metadata": {},
     "output_type": "display_data"
    }
   ],
   "source": [
    "def get_score(n_estimators):\n",
    "    my_pipeline = Pipeline(steps=[\n",
    "        ('model', RandomForestRegressor(n_estimators, random_state=1))])\n",
    "    scores = -1 * cross_val_score(my_pipeline, X, y, cv=3, scoring='neg_mean_absolute_error')\n",
    "    return scores.mean()\n",
    "\n",
    "results = {}\n",
    "for i in range (1,9):\n",
    "    results[50*i] = get_score(50*i)\n",
    "\n",
    "plt.plot(list(results.keys()), list(results.values()))\n",
    "plt.show()"
   ]
  },
  {
   "cell_type": "code",
   "execution_count": 32,
   "metadata": {},
   "outputs": [
    {
     "data": {
      "text/plain": [
       "50"
      ]
     },
     "execution_count": 32,
     "metadata": {},
     "output_type": "execute_result"
    }
   ],
   "source": [
    "n_estimators_best = min(results, key=results.get)\n",
    "n_estimators_best"
   ]
  },
  {
   "cell_type": "code",
   "execution_count": 33,
   "metadata": {},
   "outputs": [
    {
     "name": "stderr",
     "output_type": "stream",
     "text": [
      "C:\\Users\\Zi\\AppData\\Local\\Packages\\PythonSoftwareFoundation.Python.3.11_qbz5n2kfra8p0\\LocalCache\\local-packages\\Python311\\site-packages\\sklearn\\model_selection\\_validation.py:425: FitFailedWarning: \n",
      "174 fits failed out of a total of 522.\n",
      "The score on these train-test partitions for these parameters will be set to nan.\n",
      "If these failures are not expected, you can try to debug them by setting error_score='raise'.\n",
      "\n",
      "Below are more details about the failures:\n",
      "--------------------------------------------------------------------------------\n",
      "174 fits failed with the following error:\n",
      "Traceback (most recent call last):\n",
      "  File \"C:\\Users\\Zi\\AppData\\Local\\Packages\\PythonSoftwareFoundation.Python.3.11_qbz5n2kfra8p0\\LocalCache\\local-packages\\Python311\\site-packages\\sklearn\\model_selection\\_validation.py\", line 732, in _fit_and_score\n",
      "    estimator.fit(X_train, y_train, **fit_params)\n",
      "  File \"C:\\Users\\Zi\\AppData\\Local\\Packages\\PythonSoftwareFoundation.Python.3.11_qbz5n2kfra8p0\\LocalCache\\local-packages\\Python311\\site-packages\\sklearn\\base.py\", line 1144, in wrapper\n",
      "    estimator._validate_params()\n",
      "  File \"C:\\Users\\Zi\\AppData\\Local\\Packages\\PythonSoftwareFoundation.Python.3.11_qbz5n2kfra8p0\\LocalCache\\local-packages\\Python311\\site-packages\\sklearn\\base.py\", line 637, in _validate_params\n",
      "    validate_parameter_constraints(\n",
      "  File \"C:\\Users\\Zi\\AppData\\Local\\Packages\\PythonSoftwareFoundation.Python.3.11_qbz5n2kfra8p0\\LocalCache\\local-packages\\Python311\\site-packages\\sklearn\\utils\\_param_validation.py\", line 95, in validate_parameter_constraints\n",
      "    raise InvalidParameterError(\n",
      "sklearn.utils._param_validation.InvalidParameterError: The 'max_features' parameter of RandomForestRegressor must be an int in the range [1, inf), a float in the range (0.0, 1.0], a str among {'log2', 'sqrt'} or None. Got 'auto' instead.\n",
      "\n",
      "  warnings.warn(some_fits_failed_message, FitFailedWarning)\n",
      "C:\\Users\\Zi\\AppData\\Local\\Packages\\PythonSoftwareFoundation.Python.3.11_qbz5n2kfra8p0\\LocalCache\\local-packages\\Python311\\site-packages\\sklearn\\model_selection\\_search.py:976: UserWarning: One or more of the test scores are non-finite: [          nan           nan           nan           nan           nan\n",
      "           nan           nan           nan           nan           nan\n",
      "           nan           nan           nan           nan           nan\n",
      "           nan           nan           nan           nan           nan\n",
      "           nan           nan           nan           nan           nan\n",
      "           nan           nan           nan           nan -113.19639847\n",
      " -109.64425463 -109.20533223 -109.43479037 -109.59515744 -109.35591245\n",
      " -109.58995654 -109.57818489 -109.55463961 -109.74540386 -109.65254649\n",
      " -109.63541785 -109.48845821 -109.43239745 -109.30461313 -109.42589762\n",
      " -109.35589605 -109.26608093 -109.1691306  -109.10222102 -109.06207732\n",
      " -109.01253132 -108.96991364 -109.09900323 -109.03638605 -109.03009293\n",
      " -108.9063951  -108.922945   -108.81968281 -113.19639847 -109.64425463\n",
      " -109.20533223 -109.43479037 -109.59515744 -109.35591245 -109.58995654\n",
      " -109.57818489 -109.55463961 -109.74540386 -109.65254649 -109.63541785\n",
      " -109.48845821 -109.43239745 -109.30461313 -109.42589762 -109.35589605\n",
      " -109.26608093 -109.1691306  -109.10222102 -109.06207732 -109.01253132\n",
      " -108.96991364 -109.09900323 -109.03638605 -109.03009293 -108.9063951\n",
      " -108.922945   -108.81968281           nan           nan           nan\n",
      "           nan           nan           nan           nan           nan\n",
      "           nan           nan           nan           nan           nan\n",
      "           nan           nan           nan           nan           nan\n",
      "           nan           nan           nan           nan           nan\n",
      "           nan           nan           nan           nan           nan\n",
      "           nan -117.18747636 -111.21076483 -109.94633584 -109.56795562\n",
      " -109.87084987 -108.98755147 -109.52993767 -109.4742027  -109.87332962\n",
      " -110.00052838 -109.72861046 -109.53891969 -109.2604069  -109.02488065\n",
      " -108.78298097 -109.04150117 -108.86257132 -108.75321576 -108.72924629\n",
      " -108.84001927 -108.65740936 -108.71582566 -108.67656223 -108.62540507\n",
      " -108.49817904 -108.54681187 -108.52155908 -108.55977627 -108.48524202\n",
      " -117.18747636 -111.21076483 -109.94633584 -109.56795562 -109.87084987\n",
      " -108.98755147 -109.52993767 -109.4742027  -109.87332962 -110.00052838\n",
      " -109.72861046 -109.53891969 -109.2604069  -109.02488065 -108.78298097\n",
      " -109.04150117 -108.86257132 -108.75321576 -108.72924629 -108.84001927\n",
      " -108.65740936 -108.71582566 -108.67656223 -108.62540507 -108.49817904\n",
      " -108.54681187 -108.52155908 -108.55977627 -108.48524202]\n",
      "  warnings.warn(\n"
     ]
    },
    {
     "data": {
      "text/html": [
       "<style>#sk-container-id-1 {color: black;}#sk-container-id-1 pre{padding: 0;}#sk-container-id-1 div.sk-toggleable {background-color: white;}#sk-container-id-1 label.sk-toggleable__label {cursor: pointer;display: block;width: 100%;margin-bottom: 0;padding: 0.3em;box-sizing: border-box;text-align: center;}#sk-container-id-1 label.sk-toggleable__label-arrow:before {content: \"▸\";float: left;margin-right: 0.25em;color: #696969;}#sk-container-id-1 label.sk-toggleable__label-arrow:hover:before {color: black;}#sk-container-id-1 div.sk-estimator:hover label.sk-toggleable__label-arrow:before {color: black;}#sk-container-id-1 div.sk-toggleable__content {max-height: 0;max-width: 0;overflow: hidden;text-align: left;background-color: #f0f8ff;}#sk-container-id-1 div.sk-toggleable__content pre {margin: 0.2em;color: black;border-radius: 0.25em;background-color: #f0f8ff;}#sk-container-id-1 input.sk-toggleable__control:checked~div.sk-toggleable__content {max-height: 200px;max-width: 100%;overflow: auto;}#sk-container-id-1 input.sk-toggleable__control:checked~label.sk-toggleable__label-arrow:before {content: \"▾\";}#sk-container-id-1 div.sk-estimator input.sk-toggleable__control:checked~label.sk-toggleable__label {background-color: #d4ebff;}#sk-container-id-1 div.sk-label input.sk-toggleable__control:checked~label.sk-toggleable__label {background-color: #d4ebff;}#sk-container-id-1 input.sk-hidden--visually {border: 0;clip: rect(1px 1px 1px 1px);clip: rect(1px, 1px, 1px, 1px);height: 1px;margin: -1px;overflow: hidden;padding: 0;position: absolute;width: 1px;}#sk-container-id-1 div.sk-estimator {font-family: monospace;background-color: #f0f8ff;border: 1px dotted black;border-radius: 0.25em;box-sizing: border-box;margin-bottom: 0.5em;}#sk-container-id-1 div.sk-estimator:hover {background-color: #d4ebff;}#sk-container-id-1 div.sk-parallel-item::after {content: \"\";width: 100%;border-bottom: 1px solid gray;flex-grow: 1;}#sk-container-id-1 div.sk-label:hover label.sk-toggleable__label {background-color: #d4ebff;}#sk-container-id-1 div.sk-serial::before {content: \"\";position: absolute;border-left: 1px solid gray;box-sizing: border-box;top: 0;bottom: 0;left: 50%;z-index: 0;}#sk-container-id-1 div.sk-serial {display: flex;flex-direction: column;align-items: center;background-color: white;padding-right: 0.2em;padding-left: 0.2em;position: relative;}#sk-container-id-1 div.sk-item {position: relative;z-index: 1;}#sk-container-id-1 div.sk-parallel {display: flex;align-items: stretch;justify-content: center;background-color: white;position: relative;}#sk-container-id-1 div.sk-item::before, #sk-container-id-1 div.sk-parallel-item::before {content: \"\";position: absolute;border-left: 1px solid gray;box-sizing: border-box;top: 0;bottom: 0;left: 50%;z-index: -1;}#sk-container-id-1 div.sk-parallel-item {display: flex;flex-direction: column;z-index: 1;position: relative;background-color: white;}#sk-container-id-1 div.sk-parallel-item:first-child::after {align-self: flex-end;width: 50%;}#sk-container-id-1 div.sk-parallel-item:last-child::after {align-self: flex-start;width: 50%;}#sk-container-id-1 div.sk-parallel-item:only-child::after {width: 0;}#sk-container-id-1 div.sk-dashed-wrapped {border: 1px dashed gray;margin: 0 0.4em 0.5em 0.4em;box-sizing: border-box;padding-bottom: 0.4em;background-color: white;}#sk-container-id-1 div.sk-label label {font-family: monospace;font-weight: bold;display: inline-block;line-height: 1.2em;}#sk-container-id-1 div.sk-label-container {text-align: center;}#sk-container-id-1 div.sk-container {/* jupyter's `normalize.less` sets `[hidden] { display: none; }` but bootstrap.min.css set `[hidden] { display: none !important; }` so we also need the `!important` here to be able to override the default hidden behavior on the sphinx rendered scikit-learn.org. See: https://github.com/scikit-learn/scikit-learn/issues/21755 */display: inline-block !important;position: relative;}#sk-container-id-1 div.sk-text-repr-fallback {display: none;}</style><div id=\"sk-container-id-1\" class=\"sk-top-container\"><div class=\"sk-text-repr-fallback\"><pre>GridSearchCV(cv=3, estimator=RandomForestRegressor(random_state=1),\n",
       "             param_grid={&#x27;criterion&#x27;: (&#x27;squared_error&#x27;, &#x27;absolute_error&#x27;),\n",
       "                         &#x27;max_features&#x27;: (&#x27;auto&#x27;, &#x27;sqrt&#x27;, &#x27;log2&#x27;),\n",
       "                         &#x27;n_estimators&#x27;: range(10, 300, 10)},\n",
       "             scoring=&#x27;neg_mean_absolute_error&#x27;)</pre><b>In a Jupyter environment, please rerun this cell to show the HTML representation or trust the notebook. <br />On GitHub, the HTML representation is unable to render, please try loading this page with nbviewer.org.</b></div><div class=\"sk-container\" hidden><div class=\"sk-item sk-dashed-wrapped\"><div class=\"sk-label-container\"><div class=\"sk-label sk-toggleable\"><input class=\"sk-toggleable__control sk-hidden--visually\" id=\"sk-estimator-id-1\" type=\"checkbox\" ><label for=\"sk-estimator-id-1\" class=\"sk-toggleable__label sk-toggleable__label-arrow\">GridSearchCV</label><div class=\"sk-toggleable__content\"><pre>GridSearchCV(cv=3, estimator=RandomForestRegressor(random_state=1),\n",
       "             param_grid={&#x27;criterion&#x27;: (&#x27;squared_error&#x27;, &#x27;absolute_error&#x27;),\n",
       "                         &#x27;max_features&#x27;: (&#x27;auto&#x27;, &#x27;sqrt&#x27;, &#x27;log2&#x27;),\n",
       "                         &#x27;n_estimators&#x27;: range(10, 300, 10)},\n",
       "             scoring=&#x27;neg_mean_absolute_error&#x27;)</pre></div></div></div><div class=\"sk-parallel\"><div class=\"sk-parallel-item\"><div class=\"sk-item\"><div class=\"sk-label-container\"><div class=\"sk-label sk-toggleable\"><input class=\"sk-toggleable__control sk-hidden--visually\" id=\"sk-estimator-id-2\" type=\"checkbox\" ><label for=\"sk-estimator-id-2\" class=\"sk-toggleable__label sk-toggleable__label-arrow\">estimator: RandomForestRegressor</label><div class=\"sk-toggleable__content\"><pre>RandomForestRegressor(random_state=1)</pre></div></div></div><div class=\"sk-serial\"><div class=\"sk-item\"><div class=\"sk-estimator sk-toggleable\"><input class=\"sk-toggleable__control sk-hidden--visually\" id=\"sk-estimator-id-3\" type=\"checkbox\" ><label for=\"sk-estimator-id-3\" class=\"sk-toggleable__label sk-toggleable__label-arrow\">RandomForestRegressor</label><div class=\"sk-toggleable__content\"><pre>RandomForestRegressor(random_state=1)</pre></div></div></div></div></div></div></div></div></div></div>"
      ],
      "text/plain": [
       "GridSearchCV(cv=3, estimator=RandomForestRegressor(random_state=1),\n",
       "             param_grid={'criterion': ('squared_error', 'absolute_error'),\n",
       "                         'max_features': ('auto', 'sqrt', 'log2'),\n",
       "                         'n_estimators': range(10, 300, 10)},\n",
       "             scoring='neg_mean_absolute_error')"
      ]
     },
     "execution_count": 33,
     "metadata": {},
     "output_type": "execute_result"
    }
   ],
   "source": [
    "parameters = {'n_estimators':range(10,300,10),\n",
    "              'criterion':('squared_error','absolute_error'),\n",
    "              'max_features':('auto','sqrt','log2')}\n",
    "grid_search_model = GridSearchCV(random_forest_model, parameters, scoring='neg_mean_absolute_error', cv=3)\n",
    "grid_search_model.fit(train_X,train_y)"
   ]
  },
  {
   "cell_type": "code",
   "execution_count": 34,
   "metadata": {},
   "outputs": [
    {
     "data": {
      "text/plain": [
       "-108.48524201808196"
      ]
     },
     "execution_count": 34,
     "metadata": {},
     "output_type": "execute_result"
    }
   ],
   "source": [
    "grid_search_model.best_score_"
   ]
  },
  {
   "cell_type": "code",
   "execution_count": 35,
   "metadata": {},
   "outputs": [
    {
     "data": {
      "text/html": [
       "<style>#sk-container-id-2 {color: black;}#sk-container-id-2 pre{padding: 0;}#sk-container-id-2 div.sk-toggleable {background-color: white;}#sk-container-id-2 label.sk-toggleable__label {cursor: pointer;display: block;width: 100%;margin-bottom: 0;padding: 0.3em;box-sizing: border-box;text-align: center;}#sk-container-id-2 label.sk-toggleable__label-arrow:before {content: \"▸\";float: left;margin-right: 0.25em;color: #696969;}#sk-container-id-2 label.sk-toggleable__label-arrow:hover:before {color: black;}#sk-container-id-2 div.sk-estimator:hover label.sk-toggleable__label-arrow:before {color: black;}#sk-container-id-2 div.sk-toggleable__content {max-height: 0;max-width: 0;overflow: hidden;text-align: left;background-color: #f0f8ff;}#sk-container-id-2 div.sk-toggleable__content pre {margin: 0.2em;color: black;border-radius: 0.25em;background-color: #f0f8ff;}#sk-container-id-2 input.sk-toggleable__control:checked~div.sk-toggleable__content {max-height: 200px;max-width: 100%;overflow: auto;}#sk-container-id-2 input.sk-toggleable__control:checked~label.sk-toggleable__label-arrow:before {content: \"▾\";}#sk-container-id-2 div.sk-estimator input.sk-toggleable__control:checked~label.sk-toggleable__label {background-color: #d4ebff;}#sk-container-id-2 div.sk-label input.sk-toggleable__control:checked~label.sk-toggleable__label {background-color: #d4ebff;}#sk-container-id-2 input.sk-hidden--visually {border: 0;clip: rect(1px 1px 1px 1px);clip: rect(1px, 1px, 1px, 1px);height: 1px;margin: -1px;overflow: hidden;padding: 0;position: absolute;width: 1px;}#sk-container-id-2 div.sk-estimator {font-family: monospace;background-color: #f0f8ff;border: 1px dotted black;border-radius: 0.25em;box-sizing: border-box;margin-bottom: 0.5em;}#sk-container-id-2 div.sk-estimator:hover {background-color: #d4ebff;}#sk-container-id-2 div.sk-parallel-item::after {content: \"\";width: 100%;border-bottom: 1px solid gray;flex-grow: 1;}#sk-container-id-2 div.sk-label:hover label.sk-toggleable__label {background-color: #d4ebff;}#sk-container-id-2 div.sk-serial::before {content: \"\";position: absolute;border-left: 1px solid gray;box-sizing: border-box;top: 0;bottom: 0;left: 50%;z-index: 0;}#sk-container-id-2 div.sk-serial {display: flex;flex-direction: column;align-items: center;background-color: white;padding-right: 0.2em;padding-left: 0.2em;position: relative;}#sk-container-id-2 div.sk-item {position: relative;z-index: 1;}#sk-container-id-2 div.sk-parallel {display: flex;align-items: stretch;justify-content: center;background-color: white;position: relative;}#sk-container-id-2 div.sk-item::before, #sk-container-id-2 div.sk-parallel-item::before {content: \"\";position: absolute;border-left: 1px solid gray;box-sizing: border-box;top: 0;bottom: 0;left: 50%;z-index: -1;}#sk-container-id-2 div.sk-parallel-item {display: flex;flex-direction: column;z-index: 1;position: relative;background-color: white;}#sk-container-id-2 div.sk-parallel-item:first-child::after {align-self: flex-end;width: 50%;}#sk-container-id-2 div.sk-parallel-item:last-child::after {align-self: flex-start;width: 50%;}#sk-container-id-2 div.sk-parallel-item:only-child::after {width: 0;}#sk-container-id-2 div.sk-dashed-wrapped {border: 1px dashed gray;margin: 0 0.4em 0.5em 0.4em;box-sizing: border-box;padding-bottom: 0.4em;background-color: white;}#sk-container-id-2 div.sk-label label {font-family: monospace;font-weight: bold;display: inline-block;line-height: 1.2em;}#sk-container-id-2 div.sk-label-container {text-align: center;}#sk-container-id-2 div.sk-container {/* jupyter's `normalize.less` sets `[hidden] { display: none; }` but bootstrap.min.css set `[hidden] { display: none !important; }` so we also need the `!important` here to be able to override the default hidden behavior on the sphinx rendered scikit-learn.org. See: https://github.com/scikit-learn/scikit-learn/issues/21755 */display: inline-block !important;position: relative;}#sk-container-id-2 div.sk-text-repr-fallback {display: none;}</style><div id=\"sk-container-id-2\" class=\"sk-top-container\"><div class=\"sk-text-repr-fallback\"><pre>RandomForestRegressor(criterion=&#x27;absolute_error&#x27;, max_features=&#x27;sqrt&#x27;,\n",
       "                      n_estimators=290, random_state=1)</pre><b>In a Jupyter environment, please rerun this cell to show the HTML representation or trust the notebook. <br />On GitHub, the HTML representation is unable to render, please try loading this page with nbviewer.org.</b></div><div class=\"sk-container\" hidden><div class=\"sk-item\"><div class=\"sk-estimator sk-toggleable\"><input class=\"sk-toggleable__control sk-hidden--visually\" id=\"sk-estimator-id-4\" type=\"checkbox\" checked><label for=\"sk-estimator-id-4\" class=\"sk-toggleable__label sk-toggleable__label-arrow\">RandomForestRegressor</label><div class=\"sk-toggleable__content\"><pre>RandomForestRegressor(criterion=&#x27;absolute_error&#x27;, max_features=&#x27;sqrt&#x27;,\n",
       "                      n_estimators=290, random_state=1)</pre></div></div></div></div></div>"
      ],
      "text/plain": [
       "RandomForestRegressor(criterion='absolute_error', max_features='sqrt',\n",
       "                      n_estimators=290, random_state=1)"
      ]
     },
     "execution_count": 35,
     "metadata": {},
     "output_type": "execute_result"
    }
   ],
   "source": [
    "grid_search_model.best_estimator_"
   ]
  },
  {
   "cell_type": "markdown",
   "metadata": {},
   "source": [
    "##### XGB Regressor"
   ]
  },
  {
   "cell_type": "code",
   "execution_count": 36,
   "metadata": {},
   "outputs": [
    {
     "data": {
      "text/plain": [
       "107.30719027506467"
      ]
     },
     "execution_count": 36,
     "metadata": {},
     "output_type": "execute_result"
    }
   ],
   "source": [
    "xgb_model = XGBRegressor(random_state=1)\n",
    "xgb_model.fit(train_X, train_y)\n",
    "xgb_predictions = xgb_model.predict(val_X)\n",
    "mean_absolute_error(val_y, xgb_predictions)"
   ]
  },
  {
   "cell_type": "code",
   "execution_count": 37,
   "metadata": {},
   "outputs": [
    {
     "data": {
      "text/plain": [
       "4.740738961469668e+16"
      ]
     },
     "execution_count": 37,
     "metadata": {},
     "output_type": "execute_result"
    }
   ],
   "source": [
    "mean_absolute_percentage_error(val_y, xgb_predictions)"
   ]
  },
  {
   "cell_type": "code",
   "execution_count": 38,
   "metadata": {},
   "outputs": [
    {
     "data": {
      "text/plain": [
       "-113.20104628951337"
      ]
     },
     "execution_count": 38,
     "metadata": {},
     "output_type": "execute_result"
    }
   ],
   "source": [
    "np.mean(cross_val_score(xgb_model, train_X, train_y, scoring='neg_mean_absolute_error', cv=3))"
   ]
  },
  {
   "cell_type": "code",
   "execution_count": 39,
   "metadata": {},
   "outputs": [
    {
     "data": {
      "text/plain": [
       "101.16647833130047"
      ]
     },
     "execution_count": 39,
     "metadata": {},
     "output_type": "execute_result"
    }
   ],
   "source": [
    "xgb_model_2 = XGBRegressor(n_estimators=1000, learning_rate=0.05, n_jobs=4, early_stopping_rounds=5)\n",
    "xgb_model_2.fit(train_X, train_y, eval_set=[(val_X, val_y)], verbose=False)\n",
    "xgb_predictions_2 = xgb_model_2.predict(val_X)\n",
    "mean_absolute_error(val_y, xgb_predictions_2)"
   ]
  }
 ],
 "metadata": {
  "kernelspec": {
   "display_name": "Python 3",
   "language": "python",
   "name": "python3"
  },
  "language_info": {
   "codemirror_mode": {
    "name": "ipython",
    "version": 3
   },
   "file_extension": ".py",
   "mimetype": "text/x-python",
   "name": "python",
   "nbconvert_exporter": "python",
   "pygments_lexer": "ipython3",
   "version": "3.11.4"
  },
  "orig_nbformat": 4
 },
 "nbformat": 4,
 "nbformat_minor": 2
}
