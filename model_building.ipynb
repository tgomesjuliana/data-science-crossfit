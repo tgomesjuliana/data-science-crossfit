{
 "cells": [
  {
   "cell_type": "markdown",
   "metadata": {},
   "source": [
    "# Imports"
   ]
  },
  {
   "cell_type": "code",
   "execution_count": 1,
   "metadata": {},
   "outputs": [],
   "source": [
    "import pandas as pd\n",
    "import numpy as np\n",
    "import matplotlib.pyplot as plt\n",
    "from sklearn.model_selection import train_test_split, cross_val_score\n",
    "from sklearn.tree import DecisionTreeRegressor\n",
    "from sklearn.ensemble import RandomForestRegressor\n",
    "from sklearn.metrics import mean_absolute_error, mean_absolute_percentage_error\n",
    "from sklearn.pipeline import Pipeline\n",
    "from xgboost import XGBRegressor"
   ]
  },
  {
   "cell_type": "markdown",
   "metadata": {},
   "source": [
    "# Definitions"
   ]
  },
  {
   "cell_type": "code",
   "execution_count": 2,
   "metadata": {},
   "outputs": [],
   "source": [
    "base_path = \"C:/Users/Zi/Documents/data-science-crossfit/\""
   ]
  },
  {
   "cell_type": "markdown",
   "metadata": {},
   "source": [
    "# Model Building"
   ]
  },
  {
   "cell_type": "code",
   "execution_count": 3,
   "metadata": {},
   "outputs": [],
   "source": [
    "df_games_and_open = pd.read_csv(base_path + \"csv_files/version_2_clean_data/df_games_and_open.csv\")\n",
    "df_games_and_open = df_games_and_open[df_games_and_open['year'] != 2023]\n",
    "df_games_and_open = df_games_and_open.select_dtypes(include=[np.number]).drop(columns=['year','overallRank'])"
   ]
  },
  {
   "cell_type": "code",
   "execution_count": 4,
   "metadata": {},
   "outputs": [
    {
     "data": {
      "text/html": [
       "<div>\n",
       "<style scoped>\n",
       "    .dataframe tbody tr th:only-of-type {\n",
       "        vertical-align: middle;\n",
       "    }\n",
       "\n",
       "    .dataframe tbody tr th {\n",
       "        vertical-align: top;\n",
       "    }\n",
       "\n",
       "    .dataframe thead th {\n",
       "        text-align: right;\n",
       "    }\n",
       "</style>\n",
       "<table border=\"1\" class=\"dataframe\">\n",
       "  <thead>\n",
       "    <tr style=\"text-align: right;\">\n",
       "      <th></th>\n",
       "      <th>competitorId</th>\n",
       "      <th>genderId</th>\n",
       "      <th>age</th>\n",
       "      <th>ageNull</th>\n",
       "      <th>height</th>\n",
       "      <th>heightNull</th>\n",
       "      <th>weight</th>\n",
       "      <th>weightNull</th>\n",
       "      <th>bmi</th>\n",
       "      <th>bmiNull</th>\n",
       "      <th>affiliateId</th>\n",
       "      <th>countryOfOriginCode</th>\n",
       "      <th>regionId</th>\n",
       "      <th>statusId</th>\n",
       "      <th>overallScore</th>\n",
       "      <th>openCompetitor</th>\n",
       "      <th>openRank</th>\n",
       "      <th>openScore</th>\n",
       "      <th>gamesCompetitions</th>\n",
       "      <th>openCompetitions</th>\n",
       "    </tr>\n",
       "  </thead>\n",
       "  <tbody>\n",
       "    <tr>\n",
       "      <th>0</th>\n",
       "      <td>1616</td>\n",
       "      <td>1</td>\n",
       "      <td>20</td>\n",
       "      <td>0</td>\n",
       "      <td>178.000000</td>\n",
       "      <td>0</td>\n",
       "      <td>83.000000</td>\n",
       "      <td>0</td>\n",
       "      <td>26.196187</td>\n",
       "      <td>0</td>\n",
       "      <td>0</td>\n",
       "      <td>0</td>\n",
       "      <td>0</td>\n",
       "      <td>1</td>\n",
       "      <td>232</td>\n",
       "      <td>0</td>\n",
       "      <td>140133</td>\n",
       "      <td>604776</td>\n",
       "      <td>1</td>\n",
       "      <td>0</td>\n",
       "    </tr>\n",
       "    <tr>\n",
       "      <th>1</th>\n",
       "      <td>1616</td>\n",
       "      <td>1</td>\n",
       "      <td>21</td>\n",
       "      <td>0</td>\n",
       "      <td>178.000000</td>\n",
       "      <td>0</td>\n",
       "      <td>83.000000</td>\n",
       "      <td>0</td>\n",
       "      <td>26.196187</td>\n",
       "      <td>0</td>\n",
       "      <td>0</td>\n",
       "      <td>0</td>\n",
       "      <td>0</td>\n",
       "      <td>1</td>\n",
       "      <td>21</td>\n",
       "      <td>0</td>\n",
       "      <td>140133</td>\n",
       "      <td>604776</td>\n",
       "      <td>2</td>\n",
       "      <td>0</td>\n",
       "    </tr>\n",
       "    <tr>\n",
       "      <th>2</th>\n",
       "      <td>1685</td>\n",
       "      <td>1</td>\n",
       "      <td>29</td>\n",
       "      <td>0</td>\n",
       "      <td>163.000000</td>\n",
       "      <td>0</td>\n",
       "      <td>82.000000</td>\n",
       "      <td>0</td>\n",
       "      <td>30.863036</td>\n",
       "      <td>0</td>\n",
       "      <td>0</td>\n",
       "      <td>0</td>\n",
       "      <td>0</td>\n",
       "      <td>1</td>\n",
       "      <td>19</td>\n",
       "      <td>0</td>\n",
       "      <td>140133</td>\n",
       "      <td>604776</td>\n",
       "      <td>1</td>\n",
       "      <td>0</td>\n",
       "    </tr>\n",
       "    <tr>\n",
       "      <th>3</th>\n",
       "      <td>1690</td>\n",
       "      <td>1</td>\n",
       "      <td>23</td>\n",
       "      <td>0</td>\n",
       "      <td>181.000000</td>\n",
       "      <td>0</td>\n",
       "      <td>93.000000</td>\n",
       "      <td>0</td>\n",
       "      <td>28.387412</td>\n",
       "      <td>0</td>\n",
       "      <td>7104</td>\n",
       "      <td>1</td>\n",
       "      <td>1</td>\n",
       "      <td>1</td>\n",
       "      <td>483</td>\n",
       "      <td>1</td>\n",
       "      <td>17</td>\n",
       "      <td>566</td>\n",
       "      <td>1</td>\n",
       "      <td>1</td>\n",
       "    </tr>\n",
       "    <tr>\n",
       "      <th>4</th>\n",
       "      <td>1690</td>\n",
       "      <td>1</td>\n",
       "      <td>25</td>\n",
       "      <td>0</td>\n",
       "      <td>181.000000</td>\n",
       "      <td>0</td>\n",
       "      <td>93.000000</td>\n",
       "      <td>0</td>\n",
       "      <td>28.387412</td>\n",
       "      <td>0</td>\n",
       "      <td>7104</td>\n",
       "      <td>1</td>\n",
       "      <td>1</td>\n",
       "      <td>1</td>\n",
       "      <td>702</td>\n",
       "      <td>1</td>\n",
       "      <td>3</td>\n",
       "      <td>86</td>\n",
       "      <td>2</td>\n",
       "      <td>2</td>\n",
       "    </tr>\n",
       "    <tr>\n",
       "      <th>...</th>\n",
       "      <td>...</td>\n",
       "      <td>...</td>\n",
       "      <td>...</td>\n",
       "      <td>...</td>\n",
       "      <td>...</td>\n",
       "      <td>...</td>\n",
       "      <td>...</td>\n",
       "      <td>...</td>\n",
       "      <td>...</td>\n",
       "      <td>...</td>\n",
       "      <td>...</td>\n",
       "      <td>...</td>\n",
       "      <td>...</td>\n",
       "      <td>...</td>\n",
       "      <td>...</td>\n",
       "      <td>...</td>\n",
       "      <td>...</td>\n",
       "      <td>...</td>\n",
       "      <td>...</td>\n",
       "      <td>...</td>\n",
       "    </tr>\n",
       "    <tr>\n",
       "      <th>1709</th>\n",
       "      <td>2377148</td>\n",
       "      <td>2</td>\n",
       "      <td>27</td>\n",
       "      <td>1</td>\n",
       "      <td>165.374825</td>\n",
       "      <td>1</td>\n",
       "      <td>65.663854</td>\n",
       "      <td>1</td>\n",
       "      <td>24.013081</td>\n",
       "      <td>1</td>\n",
       "      <td>0</td>\n",
       "      <td>0</td>\n",
       "      <td>0</td>\n",
       "      <td>1</td>\n",
       "      <td>237</td>\n",
       "      <td>0</td>\n",
       "      <td>140133</td>\n",
       "      <td>604776</td>\n",
       "      <td>1</td>\n",
       "      <td>1</td>\n",
       "    </tr>\n",
       "    <tr>\n",
       "      <th>1710</th>\n",
       "      <td>2377149</td>\n",
       "      <td>2</td>\n",
       "      <td>27</td>\n",
       "      <td>1</td>\n",
       "      <td>165.374825</td>\n",
       "      <td>1</td>\n",
       "      <td>65.663854</td>\n",
       "      <td>1</td>\n",
       "      <td>24.013081</td>\n",
       "      <td>1</td>\n",
       "      <td>0</td>\n",
       "      <td>0</td>\n",
       "      <td>0</td>\n",
       "      <td>2</td>\n",
       "      <td>162</td>\n",
       "      <td>0</td>\n",
       "      <td>140133</td>\n",
       "      <td>604776</td>\n",
       "      <td>1</td>\n",
       "      <td>1</td>\n",
       "    </tr>\n",
       "    <tr>\n",
       "      <th>1711</th>\n",
       "      <td>2377150</td>\n",
       "      <td>2</td>\n",
       "      <td>27</td>\n",
       "      <td>1</td>\n",
       "      <td>165.374825</td>\n",
       "      <td>1</td>\n",
       "      <td>65.663854</td>\n",
       "      <td>1</td>\n",
       "      <td>24.013081</td>\n",
       "      <td>1</td>\n",
       "      <td>0</td>\n",
       "      <td>0</td>\n",
       "      <td>0</td>\n",
       "      <td>2</td>\n",
       "      <td>81</td>\n",
       "      <td>0</td>\n",
       "      <td>140133</td>\n",
       "      <td>604776</td>\n",
       "      <td>1</td>\n",
       "      <td>1</td>\n",
       "    </tr>\n",
       "    <tr>\n",
       "      <th>1712</th>\n",
       "      <td>2377151</td>\n",
       "      <td>2</td>\n",
       "      <td>27</td>\n",
       "      <td>1</td>\n",
       "      <td>165.374825</td>\n",
       "      <td>1</td>\n",
       "      <td>65.663854</td>\n",
       "      <td>1</td>\n",
       "      <td>24.013081</td>\n",
       "      <td>1</td>\n",
       "      <td>0</td>\n",
       "      <td>0</td>\n",
       "      <td>0</td>\n",
       "      <td>2</td>\n",
       "      <td>76</td>\n",
       "      <td>0</td>\n",
       "      <td>140133</td>\n",
       "      <td>604776</td>\n",
       "      <td>1</td>\n",
       "      <td>1</td>\n",
       "    </tr>\n",
       "    <tr>\n",
       "      <th>1713</th>\n",
       "      <td>2377152</td>\n",
       "      <td>2</td>\n",
       "      <td>27</td>\n",
       "      <td>1</td>\n",
       "      <td>165.374825</td>\n",
       "      <td>1</td>\n",
       "      <td>65.663854</td>\n",
       "      <td>1</td>\n",
       "      <td>24.013081</td>\n",
       "      <td>1</td>\n",
       "      <td>0</td>\n",
       "      <td>0</td>\n",
       "      <td>0</td>\n",
       "      <td>2</td>\n",
       "      <td>86</td>\n",
       "      <td>0</td>\n",
       "      <td>140133</td>\n",
       "      <td>604776</td>\n",
       "      <td>1</td>\n",
       "      <td>1</td>\n",
       "    </tr>\n",
       "  </tbody>\n",
       "</table>\n",
       "<p>1633 rows × 20 columns</p>\n",
       "</div>"
      ],
      "text/plain": [
       "      competitorId  genderId  age  ageNull      height  heightNull     weight  \\\n",
       "0             1616         1   20        0  178.000000           0  83.000000   \n",
       "1             1616         1   21        0  178.000000           0  83.000000   \n",
       "2             1685         1   29        0  163.000000           0  82.000000   \n",
       "3             1690         1   23        0  181.000000           0  93.000000   \n",
       "4             1690         1   25        0  181.000000           0  93.000000   \n",
       "...            ...       ...  ...      ...         ...         ...        ...   \n",
       "1709       2377148         2   27        1  165.374825           1  65.663854   \n",
       "1710       2377149         2   27        1  165.374825           1  65.663854   \n",
       "1711       2377150         2   27        1  165.374825           1  65.663854   \n",
       "1712       2377151         2   27        1  165.374825           1  65.663854   \n",
       "1713       2377152         2   27        1  165.374825           1  65.663854   \n",
       "\n",
       "      weightNull        bmi  bmiNull  affiliateId  countryOfOriginCode  \\\n",
       "0              0  26.196187        0            0                    0   \n",
       "1              0  26.196187        0            0                    0   \n",
       "2              0  30.863036        0            0                    0   \n",
       "3              0  28.387412        0         7104                    1   \n",
       "4              0  28.387412        0         7104                    1   \n",
       "...          ...        ...      ...          ...                  ...   \n",
       "1709           1  24.013081        1            0                    0   \n",
       "1710           1  24.013081        1            0                    0   \n",
       "1711           1  24.013081        1            0                    0   \n",
       "1712           1  24.013081        1            0                    0   \n",
       "1713           1  24.013081        1            0                    0   \n",
       "\n",
       "      regionId  statusId  overallScore  openCompetitor  openRank  openScore  \\\n",
       "0            0         1           232               0    140133     604776   \n",
       "1            0         1            21               0    140133     604776   \n",
       "2            0         1            19               0    140133     604776   \n",
       "3            1         1           483               1        17        566   \n",
       "4            1         1           702               1         3         86   \n",
       "...        ...       ...           ...             ...       ...        ...   \n",
       "1709         0         1           237               0    140133     604776   \n",
       "1710         0         2           162               0    140133     604776   \n",
       "1711         0         2            81               0    140133     604776   \n",
       "1712         0         2            76               0    140133     604776   \n",
       "1713         0         2            86               0    140133     604776   \n",
       "\n",
       "      gamesCompetitions  openCompetitions  \n",
       "0                     1                 0  \n",
       "1                     2                 0  \n",
       "2                     1                 0  \n",
       "3                     1                 1  \n",
       "4                     2                 2  \n",
       "...                 ...               ...  \n",
       "1709                  1                 1  \n",
       "1710                  1                 1  \n",
       "1711                  1                 1  \n",
       "1712                  1                 1  \n",
       "1713                  1                 1  \n",
       "\n",
       "[1633 rows x 20 columns]"
      ]
     },
     "execution_count": 4,
     "metadata": {},
     "output_type": "execute_result"
    }
   ],
   "source": [
    "df_games_and_open"
   ]
  },
  {
   "cell_type": "markdown",
   "metadata": {},
   "source": [
    "### Splits"
   ]
  },
  {
   "cell_type": "markdown",
   "metadata": {},
   "source": [
    "#####  X and y"
   ]
  },
  {
   "cell_type": "code",
   "execution_count": 5,
   "metadata": {},
   "outputs": [],
   "source": [
    "X = df_games_and_open.copy()\n",
    "y = X.pop('overallScore')"
   ]
  },
  {
   "cell_type": "code",
   "execution_count": 6,
   "metadata": {},
   "outputs": [
    {
     "data": {
      "text/plain": [
       "(1633, 19)"
      ]
     },
     "execution_count": 6,
     "metadata": {},
     "output_type": "execute_result"
    }
   ],
   "source": [
    "X.shape"
   ]
  },
  {
   "cell_type": "code",
   "execution_count": 7,
   "metadata": {},
   "outputs": [
    {
     "data": {
      "text/plain": [
       "(1633,)"
      ]
     },
     "execution_count": 7,
     "metadata": {},
     "output_type": "execute_result"
    }
   ],
   "source": [
    "y.shape"
   ]
  },
  {
   "cell_type": "markdown",
   "metadata": {},
   "source": [
    "##### Train and test"
   ]
  },
  {
   "cell_type": "code",
   "execution_count": 8,
   "metadata": {},
   "outputs": [],
   "source": [
    "train_X, val_X, train_y, val_y = train_test_split(X, y, train_size=0.8, test_size=0.2, random_state=1)"
   ]
  },
  {
   "cell_type": "code",
   "execution_count": 9,
   "metadata": {},
   "outputs": [
    {
     "data": {
      "text/plain": [
       "(1306, 19)"
      ]
     },
     "execution_count": 9,
     "metadata": {},
     "output_type": "execute_result"
    }
   ],
   "source": [
    "train_X.shape"
   ]
  },
  {
   "cell_type": "code",
   "execution_count": 10,
   "metadata": {},
   "outputs": [
    {
     "data": {
      "text/plain": [
       "(1306,)"
      ]
     },
     "execution_count": 10,
     "metadata": {},
     "output_type": "execute_result"
    }
   ],
   "source": [
    "train_y.shape"
   ]
  },
  {
   "cell_type": "code",
   "execution_count": 11,
   "metadata": {},
   "outputs": [
    {
     "data": {
      "text/plain": [
       "(327, 19)"
      ]
     },
     "execution_count": 11,
     "metadata": {},
     "output_type": "execute_result"
    }
   ],
   "source": [
    "val_X.shape"
   ]
  },
  {
   "cell_type": "code",
   "execution_count": 12,
   "metadata": {},
   "outputs": [
    {
     "data": {
      "text/plain": [
       "(327,)"
      ]
     },
     "execution_count": 12,
     "metadata": {},
     "output_type": "execute_result"
    }
   ],
   "source": [
    "val_y.shape"
   ]
  },
  {
   "cell_type": "markdown",
   "metadata": {},
   "source": [
    "### Linear Regressions"
   ]
  },
  {
   "cell_type": "markdown",
   "metadata": {},
   "source": [
    "##### Decision tree"
   ]
  },
  {
   "cell_type": "code",
   "execution_count": 13,
   "metadata": {},
   "outputs": [
    {
     "data": {
      "text/plain": [
       "142.43119266055047"
      ]
     },
     "execution_count": 13,
     "metadata": {},
     "output_type": "execute_result"
    }
   ],
   "source": [
    "decision_tree_model = DecisionTreeRegressor(random_state=1)\n",
    "decision_tree_model.fit(train_X, train_y)\n",
    "decision_tree_predictions = decision_tree_model.predict(val_X)\n",
    "mean_absolute_error(val_y, decision_tree_predictions)"
   ]
  },
  {
   "cell_type": "code",
   "execution_count": 14,
   "metadata": {},
   "outputs": [
    {
     "data": {
      "text/plain": [
       "4.218509375729611e+16"
      ]
     },
     "execution_count": 14,
     "metadata": {},
     "output_type": "execute_result"
    }
   ],
   "source": [
    "mean_absolute_percentage_error(val_y, decision_tree_predictions)"
   ]
  },
  {
   "cell_type": "code",
   "execution_count": 15,
   "metadata": {},
   "outputs": [
    {
     "name": "stdout",
     "output_type": "stream",
     "text": [
      "Max leaf nodes: 5  \t\t Mean Absolute Error:  120\n",
      "Max leaf nodes: 10  \t\t Mean Absolute Error:  112\n",
      "Max leaf nodes: 15  \t\t Mean Absolute Error:  114\n",
      "Max leaf nodes: 20  \t\t Mean Absolute Error:  111\n",
      "Max leaf nodes: 25  \t\t Mean Absolute Error:  114\n",
      "Max leaf nodes: 30  \t\t Mean Absolute Error:  113\n",
      "Max leaf nodes: 35  \t\t Mean Absolute Error:  114\n",
      "Max leaf nodes: 40  \t\t Mean Absolute Error:  111\n",
      "Max leaf nodes: 45  \t\t Mean Absolute Error:  112\n",
      "Max leaf nodes: 50  \t\t Mean Absolute Error:  114\n",
      "Max leaf nodes: 55  \t\t Mean Absolute Error:  117\n",
      "Max leaf nodes: 60  \t\t Mean Absolute Error:  118\n",
      "Max leaf nodes: 65  \t\t Mean Absolute Error:  118\n",
      "Max leaf nodes: 70  \t\t Mean Absolute Error:  118\n",
      "Max leaf nodes: 75  \t\t Mean Absolute Error:  118\n",
      "Max leaf nodes: 80  \t\t Mean Absolute Error:  117\n",
      "Max leaf nodes: 85  \t\t Mean Absolute Error:  117\n",
      "Max leaf nodes: 90  \t\t Mean Absolute Error:  117\n",
      "Max leaf nodes: 95  \t\t Mean Absolute Error:  121\n"
     ]
    }
   ],
   "source": [
    "def get_mae(max_leaf_nodes, train_X, val_X, train_y, val_y):\n",
    "    model = DecisionTreeRegressor(max_leaf_nodes=max_leaf_nodes, random_state=0)\n",
    "    model.fit(train_X, train_y)\n",
    "    preds_val = model.predict(val_X)\n",
    "    mae = mean_absolute_error(val_y, preds_val)\n",
    "    return(mae)\n",
    "\n",
    "for max_leaf_nodes in range(5, 100, 5):\n",
    "    my_mae = get_mae(max_leaf_nodes, train_X, val_X, train_y, val_y)\n",
    "    print(\"Max leaf nodes: %d  \\t\\t Mean Absolute Error:  %d\" %(max_leaf_nodes, my_mae))"
   ]
  },
  {
   "cell_type": "code",
   "execution_count": 16,
   "metadata": {},
   "outputs": [
    {
     "data": {
      "text/plain": [
       "20"
      ]
     },
     "execution_count": 16,
     "metadata": {},
     "output_type": "execute_result"
    }
   ],
   "source": [
    "scores = {max_leaf_nodes: get_mae(max_leaf_nodes, train_X, val_X, train_y, val_y) for max_leaf_nodes in range(5, 100, 1)}\n",
    "best_tree_size = min(scores, key=scores.get)\n",
    "best_tree_size"
   ]
  },
  {
   "cell_type": "markdown",
   "metadata": {},
   "source": [
    "##### Random forest"
   ]
  },
  {
   "cell_type": "code",
   "execution_count": 17,
   "metadata": {},
   "outputs": [
    {
     "data": {
      "text/plain": [
       "102.04559633027525"
      ]
     },
     "execution_count": 17,
     "metadata": {},
     "output_type": "execute_result"
    }
   ],
   "source": [
    "random_forest_model = RandomForestRegressor(random_state=1)\n",
    "random_forest_model.fit(train_X, train_y)\n",
    "random_forest_predictions = random_forest_model.predict(val_X)\n",
    "mean_absolute_error(val_y, random_forest_predictions)"
   ]
  },
  {
   "cell_type": "code",
   "execution_count": 18,
   "metadata": {},
   "outputs": [
    {
     "data": {
      "text/plain": [
       "4.861325917038146e+16"
      ]
     },
     "execution_count": 18,
     "metadata": {},
     "output_type": "execute_result"
    }
   ],
   "source": [
    "mean_absolute_percentage_error(val_y, random_forest_predictions)"
   ]
  },
  {
   "cell_type": "code",
   "execution_count": 19,
   "metadata": {},
   "outputs": [
    {
     "name": "stdout",
     "output_type": "stream",
     "text": [
      "Model 1 MAE: 101\n",
      "Model 2 MAE: 100\n",
      "Model 3 MAE: 102\n"
     ]
    }
   ],
   "source": [
    "model_1 = RandomForestRegressor(n_estimators=100, criterion='absolute_error', random_state=1)\n",
    "model_2 = RandomForestRegressor(n_estimators=200, min_samples_split=20, random_state=1)\n",
    "model_3 = RandomForestRegressor(n_estimators=100, max_depth=7, random_state=1)\n",
    "models = [model_1, model_2, model_3]\n",
    "\n",
    "def score_model(model, X_t, X_v, y_t, y_v):\n",
    "    model.fit(X_t, y_t)\n",
    "    prediction = model.predict(X_v)\n",
    "    return mean_absolute_error(y_v, prediction)\n",
    "\n",
    "for i in range(0, len(models)):\n",
    "    mae = score_model(models[i], train_X, val_X, train_y, val_y)\n",
    "    print(\"Model %d MAE: %d\" % (i+1, mae))"
   ]
  },
  {
   "cell_type": "code",
   "execution_count": 20,
   "metadata": {},
   "outputs": [
    {
     "data": {
      "image/png": "[encoded data removed]",
      "text/plain": [
       "<Figure size 640x480 with 1 Axes>"
      ]
     },
     "metadata": {},
     "output_type": "display_data"
    }
   ],
   "source": [
    "def get_score(n_estimators):\n",
    "    my_pipeline = Pipeline(steps=[\n",
    "        ('model', RandomForestRegressor(n_estimators, random_state=1))\n",
    "    ])\n",
    "    scores = -1 * cross_val_score(my_pipeline, X, y,\n",
    "                              cv=3,\n",
    "                              scoring='neg_mean_absolute_error')\n",
    "    return scores.mean()\n",
    "\n",
    "results = {}\n",
    "for i in range (1,9):\n",
    "    results[50*i] = get_score(50*i)\n",
    "\n",
    "plt.plot(list(results.keys()), list(results.values()))\n",
    "plt.show()"
   ]
  },
  {
   "cell_type": "code",
   "execution_count": 21,
   "metadata": {},
   "outputs": [
    {
     "data": {
      "text/plain": [
       "50"
      ]
     },
     "execution_count": 21,
     "metadata": {},
     "output_type": "execute_result"
    }
   ],
   "source": [
    "n_estimators_best = min(results, key=results.get)\n",
    "n_estimators_best"
   ]
  },
  {
   "cell_type": "markdown",
   "metadata": {},
   "source": [
    "##### XGB Regressor"
   ]
  },
  {
   "cell_type": "code",
   "execution_count": 22,
   "metadata": {},
   "outputs": [
    {
     "data": {
      "text/plain": [
       "111.19990013444095"
      ]
     },
     "execution_count": 22,
     "metadata": {},
     "output_type": "execute_result"
    }
   ],
   "source": [
    "xgb_model = XGBRegressor(random_state=1)\n",
    "xgb_model.fit(train_X, train_y)\n",
    "xgb_predictions = xgb_model.predict(val_X)\n",
    "mean_absolute_error(val_y, xgb_predictions)"
   ]
  },
  {
   "cell_type": "code",
   "execution_count": 23,
   "metadata": {},
   "outputs": [
    {
     "data": {
      "text/plain": [
       "4.446744368731317e+16"
      ]
     },
     "execution_count": 23,
     "metadata": {},
     "output_type": "execute_result"
    }
   ],
   "source": [
    "mean_absolute_percentage_error(val_y, xgb_predictions)"
   ]
  },
  {
   "cell_type": "code",
   "execution_count": 24,
   "metadata": {},
   "outputs": [
    {
     "name": "stderr",
     "output_type": "stream",
     "text": [
      "C:\\Users\\Zi\\AppData\\Local\\Packages\\PythonSoftwareFoundation.Python.3.11_qbz5n2kfra8p0\\LocalCache\\local-packages\\Python311\\site-packages\\xgboost\\sklearn.py:835: UserWarning: `early_stopping_rounds` in `fit` method is deprecated for better compatibility with scikit-learn, use `early_stopping_rounds` in constructor or`set_params` instead.\n",
      "  warnings.warn(\n"
     ]
    },
    {
     "data": {
      "text/plain": [
       "101.39193116707175"
      ]
     },
     "execution_count": 24,
     "metadata": {},
     "output_type": "execute_result"
    }
   ],
   "source": [
    "xgb_model_2 = XGBRegressor(n_estimators=1000, learning_rate=0.05, n_jobs=4)\n",
    "xgb_model_2.fit(train_X, train_y, \n",
    "             early_stopping_rounds=5, \n",
    "             eval_set=[(val_X, val_y)], \n",
    "             verbose=False)\n",
    "xgb_predictions_2 = xgb_model_2.predict(val_X)\n",
    "mean_absolute_error(val_y, xgb_predictions_2)"
   ]
  }
 ],
 "metadata": {
  "kernelspec": {
   "display_name": "Python 3",
   "language": "python",
   "name": "python3"
  },
  "language_info": {
   "codemirror_mode": {
    "name": "ipython",
    "version": 3
   },
   "file_extension": ".py",
   "mimetype": "text/x-python",
   "name": "python",
   "nbconvert_exporter": "python",
   "pygments_lexer": "ipython3",
   "version": "3.11.4"
  },
  "orig_nbformat": 4
 },
 "nbformat": 4,
 "nbformat_minor": 2
}
