{
 "cells": [
  {
   "cell_type": "markdown",
   "metadata": {},
   "source": [
    "# Imports"
   ]
  },
  {
   "cell_type": "code",
   "execution_count": 1,
   "metadata": {},
   "outputs": [],
   "source": [
    "import pandas as pd\n",
    "import numpy as np\n",
    "import plotly.graph_objects as go\n",
    "import plotly.express as px"
   ]
  },
  {
   "cell_type": "markdown",
   "metadata": {},
   "source": [
    "# Definitions"
   ]
  },
  {
   "cell_type": "code",
   "execution_count": 2,
   "metadata": {},
   "outputs": [],
   "source": [
    "base_path = \"C:/Users/Zi/Documents/data-science-crossfit/\""
   ]
  },
  {
   "cell_type": "markdown",
   "metadata": {},
   "source": [
    "# Data Analysis"
   ]
  },
  {
   "cell_type": "markdown",
   "metadata": {},
   "source": [
    "### Games"
   ]
  },
  {
   "cell_type": "code",
   "execution_count": 4,
   "metadata": {},
   "outputs": [
    {
     "data": {
      "text/html": [
       "<div>\n",
       "<style scoped>\n",
       "    .dataframe tbody tr th:only-of-type {\n",
       "        vertical-align: middle;\n",
       "    }\n",
       "\n",
       "    .dataframe tbody tr th {\n",
       "        vertical-align: top;\n",
       "    }\n",
       "\n",
       "    .dataframe thead th {\n",
       "        text-align: right;\n",
       "    }\n",
       "</style>\n",
       "<table border=\"1\" class=\"dataframe\">\n",
       "  <thead>\n",
       "    <tr style=\"text-align: right;\">\n",
       "      <th></th>\n",
       "      <th>competitorId</th>\n",
       "      <th>competitorName</th>\n",
       "      <th>firstName</th>\n",
       "      <th>lastName</th>\n",
       "      <th>gender</th>\n",
       "      <th>genderId</th>\n",
       "      <th>age</th>\n",
       "      <th>ageNull</th>\n",
       "      <th>height</th>\n",
       "      <th>heightNull</th>\n",
       "      <th>...</th>\n",
       "      <th>status</th>\n",
       "      <th>statusId</th>\n",
       "      <th>year</th>\n",
       "      <th>overallRank</th>\n",
       "      <th>overallScore</th>\n",
       "      <th>openCompetitor</th>\n",
       "      <th>openRank</th>\n",
       "      <th>openScore</th>\n",
       "      <th>gamesCompetitions</th>\n",
       "      <th>openCompetitions</th>\n",
       "    </tr>\n",
       "  </thead>\n",
       "  <tbody>\n",
       "    <tr>\n",
       "      <th>0</th>\n",
       "      <td>1616</td>\n",
       "      <td>Russ Greene</td>\n",
       "      <td>Russ</td>\n",
       "      <td>Greene</td>\n",
       "      <td>M</td>\n",
       "      <td>1</td>\n",
       "      <td>20</td>\n",
       "      <td>0</td>\n",
       "      <td>178.000000</td>\n",
       "      <td>0</td>\n",
       "      <td>...</td>\n",
       "      <td>ACT</td>\n",
       "      <td>1</td>\n",
       "      <td>2007</td>\n",
       "      <td>11</td>\n",
       "      <td>232</td>\n",
       "      <td>0</td>\n",
       "      <td>140133</td>\n",
       "      <td>604776</td>\n",
       "      <td>0</td>\n",
       "      <td>0</td>\n",
       "    </tr>\n",
       "    <tr>\n",
       "      <th>1</th>\n",
       "      <td>1616</td>\n",
       "      <td>Russ Greene</td>\n",
       "      <td>Russ</td>\n",
       "      <td>Greene</td>\n",
       "      <td>M</td>\n",
       "      <td>1</td>\n",
       "      <td>21</td>\n",
       "      <td>0</td>\n",
       "      <td>178.000000</td>\n",
       "      <td>0</td>\n",
       "      <td>...</td>\n",
       "      <td>ACT</td>\n",
       "      <td>1</td>\n",
       "      <td>2008</td>\n",
       "      <td>53</td>\n",
       "      <td>21</td>\n",
       "      <td>0</td>\n",
       "      <td>140133</td>\n",
       "      <td>604776</td>\n",
       "      <td>1</td>\n",
       "      <td>0</td>\n",
       "    </tr>\n",
       "    <tr>\n",
       "      <th>2</th>\n",
       "      <td>1685</td>\n",
       "      <td>Christopher Woods</td>\n",
       "      <td>Christopher</td>\n",
       "      <td>Woods</td>\n",
       "      <td>M</td>\n",
       "      <td>1</td>\n",
       "      <td>29</td>\n",
       "      <td>0</td>\n",
       "      <td>163.000000</td>\n",
       "      <td>0</td>\n",
       "      <td>...</td>\n",
       "      <td>ACT</td>\n",
       "      <td>1</td>\n",
       "      <td>2008</td>\n",
       "      <td>32</td>\n",
       "      <td>19</td>\n",
       "      <td>0</td>\n",
       "      <td>140133</td>\n",
       "      <td>604776</td>\n",
       "      <td>0</td>\n",
       "      <td>0</td>\n",
       "    </tr>\n",
       "    <tr>\n",
       "      <th>3</th>\n",
       "      <td>1690</td>\n",
       "      <td>Travis Mayer</td>\n",
       "      <td>Travis</td>\n",
       "      <td>Mayer</td>\n",
       "      <td>M</td>\n",
       "      <td>1</td>\n",
       "      <td>23</td>\n",
       "      <td>0</td>\n",
       "      <td>181.000000</td>\n",
       "      <td>0</td>\n",
       "      <td>...</td>\n",
       "      <td>ACT</td>\n",
       "      <td>1</td>\n",
       "      <td>2014</td>\n",
       "      <td>29</td>\n",
       "      <td>483</td>\n",
       "      <td>1</td>\n",
       "      <td>17</td>\n",
       "      <td>566</td>\n",
       "      <td>0</td>\n",
       "      <td>0</td>\n",
       "    </tr>\n",
       "    <tr>\n",
       "      <th>4</th>\n",
       "      <td>1690</td>\n",
       "      <td>Travis Mayer</td>\n",
       "      <td>Travis</td>\n",
       "      <td>Mayer</td>\n",
       "      <td>M</td>\n",
       "      <td>1</td>\n",
       "      <td>25</td>\n",
       "      <td>0</td>\n",
       "      <td>181.000000</td>\n",
       "      <td>0</td>\n",
       "      <td>...</td>\n",
       "      <td>ACT</td>\n",
       "      <td>1</td>\n",
       "      <td>2016</td>\n",
       "      <td>10</td>\n",
       "      <td>702</td>\n",
       "      <td>1</td>\n",
       "      <td>3</td>\n",
       "      <td>86</td>\n",
       "      <td>1</td>\n",
       "      <td>1</td>\n",
       "    </tr>\n",
       "    <tr>\n",
       "      <th>...</th>\n",
       "      <td>...</td>\n",
       "      <td>...</td>\n",
       "      <td>...</td>\n",
       "      <td>...</td>\n",
       "      <td>...</td>\n",
       "      <td>...</td>\n",
       "      <td>...</td>\n",
       "      <td>...</td>\n",
       "      <td>...</td>\n",
       "      <td>...</td>\n",
       "      <td>...</td>\n",
       "      <td>...</td>\n",
       "      <td>...</td>\n",
       "      <td>...</td>\n",
       "      <td>...</td>\n",
       "      <td>...</td>\n",
       "      <td>...</td>\n",
       "      <td>...</td>\n",
       "      <td>...</td>\n",
       "      <td>...</td>\n",
       "      <td>...</td>\n",
       "    </tr>\n",
       "    <tr>\n",
       "      <th>1709</th>\n",
       "      <td>2377148</td>\n",
       "      <td>Melanie Ward</td>\n",
       "      <td>Melanie</td>\n",
       "      <td>Ward</td>\n",
       "      <td>F</td>\n",
       "      <td>2</td>\n",
       "      <td>27</td>\n",
       "      <td>1</td>\n",
       "      <td>165.374825</td>\n",
       "      <td>1</td>\n",
       "      <td>...</td>\n",
       "      <td>ACT</td>\n",
       "      <td>1</td>\n",
       "      <td>2007</td>\n",
       "      <td>14</td>\n",
       "      <td>237</td>\n",
       "      <td>0</td>\n",
       "      <td>140133</td>\n",
       "      <td>604776</td>\n",
       "      <td>0</td>\n",
       "      <td>0</td>\n",
       "    </tr>\n",
       "    <tr>\n",
       "      <th>1710</th>\n",
       "      <td>2377149</td>\n",
       "      <td>Susan Kopcha</td>\n",
       "      <td>Susan</td>\n",
       "      <td>Kopcha</td>\n",
       "      <td>F</td>\n",
       "      <td>2</td>\n",
       "      <td>27</td>\n",
       "      <td>1</td>\n",
       "      <td>165.374825</td>\n",
       "      <td>1</td>\n",
       "      <td>...</td>\n",
       "      <td>WD</td>\n",
       "      <td>2</td>\n",
       "      <td>2007</td>\n",
       "      <td>16</td>\n",
       "      <td>162</td>\n",
       "      <td>0</td>\n",
       "      <td>140133</td>\n",
       "      <td>604776</td>\n",
       "      <td>0</td>\n",
       "      <td>0</td>\n",
       "    </tr>\n",
       "    <tr>\n",
       "      <th>1711</th>\n",
       "      <td>2377150</td>\n",
       "      <td>Melanie Ayres</td>\n",
       "      <td>Melanie</td>\n",
       "      <td>Ayres</td>\n",
       "      <td>F</td>\n",
       "      <td>2</td>\n",
       "      <td>27</td>\n",
       "      <td>1</td>\n",
       "      <td>165.374825</td>\n",
       "      <td>1</td>\n",
       "      <td>...</td>\n",
       "      <td>WD</td>\n",
       "      <td>2</td>\n",
       "      <td>2007</td>\n",
       "      <td>18</td>\n",
       "      <td>81</td>\n",
       "      <td>0</td>\n",
       "      <td>140133</td>\n",
       "      <td>604776</td>\n",
       "      <td>0</td>\n",
       "      <td>0</td>\n",
       "    </tr>\n",
       "    <tr>\n",
       "      <th>1712</th>\n",
       "      <td>2377151</td>\n",
       "      <td>Jaime Stumpf</td>\n",
       "      <td>Jaime</td>\n",
       "      <td>Stumpf</td>\n",
       "      <td>F</td>\n",
       "      <td>2</td>\n",
       "      <td>27</td>\n",
       "      <td>1</td>\n",
       "      <td>165.374825</td>\n",
       "      <td>1</td>\n",
       "      <td>...</td>\n",
       "      <td>WD</td>\n",
       "      <td>2</td>\n",
       "      <td>2007</td>\n",
       "      <td>19</td>\n",
       "      <td>76</td>\n",
       "      <td>0</td>\n",
       "      <td>140133</td>\n",
       "      <td>604776</td>\n",
       "      <td>0</td>\n",
       "      <td>0</td>\n",
       "    </tr>\n",
       "    <tr>\n",
       "      <th>1713</th>\n",
       "      <td>2377152</td>\n",
       "      <td>Victoria</td>\n",
       "      <td>Victoria</td>\n",
       "      <td>NaN</td>\n",
       "      <td>F</td>\n",
       "      <td>2</td>\n",
       "      <td>27</td>\n",
       "      <td>1</td>\n",
       "      <td>165.374825</td>\n",
       "      <td>1</td>\n",
       "      <td>...</td>\n",
       "      <td>WD</td>\n",
       "      <td>2</td>\n",
       "      <td>2007</td>\n",
       "      <td>20</td>\n",
       "      <td>86</td>\n",
       "      <td>0</td>\n",
       "      <td>140133</td>\n",
       "      <td>604776</td>\n",
       "      <td>0</td>\n",
       "      <td>0</td>\n",
       "    </tr>\n",
       "  </tbody>\n",
       "</table>\n",
       "<p>1633 rows × 30 columns</p>\n",
       "</div>"
      ],
      "text/plain": [
       "      competitorId     competitorName    firstName lastName gender  genderId  \\\n",
       "0             1616        Russ Greene         Russ   Greene      M         1   \n",
       "1             1616        Russ Greene         Russ   Greene      M         1   \n",
       "2             1685  Christopher Woods  Christopher    Woods      M         1   \n",
       "3             1690       Travis Mayer       Travis    Mayer      M         1   \n",
       "4             1690       Travis Mayer       Travis    Mayer      M         1   \n",
       "...            ...                ...          ...      ...    ...       ...   \n",
       "1709       2377148       Melanie Ward      Melanie     Ward      F         2   \n",
       "1710       2377149       Susan Kopcha        Susan   Kopcha      F         2   \n",
       "1711       2377150      Melanie Ayres      Melanie    Ayres      F         2   \n",
       "1712       2377151       Jaime Stumpf        Jaime   Stumpf      F         2   \n",
       "1713       2377152          Victoria      Victoria      NaN      F         2   \n",
       "\n",
       "      age  ageNull      height  heightNull  ...  status  statusId  year  \\\n",
       "0      20        0  178.000000           0  ...     ACT         1  2007   \n",
       "1      21        0  178.000000           0  ...     ACT         1  2008   \n",
       "2      29        0  163.000000           0  ...     ACT         1  2008   \n",
       "3      23        0  181.000000           0  ...     ACT         1  2014   \n",
       "4      25        0  181.000000           0  ...     ACT         1  2016   \n",
       "...   ...      ...         ...         ...  ...     ...       ...   ...   \n",
       "1709   27        1  165.374825           1  ...     ACT         1  2007   \n",
       "1710   27        1  165.374825           1  ...      WD         2  2007   \n",
       "1711   27        1  165.374825           1  ...      WD         2  2007   \n",
       "1712   27        1  165.374825           1  ...      WD         2  2007   \n",
       "1713   27        1  165.374825           1  ...      WD         2  2007   \n",
       "\n",
       "      overallRank overallScore  openCompetitor openRank  openScore  \\\n",
       "0              11          232               0   140133     604776   \n",
       "1              53           21               0   140133     604776   \n",
       "2              32           19               0   140133     604776   \n",
       "3              29          483               1       17        566   \n",
       "4              10          702               1        3         86   \n",
       "...           ...          ...             ...      ...        ...   \n",
       "1709           14          237               0   140133     604776   \n",
       "1710           16          162               0   140133     604776   \n",
       "1711           18           81               0   140133     604776   \n",
       "1712           19           76               0   140133     604776   \n",
       "1713           20           86               0   140133     604776   \n",
       "\n",
       "     gamesCompetitions  openCompetitions  \n",
       "0                    0                 0  \n",
       "1                    1                 0  \n",
       "2                    0                 0  \n",
       "3                    0                 0  \n",
       "4                    1                 1  \n",
       "...                ...               ...  \n",
       "1709                 0                 0  \n",
       "1710                 0                 0  \n",
       "1711                 0                 0  \n",
       "1712                 0                 0  \n",
       "1713                 0                 0  \n",
       "\n",
       "[1633 rows x 30 columns]"
      ]
     },
     "execution_count": 4,
     "metadata": {},
     "output_type": "execute_result"
    }
   ],
   "source": [
    "df_games_and_open"
   ]
  },
  {
   "cell_type": "code",
   "execution_count": 5,
   "metadata": {},
   "outputs": [
    {
     "name": "stdout",
     "output_type": "stream",
     "text": [
      "<class 'pandas.core.frame.DataFrame'>\n",
      "Index: 1633 entries, 0 to 1713\n",
      "Data columns (total 30 columns):\n",
      " #   Column               Non-Null Count  Dtype  \n",
      "---  ------               --------------  -----  \n",
      " 0   competitorId         1633 non-null   int64  \n",
      " 1   competitorName       1633 non-null   object \n",
      " 2   firstName            1633 non-null   object \n",
      " 3   lastName             1632 non-null   object \n",
      " 4   gender               1633 non-null   object \n",
      " 5   genderId             1633 non-null   int64  \n",
      " 6   age                  1633 non-null   int64  \n",
      " 7   ageNull              1633 non-null   int64  \n",
      " 8   height               1633 non-null   float64\n",
      " 9   heightNull           1633 non-null   int64  \n",
      " 10  weight               1633 non-null   float64\n",
      " 11  weightNull           1633 non-null   int64  \n",
      " 12  bmi                  1633 non-null   float64\n",
      " 13  bmiNull              1633 non-null   int64  \n",
      " 14  affiliateName        839 non-null    object \n",
      " 15  affiliateId          1633 non-null   int64  \n",
      " 16  countryOfOriginName  1140 non-null   object \n",
      " 17  countryOfOriginCode  1633 non-null   int64  \n",
      " 18  regionName           1178 non-null   object \n",
      " 19  regionId             1633 non-null   int64  \n",
      " 20  status               1633 non-null   object \n",
      " 21  statusId             1633 non-null   int64  \n",
      " 22  year                 1633 non-null   int64  \n",
      " 23  overallRank          1633 non-null   int64  \n",
      " 24  overallScore         1633 non-null   int64  \n",
      " 25  openCompetitor       1633 non-null   int64  \n",
      " 26  openRank             1633 non-null   int64  \n",
      " 27  openScore            1633 non-null   int64  \n",
      " 28  gamesCompetitions    1633 non-null   int64  \n",
      " 29  openCompetitions     1633 non-null   int64  \n",
      "dtypes: float64(3), int64(19), object(8)\n",
      "memory usage: 395.5+ KB\n"
     ]
    }
   ],
   "source": [
    "df_games_and_open.info()"
   ]
  },
  {
   "cell_type": "markdown",
   "metadata": {},
   "source": [
    "##### Numeric Variables"
   ]
  },
  {
   "cell_type": "code",
   "execution_count": 6,
   "metadata": {},
   "outputs": [
    {
     "data": {
      "text/html": [
       "<div>\n",
       "<style scoped>\n",
       "    .dataframe tbody tr th:only-of-type {\n",
       "        vertical-align: middle;\n",
       "    }\n",
       "\n",
       "    .dataframe tbody tr th {\n",
       "        vertical-align: top;\n",
       "    }\n",
       "\n",
       "    .dataframe thead th {\n",
       "        text-align: right;\n",
       "    }\n",
       "</style>\n",
       "<table border=\"1\" class=\"dataframe\">\n",
       "  <thead>\n",
       "    <tr style=\"text-align: right;\">\n",
       "      <th></th>\n",
       "      <th>count</th>\n",
       "      <th>mean</th>\n",
       "      <th>std</th>\n",
       "      <th>min</th>\n",
       "      <th>25%</th>\n",
       "      <th>50%</th>\n",
       "      <th>75%</th>\n",
       "      <th>max</th>\n",
       "    </tr>\n",
       "  </thead>\n",
       "  <tbody>\n",
       "    <tr>\n",
       "      <th>competitorId</th>\n",
       "      <td>1633.0</td>\n",
       "      <td>317673.375383</td>\n",
       "      <td>562906.224038</td>\n",
       "      <td>1616.00000</td>\n",
       "      <td>15679.000000</td>\n",
       "      <td>58489.00000</td>\n",
       "      <td>310970.000000</td>\n",
       "      <td>2.377152e+06</td>\n",
       "    </tr>\n",
       "    <tr>\n",
       "      <th>genderId</th>\n",
       "      <td>1633.0</td>\n",
       "      <td>1.461115</td>\n",
       "      <td>0.498638</td>\n",
       "      <td>1.00000</td>\n",
       "      <td>1.000000</td>\n",
       "      <td>1.00000</td>\n",
       "      <td>2.000000</td>\n",
       "      <td>2.000000e+00</td>\n",
       "    </tr>\n",
       "    <tr>\n",
       "      <th>age</th>\n",
       "      <td>1633.0</td>\n",
       "      <td>27.860380</td>\n",
       "      <td>4.544724</td>\n",
       "      <td>13.00000</td>\n",
       "      <td>25.000000</td>\n",
       "      <td>27.00000</td>\n",
       "      <td>30.000000</td>\n",
       "      <td>5.400000e+01</td>\n",
       "    </tr>\n",
       "    <tr>\n",
       "      <th>ageNull</th>\n",
       "      <td>1633.0</td>\n",
       "      <td>0.047152</td>\n",
       "      <td>0.212030</td>\n",
       "      <td>0.00000</td>\n",
       "      <td>0.000000</td>\n",
       "      <td>0.00000</td>\n",
       "      <td>0.000000</td>\n",
       "      <td>1.000000e+00</td>\n",
       "    </tr>\n",
       "    <tr>\n",
       "      <th>height</th>\n",
       "      <td>1633.0</td>\n",
       "      <td>171.785128</td>\n",
       "      <td>8.450826</td>\n",
       "      <td>150.00000</td>\n",
       "      <td>165.374825</td>\n",
       "      <td>171.00000</td>\n",
       "      <td>178.000000</td>\n",
       "      <td>1.990000e+02</td>\n",
       "    </tr>\n",
       "    <tr>\n",
       "      <th>heightNull</th>\n",
       "      <td>1633.0</td>\n",
       "      <td>0.103491</td>\n",
       "      <td>0.304692</td>\n",
       "      <td>0.00000</td>\n",
       "      <td>0.000000</td>\n",
       "      <td>0.00000</td>\n",
       "      <td>0.000000</td>\n",
       "      <td>1.000000e+00</td>\n",
       "    </tr>\n",
       "    <tr>\n",
       "      <th>weight</th>\n",
       "      <td>1633.0</td>\n",
       "      <td>77.746615</td>\n",
       "      <td>12.987179</td>\n",
       "      <td>50.00000</td>\n",
       "      <td>65.663854</td>\n",
       "      <td>80.00000</td>\n",
       "      <td>88.375447</td>\n",
       "      <td>1.090000e+02</td>\n",
       "    </tr>\n",
       "    <tr>\n",
       "      <th>weightNull</th>\n",
       "      <td>1633.0</td>\n",
       "      <td>0.100429</td>\n",
       "      <td>0.300663</td>\n",
       "      <td>0.00000</td>\n",
       "      <td>0.000000</td>\n",
       "      <td>0.00000</td>\n",
       "      <td>0.000000</td>\n",
       "      <td>1.000000e+00</td>\n",
       "    </tr>\n",
       "    <tr>\n",
       "      <th>bmi</th>\n",
       "      <td>1633.0</td>\n",
       "      <td>26.169534</td>\n",
       "      <td>2.659314</td>\n",
       "      <td>15.65617</td>\n",
       "      <td>24.013081</td>\n",
       "      <td>26.21641</td>\n",
       "      <td>28.086260</td>\n",
       "      <td>3.955556e+01</td>\n",
       "    </tr>\n",
       "    <tr>\n",
       "      <th>bmiNull</th>\n",
       "      <td>1633.0</td>\n",
       "      <td>0.109614</td>\n",
       "      <td>0.312504</td>\n",
       "      <td>0.00000</td>\n",
       "      <td>0.000000</td>\n",
       "      <td>0.00000</td>\n",
       "      <td>0.000000</td>\n",
       "      <td>1.000000e+00</td>\n",
       "    </tr>\n",
       "    <tr>\n",
       "      <th>affiliateId</th>\n",
       "      <td>1633.0</td>\n",
       "      <td>3944.567055</td>\n",
       "      <td>6285.218117</td>\n",
       "      <td>0.00000</td>\n",
       "      <td>0.000000</td>\n",
       "      <td>372.00000</td>\n",
       "      <td>5490.000000</td>\n",
       "      <td>2.960900e+04</td>\n",
       "    </tr>\n",
       "    <tr>\n",
       "      <th>countryOfOriginCode</th>\n",
       "      <td>1633.0</td>\n",
       "      <td>9.276791</td>\n",
       "      <td>22.034021</td>\n",
       "      <td>0.00000</td>\n",
       "      <td>0.000000</td>\n",
       "      <td>1.00000</td>\n",
       "      <td>5.000000</td>\n",
       "      <td>1.150000e+02</td>\n",
       "    </tr>\n",
       "    <tr>\n",
       "      <th>regionId</th>\n",
       "      <td>1633.0</td>\n",
       "      <td>1.853644</td>\n",
       "      <td>2.124210</td>\n",
       "      <td>0.00000</td>\n",
       "      <td>0.000000</td>\n",
       "      <td>1.00000</td>\n",
       "      <td>4.000000</td>\n",
       "      <td>7.000000e+00</td>\n",
       "    </tr>\n",
       "    <tr>\n",
       "      <th>statusId</th>\n",
       "      <td>1633.0</td>\n",
       "      <td>2.256583</td>\n",
       "      <td>1.457211</td>\n",
       "      <td>1.00000</td>\n",
       "      <td>1.000000</td>\n",
       "      <td>1.00000</td>\n",
       "      <td>4.000000</td>\n",
       "      <td>5.000000e+00</td>\n",
       "    </tr>\n",
       "    <tr>\n",
       "      <th>year</th>\n",
       "      <td>1633.0</td>\n",
       "      <td>2014.430496</td>\n",
       "      <td>4.650029</td>\n",
       "      <td>2007.00000</td>\n",
       "      <td>2010.000000</td>\n",
       "      <td>2014.00000</td>\n",
       "      <td>2019.000000</td>\n",
       "      <td>2.022000e+03</td>\n",
       "    </tr>\n",
       "    <tr>\n",
       "      <th>overallRank</th>\n",
       "      <td>1633.0</td>\n",
       "      <td>33.088794</td>\n",
       "      <td>28.944463</td>\n",
       "      <td>-1.00000</td>\n",
       "      <td>13.000000</td>\n",
       "      <td>26.00000</td>\n",
       "      <td>40.000000</td>\n",
       "      <td>1.410000e+02</td>\n",
       "    </tr>\n",
       "    <tr>\n",
       "      <th>overallScore</th>\n",
       "      <td>1633.0</td>\n",
       "      <td>326.676056</td>\n",
       "      <td>296.719965</td>\n",
       "      <td>0.00000</td>\n",
       "      <td>48.000000</td>\n",
       "      <td>237.00000</td>\n",
       "      <td>562.000000</td>\n",
       "      <td>1.435000e+03</td>\n",
       "    </tr>\n",
       "    <tr>\n",
       "      <th>openCompetitor</th>\n",
       "      <td>1633.0</td>\n",
       "      <td>0.703001</td>\n",
       "      <td>0.457076</td>\n",
       "      <td>0.00000</td>\n",
       "      <td>0.000000</td>\n",
       "      <td>1.00000</td>\n",
       "      <td>1.000000</td>\n",
       "      <td>1.000000e+00</td>\n",
       "    </tr>\n",
       "    <tr>\n",
       "      <th>openRank</th>\n",
       "      <td>1633.0</td>\n",
       "      <td>42395.987753</td>\n",
       "      <td>63788.759843</td>\n",
       "      <td>1.00000</td>\n",
       "      <td>29.000000</td>\n",
       "      <td>134.00000</td>\n",
       "      <td>140133.000000</td>\n",
       "      <td>1.401330e+05</td>\n",
       "    </tr>\n",
       "    <tr>\n",
       "      <th>openScore</th>\n",
       "      <td>1633.0</td>\n",
       "      <td>185012.301286</td>\n",
       "      <td>274513.154008</td>\n",
       "      <td>4.00000</td>\n",
       "      <td>564.000000</td>\n",
       "      <td>1781.00000</td>\n",
       "      <td>604776.000000</td>\n",
       "      <td>6.047760e+05</td>\n",
       "    </tr>\n",
       "    <tr>\n",
       "      <th>gamesCompetitions</th>\n",
       "      <td>1633.0</td>\n",
       "      <td>1.014697</td>\n",
       "      <td>1.665989</td>\n",
       "      <td>0.00000</td>\n",
       "      <td>0.000000</td>\n",
       "      <td>0.00000</td>\n",
       "      <td>1.000000</td>\n",
       "      <td>1.000000e+01</td>\n",
       "    </tr>\n",
       "    <tr>\n",
       "      <th>openCompetitions</th>\n",
       "      <td>1633.0</td>\n",
       "      <td>0.848132</td>\n",
       "      <td>1.572266</td>\n",
       "      <td>0.00000</td>\n",
       "      <td>0.000000</td>\n",
       "      <td>0.00000</td>\n",
       "      <td>1.000000</td>\n",
       "      <td>9.000000e+00</td>\n",
       "    </tr>\n",
       "  </tbody>\n",
       "</table>\n",
       "</div>"
      ],
      "text/plain": [
       "                      count           mean            std         min  \\\n",
       "competitorId         1633.0  317673.375383  562906.224038  1616.00000   \n",
       "genderId             1633.0       1.461115       0.498638     1.00000   \n",
       "age                  1633.0      27.860380       4.544724    13.00000   \n",
       "ageNull              1633.0       0.047152       0.212030     0.00000   \n",
       "height               1633.0     171.785128       8.450826   150.00000   \n",
       "heightNull           1633.0       0.103491       0.304692     0.00000   \n",
       "weight               1633.0      77.746615      12.987179    50.00000   \n",
       "weightNull           1633.0       0.100429       0.300663     0.00000   \n",
       "bmi                  1633.0      26.169534       2.659314    15.65617   \n",
       "bmiNull              1633.0       0.109614       0.312504     0.00000   \n",
       "affiliateId          1633.0    3944.567055    6285.218117     0.00000   \n",
       "countryOfOriginCode  1633.0       9.276791      22.034021     0.00000   \n",
       "regionId             1633.0       1.853644       2.124210     0.00000   \n",
       "statusId             1633.0       2.256583       1.457211     1.00000   \n",
       "year                 1633.0    2014.430496       4.650029  2007.00000   \n",
       "overallRank          1633.0      33.088794      28.944463    -1.00000   \n",
       "overallScore         1633.0     326.676056     296.719965     0.00000   \n",
       "openCompetitor       1633.0       0.703001       0.457076     0.00000   \n",
       "openRank             1633.0   42395.987753   63788.759843     1.00000   \n",
       "openScore            1633.0  185012.301286  274513.154008     4.00000   \n",
       "gamesCompetitions    1633.0       1.014697       1.665989     0.00000   \n",
       "openCompetitions     1633.0       0.848132       1.572266     0.00000   \n",
       "\n",
       "                              25%          50%            75%           max  \n",
       "competitorId         15679.000000  58489.00000  310970.000000  2.377152e+06  \n",
       "genderId                 1.000000      1.00000       2.000000  2.000000e+00  \n",
       "age                     25.000000     27.00000      30.000000  5.400000e+01  \n",
       "ageNull                  0.000000      0.00000       0.000000  1.000000e+00  \n",
       "height                 165.374825    171.00000     178.000000  1.990000e+02  \n",
       "heightNull               0.000000      0.00000       0.000000  1.000000e+00  \n",
       "weight                  65.663854     80.00000      88.375447  1.090000e+02  \n",
       "weightNull               0.000000      0.00000       0.000000  1.000000e+00  \n",
       "bmi                     24.013081     26.21641      28.086260  3.955556e+01  \n",
       "bmiNull                  0.000000      0.00000       0.000000  1.000000e+00  \n",
       "affiliateId              0.000000    372.00000    5490.000000  2.960900e+04  \n",
       "countryOfOriginCode      0.000000      1.00000       5.000000  1.150000e+02  \n",
       "regionId                 0.000000      1.00000       4.000000  7.000000e+00  \n",
       "statusId                 1.000000      1.00000       4.000000  5.000000e+00  \n",
       "year                  2010.000000   2014.00000    2019.000000  2.022000e+03  \n",
       "overallRank             13.000000     26.00000      40.000000  1.410000e+02  \n",
       "overallScore            48.000000    237.00000     562.000000  1.435000e+03  \n",
       "openCompetitor           0.000000      1.00000       1.000000  1.000000e+00  \n",
       "openRank                29.000000    134.00000  140133.000000  1.401330e+05  \n",
       "openScore              564.000000   1781.00000  604776.000000  6.047760e+05  \n",
       "gamesCompetitions        0.000000      0.00000       1.000000  1.000000e+01  \n",
       "openCompetitions         0.000000      0.00000       1.000000  9.000000e+00  "
      ]
     },
     "execution_count": 6,
     "metadata": {},
     "output_type": "execute_result"
    }
   ],
   "source": [
    "numerical_games = df_games_and_open.select_dtypes(include=[np.number])\n",
    "numerical_games.describe().T"
   ]
  },
  {
   "cell_type": "code",
   "execution_count": 7,
   "metadata": {},
   "outputs": [
    {
     "data": {
      "application/vnd.plotly.v1+json": {
       "config": {
        "plotlyServerURL": "https://plot.ly"
       },
       "data": [
        {
         "colorbar": {
          "title": {
           "text": "Correlation"
          }
         },
         "colorscale": [
          [
           0,
           "rgb(103,0,31)"
          ],
          [
           0.1,
           "rgb(178,24,43)"
          ],
          [
           0.2,
           "rgb(214,96,77)"
          ],
          [
           0.3,
           "rgb(244,165,130)"
          ],
          [
           0.4,
           "rgb(253,219,199)"
          ],
          [
           0.5,
           "rgb(247,247,247)"
          ],
          [
           0.6,
           "rgb(209,229,240)"
          ],
          [
           0.7,
           "rgb(146,197,222)"
          ],
          [
           0.8,
           "rgb(67,147,195)"
          ],
          [
           0.9,
           "rgb(33,102,172)"
          ],
          [
           1,
           "rgb(5,48,97)"
          ]
         ],
         "type": "heatmap",
         "x": [
          "competitorId",
          "genderId",
          "age",
          "ageNull",
          "height",
          "heightNull",
          "weight",
          "weightNull",
          "bmi",
          "bmiNull",
          "affiliateId",
          "countryOfOriginCode",
          "regionId",
          "statusId",
          "year",
          "overallRank",
          "overallScore",
          "openCompetitor",
          "openRank",
          "openScore",
          "gamesCompetitions",
          "openCompetitions"
         ],
         "y": [
          "competitorId",
          "genderId",
          "age",
          "ageNull",
          "height",
          "heightNull",
          "weight",
          "weightNull",
          "bmi",
          "bmiNull",
          "affiliateId",
          "countryOfOriginCode",
          "regionId",
          "statusId",
          "year",
          "overallRank",
          "overallScore",
          "openCompetitor",
          "openRank",
          "openScore",
          "gamesCompetitions",
          "openCompetitions"
         ],
         "z": [
          [
           1,
           0.051655456501295376,
           -0.10514491445145163,
           0.8140923708775065,
           -0.05031532290409187,
           0.5682991090256311,
           -0.04686658343657375,
           0.5724659116617699,
           -0.028801589542985322,
           0.5469239036642131,
           0.11725899554376117,
           0.2067562687939535,
           -0.007388225842713112,
           0.04086306339170048,
           -0.02304901043302113,
           0.20162186198527773,
           -0.22109901841268648,
           -0.19791525656353892,
           0.2069091234324278,
           0.21114507696561058,
           -0.24416132834889448,
           -0.18956877261926713
          ],
          [
           0.051655456501295376,
           1,
           0.07493361481253576,
           0.026046411922040394,
           -0.7055255462302862,
           0.00028895695153961104,
           -0.8695284214407925,
           0.026064291689335262,
           -0.7625813077825508,
           0.013607481870503639,
           0.036118727765047716,
           0.013416930160102123,
           0.06606738038257312,
           0.03692977996380282,
           0.0898066592640278,
           -0.10676841227166872,
           0.06792698915867831,
           0.0850647086364839,
           -0.08556001981308622,
           -0.08699755296685331,
           0.04568208927985033,
           0.05498849037402781
          ],
          [
           -0.10514491445145163,
           0.07493361481253576,
           1,
           -0.04212658287709515,
           -0.08104025076834584,
           -0.010356303537638653,
           -0.11313441918405033,
           -0.03995594922851232,
           -0.10765306514454413,
           -0.024595310772111377,
           -0.02111234920785716,
           0.07574132068511927,
           -0.05060977642942957,
           0.06814332073257971,
           -0.06929258605549567,
           0.13884916317739582,
           -0.1520899723573731,
           -0.10315708047855464,
           0.11341352745751951,
           0.11755166971779551,
           0.12465792837093101,
           0.08398369896806489
          ],
          [
           0.8140923708775065,
           0.026046411922040394,
           -0.04212658287709515,
           1,
           -0.016991357535664216,
           0.6547383088563493,
           -0.020036473729141725,
           0.6657781531792225,
           -0.016742900832692937,
           0.6340102133334112,
           -0.13965374001002434,
           -0.09368662571551557,
           -0.1941790584791598,
           -0.05901304539605356,
           -0.30958916121609703,
           0.03276474766361107,
           -0.15582260307421075,
           -0.34224778097533426,
           0.3409482623472567,
           0.34026344894734545,
           -0.1355307338772501,
           -0.1200359050250764
          ],
          [
           -0.05031532290409187,
           -0.7055255462302862,
           -0.08104025076834584,
           -0.016991357535664216,
           1,
           0.002005595503693542,
           0.8399423474502022,
           -0.015974491175052796,
           0.4224399818649416,
           -0.007058811364174522,
           -0.061621896917679865,
           -0.08264679877869792,
           -0.09595378732640719,
           -0.03569026326206132,
           -0.09271866223435557,
           0.010496927529124029,
           -0.026574766107606895,
           -0.10544518241366435,
           0.10326920487151198,
           0.10273697064079379,
           -0.024676567590100132,
           -0.03898148413989128
          ],
          [
           0.5682991090256311,
           0.00028895695153961104,
           -0.010356303537638653,
           0.6547383088563493,
           0.002005595503693542,
           1,
           0.005881567785963857,
           0.9165314795125503,
           0.004576792081036545,
           0.9683414041265659,
           -0.20926551042957947,
           -0.1307688113062335,
           -0.2700668991065825,
           -0.02810142577859657,
           -0.43020858712608523,
           0.07378628417783804,
           -0.2372360963199803,
           -0.4919261135516124,
           0.4898766855871471,
           0.48883078423696164,
           -0.1876860861035906,
           -0.17949697141187249
          ],
          [
           -0.04686658343657375,
           -0.8695284214407925,
           -0.11313441918405033,
           -0.020036473729141725,
           0.8399423474502022,
           0.005881567785963857,
           1,
           -0.018708658309734012,
           0.8410483674075758,
           -0.005649763809083344,
           -0.04693125828870874,
           -0.09739621540736486,
           -0.07136965765240269,
           -0.06963256031570374,
           -0.046490945878334654,
           -0.0011749087632087825,
           -0.001921423073876387,
           -0.04988696407729307,
           0.04459083123562949,
           0.043077843437123856,
           -0.02413411557018251,
           -0.01698267668735351
          ],
          [
           0.5724659116617699,
           0.026064291689335262,
           -0.03995594922851232,
           0.6657781531792225,
           -0.015974491175052796,
           0.9165314795125503,
           -0.018708658309734012,
           1,
           -0.015179747334407903,
           0.9522844964285577,
           -0.20509097368918486,
           -0.12804601276834024,
           -0.26287509758972283,
           -0.022488127562784076,
           -0.41969062992074807,
           0.0697367851617007,
           -0.2297391009031889,
           -0.4739281863831022,
           0.47188040440926965,
           0.47083645601189617,
           -0.18888797494302215,
           -0.17640552871623758
          ],
          [
           -0.028801589542985322,
           -0.7625813077825508,
           -0.10765306514454413,
           -0.016742900832692937,
           0.4224399818649416,
           0.004576792081036545,
           0.8410483674075758,
           -0.015179747334407903,
           1,
           -0.005433777295374913,
           -0.013524088408311999,
           -0.0783847871643913,
           -0.0270514527161264,
           -0.07836451643830318,
           0.013941794828183883,
           -0.007688259694239059,
           0.01886541112820517,
           0.017716514651404405,
           -0.024088067074004592,
           -0.02596054713079576,
           -0.014660675256508488,
           0.009911434805509229
          ],
          [
           0.5469239036642131,
           0.013607481870503639,
           -0.024595310772111377,
           0.6340102133334112,
           -0.007058811364174522,
           0.9683414041265659,
           -0.005649763809083344,
           0.9522844964285577,
           -0.005433777295374913,
           1,
           -0.21577821341419115,
           -0.13557699224355232,
           -0.27857957887393314,
           -0.020086942112800012,
           -0.44150913522947527,
           0.07547190101141057,
           -0.2430068778494235,
           -0.5012062260888331,
           0.4990642764417903,
           0.49796937101544647,
           -0.19375954864666292,
           -0.18558675621403223
          ],
          [
           0.11725899554376117,
           0.036118727765047716,
           -0.02111234920785716,
           -0.13965374001002434,
           -0.061621896917679865,
           -0.20926551042957947,
           -0.04693125828870874,
           -0.20509097368918486,
           -0.013524088408311999,
           -0.21577821341419115,
           1,
           0.4202812675201822,
           0.3787029438910292,
           0.09133623114772912,
           0.5901803254168514,
           0.20990465278885606,
           -0.0019142134421848193,
           0.39939673283148996,
           -0.38762818717856345,
           -0.381863411236648,
           0.00894878626787174,
           0.09952005199399314
          ],
          [
           0.2067562687939535,
           0.013416930160102123,
           0.07574132068511927,
           -0.09368662571551557,
           -0.08264679877869792,
           -0.1307688113062335,
           -0.09739621540736486,
           -0.12804601276834024,
           -0.0783847871643913,
           -0.13557699224355232,
           0.4202812675201822,
           1,
           0.466490611620528,
           0.34665679075684525,
           0.40642465815768347,
           0.6223681484730662,
           -0.26885700319574957,
           0.2667424438640712,
           -0.23337197065664073,
           -0.21587036734644985,
           -0.16285998080843558,
           -0.12300336352524473
          ],
          [
           -0.007388225842713112,
           0.06606738038257312,
           -0.05060977642942957,
           -0.1941790584791598,
           -0.09595378732640719,
           -0.2700668991065825,
           -0.07136965765240269,
           -0.26287509758972283,
           -0.0270514527161264,
           -0.27857957887393314,
           0.3787029438910292,
           0.466490611620528,
           1,
           0.13942226619027986,
           0.5538287675833223,
           0.2036854596234314,
           0.0787334751659012,
           0.5168764784142356,
           -0.5039474949022726,
           -0.49688039241173787,
           0.06068954487124437,
           0.1375453851914539
          ],
          [
           0.04086306339170048,
           0.03692977996380282,
           0.06814332073257971,
           -0.05901304539605356,
           -0.03569026326206132,
           -0.02810142577859657,
           -0.06963256031570374,
           -0.022488127562784076,
           -0.07836451643830318,
           -0.020086942112800012,
           0.09133623114772912,
           0.34665679075684525,
           0.13942226619027986,
           1,
           0.03532309152482942,
           0.4507283938466447,
           -0.440591390965192,
           -0.01523201028986461,
           0.028830785538844567,
           0.035562713376301854,
           -0.25799031480855034,
           -0.2833205678491465
          ],
          [
           -0.02304901043302113,
           0.0898066592640278,
           -0.06929258605549567,
           -0.30958916121609703,
           -0.09271866223435557,
           -0.43020858712608523,
           -0.046490945878334654,
           -0.41969062992074807,
           0.013941794828183883,
           -0.44150913522947527,
           0.5901803254168514,
           0.40642465815768347,
           0.5538287675833223,
           0.03532309152482942,
           1,
           0.050536397060769706,
           0.285468702174718,
           0.7838108811714939,
           -0.7757609550623116,
           -0.7719642974480164,
           0.28550869102244186,
           0.4259886610293765
          ],
          [
           0.20162186198527773,
           -0.10676841227166872,
           0.13884916317739582,
           0.03276474766361107,
           0.010496927529124029,
           0.07378628417783804,
           -0.0011749087632087825,
           0.0697367851617007,
           -0.007688259694239059,
           0.07547190101141057,
           0.20990465278885606,
           0.6223681484730662,
           0.2036854596234314,
           0.4507283938466447,
           0.050536397060769706,
           1,
           -0.5976591274826536,
           -0.057381811975089014,
           0.08679151033466544,
           0.10165961590364694,
           -0.34250551519498357,
           -0.31128414709339847
          ],
          [
           -0.22109901841268648,
           0.06792698915867831,
           -0.1520899723573731,
           -0.15582260307421075,
           -0.026574766107606895,
           -0.2372360963199803,
           -0.001921423073876387,
           -0.2297391009031889,
           0.01886541112820517,
           -0.2430068778494235,
           -0.0019142134421848193,
           -0.26885700319574957,
           0.0787334751659012,
           -0.440591390965192,
           0.285468702174718,
           -0.5976591274826536,
           1,
           0.4634269090311381,
           -0.4772198690834385,
           -0.4840780598288526,
           0.4914703637382491,
           0.47292251497017557
          ],
          [
           -0.19791525656353892,
           0.0850647086364839,
           -0.10315708047855464,
           -0.34224778097533426,
           -0.10544518241366435,
           -0.4919261135516124,
           -0.04988696407729307,
           -0.4739281863831022,
           0.017716514651404405,
           -0.5012062260888331,
           0.39939673283148996,
           0.2667424438640712,
           0.5168764784142356,
           -0.01523201028986461,
           0.7838108811714939,
           -0.057381811975089014,
           0.4634269090311381,
           1,
           -0.9962029888860826,
           -0.9942020602081502,
           0.2962224166664329,
           0.35072807392059413
          ],
          [
           0.2069091234324278,
           -0.08556001981308622,
           0.11341352745751951,
           0.3409482623472567,
           0.10326920487151198,
           0.4898766855871471,
           0.04459083123562949,
           0.47188040440926965,
           -0.024088067074004592,
           0.4990642764417903,
           -0.38762818717856345,
           -0.23337197065664073,
           -0.5039474949022726,
           0.028830785538844567,
           -0.7757609550623116,
           0.08679151033466544,
           -0.4772198690834385,
           -0.9962029888860826,
           1,
           0.9996418787102594,
           -0.30407263880123825,
           -0.35804177539365784
          ],
          [
           0.21114507696561058,
           -0.08699755296685331,
           0.11755166971779551,
           0.34026344894734545,
           0.10273697064079379,
           0.48883078423696164,
           0.043077843437123856,
           0.47083645601189617,
           -0.02596054713079576,
           0.49796937101544647,
           -0.381863411236648,
           -0.21587036734644985,
           -0.49688039241173787,
           0.035562713376301854,
           -0.7719642974480164,
           0.10165961590364694,
           -0.4840780598288526,
           -0.9942020602081502,
           0.9996418787102594,
           1,
           -0.30801242177900795,
           -0.3617901113269686
          ],
          [
           -0.24416132834889448,
           0.04568208927985033,
           0.12465792837093101,
           -0.1355307338772501,
           -0.024676567590100132,
           -0.1876860861035906,
           -0.02413411557018251,
           -0.18888797494302215,
           -0.014660675256508488,
           -0.19375954864666292,
           0.00894878626787174,
           -0.16285998080843558,
           0.06068954487124437,
           -0.25799031480855034,
           0.28550869102244186,
           -0.34250551519498357,
           0.4914703637382491,
           0.2962224166664329,
           -0.30407263880123825,
           -0.30801242177900795,
           1,
           0.906854776418651
          ],
          [
           -0.18956877261926713,
           0.05498849037402781,
           0.08398369896806489,
           -0.1200359050250764,
           -0.03898148413989128,
           -0.17949697141187249,
           -0.01698267668735351,
           -0.17640552871623758,
           0.009911434805509229,
           -0.18558675621403223,
           0.09952005199399314,
           -0.12300336352524473,
           0.1375453851914539,
           -0.2833205678491465,
           0.4259886610293765,
           -0.31128414709339847,
           0.47292251497017557,
           0.35072807392059413,
           -0.35804177539365784,
           -0.3617901113269686,
           0.906854776418651,
           1
          ]
         ]
        }
       ],
       "layout": {
        "template": {
         "data": {
          "bar": [
           {
            "error_x": {
             "color": "#2a3f5f"
            },
            "error_y": {
             "color": "#2a3f5f"
            },
            "marker": {
             "line": {
              "color": "#E5ECF6",
              "width": 0.5
             },
             "pattern": {
              "fillmode": "overlay",
              "size": 10,
              "solidity": 0.2
             }
            },
            "type": "bar"
           }
          ],
          "barpolar": [
           {
            "marker": {
             "line": {
              "color": "#E5ECF6",
              "width": 0.5
             },
             "pattern": {
              "fillmode": "overlay",
              "size": 10,
              "solidity": 0.2
             }
            },
            "type": "barpolar"
           }
          ],
          "carpet": [
           {
            "aaxis": {
             "endlinecolor": "#2a3f5f",
             "gridcolor": "white",
             "linecolor": "white",
             "minorgridcolor": "white",
             "startlinecolor": "#2a3f5f"
            },
            "baxis": {
             "endlinecolor": "#2a3f5f",
             "gridcolor": "white",
             "linecolor": "white",
             "minorgridcolor": "white",
             "startlinecolor": "#2a3f5f"
            },
            "type": "carpet"
           }
          ],
          "choropleth": [
           {
            "colorbar": {
             "outlinewidth": 0,
             "ticks": ""
            },
            "type": "choropleth"
           }
          ],
          "contour": [
           {
            "colorbar": {
             "outlinewidth": 0,
             "ticks": ""
            },
            "colorscale": [
             [
              0,
              "#0d0887"
             ],
             [
              0.1111111111111111,
              "#46039f"
             ],
             [
              0.2222222222222222,
              "#7201a8"
             ],
             [
              0.3333333333333333,
              "#9c179e"
             ],
             [
              0.4444444444444444,
              "#bd3786"
             ],
             [
              0.5555555555555556,
              "#d8576b"
             ],
             [
              0.6666666666666666,
              "#ed7953"
             ],
             [
              0.7777777777777778,
              "#fb9f3a"
             ],
             [
              0.8888888888888888,
              "#fdca26"
             ],
             [
              1,
              "#f0f921"
             ]
            ],
            "type": "contour"
           }
          ],
          "contourcarpet": [
           {
            "colorbar": {
             "outlinewidth": 0,
             "ticks": ""
            },
            "type": "contourcarpet"
           }
          ],
          "heatmap": [
           {
            "colorbar": {
             "outlinewidth": 0,
             "ticks": ""
            },
            "colorscale": [
             [
              0,
              "#0d0887"
             ],
             [
              0.1111111111111111,
              "#46039f"
             ],
             [
              0.2222222222222222,
              "#7201a8"
             ],
             [
              0.3333333333333333,
              "#9c179e"
             ],
             [
              0.4444444444444444,
              "#bd3786"
             ],
             [
              0.5555555555555556,
              "#d8576b"
             ],
             [
              0.6666666666666666,
              "#ed7953"
             ],
             [
              0.7777777777777778,
              "#fb9f3a"
             ],
             [
              0.8888888888888888,
              "#fdca26"
             ],
             [
              1,
              "#f0f921"
             ]
            ],
            "type": "heatmap"
           }
          ],
          "heatmapgl": [
           {
            "colorbar": {
             "outlinewidth": 0,
             "ticks": ""
            },
            "colorscale": [
             [
              0,
              "#0d0887"
             ],
             [
              0.1111111111111111,
              "#46039f"
             ],
             [
              0.2222222222222222,
              "#7201a8"
             ],
             [
              0.3333333333333333,
              "#9c179e"
             ],
             [
              0.4444444444444444,
              "#bd3786"
             ],
             [
              0.5555555555555556,
              "#d8576b"
             ],
             [
              0.6666666666666666,
              "#ed7953"
             ],
             [
              0.7777777777777778,
              "#fb9f3a"
             ],
             [
              0.8888888888888888,
              "#fdca26"
             ],
             [
              1,
              "#f0f921"
             ]
            ],
            "type": "heatmapgl"
           }
          ],
          "histogram": [
           {
            "marker": {
             "pattern": {
              "fillmode": "overlay",
              "size": 10,
              "solidity": 0.2
             }
            },
            "type": "histogram"
           }
          ],
          "histogram2d": [
           {
            "colorbar": {
             "outlinewidth": 0,
             "ticks": ""
            },
            "colorscale": [
             [
              0,
              "#0d0887"
             ],
             [
              0.1111111111111111,
              "#46039f"
             ],
             [
              0.2222222222222222,
              "#7201a8"
             ],
             [
              0.3333333333333333,
              "#9c179e"
             ],
             [
              0.4444444444444444,
              "#bd3786"
             ],
             [
              0.5555555555555556,
              "#d8576b"
             ],
             [
              0.6666666666666666,
              "#ed7953"
             ],
             [
              0.7777777777777778,
              "#fb9f3a"
             ],
             [
              0.8888888888888888,
              "#fdca26"
             ],
             [
              1,
              "#f0f921"
             ]
            ],
            "type": "histogram2d"
           }
          ],
          "histogram2dcontour": [
           {
            "colorbar": {
             "outlinewidth": 0,
             "ticks": ""
            },
            "colorscale": [
             [
              0,
              "#0d0887"
             ],
             [
              0.1111111111111111,
              "#46039f"
             ],
             [
              0.2222222222222222,
              "#7201a8"
             ],
             [
              0.3333333333333333,
              "#9c179e"
             ],
             [
              0.4444444444444444,
              "#bd3786"
             ],
             [
              0.5555555555555556,
              "#d8576b"
             ],
             [
              0.6666666666666666,
              "#ed7953"
             ],
             [
              0.7777777777777778,
              "#fb9f3a"
             ],
             [
              0.8888888888888888,
              "#fdca26"
             ],
             [
              1,
              "#f0f921"
             ]
            ],
            "type": "histogram2dcontour"
           }
          ],
          "mesh3d": [
           {
            "colorbar": {
             "outlinewidth": 0,
             "ticks": ""
            },
            "type": "mesh3d"
           }
          ],
          "parcoords": [
           {
            "line": {
             "colorbar": {
              "outlinewidth": 0,
              "ticks": ""
             }
            },
            "type": "parcoords"
           }
          ],
          "pie": [
           {
            "automargin": true,
            "type": "pie"
           }
          ],
          "scatter": [
           {
            "fillpattern": {
             "fillmode": "overlay",
             "size": 10,
             "solidity": 0.2
            },
            "type": "scatter"
           }
          ],
          "scatter3d": [
           {
            "line": {
             "colorbar": {
              "outlinewidth": 0,
              "ticks": ""
             }
            },
            "marker": {
             "colorbar": {
              "outlinewidth": 0,
              "ticks": ""
             }
            },
            "type": "scatter3d"
           }
          ],
          "scattercarpet": [
           {
            "marker": {
             "colorbar": {
              "outlinewidth": 0,
              "ticks": ""
             }
            },
            "type": "scattercarpet"
           }
          ],
          "scattergeo": [
           {
            "marker": {
             "colorbar": {
              "outlinewidth": 0,
              "ticks": ""
             }
            },
            "type": "scattergeo"
           }
          ],
          "scattergl": [
           {
            "marker": {
             "colorbar": {
              "outlinewidth": 0,
              "ticks": ""
             }
            },
            "type": "scattergl"
           }
          ],
          "scattermapbox": [
           {
            "marker": {
             "colorbar": {
              "outlinewidth": 0,
              "ticks": ""
             }
            },
            "type": "scattermapbox"
           }
          ],
          "scatterpolar": [
           {
            "marker": {
             "colorbar": {
              "outlinewidth": 0,
              "ticks": ""
             }
            },
            "type": "scatterpolar"
           }
          ],
          "scatterpolargl": [
           {
            "marker": {
             "colorbar": {
              "outlinewidth": 0,
              "ticks": ""
             }
            },
            "type": "scatterpolargl"
           }
          ],
          "scatterternary": [
           {
            "marker": {
             "colorbar": {
              "outlinewidth": 0,
              "ticks": ""
             }
            },
            "type": "scatterternary"
           }
          ],
          "surface": [
           {
            "colorbar": {
             "outlinewidth": 0,
             "ticks": ""
            },
            "colorscale": [
             [
              0,
              "#0d0887"
             ],
             [
              0.1111111111111111,
              "#46039f"
             ],
             [
              0.2222222222222222,
              "#7201a8"
             ],
             [
              0.3333333333333333,
              "#9c179e"
             ],
             [
              0.4444444444444444,
              "#bd3786"
             ],
             [
              0.5555555555555556,
              "#d8576b"
             ],
             [
              0.6666666666666666,
              "#ed7953"
             ],
             [
              0.7777777777777778,
              "#fb9f3a"
             ],
             [
              0.8888888888888888,
              "#fdca26"
             ],
             [
              1,
              "#f0f921"
             ]
            ],
            "type": "surface"
           }
          ],
          "table": [
           {
            "cells": {
             "fill": {
              "color": "#EBF0F8"
             },
             "line": {
              "color": "white"
             }
            },
            "header": {
             "fill": {
              "color": "#C8D4E3"
             },
             "line": {
              "color": "white"
             }
            },
            "type": "table"
           }
          ]
         },
         "layout": {
          "annotationdefaults": {
           "arrowcolor": "#2a3f5f",
           "arrowhead": 0,
           "arrowwidth": 1
          },
          "autotypenumbers": "strict",
          "coloraxis": {
           "colorbar": {
            "outlinewidth": 0,
            "ticks": ""
           }
          },
          "colorscale": {
           "diverging": [
            [
             0,
             "#8e0152"
            ],
            [
             0.1,
             "#c51b7d"
            ],
            [
             0.2,
             "#de77ae"
            ],
            [
             0.3,
             "#f1b6da"
            ],
            [
             0.4,
             "#fde0ef"
            ],
            [
             0.5,
             "#f7f7f7"
            ],
            [
             0.6,
             "#e6f5d0"
            ],
            [
             0.7,
             "#b8e186"
            ],
            [
             0.8,
             "#7fbc41"
            ],
            [
             0.9,
             "#4d9221"
            ],
            [
             1,
             "#276419"
            ]
           ],
           "sequential": [
            [
             0,
             "#0d0887"
            ],
            [
             0.1111111111111111,
             "#46039f"
            ],
            [
             0.2222222222222222,
             "#7201a8"
            ],
            [
             0.3333333333333333,
             "#9c179e"
            ],
            [
             0.4444444444444444,
             "#bd3786"
            ],
            [
             0.5555555555555556,
             "#d8576b"
            ],
            [
             0.6666666666666666,
             "#ed7953"
            ],
            [
             0.7777777777777778,
             "#fb9f3a"
            ],
            [
             0.8888888888888888,
             "#fdca26"
            ],
            [
             1,
             "#f0f921"
            ]
           ],
           "sequentialminus": [
            [
             0,
             "#0d0887"
            ],
            [
             0.1111111111111111,
             "#46039f"
            ],
            [
             0.2222222222222222,
             "#7201a8"
            ],
            [
             0.3333333333333333,
             "#9c179e"
            ],
            [
             0.4444444444444444,
             "#bd3786"
            ],
            [
             0.5555555555555556,
             "#d8576b"
            ],
            [
             0.6666666666666666,
             "#ed7953"
            ],
            [
             0.7777777777777778,
             "#fb9f3a"
            ],
            [
             0.8888888888888888,
             "#fdca26"
            ],
            [
             1,
             "#f0f921"
            ]
           ]
          },
          "colorway": [
           "#636efa",
           "#EF553B",
           "#00cc96",
           "#ab63fa",
           "#FFA15A",
           "#19d3f3",
           "#FF6692",
           "#B6E880",
           "#FF97FF",
           "#FECB52"
          ],
          "font": {
           "color": "#2a3f5f"
          },
          "geo": {
           "bgcolor": "white",
           "lakecolor": "white",
           "landcolor": "#E5ECF6",
           "showlakes": true,
           "showland": true,
           "subunitcolor": "white"
          },
          "hoverlabel": {
           "align": "left"
          },
          "hovermode": "closest",
          "mapbox": {
           "style": "light"
          },
          "paper_bgcolor": "white",
          "plot_bgcolor": "#E5ECF6",
          "polar": {
           "angularaxis": {
            "gridcolor": "white",
            "linecolor": "white",
            "ticks": ""
           },
           "bgcolor": "#E5ECF6",
           "radialaxis": {
            "gridcolor": "white",
            "linecolor": "white",
            "ticks": ""
           }
          },
          "scene": {
           "xaxis": {
            "backgroundcolor": "#E5ECF6",
            "gridcolor": "white",
            "gridwidth": 2,
            "linecolor": "white",
            "showbackground": true,
            "ticks": "",
            "zerolinecolor": "white"
           },
           "yaxis": {
            "backgroundcolor": "#E5ECF6",
            "gridcolor": "white",
            "gridwidth": 2,
            "linecolor": "white",
            "showbackground": true,
            "ticks": "",
            "zerolinecolor": "white"
           },
           "zaxis": {
            "backgroundcolor": "#E5ECF6",
            "gridcolor": "white",
            "gridwidth": 2,
            "linecolor": "white",
            "showbackground": true,
            "ticks": "",
            "zerolinecolor": "white"
           }
          },
          "shapedefaults": {
           "line": {
            "color": "#2a3f5f"
           }
          },
          "ternary": {
           "aaxis": {
            "gridcolor": "white",
            "linecolor": "white",
            "ticks": ""
           },
           "baxis": {
            "gridcolor": "white",
            "linecolor": "white",
            "ticks": ""
           },
           "bgcolor": "#E5ECF6",
           "caxis": {
            "gridcolor": "white",
            "linecolor": "white",
            "ticks": ""
           }
          },
          "title": {
           "x": 0.05
          },
          "xaxis": {
           "automargin": true,
           "gridcolor": "white",
           "linecolor": "white",
           "ticks": "",
           "title": {
            "standoff": 15
           },
           "zerolinecolor": "white",
           "zerolinewidth": 2
          },
          "yaxis": {
           "automargin": true,
           "gridcolor": "white",
           "linecolor": "white",
           "ticks": "",
           "title": {
            "standoff": 15
           },
           "zerolinecolor": "white",
           "zerolinewidth": 2
          }
         }
        },
        "title": {
         "text": "correlation heatmap"
        },
        "xaxis": {
         "title": {
          "text": "Columns"
         }
        },
        "yaxis": {
         "autorange": "reversed",
         "title": {
          "text": "Columns"
         }
        }
       }
      }
     },
     "metadata": {},
     "output_type": "display_data"
    }
   ],
   "source": [
    "# Calculate the correlation between desired columns\n",
    "numerical_games_correlation = numerical_games.corr()\n",
    "\n",
    "# Create the heatmap using Plotly\n",
    "fig = go.Figure(data=go.Heatmap(\n",
    "    z=numerical_games_correlation.values,\n",
    "    x=numerical_games_correlation.columns,\n",
    "    y=numerical_games_correlation.columns,\n",
    "    colorscale='RdBu',\n",
    "    colorbar=dict(title='Correlation'),\n",
    "))\n",
    "\n",
    "# Set the layout options for the heatmap\n",
    "fig.update_layout(\n",
    "    title='correlation heatmap',\n",
    "    xaxis=dict(title='Columns'),\n",
    "    yaxis=dict(title='Columns', autorange='reversed'),\n",
    ")\n",
    "\n",
    "# Show the plot\n",
    "fig.show()"
   ]
  },
  {
   "cell_type": "code",
   "execution_count": 8,
   "metadata": {},
   "outputs": [
    {
     "data": {
      "application/vnd.plotly.v1+json": {
       "config": {
        "plotlyServerURL": "https://plot.ly"
       },
       "data": [
        {
         "name": "year Distribution",
         "nbinsx": 20,
         "type": "histogram",
         "x": [
          2007,
          2008,
          2008,
          2014,
          2016,
          2017,
          2019,
          2020,
          2021,
          2022,
          2019,
          2008,
          2012,
          2013,
          2014,
          2008,
          2018,
          2019,
          2020,
          2020,
          2008,
          2020,
          2011,
          2018,
          2010,
          2011,
          2013,
          2015,
          2016,
          2017,
          2019,
          2020,
          2021,
          2015,
          2009,
          2011,
          2012,
          2015,
          2008,
          2014,
          2015,
          2016,
          2017,
          2018,
          2019,
          2020,
          2021,
          2022,
          2016,
          2017,
          2018,
          2019,
          2011,
          2009,
          2012,
          2013,
          2014,
          2015,
          2016,
          2017,
          2018,
          2020,
          2021,
          2022,
          2012,
          2011,
          2013,
          2014,
          2015,
          2017,
          2018,
          2012,
          2013,
          2014,
          2015,
          2015,
          2011,
          2012,
          2013,
          2014,
          2015,
          2016,
          2009,
          2013,
          2014,
          2015,
          2016,
          2017,
          2018,
          2014,
          2008,
          2008,
          2009,
          2009,
          2010,
          2011,
          2010,
          2009,
          2013,
          2013,
          2008,
          2009,
          2011,
          2013,
          2014,
          2014,
          2015,
          2016,
          2017,
          2018,
          2009,
          2010,
          2014,
          2010,
          2015,
          2016,
          2017,
          2018,
          2010,
          2013,
          2013,
          2008,
          2009,
          2011,
          2009,
          2011,
          2012,
          2013,
          2015,
          2011,
          2012,
          2011,
          2015,
          2018,
          2009,
          2010,
          2011,
          2012,
          2013,
          2015,
          2016,
          2017,
          2012,
          2018,
          2008,
          2009,
          2013,
          2014,
          2008,
          2016,
          2011,
          2012,
          2008,
          2009,
          2010,
          2021,
          2013,
          2015,
          2007,
          2008,
          2009,
          2010,
          2009,
          2010,
          2011,
          2012,
          2013,
          2014,
          2015,
          2016,
          2017,
          2011,
          2012,
          2013,
          2014,
          2015,
          2012,
          2011,
          2012,
          2013,
          2014,
          2015,
          2008,
          2009,
          2010,
          2011,
          2012,
          2013,
          2014,
          2015,
          2016,
          2018,
          2010,
          2009,
          2010,
          2011,
          2012,
          2009,
          2019,
          2008,
          2009,
          2010,
          2011,
          2014,
          2010,
          2011,
          2012,
          2013,
          2014,
          2015,
          2016,
          2017,
          2018,
          2010,
          2011,
          2012,
          2009,
          2010,
          2011,
          2007,
          2008,
          2018,
          2019,
          2011,
          2012,
          2012,
          2013,
          2009,
          2010,
          2011,
          2014,
          2008,
          2010,
          2011,
          2012,
          2008,
          2013,
          2015,
          2016,
          2017,
          2018,
          2019,
          2020,
          2011,
          2016,
          2018,
          2010,
          2009,
          2010,
          2011,
          2012,
          2013,
          2014,
          2016,
          2014,
          2011,
          2011,
          2012,
          2012,
          2007,
          2008,
          2009,
          2008,
          2009,
          2013,
          2014,
          2015,
          2016,
          2017,
          2008,
          2008,
          2011,
          2012,
          2011,
          2011,
          2019,
          2019,
          2009,
          2007,
          2008,
          2009,
          2010,
          2011,
          2012,
          2013,
          2015,
          2008,
          2009,
          2010,
          2009,
          2015,
          2009,
          2011,
          2013,
          2017,
          2011,
          2012,
          2013,
          2015,
          2010,
          2013,
          2012,
          2009,
          2013,
          2011,
          2012,
          2011,
          2011,
          2012,
          2013,
          2014,
          2012,
          2009,
          2011,
          2010,
          2012,
          2010,
          2011,
          2012,
          2013,
          2014,
          2011,
          2012,
          2009,
          2012,
          2016,
          2010,
          2012,
          2009,
          2010,
          2012,
          2013,
          2014,
          2015,
          2008,
          2011,
          2012,
          2008,
          2009,
          2010,
          2008,
          2014,
          2015,
          2008,
          2008,
          2009,
          2010,
          2011,
          2012,
          2013,
          2014,
          2008,
          2014,
          2009,
          2015,
          2007,
          2008,
          2007,
          2009,
          2013,
          2011,
          2012,
          2013,
          2014,
          2011,
          2014,
          2014,
          2015,
          2013,
          2008,
          2011,
          2008,
          2013,
          2014,
          2016,
          2011,
          2012,
          2013,
          2008,
          2008,
          2011,
          2012,
          2013,
          2013,
          2014,
          2011,
          2008,
          2007,
          2008,
          2014,
          2008,
          2015,
          2016,
          2017,
          2009,
          2008,
          2008,
          2008,
          2011,
          2007,
          2008,
          2008,
          2009,
          2010,
          2011,
          2012,
          2014,
          2007,
          2008,
          2008,
          2009,
          2008,
          2012,
          2007,
          2016,
          2017,
          2018,
          2019,
          2017,
          2012,
          2013,
          2012,
          2014,
          2015,
          2009,
          2009,
          2015,
          2016,
          2017,
          2008,
          2009,
          2014,
          2008,
          2009,
          2012,
          2008,
          2009,
          2010,
          2008,
          2009,
          2010,
          2011,
          2012,
          2013,
          2013,
          2012,
          2011,
          2008,
          2014,
          2012,
          2013,
          2017,
          2018,
          2019,
          2009,
          2010,
          2011,
          2012,
          2014,
          2015,
          2016,
          2017,
          2018,
          2019,
          2021,
          2009,
          2010,
          2011,
          2010,
          2014,
          2016,
          2017,
          2018,
          2011,
          2014,
          2017,
          2018,
          2013,
          2012,
          2015,
          2016,
          2017,
          2019,
          2021,
          2022,
          2009,
          2009,
          2013,
          2008,
          2009,
          2009,
          2010,
          2014,
          2017,
          2018,
          2019,
          2020,
          2021,
          2022,
          2012,
          2009,
          2011,
          2008,
          2013,
          2016,
          2017,
          2007,
          2008,
          2012,
          2013,
          2014,
          2008,
          2016,
          2017,
          2018,
          2019,
          2008,
          2013,
          2011,
          2009,
          2011,
          2009,
          2009,
          2011,
          2008,
          2013,
          2014,
          2009,
          2008,
          2019,
          2009,
          2010,
          2011,
          2012,
          2014,
          2016,
          2009,
          2010,
          2010,
          2011,
          2012,
          2013,
          2014,
          2015,
          2008,
          2014,
          2015,
          2016,
          2018,
          2019,
          2012,
          2009,
          2013,
          2009,
          2011,
          2012,
          2013,
          2016,
          2009,
          2012,
          2013,
          2014,
          2019,
          2012,
          2013,
          2014,
          2012,
          2013,
          2008,
          2009,
          2013,
          2010,
          2013,
          2014,
          2008,
          2009,
          2007,
          2008,
          2009,
          2010,
          2011,
          2012,
          2014,
          2007,
          2009,
          2010,
          2010,
          2014,
          2015,
          2016,
          2017,
          2018,
          2014,
          2019,
          2011,
          2009,
          2009,
          2013,
          2011,
          2012,
          2013,
          2008,
          2012,
          2012,
          2009,
          2009,
          2007,
          2011,
          2013,
          2014,
          2016,
          2009,
          2010,
          2009,
          2011,
          2012,
          2015,
          2009,
          2012,
          2013,
          2019,
          2007,
          2008,
          2009,
          2010,
          2008,
          2008,
          2008,
          2008,
          2009,
          2010,
          2019,
          2009,
          2010,
          2012,
          2013,
          2014,
          2015,
          2016,
          2017,
          2018,
          2019,
          2021,
          2008,
          2009,
          2011,
          2012,
          2014,
          2019,
          2021,
          2022,
          2011,
          2012,
          2008,
          2007,
          2007,
          2010,
          2007,
          2011,
          2012,
          2009,
          2010,
          2011,
          2012,
          2013,
          2012,
          2013,
          2014,
          2015,
          2016,
          2017,
          2018,
          2019,
          2021,
          2011,
          2012,
          2013,
          2014,
          2015,
          2016,
          2009,
          2010,
          2011,
          2013,
          2019,
          2021,
          2013,
          2008,
          2009,
          2012,
          2009,
          2017,
          2022,
          2009,
          2007,
          2008,
          2007,
          2012,
          2015,
          2009,
          2008,
          2015,
          2012,
          2013,
          2010,
          2019,
          2010,
          2009,
          2009,
          2009,
          2010,
          2011,
          2012,
          2013,
          2014,
          2015,
          2016,
          2017,
          2018,
          2019,
          2013,
          2016,
          2010,
          2011,
          2009,
          2013,
          2016,
          2018,
          2008,
          2013,
          2010,
          2010,
          2011,
          2012,
          2014,
          2009,
          2011,
          2008,
          2011,
          2012,
          2013,
          2014,
          2015,
          2008,
          2009,
          2010,
          2010,
          2011,
          2012,
          2013,
          2014,
          2016,
          2007,
          2011,
          2009,
          2010,
          2012,
          2013,
          2014,
          2017,
          2008,
          2009,
          2010,
          2011,
          2012,
          2015,
          2016,
          2012,
          2009,
          2010,
          2012,
          2013,
          2015,
          2013,
          2014,
          2010,
          2009,
          2009,
          2010,
          2011,
          2012,
          2009,
          2011,
          2009,
          2010,
          2011,
          2012,
          2011,
          2012,
          2014,
          2010,
          2013,
          2014,
          2015,
          2019,
          2009,
          2012,
          2013,
          2012,
          2013,
          2015,
          2016,
          2017,
          2018,
          2019,
          2020,
          2021,
          2008,
          2008,
          2019,
          2008,
          2011,
          2008,
          2009,
          2007,
          2008,
          2009,
          2008,
          2009,
          2015,
          2008,
          2016,
          2018,
          2009,
          2010,
          2011,
          2008,
          2015,
          2008,
          2009,
          2010,
          2008,
          2016,
          2007,
          2016,
          2017,
          2019,
          2020,
          2022,
          2008,
          2010,
          2010,
          2008,
          2008,
          2014,
          2015,
          2016,
          2017,
          2018,
          2019,
          2020,
          2021,
          2022,
          2008,
          2009,
          2008,
          2007,
          2008,
          2008,
          2018,
          2019,
          2008,
          2008,
          2008,
          2017,
          2019,
          2014,
          2017,
          2018,
          2019,
          2021,
          2016,
          2018,
          2020,
          2021,
          2016,
          2018,
          2019,
          2019,
          2016,
          2017,
          2007,
          2008,
          2009,
          2010,
          2013,
          2017,
          2018,
          2010,
          2014,
          2019,
          2016,
          2017,
          2017,
          2015,
          2016,
          2017,
          2018,
          2019,
          2020,
          2013,
          2015,
          2019,
          2015,
          2019,
          2014,
          2014,
          2015,
          2016,
          2018,
          2020,
          2019,
          2019,
          2019,
          2019,
          2016,
          2017,
          2018,
          2019,
          2020,
          2021,
          2022,
          2020,
          2018,
          2009,
          2015,
          2017,
          2018,
          2014,
          2015,
          2019,
          2010,
          2019,
          2020,
          2016,
          2019,
          2007,
          2008,
          2019,
          2019,
          2019,
          2019,
          2017,
          2019,
          2021,
          2014,
          2015,
          2016,
          2017,
          2018,
          2019,
          2020,
          2021,
          2014,
          2013,
          2014,
          2015,
          2017,
          2018,
          2016,
          2017,
          2018,
          2019,
          2011,
          2013,
          2015,
          2013,
          2014,
          2016,
          2017,
          2018,
          2010,
          2014,
          2018,
          2008,
          2014,
          2021,
          2022,
          2016,
          2016,
          2018,
          2019,
          2021,
          2016,
          2017,
          2018,
          2015,
          2009,
          2017,
          2009,
          2009,
          2013,
          2015,
          2018,
          2016,
          2019,
          2009,
          2010,
          2011,
          2013,
          2014,
          2015,
          2016,
          2017,
          2018,
          2019,
          2020,
          2014,
          2015,
          2016,
          2017,
          2018,
          2019,
          2020,
          2021,
          2022,
          2019,
          2016,
          2020,
          2021,
          2022,
          2013,
          2019,
          2008,
          2017,
          2008,
          2016,
          2017,
          2018,
          2019,
          2020,
          2021,
          2022,
          2014,
          2015,
          2017,
          2021,
          2019,
          2022,
          2015,
          2016,
          2017,
          2018,
          2019,
          2020,
          2021,
          2022,
          2013,
          2007,
          2008,
          2009,
          2010,
          2015,
          2017,
          2008,
          2015,
          2016,
          2017,
          2018,
          2019,
          2020,
          2021,
          2022,
          2014,
          2015,
          2016,
          2017,
          2019,
          2020,
          2021,
          2022,
          2018,
          2019,
          2020,
          2021,
          2022,
          2008,
          2008,
          2009,
          2019,
          2016,
          2017,
          2018,
          2014,
          2015,
          2016,
          2017,
          2015,
          2016,
          2019,
          2021,
          2022,
          2011,
          2020,
          2009,
          2010,
          2015,
          2008,
          2017,
          2019,
          2019,
          2016,
          2019,
          2014,
          2015,
          2016,
          2019,
          2020,
          2010,
          2011,
          2018,
          2021,
          2008,
          2009,
          2016,
          2017,
          2018,
          2019,
          2019,
          2007,
          2022,
          2019,
          2019,
          2019,
          2019,
          2019,
          2019,
          2020,
          2019,
          2015,
          2016,
          2017,
          2019,
          2011,
          2018,
          2019,
          2019,
          2019,
          2021,
          2022,
          2019,
          2019,
          2020,
          2021,
          2022,
          2019,
          2018,
          2019,
          2019,
          2019,
          2019,
          2019,
          2017,
          2019,
          2019,
          2017,
          2014,
          2019,
          2022,
          2018,
          2020,
          2021,
          2022,
          2017,
          2019,
          2019,
          2019,
          2017,
          2021,
          2022,
          2019,
          2008,
          2019,
          2020,
          2009,
          2010,
          2015,
          2021,
          2017,
          2018,
          2019,
          2020,
          2009,
          2019,
          2019,
          2019,
          2019,
          2019,
          2019,
          2020,
          2018,
          2016,
          2017,
          2019,
          2019,
          2018,
          2008,
          2011,
          2019,
          2019,
          2019,
          2019,
          2019,
          2021,
          2022,
          2015,
          2016,
          2017,
          2018,
          2019,
          2020,
          2021,
          2007,
          2018,
          2020,
          2021,
          2019,
          2016,
          2017,
          2018,
          2020,
          2021,
          2022,
          2018,
          2019,
          2020,
          2021,
          2022,
          2015,
          2009,
          2021,
          2022,
          2009,
          2019,
          2009,
          2018,
          2019,
          2019,
          2020,
          2021,
          2019,
          2019,
          2019,
          2019,
          2019,
          2020,
          2021,
          2022,
          2019,
          2019,
          2019,
          2020,
          2021,
          2022,
          2019,
          2019,
          2019,
          2019,
          2009,
          2008,
          2021,
          2022,
          2019,
          2018,
          2019,
          2009,
          2008,
          2008,
          2019,
          2019,
          2019,
          2019,
          2019,
          2007,
          2008,
          2019,
          2008,
          2019,
          2019,
          2021,
          2019,
          2019,
          2019,
          2010,
          2011,
          2019,
          2019,
          2020,
          2019,
          2019,
          2019,
          2020,
          2021,
          2019,
          2020,
          2021,
          2022,
          2019,
          2019,
          2021,
          2022,
          2017,
          2010,
          2019,
          2018,
          2019,
          2019,
          2021,
          2022,
          2009,
          2021,
          2022,
          2019,
          2021,
          2022,
          2019,
          2019,
          2018,
          2019,
          2019,
          2019,
          2017,
          2019,
          2022,
          2019,
          2022,
          2008,
          2019,
          2019,
          2019,
          2019,
          2010,
          2019,
          2015,
          2018,
          2019,
          2022,
          2009,
          2020,
          2019,
          2020,
          2020,
          2019,
          2019,
          2022,
          2019,
          2017,
          2019,
          2019,
          2021,
          2022,
          2019,
          2018,
          2019,
          2020,
          2021,
          2022,
          2017,
          2018,
          2019,
          2020,
          2021,
          2019,
          2008,
          2010,
          2016,
          2019,
          2009,
          2019,
          2008,
          2009,
          2007,
          2008,
          2009,
          2019,
          2022,
          2019,
          2019,
          2019,
          2019,
          2020,
          2019,
          2019,
          2019,
          2008,
          2019,
          2020,
          2021,
          2022,
          2022,
          2019,
          2019,
          2020,
          2021,
          2022,
          2022,
          2019,
          2021,
          2022,
          2019,
          2021,
          2022,
          2020,
          2019,
          2019,
          2019,
          2019,
          2019,
          2019,
          2019,
          2021,
          2022,
          2019,
          2019,
          2016,
          2018,
          2019,
          2021,
          2019,
          2020,
          2022,
          2018,
          2019,
          2022,
          2019,
          2007,
          2019,
          2019,
          2019,
          2019,
          2019,
          2022,
          2019,
          2020,
          2021,
          2022,
          2019,
          2019,
          2019,
          2020,
          2021,
          2022,
          2022,
          2019,
          2019,
          2022,
          2019,
          2019,
          2019,
          2019,
          2019,
          2019,
          2019,
          2009,
          2017,
          2019,
          2021,
          2021,
          2019,
          2021,
          2019,
          2022,
          2019,
          2022,
          2021,
          2018,
          2019,
          2019,
          2019,
          2019,
          2019,
          2022,
          2022,
          2008,
          2019,
          2009,
          2019,
          2018,
          2020,
          2021,
          2022,
          2019,
          2020,
          2021,
          2021,
          2021,
          2022,
          2010,
          2019,
          2010,
          2019,
          2021,
          2022,
          2019,
          2019,
          2022,
          2019,
          2021,
          2022,
          2019,
          2008,
          2019,
          2019,
          2019,
          2009,
          2019,
          2019,
          2019,
          2020,
          2021,
          2022,
          2019,
          2019,
          2022,
          2019,
          2019,
          2019,
          2022,
          2019,
          2021,
          2022,
          2019,
          2019,
          2007,
          2019,
          2019,
          2019,
          2021,
          2021,
          2022,
          2019,
          2019,
          2019,
          2021,
          2022,
          2022,
          2008,
          2010,
          2019,
          2019,
          2019,
          2019,
          2022,
          2021,
          2022,
          2007,
          2008,
          2019,
          2019,
          2008,
          2022,
          2009,
          2008,
          2007,
          2022,
          2022,
          2010,
          2010,
          2010,
          2010,
          2009,
          2009,
          2009,
          2009,
          2009,
          2009,
          2009,
          2009,
          2009,
          2009,
          2009,
          2009,
          2009,
          2009,
          2009,
          2009,
          2009,
          2008,
          2008,
          2008,
          2008,
          2008,
          2008,
          2008,
          2008,
          2008,
          2008,
          2008,
          2008,
          2008,
          2008,
          2008,
          2008,
          2008,
          2008,
          2008,
          2008,
          2008,
          2008,
          2008,
          2008,
          2008,
          2008,
          2008,
          2008,
          2007,
          2007,
          2007,
          2007,
          2007,
          2007,
          2007,
          2007,
          2007,
          2007,
          2007,
          2007,
          2007,
          2007,
          2007,
          2007,
          2007,
          2007,
          2007,
          2007,
          2007,
          2007,
          2007,
          2007,
          2007,
          2007,
          2007,
          2007
         ]
        }
       ],
       "layout": {
        "template": {
         "data": {
          "bar": [
           {
            "error_x": {
             "color": "#2a3f5f"
            },
            "error_y": {
             "color": "#2a3f5f"
            },
            "marker": {
             "line": {
              "color": "#E5ECF6",
              "width": 0.5
             },
             "pattern": {
              "fillmode": "overlay",
              "size": 10,
              "solidity": 0.2
             }
            },
            "type": "bar"
           }
          ],
          "barpolar": [
           {
            "marker": {
             "line": {
              "color": "#E5ECF6",
              "width": 0.5
             },
             "pattern": {
              "fillmode": "overlay",
              "size": 10,
              "solidity": 0.2
             }
            },
            "type": "barpolar"
           }
          ],
          "carpet": [
           {
            "aaxis": {
             "endlinecolor": "#2a3f5f",
             "gridcolor": "white",
             "linecolor": "white",
             "minorgridcolor": "white",
             "startlinecolor": "#2a3f5f"
            },
            "baxis": {
             "endlinecolor": "#2a3f5f",
             "gridcolor": "white",
             "linecolor": "white",
             "minorgridcolor": "white",
             "startlinecolor": "#2a3f5f"
            },
            "type": "carpet"
           }
          ],
          "choropleth": [
           {
            "colorbar": {
             "outlinewidth": 0,
             "ticks": ""
            },
            "type": "choropleth"
           }
          ],
          "contour": [
           {
            "colorbar": {
             "outlinewidth": 0,
             "ticks": ""
            },
            "colorscale": [
             [
              0,
              "#0d0887"
             ],
             [
              0.1111111111111111,
              "#46039f"
             ],
             [
              0.2222222222222222,
              "#7201a8"
             ],
             [
              0.3333333333333333,
              "#9c179e"
             ],
             [
              0.4444444444444444,
              "#bd3786"
             ],
             [
              0.5555555555555556,
              "#d8576b"
             ],
             [
              0.6666666666666666,
              "#ed7953"
             ],
             [
              0.7777777777777778,
              "#fb9f3a"
             ],
             [
              0.8888888888888888,
              "#fdca26"
             ],
             [
              1,
              "#f0f921"
             ]
            ],
            "type": "contour"
           }
          ],
          "contourcarpet": [
           {
            "colorbar": {
             "outlinewidth": 0,
             "ticks": ""
            },
            "type": "contourcarpet"
           }
          ],
          "heatmap": [
           {
            "colorbar": {
             "outlinewidth": 0,
             "ticks": ""
            },
            "colorscale": [
             [
              0,
              "#0d0887"
             ],
             [
              0.1111111111111111,
              "#46039f"
             ],
             [
              0.2222222222222222,
              "#7201a8"
             ],
             [
              0.3333333333333333,
              "#9c179e"
             ],
             [
              0.4444444444444444,
              "#bd3786"
             ],
             [
              0.5555555555555556,
              "#d8576b"
             ],
             [
              0.6666666666666666,
              "#ed7953"
             ],
             [
              0.7777777777777778,
              "#fb9f3a"
             ],
             [
              0.8888888888888888,
              "#fdca26"
             ],
             [
              1,
              "#f0f921"
             ]
            ],
            "type": "heatmap"
           }
          ],
          "heatmapgl": [
           {
            "colorbar": {
             "outlinewidth": 0,
             "ticks": ""
            },
            "colorscale": [
             [
              0,
              "#0d0887"
             ],
             [
              0.1111111111111111,
              "#46039f"
             ],
             [
              0.2222222222222222,
              "#7201a8"
             ],
             [
              0.3333333333333333,
              "#9c179e"
             ],
             [
              0.4444444444444444,
              "#bd3786"
             ],
             [
              0.5555555555555556,
              "#d8576b"
             ],
             [
              0.6666666666666666,
              "#ed7953"
             ],
             [
              0.7777777777777778,
              "#fb9f3a"
             ],
             [
              0.8888888888888888,
              "#fdca26"
             ],
             [
              1,
              "#f0f921"
             ]
            ],
            "type": "heatmapgl"
           }
          ],
          "histogram": [
           {
            "marker": {
             "pattern": {
              "fillmode": "overlay",
              "size": 10,
              "solidity": 0.2
             }
            },
            "type": "histogram"
           }
          ],
          "histogram2d": [
           {
            "colorbar": {
             "outlinewidth": 0,
             "ticks": ""
            },
            "colorscale": [
             [
              0,
              "#0d0887"
             ],
             [
              0.1111111111111111,
              "#46039f"
             ],
             [
              0.2222222222222222,
              "#7201a8"
             ],
             [
              0.3333333333333333,
              "#9c179e"
             ],
             [
              0.4444444444444444,
              "#bd3786"
             ],
             [
              0.5555555555555556,
              "#d8576b"
             ],
             [
              0.6666666666666666,
              "#ed7953"
             ],
             [
              0.7777777777777778,
              "#fb9f3a"
             ],
             [
              0.8888888888888888,
              "#fdca26"
             ],
             [
              1,
              "#f0f921"
             ]
            ],
            "type": "histogram2d"
           }
          ],
          "histogram2dcontour": [
           {
            "colorbar": {
             "outlinewidth": 0,
             "ticks": ""
            },
            "colorscale": [
             [
              0,
              "#0d0887"
             ],
             [
              0.1111111111111111,
              "#46039f"
             ],
             [
              0.2222222222222222,
              "#7201a8"
             ],
             [
              0.3333333333333333,
              "#9c179e"
             ],
             [
              0.4444444444444444,
              "#bd3786"
             ],
             [
              0.5555555555555556,
              "#d8576b"
             ],
             [
              0.6666666666666666,
              "#ed7953"
             ],
             [
              0.7777777777777778,
              "#fb9f3a"
             ],
             [
              0.8888888888888888,
              "#fdca26"
             ],
             [
              1,
              "#f0f921"
             ]
            ],
            "type": "histogram2dcontour"
           }
          ],
          "mesh3d": [
           {
            "colorbar": {
             "outlinewidth": 0,
             "ticks": ""
            },
            "type": "mesh3d"
           }
          ],
          "parcoords": [
           {
            "line": {
             "colorbar": {
              "outlinewidth": 0,
              "ticks": ""
             }
            },
            "type": "parcoords"
           }
          ],
          "pie": [
           {
            "automargin": true,
            "type": "pie"
           }
          ],
          "scatter": [
           {
            "fillpattern": {
             "fillmode": "overlay",
             "size": 10,
             "solidity": 0.2
            },
            "type": "scatter"
           }
          ],
          "scatter3d": [
           {
            "line": {
             "colorbar": {
              "outlinewidth": 0,
              "ticks": ""
             }
            },
            "marker": {
             "colorbar": {
              "outlinewidth": 0,
              "ticks": ""
             }
            },
            "type": "scatter3d"
           }
          ],
          "scattercarpet": [
           {
            "marker": {
             "colorbar": {
              "outlinewidth": 0,
              "ticks": ""
             }
            },
            "type": "scattercarpet"
           }
          ],
          "scattergeo": [
           {
            "marker": {
             "colorbar": {
              "outlinewidth": 0,
              "ticks": ""
             }
            },
            "type": "scattergeo"
           }
          ],
          "scattergl": [
           {
            "marker": {
             "colorbar": {
              "outlinewidth": 0,
              "ticks": ""
             }
            },
            "type": "scattergl"
           }
          ],
          "scattermapbox": [
           {
            "marker": {
             "colorbar": {
              "outlinewidth": 0,
              "ticks": ""
             }
            },
            "type": "scattermapbox"
           }
          ],
          "scatterpolar": [
           {
            "marker": {
             "colorbar": {
              "outlinewidth": 0,
              "ticks": ""
             }
            },
            "type": "scatterpolar"
           }
          ],
          "scatterpolargl": [
           {
            "marker": {
             "colorbar": {
              "outlinewidth": 0,
              "ticks": ""
             }
            },
            "type": "scatterpolargl"
           }
          ],
          "scatterternary": [
           {
            "marker": {
             "colorbar": {
              "outlinewidth": 0,
              "ticks": ""
             }
            },
            "type": "scatterternary"
           }
          ],
          "surface": [
           {
            "colorbar": {
             "outlinewidth": 0,
             "ticks": ""
            },
            "colorscale": [
             [
              0,
              "#0d0887"
             ],
             [
              0.1111111111111111,
              "#46039f"
             ],
             [
              0.2222222222222222,
              "#7201a8"
             ],
             [
              0.3333333333333333,
              "#9c179e"
             ],
             [
              0.4444444444444444,
              "#bd3786"
             ],
             [
              0.5555555555555556,
              "#d8576b"
             ],
             [
              0.6666666666666666,
              "#ed7953"
             ],
             [
              0.7777777777777778,
              "#fb9f3a"
             ],
             [
              0.8888888888888888,
              "#fdca26"
             ],
             [
              1,
              "#f0f921"
             ]
            ],
            "type": "surface"
           }
          ],
          "table": [
           {
            "cells": {
             "fill": {
              "color": "#EBF0F8"
             },
             "line": {
              "color": "white"
             }
            },
            "header": {
             "fill": {
              "color": "#C8D4E3"
             },
             "line": {
              "color": "white"
             }
            },
            "type": "table"
           }
          ]
         },
         "layout": {
          "annotationdefaults": {
           "arrowcolor": "#2a3f5f",
           "arrowhead": 0,
           "arrowwidth": 1
          },
          "autotypenumbers": "strict",
          "coloraxis": {
           "colorbar": {
            "outlinewidth": 0,
            "ticks": ""
           }
          },
          "colorscale": {
           "diverging": [
            [
             0,
             "#8e0152"
            ],
            [
             0.1,
             "#c51b7d"
            ],
            [
             0.2,
             "#de77ae"
            ],
            [
             0.3,
             "#f1b6da"
            ],
            [
             0.4,
             "#fde0ef"
            ],
            [
             0.5,
             "#f7f7f7"
            ],
            [
             0.6,
             "#e6f5d0"
            ],
            [
             0.7,
             "#b8e186"
            ],
            [
             0.8,
             "#7fbc41"
            ],
            [
             0.9,
             "#4d9221"
            ],
            [
             1,
             "#276419"
            ]
           ],
           "sequential": [
            [
             0,
             "#0d0887"
            ],
            [
             0.1111111111111111,
             "#46039f"
            ],
            [
             0.2222222222222222,
             "#7201a8"
            ],
            [
             0.3333333333333333,
             "#9c179e"
            ],
            [
             0.4444444444444444,
             "#bd3786"
            ],
            [
             0.5555555555555556,
             "#d8576b"
            ],
            [
             0.6666666666666666,
             "#ed7953"
            ],
            [
             0.7777777777777778,
             "#fb9f3a"
            ],
            [
             0.8888888888888888,
             "#fdca26"
            ],
            [
             1,
             "#f0f921"
            ]
           ],
           "sequentialminus": [
            [
             0,
             "#0d0887"
            ],
            [
             0.1111111111111111,
             "#46039f"
            ],
            [
             0.2222222222222222,
             "#7201a8"
            ],
            [
             0.3333333333333333,
             "#9c179e"
            ],
            [
             0.4444444444444444,
             "#bd3786"
            ],
            [
             0.5555555555555556,
             "#d8576b"
            ],
            [
             0.6666666666666666,
             "#ed7953"
            ],
            [
             0.7777777777777778,
             "#fb9f3a"
            ],
            [
             0.8888888888888888,
             "#fdca26"
            ],
            [
             1,
             "#f0f921"
            ]
           ]
          },
          "colorway": [
           "#636efa",
           "#EF553B",
           "#00cc96",
           "#ab63fa",
           "#FFA15A",
           "#19d3f3",
           "#FF6692",
           "#B6E880",
           "#FF97FF",
           "#FECB52"
          ],
          "font": {
           "color": "#2a3f5f"
          },
          "geo": {
           "bgcolor": "white",
           "lakecolor": "white",
           "landcolor": "#E5ECF6",
           "showlakes": true,
           "showland": true,
           "subunitcolor": "white"
          },
          "hoverlabel": {
           "align": "left"
          },
          "hovermode": "closest",
          "mapbox": {
           "style": "light"
          },
          "paper_bgcolor": "white",
          "plot_bgcolor": "#E5ECF6",
          "polar": {
           "angularaxis": {
            "gridcolor": "white",
            "linecolor": "white",
            "ticks": ""
           },
           "bgcolor": "#E5ECF6",
           "radialaxis": {
            "gridcolor": "white",
            "linecolor": "white",
            "ticks": ""
           }
          },
          "scene": {
           "xaxis": {
            "backgroundcolor": "#E5ECF6",
            "gridcolor": "white",
            "gridwidth": 2,
            "linecolor": "white",
            "showbackground": true,
            "ticks": "",
            "zerolinecolor": "white"
           },
           "yaxis": {
            "backgroundcolor": "#E5ECF6",
            "gridcolor": "white",
            "gridwidth": 2,
            "linecolor": "white",
            "showbackground": true,
            "ticks": "",
            "zerolinecolor": "white"
           },
           "zaxis": {
            "backgroundcolor": "#E5ECF6",
            "gridcolor": "white",
            "gridwidth": 2,
            "linecolor": "white",
            "showbackground": true,
            "ticks": "",
            "zerolinecolor": "white"
           }
          },
          "shapedefaults": {
           "line": {
            "color": "#2a3f5f"
           }
          },
          "ternary": {
           "aaxis": {
            "gridcolor": "white",
            "linecolor": "white",
            "ticks": ""
           },
           "baxis": {
            "gridcolor": "white",
            "linecolor": "white",
            "ticks": ""
           },
           "bgcolor": "#E5ECF6",
           "caxis": {
            "gridcolor": "white",
            "linecolor": "white",
            "ticks": ""
           }
          },
          "title": {
           "x": 0.05
          },
          "xaxis": {
           "automargin": true,
           "gridcolor": "white",
           "linecolor": "white",
           "ticks": "",
           "title": {
            "standoff": 15
           },
           "zerolinecolor": "white",
           "zerolinewidth": 2
          },
          "yaxis": {
           "automargin": true,
           "gridcolor": "white",
           "linecolor": "white",
           "ticks": "",
           "title": {
            "standoff": 15
           },
           "zerolinecolor": "white",
           "zerolinewidth": 2
          }
         }
        },
        "title": {
         "text": "year Distribution"
        },
        "xaxis": {
         "title": {
          "text": "year"
         }
        },
        "yaxis": {
         "title": {
          "text": "Frequency"
         }
        }
       }
      }
     },
     "metadata": {},
     "output_type": "display_data"
    },
    {
     "data": {
      "application/vnd.plotly.v1+json": {
       "config": {
        "plotlyServerURL": "https://plot.ly"
       },
       "data": [
        {
         "name": "regionId Distribution",
         "nbinsx": 20,
         "type": "histogram",
         "x": [
          0,
          0,
          0,
          1,
          1,
          1,
          1,
          1,
          1,
          1,
          5,
          0,
          1,
          1,
          1,
          0,
          4,
          4,
          4,
          7,
          0,
          1,
          4,
          1,
          0,
          4,
          4,
          1,
          4,
          4,
          4,
          4,
          4,
          4,
          0,
          6,
          6,
          1,
          0,
          1,
          1,
          1,
          1,
          1,
          1,
          1,
          1,
          1,
          4,
          4,
          4,
          4,
          6,
          0,
          7,
          7,
          7,
          7,
          7,
          7,
          7,
          7,
          7,
          7,
          1,
          1,
          1,
          1,
          1,
          1,
          1,
          1,
          1,
          1,
          1,
          6,
          1,
          1,
          1,
          1,
          1,
          1,
          0,
          1,
          1,
          1,
          1,
          1,
          1,
          1,
          0,
          0,
          0,
          0,
          0,
          1,
          0,
          0,
          1,
          1,
          0,
          0,
          1,
          1,
          1,
          1,
          1,
          1,
          1,
          1,
          0,
          0,
          1,
          0,
          1,
          1,
          1,
          1,
          0,
          1,
          1,
          0,
          0,
          7,
          0,
          1,
          1,
          1,
          1,
          1,
          1,
          1,
          1,
          1,
          0,
          0,
          1,
          1,
          1,
          1,
          1,
          1,
          1,
          1,
          0,
          0,
          1,
          1,
          0,
          1,
          1,
          1,
          0,
          0,
          0,
          4,
          1,
          1,
          0,
          0,
          0,
          0,
          0,
          0,
          7,
          7,
          7,
          7,
          7,
          7,
          7,
          7,
          7,
          7,
          7,
          7,
          1,
          1,
          1,
          1,
          1,
          1,
          0,
          0,
          0,
          1,
          1,
          1,
          1,
          1,
          1,
          1,
          0,
          0,
          0,
          1,
          1,
          0,
          1,
          0,
          0,
          0,
          1,
          1,
          0,
          1,
          1,
          1,
          1,
          1,
          1,
          1,
          1,
          0,
          1,
          1,
          0,
          0,
          7,
          0,
          0,
          7,
          7,
          1,
          1,
          5,
          5,
          0,
          0,
          1,
          1,
          0,
          0,
          1,
          1,
          0,
          1,
          4,
          4,
          1,
          4,
          4,
          4,
          5,
          1,
          6,
          0,
          0,
          0,
          1,
          1,
          1,
          1,
          1,
          1,
          1,
          1,
          1,
          1,
          0,
          0,
          0,
          0,
          0,
          1,
          1,
          1,
          1,
          1,
          0,
          0,
          1,
          3,
          1,
          1,
          1,
          7,
          0,
          0,
          0,
          0,
          0,
          1,
          1,
          1,
          1,
          0,
          0,
          0,
          0,
          1,
          0,
          1,
          1,
          1,
          4,
          4,
          4,
          7,
          0,
          1,
          5,
          0,
          1,
          1,
          1,
          1,
          1,
          1,
          1,
          1,
          1,
          0,
          1,
          0,
          4,
          0,
          1,
          1,
          1,
          1,
          1,
          1,
          0,
          1,
          1,
          0,
          1,
          0,
          0,
          1,
          1,
          1,
          1,
          0,
          1,
          1,
          0,
          0,
          0,
          0,
          1,
          1,
          0,
          0,
          0,
          0,
          1,
          1,
          1,
          1,
          0,
          1,
          0,
          1,
          0,
          0,
          0,
          0,
          1,
          1,
          1,
          1,
          1,
          1,
          3,
          1,
          1,
          1,
          0,
          1,
          0,
          1,
          1,
          1,
          1,
          1,
          1,
          0,
          0,
          1,
          1,
          1,
          1,
          1,
          4,
          0,
          0,
          0,
          1,
          0,
          1,
          1,
          1,
          0,
          0,
          0,
          0,
          1,
          0,
          0,
          0,
          0,
          0,
          1,
          1,
          1,
          0,
          0,
          0,
          0,
          0,
          1,
          0,
          7,
          7,
          7,
          7,
          7,
          1,
          1,
          7,
          7,
          7,
          0,
          0,
          1,
          1,
          1,
          0,
          0,
          6,
          0,
          0,
          1,
          0,
          0,
          0,
          0,
          0,
          0,
          1,
          1,
          1,
          5,
          1,
          1,
          0,
          4,
          4,
          4,
          4,
          4,
          4,
          0,
          0,
          4,
          4,
          4,
          4,
          4,
          4,
          4,
          4,
          4,
          0,
          0,
          1,
          0,
          1,
          1,
          1,
          6,
          1,
          1,
          1,
          1,
          1,
          4,
          4,
          4,
          4,
          4,
          4,
          4,
          0,
          0,
          1,
          0,
          0,
          0,
          0,
          1,
          1,
          1,
          1,
          1,
          1,
          1,
          1,
          0,
          7,
          0,
          1,
          1,
          1,
          0,
          0,
          1,
          1,
          1,
          0,
          7,
          7,
          7,
          7,
          0,
          6,
          1,
          0,
          1,
          0,
          0,
          1,
          0,
          1,
          1,
          0,
          0,
          6,
          0,
          0,
          1,
          1,
          1,
          1,
          0,
          0,
          0,
          1,
          1,
          1,
          1,
          1,
          0,
          4,
          4,
          4,
          4,
          4,
          1,
          0,
          1,
          0,
          7,
          7,
          7,
          1,
          0,
          1,
          1,
          1,
          6,
          1,
          1,
          1,
          4,
          4,
          0,
          0,
          6,
          0,
          7,
          7,
          0,
          0,
          0,
          0,
          0,
          0,
          1,
          1,
          1,
          0,
          0,
          0,
          0,
          1,
          1,
          1,
          1,
          1,
          6,
          1,
          4,
          0,
          0,
          1,
          1,
          1,
          1,
          0,
          1,
          1,
          0,
          0,
          0,
          1,
          1,
          1,
          1,
          0,
          0,
          0,
          1,
          1,
          1,
          0,
          1,
          4,
          3,
          0,
          0,
          0,
          0,
          0,
          0,
          0,
          0,
          0,
          0,
          6,
          0,
          0,
          1,
          1,
          1,
          1,
          1,
          1,
          1,
          1,
          1,
          0,
          0,
          1,
          1,
          1,
          1,
          1,
          1,
          1,
          1,
          0,
          0,
          0,
          0,
          0,
          1,
          1,
          0,
          0,
          1,
          1,
          1,
          1,
          1,
          1,
          1,
          1,
          1,
          1,
          4,
          1,
          1,
          1,
          1,
          1,
          1,
          1,
          0,
          0,
          1,
          1,
          4,
          4,
          1,
          0,
          0,
          1,
          0,
          7,
          7,
          0,
          0,
          0,
          0,
          1,
          1,
          0,
          0,
          1,
          3,
          3,
          0,
          1,
          0,
          0,
          0,
          0,
          0,
          1,
          1,
          1,
          1,
          1,
          1,
          1,
          1,
          1,
          1,
          1,
          0,
          1,
          0,
          1,
          1,
          1,
          0,
          3,
          0,
          0,
          1,
          1,
          1,
          0,
          1,
          0,
          1,
          1,
          1,
          1,
          1,
          0,
          0,
          0,
          0,
          1,
          1,
          1,
          1,
          1,
          0,
          5,
          0,
          0,
          1,
          1,
          1,
          1,
          0,
          0,
          0,
          1,
          1,
          1,
          1,
          6,
          0,
          0,
          7,
          7,
          7,
          1,
          1,
          0,
          0,
          0,
          0,
          1,
          1,
          0,
          1,
          0,
          0,
          1,
          1,
          1,
          1,
          1,
          0,
          1,
          1,
          1,
          6,
          0,
          1,
          1,
          4,
          4,
          4,
          1,
          1,
          1,
          4,
          4,
          4,
          0,
          0,
          6,
          0,
          1,
          0,
          0,
          0,
          0,
          0,
          0,
          0,
          1,
          0,
          7,
          7,
          0,
          0,
          1,
          0,
          1,
          0,
          0,
          0,
          0,
          1,
          0,
          1,
          1,
          1,
          1,
          1,
          0,
          0,
          0,
          0,
          0,
          4,
          4,
          4,
          4,
          4,
          4,
          4,
          4,
          4,
          0,
          0,
          0,
          0,
          0,
          0,
          6,
          4,
          0,
          0,
          0,
          1,
          1,
          3,
          1,
          1,
          1,
          1,
          1,
          1,
          1,
          1,
          1,
          6,
          4,
          6,
          1,
          1,
          0,
          0,
          0,
          0,
          1,
          1,
          1,
          0,
          5,
          5,
          1,
          1,
          1,
          1,
          1,
          1,
          1,
          1,
          1,
          1,
          1,
          4,
          1,
          5,
          1,
          7,
          7,
          7,
          7,
          7,
          1,
          5,
          4,
          5,
          1,
          1,
          1,
          1,
          1,
          1,
          1,
          1,
          1,
          0,
          1,
          1,
          1,
          1,
          1,
          1,
          0,
          1,
          1,
          1,
          1,
          0,
          0,
          4,
          7,
          4,
          4,
          5,
          5,
          5,
          4,
          4,
          4,
          4,
          4,
          4,
          4,
          4,
          1,
          1,
          1,
          1,
          1,
          1,
          1,
          1,
          1,
          1,
          1,
          1,
          1,
          1,
          1,
          1,
          1,
          1,
          0,
          1,
          1,
          0,
          1,
          1,
          1,
          1,
          1,
          1,
          1,
          1,
          1,
          1,
          1,
          1,
          0,
          1,
          0,
          0,
          1,
          7,
          1,
          1,
          1,
          0,
          0,
          4,
          4,
          1,
          1,
          1,
          1,
          1,
          1,
          1,
          1,
          1,
          1,
          1,
          1,
          1,
          1,
          1,
          1,
          2,
          1,
          7,
          7,
          7,
          1,
          4,
          0,
          1,
          0,
          1,
          1,
          1,
          1,
          1,
          1,
          1,
          1,
          1,
          1,
          1,
          4,
          1,
          7,
          7,
          7,
          7,
          7,
          7,
          7,
          7,
          1,
          0,
          0,
          0,
          0,
          1,
          1,
          0,
          1,
          1,
          1,
          1,
          1,
          1,
          1,
          1,
          4,
          4,
          4,
          4,
          4,
          4,
          4,
          4,
          1,
          1,
          1,
          1,
          1,
          0,
          0,
          0,
          4,
          7,
          7,
          7,
          1,
          1,
          1,
          1,
          1,
          1,
          1,
          1,
          1,
          4,
          1,
          0,
          0,
          1,
          0,
          1,
          2,
          1,
          1,
          3,
          1,
          1,
          1,
          1,
          1,
          0,
          1,
          7,
          7,
          0,
          0,
          1,
          1,
          1,
          4,
          4,
          0,
          3,
          7,
          3,
          4,
          4,
          6,
          4,
          4,
          1,
          7,
          7,
          7,
          6,
          1,
          1,
          6,
          1,
          1,
          1,
          1,
          3,
          4,
          4,
          4,
          4,
          3,
          2,
          2,
          1,
          3,
          1,
          4,
          1,
          1,
          4,
          1,
          5,
          4,
          1,
          1,
          1,
          1,
          1,
          1,
          1,
          4,
          6,
          1,
          1,
          4,
          2,
          0,
          4,
          1,
          0,
          0,
          1,
          1,
          7,
          6,
          7,
          7,
          0,
          3,
          4,
          3,
          6,
          1,
          3,
          1,
          3,
          7,
          7,
          2,
          4,
          1,
          0,
          1,
          3,
          4,
          6,
          6,
          4,
          4,
          4,
          1,
          1,
          1,
          1,
          1,
          1,
          1,
          0,
          1,
          1,
          1,
          1,
          1,
          1,
          1,
          1,
          1,
          1,
          1,
          1,
          1,
          1,
          1,
          1,
          0,
          1,
          1,
          0,
          6,
          0,
          1,
          3,
          1,
          1,
          1,
          6,
          1,
          4,
          4,
          7,
          7,
          7,
          7,
          2,
          3,
          1,
          1,
          1,
          1,
          6,
          4,
          3,
          2,
          0,
          0,
          4,
          4,
          4,
          6,
          4,
          0,
          0,
          0,
          6,
          4,
          6,
          4,
          6,
          0,
          0,
          6,
          0,
          6,
          3,
          3,
          4,
          6,
          4,
          0,
          1,
          4,
          4,
          4,
          3,
          4,
          1,
          1,
          1,
          1,
          1,
          1,
          1,
          4,
          4,
          4,
          4,
          1,
          0,
          6,
          7,
          7,
          3,
          3,
          3,
          0,
          4,
          4,
          1,
          1,
          1,
          3,
          6,
          1,
          7,
          3,
          6,
          1,
          1,
          1,
          5,
          5,
          0,
          4,
          4,
          2,
          6,
          0,
          4,
          1,
          1,
          1,
          1,
          0,
          1,
          3,
          3,
          4,
          4,
          4,
          1,
          6,
          1,
          1,
          3,
          1,
          1,
          6,
          4,
          4,
          4,
          4,
          4,
          1,
          1,
          1,
          1,
          1,
          3,
          0,
          0,
          1,
          3,
          0,
          6,
          0,
          0,
          0,
          0,
          0,
          4,
          1,
          4,
          7,
          6,
          6,
          1,
          4,
          4,
          4,
          0,
          1,
          1,
          1,
          1,
          1,
          2,
          1,
          1,
          1,
          1,
          6,
          4,
          1,
          1,
          4,
          4,
          4,
          1,
          1,
          4,
          3,
          2,
          4,
          4,
          3,
          3,
          3,
          2,
          4,
          4,
          4,
          4,
          4,
          4,
          4,
          4,
          4,
          4,
          4,
          6,
          0,
          3,
          6,
          4,
          3,
          1,
          4,
          4,
          4,
          4,
          4,
          6,
          2,
          4,
          1,
          1,
          1,
          4,
          6,
          4,
          1,
          5,
          5,
          6,
          5,
          6,
          4,
          1,
          0,
          1,
          4,
          4,
          4,
          5,
          5,
          6,
          1,
          6,
          5,
          6,
          1,
          3,
          3,
          3,
          5,
          2,
          4,
          4,
          0,
          6,
          0,
          6,
          6,
          6,
          6,
          6,
          2,
          7,
          7,
          6,
          1,
          1,
          0,
          3,
          0,
          6,
          4,
          4,
          6,
          7,
          4,
          5,
          7,
          7,
          4,
          0,
          2,
          6,
          3,
          0,
          6,
          6,
          3,
          1,
          3,
          1,
          6,
          6,
          1,
          4,
          5,
          5,
          1,
          2,
          1,
          1,
          4,
          3,
          0,
          3,
          6,
          6,
          6,
          6,
          6,
          2,
          6,
          5,
          1,
          1,
          4,
          0,
          0,
          5,
          4,
          2,
          5,
          6,
          1,
          3,
          0,
          0,
          5,
          6,
          0,
          1,
          0,
          0,
          0,
          1,
          4,
          0,
          0,
          0,
          0,
          0,
          0,
          0,
          0,
          0,
          0,
          0,
          0,
          0,
          0,
          0,
          0,
          0,
          0,
          0,
          0,
          0,
          0,
          0,
          0,
          0,
          0,
          0,
          0,
          0,
          0,
          0,
          0,
          0,
          0,
          0,
          0,
          0,
          0,
          0,
          0,
          0,
          0,
          0,
          0,
          0,
          0,
          0,
          0,
          0,
          0,
          0,
          0,
          0,
          0,
          0,
          0,
          0,
          0,
          0,
          0,
          0,
          0,
          0,
          0,
          0,
          0,
          0,
          0,
          0,
          0,
          0,
          0,
          0,
          0,
          0,
          0,
          0
         ]
        }
       ],
       "layout": {
        "template": {
         "data": {
          "bar": [
           {
            "error_x": {
             "color": "#2a3f5f"
            },
            "error_y": {
             "color": "#2a3f5f"
            },
            "marker": {
             "line": {
              "color": "#E5ECF6",
              "width": 0.5
             },
             "pattern": {
              "fillmode": "overlay",
              "size": 10,
              "solidity": 0.2
             }
            },
            "type": "bar"
           }
          ],
          "barpolar": [
           {
            "marker": {
             "line": {
              "color": "#E5ECF6",
              "width": 0.5
             },
             "pattern": {
              "fillmode": "overlay",
              "size": 10,
              "solidity": 0.2
             }
            },
            "type": "barpolar"
           }
          ],
          "carpet": [
           {
            "aaxis": {
             "endlinecolor": "#2a3f5f",
             "gridcolor": "white",
             "linecolor": "white",
             "minorgridcolor": "white",
             "startlinecolor": "#2a3f5f"
            },
            "baxis": {
             "endlinecolor": "#2a3f5f",
             "gridcolor": "white",
             "linecolor": "white",
             "minorgridcolor": "white",
             "startlinecolor": "#2a3f5f"
            },
            "type": "carpet"
           }
          ],
          "choropleth": [
           {
            "colorbar": {
             "outlinewidth": 0,
             "ticks": ""
            },
            "type": "choropleth"
           }
          ],
          "contour": [
           {
            "colorbar": {
             "outlinewidth": 0,
             "ticks": ""
            },
            "colorscale": [
             [
              0,
              "#0d0887"
             ],
             [
              0.1111111111111111,
              "#46039f"
             ],
             [
              0.2222222222222222,
              "#7201a8"
             ],
             [
              0.3333333333333333,
              "#9c179e"
             ],
             [
              0.4444444444444444,
              "#bd3786"
             ],
             [
              0.5555555555555556,
              "#d8576b"
             ],
             [
              0.6666666666666666,
              "#ed7953"
             ],
             [
              0.7777777777777778,
              "#fb9f3a"
             ],
             [
              0.8888888888888888,
              "#fdca26"
             ],
             [
              1,
              "#f0f921"
             ]
            ],
            "type": "contour"
           }
          ],
          "contourcarpet": [
           {
            "colorbar": {
             "outlinewidth": 0,
             "ticks": ""
            },
            "type": "contourcarpet"
           }
          ],
          "heatmap": [
           {
            "colorbar": {
             "outlinewidth": 0,
             "ticks": ""
            },
            "colorscale": [
             [
              0,
              "#0d0887"
             ],
             [
              0.1111111111111111,
              "#46039f"
             ],
             [
              0.2222222222222222,
              "#7201a8"
             ],
             [
              0.3333333333333333,
              "#9c179e"
             ],
             [
              0.4444444444444444,
              "#bd3786"
             ],
             [
              0.5555555555555556,
              "#d8576b"
             ],
             [
              0.6666666666666666,
              "#ed7953"
             ],
             [
              0.7777777777777778,
              "#fb9f3a"
             ],
             [
              0.8888888888888888,
              "#fdca26"
             ],
             [
              1,
              "#f0f921"
             ]
            ],
            "type": "heatmap"
           }
          ],
          "heatmapgl": [
           {
            "colorbar": {
             "outlinewidth": 0,
             "ticks": ""
            },
            "colorscale": [
             [
              0,
              "#0d0887"
             ],
             [
              0.1111111111111111,
              "#46039f"
             ],
             [
              0.2222222222222222,
              "#7201a8"
             ],
             [
              0.3333333333333333,
              "#9c179e"
             ],
             [
              0.4444444444444444,
              "#bd3786"
             ],
             [
              0.5555555555555556,
              "#d8576b"
             ],
             [
              0.6666666666666666,
              "#ed7953"
             ],
             [
              0.7777777777777778,
              "#fb9f3a"
             ],
             [
              0.8888888888888888,
              "#fdca26"
             ],
             [
              1,
              "#f0f921"
             ]
            ],
            "type": "heatmapgl"
           }
          ],
          "histogram": [
           {
            "marker": {
             "pattern": {
              "fillmode": "overlay",
              "size": 10,
              "solidity": 0.2
             }
            },
            "type": "histogram"
           }
          ],
          "histogram2d": [
           {
            "colorbar": {
             "outlinewidth": 0,
             "ticks": ""
            },
            "colorscale": [
             [
              0,
              "#0d0887"
             ],
             [
              0.1111111111111111,
              "#46039f"
             ],
             [
              0.2222222222222222,
              "#7201a8"
             ],
             [
              0.3333333333333333,
              "#9c179e"
             ],
             [
              0.4444444444444444,
              "#bd3786"
             ],
             [
              0.5555555555555556,
              "#d8576b"
             ],
             [
              0.6666666666666666,
              "#ed7953"
             ],
             [
              0.7777777777777778,
              "#fb9f3a"
             ],
             [
              0.8888888888888888,
              "#fdca26"
             ],
             [
              1,
              "#f0f921"
             ]
            ],
            "type": "histogram2d"
           }
          ],
          "histogram2dcontour": [
           {
            "colorbar": {
             "outlinewidth": 0,
             "ticks": ""
            },
            "colorscale": [
             [
              0,
              "#0d0887"
             ],
             [
              0.1111111111111111,
              "#46039f"
             ],
             [
              0.2222222222222222,
              "#7201a8"
             ],
             [
              0.3333333333333333,
              "#9c179e"
             ],
             [
              0.4444444444444444,
              "#bd3786"
             ],
             [
              0.5555555555555556,
              "#d8576b"
             ],
             [
              0.6666666666666666,
              "#ed7953"
             ],
             [
              0.7777777777777778,
              "#fb9f3a"
             ],
             [
              0.8888888888888888,
              "#fdca26"
             ],
             [
              1,
              "#f0f921"
             ]
            ],
            "type": "histogram2dcontour"
           }
          ],
          "mesh3d": [
           {
            "colorbar": {
             "outlinewidth": 0,
             "ticks": ""
            },
            "type": "mesh3d"
           }
          ],
          "parcoords": [
           {
            "line": {
             "colorbar": {
              "outlinewidth": 0,
              "ticks": ""
             }
            },
            "type": "parcoords"
           }
          ],
          "pie": [
           {
            "automargin": true,
            "type": "pie"
           }
          ],
          "scatter": [
           {
            "fillpattern": {
             "fillmode": "overlay",
             "size": 10,
             "solidity": 0.2
            },
            "type": "scatter"
           }
          ],
          "scatter3d": [
           {
            "line": {
             "colorbar": {
              "outlinewidth": 0,
              "ticks": ""
             }
            },
            "marker": {
             "colorbar": {
              "outlinewidth": 0,
              "ticks": ""
             }
            },
            "type": "scatter3d"
           }
          ],
          "scattercarpet": [
           {
            "marker": {
             "colorbar": {
              "outlinewidth": 0,
              "ticks": ""
             }
            },
            "type": "scattercarpet"
           }
          ],
          "scattergeo": [
           {
            "marker": {
             "colorbar": {
              "outlinewidth": 0,
              "ticks": ""
             }
            },
            "type": "scattergeo"
           }
          ],
          "scattergl": [
           {
            "marker": {
             "colorbar": {
              "outlinewidth": 0,
              "ticks": ""
             }
            },
            "type": "scattergl"
           }
          ],
          "scattermapbox": [
           {
            "marker": {
             "colorbar": {
              "outlinewidth": 0,
              "ticks": ""
             }
            },
            "type": "scattermapbox"
           }
          ],
          "scatterpolar": [
           {
            "marker": {
             "colorbar": {
              "outlinewidth": 0,
              "ticks": ""
             }
            },
            "type": "scatterpolar"
           }
          ],
          "scatterpolargl": [
           {
            "marker": {
             "colorbar": {
              "outlinewidth": 0,
              "ticks": ""
             }
            },
            "type": "scatterpolargl"
           }
          ],
          "scatterternary": [
           {
            "marker": {
             "colorbar": {
              "outlinewidth": 0,
              "ticks": ""
             }
            },
            "type": "scatterternary"
           }
          ],
          "surface": [
           {
            "colorbar": {
             "outlinewidth": 0,
             "ticks": ""
            },
            "colorscale": [
             [
              0,
              "#0d0887"
             ],
             [
              0.1111111111111111,
              "#46039f"
             ],
             [
              0.2222222222222222,
              "#7201a8"
             ],
             [
              0.3333333333333333,
              "#9c179e"
             ],
             [
              0.4444444444444444,
              "#bd3786"
             ],
             [
              0.5555555555555556,
              "#d8576b"
             ],
             [
              0.6666666666666666,
              "#ed7953"
             ],
             [
              0.7777777777777778,
              "#fb9f3a"
             ],
             [
              0.8888888888888888,
              "#fdca26"
             ],
             [
              1,
              "#f0f921"
             ]
            ],
            "type": "surface"
           }
          ],
          "table": [
           {
            "cells": {
             "fill": {
              "color": "#EBF0F8"
             },
             "line": {
              "color": "white"
             }
            },
            "header": {
             "fill": {
              "color": "#C8D4E3"
             },
             "line": {
              "color": "white"
             }
            },
            "type": "table"
           }
          ]
         },
         "layout": {
          "annotationdefaults": {
           "arrowcolor": "#2a3f5f",
           "arrowhead": 0,
           "arrowwidth": 1
          },
          "autotypenumbers": "strict",
          "coloraxis": {
           "colorbar": {
            "outlinewidth": 0,
            "ticks": ""
           }
          },
          "colorscale": {
           "diverging": [
            [
             0,
             "#8e0152"
            ],
            [
             0.1,
             "#c51b7d"
            ],
            [
             0.2,
             "#de77ae"
            ],
            [
             0.3,
             "#f1b6da"
            ],
            [
             0.4,
             "#fde0ef"
            ],
            [
             0.5,
             "#f7f7f7"
            ],
            [
             0.6,
             "#e6f5d0"
            ],
            [
             0.7,
             "#b8e186"
            ],
            [
             0.8,
             "#7fbc41"
            ],
            [
             0.9,
             "#4d9221"
            ],
            [
             1,
             "#276419"
            ]
           ],
           "sequential": [
            [
             0,
             "#0d0887"
            ],
            [
             0.1111111111111111,
             "#46039f"
            ],
            [
             0.2222222222222222,
             "#7201a8"
            ],
            [
             0.3333333333333333,
             "#9c179e"
            ],
            [
             0.4444444444444444,
             "#bd3786"
            ],
            [
             0.5555555555555556,
             "#d8576b"
            ],
            [
             0.6666666666666666,
             "#ed7953"
            ],
            [
             0.7777777777777778,
             "#fb9f3a"
            ],
            [
             0.8888888888888888,
             "#fdca26"
            ],
            [
             1,
             "#f0f921"
            ]
           ],
           "sequentialminus": [
            [
             0,
             "#0d0887"
            ],
            [
             0.1111111111111111,
             "#46039f"
            ],
            [
             0.2222222222222222,
             "#7201a8"
            ],
            [
             0.3333333333333333,
             "#9c179e"
            ],
            [
             0.4444444444444444,
             "#bd3786"
            ],
            [
             0.5555555555555556,
             "#d8576b"
            ],
            [
             0.6666666666666666,
             "#ed7953"
            ],
            [
             0.7777777777777778,
             "#fb9f3a"
            ],
            [
             0.8888888888888888,
             "#fdca26"
            ],
            [
             1,
             "#f0f921"
            ]
           ]
          },
          "colorway": [
           "#636efa",
           "#EF553B",
           "#00cc96",
           "#ab63fa",
           "#FFA15A",
           "#19d3f3",
           "#FF6692",
           "#B6E880",
           "#FF97FF",
           "#FECB52"
          ],
          "font": {
           "color": "#2a3f5f"
          },
          "geo": {
           "bgcolor": "white",
           "lakecolor": "white",
           "landcolor": "#E5ECF6",
           "showlakes": true,
           "showland": true,
           "subunitcolor": "white"
          },
          "hoverlabel": {
           "align": "left"
          },
          "hovermode": "closest",
          "mapbox": {
           "style": "light"
          },
          "paper_bgcolor": "white",
          "plot_bgcolor": "#E5ECF6",
          "polar": {
           "angularaxis": {
            "gridcolor": "white",
            "linecolor": "white",
            "ticks": ""
           },
           "bgcolor": "#E5ECF6",
           "radialaxis": {
            "gridcolor": "white",
            "linecolor": "white",
            "ticks": ""
           }
          },
          "scene": {
           "xaxis": {
            "backgroundcolor": "#E5ECF6",
            "gridcolor": "white",
            "gridwidth": 2,
            "linecolor": "white",
            "showbackground": true,
            "ticks": "",
            "zerolinecolor": "white"
           },
           "yaxis": {
            "backgroundcolor": "#E5ECF6",
            "gridcolor": "white",
            "gridwidth": 2,
            "linecolor": "white",
            "showbackground": true,
            "ticks": "",
            "zerolinecolor": "white"
           },
           "zaxis": {
            "backgroundcolor": "#E5ECF6",
            "gridcolor": "white",
            "gridwidth": 2,
            "linecolor": "white",
            "showbackground": true,
            "ticks": "",
            "zerolinecolor": "white"
           }
          },
          "shapedefaults": {
           "line": {
            "color": "#2a3f5f"
           }
          },
          "ternary": {
           "aaxis": {
            "gridcolor": "white",
            "linecolor": "white",
            "ticks": ""
           },
           "baxis": {
            "gridcolor": "white",
            "linecolor": "white",
            "ticks": ""
           },
           "bgcolor": "#E5ECF6",
           "caxis": {
            "gridcolor": "white",
            "linecolor": "white",
            "ticks": ""
           }
          },
          "title": {
           "x": 0.05
          },
          "xaxis": {
           "automargin": true,
           "gridcolor": "white",
           "linecolor": "white",
           "ticks": "",
           "title": {
            "standoff": 15
           },
           "zerolinecolor": "white",
           "zerolinewidth": 2
          },
          "yaxis": {
           "automargin": true,
           "gridcolor": "white",
           "linecolor": "white",
           "ticks": "",
           "title": {
            "standoff": 15
           },
           "zerolinecolor": "white",
           "zerolinewidth": 2
          }
         }
        },
        "title": {
         "text": "regionId Distribution"
        },
        "xaxis": {
         "title": {
          "text": "regionId"
         }
        },
        "yaxis": {
         "title": {
          "text": "Frequency"
         }
        }
       }
      }
     },
     "metadata": {},
     "output_type": "display_data"
    },
    {
     "data": {
      "application/vnd.plotly.v1+json": {
       "config": {
        "plotlyServerURL": "https://plot.ly"
       },
       "data": [
        {
         "name": "age Distribution",
         "nbinsx": 20,
         "type": "histogram",
         "x": [
          20,
          21,
          29,
          23,
          25,
          26,
          28,
          29,
          30,
          31,
          28,
          25,
          25,
          27,
          30,
          22,
          27,
          28,
          29,
          28,
          27,
          26,
          20,
          30,
          28,
          29,
          31,
          33,
          34,
          35,
          37,
          38,
          39,
          27,
          28,
          25,
          25,
          30,
          20,
          23,
          24,
          25,
          26,
          27,
          28,
          29,
          30,
          31,
          23,
          24,
          25,
          26,
          26,
          33,
          21,
          23,
          24,
          25,
          26,
          27,
          28,
          30,
          31,
          32,
          34,
          28,
          25,
          26,
          27,
          29,
          30,
          26,
          28,
          29,
          30,
          24,
          25,
          25,
          27,
          28,
          29,
          30,
          38,
          28,
          29,
          30,
          31,
          32,
          33,
          27,
          43,
          27,
          28,
          27,
          28,
          29,
          38,
          21,
          28,
          32,
          30,
          31,
          29,
          29,
          30,
          27,
          28,
          29,
          30,
          31,
          23,
          24,
          28,
          30,
          25,
          26,
          27,
          28,
          23,
          22,
          27,
          22,
          23,
          25,
          25,
          25,
          25,
          27,
          29,
          24,
          24,
          27,
          31,
          34,
          24,
          25,
          26,
          26,
          28,
          30,
          31,
          32,
          27,
          30,
          34,
          29,
          29,
          30,
          26,
          23,
          23,
          23,
          24,
          35,
          36,
          24,
          24,
          26,
          31,
          32,
          33,
          34,
          25,
          26,
          24,
          24,
          26,
          27,
          28,
          29,
          30,
          30,
          20,
          22,
          23,
          26,
          25,
          32,
          32,
          34,
          35,
          36,
          27,
          28,
          29,
          30,
          30,
          32,
          33,
          34,
          35,
          37,
          31,
          21,
          27,
          28,
          28,
          25,
          33,
          25,
          26,
          25,
          26,
          27,
          21,
          22,
          22,
          24,
          25,
          26,
          27,
          28,
          29,
          29,
          30,
          30,
          23,
          24,
          25,
          40,
          32,
          27,
          28,
          35,
          35,
          33,
          35,
          27,
          28,
          29,
          32,
          24,
          39,
          40,
          40,
          34,
          29,
          22,
          23,
          24,
          25,
          26,
          27,
          42,
          24,
          26,
          28,
          24,
          25,
          26,
          26,
          28,
          29,
          31,
          33,
          33,
          25,
          25,
          23,
          29,
          27,
          28,
          20,
          21,
          30,
          31,
          32,
          33,
          34,
          39,
          27,
          27,
          27,
          31,
          26,
          34,
          36,
          28,
          32,
          33,
          34,
          23,
          24,
          24,
          26,
          28,
          28,
          29,
          30,
          22,
          29,
          23,
          25,
          27,
          35,
          27,
          27,
          29,
          27,
          25,
          29,
          32,
          27,
          27,
          25,
          25,
          25,
          28,
          30,
          32,
          33,
          25,
          24,
          26,
          26,
          31,
          22,
          23,
          23,
          25,
          26,
          26,
          26,
          23,
          26,
          31,
          27,
          29,
          26,
          27,
          28,
          22,
          23,
          24,
          28,
          28,
          28,
          29,
          32,
          33,
          35,
          30,
          31,
          40,
          22,
          23,
          24,
          25,
          25,
          27,
          28,
          27,
          28,
          26,
          25,
          42,
          43,
          46,
          33,
          36,
          25,
          25,
          27,
          28,
          31,
          39,
          27,
          28,
          26,
          26,
          23,
          28,
          28,
          29,
          31,
          31,
          31,
          33,
          27,
          36,
          29,
          29,
          27,
          22,
          23,
          34,
          36,
          16,
          17,
          34,
          28,
          23,
          24,
          25,
          22,
          24,
          28,
          34,
          37,
          37,
          38,
          27,
          28,
          29,
          30,
          30,
          33,
          31,
          32,
          34,
          35,
          34,
          32,
          38,
          25,
          26,
          27,
          28,
          28,
          22,
          24,
          31,
          34,
          35,
          23,
          24,
          31,
          32,
          33,
          40,
          41,
          30,
          26,
          27,
          29,
          27,
          28,
          29,
          30,
          31,
          32,
          33,
          33,
          35,
          37,
          30,
          29,
          33,
          26,
          24,
          26,
          30,
          31,
          32,
          19,
          20,
          21,
          21,
          24,
          25,
          26,
          27,
          28,
          29,
          31,
          34,
          35,
          36,
          38,
          20,
          22,
          23,
          24,
          26,
          22,
          25,
          26,
          29,
          19,
          23,
          24,
          25,
          27,
          29,
          30,
          27,
          23,
          24,
          27,
          28,
          33,
          34,
          30,
          27,
          28,
          29,
          30,
          31,
          32,
          28,
          37,
          40,
          44,
          22,
          25,
          26,
          24,
          25,
          23,
          25,
          26,
          29,
          19,
          20,
          21,
          22,
          29,
          29,
          33,
          30,
          29,
          27,
          26,
          28,
          42,
          31,
          32,
          33,
          25,
          29,
          33,
          34,
          35,
          35,
          26,
          28,
          23,
          24,
          32,
          33,
          33,
          35,
          36,
          37,
          27,
          23,
          24,
          25,
          27,
          28,
          34,
          31,
          27,
          37,
          27,
          27,
          29,
          28,
          27,
          29,
          31,
          32,
          33,
          35,
          29,
          30,
          26,
          28,
          39,
          40,
          24,
          33,
          23,
          24,
          35,
          36,
          28,
          29,
          30,
          31,
          32,
          32,
          35,
          13,
          27,
          28,
          23,
          27,
          28,
          29,
          30,
          31,
          26,
          31,
          36,
          42,
          27,
          29,
          28,
          28,
          26,
          43,
          30,
          24,
          35,
          35,
          27,
          24,
          26,
          27,
          29,
          27,
          28,
          29,
          28,
          28,
          32,
          31,
          26,
          26,
          33,
          21,
          22,
          23,
          24,
          39,
          33,
          29,
          21,
          32,
          33,
          32,
          28,
          29,
          23,
          25,
          26,
          27,
          28,
          29,
          30,
          31,
          33,
          29,
          30,
          32,
          32,
          25,
          30,
          32,
          33,
          24,
          24,
          25,
          21,
          21,
          28,
          54,
          39,
          39,
          27,
          28,
          29,
          29,
          31,
          16,
          27,
          28,
          29,
          30,
          31,
          32,
          33,
          35,
          21,
          21,
          23,
          24,
          25,
          26,
          30,
          26,
          27,
          29,
          32,
          34,
          25,
          30,
          31,
          32,
          28,
          23,
          28,
          31,
          45,
          27,
          42,
          23,
          27,
          28,
          19,
          29,
          23,
          25,
          28,
          34,
          29,
          31,
          27,
          19,
          20,
          21,
          21,
          23,
          24,
          25,
          26,
          27,
          28,
          29,
          25,
          28,
          21,
          22,
          22,
          27,
          30,
          32,
          28,
          30,
          36,
          21,
          22,
          22,
          25,
          26,
          28,
          19,
          27,
          27,
          29,
          30,
          31,
          30,
          27,
          28,
          33,
          21,
          21,
          23,
          24,
          26,
          16,
          22,
          30,
          31,
          32,
          34,
          35,
          38,
          32,
          20,
          21,
          22,
          22,
          26,
          27,
          24,
          37,
          28,
          29,
          31,
          33,
          32,
          33,
          33,
          28,
          21,
          25,
          26,
          26,
          38,
          25,
          26,
          27,
          28,
          28,
          26,
          26,
          29,
          34,
          25,
          26,
          27,
          29,
          25,
          31,
          33,
          18,
          20,
          22,
          23,
          24,
          25,
          26,
          27,
          28,
          33,
          34,
          33,
          18,
          21,
          26,
          27,
          33,
          34,
          33,
          33,
          34,
          25,
          25,
          26,
          28,
          34,
          35,
          36,
          38,
          25,
          26,
          27,
          30,
          44,
          26,
          27,
          20,
          21,
          23,
          24,
          26,
          29,
          26,
          23,
          29,
          28,
          21,
          22,
          23,
          24,
          25,
          26,
          27,
          28,
          29,
          36,
          37,
          26,
          31,
          30,
          32,
          24,
          25,
          28,
          27,
          40,
          29,
          30,
          24,
          29,
          30,
          31,
          33,
          29,
          31,
          33,
          34,
          25,
          29,
          30,
          30,
          23,
          24,
          26,
          28,
          29,
          30,
          22,
          24,
          25,
          25,
          26,
          30,
          25,
          26,
          25,
          27,
          28,
          29,
          30,
          31,
          32,
          26,
          28,
          30,
          24,
          27,
          25,
          24,
          25,
          26,
          28,
          30,
          27,
          31,
          28,
          38,
          25,
          26,
          27,
          28,
          29,
          30,
          31,
          31,
          29,
          28,
          30,
          32,
          33,
          22,
          23,
          26,
          25,
          30,
          31,
          24,
          27,
          32,
          31,
          29,
          27,
          35,
          27,
          33,
          35,
          37,
          28,
          29,
          30,
          31,
          32,
          33,
          34,
          35,
          26,
          25,
          26,
          27,
          29,
          30,
          25,
          26,
          27,
          28,
          24,
          26,
          28,
          30,
          31,
          33,
          34,
          35,
          22,
          27,
          31,
          27,
          25,
          27,
          28,
          29,
          24,
          26,
          27,
          29,
          28,
          29,
          30,
          25,
          30,
          26,
          29,
          20,
          26,
          29,
          30,
          25,
          28,
          29,
          30,
          31,
          33,
          24,
          25,
          26,
          27,
          28,
          29,
          30,
          23,
          24,
          25,
          26,
          27,
          28,
          29,
          30,
          31,
          30,
          23,
          21,
          22,
          23,
          24,
          32,
          23,
          23,
          30,
          26,
          27,
          28,
          29,
          30,
          31,
          32,
          27,
          28,
          30,
          34,
          25,
          26,
          21,
          22,
          23,
          24,
          25,
          26,
          27,
          28,
          28,
          33,
          34,
          35,
          36,
          27,
          29,
          25,
          20,
          21,
          22,
          23,
          24,
          25,
          26,
          27,
          19,
          20,
          21,
          22,
          24,
          25,
          26,
          27,
          26,
          27,
          28,
          29,
          30,
          33,
          24,
          25,
          29,
          24,
          25,
          26,
          25,
          26,
          27,
          28,
          23,
          24,
          27,
          29,
          30,
          25,
          30,
          34,
          35,
          26,
          26,
          31,
          33,
          30,
          31,
          26,
          24,
          25,
          26,
          29,
          30,
          26,
          27,
          27,
          30,
          26,
          27,
          25,
          26,
          28,
          31,
          30,
          29,
          29,
          29,
          28,
          28,
          28,
          33,
          24,
          30,
          28,
          31,
          32,
          33,
          30,
          28,
          26,
          34,
          28,
          29,
          31,
          32,
          33,
          29,
          30,
          31,
          32,
          37,
          29,
          30,
          26,
          29,
          29,
          43,
          22,
          24,
          25,
          26,
          28,
          30,
          29,
          22,
          24,
          25,
          26,
          31,
          24,
          29,
          25,
          25,
          29,
          27,
          34,
          42,
          32,
          26,
          24,
          25,
          30,
          25,
          26,
          27,
          28,
          29,
          26,
          27,
          31,
          25,
          28,
          27,
          41,
          30,
          25,
          26,
          27,
          33,
          27,
          29,
          23,
          35,
          31,
          28,
          28,
          32,
          27,
          29,
          30,
          26,
          27,
          28,
          29,
          30,
          31,
          32,
          30,
          23,
          25,
          26,
          25,
          27,
          28,
          29,
          31,
          32,
          33,
          22,
          23,
          24,
          25,
          26,
          18,
          29,
          28,
          29,
          33,
          25,
          18,
          25,
          25,
          23,
          24,
          25,
          31,
          20,
          30,
          25,
          24,
          25,
          26,
          27,
          31,
          28,
          23,
          24,
          25,
          26,
          37,
          27,
          30,
          30,
          27,
          27,
          27,
          28,
          30,
          26,
          25,
          23,
          21,
          33,
          33,
          22,
          24,
          26,
          25,
          24,
          25,
          30,
          24,
          28,
          26,
          30,
          32,
          31,
          24,
          26,
          27,
          27,
          32,
          24,
          21,
          25,
          26,
          27,
          28,
          25,
          26,
          27,
          28,
          29,
          21,
          23,
          24,
          22,
          28,
          26,
          23,
          24,
          22,
          24,
          25,
          47,
          26,
          27,
          30,
          32,
          33,
          36,
          31,
          22,
          37,
          46,
          31,
          28,
          30,
          23,
          30,
          33,
          24,
          28,
          29,
          35,
          29,
          34,
          28,
          25,
          26,
          27,
          30,
          20,
          27,
          23,
          24,
          29,
          29,
          30,
          22,
          31,
          27,
          29,
          38,
          25,
          26,
          27,
          21,
          22,
          23,
          24,
          25,
          23,
          24,
          25,
          26,
          27,
          23,
          34,
          36,
          29,
          23,
          28,
          29,
          32,
          32,
          25,
          26,
          27,
          32,
          30,
          27,
          26,
          26,
          22,
          30,
          31,
          24,
          30,
          28,
          25,
          26,
          27,
          28,
          20,
          44,
          18,
          19,
          20,
          21,
          29,
          26,
          23,
          24,
          24,
          26,
          27,
          28,
          25,
          27,
          28,
          31,
          29,
          19,
          19,
          21,
          22,
          28,
          27,
          23,
          25,
          26,
          28,
          24,
          25,
          27,
          25,
          26,
          29,
          32,
          16,
          32,
          26,
          24,
          32,
          25,
          28,
          20,
          21,
          22,
          23,
          34,
          28,
          26,
          21,
          22,
          23,
          26,
          31,
          26,
          28,
          28,
          30,
          32,
          29,
          27,
          29,
          27,
          33,
          20,
          27,
          29,
          22,
          33,
          24,
          26,
          19,
          36,
          29,
          36,
          29,
          22,
          30,
          28,
          28,
          30,
          27,
          24,
          25,
          24,
          22,
          34,
          23,
          25,
          26,
          27,
          26,
          26,
          26,
          30,
          23,
          24,
          45,
          31,
          17,
          30,
          25,
          26,
          24,
          38,
          28,
          36,
          23,
          24,
          35,
          19,
          21,
          29,
          21,
          30,
          26,
          27,
          27,
          28,
          23,
          19,
          25,
          32,
          20,
          24,
          35,
          31,
          20,
          20,
          17,
          18,
          25,
          17,
          23,
          23,
          30,
          29,
          31,
          22,
          23,
          21,
          27,
          30,
          21,
          22,
          26,
          31,
          20,
          41,
          23,
          30,
          39,
          24,
          17,
          22,
          30,
          31,
          29,
          26,
          20,
          22,
          24,
          44,
          44,
          17,
          26,
          27,
          27,
          27,
          27,
          27,
          27,
          27,
          27,
          27,
          27,
          27,
          27,
          27,
          27,
          27,
          27,
          27,
          27,
          27,
          27,
          27,
          27,
          27,
          27,
          27,
          27,
          27,
          27,
          27,
          27,
          27,
          27,
          27,
          27,
          27,
          27,
          27,
          27,
          27,
          27,
          27,
          27,
          27,
          27,
          27,
          27,
          27,
          27,
          27,
          27,
          27,
          27,
          27,
          27,
          27,
          27,
          27,
          27,
          27,
          27,
          27,
          27,
          27,
          27,
          27,
          27,
          27,
          27,
          27,
          27,
          27,
          27,
          27,
          27,
          27,
          27,
          27
         ]
        }
       ],
       "layout": {
        "template": {
         "data": {
          "bar": [
           {
            "error_x": {
             "color": "#2a3f5f"
            },
            "error_y": {
             "color": "#2a3f5f"
            },
            "marker": {
             "line": {
              "color": "#E5ECF6",
              "width": 0.5
             },
             "pattern": {
              "fillmode": "overlay",
              "size": 10,
              "solidity": 0.2
             }
            },
            "type": "bar"
           }
          ],
          "barpolar": [
           {
            "marker": {
             "line": {
              "color": "#E5ECF6",
              "width": 0.5
             },
             "pattern": {
              "fillmode": "overlay",
              "size": 10,
              "solidity": 0.2
             }
            },
            "type": "barpolar"
           }
          ],
          "carpet": [
           {
            "aaxis": {
             "endlinecolor": "#2a3f5f",
             "gridcolor": "white",
             "linecolor": "white",
             "minorgridcolor": "white",
             "startlinecolor": "#2a3f5f"
            },
            "baxis": {
             "endlinecolor": "#2a3f5f",
             "gridcolor": "white",
             "linecolor": "white",
             "minorgridcolor": "white",
             "startlinecolor": "#2a3f5f"
            },
            "type": "carpet"
           }
          ],
          "choropleth": [
           {
            "colorbar": {
             "outlinewidth": 0,
             "ticks": ""
            },
            "type": "choropleth"
           }
          ],
          "contour": [
           {
            "colorbar": {
             "outlinewidth": 0,
             "ticks": ""
            },
            "colorscale": [
             [
              0,
              "#0d0887"
             ],
             [
              0.1111111111111111,
              "#46039f"
             ],
             [
              0.2222222222222222,
              "#7201a8"
             ],
             [
              0.3333333333333333,
              "#9c179e"
             ],
             [
              0.4444444444444444,
              "#bd3786"
             ],
             [
              0.5555555555555556,
              "#d8576b"
             ],
             [
              0.6666666666666666,
              "#ed7953"
             ],
             [
              0.7777777777777778,
              "#fb9f3a"
             ],
             [
              0.8888888888888888,
              "#fdca26"
             ],
             [
              1,
              "#f0f921"
             ]
            ],
            "type": "contour"
           }
          ],
          "contourcarpet": [
           {
            "colorbar": {
             "outlinewidth": 0,
             "ticks": ""
            },
            "type": "contourcarpet"
           }
          ],
          "heatmap": [
           {
            "colorbar": {
             "outlinewidth": 0,
             "ticks": ""
            },
            "colorscale": [
             [
              0,
              "#0d0887"
             ],
             [
              0.1111111111111111,
              "#46039f"
             ],
             [
              0.2222222222222222,
              "#7201a8"
             ],
             [
              0.3333333333333333,
              "#9c179e"
             ],
             [
              0.4444444444444444,
              "#bd3786"
             ],
             [
              0.5555555555555556,
              "#d8576b"
             ],
             [
              0.6666666666666666,
              "#ed7953"
             ],
             [
              0.7777777777777778,
              "#fb9f3a"
             ],
             [
              0.8888888888888888,
              "#fdca26"
             ],
             [
              1,
              "#f0f921"
             ]
            ],
            "type": "heatmap"
           }
          ],
          "heatmapgl": [
           {
            "colorbar": {
             "outlinewidth": 0,
             "ticks": ""
            },
            "colorscale": [
             [
              0,
              "#0d0887"
             ],
             [
              0.1111111111111111,
              "#46039f"
             ],
             [
              0.2222222222222222,
              "#7201a8"
             ],
             [
              0.3333333333333333,
              "#9c179e"
             ],
             [
              0.4444444444444444,
              "#bd3786"
             ],
             [
              0.5555555555555556,
              "#d8576b"
             ],
             [
              0.6666666666666666,
              "#ed7953"
             ],
             [
              0.7777777777777778,
              "#fb9f3a"
             ],
             [
              0.8888888888888888,
              "#fdca26"
             ],
             [
              1,
              "#f0f921"
             ]
            ],
            "type": "heatmapgl"
           }
          ],
          "histogram": [
           {
            "marker": {
             "pattern": {
              "fillmode": "overlay",
              "size": 10,
              "solidity": 0.2
             }
            },
            "type": "histogram"
           }
          ],
          "histogram2d": [
           {
            "colorbar": {
             "outlinewidth": 0,
             "ticks": ""
            },
            "colorscale": [
             [
              0,
              "#0d0887"
             ],
             [
              0.1111111111111111,
              "#46039f"
             ],
             [
              0.2222222222222222,
              "#7201a8"
             ],
             [
              0.3333333333333333,
              "#9c179e"
             ],
             [
              0.4444444444444444,
              "#bd3786"
             ],
             [
              0.5555555555555556,
              "#d8576b"
             ],
             [
              0.6666666666666666,
              "#ed7953"
             ],
             [
              0.7777777777777778,
              "#fb9f3a"
             ],
             [
              0.8888888888888888,
              "#fdca26"
             ],
             [
              1,
              "#f0f921"
             ]
            ],
            "type": "histogram2d"
           }
          ],
          "histogram2dcontour": [
           {
            "colorbar": {
             "outlinewidth": 0,
             "ticks": ""
            },
            "colorscale": [
             [
              0,
              "#0d0887"
             ],
             [
              0.1111111111111111,
              "#46039f"
             ],
             [
              0.2222222222222222,
              "#7201a8"
             ],
             [
              0.3333333333333333,
              "#9c179e"
             ],
             [
              0.4444444444444444,
              "#bd3786"
             ],
             [
              0.5555555555555556,
              "#d8576b"
             ],
             [
              0.6666666666666666,
              "#ed7953"
             ],
             [
              0.7777777777777778,
              "#fb9f3a"
             ],
             [
              0.8888888888888888,
              "#fdca26"
             ],
             [
              1,
              "#f0f921"
             ]
            ],
            "type": "histogram2dcontour"
           }
          ],
          "mesh3d": [
           {
            "colorbar": {
             "outlinewidth": 0,
             "ticks": ""
            },
            "type": "mesh3d"
           }
          ],
          "parcoords": [
           {
            "line": {
             "colorbar": {
              "outlinewidth": 0,
              "ticks": ""
             }
            },
            "type": "parcoords"
           }
          ],
          "pie": [
           {
            "automargin": true,
            "type": "pie"
           }
          ],
          "scatter": [
           {
            "fillpattern": {
             "fillmode": "overlay",
             "size": 10,
             "solidity": 0.2
            },
            "type": "scatter"
           }
          ],
          "scatter3d": [
           {
            "line": {
             "colorbar": {
              "outlinewidth": 0,
              "ticks": ""
             }
            },
            "marker": {
             "colorbar": {
              "outlinewidth": 0,
              "ticks": ""
             }
            },
            "type": "scatter3d"
           }
          ],
          "scattercarpet": [
           {
            "marker": {
             "colorbar": {
              "outlinewidth": 0,
              "ticks": ""
             }
            },
            "type": "scattercarpet"
           }
          ],
          "scattergeo": [
           {
            "marker": {
             "colorbar": {
              "outlinewidth": 0,
              "ticks": ""
             }
            },
            "type": "scattergeo"
           }
          ],
          "scattergl": [
           {
            "marker": {
             "colorbar": {
              "outlinewidth": 0,
              "ticks": ""
             }
            },
            "type": "scattergl"
           }
          ],
          "scattermapbox": [
           {
            "marker": {
             "colorbar": {
              "outlinewidth": 0,
              "ticks": ""
             }
            },
            "type": "scattermapbox"
           }
          ],
          "scatterpolar": [
           {
            "marker": {
             "colorbar": {
              "outlinewidth": 0,
              "ticks": ""
             }
            },
            "type": "scatterpolar"
           }
          ],
          "scatterpolargl": [
           {
            "marker": {
             "colorbar": {
              "outlinewidth": 0,
              "ticks": ""
             }
            },
            "type": "scatterpolargl"
           }
          ],
          "scatterternary": [
           {
            "marker": {
             "colorbar": {
              "outlinewidth": 0,
              "ticks": ""
             }
            },
            "type": "scatterternary"
           }
          ],
          "surface": [
           {
            "colorbar": {
             "outlinewidth": 0,
             "ticks": ""
            },
            "colorscale": [
             [
              0,
              "#0d0887"
             ],
             [
              0.1111111111111111,
              "#46039f"
             ],
             [
              0.2222222222222222,
              "#7201a8"
             ],
             [
              0.3333333333333333,
              "#9c179e"
             ],
             [
              0.4444444444444444,
              "#bd3786"
             ],
             [
              0.5555555555555556,
              "#d8576b"
             ],
             [
              0.6666666666666666,
              "#ed7953"
             ],
             [
              0.7777777777777778,
              "#fb9f3a"
             ],
             [
              0.8888888888888888,
              "#fdca26"
             ],
             [
              1,
              "#f0f921"
             ]
            ],
            "type": "surface"
           }
          ],
          "table": [
           {
            "cells": {
             "fill": {
              "color": "#EBF0F8"
             },
             "line": {
              "color": "white"
             }
            },
            "header": {
             "fill": {
              "color": "#C8D4E3"
             },
             "line": {
              "color": "white"
             }
            },
            "type": "table"
           }
          ]
         },
         "layout": {
          "annotationdefaults": {
           "arrowcolor": "#2a3f5f",
           "arrowhead": 0,
           "arrowwidth": 1
          },
          "autotypenumbers": "strict",
          "coloraxis": {
           "colorbar": {
            "outlinewidth": 0,
            "ticks": ""
           }
          },
          "colorscale": {
           "diverging": [
            [
             0,
             "#8e0152"
            ],
            [
             0.1,
             "#c51b7d"
            ],
            [
             0.2,
             "#de77ae"
            ],
            [
             0.3,
             "#f1b6da"
            ],
            [
             0.4,
             "#fde0ef"
            ],
            [
             0.5,
             "#f7f7f7"
            ],
            [
             0.6,
             "#e6f5d0"
            ],
            [
             0.7,
             "#b8e186"
            ],
            [
             0.8,
             "#7fbc41"
            ],
            [
             0.9,
             "#4d9221"
            ],
            [
             1,
             "#276419"
            ]
           ],
           "sequential": [
            [
             0,
             "#0d0887"
            ],
            [
             0.1111111111111111,
             "#46039f"
            ],
            [
             0.2222222222222222,
             "#7201a8"
            ],
            [
             0.3333333333333333,
             "#9c179e"
            ],
            [
             0.4444444444444444,
             "#bd3786"
            ],
            [
             0.5555555555555556,
             "#d8576b"
            ],
            [
             0.6666666666666666,
             "#ed7953"
            ],
            [
             0.7777777777777778,
             "#fb9f3a"
            ],
            [
             0.8888888888888888,
             "#fdca26"
            ],
            [
             1,
             "#f0f921"
            ]
           ],
           "sequentialminus": [
            [
             0,
             "#0d0887"
            ],
            [
             0.1111111111111111,
             "#46039f"
            ],
            [
             0.2222222222222222,
             "#7201a8"
            ],
            [
             0.3333333333333333,
             "#9c179e"
            ],
            [
             0.4444444444444444,
             "#bd3786"
            ],
            [
             0.5555555555555556,
             "#d8576b"
            ],
            [
             0.6666666666666666,
             "#ed7953"
            ],
            [
             0.7777777777777778,
             "#fb9f3a"
            ],
            [
             0.8888888888888888,
             "#fdca26"
            ],
            [
             1,
             "#f0f921"
            ]
           ]
          },
          "colorway": [
           "#636efa",
           "#EF553B",
           "#00cc96",
           "#ab63fa",
           "#FFA15A",
           "#19d3f3",
           "#FF6692",
           "#B6E880",
           "#FF97FF",
           "#FECB52"
          ],
          "font": {
           "color": "#2a3f5f"
          },
          "geo": {
           "bgcolor": "white",
           "lakecolor": "white",
           "landcolor": "#E5ECF6",
           "showlakes": true,
           "showland": true,
           "subunitcolor": "white"
          },
          "hoverlabel": {
           "align": "left"
          },
          "hovermode": "closest",
          "mapbox": {
           "style": "light"
          },
          "paper_bgcolor": "white",
          "plot_bgcolor": "#E5ECF6",
          "polar": {
           "angularaxis": {
            "gridcolor": "white",
            "linecolor": "white",
            "ticks": ""
           },
           "bgcolor": "#E5ECF6",
           "radialaxis": {
            "gridcolor": "white",
            "linecolor": "white",
            "ticks": ""
           }
          },
          "scene": {
           "xaxis": {
            "backgroundcolor": "#E5ECF6",
            "gridcolor": "white",
            "gridwidth": 2,
            "linecolor": "white",
            "showbackground": true,
            "ticks": "",
            "zerolinecolor": "white"
           },
           "yaxis": {
            "backgroundcolor": "#E5ECF6",
            "gridcolor": "white",
            "gridwidth": 2,
            "linecolor": "white",
            "showbackground": true,
            "ticks": "",
            "zerolinecolor": "white"
           },
           "zaxis": {
            "backgroundcolor": "#E5ECF6",
            "gridcolor": "white",
            "gridwidth": 2,
            "linecolor": "white",
            "showbackground": true,
            "ticks": "",
            "zerolinecolor": "white"
           }
          },
          "shapedefaults": {
           "line": {
            "color": "#2a3f5f"
           }
          },
          "ternary": {
           "aaxis": {
            "gridcolor": "white",
            "linecolor": "white",
            "ticks": ""
           },
           "baxis": {
            "gridcolor": "white",
            "linecolor": "white",
            "ticks": ""
           },
           "bgcolor": "#E5ECF6",
           "caxis": {
            "gridcolor": "white",
            "linecolor": "white",
            "ticks": ""
           }
          },
          "title": {
           "x": 0.05
          },
          "xaxis": {
           "automargin": true,
           "gridcolor": "white",
           "linecolor": "white",
           "ticks": "",
           "title": {
            "standoff": 15
           },
           "zerolinecolor": "white",
           "zerolinewidth": 2
          },
          "yaxis": {
           "automargin": true,
           "gridcolor": "white",
           "linecolor": "white",
           "ticks": "",
           "title": {
            "standoff": 15
           },
           "zerolinecolor": "white",
           "zerolinewidth": 2
          }
         }
        },
        "title": {
         "text": "age Distribution"
        },
        "xaxis": {
         "title": {
          "text": "age"
         }
        },
        "yaxis": {
         "title": {
          "text": "Frequency"
         }
        }
       }
      }
     },
     "metadata": {},
     "output_type": "display_data"
    },
    {
     "data": {
      "application/vnd.plotly.v1+json": {
       "config": {
        "plotlyServerURL": "https://plot.ly"
       },
       "data": [
        {
         "name": "height Distribution",
         "nbinsx": 20,
         "type": "histogram",
         "x": [
          178,
          178,
          163,
          181,
          181,
          181,
          181,
          181,
          181,
          181,
          173,
          166,
          183,
          183,
          165.37482517482516,
          173,
          165,
          165,
          165,
          171,
          173,
          173,
          177.3722891566265,
          166,
          170,
          170,
          170,
          170,
          170,
          170,
          170,
          170,
          170,
          173,
          153,
          188,
          188,
          158,
          176,
          171,
          171,
          171,
          171,
          171,
          171,
          171,
          171,
          171,
          181,
          181,
          181,
          181,
          168,
          191,
          162,
          162,
          162,
          162,
          162,
          162,
          162,
          162,
          162,
          162,
          183,
          181,
          168,
          168,
          168,
          168,
          168,
          166,
          166,
          166,
          166,
          180,
          155,
          155,
          155,
          155,
          155,
          155,
          158,
          171,
          171,
          171,
          171,
          171,
          171,
          171,
          186,
          173,
          173,
          183,
          183,
          183,
          172,
          173,
          176,
          163,
          166,
          166,
          183,
          178,
          178,
          155,
          155,
          155,
          155,
          155,
          173,
          173,
          173,
          183,
          178,
          178,
          178,
          178,
          188,
          186,
          181,
          171,
          171,
          171,
          159,
          176,
          176,
          176,
          176,
          183,
          183,
          178,
          178,
          178,
          166,
          166,
          166,
          166,
          166,
          166,
          166,
          166,
          178,
          158,
          178,
          178,
          163,
          163,
          161,
          176,
          173,
          173,
          181,
          191,
          191,
          176,
          171,
          171,
          171,
          171,
          171,
          171,
          188,
          188,
          174,
          174,
          174,
          174,
          174,
          174,
          174,
          160,
          175,
          175,
          175,
          165,
          178,
          171,
          171,
          171,
          171,
          171,
          176,
          176,
          176,
          176,
          176,
          176,
          176,
          176,
          176,
          176,
          160,
          161,
          181,
          181,
          181,
          186,
          183,
          176,
          176,
          158,
          158,
          178,
          158,
          158,
          158,
          158,
          158,
          158,
          158,
          158,
          158,
          176,
          176,
          176,
          179,
          179,
          179,
          165.37482517482516,
          178,
          172,
          172,
          168,
          168,
          178,
          178,
          186,
          186,
          186,
          186,
          173,
          158,
          158,
          158,
          173,
          178,
          173,
          173,
          173,
          173,
          173,
          173,
          178,
          183,
          183,
          161,
          163,
          163,
          163,
          163,
          163,
          163,
          163,
          173,
          168,
          181,
          181,
          163,
          171,
          176,
          176,
          181,
          181,
          167,
          167,
          167,
          167,
          167,
          178,
          177.3722891566265,
          171,
          171,
          186,
          163,
          163,
          177,
          180,
          176,
          176,
          176,
          166,
          166,
          166,
          166,
          166,
          178,
          178,
          178,
          159,
          178,
          171,
          171,
          171,
          176,
          178,
          178,
          178,
          165,
          179,
          181,
          182,
          161,
          173,
          161,
          161,
          178,
          181,
          171,
          171,
          171,
          163,
          181,
          181,
          183,
          182,
          176,
          176,
          176,
          176,
          176,
          181,
          181,
          183,
          161,
          161,
          188,
          176,
          181,
          181,
          181,
          153,
          153,
          153,
          191,
          183,
          183,
          181,
          166,
          166,
          173,
          158,
          158,
          183,
          176,
          176,
          176,
          176,
          176,
          176,
          176,
          181,
          166,
          161,
          173,
          173,
          173,
          176,
          176,
          171,
          158,
          158,
          158,
          158,
          168,
          166,
          171,
          171,
          171,
          168,
          178,
          168,
          178,
          178,
          178,
          166,
          166,
          166,
          188,
          178,
          171,
          171,
          163,
          178,
          178,
          165.37482517482516,
          199,
          178,
          178,
          168,
          176,
          176,
          176,
          176,
          181,
          177.3722891566265,
          163,
          168,
          168,
          168,
          168,
          178,
          178,
          178,
          178,
          178,
          178,
          150,
          150,
          176,
          176,
          176,
          166,
          181,
          177,
          177,
          177,
          177,
          166,
          178,
          178,
          165,
          165,
          165,
          157,
          173,
          158,
          158,
          158,
          163,
          163,
          165,
          166,
          166,
          166,
          178,
          178,
          178,
          176,
          176,
          176,
          176,
          176,
          176,
          174,
          183,
          178,
          183,
          160,
          174,
          174,
          174,
          174,
          174,
          170,
          170,
          170,
          170,
          170,
          170,
          170,
          170,
          170,
          170,
          170,
          171,
          171,
          171,
          175,
          166,
          166,
          166,
          166,
          178,
          171,
          171,
          171,
          161,
          164,
          164,
          164,
          164,
          164,
          164,
          164,
          181,
          177.3722891566265,
          181,
          186,
          186,
          177.3722891566265,
          177.3722891566265,
          155,
          186,
          186,
          186,
          186,
          186,
          186,
          176,
          165.37482517482516,
          167,
          153,
          177.3722891566265,
          177.3722891566265,
          177.3722891566265,
          177.3722891566265,
          177.3722891566265,
          173,
          173,
          173,
          158,
          159,
          159,
          159,
          159,
          171,
          176,
          173,
          171,
          163,
          176,
          176,
          176,
          166,
          158,
          158,
          173,
          171,
          179,
          163,
          163,
          163,
          163,
          153,
          153,
          186,
          186,
          178,
          178,
          178,
          178,
          178,
          178,
          163,
          183,
          183,
          183,
          183,
          183,
          171,
          161,
          155,
          161,
          167,
          167,
          167,
          173,
          173,
          173,
          173,
          173,
          170,
          153,
          186,
          186,
          173,
          173,
          176,
          176,
          166,
          177.3722891566265,
          164,
          164,
          177.3722891566265,
          177.3722891566265,
          166,
          166,
          166,
          166,
          166,
          166,
          166,
          181,
          173,
          173,
          173,
          173,
          173,
          173,
          173,
          173,
          181,
          181,
          162,
          173,
          165.37482517482516,
          168,
          166,
          166,
          181,
          186,
          171,
          168,
          171,
          171,
          183,
          171,
          171,
          171,
          171,
          177.3722891566265,
          177.3722891566265,
          158,
          178,
          178,
          178,
          165.37482517482516,
          183,
          174,
          173,
          181,
          181,
          181,
          181,
          177.3722891566265,
          177.3722891566265,
          188,
          177.3722891566265,
          188,
          188,
          176,
          186,
          186,
          176,
          176,
          176,
          176,
          176,
          176,
          176,
          176,
          176,
          178,
          178,
          178,
          178,
          176,
          176,
          176,
          176,
          196,
          196,
          176,
          165.37482517482516,
          163,
          177.3722891566265,
          171,
          161,
          161,
          158,
          158,
          158,
          158,
          158,
          158,
          168,
          168,
          168,
          168,
          168,
          168,
          168,
          168,
          173,
          173,
          173,
          173,
          173,
          173,
          161,
          158,
          158,
          158,
          165,
          165,
          181,
          165.37482517482516,
          165.37482517482516,
          158,
          165.37482517482516,
          179,
          179,
          163,
          171,
          173,
          176,
          171,
          171,
          161,
          178,
          183,
          162,
          162,
          176,
          173,
          161,
          161,
          181,
          181,
          181,
          181,
          181,
          181,
          181,
          181,
          181,
          181,
          181,
          181,
          178,
          178,
          150,
          150,
          171,
          168,
          168,
          168,
          165.37482517482516,
          158,
          171,
          163,
          163,
          163,
          163,
          173,
          173,
          177.3722891566265,
          171,
          171,
          171,
          171,
          171,
          166,
          176,
          176,
          176,
          178,
          178,
          178,
          178,
          178,
          165.37482517482516,
          165.37482517482516,
          158,
          158,
          158,
          158,
          158,
          158,
          165.37482517482516,
          188,
          188,
          188,
          188,
          188,
          188,
          168,
          173,
          186,
          186,
          186,
          186,
          161,
          161,
          165.37482517482516,
          166,
          163,
          176,
          176,
          176,
          168,
          163,
          181,
          181,
          181,
          181,
          186,
          186,
          186,
          165.37482517482516,
          186,
          186,
          186,
          178,
          177.3722891566265,
          163,
          163,
          169,
          169,
          169,
          169,
          169,
          169,
          169,
          169,
          169,
          177.3722891566265,
          181,
          162,
          183,
          183,
          168,
          168,
          168,
          168,
          177.3722891566265,
          168,
          168,
          178,
          186,
          163,
          163,
          173,
          173,
          173,
          177.3722891566265,
          171,
          183,
          183,
          160,
          188,
          164,
          158,
          181,
          181,
          181,
          181,
          181,
          177.3722891566265,
          171,
          188,
          173,
          194,
          178,
          178,
          178,
          178,
          178,
          178,
          178,
          178,
          178,
          176,
          176,
          178,
          161,
          177,
          177.3722891566265,
          185,
          185,
          176,
          165.37482517482516,
          177.3722891566265,
          168,
          176,
          150,
          163,
          163,
          163,
          163,
          173,
          173,
          173,
          173,
          183,
          163,
          163,
          169,
          176,
          176,
          176,
          165.37482517482516,
          165.37482517482516,
          165.37482517482516,
          150,
          181,
          181,
          165.37482517482516,
          168,
          178,
          161,
          161,
          163,
          164,
          164,
          164,
          164,
          164,
          164,
          173,
          173,
          167,
          178,
          178,
          183,
          183,
          183,
          183,
          183,
          183,
          161,
          168,
          181,
          165,
          188,
          188,
          188,
          188,
          188,
          188,
          188,
          168,
          176,
          199,
          171,
          171,
          171,
          176,
          176,
          178,
          165.37482517482516,
          161,
          161,
          168,
          168,
          163,
          177.3722891566265,
          179,
          171,
          170,
          161,
          185,
          185,
          185,
          162,
          162,
          162,
          162,
          162,
          162,
          162,
          162,
          168,
          161,
          161,
          161,
          161,
          161,
          171,
          171,
          171,
          171,
          168,
          168,
          168,
          166,
          166,
          166,
          166,
          166,
          177.3722891566265,
          183,
          183,
          177.3722891566265,
          181,
          161,
          161,
          173,
          176,
          176,
          176,
          176,
          168,
          168,
          168,
          168,
          173,
          186,
          165.37482517482516,
          183,
          196,
          187,
          163,
          166,
          171,
          175,
          175,
          175,
          175,
          171,
          171,
          171,
          171,
          171,
          171,
          171,
          181,
          181,
          181,
          181,
          181,
          181,
          181,
          181,
          181,
          171,
          173,
          175,
          175,
          175,
          188,
          165,
          177.3722891566265,
          183,
          176,
          181,
          181,
          181,
          181,
          181,
          181,
          181,
          166,
          166,
          166,
          166,
          183,
          173,
          163,
          163,
          163,
          163,
          163,
          163,
          163,
          163,
          181,
          176,
          176,
          176,
          176,
          183,
          183,
          176,
          168,
          168,
          168,
          168,
          168,
          168,
          168,
          168,
          171,
          171,
          171,
          171,
          171,
          171,
          171,
          171,
          171,
          171,
          171,
          171,
          171,
          165.37482517482516,
          176,
          176,
          177,
          169,
          169,
          169,
          171,
          171,
          171,
          171,
          181,
          181,
          181,
          181,
          181,
          177.3722891566265,
          185,
          178,
          178,
          186,
          177.3722891566265,
          166,
          150,
          188,
          161,
          176,
          171,
          171,
          171,
          171,
          171,
          163,
          163,
          183,
          183,
          177.3722891566265,
          177.3722891566265,
          158,
          158,
          181,
          182,
          161,
          177.3722891566265,
          161,
          176,
          171,
          169,
          185,
          173,
          171,
          189,
          166,
          160,
          160,
          160,
          175,
          165.37482517482516,
          171,
          170,
          161,
          161,
          161,
          161,
          165,
          165,
          165,
          165,
          165,
          171,
          150,
          150,
          178,
          171,
          173,
          168,
          176,
          176,
          171,
          183,
          175,
          182,
          178,
          181,
          181,
          181,
          181,
          163,
          155,
          160,
          175,
          168,
          168,
          170,
          179,
          166,
          168,
          158,
          181,
          181,
          181,
          183,
          163,
          163,
          163,
          163,
          181,
          167,
          181,
          171,
          170,
          150,
          163,
          161,
          173,
          172,
          172,
          176,
          183,
          168,
          177.3722891566265,
          153,
          167,
          174,
          178,
          154,
          167,
          167,
          167,
          161,
          161,
          161,
          161,
          161,
          161,
          161,
          177.3722891566265,
          183,
          183,
          183,
          176,
          158,
          158,
          158,
          158,
          158,
          158,
          176,
          176,
          176,
          176,
          176,
          158,
          166,
          155,
          155,
          180,
          171,
          165.37482517482516,
          176,
          173,
          180,
          180,
          180,
          175,
          176,
          170,
          166,
          177,
          177,
          177,
          177,
          167,
          161,
          170,
          170,
          170,
          170,
          170,
          174,
          178,
          162,
          177.3722891566265,
          177.3722891566265,
          183,
          183,
          162,
          166,
          168,
          158,
          177.3722891566265,
          178,
          175,
          184,
          165,
          176,
          174,
          191,
          191,
          159,
          176,
          155,
          157,
          153,
          160,
          167,
          178,
          163,
          163,
          183,
          170,
          164,
          169,
          174,
          173,
          173,
          173,
          176,
          176,
          176,
          176,
          184,
          174,
          174,
          174,
          176,
          163,
          163,
          165,
          165,
          173,
          173,
          173,
          165.37482517482516,
          177,
          177,
          170,
          170,
          170,
          174,
          180,
          181,
          153,
          188,
          158,
          178,
          178,
          166,
          158,
          158,
          188,
          173,
          171,
          152,
          174,
          173,
          160,
          171,
          161,
          161,
          161,
          165.37482517482516,
          161,
          156,
          156,
          164,
          182,
          173,
          158,
          170,
          181,
          181,
          171,
          171,
          171,
          157,
          170,
          170,
          170,
          170,
          170,
          163,
          163,
          163,
          163,
          163,
          188,
          177.3722891566265,
          177.3722891566265,
          178,
          167,
          165.37482517482516,
          179,
          177.3722891566265,
          165.37482517482516,
          177.3722891566265,
          177.3722891566265,
          177.3722891566265,
          171,
          168,
          170,
          168,
          163,
          164,
          178,
          167,
          187,
          177,
          177.3722891566265,
          168,
          168,
          168,
          168,
          183,
          150,
          171,
          171,
          171,
          171,
          189,
          178,
          163,
          163,
          175,
          185,
          185,
          178,
          173,
          172,
          183,
          187,
          159,
          165,
          177,
          177,
          177,
          168,
          173,
          172,
          172,
          172,
          172,
          170,
          170,
          170,
          179,
          179,
          179,
          175,
          177.3722891566265,
          170,
          165.37482517482516,
          181,
          163,
          183,
          164,
          170,
          170,
          170,
          170,
          165,
          171,
          177,
          176,
          176,
          176,
          174,
          163,
          180,
          176,
          172,
          181,
          150,
          175,
          161,
          181,
          166,
          165.37482517482516,
          181,
          168,
          168,
          181,
          165,
          163,
          163,
          178,
          158,
          168,
          175,
          171,
          170,
          167,
          186,
          175,
          153,
          179,
          178,
          165.37482517482516,
          161,
          173,
          163,
          182,
          182,
          182,
          182,
          161,
          162,
          162,
          155,
          186,
          186,
          166,
          166,
          165.37482517482516,
          154,
          182,
          182,
          173,
          169,
          180,
          175,
          167,
          167,
          167,
          177.3722891566265,
          172,
          173,
          171,
          177.3722891566265,
          158,
          160,
          183,
          178,
          156,
          163,
          155,
          154,
          165,
          170,
          160,
          170,
          168,
          199,
          161,
          161,
          168,
          166,
          186,
          155,
          176,
          175,
          175,
          168,
          168,
          160,
          178,
          185,
          168,
          168,
          168,
          165.37482517482516,
          165.37482517482516,
          164,
          163,
          173,
          173,
          161,
          163,
          159,
          183,
          183,
          184,
          176,
          165.37482517482516,
          183,
          165.37482517482516,
          177.3722891566265,
          177.3722891566265,
          166,
          157,
          177.3722891566265,
          165.37482517482516,
          165.37482517482516,
          165.37482517482516,
          177.3722891566265,
          177.3722891566265,
          177.3722891566265,
          165.37482517482516,
          165.37482517482516,
          165.37482517482516,
          165.37482517482516,
          165.37482517482516,
          165.37482517482516,
          165.37482517482516,
          165.37482517482516,
          165.37482517482516,
          165.37482517482516,
          165.37482517482516,
          165.37482517482516,
          165.37482517482516,
          165.37482517482516,
          177.3722891566265,
          177.3722891566265,
          177.3722891566265,
          177.3722891566265,
          177.3722891566265,
          177.3722891566265,
          177.3722891566265,
          177.3722891566265,
          177.3722891566265,
          177.3722891566265,
          177.3722891566265,
          177.3722891566265,
          177.3722891566265,
          177.3722891566265,
          177.3722891566265,
          177.3722891566265,
          177.3722891566265,
          177.3722891566265,
          165.37482517482516,
          165.37482517482516,
          165.37482517482516,
          165.37482517482516,
          165.37482517482516,
          165.37482517482516,
          165.37482517482516,
          165.37482517482516,
          165.37482517482516,
          165.37482517482516,
          177.3722891566265,
          177.3722891566265,
          177.3722891566265,
          177.3722891566265,
          177.3722891566265,
          177.3722891566265,
          177.3722891566265,
          177.3722891566265,
          177.3722891566265,
          177.3722891566265,
          177.3722891566265,
          177.3722891566265,
          177.3722891566265,
          177.3722891566265,
          177.3722891566265,
          165.37482517482516,
          165.37482517482516,
          165.37482517482516,
          165.37482517482516,
          165.37482517482516,
          165.37482517482516,
          165.37482517482516,
          165.37482517482516,
          165.37482517482516,
          165.37482517482516,
          165.37482517482516,
          165.37482517482516,
          165.37482517482516
         ]
        }
       ],
       "layout": {
        "template": {
         "data": {
          "bar": [
           {
            "error_x": {
             "color": "#2a3f5f"
            },
            "error_y": {
             "color": "#2a3f5f"
            },
            "marker": {
             "line": {
              "color": "#E5ECF6",
              "width": 0.5
             },
             "pattern": {
              "fillmode": "overlay",
              "size": 10,
              "solidity": 0.2
             }
            },
            "type": "bar"
           }
          ],
          "barpolar": [
           {
            "marker": {
             "line": {
              "color": "#E5ECF6",
              "width": 0.5
             },
             "pattern": {
              "fillmode": "overlay",
              "size": 10,
              "solidity": 0.2
             }
            },
            "type": "barpolar"
           }
          ],
          "carpet": [
           {
            "aaxis": {
             "endlinecolor": "#2a3f5f",
             "gridcolor": "white",
             "linecolor": "white",
             "minorgridcolor": "white",
             "startlinecolor": "#2a3f5f"
            },
            "baxis": {
             "endlinecolor": "#2a3f5f",
             "gridcolor": "white",
             "linecolor": "white",
             "minorgridcolor": "white",
             "startlinecolor": "#2a3f5f"
            },
            "type": "carpet"
           }
          ],
          "choropleth": [
           {
            "colorbar": {
             "outlinewidth": 0,
             "ticks": ""
            },
            "type": "choropleth"
           }
          ],
          "contour": [
           {
            "colorbar": {
             "outlinewidth": 0,
             "ticks": ""
            },
            "colorscale": [
             [
              0,
              "#0d0887"
             ],
             [
              0.1111111111111111,
              "#46039f"
             ],
             [
              0.2222222222222222,
              "#7201a8"
             ],
             [
              0.3333333333333333,
              "#9c179e"
             ],
             [
              0.4444444444444444,
              "#bd3786"
             ],
             [
              0.5555555555555556,
              "#d8576b"
             ],
             [
              0.6666666666666666,
              "#ed7953"
             ],
             [
              0.7777777777777778,
              "#fb9f3a"
             ],
             [
              0.8888888888888888,
              "#fdca26"
             ],
             [
              1,
              "#f0f921"
             ]
            ],
            "type": "contour"
           }
          ],
          "contourcarpet": [
           {
            "colorbar": {
             "outlinewidth": 0,
             "ticks": ""
            },
            "type": "contourcarpet"
           }
          ],
          "heatmap": [
           {
            "colorbar": {
             "outlinewidth": 0,
             "ticks": ""
            },
            "colorscale": [
             [
              0,
              "#0d0887"
             ],
             [
              0.1111111111111111,
              "#46039f"
             ],
             [
              0.2222222222222222,
              "#7201a8"
             ],
             [
              0.3333333333333333,
              "#9c179e"
             ],
             [
              0.4444444444444444,
              "#bd3786"
             ],
             [
              0.5555555555555556,
              "#d8576b"
             ],
             [
              0.6666666666666666,
              "#ed7953"
             ],
             [
              0.7777777777777778,
              "#fb9f3a"
             ],
             [
              0.8888888888888888,
              "#fdca26"
             ],
             [
              1,
              "#f0f921"
             ]
            ],
            "type": "heatmap"
           }
          ],
          "heatmapgl": [
           {
            "colorbar": {
             "outlinewidth": 0,
             "ticks": ""
            },
            "colorscale": [
             [
              0,
              "#0d0887"
             ],
             [
              0.1111111111111111,
              "#46039f"
             ],
             [
              0.2222222222222222,
              "#7201a8"
             ],
             [
              0.3333333333333333,
              "#9c179e"
             ],
             [
              0.4444444444444444,
              "#bd3786"
             ],
             [
              0.5555555555555556,
              "#d8576b"
             ],
             [
              0.6666666666666666,
              "#ed7953"
             ],
             [
              0.7777777777777778,
              "#fb9f3a"
             ],
             [
              0.8888888888888888,
              "#fdca26"
             ],
             [
              1,
              "#f0f921"
             ]
            ],
            "type": "heatmapgl"
           }
          ],
          "histogram": [
           {
            "marker": {
             "pattern": {
              "fillmode": "overlay",
              "size": 10,
              "solidity": 0.2
             }
            },
            "type": "histogram"
           }
          ],
          "histogram2d": [
           {
            "colorbar": {
             "outlinewidth": 0,
             "ticks": ""
            },
            "colorscale": [
             [
              0,
              "#0d0887"
             ],
             [
              0.1111111111111111,
              "#46039f"
             ],
             [
              0.2222222222222222,
              "#7201a8"
             ],
             [
              0.3333333333333333,
              "#9c179e"
             ],
             [
              0.4444444444444444,
              "#bd3786"
             ],
             [
              0.5555555555555556,
              "#d8576b"
             ],
             [
              0.6666666666666666,
              "#ed7953"
             ],
             [
              0.7777777777777778,
              "#fb9f3a"
             ],
             [
              0.8888888888888888,
              "#fdca26"
             ],
             [
              1,
              "#f0f921"
             ]
            ],
            "type": "histogram2d"
           }
          ],
          "histogram2dcontour": [
           {
            "colorbar": {
             "outlinewidth": 0,
             "ticks": ""
            },
            "colorscale": [
             [
              0,
              "#0d0887"
             ],
             [
              0.1111111111111111,
              "#46039f"
             ],
             [
              0.2222222222222222,
              "#7201a8"
             ],
             [
              0.3333333333333333,
              "#9c179e"
             ],
             [
              0.4444444444444444,
              "#bd3786"
             ],
             [
              0.5555555555555556,
              "#d8576b"
             ],
             [
              0.6666666666666666,
              "#ed7953"
             ],
             [
              0.7777777777777778,
              "#fb9f3a"
             ],
             [
              0.8888888888888888,
              "#fdca26"
             ],
             [
              1,
              "#f0f921"
             ]
            ],
            "type": "histogram2dcontour"
           }
          ],
          "mesh3d": [
           {
            "colorbar": {
             "outlinewidth": 0,
             "ticks": ""
            },
            "type": "mesh3d"
           }
          ],
          "parcoords": [
           {
            "line": {
             "colorbar": {
              "outlinewidth": 0,
              "ticks": ""
             }
            },
            "type": "parcoords"
           }
          ],
          "pie": [
           {
            "automargin": true,
            "type": "pie"
           }
          ],
          "scatter": [
           {
            "fillpattern": {
             "fillmode": "overlay",
             "size": 10,
             "solidity": 0.2
            },
            "type": "scatter"
           }
          ],
          "scatter3d": [
           {
            "line": {
             "colorbar": {
              "outlinewidth": 0,
              "ticks": ""
             }
            },
            "marker": {
             "colorbar": {
              "outlinewidth": 0,
              "ticks": ""
             }
            },
            "type": "scatter3d"
           }
          ],
          "scattercarpet": [
           {
            "marker": {
             "colorbar": {
              "outlinewidth": 0,
              "ticks": ""
             }
            },
            "type": "scattercarpet"
           }
          ],
          "scattergeo": [
           {
            "marker": {
             "colorbar": {
              "outlinewidth": 0,
              "ticks": ""
             }
            },
            "type": "scattergeo"
           }
          ],
          "scattergl": [
           {
            "marker": {
             "colorbar": {
              "outlinewidth": 0,
              "ticks": ""
             }
            },
            "type": "scattergl"
           }
          ],
          "scattermapbox": [
           {
            "marker": {
             "colorbar": {
              "outlinewidth": 0,
              "ticks": ""
             }
            },
            "type": "scattermapbox"
           }
          ],
          "scatterpolar": [
           {
            "marker": {
             "colorbar": {
              "outlinewidth": 0,
              "ticks": ""
             }
            },
            "type": "scatterpolar"
           }
          ],
          "scatterpolargl": [
           {
            "marker": {
             "colorbar": {
              "outlinewidth": 0,
              "ticks": ""
             }
            },
            "type": "scatterpolargl"
           }
          ],
          "scatterternary": [
           {
            "marker": {
             "colorbar": {
              "outlinewidth": 0,
              "ticks": ""
             }
            },
            "type": "scatterternary"
           }
          ],
          "surface": [
           {
            "colorbar": {
             "outlinewidth": 0,
             "ticks": ""
            },
            "colorscale": [
             [
              0,
              "#0d0887"
             ],
             [
              0.1111111111111111,
              "#46039f"
             ],
             [
              0.2222222222222222,
              "#7201a8"
             ],
             [
              0.3333333333333333,
              "#9c179e"
             ],
             [
              0.4444444444444444,
              "#bd3786"
             ],
             [
              0.5555555555555556,
              "#d8576b"
             ],
             [
              0.6666666666666666,
              "#ed7953"
             ],
             [
              0.7777777777777778,
              "#fb9f3a"
             ],
             [
              0.8888888888888888,
              "#fdca26"
             ],
             [
              1,
              "#f0f921"
             ]
            ],
            "type": "surface"
           }
          ],
          "table": [
           {
            "cells": {
             "fill": {
              "color": "#EBF0F8"
             },
             "line": {
              "color": "white"
             }
            },
            "header": {
             "fill": {
              "color": "#C8D4E3"
             },
             "line": {
              "color": "white"
             }
            },
            "type": "table"
           }
          ]
         },
         "layout": {
          "annotationdefaults": {
           "arrowcolor": "#2a3f5f",
           "arrowhead": 0,
           "arrowwidth": 1
          },
          "autotypenumbers": "strict",
          "coloraxis": {
           "colorbar": {
            "outlinewidth": 0,
            "ticks": ""
           }
          },
          "colorscale": {
           "diverging": [
            [
             0,
             "#8e0152"
            ],
            [
             0.1,
             "#c51b7d"
            ],
            [
             0.2,
             "#de77ae"
            ],
            [
             0.3,
             "#f1b6da"
            ],
            [
             0.4,
             "#fde0ef"
            ],
            [
             0.5,
             "#f7f7f7"
            ],
            [
             0.6,
             "#e6f5d0"
            ],
            [
             0.7,
             "#b8e186"
            ],
            [
             0.8,
             "#7fbc41"
            ],
            [
             0.9,
             "#4d9221"
            ],
            [
             1,
             "#276419"
            ]
           ],
           "sequential": [
            [
             0,
             "#0d0887"
            ],
            [
             0.1111111111111111,
             "#46039f"
            ],
            [
             0.2222222222222222,
             "#7201a8"
            ],
            [
             0.3333333333333333,
             "#9c179e"
            ],
            [
             0.4444444444444444,
             "#bd3786"
            ],
            [
             0.5555555555555556,
             "#d8576b"
            ],
            [
             0.6666666666666666,
             "#ed7953"
            ],
            [
             0.7777777777777778,
             "#fb9f3a"
            ],
            [
             0.8888888888888888,
             "#fdca26"
            ],
            [
             1,
             "#f0f921"
            ]
           ],
           "sequentialminus": [
            [
             0,
             "#0d0887"
            ],
            [
             0.1111111111111111,
             "#46039f"
            ],
            [
             0.2222222222222222,
             "#7201a8"
            ],
            [
             0.3333333333333333,
             "#9c179e"
            ],
            [
             0.4444444444444444,
             "#bd3786"
            ],
            [
             0.5555555555555556,
             "#d8576b"
            ],
            [
             0.6666666666666666,
             "#ed7953"
            ],
            [
             0.7777777777777778,
             "#fb9f3a"
            ],
            [
             0.8888888888888888,
             "#fdca26"
            ],
            [
             1,
             "#f0f921"
            ]
           ]
          },
          "colorway": [
           "#636efa",
           "#EF553B",
           "#00cc96",
           "#ab63fa",
           "#FFA15A",
           "#19d3f3",
           "#FF6692",
           "#B6E880",
           "#FF97FF",
           "#FECB52"
          ],
          "font": {
           "color": "#2a3f5f"
          },
          "geo": {
           "bgcolor": "white",
           "lakecolor": "white",
           "landcolor": "#E5ECF6",
           "showlakes": true,
           "showland": true,
           "subunitcolor": "white"
          },
          "hoverlabel": {
           "align": "left"
          },
          "hovermode": "closest",
          "mapbox": {
           "style": "light"
          },
          "paper_bgcolor": "white",
          "plot_bgcolor": "#E5ECF6",
          "polar": {
           "angularaxis": {
            "gridcolor": "white",
            "linecolor": "white",
            "ticks": ""
           },
           "bgcolor": "#E5ECF6",
           "radialaxis": {
            "gridcolor": "white",
            "linecolor": "white",
            "ticks": ""
           }
          },
          "scene": {
           "xaxis": {
            "backgroundcolor": "#E5ECF6",
            "gridcolor": "white",
            "gridwidth": 2,
            "linecolor": "white",
            "showbackground": true,
            "ticks": "",
            "zerolinecolor": "white"
           },
           "yaxis": {
            "backgroundcolor": "#E5ECF6",
            "gridcolor": "white",
            "gridwidth": 2,
            "linecolor": "white",
            "showbackground": true,
            "ticks": "",
            "zerolinecolor": "white"
           },
           "zaxis": {
            "backgroundcolor": "#E5ECF6",
            "gridcolor": "white",
            "gridwidth": 2,
            "linecolor": "white",
            "showbackground": true,
            "ticks": "",
            "zerolinecolor": "white"
           }
          },
          "shapedefaults": {
           "line": {
            "color": "#2a3f5f"
           }
          },
          "ternary": {
           "aaxis": {
            "gridcolor": "white",
            "linecolor": "white",
            "ticks": ""
           },
           "baxis": {
            "gridcolor": "white",
            "linecolor": "white",
            "ticks": ""
           },
           "bgcolor": "#E5ECF6",
           "caxis": {
            "gridcolor": "white",
            "linecolor": "white",
            "ticks": ""
           }
          },
          "title": {
           "x": 0.05
          },
          "xaxis": {
           "automargin": true,
           "gridcolor": "white",
           "linecolor": "white",
           "ticks": "",
           "title": {
            "standoff": 15
           },
           "zerolinecolor": "white",
           "zerolinewidth": 2
          },
          "yaxis": {
           "automargin": true,
           "gridcolor": "white",
           "linecolor": "white",
           "ticks": "",
           "title": {
            "standoff": 15
           },
           "zerolinecolor": "white",
           "zerolinewidth": 2
          }
         }
        },
        "title": {
         "text": "height Distribution"
        },
        "xaxis": {
         "title": {
          "text": "height"
         }
        },
        "yaxis": {
         "title": {
          "text": "Frequency"
         }
        }
       }
      }
     },
     "metadata": {},
     "output_type": "display_data"
    },
    {
     "data": {
      "application/vnd.plotly.v1+json": {
       "config": {
        "plotlyServerURL": "https://plot.ly"
       },
       "data": [
        {
         "name": "weight Distribution",
         "nbinsx": 20,
         "type": "histogram",
         "x": [
          83,
          83,
          82,
          93,
          93,
          93,
          93,
          93,
          93,
          93,
          90,
          64,
          95,
          95,
          65.66385372714487,
          84,
          69,
          69,
          69,
          68,
          70,
          84,
          88.37544696066746,
          71,
          62,
          62,
          62,
          62,
          62,
          62,
          62,
          62,
          62,
          85,
          55,
          103,
          103,
          62,
          82,
          87,
          87,
          87,
          87,
          87,
          87,
          86,
          86,
          87,
          91,
          91,
          91,
          91,
          69,
          109,
          74,
          74,
          74,
          74,
          74,
          74,
          74,
          74,
          74,
          74,
          100,
          98,
          69,
          69,
          69,
          69,
          69,
          64,
          64,
          64,
          64,
          96,
          59,
          59,
          59,
          59,
          59,
          59,
          59,
          69,
          69,
          69,
          69,
          69,
          69,
          73,
          84,
          82,
          82,
          87,
          87,
          87,
          75,
          87,
          91,
          69,
          73,
          73,
          89,
          84,
          84,
          62,
          62,
          62,
          62,
          62,
          84,
          84,
          84,
          83,
          93,
          93,
          93,
          93,
          84,
          96,
          85,
          80,
          80,
          80,
          69,
          89,
          89,
          89,
          89,
          96,
          96,
          88,
          88,
          88,
          65,
          65,
          65,
          65,
          65,
          65,
          65,
          65,
          87,
          67,
          89,
          87,
          64,
          64,
          69,
          87,
          80,
          80,
          84,
          100,
          100,
          87,
          67,
          67,
          78,
          78,
          78,
          78,
          103,
          103,
          89,
          89,
          89,
          89,
          89,
          89,
          89,
          62,
          89,
          89,
          89,
          82,
          78,
          72,
          72,
          72,
          72,
          72,
          69,
          69,
          69,
          69,
          69,
          69,
          69,
          69,
          69,
          69,
          60,
          59,
          98,
          98,
          98,
          98,
          100,
          65.66385372714487,
          65.66385372714487,
          57,
          57,
          91,
          59,
          59,
          59,
          59,
          59,
          59,
          59,
          59,
          59,
          87,
          87,
          87,
          91,
          91,
          91,
          65.66385372714487,
          84,
          87,
          87,
          71,
          71,
          91,
          91,
          97,
          97,
          97,
          97,
          84,
          60,
          60,
          60,
          84,
          83,
          69,
          69,
          69,
          69,
          69,
          69,
          96,
          98,
          98,
          64,
          62,
          62,
          62,
          62,
          62,
          62,
          62,
          89,
          81,
          87,
          87,
          71,
          71,
          91,
          91,
          96,
          96,
          65,
          65,
          65,
          65,
          65,
          96,
          88.37544696066746,
          64,
          64,
          94,
          62,
          62,
          81,
          80,
          84,
          84,
          84,
          80,
          80,
          80,
          80,
          80,
          85,
          85,
          85,
          63,
          92,
          82,
          82,
          82,
          69,
          92,
          92,
          92,
          68,
          82,
          93,
          82,
          59,
          69,
          62,
          62,
          82,
          87,
          69,
          69,
          69,
          62,
          93,
          93,
          89,
          83,
          88,
          88,
          88,
          88,
          88,
          87,
          87,
          78,
          61,
          61,
          91,
          67,
          82,
          82,
          82,
          65,
          65,
          65,
          91,
          91,
          91,
          96,
          62,
          62,
          77,
          59,
          59,
          107,
          96,
          96,
          96,
          96,
          96,
          96,
          96,
          89,
          66,
          54,
          82,
          87,
          87,
          80,
          90,
          58,
          63,
          63,
          63,
          63,
          64,
          64,
          69,
          69,
          71,
          74,
          88,
          69,
          89,
          89,
          89,
          66,
          66,
          66,
          105,
          80,
          69,
          69,
          62,
          75,
          75,
          65.66385372714487,
          107,
          75,
          75,
          62,
          91,
          92,
          92,
          92,
          84,
          88.37544696066746,
          62,
          63,
          63,
          87,
          87,
          84,
          84,
          84,
          84,
          84,
          84,
          84,
          84,
          83,
          83,
          100,
          66,
          89,
          87,
          87,
          87,
          87,
          66,
          91,
          91,
          58,
          58,
          58,
          50,
          73,
          64,
          64,
          64,
          57,
          57,
          59,
          71,
          71,
          71,
          83,
          83,
          83,
          99,
          99,
          99,
          99,
          99,
          99,
          70,
          93,
          84,
          82,
          63,
          84,
          84,
          84,
          84,
          84,
          69,
          69,
          69,
          69,
          69,
          69,
          69,
          69,
          69,
          69,
          69,
          63,
          63,
          63,
          68,
          64,
          64,
          64,
          64,
          91,
          78,
          78,
          78,
          65.66385372714487,
          59,
          59,
          59,
          59,
          59,
          59,
          59,
          82,
          88.37544696066746,
          93,
          98,
          98,
          88.37544696066746,
          88.37544696066746,
          61,
          98,
          98,
          98,
          98,
          98,
          98,
          91,
          65.66385372714487,
          70,
          50,
          88.37544696066746,
          88.37544696066746,
          88.37544696066746,
          88.37544696066746,
          88.37544696066746,
          84,
          84,
          84,
          71,
          63,
          63,
          63,
          63,
          76,
          81,
          67,
          75,
          62,
          83,
          78,
          78,
          54,
          59,
          59,
          88.37544696066746,
          82,
          89,
          63,
          63,
          63,
          63,
          59,
          59,
          91,
          91,
          98,
          98,
          98,
          98,
          98,
          98,
          65.66385372714487,
          96,
          96,
          96,
          96,
          96,
          87,
          59,
          55,
          63,
          66,
          66,
          66,
          71,
          87,
          87,
          87,
          87,
          68,
          55,
          84,
          84,
          67,
          67,
          84,
          84,
          69,
          88.37544696066746,
          64,
          64,
          88,
          88,
          65,
          65,
          65,
          65,
          65,
          65,
          65,
          83,
          64,
          64,
          68,
          68,
          68,
          68,
          68,
          68,
          96,
          96,
          61,
          73,
          65.66385372714487,
          59,
          69,
          69,
          93,
          88,
          82,
          69,
          78,
          67,
          96,
          82,
          82,
          82,
          82,
          84,
          84,
          55,
          92,
          92,
          92,
          65.66385372714487,
          105,
          85,
          84,
          88,
          88,
          88,
          88,
          88.37544696066746,
          81,
          96,
          98,
          98,
          98,
          80,
          90,
          90,
          85,
          85,
          85,
          85,
          85,
          85,
          85,
          85,
          85,
          89,
          89,
          89,
          89,
          87,
          87,
          87,
          87,
          100,
          100,
          90,
          65.66385372714487,
          65.66385372714487,
          88.37544696066746,
          80,
          59,
          59,
          59,
          59,
          59,
          59,
          59,
          65.66385372714487,
          71,
          71,
          71,
          71,
          71,
          71,
          71,
          71,
          87,
          87,
          87,
          87,
          87,
          87,
          59,
          59,
          59,
          59,
          69,
          69,
          96,
          65.66385372714487,
          65.66385372714487,
          59,
          65.66385372714487,
          91,
          91,
          55,
          80,
          72,
          65,
          88,
          88,
          66,
          80,
          89,
          50,
          50,
          69,
          70,
          82,
          57,
          103,
          89,
          89,
          89,
          89,
          89,
          89,
          89,
          89,
          89,
          89,
          89,
          82,
          82,
          66,
          66,
          74,
          63,
          63,
          63,
          65.66385372714487,
          59,
          62,
          62,
          62,
          62,
          62,
          71,
          71,
          88.37544696066746,
          82,
          82,
          82,
          82,
          82,
          80,
          77,
          77,
          82,
          91,
          91,
          91,
          91,
          91,
          65.66385372714487,
          65.66385372714487,
          62,
          62,
          62,
          62,
          62,
          62,
          67,
          98,
          98,
          98,
          98,
          98,
          98,
          66,
          71,
          107,
          107,
          107,
          107,
          62,
          62,
          65.66385372714487,
          62,
          65.66385372714487,
          66,
          66,
          66,
          62,
          61,
          72,
          72,
          72,
          72,
          100,
          100,
          100,
          65.66385372714487,
          93,
          93,
          93,
          86,
          88.37544696066746,
          63,
          63,
          69,
          69,
          69,
          69,
          69,
          69,
          69,
          69,
          69,
          88.37544696066746,
          89,
          54,
          89,
          89,
          69,
          69,
          71,
          71,
          88.37544696066746,
          71,
          71,
          90,
          98,
          64,
          64,
          89,
          89,
          89,
          91,
          69,
          96,
          96,
          50,
          89,
          69,
          53,
          94,
          94,
          94,
          94,
          94,
          88.37544696066746,
          73,
          90,
          103,
          100,
          87,
          87,
          87,
          87,
          87,
          87,
          87,
          87,
          87,
          90,
          90,
          75,
          65,
          109,
          88.37544696066746,
          90,
          90,
          91,
          65.66385372714487,
          88.37544696066746,
          80,
          87,
          89,
          71,
          71,
          71,
          71,
          89,
          89,
          89,
          89,
          98,
          59,
          59,
          74,
          84,
          84,
          78,
          65.66385372714487,
          65.66385372714487,
          65.66385372714487,
          87,
          84,
          84,
          65.66385372714487,
          61,
          80,
          62,
          62,
          77,
          65,
          65,
          65,
          65,
          65,
          65,
          91,
          91,
          70,
          84,
          86,
          94,
          93,
          93,
          93,
          93,
          93,
          62,
          65,
          95,
          65,
          100,
          100,
          100,
          100,
          100,
          100,
          100,
          70,
          89,
          93,
          75,
          75,
          75,
          88,
          88,
          87,
          66,
          70,
          70,
          69,
          69,
          64,
          88.37544696066746,
          84,
          68,
          60,
          58,
          89,
          89,
          89,
          59,
          59,
          59,
          59,
          59,
          59,
          59,
          59,
          71,
          64,
          64,
          64,
          64,
          64,
          83,
          83,
          83,
          83,
          69,
          69,
          69,
          79,
          79,
          79,
          79,
          79,
          88.37544696066746,
          87,
          87,
          88.37544696066746,
          98,
          65,
          66,
          68,
          88,
          88,
          88,
          88,
          72,
          72,
          72,
          65,
          80,
          96,
          65.66385372714487,
          98,
          103,
          95,
          60,
          73,
          66,
          85,
          85,
          85,
          85,
          89,
          89,
          89,
          89,
          89,
          89,
          89,
          90,
          90,
          90,
          90,
          90,
          90,
          90,
          90,
          90,
          82,
          84,
          85,
          85,
          85,
          103,
          63,
          88.37544696066746,
          96,
          87,
          89,
          89,
          89,
          89,
          89,
          89,
          89,
          67,
          67,
          67,
          67,
          96,
          82,
          58,
          58,
          58,
          58,
          58,
          58,
          58,
          58,
          89,
          80,
          80,
          80,
          80,
          88,
          88,
          69,
          69,
          69,
          69,
          69,
          69,
          69,
          69,
          69,
          87,
          87,
          87,
          87,
          87,
          87,
          87,
          87,
          73,
          73,
          73,
          73,
          73,
          65.66385372714487,
          69,
          69,
          90,
          83,
          83,
          83,
          72,
          72,
          72,
          72,
          93,
          93,
          93,
          93,
          93,
          88.37544696066746,
          98,
          75,
          75,
          98,
          88.37544696066746,
          62,
          84,
          93,
          69,
          88,
          89,
          89,
          89,
          89,
          89,
          63,
          63,
          102,
          102,
          88.37544696066746,
          88.37544696066746,
          64,
          64,
          91,
          88,
          64,
          88.37544696066746,
          64,
          90,
          82,
          65,
          93,
          77,
          85,
          103,
          64,
          59,
          59,
          59,
          80,
          65.66385372714487,
          67,
          69,
          68,
          66,
          66,
          66,
          75,
          65,
          65,
          65,
          65,
          59,
          64,
          64,
          88,
          59,
          76,
          64,
          89,
          89,
          71,
          91,
          85,
          99,
          93,
          93,
          93,
          93,
          93,
          66,
          62,
          63,
          86,
          70,
          70,
          70,
          93,
          72,
          65,
          58,
          89,
          89,
          89,
          93,
          62,
          62,
          62,
          62,
          97,
          76,
          90,
          68,
          79,
          59,
          74,
          63,
          88,
          90,
          90,
          90,
          86,
          89,
          88.37544696066746,
          56,
          66,
          91,
          85,
          59,
          67,
          67,
          67,
          64,
          64,
          64,
          64,
          64,
          64,
          64,
          96,
          91,
          91,
          91,
          89,
          60,
          60,
          60,
          60,
          60,
          60,
          84,
          84,
          82,
          82,
          84,
          58,
          66,
          61,
          61,
          87,
          83,
          65.66385372714487,
          88,
          84,
          93,
          93,
          93,
          72,
          84,
          70,
          61,
          90,
          90,
          90,
          90,
          78,
          59,
          69,
          71,
          71,
          69,
          68,
          74,
          86,
          59,
          88.37544696066746,
          88.37544696066746,
          96,
          96,
          61,
          69,
          66,
          65.66385372714487,
          88.37544696066746,
          82,
          74,
          91,
          71,
          87,
          84,
          109,
          109,
          57,
          88,
          54,
          58,
          62,
          61,
          66,
          90,
          64,
          64,
          96,
          86,
          62,
          79,
          69,
          89,
          89,
          89,
          90,
          90,
          90,
          90,
          89,
          85,
          85,
          85,
          98,
          64,
          67,
          69,
          69,
          85,
          85,
          85,
          62,
          92,
          92,
          69,
          69,
          69,
          73,
          92,
          100,
          74,
          86,
          58,
          82,
          82,
          71,
          60,
          60,
          88.37544696066746,
          85,
          81,
          57,
          80,
          89,
          66,
          89,
          65,
          65,
          65,
          64,
          80,
          63,
          63,
          64,
          92,
          84,
          58,
          75,
          91,
          91,
          82,
          62,
          62,
          58,
          70,
          70,
          70,
          70,
          70,
          66,
          66,
          66,
          66,
          66,
          91,
          88.37544696066746,
          88.37544696066746,
          103,
          65,
          65.66385372714487,
          84,
          88.37544696066746,
          65.66385372714487,
          93,
          93,
          93,
          80,
          72,
          80,
          82,
          57,
          60,
          89,
          68,
          94,
          70,
          88.37544696066746,
          78,
          77,
          77,
          78,
          98,
          53,
          64,
          64,
          64,
          64,
          99,
          90,
          87,
          84,
          86,
          94,
          94,
          93,
          87,
          66,
          88,
          84,
          63,
          68,
          88,
          88,
          88,
          62,
          70,
          86,
          86,
          86,
          86,
          72,
          72,
          72,
          88,
          88,
          88,
          88,
          88.37544696066746,
          80,
          65.66385372714487,
          88,
          58,
          103,
          63,
          75,
          75,
          75,
          75,
          68,
          84,
          81,
          89,
          89,
          89,
          70,
          64,
          87,
          91,
          76,
          86,
          84,
          74,
          69,
          95,
          66,
          65.66385372714487,
          98,
          68,
          68,
          92,
          77,
          69,
          63,
          91,
          59,
          80,
          85,
          72,
          80,
          81,
          89,
          84,
          55,
          95,
          86,
          65.66385372714487,
          60,
          75,
          57,
          103,
          103,
          103,
          103,
          69,
          75,
          75,
          60,
          100,
          100,
          62,
          66,
          65.66385372714487,
          52,
          90,
          93,
          88,
          75,
          93,
          70,
          72,
          72,
          70,
          88.37544696066746,
          84,
          70,
          64,
          88.37544696066746,
          57,
          57,
          90,
          93,
          61,
          71,
          60,
          52,
          69,
          69,
          60,
          66,
          69,
          62,
          62,
          62,
          65,
          64,
          89,
          58,
          70,
          87,
          87,
          71,
          71,
          57,
          85,
          96,
          71,
          71,
          73,
          65.66385372714487,
          65.66385372714487,
          60,
          65,
          78,
          72,
          64,
          64,
          67,
          84,
          84,
          87,
          88,
          65.66385372714487,
          97,
          65.66385372714487,
          88.37544696066746,
          88.37544696066746,
          64,
          60,
          88.37544696066746,
          65.66385372714487,
          65.66385372714487,
          65.66385372714487,
          88.37544696066746,
          88.37544696066746,
          88.37544696066746,
          65.66385372714487,
          65.66385372714487,
          65.66385372714487,
          65.66385372714487,
          65.66385372714487,
          65.66385372714487,
          65.66385372714487,
          65.66385372714487,
          65.66385372714487,
          65.66385372714487,
          65.66385372714487,
          65.66385372714487,
          65.66385372714487,
          65.66385372714487,
          88.37544696066746,
          88.37544696066746,
          88.37544696066746,
          88.37544696066746,
          88.37544696066746,
          88.37544696066746,
          88.37544696066746,
          88.37544696066746,
          88.37544696066746,
          88.37544696066746,
          88.37544696066746,
          88.37544696066746,
          88.37544696066746,
          88.37544696066746,
          88.37544696066746,
          88.37544696066746,
          88.37544696066746,
          88.37544696066746,
          65.66385372714487,
          65.66385372714487,
          65.66385372714487,
          65.66385372714487,
          65.66385372714487,
          65.66385372714487,
          65.66385372714487,
          65.66385372714487,
          65.66385372714487,
          65.66385372714487,
          88.37544696066746,
          88.37544696066746,
          88.37544696066746,
          88.37544696066746,
          88.37544696066746,
          88.37544696066746,
          88.37544696066746,
          88.37544696066746,
          88.37544696066746,
          88.37544696066746,
          88.37544696066746,
          88.37544696066746,
          88.37544696066746,
          88.37544696066746,
          88.37544696066746,
          65.66385372714487,
          65.66385372714487,
          65.66385372714487,
          65.66385372714487,
          65.66385372714487,
          65.66385372714487,
          65.66385372714487,
          65.66385372714487,
          65.66385372714487,
          65.66385372714487,
          65.66385372714487,
          65.66385372714487,
          65.66385372714487
         ]
        }
       ],
       "layout": {
        "template": {
         "data": {
          "bar": [
           {
            "error_x": {
             "color": "#2a3f5f"
            },
            "error_y": {
             "color": "#2a3f5f"
            },
            "marker": {
             "line": {
              "color": "#E5ECF6",
              "width": 0.5
             },
             "pattern": {
              "fillmode": "overlay",
              "size": 10,
              "solidity": 0.2
             }
            },
            "type": "bar"
           }
          ],
          "barpolar": [
           {
            "marker": {
             "line": {
              "color": "#E5ECF6",
              "width": 0.5
             },
             "pattern": {
              "fillmode": "overlay",
              "size": 10,
              "solidity": 0.2
             }
            },
            "type": "barpolar"
           }
          ],
          "carpet": [
           {
            "aaxis": {
             "endlinecolor": "#2a3f5f",
             "gridcolor": "white",
             "linecolor": "white",
             "minorgridcolor": "white",
             "startlinecolor": "#2a3f5f"
            },
            "baxis": {
             "endlinecolor": "#2a3f5f",
             "gridcolor": "white",
             "linecolor": "white",
             "minorgridcolor": "white",
             "startlinecolor": "#2a3f5f"
            },
            "type": "carpet"
           }
          ],
          "choropleth": [
           {
            "colorbar": {
             "outlinewidth": 0,
             "ticks": ""
            },
            "type": "choropleth"
           }
          ],
          "contour": [
           {
            "colorbar": {
             "outlinewidth": 0,
             "ticks": ""
            },
            "colorscale": [
             [
              0,
              "#0d0887"
             ],
             [
              0.1111111111111111,
              "#46039f"
             ],
             [
              0.2222222222222222,
              "#7201a8"
             ],
             [
              0.3333333333333333,
              "#9c179e"
             ],
             [
              0.4444444444444444,
              "#bd3786"
             ],
             [
              0.5555555555555556,
              "#d8576b"
             ],
             [
              0.6666666666666666,
              "#ed7953"
             ],
             [
              0.7777777777777778,
              "#fb9f3a"
             ],
             [
              0.8888888888888888,
              "#fdca26"
             ],
             [
              1,
              "#f0f921"
             ]
            ],
            "type": "contour"
           }
          ],
          "contourcarpet": [
           {
            "colorbar": {
             "outlinewidth": 0,
             "ticks": ""
            },
            "type": "contourcarpet"
           }
          ],
          "heatmap": [
           {
            "colorbar": {
             "outlinewidth": 0,
             "ticks": ""
            },
            "colorscale": [
             [
              0,
              "#0d0887"
             ],
             [
              0.1111111111111111,
              "#46039f"
             ],
             [
              0.2222222222222222,
              "#7201a8"
             ],
             [
              0.3333333333333333,
              "#9c179e"
             ],
             [
              0.4444444444444444,
              "#bd3786"
             ],
             [
              0.5555555555555556,
              "#d8576b"
             ],
             [
              0.6666666666666666,
              "#ed7953"
             ],
             [
              0.7777777777777778,
              "#fb9f3a"
             ],
             [
              0.8888888888888888,
              "#fdca26"
             ],
             [
              1,
              "#f0f921"
             ]
            ],
            "type": "heatmap"
           }
          ],
          "heatmapgl": [
           {
            "colorbar": {
             "outlinewidth": 0,
             "ticks": ""
            },
            "colorscale": [
             [
              0,
              "#0d0887"
             ],
             [
              0.1111111111111111,
              "#46039f"
             ],
             [
              0.2222222222222222,
              "#7201a8"
             ],
             [
              0.3333333333333333,
              "#9c179e"
             ],
             [
              0.4444444444444444,
              "#bd3786"
             ],
             [
              0.5555555555555556,
              "#d8576b"
             ],
             [
              0.6666666666666666,
              "#ed7953"
             ],
             [
              0.7777777777777778,
              "#fb9f3a"
             ],
             [
              0.8888888888888888,
              "#fdca26"
             ],
             [
              1,
              "#f0f921"
             ]
            ],
            "type": "heatmapgl"
           }
          ],
          "histogram": [
           {
            "marker": {
             "pattern": {
              "fillmode": "overlay",
              "size": 10,
              "solidity": 0.2
             }
            },
            "type": "histogram"
           }
          ],
          "histogram2d": [
           {
            "colorbar": {
             "outlinewidth": 0,
             "ticks": ""
            },
            "colorscale": [
             [
              0,
              "#0d0887"
             ],
             [
              0.1111111111111111,
              "#46039f"
             ],
             [
              0.2222222222222222,
              "#7201a8"
             ],
             [
              0.3333333333333333,
              "#9c179e"
             ],
             [
              0.4444444444444444,
              "#bd3786"
             ],
             [
              0.5555555555555556,
              "#d8576b"
             ],
             [
              0.6666666666666666,
              "#ed7953"
             ],
             [
              0.7777777777777778,
              "#fb9f3a"
             ],
             [
              0.8888888888888888,
              "#fdca26"
             ],
             [
              1,
              "#f0f921"
             ]
            ],
            "type": "histogram2d"
           }
          ],
          "histogram2dcontour": [
           {
            "colorbar": {
             "outlinewidth": 0,
             "ticks": ""
            },
            "colorscale": [
             [
              0,
              "#0d0887"
             ],
             [
              0.1111111111111111,
              "#46039f"
             ],
             [
              0.2222222222222222,
              "#7201a8"
             ],
             [
              0.3333333333333333,
              "#9c179e"
             ],
             [
              0.4444444444444444,
              "#bd3786"
             ],
             [
              0.5555555555555556,
              "#d8576b"
             ],
             [
              0.6666666666666666,
              "#ed7953"
             ],
             [
              0.7777777777777778,
              "#fb9f3a"
             ],
             [
              0.8888888888888888,
              "#fdca26"
             ],
             [
              1,
              "#f0f921"
             ]
            ],
            "type": "histogram2dcontour"
           }
          ],
          "mesh3d": [
           {
            "colorbar": {
             "outlinewidth": 0,
             "ticks": ""
            },
            "type": "mesh3d"
           }
          ],
          "parcoords": [
           {
            "line": {
             "colorbar": {
              "outlinewidth": 0,
              "ticks": ""
             }
            },
            "type": "parcoords"
           }
          ],
          "pie": [
           {
            "automargin": true,
            "type": "pie"
           }
          ],
          "scatter": [
           {
            "fillpattern": {
             "fillmode": "overlay",
             "size": 10,
             "solidity": 0.2
            },
            "type": "scatter"
           }
          ],
          "scatter3d": [
           {
            "line": {
             "colorbar": {
              "outlinewidth": 0,
              "ticks": ""
             }
            },
            "marker": {
             "colorbar": {
              "outlinewidth": 0,
              "ticks": ""
             }
            },
            "type": "scatter3d"
           }
          ],
          "scattercarpet": [
           {
            "marker": {
             "colorbar": {
              "outlinewidth": 0,
              "ticks": ""
             }
            },
            "type": "scattercarpet"
           }
          ],
          "scattergeo": [
           {
            "marker": {
             "colorbar": {
              "outlinewidth": 0,
              "ticks": ""
             }
            },
            "type": "scattergeo"
           }
          ],
          "scattergl": [
           {
            "marker": {
             "colorbar": {
              "outlinewidth": 0,
              "ticks": ""
             }
            },
            "type": "scattergl"
           }
          ],
          "scattermapbox": [
           {
            "marker": {
             "colorbar": {
              "outlinewidth": 0,
              "ticks": ""
             }
            },
            "type": "scattermapbox"
           }
          ],
          "scatterpolar": [
           {
            "marker": {
             "colorbar": {
              "outlinewidth": 0,
              "ticks": ""
             }
            },
            "type": "scatterpolar"
           }
          ],
          "scatterpolargl": [
           {
            "marker": {
             "colorbar": {
              "outlinewidth": 0,
              "ticks": ""
             }
            },
            "type": "scatterpolargl"
           }
          ],
          "scatterternary": [
           {
            "marker": {
             "colorbar": {
              "outlinewidth": 0,
              "ticks": ""
             }
            },
            "type": "scatterternary"
           }
          ],
          "surface": [
           {
            "colorbar": {
             "outlinewidth": 0,
             "ticks": ""
            },
            "colorscale": [
             [
              0,
              "#0d0887"
             ],
             [
              0.1111111111111111,
              "#46039f"
             ],
             [
              0.2222222222222222,
              "#7201a8"
             ],
             [
              0.3333333333333333,
              "#9c179e"
             ],
             [
              0.4444444444444444,
              "#bd3786"
             ],
             [
              0.5555555555555556,
              "#d8576b"
             ],
             [
              0.6666666666666666,
              "#ed7953"
             ],
             [
              0.7777777777777778,
              "#fb9f3a"
             ],
             [
              0.8888888888888888,
              "#fdca26"
             ],
             [
              1,
              "#f0f921"
             ]
            ],
            "type": "surface"
           }
          ],
          "table": [
           {
            "cells": {
             "fill": {
              "color": "#EBF0F8"
             },
             "line": {
              "color": "white"
             }
            },
            "header": {
             "fill": {
              "color": "#C8D4E3"
             },
             "line": {
              "color": "white"
             }
            },
            "type": "table"
           }
          ]
         },
         "layout": {
          "annotationdefaults": {
           "arrowcolor": "#2a3f5f",
           "arrowhead": 0,
           "arrowwidth": 1
          },
          "autotypenumbers": "strict",
          "coloraxis": {
           "colorbar": {
            "outlinewidth": 0,
            "ticks": ""
           }
          },
          "colorscale": {
           "diverging": [
            [
             0,
             "#8e0152"
            ],
            [
             0.1,
             "#c51b7d"
            ],
            [
             0.2,
             "#de77ae"
            ],
            [
             0.3,
             "#f1b6da"
            ],
            [
             0.4,
             "#fde0ef"
            ],
            [
             0.5,
             "#f7f7f7"
            ],
            [
             0.6,
             "#e6f5d0"
            ],
            [
             0.7,
             "#b8e186"
            ],
            [
             0.8,
             "#7fbc41"
            ],
            [
             0.9,
             "#4d9221"
            ],
            [
             1,
             "#276419"
            ]
           ],
           "sequential": [
            [
             0,
             "#0d0887"
            ],
            [
             0.1111111111111111,
             "#46039f"
            ],
            [
             0.2222222222222222,
             "#7201a8"
            ],
            [
             0.3333333333333333,
             "#9c179e"
            ],
            [
             0.4444444444444444,
             "#bd3786"
            ],
            [
             0.5555555555555556,
             "#d8576b"
            ],
            [
             0.6666666666666666,
             "#ed7953"
            ],
            [
             0.7777777777777778,
             "#fb9f3a"
            ],
            [
             0.8888888888888888,
             "#fdca26"
            ],
            [
             1,
             "#f0f921"
            ]
           ],
           "sequentialminus": [
            [
             0,
             "#0d0887"
            ],
            [
             0.1111111111111111,
             "#46039f"
            ],
            [
             0.2222222222222222,
             "#7201a8"
            ],
            [
             0.3333333333333333,
             "#9c179e"
            ],
            [
             0.4444444444444444,
             "#bd3786"
            ],
            [
             0.5555555555555556,
             "#d8576b"
            ],
            [
             0.6666666666666666,
             "#ed7953"
            ],
            [
             0.7777777777777778,
             "#fb9f3a"
            ],
            [
             0.8888888888888888,
             "#fdca26"
            ],
            [
             1,
             "#f0f921"
            ]
           ]
          },
          "colorway": [
           "#636efa",
           "#EF553B",
           "#00cc96",
           "#ab63fa",
           "#FFA15A",
           "#19d3f3",
           "#FF6692",
           "#B6E880",
           "#FF97FF",
           "#FECB52"
          ],
          "font": {
           "color": "#2a3f5f"
          },
          "geo": {
           "bgcolor": "white",
           "lakecolor": "white",
           "landcolor": "#E5ECF6",
           "showlakes": true,
           "showland": true,
           "subunitcolor": "white"
          },
          "hoverlabel": {
           "align": "left"
          },
          "hovermode": "closest",
          "mapbox": {
           "style": "light"
          },
          "paper_bgcolor": "white",
          "plot_bgcolor": "#E5ECF6",
          "polar": {
           "angularaxis": {
            "gridcolor": "white",
            "linecolor": "white",
            "ticks": ""
           },
           "bgcolor": "#E5ECF6",
           "radialaxis": {
            "gridcolor": "white",
            "linecolor": "white",
            "ticks": ""
           }
          },
          "scene": {
           "xaxis": {
            "backgroundcolor": "#E5ECF6",
            "gridcolor": "white",
            "gridwidth": 2,
            "linecolor": "white",
            "showbackground": true,
            "ticks": "",
            "zerolinecolor": "white"
           },
           "yaxis": {
            "backgroundcolor": "#E5ECF6",
            "gridcolor": "white",
            "gridwidth": 2,
            "linecolor": "white",
            "showbackground": true,
            "ticks": "",
            "zerolinecolor": "white"
           },
           "zaxis": {
            "backgroundcolor": "#E5ECF6",
            "gridcolor": "white",
            "gridwidth": 2,
            "linecolor": "white",
            "showbackground": true,
            "ticks": "",
            "zerolinecolor": "white"
           }
          },
          "shapedefaults": {
           "line": {
            "color": "#2a3f5f"
           }
          },
          "ternary": {
           "aaxis": {
            "gridcolor": "white",
            "linecolor": "white",
            "ticks": ""
           },
           "baxis": {
            "gridcolor": "white",
            "linecolor": "white",
            "ticks": ""
           },
           "bgcolor": "#E5ECF6",
           "caxis": {
            "gridcolor": "white",
            "linecolor": "white",
            "ticks": ""
           }
          },
          "title": {
           "x": 0.05
          },
          "xaxis": {
           "automargin": true,
           "gridcolor": "white",
           "linecolor": "white",
           "ticks": "",
           "title": {
            "standoff": 15
           },
           "zerolinecolor": "white",
           "zerolinewidth": 2
          },
          "yaxis": {
           "automargin": true,
           "gridcolor": "white",
           "linecolor": "white",
           "ticks": "",
           "title": {
            "standoff": 15
           },
           "zerolinecolor": "white",
           "zerolinewidth": 2
          }
         }
        },
        "title": {
         "text": "weight Distribution"
        },
        "xaxis": {
         "title": {
          "text": "weight"
         }
        },
        "yaxis": {
         "title": {
          "text": "Frequency"
         }
        }
       }
      }
     },
     "metadata": {},
     "output_type": "display_data"
    },
    {
     "data": {
      "application/vnd.plotly.v1+json": {
       "config": {
        "plotlyServerURL": "https://plot.ly"
       },
       "data": [
        {
         "name": "bmi Distribution",
         "nbinsx": 20,
         "type": "histogram",
         "x": [
          26.19618735008206,
          26.19618735008206,
          30.863035868869737,
          28.387411861664784,
          28.387411861664784,
          28.387411861664784,
          28.387411861664784,
          28.387411861664784,
          28.387411861664784,
          28.387411861664784,
          30.071168431955627,
          23.225431847873423,
          28.367523664486843,
          28.367523664486843,
          24.01308087921364,
          28.06642386982525,
          25.34435261707989,
          25.34435261707989,
          25.34435261707989,
          23.25501863821347,
          23.38868655818771,
          28.06642386982525,
          28.084429605483876,
          25.76571345623458,
          21.45328719723184,
          21.45328719723184,
          21.45328719723184,
          21.45328719723184,
          21.45328719723184,
          21.45328719723184,
          21.45328719723184,
          21.45328719723184,
          21.45328719723184,
          28.40054796351365,
          23.49523687470631,
          29.14214576731553,
          29.14214576731553,
          24.83576349943919,
          26.47210743801653,
          29.75274443418488,
          29.75274443418488,
          29.75274443418488,
          29.75274443418488,
          29.75274443418488,
          29.75274443418488,
          29.410758865975858,
          29.410758865975858,
          29.75274443418488,
          27.776929886145112,
          27.776929886145112,
          27.776929886145112,
          27.776929886145112,
          24.44727891156463,
          29.87856692524876,
          28.19692120103642,
          28.19692120103642,
          28.19692120103642,
          28.19692120103642,
          28.19692120103642,
          28.19692120103642,
          28.19692120103642,
          28.19692120103642,
          28.19692120103642,
          28.19692120103642,
          29.860551225775623,
          29.913616800463966,
          24.44727891156463,
          24.44727891156463,
          24.44727891156463,
          24.44727891156463,
          24.44727891156463,
          23.225431847873423,
          23.225431847873423,
          23.225431847873423,
          23.225431847873423,
          29.629629629629623,
          24.55775234131113,
          24.55775234131113,
          24.55775234131113,
          24.55775234131113,
          24.55775234131113,
          24.55775234131113,
          23.63403300753084,
          23.59700420642249,
          23.59700420642249,
          23.59700420642249,
          23.59700420642249,
          23.59700420642249,
          23.59700420642249,
          24.96494647925858,
          24.280263614290668,
          27.39817568244846,
          27.39817568244846,
          25.97867956642479,
          25.97867956642479,
          25.97867956642479,
          25.351541373715524,
          29.06879615089044,
          29.3775826446281,
          25.970115548195267,
          26.491508201480624,
          26.491508201480624,
          26.575890590940304,
          26.511804065143288,
          26.511804065143288,
          25.806451612903224,
          25.806451612903224,
          25.806451612903224,
          25.806451612903224,
          25.806451612903224,
          28.06642386982525,
          28.06642386982525,
          28.06642386982525,
          24.78425751739377,
          29.35235450069436,
          29.35235450069436,
          29.35235450069436,
          29.35235450069436,
          23.766410140334997,
          27.74887270204648,
          25.94548395958609,
          27.358845456721728,
          27.358845456721728,
          27.358845456721728,
          27.29322416043669,
          28.731921487603305,
          28.731921487603305,
          28.731921487603305,
          28.731921487603305,
          28.6661291767446,
          28.6661291767446,
          27.77427092538821,
          27.77427092538821,
          27.77427092538821,
          23.588329220496444,
          23.588329220496444,
          23.588329220496444,
          23.588329220496444,
          23.588329220496444,
          23.588329220496444,
          23.588329220496444,
          23.588329220496444,
          27.458654210326976,
          26.83864765261977,
          28.08988764044944,
          27.458654210326976,
          24.088223117166624,
          24.088223117166624,
          26.61934338952972,
          28.08626033057851,
          26.729927495071667,
          26.729927495071667,
          25.640242971826257,
          27.411529289219047,
          27.411529289219047,
          28.08626033057851,
          22.91303307000445,
          22.91303307000445,
          26.674874320303687,
          26.674874320303687,
          26.674874320303687,
          26.674874320303687,
          29.14214576731553,
          29.14214576731553,
          29.396221429515126,
          29.396221429515126,
          29.396221429515126,
          29.396221429515126,
          29.396221429515126,
          29.396221429515126,
          29.396221429515126,
          24.21875,
          29.06122448979592,
          29.06122448979592,
          29.06122448979592,
          30.119375573921037,
          24.61810377477591,
          24.62296091104956,
          24.62296091104956,
          24.62296091104956,
          24.62296091104956,
          24.62296091104956,
          22.27530991735537,
          22.27530991735537,
          22.27530991735537,
          22.27530991735537,
          22.27530991735537,
          22.27530991735537,
          22.27530991735537,
          22.27530991735537,
          22.27530991735537,
          22.27530991735537,
          23.4375,
          22.76146753597469,
          29.913616800463966,
          29.913616800463966,
          29.913616800463966,
          28.326974216672443,
          29.860551225775623,
          24.01308087921364,
          24.01308087921364,
          22.832879346258608,
          22.832879346258608,
          28.721121070571897,
          23.63403300753084,
          23.63403300753084,
          23.63403300753084,
          23.63403300753084,
          23.63403300753084,
          23.63403300753084,
          23.63403300753084,
          23.63403300753084,
          23.63403300753084,
          28.08626033057851,
          28.08626033057851,
          28.08626033057851,
          28.40111107643332,
          28.40111107643332,
          28.40111107643332,
          24.01308087921364,
          26.511804065143288,
          29.40778799351001,
          29.40778799351001,
          25.15589569160998,
          25.15589569160998,
          28.721121070571897,
          28.721121070571897,
          28.037923459359455,
          28.037923459359455,
          28.037923459359455,
          28.037923459359455,
          28.06642386982525,
          24.03460983816696,
          24.03460983816696,
          24.03460983816696,
          28.06642386982525,
          26.19618735008206,
          23.054562464499316,
          23.054562464499316,
          23.054562464499316,
          23.054562464499316,
          23.054562464499316,
          23.054562464499316,
          30.29920464587805,
          29.26334020126011,
          29.26334020126011,
          24.690405462752206,
          23.335466144755166,
          23.335466144755166,
          23.335466144755166,
          23.335466144755166,
          23.335466144755166,
          23.335466144755166,
          23.335466144755166,
          29.737044338267232,
          28.69897959183674,
          26.555965935105768,
          26.555965935105768,
          26.722872520606725,
          24.28097534284053,
          29.3775826446281,
          29.3775826446281,
          29.30313482494429,
          29.30313482494429,
          23.30668005306752,
          23.30668005306752,
          23.30668005306752,
          23.30668005306752,
          23.30668005306752,
          30.29920464587805,
          28.084429605483876,
          21.887076365377386,
          21.887076365377386,
          27.170771187420502,
          23.335466144755166,
          23.335466144755166,
          25.854639471416256,
          24.69135802469136,
          27.117768595041323,
          27.117768595041323,
          27.117768595041323,
          29.03178980984178,
          29.03178980984178,
          29.03178980984178,
          29.03178980984178,
          29.03178980984178,
          26.82742078020452,
          26.82742078020452,
          26.82742078020452,
          24.91990032039872,
          29.036737785633125,
          28.04281659313977,
          28.04281659313977,
          28.04281659313977,
          22.27530991735537,
          29.036737785633125,
          29.036737785633125,
          29.036737785633125,
          24.977043158861346,
          25.592209980961893,
          28.387411861664784,
          24.755464315903875,
          22.76146753597469,
          23.054562464499316,
          23.9188302920412,
          23.9188302920412,
          25.88057063502083,
          26.555965935105768,
          23.59700420642249,
          23.59700420642249,
          23.59700420642249,
          23.335466144755166,
          28.387411861664784,
          28.387411861664784,
          26.575890590940304,
          25.057360222195385,
          28.40909090909091,
          28.40909090909091,
          28.40909090909091,
          28.40909090909091,
          28.40909090909091,
          26.555965935105768,
          26.555965935105768,
          23.291229956104985,
          23.53304270668569,
          23.53304270668569,
          25.746944318696244,
          21.62964876033058,
          25.029760996306585,
          25.029760996306585,
          25.029760996306585,
          27.76709812465291,
          27.76709812465291,
          27.76709812465291,
          24.94449165318933,
          27.173101615455817,
          27.173101615455817,
          29.30313482494429,
          22.49963710262738,
          22.49963710262738,
          25.72755521400648,
          23.63403300753084,
          23.63403300753084,
          31.95078981157992,
          30.991735537190085,
          30.991735537190085,
          30.991735537190085,
          30.991735537190085,
          30.991735537190085,
          30.991735537190085,
          30.991735537190085,
          27.16644791062544,
          23.95122659311947,
          20.832529609197174,
          27.39817568244846,
          29.06879615089044,
          29.06879615089044,
          25.826446280991732,
          29.054752066115704,
          19.83516295612325,
          25.236340330075304,
          25.236340330075304,
          25.236340330075304,
          25.236340330075304,
          22.67573696145125,
          23.225431847873423,
          23.59700420642249,
          23.59700420642249,
          24.28097534284053,
          26.218820861678008,
          27.77427092538821,
          24.44727891156463,
          28.08988764044944,
          28.08988764044944,
          28.08988764044944,
          23.95122659311947,
          23.95122659311947,
          23.95122659311947,
          29.708012675418743,
          25.24933720489837,
          23.59700420642249,
          23.59700420642249,
          23.335466144755166,
          23.671253629592226,
          23.671253629592226,
          24.01308087921364,
          27.01951970909825,
          23.671253629592226,
          23.671253629592226,
          21.9671201814059,
          29.3775826446281,
          29.700413223140497,
          29.700413223140497,
          29.700413223140497,
          25.640242971826257,
          28.084429605483876,
          23.335466144755166,
          22.321428571428577,
          22.321428571428577,
          30.824829931972797,
          30.824829931972797,
          26.511804065143288,
          26.511804065143288,
          26.511804065143288,
          26.511804065143288,
          26.511804065143288,
          26.511804065143288,
          37.333333333333336,
          37.333333333333336,
          26.794938016528928,
          26.794938016528928,
          32.28305785123967,
          23.95122659311947,
          27.16644791062544,
          27.769797950780426,
          27.769797950780426,
          27.769797950780426,
          27.769797950780426,
          23.95122659311947,
          28.721121070571897,
          28.721121070571897,
          21.30394857667585,
          21.30394857667585,
          21.30394857667585,
          20.28479857195018,
          24.3910588392529,
          25.63691716071142,
          25.63691716071142,
          25.63691716071142,
          21.453573713726524,
          21.453573713726524,
          21.6712580348944,
          25.76571345623458,
          25.76571345623458,
          25.76571345623458,
          26.19618735008206,
          26.19618735008206,
          26.19618735008206,
          31.960227272727277,
          31.960227272727277,
          31.960227272727277,
          31.960227272727277,
          31.960227272727277,
          31.960227272727277,
          23.120623596247853,
          27.77031263997133,
          26.511804065143288,
          24.48565200513601,
          24.609375,
          27.74474831549742,
          27.74474831549742,
          27.74474831549742,
          27.74474831549742,
          27.74474831549742,
          23.87543252595156,
          23.87543252595156,
          23.87543252595156,
          23.87543252595156,
          23.87543252595156,
          23.87543252595156,
          23.87543252595156,
          23.87543252595156,
          23.87543252595156,
          23.87543252595156,
          23.87543252595156,
          21.545090797168363,
          21.545090797168363,
          21.545090797168363,
          22.20408163265306,
          23.225431847873423,
          23.225431847873423,
          23.225431847873423,
          23.225431847873423,
          28.721121070571897,
          26.674874320303687,
          26.674874320303687,
          26.674874320303687,
          24.01308087921364,
          21.936347412254616,
          21.936347412254616,
          21.936347412254616,
          21.936347412254616,
          21.936347412254616,
          21.936347412254616,
          21.936347412254616,
          25.029760996306585,
          28.084429605483876,
          28.387411861664784,
          28.326974216672443,
          28.326974216672443,
          28.084429605483876,
          28.084429605483876,
          25.390218522372525,
          28.326974216672443,
          28.326974216672443,
          28.326974216672443,
          28.326974216672443,
          28.326974216672443,
          28.326974216672443,
          29.3775826446281,
          24.01308087921364,
          25.099501595611173,
          21.35930624973301,
          28.084429605483876,
          28.084429605483876,
          28.084429605483876,
          28.084429605483876,
          28.084429605483876,
          28.06642386982525,
          28.06642386982525,
          28.06642386982525,
          28.44095497516423,
          24.91990032039872,
          24.91990032039872,
          24.91990032039872,
          24.91990032039872,
          25.99090318388564,
          26.14927685950413,
          22.386314277122523,
          25.64891761567662,
          23.335466144755166,
          26.794938016528928,
          25.180785123966945,
          25.180785123966945,
          19.5964581216432,
          23.63403300753084,
          23.63403300753084,
          28.084429605483876,
          28.04281659313977,
          27.776910832995224,
          23.711844630960897,
          23.711844630960897,
          23.711844630960897,
          23.711844630960897,
          25.20398137468495,
          25.20398137468495,
          26.303618915481557,
          26.303618915481557,
          30.930438076000502,
          30.930438076000502,
          30.930438076000502,
          30.930438076000502,
          30.930438076000502,
          30.930438076000502,
          24.01308087921364,
          28.6661291767446,
          28.6661291767446,
          28.6661291767446,
          28.6661291767446,
          28.6661291767446,
          29.75274443418488,
          22.76146753597469,
          22.892819979188346,
          24.3046178773967,
          23.66524436157625,
          23.66524436157625,
          23.66524436157625,
          23.722810651876102,
          29.06879615089044,
          29.06879615089044,
          29.06879615089044,
          29.06879615089044,
          23.529411764705884,
          23.49523687470631,
          24.280263614290668,
          24.280263614290668,
          22.386314277122523,
          22.386314277122523,
          27.117768595041323,
          27.117768595041323,
          25.03991871098853,
          28.084429605483876,
          23.795359904818564,
          23.795359904818564,
          28.084429605483876,
          28.084429605483876,
          23.588329220496444,
          23.588329220496444,
          23.588329220496444,
          23.588329220496444,
          23.588329220496444,
          23.588329220496444,
          23.588329220496444,
          25.33500198406642,
          21.38394199605733,
          21.38394199605733,
          22.72043837081092,
          22.72043837081092,
          22.72043837081092,
          22.72043837081092,
          22.72043837081092,
          22.72043837081092,
          29.30313482494429,
          29.30313482494429,
          23.243408017070564,
          24.3910588392529,
          24.01308087921364,
          20.904195011337876,
          25.03991871098853,
          25.03991871098853,
          28.387411861664784,
          25.4364666435426,
          28.04281659313977,
          24.44727891156463,
          26.674874320303687,
          22.91303307000445,
          28.6661291767446,
          28.04281659313977,
          28.04281659313977,
          28.04281659313977,
          28.04281659313977,
          28.084429605483876,
          28.084429605483876,
          22.031725684986377,
          29.036737785633125,
          29.036737785633125,
          29.036737785633125,
          24.01308087921364,
          31.353578787064404,
          28.075042938300964,
          28.06642386982525,
          26.8612069228656,
          26.8612069228656,
          26.8612069228656,
          26.8612069228656,
          28.084429605483876,
          28.084429605483876,
          27.16161158895428,
          28.084429605483876,
          27.727478497057493,
          27.727478497057493,
          25.826446280991732,
          26.01456815816857,
          26.01456815816857,
          27.44059917355372,
          27.44059917355372,
          27.44059917355372,
          27.44059917355372,
          27.44059917355372,
          27.44059917355372,
          27.44059917355372,
          27.44059917355372,
          27.44059917355372,
          28.08988764044944,
          28.08988764044944,
          28.08988764044944,
          28.08988764044944,
          28.08626033057851,
          28.08626033057851,
          28.08626033057851,
          28.08626033057851,
          26.03082049146189,
          26.03082049146189,
          29.054752066115704,
          24.01308087921364,
          24.01308087921364,
          28.084429605483876,
          27.358845456721728,
          22.76146753597469,
          22.76146753597469,
          23.63403300753084,
          23.63403300753084,
          23.63403300753084,
          23.63403300753084,
          23.63403300753084,
          24.01308087921364,
          25.15589569160998,
          25.15589569160998,
          25.15589569160998,
          25.15589569160998,
          25.15589569160998,
          25.15589569160998,
          25.15589569160998,
          25.15589569160998,
          29.06879615089044,
          29.06879615089044,
          29.06879615089044,
          29.06879615089044,
          29.06879615089044,
          29.06879615089044,
          22.76146753597469,
          23.63403300753084,
          23.63403300753084,
          23.63403300753084,
          25.34435261707989,
          25.34435261707989,
          29.30313482494429,
          24.01308087921364,
          24.01308087921364,
          23.63403300753084,
          24.01308087921364,
          28.40111107643332,
          28.40111107643332,
          20.70081674131507,
          27.358845456721728,
          24.0569347455645,
          20.983987603305785,
          30.094730002393906,
          30.094730002393906,
          25.461980633463213,
          25.24933720489837,
          26.575890590940304,
          19.05197378448407,
          19.05197378448407,
          22.27530991735537,
          23.38868655818771,
          31.634581999151266,
          21.98989236526368,
          31.43982173926315,
          27.16644791062544,
          27.16644791062544,
          27.16644791062544,
          27.16644791062544,
          27.16644791062544,
          27.16644791062544,
          27.16644791062544,
          27.16644791062544,
          27.16644791062544,
          27.16644791062544,
          27.16644791062544,
          25.88057063502083,
          25.88057063502083,
          29.33333333333333,
          29.33333333333333,
          25.3069320474676,
          22.321428571428577,
          22.321428571428577,
          22.321428571428577,
          24.01308087921364,
          23.63403300753084,
          21.20310522895934,
          23.335466144755166,
          23.335466144755166,
          23.335466144755166,
          23.335466144755166,
          23.722810651876102,
          23.722810651876102,
          28.084429605483876,
          28.04281659313977,
          28.04281659313977,
          28.04281659313977,
          28.04281659313977,
          28.04281659313977,
          29.03178980984178,
          24.857954545454547,
          24.857954545454547,
          26.47210743801653,
          28.721121070571897,
          28.721121070571897,
          28.721121070571897,
          28.721121070571897,
          28.721121070571897,
          24.01308087921364,
          24.01308087921364,
          24.83576349943919,
          24.83576349943919,
          24.83576349943919,
          24.83576349943919,
          24.83576349943919,
          24.83576349943919,
          24.01308087921364,
          27.727478497057493,
          27.727478497057493,
          27.727478497057493,
          27.727478497057493,
          27.727478497057493,
          27.727478497057493,
          23.384353741496604,
          23.722810651876102,
          30.9284310324893,
          30.9284310324893,
          30.9284310324893,
          30.9284310324893,
          23.9188302920412,
          23.9188302920412,
          24.01308087921364,
          22.49963710262738,
          24.01308087921364,
          21.306818181818183,
          21.306818181818183,
          21.306818181818183,
          21.9671201814059,
          22.95908765854944,
          21.97735111870822,
          21.97735111870822,
          21.97735111870822,
          21.97735111870822,
          28.90507573129841,
          28.90507573129841,
          28.90507573129841,
          24.01308087921364,
          26.881720430107524,
          26.881720430107524,
          26.881720430107524,
          27.143037495265748,
          28.084429605483876,
          23.711844630960897,
          23.711844630960897,
          24.158817968558527,
          24.158817968558527,
          24.158817968558527,
          24.158817968558527,
          24.158817968558527,
          24.158817968558527,
          24.158817968558527,
          24.158817968558527,
          24.158817968558527,
          28.084429605483876,
          27.16644791062544,
          20.576131687242796,
          26.575890590940304,
          26.575890590940304,
          24.44727891156463,
          24.44727891156463,
          25.15589569160998,
          25.15589569160998,
          28.084429605483876,
          25.15589569160998,
          25.15589569160998,
          28.40550435551067,
          28.326974216672443,
          24.088223117166624,
          24.088223117166624,
          29.737044338267232,
          29.737044338267232,
          29.737044338267232,
          28.084429605483876,
          23.59700420642249,
          28.6661291767446,
          28.6661291767446,
          19.53125,
          25.18107741059303,
          25.654372397382517,
          21.230572023714146,
          28.692652849424626,
          28.692652849424626,
          28.692652849424626,
          28.692652849424626,
          28.692652849424626,
          28.084429605483876,
          24.96494647925858,
          25.46401086464464,
          34.414781649904775,
          26.570305027101718,
          27.458654210326976,
          27.458654210326976,
          27.458654210326976,
          27.458654210326976,
          27.458654210326976,
          27.458654210326976,
          27.458654210326976,
          27.458654210326976,
          27.458654210326976,
          29.054752066115704,
          29.054752066115704,
          23.671253629592226,
          25.076193048107708,
          34.79204570844904,
          28.084429605483876,
          26.29656683710737,
          26.29656683710737,
          29.3775826446281,
          24.01308087921364,
          28.084429605483876,
          28.344671201814062,
          28.08626033057851,
          39.55555555555556,
          26.722872520606725,
          26.722872520606725,
          26.722872520606725,
          26.722872520606725,
          29.737044338267232,
          29.737044338267232,
          29.737044338267232,
          29.737044338267232,
          29.26334020126011,
          22.20633068613798,
          22.20633068613798,
          25.909456951787405,
          27.117768595041323,
          27.117768595041323,
          25.180785123966945,
          24.01308087921364,
          24.01308087921364,
          24.01308087921364,
          38.66666666666666,
          25.640242971826257,
          25.640242971826257,
          24.01308087921364,
          21.612811791383223,
          25.24933720489837,
          23.9188302920412,
          23.9188302920412,
          28.98114343784109,
          24.167162403331357,
          24.167162403331357,
          24.167162403331357,
          24.167162403331357,
          24.167162403331357,
          24.167162403331357,
          30.405292525644025,
          30.405292525644025,
          25.099501595611173,
          26.511804065143288,
          27.143037495265748,
          28.068918152229088,
          27.77031263997133,
          27.77031263997133,
          27.77031263997133,
          27.77031263997133,
          27.77031263997133,
          23.9188302920412,
          23.030045351473927,
          28.997893837184456,
          23.875114784205696,
          28.293345405160707,
          28.293345405160707,
          28.293345405160707,
          28.293345405160707,
          28.293345405160707,
          28.293345405160707,
          28.293345405160707,
          24.801587301587304,
          28.731921487603305,
          23.484255448094743,
          25.64891761567662,
          25.64891761567662,
          25.64891761567662,
          28.40909090909091,
          28.40909090909091,
          27.458654210326976,
          24.01308087921364,
          27.005130974885223,
          27.005130974885223,
          24.44727891156463,
          24.44727891156463,
          24.088223117166624,
          28.084429605483876,
          26.216410224399983,
          23.25501863821347,
          20.761245674740486,
          22.375679950619187,
          26.004382761139517,
          26.004382761139517,
          26.004382761139517,
          22.4813290656912,
          22.4813290656912,
          22.4813290656912,
          22.4813290656912,
          22.4813290656912,
          22.4813290656912,
          22.4813290656912,
          22.4813290656912,
          25.15589569160998,
          24.690405462752206,
          24.690405462752206,
          24.690405462752206,
          24.690405462752206,
          24.690405462752206,
          28.384802161348794,
          28.384802161348794,
          28.384802161348794,
          28.384802161348794,
          24.44727891156463,
          24.44727891156463,
          24.44727891156463,
          28.668892437218755,
          28.668892437218755,
          28.668892437218755,
          28.668892437218755,
          28.668892437218755,
          28.084429605483876,
          25.97867956642479,
          25.97867956642479,
          28.084429605483876,
          29.913616800463966,
          25.076193048107708,
          25.461980633463213,
          22.72043837081092,
          28.40909090909091,
          28.40909090909091,
          28.40909090909091,
          28.40909090909091,
          25.510204081632654,
          25.510204081632654,
          25.510204081632654,
          23.030045351473927,
          26.729927495071667,
          27.74887270204648,
          24.01308087921364,
          29.26334020126011,
          26.81174510620575,
          27.166919271354622,
          22.582709172343712,
          26.491508201480624,
          22.571047501795427,
          27.755102040816325,
          27.755102040816325,
          27.755102040816325,
          27.755102040816325,
          30.436715570602924,
          30.436715570602924,
          30.436715570602924,
          30.436715570602924,
          30.436715570602924,
          30.436715570602924,
          30.436715570602924,
          27.471688898385278,
          27.471688898385278,
          27.471688898385278,
          27.471688898385278,
          27.471688898385278,
          27.471688898385278,
          27.471688898385278,
          27.471688898385278,
          27.471688898385278,
          28.04281659313977,
          28.06642386982525,
          27.755102040816325,
          27.755102040816325,
          27.755102040816325,
          29.14214576731553,
          23.1404958677686,
          28.084429605483876,
          28.6661291767446,
          28.08626033057851,
          27.16644791062544,
          27.16644791062544,
          27.16644791062544,
          27.16644791062544,
          27.16644791062544,
          27.16644791062544,
          27.16644791062544,
          24.31412396574249,
          24.31412396574249,
          24.31412396574249,
          24.31412396574249,
          28.6661291767446,
          27.39817568244846,
          21.82995219993225,
          21.82995219993225,
          21.82995219993225,
          21.82995219993225,
          21.82995219993225,
          21.82995219993225,
          21.82995219993225,
          21.82995219993225,
          27.16644791062544,
          25.826446280991732,
          25.826446280991732,
          25.826446280991732,
          25.826446280991732,
          26.27728507868255,
          26.27728507868255,
          22.27530991735537,
          24.44727891156463,
          24.44727891156463,
          24.44727891156463,
          24.44727891156463,
          24.44727891156463,
          24.44727891156463,
          24.44727891156463,
          24.44727891156463,
          29.75274443418488,
          29.75274443418488,
          29.75274443418488,
          29.75274443418488,
          29.75274443418488,
          29.75274443418488,
          29.75274443418488,
          29.75274443418488,
          24.96494647925858,
          24.96494647925858,
          24.96494647925858,
          24.96494647925858,
          24.96494647925858,
          24.01308087921364,
          22.27530991735537,
          22.27530991735537,
          28.72737719046251,
          29.060607121599386,
          29.060607121599386,
          29.060607121599386,
          24.62296091104956,
          24.62296091104956,
          24.62296091104956,
          24.62296091104956,
          28.387411861664784,
          28.387411861664784,
          28.387411861664784,
          28.387411861664784,
          28.387411861664784,
          28.084429605483876,
          28.63403944485025,
          23.671253629592226,
          23.671253629592226,
          28.326974216672443,
          28.084429605483876,
          22.49963710262738,
          37.333333333333336,
          26.312811226799457,
          26.61934338952972,
          28.40909090909091,
          30.436715570602924,
          30.436715570602924,
          30.436715570602924,
          30.436715570602924,
          30.436715570602924,
          23.711844630960897,
          23.711844630960897,
          30.457762250291136,
          30.457762250291136,
          28.084429605483876,
          28.084429605483876,
          25.63691716071142,
          25.63691716071142,
          27.776929886145112,
          26.56683975365294,
          24.690405462752206,
          28.084429605483876,
          24.690405462752206,
          29.054752066115704,
          28.04281659313977,
          22.758306781975424,
          27.173119065010955,
          25.72755521400648,
          29.06877329776684,
          28.834579099129364,
          23.225431847873423,
          23.046875,
          23.046875,
          23.046875,
          26.12244897959184,
          24.01308087921364,
          22.91303307000445,
          23.87543252595156,
          26.23355580417422,
          25.461980633463213,
          25.461980633463213,
          25.461980633463213,
          27.548209366391188,
          23.875114784205696,
          23.875114784205696,
          23.875114784205696,
          23.875114784205696,
          20.177148524332274,
          28.444444444444443,
          28.444444444444443,
          27.77427092538821,
          20.177148524332274,
          25.393431120318084,
          22.67573696145125,
          28.731921487603305,
          28.731921487603305,
          24.28097534284053,
          27.173101615455817,
          27.755102040816325,
          29.88769472285956,
          29.35235450069436,
          28.387411861664784,
          28.387411861664784,
          28.387411861664784,
          28.387411861664784,
          24.84098008957808,
          25.806451612903224,
          24.609375,
          28.081632653061224,
          24.801587301587304,
          24.801587301587304,
          24.221453287197235,
          29.025311319871417,
          26.1286108288576,
          23.030045351473927,
          23.233456176894723,
          27.16644791062544,
          27.16644791062544,
          27.16644791062544,
          27.77031263997133,
          23.335466144755166,
          23.335466144755166,
          23.335466144755166,
          23.335466144755166,
          29.60837581270413,
          27.25088744666356,
          27.471688898385278,
          23.25501863821347,
          27.33564013840831,
          26.22222222222222,
          27.85200797922391,
          24.3046178773967,
          29.40292024457884,
          30.42184964845863,
          30.42184964845863,
          29.054752066115704,
          25.68007405416704,
          31.533446712018144,
          28.084429605483876,
          23.92242299970097,
          23.66524436157625,
          30.056810675122207,
          26.82742078020452,
          24.87771968291449,
          24.023808670084986,
          24.023808670084986,
          24.023808670084986,
          24.690405462752206,
          24.690405462752206,
          24.690405462752206,
          24.690405462752206,
          24.690405462752206,
          24.690405462752206,
          24.690405462752206,
          28.084429605483876,
          27.173101615455817,
          27.173101615455817,
          27.173101615455817,
          28.731921487603305,
          24.03460983816696,
          24.03460983816696,
          24.03460983816696,
          24.03460983816696,
          24.03460983816696,
          24.03460983816696,
          27.117768595041323,
          27.117768595041323,
          26.47210743801653,
          26.47210743801653,
          27.117768595041323,
          23.233456176894723,
          23.95122659311947,
          25.390218522372525,
          25.390218522372525,
          26.85185185185185,
          28.384802161348794,
          24.01308087921364,
          28.40909090909091,
          28.06642386982525,
          28.703703703703702,
          28.703703703703702,
          28.703703703703702,
          23.51020408163265,
          27.117768595041323,
          24.221453287197235,
          22.13673973000436,
          28.72737719046251,
          28.72737719046251,
          28.72737719046251,
          28.72737719046251,
          27.968016063681024,
          22.76146753597469,
          23.87543252595156,
          24.56747404844291,
          24.56747404844291,
          23.87543252595156,
          23.529411764705884,
          24.441802087462012,
          27.143037495265748,
          22.4813290656912,
          28.084429605483876,
          28.084429605483876,
          28.6661291767446,
          28.6661291767446,
          23.243408017070564,
          25.03991871098853,
          23.384353741496604,
          24.01308087921364,
          28.084429605483876,
          25.88057063502083,
          24.163265306122447,
          26.87854442344045,
          26.07897153351699,
          28.08626033057851,
          27.74474831549742,
          29.87856692524876,
          29.87856692524876,
          22.54657648036074,
          28.40909090909091,
          22.476586888657646,
          23.53036634346221,
          26.48553974966893,
          23.828125,
          23.66524436157625,
          28.40550435551067,
          24.088223117166624,
          24.088223117166624,
          28.6661291767446,
          29.75778546712803,
          23.051754907792983,
          27.660095935016283,
          22.79032897344431,
          29.737044338267232,
          29.737044338267232,
          29.737044338267232,
          29.054752066115704,
          29.054752066115704,
          29.054752066115704,
          29.054752066115704,
          26.28780718336484,
          28.075042938300964,
          28.075042938300964,
          28.075042938300964,
          31.63739669421488,
          24.088223117166624,
          25.21735857578381,
          25.34435261707989,
          25.34435261707989,
          28.40054796351365,
          28.40054796351365,
          28.40054796351365,
          24.01308087921364,
          29.365763350250564,
          29.365763350250564,
          23.87543252595156,
          23.87543252595156,
          23.87543252595156,
          24.111507464658477,
          28.39506172839506,
          30.52409877598364,
          31.61177324960485,
          24.332277048438208,
          23.233456176894723,
          25.88057063502083,
          25.88057063502083,
          25.76571345623458,
          24.03460983816696,
          24.03460983816696,
          28.084429605483876,
          28.40054796351365,
          27.70083102493075,
          24.67105263157895,
          26.42356982428326,
          29.737044338267232,
          25.78125,
          30.436715570602924,
          25.076193048107708,
          25.076193048107708,
          25.076193048107708,
          24.01308087921364,
          30.86300682844026,
          25.88757396449704,
          25.88757396449704,
          23.795359904818564,
          27.77442337881898,
          28.06642386982525,
          23.233456176894723,
          25.95155709342561,
          27.776929886145112,
          27.776929886145112,
          28.04281659313977,
          21.20310522895934,
          21.20310522895934,
          23.53036634346221,
          24.221453287197235,
          24.221453287197235,
          24.221453287197235,
          24.221453287197235,
          24.221453287197235,
          24.84098008957808,
          24.84098008957808,
          24.84098008957808,
          24.84098008957808,
          24.84098008957808,
          25.746944318696244,
          28.084429605483876,
          28.084429605483876,
          32.50852165130665,
          23.30668005306752,
          24.01308087921364,
          26.216410224399983,
          28.084429605483876,
          24.01308087921364,
          28.084429605483876,
          28.084429605483876,
          28.084429605483876,
          27.358845456721728,
          25.510204081632654,
          27.68166089965398,
          29.053287981859416,
          21.453573713726524,
          22.308149910767405,
          28.08988764044944,
          24.38237297859371,
          26.88095170007721,
          22.34351559258195,
          28.084429605483876,
          27.636054421768712,
          27.281746031746035,
          27.281746031746035,
          27.636054421768712,
          29.26334020126011,
          23.55555555555556,
          21.887076365377386,
          21.887076365377386,
          21.887076365377386,
          21.887076365377386,
          27.714789619551524,
          28.40550435551067,
          32.74492829989838,
          31.615792841281195,
          28.081632653061224,
          27.46530314097881,
          27.46530314097881,
          29.35235450069436,
          29.06879615089044,
          22.30935640886966,
          26.27728507868255,
          24.021275987303035,
          24.91990032039872,
          24.977043158861346,
          28.088991030674453,
          28.088991030674453,
          28.088991030674453,
          21.9671201814059,
          23.38868655818771,
          29.069767441860467,
          29.069767441860467,
          29.069767441860467,
          29.069767441860467,
          24.913494809688583,
          24.913494809688583,
          24.913494809688583,
          27.46481071127618,
          27.46481071127618,
          27.46481071127618,
          28.73469387755102,
          28.084429605483876,
          27.68166089965398,
          24.01308087921364,
          26.8612069228656,
          21.82995219993225,
          30.75636776254889,
          23.423557406305772,
          25.95155709342561,
          25.95155709342561,
          25.95155709342561,
          25.95155709342561,
          24.977043158861346,
          28.726787729557817,
          25.854639471416256,
          28.731921487603305,
          28.731921487603305,
          28.731921487603305,
          23.120623596247853,
          24.088223117166624,
          26.85185185185185,
          29.3775826446281,
          25.689561925365066,
          26.25072494734593,
          37.333333333333336,
          24.163265306122447,
          26.61934338952972,
          28.997893837184456,
          23.95122659311947,
          24.01308087921364,
          29.913616800463966,
          24.092970521541957,
          24.092970521541957,
          28.082170873904943,
          28.282828282828287,
          25.970115548195267,
          23.711844630960897,
          28.721121070571897,
          23.63403300753084,
          28.344671201814062,
          27.755102040816325,
          24.62296091104956,
          27.68166089965398,
          29.04370898920721,
          25.725517400855587,
          27.428571428571427,
          23.49523687470631,
          29.64951156330951,
          27.143037495265748,
          24.01308087921364,
          23.147255121330197,
          25.05930702662969,
          21.453573713726524,
          31.0952783480256,
          31.0952783480256,
          31.0952783480256,
          31.0952783480256,
          26.61934338952972,
          28.577960676726104,
          28.577960676726104,
          24.97398543184183,
          28.90507573129841,
          28.90507573129841,
          22.49963710262738,
          23.95122659311947,
          24.01308087921364,
          21.92612582222972,
          27.17063156623596,
          28.076319285110493,
          29.40292024457884,
          26.25958474843318,
          28.703703703703702,
          22.857142857142858,
          25.816630212628635,
          25.816630212628635,
          25.099501595611173,
          28.084429605483876,
          28.393726338561383,
          23.38868655818771,
          21.887076365377386,
          28.084429605483876,
          22.832879346258608,
          22.265625,
          26.874496103198062,
          29.35235450069436,
          25.06574621959237,
          26.722872520606725,
          24.97398543184183,
          21.92612582222972,
          25.34435261707989,
          23.87543252595156,
          23.4375,
          22.837370242214536,
          24.44727891156463,
          15.65617029872983,
          23.9188302920412,
          23.9188302920412,
          23.030045351473927,
          23.225431847873423,
          25.725517400855587,
          24.141519250780437,
          22.59814049586777,
          28.40816326530612,
          28.40816326530612,
          25.15589569160998,
          25.15589569160998,
          22.265625,
          26.82742078020452,
          28.04967129291453,
          25.15589569160998,
          25.15589569160998,
          25.86451247165533,
          24.01308087921364,
          24.01308087921364,
          22.308149910767405,
          24.46460160337235,
          26.06167930769488,
          24.0569347455645,
          24.690405462752206,
          24.088223117166624,
          26.502116213757365,
          25.082863029651524,
          25.082863029651524,
          25.697069943289225,
          28.40909090909091,
          24.01308087921364,
          28.96473468900236,
          24.01308087921364,
          28.084429605483876,
          28.084429605483876,
          23.225431847873423,
          24.341758286340216,
          28.084429605483876,
          24.01308087921364,
          24.01308087921364,
          24.01308087921364,
          28.084429605483876,
          28.084429605483876,
          28.084429605483876,
          24.01308087921364,
          24.01308087921364,
          24.01308087921364,
          24.01308087921364,
          24.01308087921364,
          24.01308087921364,
          24.01308087921364,
          24.01308087921364,
          24.01308087921364,
          24.01308087921364,
          24.01308087921364,
          24.01308087921364,
          24.01308087921364,
          24.01308087921364,
          28.084429605483876,
          28.084429605483876,
          28.084429605483876,
          28.084429605483876,
          28.084429605483876,
          28.084429605483876,
          28.084429605483876,
          28.084429605483876,
          28.084429605483876,
          28.084429605483876,
          28.084429605483876,
          28.084429605483876,
          28.084429605483876,
          28.084429605483876,
          28.084429605483876,
          28.084429605483876,
          28.084429605483876,
          28.084429605483876,
          24.01308087921364,
          24.01308087921364,
          24.01308087921364,
          24.01308087921364,
          24.01308087921364,
          24.01308087921364,
          24.01308087921364,
          24.01308087921364,
          24.01308087921364,
          24.01308087921364,
          28.084429605483876,
          28.084429605483876,
          28.084429605483876,
          28.084429605483876,
          28.084429605483876,
          28.084429605483876,
          28.084429605483876,
          28.084429605483876,
          28.084429605483876,
          28.084429605483876,
          28.084429605483876,
          28.084429605483876,
          28.084429605483876,
          28.084429605483876,
          28.084429605483876,
          24.01308087921364,
          24.01308087921364,
          24.01308087921364,
          24.01308087921364,
          24.01308087921364,
          24.01308087921364,
          24.01308087921364,
          24.01308087921364,
          24.01308087921364,
          24.01308087921364,
          24.01308087921364,
          24.01308087921364,
          24.01308087921364
         ]
        }
       ],
       "layout": {
        "template": {
         "data": {
          "bar": [
           {
            "error_x": {
             "color": "#2a3f5f"
            },
            "error_y": {
             "color": "#2a3f5f"
            },
            "marker": {
             "line": {
              "color": "#E5ECF6",
              "width": 0.5
             },
             "pattern": {
              "fillmode": "overlay",
              "size": 10,
              "solidity": 0.2
             }
            },
            "type": "bar"
           }
          ],
          "barpolar": [
           {
            "marker": {
             "line": {
              "color": "#E5ECF6",
              "width": 0.5
             },
             "pattern": {
              "fillmode": "overlay",
              "size": 10,
              "solidity": 0.2
             }
            },
            "type": "barpolar"
           }
          ],
          "carpet": [
           {
            "aaxis": {
             "endlinecolor": "#2a3f5f",
             "gridcolor": "white",
             "linecolor": "white",
             "minorgridcolor": "white",
             "startlinecolor": "#2a3f5f"
            },
            "baxis": {
             "endlinecolor": "#2a3f5f",
             "gridcolor": "white",
             "linecolor": "white",
             "minorgridcolor": "white",
             "startlinecolor": "#2a3f5f"
            },
            "type": "carpet"
           }
          ],
          "choropleth": [
           {
            "colorbar": {
             "outlinewidth": 0,
             "ticks": ""
            },
            "type": "choropleth"
           }
          ],
          "contour": [
           {
            "colorbar": {
             "outlinewidth": 0,
             "ticks": ""
            },
            "colorscale": [
             [
              0,
              "#0d0887"
             ],
             [
              0.1111111111111111,
              "#46039f"
             ],
             [
              0.2222222222222222,
              "#7201a8"
             ],
             [
              0.3333333333333333,
              "#9c179e"
             ],
             [
              0.4444444444444444,
              "#bd3786"
             ],
             [
              0.5555555555555556,
              "#d8576b"
             ],
             [
              0.6666666666666666,
              "#ed7953"
             ],
             [
              0.7777777777777778,
              "#fb9f3a"
             ],
             [
              0.8888888888888888,
              "#fdca26"
             ],
             [
              1,
              "#f0f921"
             ]
            ],
            "type": "contour"
           }
          ],
          "contourcarpet": [
           {
            "colorbar": {
             "outlinewidth": 0,
             "ticks": ""
            },
            "type": "contourcarpet"
           }
          ],
          "heatmap": [
           {
            "colorbar": {
             "outlinewidth": 0,
             "ticks": ""
            },
            "colorscale": [
             [
              0,
              "#0d0887"
             ],
             [
              0.1111111111111111,
              "#46039f"
             ],
             [
              0.2222222222222222,
              "#7201a8"
             ],
             [
              0.3333333333333333,
              "#9c179e"
             ],
             [
              0.4444444444444444,
              "#bd3786"
             ],
             [
              0.5555555555555556,
              "#d8576b"
             ],
             [
              0.6666666666666666,
              "#ed7953"
             ],
             [
              0.7777777777777778,
              "#fb9f3a"
             ],
             [
              0.8888888888888888,
              "#fdca26"
             ],
             [
              1,
              "#f0f921"
             ]
            ],
            "type": "heatmap"
           }
          ],
          "heatmapgl": [
           {
            "colorbar": {
             "outlinewidth": 0,
             "ticks": ""
            },
            "colorscale": [
             [
              0,
              "#0d0887"
             ],
             [
              0.1111111111111111,
              "#46039f"
             ],
             [
              0.2222222222222222,
              "#7201a8"
             ],
             [
              0.3333333333333333,
              "#9c179e"
             ],
             [
              0.4444444444444444,
              "#bd3786"
             ],
             [
              0.5555555555555556,
              "#d8576b"
             ],
             [
              0.6666666666666666,
              "#ed7953"
             ],
             [
              0.7777777777777778,
              "#fb9f3a"
             ],
             [
              0.8888888888888888,
              "#fdca26"
             ],
             [
              1,
              "#f0f921"
             ]
            ],
            "type": "heatmapgl"
           }
          ],
          "histogram": [
           {
            "marker": {
             "pattern": {
              "fillmode": "overlay",
              "size": 10,
              "solidity": 0.2
             }
            },
            "type": "histogram"
           }
          ],
          "histogram2d": [
           {
            "colorbar": {
             "outlinewidth": 0,
             "ticks": ""
            },
            "colorscale": [
             [
              0,
              "#0d0887"
             ],
             [
              0.1111111111111111,
              "#46039f"
             ],
             [
              0.2222222222222222,
              "#7201a8"
             ],
             [
              0.3333333333333333,
              "#9c179e"
             ],
             [
              0.4444444444444444,
              "#bd3786"
             ],
             [
              0.5555555555555556,
              "#d8576b"
             ],
             [
              0.6666666666666666,
              "#ed7953"
             ],
             [
              0.7777777777777778,
              "#fb9f3a"
             ],
             [
              0.8888888888888888,
              "#fdca26"
             ],
             [
              1,
              "#f0f921"
             ]
            ],
            "type": "histogram2d"
           }
          ],
          "histogram2dcontour": [
           {
            "colorbar": {
             "outlinewidth": 0,
             "ticks": ""
            },
            "colorscale": [
             [
              0,
              "#0d0887"
             ],
             [
              0.1111111111111111,
              "#46039f"
             ],
             [
              0.2222222222222222,
              "#7201a8"
             ],
             [
              0.3333333333333333,
              "#9c179e"
             ],
             [
              0.4444444444444444,
              "#bd3786"
             ],
             [
              0.5555555555555556,
              "#d8576b"
             ],
             [
              0.6666666666666666,
              "#ed7953"
             ],
             [
              0.7777777777777778,
              "#fb9f3a"
             ],
             [
              0.8888888888888888,
              "#fdca26"
             ],
             [
              1,
              "#f0f921"
             ]
            ],
            "type": "histogram2dcontour"
           }
          ],
          "mesh3d": [
           {
            "colorbar": {
             "outlinewidth": 0,
             "ticks": ""
            },
            "type": "mesh3d"
           }
          ],
          "parcoords": [
           {
            "line": {
             "colorbar": {
              "outlinewidth": 0,
              "ticks": ""
             }
            },
            "type": "parcoords"
           }
          ],
          "pie": [
           {
            "automargin": true,
            "type": "pie"
           }
          ],
          "scatter": [
           {
            "fillpattern": {
             "fillmode": "overlay",
             "size": 10,
             "solidity": 0.2
            },
            "type": "scatter"
           }
          ],
          "scatter3d": [
           {
            "line": {
             "colorbar": {
              "outlinewidth": 0,
              "ticks": ""
             }
            },
            "marker": {
             "colorbar": {
              "outlinewidth": 0,
              "ticks": ""
             }
            },
            "type": "scatter3d"
           }
          ],
          "scattercarpet": [
           {
            "marker": {
             "colorbar": {
              "outlinewidth": 0,
              "ticks": ""
             }
            },
            "type": "scattercarpet"
           }
          ],
          "scattergeo": [
           {
            "marker": {
             "colorbar": {
              "outlinewidth": 0,
              "ticks": ""
             }
            },
            "type": "scattergeo"
           }
          ],
          "scattergl": [
           {
            "marker": {
             "colorbar": {
              "outlinewidth": 0,
              "ticks": ""
             }
            },
            "type": "scattergl"
           }
          ],
          "scattermapbox": [
           {
            "marker": {
             "colorbar": {
              "outlinewidth": 0,
              "ticks": ""
             }
            },
            "type": "scattermapbox"
           }
          ],
          "scatterpolar": [
           {
            "marker": {
             "colorbar": {
              "outlinewidth": 0,
              "ticks": ""
             }
            },
            "type": "scatterpolar"
           }
          ],
          "scatterpolargl": [
           {
            "marker": {
             "colorbar": {
              "outlinewidth": 0,
              "ticks": ""
             }
            },
            "type": "scatterpolargl"
           }
          ],
          "scatterternary": [
           {
            "marker": {
             "colorbar": {
              "outlinewidth": 0,
              "ticks": ""
             }
            },
            "type": "scatterternary"
           }
          ],
          "surface": [
           {
            "colorbar": {
             "outlinewidth": 0,
             "ticks": ""
            },
            "colorscale": [
             [
              0,
              "#0d0887"
             ],
             [
              0.1111111111111111,
              "#46039f"
             ],
             [
              0.2222222222222222,
              "#7201a8"
             ],
             [
              0.3333333333333333,
              "#9c179e"
             ],
             [
              0.4444444444444444,
              "#bd3786"
             ],
             [
              0.5555555555555556,
              "#d8576b"
             ],
             [
              0.6666666666666666,
              "#ed7953"
             ],
             [
              0.7777777777777778,
              "#fb9f3a"
             ],
             [
              0.8888888888888888,
              "#fdca26"
             ],
             [
              1,
              "#f0f921"
             ]
            ],
            "type": "surface"
           }
          ],
          "table": [
           {
            "cells": {
             "fill": {
              "color": "#EBF0F8"
             },
             "line": {
              "color": "white"
             }
            },
            "header": {
             "fill": {
              "color": "#C8D4E3"
             },
             "line": {
              "color": "white"
             }
            },
            "type": "table"
           }
          ]
         },
         "layout": {
          "annotationdefaults": {
           "arrowcolor": "#2a3f5f",
           "arrowhead": 0,
           "arrowwidth": 1
          },
          "autotypenumbers": "strict",
          "coloraxis": {
           "colorbar": {
            "outlinewidth": 0,
            "ticks": ""
           }
          },
          "colorscale": {
           "diverging": [
            [
             0,
             "#8e0152"
            ],
            [
             0.1,
             "#c51b7d"
            ],
            [
             0.2,
             "#de77ae"
            ],
            [
             0.3,
             "#f1b6da"
            ],
            [
             0.4,
             "#fde0ef"
            ],
            [
             0.5,
             "#f7f7f7"
            ],
            [
             0.6,
             "#e6f5d0"
            ],
            [
             0.7,
             "#b8e186"
            ],
            [
             0.8,
             "#7fbc41"
            ],
            [
             0.9,
             "#4d9221"
            ],
            [
             1,
             "#276419"
            ]
           ],
           "sequential": [
            [
             0,
             "#0d0887"
            ],
            [
             0.1111111111111111,
             "#46039f"
            ],
            [
             0.2222222222222222,
             "#7201a8"
            ],
            [
             0.3333333333333333,
             "#9c179e"
            ],
            [
             0.4444444444444444,
             "#bd3786"
            ],
            [
             0.5555555555555556,
             "#d8576b"
            ],
            [
             0.6666666666666666,
             "#ed7953"
            ],
            [
             0.7777777777777778,
             "#fb9f3a"
            ],
            [
             0.8888888888888888,
             "#fdca26"
            ],
            [
             1,
             "#f0f921"
            ]
           ],
           "sequentialminus": [
            [
             0,
             "#0d0887"
            ],
            [
             0.1111111111111111,
             "#46039f"
            ],
            [
             0.2222222222222222,
             "#7201a8"
            ],
            [
             0.3333333333333333,
             "#9c179e"
            ],
            [
             0.4444444444444444,
             "#bd3786"
            ],
            [
             0.5555555555555556,
             "#d8576b"
            ],
            [
             0.6666666666666666,
             "#ed7953"
            ],
            [
             0.7777777777777778,
             "#fb9f3a"
            ],
            [
             0.8888888888888888,
             "#fdca26"
            ],
            [
             1,
             "#f0f921"
            ]
           ]
          },
          "colorway": [
           "#636efa",
           "#EF553B",
           "#00cc96",
           "#ab63fa",
           "#FFA15A",
           "#19d3f3",
           "#FF6692",
           "#B6E880",
           "#FF97FF",
           "#FECB52"
          ],
          "font": {
           "color": "#2a3f5f"
          },
          "geo": {
           "bgcolor": "white",
           "lakecolor": "white",
           "landcolor": "#E5ECF6",
           "showlakes": true,
           "showland": true,
           "subunitcolor": "white"
          },
          "hoverlabel": {
           "align": "left"
          },
          "hovermode": "closest",
          "mapbox": {
           "style": "light"
          },
          "paper_bgcolor": "white",
          "plot_bgcolor": "#E5ECF6",
          "polar": {
           "angularaxis": {
            "gridcolor": "white",
            "linecolor": "white",
            "ticks": ""
           },
           "bgcolor": "#E5ECF6",
           "radialaxis": {
            "gridcolor": "white",
            "linecolor": "white",
            "ticks": ""
           }
          },
          "scene": {
           "xaxis": {
            "backgroundcolor": "#E5ECF6",
            "gridcolor": "white",
            "gridwidth": 2,
            "linecolor": "white",
            "showbackground": true,
            "ticks": "",
            "zerolinecolor": "white"
           },
           "yaxis": {
            "backgroundcolor": "#E5ECF6",
            "gridcolor": "white",
            "gridwidth": 2,
            "linecolor": "white",
            "showbackground": true,
            "ticks": "",
            "zerolinecolor": "white"
           },
           "zaxis": {
            "backgroundcolor": "#E5ECF6",
            "gridcolor": "white",
            "gridwidth": 2,
            "linecolor": "white",
            "showbackground": true,
            "ticks": "",
            "zerolinecolor": "white"
           }
          },
          "shapedefaults": {
           "line": {
            "color": "#2a3f5f"
           }
          },
          "ternary": {
           "aaxis": {
            "gridcolor": "white",
            "linecolor": "white",
            "ticks": ""
           },
           "baxis": {
            "gridcolor": "white",
            "linecolor": "white",
            "ticks": ""
           },
           "bgcolor": "#E5ECF6",
           "caxis": {
            "gridcolor": "white",
            "linecolor": "white",
            "ticks": ""
           }
          },
          "title": {
           "x": 0.05
          },
          "xaxis": {
           "automargin": true,
           "gridcolor": "white",
           "linecolor": "white",
           "ticks": "",
           "title": {
            "standoff": 15
           },
           "zerolinecolor": "white",
           "zerolinewidth": 2
          },
          "yaxis": {
           "automargin": true,
           "gridcolor": "white",
           "linecolor": "white",
           "ticks": "",
           "title": {
            "standoff": 15
           },
           "zerolinecolor": "white",
           "zerolinewidth": 2
          }
         }
        },
        "title": {
         "text": "bmi Distribution"
        },
        "xaxis": {
         "title": {
          "text": "bmi"
         }
        },
        "yaxis": {
         "title": {
          "text": "Frequency"
         }
        }
       }
      }
     },
     "metadata": {},
     "output_type": "display_data"
    }
   ],
   "source": [
    "# Loop over each numeric column in numerical_games\n",
    "for column in numerical_games[['year', 'regionId', 'age', 'height', 'weight', 'bmi']].columns:\n",
    "    # Create a histogram trace for the current column\n",
    "    trace = go.Histogram(\n",
    "        x=numerical_games[column],\n",
    "        nbinsx=20,\n",
    "        name=f\"{column} Distribution\"\n",
    "    )\n",
    "\n",
    "    # Create the figure and add the trace\n",
    "    fig = go.Figure(trace)\n",
    "\n",
    "    # Update the layout\n",
    "    fig.update_layout(\n",
    "        title=f\"{column} Distribution\",\n",
    "        xaxis=dict(title=column),\n",
    "        yaxis=dict(title=\"Frequency\"),\n",
    "    )\n",
    "\n",
    "    # Show the plot\n",
    "    fig.show()"
   ]
  },
  {
   "cell_type": "code",
   "execution_count": 9,
   "metadata": {},
   "outputs": [
    {
     "data": {
      "application/vnd.plotly.v1+json": {
       "config": {
        "plotlyServerURL": "https://plot.ly"
       },
       "data": [
        {
         "alignmentgroup": "True",
         "bingroup": "x",
         "hovertemplate": "Gender=1<br>height=%{x}<br>count=%{y}<extra></extra>",
         "legendgroup": "1",
         "marker": {
          "color": "#636efa",
          "opacity": 0.7,
          "pattern": {
           "shape": ""
          }
         },
         "name": "1",
         "nbinsx": 20,
         "offsetgroup": "1",
         "orientation": "v",
         "showlegend": true,
         "type": "histogram",
         "x": [
          178,
          178,
          163,
          181,
          181,
          181,
          181,
          181,
          181,
          181,
          173,
          183,
          183,
          173,
          173,
          177.3722891566265,
          173,
          188,
          188,
          176,
          171,
          171,
          171,
          171,
          171,
          171,
          171,
          171,
          171,
          181,
          181,
          181,
          181,
          191,
          183,
          181,
          180,
          186,
          173,
          173,
          183,
          183,
          183,
          173,
          176,
          166,
          166,
          183,
          178,
          178,
          173,
          173,
          173,
          183,
          178,
          178,
          178,
          178,
          188,
          186,
          181,
          171,
          171,
          171,
          176,
          176,
          176,
          176,
          183,
          183,
          178,
          178,
          178,
          178,
          178,
          178,
          161,
          176,
          181,
          191,
          191,
          176,
          171,
          171,
          171,
          171,
          188,
          188,
          174,
          174,
          174,
          174,
          174,
          174,
          174,
          175,
          175,
          175,
          165,
          181,
          181,
          181,
          186,
          183,
          178,
          176,
          176,
          176,
          179,
          179,
          179,
          178,
          172,
          172,
          178,
          178,
          186,
          186,
          186,
          186,
          173,
          173,
          178,
          178,
          183,
          183,
          173,
          168,
          181,
          181,
          171,
          176,
          176,
          181,
          181,
          178,
          177.3722891566265,
          186,
          177,
          180,
          176,
          176,
          176,
          166,
          166,
          166,
          166,
          166,
          178,
          178,
          178,
          159,
          178,
          171,
          171,
          171,
          178,
          178,
          178,
          179,
          181,
          178,
          181,
          181,
          181,
          183,
          182,
          176,
          176,
          176,
          176,
          176,
          181,
          181,
          183,
          188,
          181,
          181,
          181,
          191,
          183,
          183,
          181,
          173,
          183,
          176,
          176,
          176,
          176,
          176,
          176,
          176,
          181,
          173,
          173,
          173,
          176,
          176,
          168,
          178,
          178,
          178,
          178,
          188,
          178,
          199,
          178,
          178,
          176,
          176,
          176,
          176,
          181,
          177.3722891566265,
          163,
          168,
          168,
          178,
          178,
          178,
          178,
          178,
          178,
          150,
          150,
          176,
          181,
          177,
          177,
          177,
          177,
          178,
          178,
          178,
          178,
          178,
          176,
          176,
          176,
          176,
          176,
          176,
          183,
          178,
          183,
          174,
          174,
          174,
          174,
          174,
          178,
          171,
          171,
          171,
          181,
          177.3722891566265,
          181,
          186,
          186,
          177.3722891566265,
          177.3722891566265,
          186,
          186,
          186,
          186,
          186,
          186,
          176,
          177.3722891566265,
          177.3722891566265,
          177.3722891566265,
          177.3722891566265,
          177.3722891566265,
          173,
          173,
          173,
          158,
          171,
          176,
          171,
          176,
          173,
          171,
          179,
          186,
          186,
          178,
          178,
          178,
          178,
          178,
          178,
          183,
          183,
          183,
          183,
          183,
          171,
          173,
          173,
          173,
          173,
          170,
          186,
          186,
          176,
          176,
          177.3722891566265,
          177.3722891566265,
          177.3722891566265,
          166,
          166,
          166,
          166,
          166,
          166,
          166,
          181,
          181,
          181,
          173,
          181,
          186,
          171,
          171,
          183,
          171,
          171,
          171,
          171,
          177.3722891566265,
          177.3722891566265,
          178,
          178,
          178,
          183,
          174,
          173,
          181,
          181,
          181,
          181,
          177.3722891566265,
          177.3722891566265,
          188,
          177.3722891566265,
          188,
          188,
          176,
          186,
          186,
          176,
          176,
          176,
          176,
          176,
          176,
          176,
          176,
          176,
          178,
          178,
          178,
          178,
          176,
          176,
          176,
          176,
          196,
          196,
          176,
          177.3722891566265,
          171,
          173,
          173,
          173,
          173,
          173,
          173,
          181,
          179,
          179,
          171,
          173,
          171,
          171,
          161,
          178,
          183,
          162,
          162,
          161,
          181,
          181,
          181,
          181,
          181,
          181,
          181,
          181,
          181,
          181,
          181,
          181,
          178,
          178,
          177.3722891566265,
          171,
          171,
          171,
          171,
          171,
          166,
          176,
          178,
          178,
          178,
          178,
          178,
          188,
          188,
          188,
          188,
          188,
          188,
          186,
          186,
          186,
          186,
          186,
          186,
          186,
          186,
          186,
          186,
          178,
          177.3722891566265,
          177.3722891566265,
          181,
          183,
          183,
          168,
          168,
          177.3722891566265,
          178,
          186,
          173,
          173,
          173,
          177.3722891566265,
          183,
          183,
          188,
          181,
          181,
          181,
          181,
          181,
          177.3722891566265,
          188,
          173,
          194,
          178,
          178,
          178,
          178,
          178,
          178,
          178,
          178,
          178,
          176,
          176,
          178,
          161,
          177,
          177.3722891566265,
          185,
          185,
          176,
          177.3722891566265,
          168,
          176,
          150,
          173,
          173,
          173,
          173,
          183,
          169,
          176,
          176,
          176,
          150,
          181,
          181,
          163,
          173,
          173,
          178,
          178,
          183,
          183,
          183,
          183,
          183,
          183,
          181,
          188,
          188,
          188,
          188,
          188,
          188,
          188,
          176,
          199,
          176,
          176,
          178,
          177.3722891566265,
          179,
          185,
          185,
          185,
          171,
          171,
          171,
          171,
          166,
          166,
          166,
          166,
          166,
          177.3722891566265,
          183,
          183,
          177.3722891566265,
          181,
          176,
          176,
          176,
          176,
          173,
          186,
          183,
          196,
          187,
          175,
          175,
          175,
          175,
          171,
          171,
          171,
          171,
          171,
          171,
          171,
          181,
          181,
          181,
          181,
          181,
          181,
          181,
          181,
          181,
          171,
          173,
          175,
          175,
          175,
          188,
          177.3722891566265,
          183,
          176,
          181,
          181,
          181,
          181,
          181,
          181,
          181,
          183,
          173,
          181,
          176,
          176,
          176,
          176,
          183,
          183,
          171,
          171,
          171,
          171,
          171,
          171,
          171,
          171,
          177,
          169,
          169,
          169,
          181,
          181,
          181,
          181,
          181,
          177.3722891566265,
          185,
          186,
          177.3722891566265,
          150,
          188,
          176,
          171,
          171,
          171,
          171,
          171,
          183,
          183,
          177.3722891566265,
          177.3722891566265,
          181,
          182,
          177.3722891566265,
          176,
          171,
          185,
          173,
          171,
          189,
          175,
          178,
          176,
          176,
          183,
          175,
          182,
          178,
          181,
          181,
          181,
          181,
          175,
          179,
          181,
          181,
          181,
          183,
          181,
          167,
          181,
          170,
          173,
          172,
          172,
          176,
          183,
          168,
          177.3722891566265,
          174,
          178,
          177.3722891566265,
          183,
          183,
          183,
          176,
          176,
          176,
          176,
          176,
          176,
          180,
          171,
          176,
          173,
          180,
          180,
          180,
          175,
          176,
          177,
          177,
          177,
          177,
          167,
          174,
          178,
          177.3722891566265,
          177.3722891566265,
          183,
          183,
          177.3722891566265,
          178,
          184,
          165,
          176,
          174,
          191,
          191,
          176,
          167,
          178,
          183,
          170,
          169,
          173,
          173,
          173,
          176,
          176,
          176,
          176,
          184,
          174,
          174,
          174,
          176,
          173,
          173,
          173,
          177,
          177,
          180,
          181,
          188,
          178,
          178,
          188,
          173,
          171,
          174,
          171,
          161,
          182,
          173,
          170,
          181,
          181,
          171,
          188,
          177.3722891566265,
          177.3722891566265,
          178,
          179,
          177.3722891566265,
          177.3722891566265,
          177.3722891566265,
          177.3722891566265,
          171,
          170,
          168,
          178,
          187,
          177.3722891566265,
          183,
          189,
          178,
          163,
          163,
          175,
          185,
          185,
          178,
          173,
          183,
          187,
          177,
          177,
          177,
          172,
          172,
          172,
          172,
          179,
          179,
          179,
          175,
          177.3722891566265,
          170,
          181,
          183,
          171,
          176,
          176,
          176,
          163,
          180,
          176,
          172,
          181,
          150,
          175,
          181,
          181,
          181,
          178,
          168,
          175,
          170,
          167,
          186,
          175,
          179,
          178,
          173,
          182,
          182,
          182,
          182,
          186,
          186,
          182,
          182,
          173,
          169,
          180,
          177.3722891566265,
          172,
          173,
          177.3722891566265,
          183,
          178,
          170,
          186,
          176,
          175,
          175,
          178,
          185,
          173,
          173,
          183,
          183,
          184,
          176,
          183,
          177.3722891566265,
          177.3722891566265,
          177.3722891566265,
          177.3722891566265,
          177.3722891566265,
          177.3722891566265,
          177.3722891566265,
          177.3722891566265,
          177.3722891566265,
          177.3722891566265,
          177.3722891566265,
          177.3722891566265,
          177.3722891566265,
          177.3722891566265,
          177.3722891566265,
          177.3722891566265,
          177.3722891566265,
          177.3722891566265,
          177.3722891566265,
          177.3722891566265,
          177.3722891566265,
          177.3722891566265,
          177.3722891566265,
          177.3722891566265,
          177.3722891566265,
          177.3722891566265,
          177.3722891566265,
          177.3722891566265,
          177.3722891566265,
          177.3722891566265,
          177.3722891566265,
          177.3722891566265,
          177.3722891566265,
          177.3722891566265,
          177.3722891566265,
          177.3722891566265,
          177.3722891566265,
          177.3722891566265,
          177.3722891566265
         ],
         "xaxis": "x",
         "yaxis": "y"
        },
        {
         "alignmentgroup": "True",
         "bingroup": "x",
         "hovertemplate": "Gender=2<br>height=%{x}<br>count=%{y}<extra></extra>",
         "legendgroup": "2",
         "marker": {
          "color": "#EF553B",
          "opacity": 0.7,
          "pattern": {
           "shape": ""
          }
         },
         "name": "2",
         "nbinsx": 20,
         "offsetgroup": "2",
         "orientation": "v",
         "showlegend": true,
         "type": "histogram",
         "x": [
          166,
          165.37482517482516,
          165,
          165,
          165,
          171,
          173,
          166,
          170,
          170,
          170,
          170,
          170,
          170,
          170,
          170,
          170,
          153,
          158,
          168,
          162,
          162,
          162,
          162,
          162,
          162,
          162,
          162,
          162,
          162,
          168,
          168,
          168,
          168,
          168,
          166,
          166,
          166,
          166,
          155,
          155,
          155,
          155,
          155,
          155,
          158,
          171,
          171,
          171,
          171,
          171,
          171,
          171,
          172,
          163,
          155,
          155,
          155,
          155,
          155,
          159,
          166,
          166,
          166,
          166,
          166,
          166,
          166,
          166,
          158,
          163,
          163,
          173,
          173,
          171,
          171,
          160,
          178,
          171,
          171,
          171,
          171,
          171,
          176,
          176,
          176,
          176,
          176,
          176,
          176,
          176,
          176,
          176,
          160,
          161,
          176,
          176,
          158,
          158,
          158,
          158,
          158,
          158,
          158,
          158,
          158,
          158,
          158,
          165.37482517482516,
          168,
          168,
          158,
          158,
          158,
          173,
          173,
          173,
          173,
          173,
          173,
          161,
          163,
          163,
          163,
          163,
          163,
          163,
          163,
          163,
          167,
          167,
          167,
          167,
          167,
          171,
          171,
          163,
          163,
          176,
          165,
          182,
          161,
          173,
          161,
          161,
          171,
          171,
          171,
          163,
          161,
          161,
          176,
          153,
          153,
          153,
          166,
          166,
          158,
          158,
          166,
          161,
          171,
          158,
          158,
          158,
          158,
          168,
          166,
          171,
          171,
          171,
          168,
          166,
          166,
          166,
          171,
          171,
          163,
          178,
          178,
          165.37482517482516,
          168,
          168,
          168,
          176,
          176,
          166,
          166,
          165,
          165,
          165,
          157,
          173,
          158,
          158,
          158,
          163,
          163,
          165,
          166,
          166,
          166,
          174,
          160,
          170,
          170,
          170,
          170,
          170,
          170,
          170,
          170,
          170,
          170,
          170,
          171,
          171,
          171,
          175,
          166,
          166,
          166,
          166,
          161,
          164,
          164,
          164,
          164,
          164,
          164,
          164,
          155,
          165.37482517482516,
          167,
          153,
          159,
          159,
          159,
          159,
          173,
          163,
          176,
          176,
          166,
          158,
          158,
          163,
          163,
          163,
          163,
          153,
          153,
          163,
          161,
          155,
          161,
          167,
          167,
          167,
          173,
          153,
          173,
          173,
          166,
          164,
          164,
          173,
          173,
          173,
          173,
          173,
          173,
          173,
          173,
          162,
          165.37482517482516,
          168,
          166,
          166,
          168,
          171,
          158,
          165.37482517482516,
          165.37482517482516,
          163,
          161,
          161,
          158,
          158,
          158,
          158,
          158,
          158,
          168,
          168,
          168,
          168,
          168,
          168,
          168,
          168,
          161,
          158,
          158,
          158,
          165,
          165,
          165.37482517482516,
          165.37482517482516,
          158,
          165.37482517482516,
          163,
          176,
          176,
          173,
          161,
          150,
          150,
          171,
          168,
          168,
          168,
          165.37482517482516,
          158,
          171,
          163,
          163,
          163,
          163,
          173,
          173,
          176,
          176,
          165.37482517482516,
          165.37482517482516,
          158,
          158,
          158,
          158,
          158,
          158,
          165.37482517482516,
          168,
          173,
          161,
          161,
          165.37482517482516,
          166,
          163,
          176,
          176,
          176,
          168,
          163,
          181,
          181,
          181,
          181,
          165.37482517482516,
          163,
          163,
          169,
          169,
          169,
          169,
          169,
          169,
          169,
          169,
          169,
          162,
          168,
          168,
          168,
          168,
          163,
          163,
          171,
          160,
          164,
          158,
          171,
          165.37482517482516,
          163,
          163,
          163,
          163,
          163,
          163,
          165.37482517482516,
          165.37482517482516,
          165.37482517482516,
          165.37482517482516,
          168,
          178,
          161,
          161,
          164,
          164,
          164,
          164,
          164,
          164,
          167,
          161,
          168,
          165,
          168,
          171,
          171,
          171,
          165.37482517482516,
          161,
          161,
          168,
          168,
          163,
          171,
          170,
          161,
          162,
          162,
          162,
          162,
          162,
          162,
          162,
          162,
          168,
          161,
          161,
          161,
          161,
          161,
          168,
          168,
          168,
          161,
          161,
          173,
          168,
          168,
          168,
          168,
          165.37482517482516,
          163,
          166,
          171,
          165,
          166,
          166,
          166,
          166,
          163,
          163,
          163,
          163,
          163,
          163,
          163,
          163,
          176,
          168,
          168,
          168,
          168,
          168,
          168,
          168,
          168,
          171,
          171,
          171,
          171,
          171,
          165.37482517482516,
          176,
          176,
          171,
          171,
          171,
          171,
          178,
          178,
          166,
          161,
          163,
          163,
          158,
          158,
          161,
          161,
          169,
          166,
          160,
          160,
          160,
          165.37482517482516,
          171,
          170,
          161,
          161,
          161,
          161,
          165,
          165,
          165,
          165,
          165,
          171,
          150,
          150,
          171,
          173,
          168,
          171,
          163,
          155,
          160,
          168,
          168,
          170,
          166,
          168,
          158,
          163,
          163,
          163,
          163,
          171,
          150,
          163,
          161,
          153,
          167,
          154,
          167,
          167,
          167,
          161,
          161,
          161,
          161,
          161,
          161,
          161,
          158,
          158,
          158,
          158,
          158,
          158,
          158,
          166,
          155,
          155,
          165.37482517482516,
          170,
          166,
          161,
          170,
          170,
          170,
          170,
          170,
          162,
          162,
          166,
          168,
          158,
          175,
          159,
          155,
          157,
          153,
          160,
          163,
          163,
          164,
          174,
          163,
          163,
          165,
          165,
          165.37482517482516,
          170,
          170,
          170,
          174,
          153,
          158,
          166,
          158,
          158,
          152,
          173,
          160,
          161,
          161,
          161,
          165.37482517482516,
          156,
          156,
          164,
          158,
          171,
          171,
          157,
          170,
          170,
          170,
          170,
          170,
          163,
          163,
          163,
          163,
          163,
          167,
          165.37482517482516,
          165.37482517482516,
          168,
          163,
          164,
          167,
          177,
          168,
          168,
          168,
          168,
          150,
          171,
          171,
          171,
          171,
          172,
          159,
          165,
          168,
          173,
          170,
          170,
          170,
          165.37482517482516,
          163,
          164,
          170,
          170,
          170,
          170,
          165,
          177,
          174,
          161,
          166,
          165.37482517482516,
          168,
          168,
          165,
          163,
          163,
          158,
          171,
          153,
          165.37482517482516,
          161,
          163,
          161,
          162,
          162,
          155,
          166,
          166,
          165.37482517482516,
          154,
          175,
          167,
          167,
          167,
          171,
          158,
          160,
          156,
          163,
          155,
          154,
          165,
          170,
          160,
          168,
          199,
          161,
          161,
          168,
          166,
          155,
          168,
          168,
          160,
          168,
          168,
          168,
          165.37482517482516,
          165.37482517482516,
          164,
          163,
          161,
          163,
          159,
          165.37482517482516,
          165.37482517482516,
          166,
          157,
          165.37482517482516,
          165.37482517482516,
          165.37482517482516,
          165.37482517482516,
          165.37482517482516,
          165.37482517482516,
          165.37482517482516,
          165.37482517482516,
          165.37482517482516,
          165.37482517482516,
          165.37482517482516,
          165.37482517482516,
          165.37482517482516,
          165.37482517482516,
          165.37482517482516,
          165.37482517482516,
          165.37482517482516,
          165.37482517482516,
          165.37482517482516,
          165.37482517482516,
          165.37482517482516,
          165.37482517482516,
          165.37482517482516,
          165.37482517482516,
          165.37482517482516,
          165.37482517482516,
          165.37482517482516,
          165.37482517482516,
          165.37482517482516,
          165.37482517482516,
          165.37482517482516,
          165.37482517482516,
          165.37482517482516,
          165.37482517482516,
          165.37482517482516,
          165.37482517482516,
          165.37482517482516,
          165.37482517482516,
          165.37482517482516,
          165.37482517482516
         ],
         "xaxis": "x",
         "yaxis": "y"
        }
       ],
       "layout": {
        "barmode": "relative",
        "legend": {
         "title": {
          "text": "Gender"
         },
         "tracegroupgap": 0
        },
        "template": {
         "data": {
          "bar": [
           {
            "error_x": {
             "color": "#2a3f5f"
            },
            "error_y": {
             "color": "#2a3f5f"
            },
            "marker": {
             "line": {
              "color": "#E5ECF6",
              "width": 0.5
             },
             "pattern": {
              "fillmode": "overlay",
              "size": 10,
              "solidity": 0.2
             }
            },
            "type": "bar"
           }
          ],
          "barpolar": [
           {
            "marker": {
             "line": {
              "color": "#E5ECF6",
              "width": 0.5
             },
             "pattern": {
              "fillmode": "overlay",
              "size": 10,
              "solidity": 0.2
             }
            },
            "type": "barpolar"
           }
          ],
          "carpet": [
           {
            "aaxis": {
             "endlinecolor": "#2a3f5f",
             "gridcolor": "white",
             "linecolor": "white",
             "minorgridcolor": "white",
             "startlinecolor": "#2a3f5f"
            },
            "baxis": {
             "endlinecolor": "#2a3f5f",
             "gridcolor": "white",
             "linecolor": "white",
             "minorgridcolor": "white",
             "startlinecolor": "#2a3f5f"
            },
            "type": "carpet"
           }
          ],
          "choropleth": [
           {
            "colorbar": {
             "outlinewidth": 0,
             "ticks": ""
            },
            "type": "choropleth"
           }
          ],
          "contour": [
           {
            "colorbar": {
             "outlinewidth": 0,
             "ticks": ""
            },
            "colorscale": [
             [
              0,
              "#0d0887"
             ],
             [
              0.1111111111111111,
              "#46039f"
             ],
             [
              0.2222222222222222,
              "#7201a8"
             ],
             [
              0.3333333333333333,
              "#9c179e"
             ],
             [
              0.4444444444444444,
              "#bd3786"
             ],
             [
              0.5555555555555556,
              "#d8576b"
             ],
             [
              0.6666666666666666,
              "#ed7953"
             ],
             [
              0.7777777777777778,
              "#fb9f3a"
             ],
             [
              0.8888888888888888,
              "#fdca26"
             ],
             [
              1,
              "#f0f921"
             ]
            ],
            "type": "contour"
           }
          ],
          "contourcarpet": [
           {
            "colorbar": {
             "outlinewidth": 0,
             "ticks": ""
            },
            "type": "contourcarpet"
           }
          ],
          "heatmap": [
           {
            "colorbar": {
             "outlinewidth": 0,
             "ticks": ""
            },
            "colorscale": [
             [
              0,
              "#0d0887"
             ],
             [
              0.1111111111111111,
              "#46039f"
             ],
             [
              0.2222222222222222,
              "#7201a8"
             ],
             [
              0.3333333333333333,
              "#9c179e"
             ],
             [
              0.4444444444444444,
              "#bd3786"
             ],
             [
              0.5555555555555556,
              "#d8576b"
             ],
             [
              0.6666666666666666,
              "#ed7953"
             ],
             [
              0.7777777777777778,
              "#fb9f3a"
             ],
             [
              0.8888888888888888,
              "#fdca26"
             ],
             [
              1,
              "#f0f921"
             ]
            ],
            "type": "heatmap"
           }
          ],
          "heatmapgl": [
           {
            "colorbar": {
             "outlinewidth": 0,
             "ticks": ""
            },
            "colorscale": [
             [
              0,
              "#0d0887"
             ],
             [
              0.1111111111111111,
              "#46039f"
             ],
             [
              0.2222222222222222,
              "#7201a8"
             ],
             [
              0.3333333333333333,
              "#9c179e"
             ],
             [
              0.4444444444444444,
              "#bd3786"
             ],
             [
              0.5555555555555556,
              "#d8576b"
             ],
             [
              0.6666666666666666,
              "#ed7953"
             ],
             [
              0.7777777777777778,
              "#fb9f3a"
             ],
             [
              0.8888888888888888,
              "#fdca26"
             ],
             [
              1,
              "#f0f921"
             ]
            ],
            "type": "heatmapgl"
           }
          ],
          "histogram": [
           {
            "marker": {
             "pattern": {
              "fillmode": "overlay",
              "size": 10,
              "solidity": 0.2
             }
            },
            "type": "histogram"
           }
          ],
          "histogram2d": [
           {
            "colorbar": {
             "outlinewidth": 0,
             "ticks": ""
            },
            "colorscale": [
             [
              0,
              "#0d0887"
             ],
             [
              0.1111111111111111,
              "#46039f"
             ],
             [
              0.2222222222222222,
              "#7201a8"
             ],
             [
              0.3333333333333333,
              "#9c179e"
             ],
             [
              0.4444444444444444,
              "#bd3786"
             ],
             [
              0.5555555555555556,
              "#d8576b"
             ],
             [
              0.6666666666666666,
              "#ed7953"
             ],
             [
              0.7777777777777778,
              "#fb9f3a"
             ],
             [
              0.8888888888888888,
              "#fdca26"
             ],
             [
              1,
              "#f0f921"
             ]
            ],
            "type": "histogram2d"
           }
          ],
          "histogram2dcontour": [
           {
            "colorbar": {
             "outlinewidth": 0,
             "ticks": ""
            },
            "colorscale": [
             [
              0,
              "#0d0887"
             ],
             [
              0.1111111111111111,
              "#46039f"
             ],
             [
              0.2222222222222222,
              "#7201a8"
             ],
             [
              0.3333333333333333,
              "#9c179e"
             ],
             [
              0.4444444444444444,
              "#bd3786"
             ],
             [
              0.5555555555555556,
              "#d8576b"
             ],
             [
              0.6666666666666666,
              "#ed7953"
             ],
             [
              0.7777777777777778,
              "#fb9f3a"
             ],
             [
              0.8888888888888888,
              "#fdca26"
             ],
             [
              1,
              "#f0f921"
             ]
            ],
            "type": "histogram2dcontour"
           }
          ],
          "mesh3d": [
           {
            "colorbar": {
             "outlinewidth": 0,
             "ticks": ""
            },
            "type": "mesh3d"
           }
          ],
          "parcoords": [
           {
            "line": {
             "colorbar": {
              "outlinewidth": 0,
              "ticks": ""
             }
            },
            "type": "parcoords"
           }
          ],
          "pie": [
           {
            "automargin": true,
            "type": "pie"
           }
          ],
          "scatter": [
           {
            "fillpattern": {
             "fillmode": "overlay",
             "size": 10,
             "solidity": 0.2
            },
            "type": "scatter"
           }
          ],
          "scatter3d": [
           {
            "line": {
             "colorbar": {
              "outlinewidth": 0,
              "ticks": ""
             }
            },
            "marker": {
             "colorbar": {
              "outlinewidth": 0,
              "ticks": ""
             }
            },
            "type": "scatter3d"
           }
          ],
          "scattercarpet": [
           {
            "marker": {
             "colorbar": {
              "outlinewidth": 0,
              "ticks": ""
             }
            },
            "type": "scattercarpet"
           }
          ],
          "scattergeo": [
           {
            "marker": {
             "colorbar": {
              "outlinewidth": 0,
              "ticks": ""
             }
            },
            "type": "scattergeo"
           }
          ],
          "scattergl": [
           {
            "marker": {
             "colorbar": {
              "outlinewidth": 0,
              "ticks": ""
             }
            },
            "type": "scattergl"
           }
          ],
          "scattermapbox": [
           {
            "marker": {
             "colorbar": {
              "outlinewidth": 0,
              "ticks": ""
             }
            },
            "type": "scattermapbox"
           }
          ],
          "scatterpolar": [
           {
            "marker": {
             "colorbar": {
              "outlinewidth": 0,
              "ticks": ""
             }
            },
            "type": "scatterpolar"
           }
          ],
          "scatterpolargl": [
           {
            "marker": {
             "colorbar": {
              "outlinewidth": 0,
              "ticks": ""
             }
            },
            "type": "scatterpolargl"
           }
          ],
          "scatterternary": [
           {
            "marker": {
             "colorbar": {
              "outlinewidth": 0,
              "ticks": ""
             }
            },
            "type": "scatterternary"
           }
          ],
          "surface": [
           {
            "colorbar": {
             "outlinewidth": 0,
             "ticks": ""
            },
            "colorscale": [
             [
              0,
              "#0d0887"
             ],
             [
              0.1111111111111111,
              "#46039f"
             ],
             [
              0.2222222222222222,
              "#7201a8"
             ],
             [
              0.3333333333333333,
              "#9c179e"
             ],
             [
              0.4444444444444444,
              "#bd3786"
             ],
             [
              0.5555555555555556,
              "#d8576b"
             ],
             [
              0.6666666666666666,
              "#ed7953"
             ],
             [
              0.7777777777777778,
              "#fb9f3a"
             ],
             [
              0.8888888888888888,
              "#fdca26"
             ],
             [
              1,
              "#f0f921"
             ]
            ],
            "type": "surface"
           }
          ],
          "table": [
           {
            "cells": {
             "fill": {
              "color": "#EBF0F8"
             },
             "line": {
              "color": "white"
             }
            },
            "header": {
             "fill": {
              "color": "#C8D4E3"
             },
             "line": {
              "color": "white"
             }
            },
            "type": "table"
           }
          ]
         },
         "layout": {
          "annotationdefaults": {
           "arrowcolor": "#2a3f5f",
           "arrowhead": 0,
           "arrowwidth": 1
          },
          "autotypenumbers": "strict",
          "coloraxis": {
           "colorbar": {
            "outlinewidth": 0,
            "ticks": ""
           }
          },
          "colorscale": {
           "diverging": [
            [
             0,
             "#8e0152"
            ],
            [
             0.1,
             "#c51b7d"
            ],
            [
             0.2,
             "#de77ae"
            ],
            [
             0.3,
             "#f1b6da"
            ],
            [
             0.4,
             "#fde0ef"
            ],
            [
             0.5,
             "#f7f7f7"
            ],
            [
             0.6,
             "#e6f5d0"
            ],
            [
             0.7,
             "#b8e186"
            ],
            [
             0.8,
             "#7fbc41"
            ],
            [
             0.9,
             "#4d9221"
            ],
            [
             1,
             "#276419"
            ]
           ],
           "sequential": [
            [
             0,
             "#0d0887"
            ],
            [
             0.1111111111111111,
             "#46039f"
            ],
            [
             0.2222222222222222,
             "#7201a8"
            ],
            [
             0.3333333333333333,
             "#9c179e"
            ],
            [
             0.4444444444444444,
             "#bd3786"
            ],
            [
             0.5555555555555556,
             "#d8576b"
            ],
            [
             0.6666666666666666,
             "#ed7953"
            ],
            [
             0.7777777777777778,
             "#fb9f3a"
            ],
            [
             0.8888888888888888,
             "#fdca26"
            ],
            [
             1,
             "#f0f921"
            ]
           ],
           "sequentialminus": [
            [
             0,
             "#0d0887"
            ],
            [
             0.1111111111111111,
             "#46039f"
            ],
            [
             0.2222222222222222,
             "#7201a8"
            ],
            [
             0.3333333333333333,
             "#9c179e"
            ],
            [
             0.4444444444444444,
             "#bd3786"
            ],
            [
             0.5555555555555556,
             "#d8576b"
            ],
            [
             0.6666666666666666,
             "#ed7953"
            ],
            [
             0.7777777777777778,
             "#fb9f3a"
            ],
            [
             0.8888888888888888,
             "#fdca26"
            ],
            [
             1,
             "#f0f921"
            ]
           ]
          },
          "colorway": [
           "#636efa",
           "#EF553B",
           "#00cc96",
           "#ab63fa",
           "#FFA15A",
           "#19d3f3",
           "#FF6692",
           "#B6E880",
           "#FF97FF",
           "#FECB52"
          ],
          "font": {
           "color": "#2a3f5f"
          },
          "geo": {
           "bgcolor": "white",
           "lakecolor": "white",
           "landcolor": "#E5ECF6",
           "showlakes": true,
           "showland": true,
           "subunitcolor": "white"
          },
          "hoverlabel": {
           "align": "left"
          },
          "hovermode": "closest",
          "mapbox": {
           "style": "light"
          },
          "paper_bgcolor": "white",
          "plot_bgcolor": "#E5ECF6",
          "polar": {
           "angularaxis": {
            "gridcolor": "white",
            "linecolor": "white",
            "ticks": ""
           },
           "bgcolor": "#E5ECF6",
           "radialaxis": {
            "gridcolor": "white",
            "linecolor": "white",
            "ticks": ""
           }
          },
          "scene": {
           "xaxis": {
            "backgroundcolor": "#E5ECF6",
            "gridcolor": "white",
            "gridwidth": 2,
            "linecolor": "white",
            "showbackground": true,
            "ticks": "",
            "zerolinecolor": "white"
           },
           "yaxis": {
            "backgroundcolor": "#E5ECF6",
            "gridcolor": "white",
            "gridwidth": 2,
            "linecolor": "white",
            "showbackground": true,
            "ticks": "",
            "zerolinecolor": "white"
           },
           "zaxis": {
            "backgroundcolor": "#E5ECF6",
            "gridcolor": "white",
            "gridwidth": 2,
            "linecolor": "white",
            "showbackground": true,
            "ticks": "",
            "zerolinecolor": "white"
           }
          },
          "shapedefaults": {
           "line": {
            "color": "#2a3f5f"
           }
          },
          "ternary": {
           "aaxis": {
            "gridcolor": "white",
            "linecolor": "white",
            "ticks": ""
           },
           "baxis": {
            "gridcolor": "white",
            "linecolor": "white",
            "ticks": ""
           },
           "bgcolor": "#E5ECF6",
           "caxis": {
            "gridcolor": "white",
            "linecolor": "white",
            "ticks": ""
           }
          },
          "title": {
           "x": 0.05
          },
          "xaxis": {
           "automargin": true,
           "gridcolor": "white",
           "linecolor": "white",
           "ticks": "",
           "title": {
            "standoff": 15
           },
           "zerolinecolor": "white",
           "zerolinewidth": 2
          },
          "yaxis": {
           "automargin": true,
           "gridcolor": "white",
           "linecolor": "white",
           "ticks": "",
           "title": {
            "standoff": 15
           },
           "zerolinecolor": "white",
           "zerolinewidth": 2
          }
         }
        },
        "title": {
         "text": "height Distribution by Gender"
        },
        "xaxis": {
         "anchor": "y",
         "domain": [
          0,
          1
         ],
         "title": {
          "text": "height"
         }
        },
        "yaxis": {
         "anchor": "x",
         "domain": [
          0,
          1
         ],
         "title": {
          "text": "count"
         }
        }
       }
      }
     },
     "metadata": {},
     "output_type": "display_data"
    },
    {
     "data": {
      "application/vnd.plotly.v1+json": {
       "config": {
        "plotlyServerURL": "https://plot.ly"
       },
       "data": [
        {
         "alignmentgroup": "True",
         "bingroup": "x",
         "hovertemplate": "Gender=1<br>weight=%{x}<br>count=%{y}<extra></extra>",
         "legendgroup": "1",
         "marker": {
          "color": "#636efa",
          "opacity": 0.7,
          "pattern": {
           "shape": ""
          }
         },
         "name": "1",
         "nbinsx": 20,
         "offsetgroup": "1",
         "orientation": "v",
         "showlegend": true,
         "type": "histogram",
         "x": [
          83,
          83,
          82,
          93,
          93,
          93,
          93,
          93,
          93,
          93,
          90,
          95,
          95,
          84,
          84,
          88.37544696066746,
          85,
          103,
          103,
          82,
          87,
          87,
          87,
          87,
          87,
          87,
          86,
          86,
          87,
          91,
          91,
          91,
          91,
          109,
          100,
          98,
          96,
          84,
          82,
          82,
          87,
          87,
          87,
          87,
          91,
          73,
          73,
          89,
          84,
          84,
          84,
          84,
          84,
          83,
          93,
          93,
          93,
          93,
          84,
          96,
          85,
          80,
          80,
          80,
          89,
          89,
          89,
          89,
          96,
          96,
          88,
          88,
          88,
          87,
          89,
          87,
          69,
          87,
          84,
          100,
          100,
          87,
          78,
          78,
          78,
          78,
          103,
          103,
          89,
          89,
          89,
          89,
          89,
          89,
          89,
          89,
          89,
          89,
          82,
          98,
          98,
          98,
          98,
          100,
          91,
          87,
          87,
          87,
          91,
          91,
          91,
          84,
          87,
          87,
          91,
          91,
          97,
          97,
          97,
          97,
          84,
          84,
          83,
          96,
          98,
          98,
          89,
          81,
          87,
          87,
          71,
          91,
          91,
          96,
          96,
          96,
          88.37544696066746,
          94,
          81,
          80,
          84,
          84,
          84,
          80,
          80,
          80,
          80,
          80,
          85,
          85,
          85,
          63,
          92,
          82,
          82,
          82,
          92,
          92,
          92,
          82,
          93,
          82,
          87,
          93,
          93,
          89,
          83,
          88,
          88,
          88,
          88,
          88,
          87,
          87,
          78,
          91,
          82,
          82,
          82,
          91,
          91,
          91,
          96,
          77,
          107,
          96,
          96,
          96,
          96,
          96,
          96,
          96,
          89,
          82,
          87,
          87,
          80,
          90,
          74,
          88,
          89,
          89,
          89,
          105,
          80,
          107,
          75,
          75,
          91,
          92,
          92,
          92,
          84,
          88.37544696066746,
          62,
          87,
          87,
          84,
          84,
          84,
          84,
          84,
          84,
          84,
          84,
          100,
          89,
          87,
          87,
          87,
          87,
          91,
          91,
          83,
          83,
          83,
          99,
          99,
          99,
          99,
          99,
          99,
          93,
          84,
          82,
          84,
          84,
          84,
          84,
          84,
          91,
          78,
          78,
          78,
          82,
          88.37544696066746,
          93,
          98,
          98,
          88.37544696066746,
          88.37544696066746,
          98,
          98,
          98,
          98,
          98,
          98,
          91,
          88.37544696066746,
          88.37544696066746,
          88.37544696066746,
          88.37544696066746,
          88.37544696066746,
          84,
          84,
          84,
          71,
          76,
          81,
          75,
          83,
          88.37544696066746,
          82,
          89,
          91,
          91,
          98,
          98,
          98,
          98,
          98,
          98,
          96,
          96,
          96,
          96,
          96,
          87,
          87,
          87,
          87,
          87,
          68,
          84,
          84,
          84,
          84,
          88.37544696066746,
          88,
          88,
          65,
          65,
          65,
          65,
          65,
          65,
          65,
          83,
          96,
          96,
          73,
          93,
          88,
          82,
          78,
          96,
          82,
          82,
          82,
          82,
          84,
          84,
          92,
          92,
          92,
          105,
          85,
          84,
          88,
          88,
          88,
          88,
          88.37544696066746,
          81,
          96,
          98,
          98,
          98,
          80,
          90,
          90,
          85,
          85,
          85,
          85,
          85,
          85,
          85,
          85,
          85,
          89,
          89,
          89,
          89,
          87,
          87,
          87,
          87,
          100,
          100,
          90,
          88.37544696066746,
          80,
          87,
          87,
          87,
          87,
          87,
          87,
          96,
          91,
          91,
          80,
          72,
          88,
          88,
          66,
          80,
          89,
          50,
          50,
          82,
          103,
          89,
          89,
          89,
          89,
          89,
          89,
          89,
          89,
          89,
          89,
          89,
          82,
          82,
          88.37544696066746,
          82,
          82,
          82,
          82,
          82,
          80,
          82,
          91,
          91,
          91,
          91,
          91,
          98,
          98,
          98,
          98,
          98,
          98,
          107,
          107,
          107,
          107,
          100,
          100,
          100,
          93,
          93,
          93,
          86,
          88.37544696066746,
          88.37544696066746,
          89,
          89,
          89,
          71,
          71,
          88.37544696066746,
          90,
          98,
          89,
          89,
          89,
          91,
          96,
          96,
          89,
          94,
          94,
          94,
          94,
          94,
          88.37544696066746,
          90,
          103,
          100,
          87,
          87,
          87,
          87,
          87,
          87,
          87,
          87,
          87,
          90,
          90,
          75,
          65,
          109,
          88.37544696066746,
          90,
          90,
          91,
          88.37544696066746,
          80,
          87,
          89,
          89,
          89,
          89,
          89,
          98,
          74,
          84,
          84,
          78,
          87,
          84,
          84,
          77,
          91,
          91,
          84,
          86,
          94,
          93,
          93,
          93,
          93,
          93,
          95,
          100,
          100,
          100,
          100,
          100,
          100,
          100,
          89,
          93,
          88,
          88,
          87,
          88.37544696066746,
          84,
          89,
          89,
          89,
          83,
          83,
          83,
          83,
          79,
          79,
          79,
          79,
          79,
          88.37544696066746,
          87,
          87,
          88.37544696066746,
          98,
          88,
          88,
          88,
          88,
          80,
          96,
          98,
          103,
          95,
          85,
          85,
          85,
          85,
          89,
          89,
          89,
          89,
          89,
          89,
          89,
          90,
          90,
          90,
          90,
          90,
          90,
          90,
          90,
          90,
          82,
          84,
          85,
          85,
          85,
          103,
          88.37544696066746,
          96,
          87,
          89,
          89,
          89,
          89,
          89,
          89,
          89,
          96,
          82,
          89,
          80,
          80,
          80,
          80,
          88,
          88,
          87,
          87,
          87,
          87,
          87,
          87,
          87,
          87,
          90,
          83,
          83,
          83,
          93,
          93,
          93,
          93,
          93,
          88.37544696066746,
          98,
          98,
          88.37544696066746,
          84,
          93,
          88,
          89,
          89,
          89,
          89,
          89,
          102,
          102,
          88.37544696066746,
          88.37544696066746,
          91,
          88,
          88.37544696066746,
          90,
          82,
          93,
          77,
          85,
          103,
          80,
          88,
          89,
          89,
          91,
          85,
          99,
          93,
          93,
          93,
          93,
          93,
          86,
          93,
          89,
          89,
          89,
          93,
          97,
          76,
          90,
          79,
          88,
          90,
          90,
          90,
          86,
          89,
          88.37544696066746,
          91,
          85,
          96,
          91,
          91,
          91,
          89,
          84,
          84,
          82,
          82,
          84,
          87,
          83,
          88,
          84,
          93,
          93,
          93,
          72,
          84,
          90,
          90,
          90,
          90,
          78,
          74,
          86,
          88.37544696066746,
          88.37544696066746,
          96,
          96,
          88.37544696066746,
          82,
          91,
          71,
          87,
          84,
          109,
          109,
          88,
          66,
          90,
          96,
          86,
          79,
          89,
          89,
          89,
          90,
          90,
          90,
          90,
          89,
          85,
          85,
          85,
          98,
          85,
          85,
          85,
          92,
          92,
          92,
          100,
          86,
          82,
          82,
          88.37544696066746,
          85,
          81,
          80,
          89,
          80,
          92,
          84,
          75,
          91,
          91,
          82,
          91,
          88.37544696066746,
          88.37544696066746,
          103,
          84,
          88.37544696066746,
          93,
          93,
          93,
          80,
          80,
          82,
          89,
          94,
          88.37544696066746,
          98,
          99,
          90,
          87,
          84,
          86,
          94,
          94,
          93,
          87,
          88,
          84,
          88,
          88,
          88,
          86,
          86,
          86,
          86,
          88,
          88,
          88,
          88,
          88.37544696066746,
          80,
          88,
          103,
          84,
          89,
          89,
          89,
          64,
          87,
          91,
          76,
          86,
          84,
          74,
          95,
          98,
          92,
          91,
          80,
          85,
          80,
          81,
          89,
          84,
          95,
          86,
          75,
          103,
          103,
          103,
          103,
          100,
          100,
          90,
          93,
          88,
          75,
          93,
          88.37544696066746,
          84,
          70,
          88.37544696066746,
          90,
          93,
          66,
          89,
          70,
          87,
          87,
          85,
          96,
          78,
          72,
          84,
          84,
          87,
          88,
          97,
          88.37544696066746,
          88.37544696066746,
          88.37544696066746,
          88.37544696066746,
          88.37544696066746,
          88.37544696066746,
          88.37544696066746,
          88.37544696066746,
          88.37544696066746,
          88.37544696066746,
          88.37544696066746,
          88.37544696066746,
          88.37544696066746,
          88.37544696066746,
          88.37544696066746,
          88.37544696066746,
          88.37544696066746,
          88.37544696066746,
          88.37544696066746,
          88.37544696066746,
          88.37544696066746,
          88.37544696066746,
          88.37544696066746,
          88.37544696066746,
          88.37544696066746,
          88.37544696066746,
          88.37544696066746,
          88.37544696066746,
          88.37544696066746,
          88.37544696066746,
          88.37544696066746,
          88.37544696066746,
          88.37544696066746,
          88.37544696066746,
          88.37544696066746,
          88.37544696066746,
          88.37544696066746,
          88.37544696066746,
          88.37544696066746
         ],
         "xaxis": "x",
         "yaxis": "y"
        },
        {
         "alignmentgroup": "True",
         "bingroup": "x",
         "hovertemplate": "Gender=2<br>weight=%{x}<br>count=%{y}<extra></extra>",
         "legendgroup": "2",
         "marker": {
          "color": "#EF553B",
          "opacity": 0.7,
          "pattern": {
           "shape": ""
          }
         },
         "name": "2",
         "nbinsx": 20,
         "offsetgroup": "2",
         "orientation": "v",
         "showlegend": true,
         "type": "histogram",
         "x": [
          64,
          65.66385372714487,
          69,
          69,
          69,
          68,
          70,
          71,
          62,
          62,
          62,
          62,
          62,
          62,
          62,
          62,
          62,
          55,
          62,
          69,
          74,
          74,
          74,
          74,
          74,
          74,
          74,
          74,
          74,
          74,
          69,
          69,
          69,
          69,
          69,
          64,
          64,
          64,
          64,
          59,
          59,
          59,
          59,
          59,
          59,
          59,
          69,
          69,
          69,
          69,
          69,
          69,
          73,
          75,
          69,
          62,
          62,
          62,
          62,
          62,
          69,
          65,
          65,
          65,
          65,
          65,
          65,
          65,
          65,
          67,
          64,
          64,
          80,
          80,
          67,
          67,
          62,
          78,
          72,
          72,
          72,
          72,
          72,
          69,
          69,
          69,
          69,
          69,
          69,
          69,
          69,
          69,
          69,
          60,
          59,
          65.66385372714487,
          65.66385372714487,
          57,
          57,
          59,
          59,
          59,
          59,
          59,
          59,
          59,
          59,
          59,
          65.66385372714487,
          71,
          71,
          60,
          60,
          60,
          69,
          69,
          69,
          69,
          69,
          69,
          64,
          62,
          62,
          62,
          62,
          62,
          62,
          62,
          71,
          65,
          65,
          65,
          65,
          65,
          64,
          64,
          62,
          62,
          69,
          68,
          82,
          59,
          69,
          62,
          62,
          69,
          69,
          69,
          62,
          61,
          61,
          67,
          65,
          65,
          65,
          62,
          62,
          59,
          59,
          66,
          54,
          58,
          63,
          63,
          63,
          63,
          64,
          64,
          69,
          69,
          71,
          69,
          66,
          66,
          66,
          69,
          69,
          62,
          75,
          75,
          65.66385372714487,
          62,
          63,
          63,
          83,
          83,
          66,
          66,
          58,
          58,
          58,
          50,
          73,
          64,
          64,
          64,
          57,
          57,
          59,
          71,
          71,
          71,
          70,
          63,
          69,
          69,
          69,
          69,
          69,
          69,
          69,
          69,
          69,
          69,
          69,
          63,
          63,
          63,
          68,
          64,
          64,
          64,
          64,
          65.66385372714487,
          59,
          59,
          59,
          59,
          59,
          59,
          59,
          61,
          65.66385372714487,
          70,
          50,
          63,
          63,
          63,
          63,
          67,
          62,
          78,
          78,
          54,
          59,
          59,
          63,
          63,
          63,
          63,
          59,
          59,
          65.66385372714487,
          59,
          55,
          63,
          66,
          66,
          66,
          71,
          55,
          67,
          67,
          69,
          64,
          64,
          64,
          64,
          68,
          68,
          68,
          68,
          68,
          68,
          61,
          65.66385372714487,
          59,
          69,
          69,
          69,
          67,
          55,
          65.66385372714487,
          65.66385372714487,
          65.66385372714487,
          59,
          59,
          59,
          59,
          59,
          59,
          59,
          65.66385372714487,
          71,
          71,
          71,
          71,
          71,
          71,
          71,
          71,
          59,
          59,
          59,
          59,
          69,
          69,
          65.66385372714487,
          65.66385372714487,
          59,
          65.66385372714487,
          55,
          65,
          69,
          70,
          57,
          66,
          66,
          74,
          63,
          63,
          63,
          65.66385372714487,
          59,
          62,
          62,
          62,
          62,
          62,
          71,
          71,
          77,
          77,
          65.66385372714487,
          65.66385372714487,
          62,
          62,
          62,
          62,
          62,
          62,
          67,
          66,
          71,
          62,
          62,
          65.66385372714487,
          62,
          65.66385372714487,
          66,
          66,
          66,
          62,
          61,
          72,
          72,
          72,
          72,
          65.66385372714487,
          63,
          63,
          69,
          69,
          69,
          69,
          69,
          69,
          69,
          69,
          69,
          54,
          69,
          69,
          71,
          71,
          64,
          64,
          69,
          50,
          69,
          53,
          73,
          65.66385372714487,
          71,
          71,
          71,
          71,
          59,
          59,
          65.66385372714487,
          65.66385372714487,
          65.66385372714487,
          65.66385372714487,
          61,
          80,
          62,
          62,
          65,
          65,
          65,
          65,
          65,
          65,
          70,
          62,
          65,
          65,
          70,
          75,
          75,
          75,
          66,
          70,
          70,
          69,
          69,
          64,
          68,
          60,
          58,
          59,
          59,
          59,
          59,
          59,
          59,
          59,
          59,
          71,
          64,
          64,
          64,
          64,
          64,
          69,
          69,
          69,
          65,
          66,
          68,
          72,
          72,
          72,
          65,
          65.66385372714487,
          60,
          73,
          66,
          63,
          67,
          67,
          67,
          67,
          58,
          58,
          58,
          58,
          58,
          58,
          58,
          58,
          69,
          69,
          69,
          69,
          69,
          69,
          69,
          69,
          69,
          73,
          73,
          73,
          73,
          73,
          65.66385372714487,
          69,
          69,
          72,
          72,
          72,
          72,
          75,
          75,
          62,
          69,
          63,
          63,
          64,
          64,
          64,
          64,
          65,
          64,
          59,
          59,
          59,
          65.66385372714487,
          67,
          69,
          68,
          66,
          66,
          66,
          75,
          65,
          65,
          65,
          65,
          59,
          64,
          64,
          59,
          76,
          64,
          71,
          66,
          62,
          63,
          70,
          70,
          70,
          72,
          65,
          58,
          62,
          62,
          62,
          62,
          68,
          59,
          74,
          63,
          56,
          66,
          59,
          67,
          67,
          67,
          64,
          64,
          64,
          64,
          64,
          64,
          64,
          60,
          60,
          60,
          60,
          60,
          60,
          58,
          66,
          61,
          61,
          65.66385372714487,
          70,
          61,
          59,
          69,
          71,
          71,
          69,
          68,
          59,
          61,
          69,
          66,
          65.66385372714487,
          74,
          57,
          54,
          58,
          62,
          61,
          64,
          64,
          62,
          69,
          64,
          67,
          69,
          69,
          62,
          69,
          69,
          69,
          73,
          74,
          58,
          71,
          60,
          60,
          57,
          89,
          66,
          65,
          65,
          65,
          64,
          63,
          63,
          64,
          58,
          62,
          62,
          58,
          70,
          70,
          70,
          70,
          70,
          66,
          66,
          66,
          66,
          66,
          65,
          65.66385372714487,
          65.66385372714487,
          72,
          57,
          60,
          68,
          70,
          78,
          77,
          77,
          78,
          53,
          64,
          64,
          64,
          64,
          66,
          63,
          68,
          62,
          70,
          72,
          72,
          72,
          65.66385372714487,
          58,
          63,
          75,
          75,
          75,
          75,
          68,
          81,
          70,
          69,
          66,
          65.66385372714487,
          68,
          68,
          77,
          69,
          63,
          59,
          72,
          55,
          65.66385372714487,
          60,
          57,
          69,
          75,
          75,
          60,
          62,
          66,
          65.66385372714487,
          52,
          70,
          72,
          72,
          70,
          64,
          57,
          57,
          61,
          71,
          60,
          52,
          69,
          69,
          60,
          69,
          62,
          62,
          62,
          65,
          64,
          58,
          71,
          71,
          57,
          71,
          71,
          73,
          65.66385372714487,
          65.66385372714487,
          60,
          65,
          64,
          64,
          67,
          65.66385372714487,
          65.66385372714487,
          64,
          60,
          65.66385372714487,
          65.66385372714487,
          65.66385372714487,
          65.66385372714487,
          65.66385372714487,
          65.66385372714487,
          65.66385372714487,
          65.66385372714487,
          65.66385372714487,
          65.66385372714487,
          65.66385372714487,
          65.66385372714487,
          65.66385372714487,
          65.66385372714487,
          65.66385372714487,
          65.66385372714487,
          65.66385372714487,
          65.66385372714487,
          65.66385372714487,
          65.66385372714487,
          65.66385372714487,
          65.66385372714487,
          65.66385372714487,
          65.66385372714487,
          65.66385372714487,
          65.66385372714487,
          65.66385372714487,
          65.66385372714487,
          65.66385372714487,
          65.66385372714487,
          65.66385372714487,
          65.66385372714487,
          65.66385372714487,
          65.66385372714487,
          65.66385372714487,
          65.66385372714487,
          65.66385372714487,
          65.66385372714487,
          65.66385372714487,
          65.66385372714487
         ],
         "xaxis": "x",
         "yaxis": "y"
        }
       ],
       "layout": {
        "barmode": "relative",
        "legend": {
         "title": {
          "text": "Gender"
         },
         "tracegroupgap": 0
        },
        "template": {
         "data": {
          "bar": [
           {
            "error_x": {
             "color": "#2a3f5f"
            },
            "error_y": {
             "color": "#2a3f5f"
            },
            "marker": {
             "line": {
              "color": "#E5ECF6",
              "width": 0.5
             },
             "pattern": {
              "fillmode": "overlay",
              "size": 10,
              "solidity": 0.2
             }
            },
            "type": "bar"
           }
          ],
          "barpolar": [
           {
            "marker": {
             "line": {
              "color": "#E5ECF6",
              "width": 0.5
             },
             "pattern": {
              "fillmode": "overlay",
              "size": 10,
              "solidity": 0.2
             }
            },
            "type": "barpolar"
           }
          ],
          "carpet": [
           {
            "aaxis": {
             "endlinecolor": "#2a3f5f",
             "gridcolor": "white",
             "linecolor": "white",
             "minorgridcolor": "white",
             "startlinecolor": "#2a3f5f"
            },
            "baxis": {
             "endlinecolor": "#2a3f5f",
             "gridcolor": "white",
             "linecolor": "white",
             "minorgridcolor": "white",
             "startlinecolor": "#2a3f5f"
            },
            "type": "carpet"
           }
          ],
          "choropleth": [
           {
            "colorbar": {
             "outlinewidth": 0,
             "ticks": ""
            },
            "type": "choropleth"
           }
          ],
          "contour": [
           {
            "colorbar": {
             "outlinewidth": 0,
             "ticks": ""
            },
            "colorscale": [
             [
              0,
              "#0d0887"
             ],
             [
              0.1111111111111111,
              "#46039f"
             ],
             [
              0.2222222222222222,
              "#7201a8"
             ],
             [
              0.3333333333333333,
              "#9c179e"
             ],
             [
              0.4444444444444444,
              "#bd3786"
             ],
             [
              0.5555555555555556,
              "#d8576b"
             ],
             [
              0.6666666666666666,
              "#ed7953"
             ],
             [
              0.7777777777777778,
              "#fb9f3a"
             ],
             [
              0.8888888888888888,
              "#fdca26"
             ],
             [
              1,
              "#f0f921"
             ]
            ],
            "type": "contour"
           }
          ],
          "contourcarpet": [
           {
            "colorbar": {
             "outlinewidth": 0,
             "ticks": ""
            },
            "type": "contourcarpet"
           }
          ],
          "heatmap": [
           {
            "colorbar": {
             "outlinewidth": 0,
             "ticks": ""
            },
            "colorscale": [
             [
              0,
              "#0d0887"
             ],
             [
              0.1111111111111111,
              "#46039f"
             ],
             [
              0.2222222222222222,
              "#7201a8"
             ],
             [
              0.3333333333333333,
              "#9c179e"
             ],
             [
              0.4444444444444444,
              "#bd3786"
             ],
             [
              0.5555555555555556,
              "#d8576b"
             ],
             [
              0.6666666666666666,
              "#ed7953"
             ],
             [
              0.7777777777777778,
              "#fb9f3a"
             ],
             [
              0.8888888888888888,
              "#fdca26"
             ],
             [
              1,
              "#f0f921"
             ]
            ],
            "type": "heatmap"
           }
          ],
          "heatmapgl": [
           {
            "colorbar": {
             "outlinewidth": 0,
             "ticks": ""
            },
            "colorscale": [
             [
              0,
              "#0d0887"
             ],
             [
              0.1111111111111111,
              "#46039f"
             ],
             [
              0.2222222222222222,
              "#7201a8"
             ],
             [
              0.3333333333333333,
              "#9c179e"
             ],
             [
              0.4444444444444444,
              "#bd3786"
             ],
             [
              0.5555555555555556,
              "#d8576b"
             ],
             [
              0.6666666666666666,
              "#ed7953"
             ],
             [
              0.7777777777777778,
              "#fb9f3a"
             ],
             [
              0.8888888888888888,
              "#fdca26"
             ],
             [
              1,
              "#f0f921"
             ]
            ],
            "type": "heatmapgl"
           }
          ],
          "histogram": [
           {
            "marker": {
             "pattern": {
              "fillmode": "overlay",
              "size": 10,
              "solidity": 0.2
             }
            },
            "type": "histogram"
           }
          ],
          "histogram2d": [
           {
            "colorbar": {
             "outlinewidth": 0,
             "ticks": ""
            },
            "colorscale": [
             [
              0,
              "#0d0887"
             ],
             [
              0.1111111111111111,
              "#46039f"
             ],
             [
              0.2222222222222222,
              "#7201a8"
             ],
             [
              0.3333333333333333,
              "#9c179e"
             ],
             [
              0.4444444444444444,
              "#bd3786"
             ],
             [
              0.5555555555555556,
              "#d8576b"
             ],
             [
              0.6666666666666666,
              "#ed7953"
             ],
             [
              0.7777777777777778,
              "#fb9f3a"
             ],
             [
              0.8888888888888888,
              "#fdca26"
             ],
             [
              1,
              "#f0f921"
             ]
            ],
            "type": "histogram2d"
           }
          ],
          "histogram2dcontour": [
           {
            "colorbar": {
             "outlinewidth": 0,
             "ticks": ""
            },
            "colorscale": [
             [
              0,
              "#0d0887"
             ],
             [
              0.1111111111111111,
              "#46039f"
             ],
             [
              0.2222222222222222,
              "#7201a8"
             ],
             [
              0.3333333333333333,
              "#9c179e"
             ],
             [
              0.4444444444444444,
              "#bd3786"
             ],
             [
              0.5555555555555556,
              "#d8576b"
             ],
             [
              0.6666666666666666,
              "#ed7953"
             ],
             [
              0.7777777777777778,
              "#fb9f3a"
             ],
             [
              0.8888888888888888,
              "#fdca26"
             ],
             [
              1,
              "#f0f921"
             ]
            ],
            "type": "histogram2dcontour"
           }
          ],
          "mesh3d": [
           {
            "colorbar": {
             "outlinewidth": 0,
             "ticks": ""
            },
            "type": "mesh3d"
           }
          ],
          "parcoords": [
           {
            "line": {
             "colorbar": {
              "outlinewidth": 0,
              "ticks": ""
             }
            },
            "type": "parcoords"
           }
          ],
          "pie": [
           {
            "automargin": true,
            "type": "pie"
           }
          ],
          "scatter": [
           {
            "fillpattern": {
             "fillmode": "overlay",
             "size": 10,
             "solidity": 0.2
            },
            "type": "scatter"
           }
          ],
          "scatter3d": [
           {
            "line": {
             "colorbar": {
              "outlinewidth": 0,
              "ticks": ""
             }
            },
            "marker": {
             "colorbar": {
              "outlinewidth": 0,
              "ticks": ""
             }
            },
            "type": "scatter3d"
           }
          ],
          "scattercarpet": [
           {
            "marker": {
             "colorbar": {
              "outlinewidth": 0,
              "ticks": ""
             }
            },
            "type": "scattercarpet"
           }
          ],
          "scattergeo": [
           {
            "marker": {
             "colorbar": {
              "outlinewidth": 0,
              "ticks": ""
             }
            },
            "type": "scattergeo"
           }
          ],
          "scattergl": [
           {
            "marker": {
             "colorbar": {
              "outlinewidth": 0,
              "ticks": ""
             }
            },
            "type": "scattergl"
           }
          ],
          "scattermapbox": [
           {
            "marker": {
             "colorbar": {
              "outlinewidth": 0,
              "ticks": ""
             }
            },
            "type": "scattermapbox"
           }
          ],
          "scatterpolar": [
           {
            "marker": {
             "colorbar": {
              "outlinewidth": 0,
              "ticks": ""
             }
            },
            "type": "scatterpolar"
           }
          ],
          "scatterpolargl": [
           {
            "marker": {
             "colorbar": {
              "outlinewidth": 0,
              "ticks": ""
             }
            },
            "type": "scatterpolargl"
           }
          ],
          "scatterternary": [
           {
            "marker": {
             "colorbar": {
              "outlinewidth": 0,
              "ticks": ""
             }
            },
            "type": "scatterternary"
           }
          ],
          "surface": [
           {
            "colorbar": {
             "outlinewidth": 0,
             "ticks": ""
            },
            "colorscale": [
             [
              0,
              "#0d0887"
             ],
             [
              0.1111111111111111,
              "#46039f"
             ],
             [
              0.2222222222222222,
              "#7201a8"
             ],
             [
              0.3333333333333333,
              "#9c179e"
             ],
             [
              0.4444444444444444,
              "#bd3786"
             ],
             [
              0.5555555555555556,
              "#d8576b"
             ],
             [
              0.6666666666666666,
              "#ed7953"
             ],
             [
              0.7777777777777778,
              "#fb9f3a"
             ],
             [
              0.8888888888888888,
              "#fdca26"
             ],
             [
              1,
              "#f0f921"
             ]
            ],
            "type": "surface"
           }
          ],
          "table": [
           {
            "cells": {
             "fill": {
              "color": "#EBF0F8"
             },
             "line": {
              "color": "white"
             }
            },
            "header": {
             "fill": {
              "color": "#C8D4E3"
             },
             "line": {
              "color": "white"
             }
            },
            "type": "table"
           }
          ]
         },
         "layout": {
          "annotationdefaults": {
           "arrowcolor": "#2a3f5f",
           "arrowhead": 0,
           "arrowwidth": 1
          },
          "autotypenumbers": "strict",
          "coloraxis": {
           "colorbar": {
            "outlinewidth": 0,
            "ticks": ""
           }
          },
          "colorscale": {
           "diverging": [
            [
             0,
             "#8e0152"
            ],
            [
             0.1,
             "#c51b7d"
            ],
            [
             0.2,
             "#de77ae"
            ],
            [
             0.3,
             "#f1b6da"
            ],
            [
             0.4,
             "#fde0ef"
            ],
            [
             0.5,
             "#f7f7f7"
            ],
            [
             0.6,
             "#e6f5d0"
            ],
            [
             0.7,
             "#b8e186"
            ],
            [
             0.8,
             "#7fbc41"
            ],
            [
             0.9,
             "#4d9221"
            ],
            [
             1,
             "#276419"
            ]
           ],
           "sequential": [
            [
             0,
             "#0d0887"
            ],
            [
             0.1111111111111111,
             "#46039f"
            ],
            [
             0.2222222222222222,
             "#7201a8"
            ],
            [
             0.3333333333333333,
             "#9c179e"
            ],
            [
             0.4444444444444444,
             "#bd3786"
            ],
            [
             0.5555555555555556,
             "#d8576b"
            ],
            [
             0.6666666666666666,
             "#ed7953"
            ],
            [
             0.7777777777777778,
             "#fb9f3a"
            ],
            [
             0.8888888888888888,
             "#fdca26"
            ],
            [
             1,
             "#f0f921"
            ]
           ],
           "sequentialminus": [
            [
             0,
             "#0d0887"
            ],
            [
             0.1111111111111111,
             "#46039f"
            ],
            [
             0.2222222222222222,
             "#7201a8"
            ],
            [
             0.3333333333333333,
             "#9c179e"
            ],
            [
             0.4444444444444444,
             "#bd3786"
            ],
            [
             0.5555555555555556,
             "#d8576b"
            ],
            [
             0.6666666666666666,
             "#ed7953"
            ],
            [
             0.7777777777777778,
             "#fb9f3a"
            ],
            [
             0.8888888888888888,
             "#fdca26"
            ],
            [
             1,
             "#f0f921"
            ]
           ]
          },
          "colorway": [
           "#636efa",
           "#EF553B",
           "#00cc96",
           "#ab63fa",
           "#FFA15A",
           "#19d3f3",
           "#FF6692",
           "#B6E880",
           "#FF97FF",
           "#FECB52"
          ],
          "font": {
           "color": "#2a3f5f"
          },
          "geo": {
           "bgcolor": "white",
           "lakecolor": "white",
           "landcolor": "#E5ECF6",
           "showlakes": true,
           "showland": true,
           "subunitcolor": "white"
          },
          "hoverlabel": {
           "align": "left"
          },
          "hovermode": "closest",
          "mapbox": {
           "style": "light"
          },
          "paper_bgcolor": "white",
          "plot_bgcolor": "#E5ECF6",
          "polar": {
           "angularaxis": {
            "gridcolor": "white",
            "linecolor": "white",
            "ticks": ""
           },
           "bgcolor": "#E5ECF6",
           "radialaxis": {
            "gridcolor": "white",
            "linecolor": "white",
            "ticks": ""
           }
          },
          "scene": {
           "xaxis": {
            "backgroundcolor": "#E5ECF6",
            "gridcolor": "white",
            "gridwidth": 2,
            "linecolor": "white",
            "showbackground": true,
            "ticks": "",
            "zerolinecolor": "white"
           },
           "yaxis": {
            "backgroundcolor": "#E5ECF6",
            "gridcolor": "white",
            "gridwidth": 2,
            "linecolor": "white",
            "showbackground": true,
            "ticks": "",
            "zerolinecolor": "white"
           },
           "zaxis": {
            "backgroundcolor": "#E5ECF6",
            "gridcolor": "white",
            "gridwidth": 2,
            "linecolor": "white",
            "showbackground": true,
            "ticks": "",
            "zerolinecolor": "white"
           }
          },
          "shapedefaults": {
           "line": {
            "color": "#2a3f5f"
           }
          },
          "ternary": {
           "aaxis": {
            "gridcolor": "white",
            "linecolor": "white",
            "ticks": ""
           },
           "baxis": {
            "gridcolor": "white",
            "linecolor": "white",
            "ticks": ""
           },
           "bgcolor": "#E5ECF6",
           "caxis": {
            "gridcolor": "white",
            "linecolor": "white",
            "ticks": ""
           }
          },
          "title": {
           "x": 0.05
          },
          "xaxis": {
           "automargin": true,
           "gridcolor": "white",
           "linecolor": "white",
           "ticks": "",
           "title": {
            "standoff": 15
           },
           "zerolinecolor": "white",
           "zerolinewidth": 2
          },
          "yaxis": {
           "automargin": true,
           "gridcolor": "white",
           "linecolor": "white",
           "ticks": "",
           "title": {
            "standoff": 15
           },
           "zerolinecolor": "white",
           "zerolinewidth": 2
          }
         }
        },
        "title": {
         "text": "weight Distribution by Gender"
        },
        "xaxis": {
         "anchor": "y",
         "domain": [
          0,
          1
         ],
         "title": {
          "text": "weight"
         }
        },
        "yaxis": {
         "anchor": "x",
         "domain": [
          0,
          1
         ],
         "title": {
          "text": "count"
         }
        }
       }
      }
     },
     "metadata": {},
     "output_type": "display_data"
    },
    {
     "data": {
      "application/vnd.plotly.v1+json": {
       "config": {
        "plotlyServerURL": "https://plot.ly"
       },
       "data": [
        {
         "alignmentgroup": "True",
         "bingroup": "x",
         "hovertemplate": "Gender=1<br>bmi=%{x}<br>count=%{y}<extra></extra>",
         "legendgroup": "1",
         "marker": {
          "color": "#636efa",
          "opacity": 0.7,
          "pattern": {
           "shape": ""
          }
         },
         "name": "1",
         "nbinsx": 20,
         "offsetgroup": "1",
         "orientation": "v",
         "showlegend": true,
         "type": "histogram",
         "x": [
          26.19618735008206,
          26.19618735008206,
          30.863035868869737,
          28.387411861664784,
          28.387411861664784,
          28.387411861664784,
          28.387411861664784,
          28.387411861664784,
          28.387411861664784,
          28.387411861664784,
          30.071168431955627,
          28.367523664486843,
          28.367523664486843,
          28.06642386982525,
          28.06642386982525,
          28.084429605483876,
          28.40054796351365,
          29.14214576731553,
          29.14214576731553,
          26.47210743801653,
          29.75274443418488,
          29.75274443418488,
          29.75274443418488,
          29.75274443418488,
          29.75274443418488,
          29.75274443418488,
          29.410758865975858,
          29.410758865975858,
          29.75274443418488,
          27.776929886145112,
          27.776929886145112,
          27.776929886145112,
          27.776929886145112,
          29.87856692524876,
          29.860551225775623,
          29.913616800463966,
          29.629629629629623,
          24.280263614290668,
          27.39817568244846,
          27.39817568244846,
          25.97867956642479,
          25.97867956642479,
          25.97867956642479,
          29.06879615089044,
          29.3775826446281,
          26.491508201480624,
          26.491508201480624,
          26.575890590940304,
          26.511804065143288,
          26.511804065143288,
          28.06642386982525,
          28.06642386982525,
          28.06642386982525,
          24.78425751739377,
          29.35235450069436,
          29.35235450069436,
          29.35235450069436,
          29.35235450069436,
          23.766410140334997,
          27.74887270204648,
          25.94548395958609,
          27.358845456721728,
          27.358845456721728,
          27.358845456721728,
          28.731921487603305,
          28.731921487603305,
          28.731921487603305,
          28.731921487603305,
          28.6661291767446,
          28.6661291767446,
          27.77427092538821,
          27.77427092538821,
          27.77427092538821,
          27.458654210326976,
          28.08988764044944,
          27.458654210326976,
          26.61934338952972,
          28.08626033057851,
          25.640242971826257,
          27.411529289219047,
          27.411529289219047,
          28.08626033057851,
          26.674874320303687,
          26.674874320303687,
          26.674874320303687,
          26.674874320303687,
          29.14214576731553,
          29.14214576731553,
          29.396221429515126,
          29.396221429515126,
          29.396221429515126,
          29.396221429515126,
          29.396221429515126,
          29.396221429515126,
          29.396221429515126,
          29.06122448979592,
          29.06122448979592,
          29.06122448979592,
          30.119375573921037,
          29.913616800463966,
          29.913616800463966,
          29.913616800463966,
          28.326974216672443,
          29.860551225775623,
          28.721121070571897,
          28.08626033057851,
          28.08626033057851,
          28.08626033057851,
          28.40111107643332,
          28.40111107643332,
          28.40111107643332,
          26.511804065143288,
          29.40778799351001,
          29.40778799351001,
          28.721121070571897,
          28.721121070571897,
          28.037923459359455,
          28.037923459359455,
          28.037923459359455,
          28.037923459359455,
          28.06642386982525,
          28.06642386982525,
          26.19618735008206,
          30.29920464587805,
          29.26334020126011,
          29.26334020126011,
          29.737044338267232,
          28.69897959183674,
          26.555965935105768,
          26.555965935105768,
          24.28097534284053,
          29.3775826446281,
          29.3775826446281,
          29.30313482494429,
          29.30313482494429,
          30.29920464587805,
          28.084429605483876,
          27.170771187420502,
          25.854639471416256,
          24.69135802469136,
          27.117768595041323,
          27.117768595041323,
          27.117768595041323,
          29.03178980984178,
          29.03178980984178,
          29.03178980984178,
          29.03178980984178,
          29.03178980984178,
          26.82742078020452,
          26.82742078020452,
          26.82742078020452,
          24.91990032039872,
          29.036737785633125,
          28.04281659313977,
          28.04281659313977,
          28.04281659313977,
          29.036737785633125,
          29.036737785633125,
          29.036737785633125,
          25.592209980961893,
          28.387411861664784,
          25.88057063502083,
          26.555965935105768,
          28.387411861664784,
          28.387411861664784,
          26.575890590940304,
          25.057360222195385,
          28.40909090909091,
          28.40909090909091,
          28.40909090909091,
          28.40909090909091,
          28.40909090909091,
          26.555965935105768,
          26.555965935105768,
          23.291229956104985,
          25.746944318696244,
          25.029760996306585,
          25.029760996306585,
          25.029760996306585,
          24.94449165318933,
          27.173101615455817,
          27.173101615455817,
          29.30313482494429,
          25.72755521400648,
          31.95078981157992,
          30.991735537190085,
          30.991735537190085,
          30.991735537190085,
          30.991735537190085,
          30.991735537190085,
          30.991735537190085,
          30.991735537190085,
          27.16644791062544,
          27.39817568244846,
          29.06879615089044,
          29.06879615089044,
          25.826446280991732,
          29.054752066115704,
          26.218820861678008,
          27.77427092538821,
          28.08988764044944,
          28.08988764044944,
          28.08988764044944,
          29.708012675418743,
          25.24933720489837,
          27.01951970909825,
          23.671253629592226,
          23.671253629592226,
          29.3775826446281,
          29.700413223140497,
          29.700413223140497,
          29.700413223140497,
          25.640242971826257,
          28.084429605483876,
          23.335466144755166,
          30.824829931972797,
          30.824829931972797,
          26.511804065143288,
          26.511804065143288,
          26.511804065143288,
          26.511804065143288,
          26.511804065143288,
          26.511804065143288,
          37.333333333333336,
          37.333333333333336,
          32.28305785123967,
          27.16644791062544,
          27.769797950780426,
          27.769797950780426,
          27.769797950780426,
          27.769797950780426,
          28.721121070571897,
          28.721121070571897,
          26.19618735008206,
          26.19618735008206,
          26.19618735008206,
          31.960227272727277,
          31.960227272727277,
          31.960227272727277,
          31.960227272727277,
          31.960227272727277,
          31.960227272727277,
          27.77031263997133,
          26.511804065143288,
          24.48565200513601,
          27.74474831549742,
          27.74474831549742,
          27.74474831549742,
          27.74474831549742,
          27.74474831549742,
          28.721121070571897,
          26.674874320303687,
          26.674874320303687,
          26.674874320303687,
          25.029760996306585,
          28.084429605483876,
          28.387411861664784,
          28.326974216672443,
          28.326974216672443,
          28.084429605483876,
          28.084429605483876,
          28.326974216672443,
          28.326974216672443,
          28.326974216672443,
          28.326974216672443,
          28.326974216672443,
          28.326974216672443,
          29.3775826446281,
          28.084429605483876,
          28.084429605483876,
          28.084429605483876,
          28.084429605483876,
          28.084429605483876,
          28.06642386982525,
          28.06642386982525,
          28.06642386982525,
          28.44095497516423,
          25.99090318388564,
          26.14927685950413,
          25.64891761567662,
          26.794938016528928,
          28.084429605483876,
          28.04281659313977,
          27.776910832995224,
          26.303618915481557,
          26.303618915481557,
          30.930438076000502,
          30.930438076000502,
          30.930438076000502,
          30.930438076000502,
          30.930438076000502,
          30.930438076000502,
          28.6661291767446,
          28.6661291767446,
          28.6661291767446,
          28.6661291767446,
          28.6661291767446,
          29.75274443418488,
          29.06879615089044,
          29.06879615089044,
          29.06879615089044,
          29.06879615089044,
          23.529411764705884,
          24.280263614290668,
          24.280263614290668,
          27.117768595041323,
          27.117768595041323,
          28.084429605483876,
          28.084429605483876,
          28.084429605483876,
          23.588329220496444,
          23.588329220496444,
          23.588329220496444,
          23.588329220496444,
          23.588329220496444,
          23.588329220496444,
          23.588329220496444,
          25.33500198406642,
          29.30313482494429,
          29.30313482494429,
          24.3910588392529,
          28.387411861664784,
          25.4364666435426,
          28.04281659313977,
          26.674874320303687,
          28.6661291767446,
          28.04281659313977,
          28.04281659313977,
          28.04281659313977,
          28.04281659313977,
          28.084429605483876,
          28.084429605483876,
          29.036737785633125,
          29.036737785633125,
          29.036737785633125,
          31.353578787064404,
          28.075042938300964,
          28.06642386982525,
          26.8612069228656,
          26.8612069228656,
          26.8612069228656,
          26.8612069228656,
          28.084429605483876,
          28.084429605483876,
          27.16161158895428,
          28.084429605483876,
          27.727478497057493,
          27.727478497057493,
          25.826446280991732,
          26.01456815816857,
          26.01456815816857,
          27.44059917355372,
          27.44059917355372,
          27.44059917355372,
          27.44059917355372,
          27.44059917355372,
          27.44059917355372,
          27.44059917355372,
          27.44059917355372,
          27.44059917355372,
          28.08988764044944,
          28.08988764044944,
          28.08988764044944,
          28.08988764044944,
          28.08626033057851,
          28.08626033057851,
          28.08626033057851,
          28.08626033057851,
          26.03082049146189,
          26.03082049146189,
          29.054752066115704,
          28.084429605483876,
          27.358845456721728,
          29.06879615089044,
          29.06879615089044,
          29.06879615089044,
          29.06879615089044,
          29.06879615089044,
          29.06879615089044,
          29.30313482494429,
          28.40111107643332,
          28.40111107643332,
          27.358845456721728,
          24.0569347455645,
          30.094730002393906,
          30.094730002393906,
          25.461980633463213,
          25.24933720489837,
          26.575890590940304,
          19.05197378448407,
          19.05197378448407,
          31.634581999151266,
          31.43982173926315,
          27.16644791062544,
          27.16644791062544,
          27.16644791062544,
          27.16644791062544,
          27.16644791062544,
          27.16644791062544,
          27.16644791062544,
          27.16644791062544,
          27.16644791062544,
          27.16644791062544,
          27.16644791062544,
          25.88057063502083,
          25.88057063502083,
          28.084429605483876,
          28.04281659313977,
          28.04281659313977,
          28.04281659313977,
          28.04281659313977,
          28.04281659313977,
          29.03178980984178,
          26.47210743801653,
          28.721121070571897,
          28.721121070571897,
          28.721121070571897,
          28.721121070571897,
          28.721121070571897,
          27.727478497057493,
          27.727478497057493,
          27.727478497057493,
          27.727478497057493,
          27.727478497057493,
          27.727478497057493,
          30.9284310324893,
          30.9284310324893,
          30.9284310324893,
          30.9284310324893,
          28.90507573129841,
          28.90507573129841,
          28.90507573129841,
          26.881720430107524,
          26.881720430107524,
          26.881720430107524,
          27.143037495265748,
          28.084429605483876,
          28.084429605483876,
          27.16644791062544,
          26.575890590940304,
          26.575890590940304,
          25.15589569160998,
          25.15589569160998,
          28.084429605483876,
          28.40550435551067,
          28.326974216672443,
          29.737044338267232,
          29.737044338267232,
          29.737044338267232,
          28.084429605483876,
          28.6661291767446,
          28.6661291767446,
          25.18107741059303,
          28.692652849424626,
          28.692652849424626,
          28.692652849424626,
          28.692652849424626,
          28.692652849424626,
          28.084429605483876,
          25.46401086464464,
          34.414781649904775,
          26.570305027101718,
          27.458654210326976,
          27.458654210326976,
          27.458654210326976,
          27.458654210326976,
          27.458654210326976,
          27.458654210326976,
          27.458654210326976,
          27.458654210326976,
          27.458654210326976,
          29.054752066115704,
          29.054752066115704,
          23.671253629592226,
          25.076193048107708,
          34.79204570844904,
          28.084429605483876,
          26.29656683710737,
          26.29656683710737,
          29.3775826446281,
          28.084429605483876,
          28.344671201814062,
          28.08626033057851,
          39.55555555555556,
          29.737044338267232,
          29.737044338267232,
          29.737044338267232,
          29.737044338267232,
          29.26334020126011,
          25.909456951787405,
          27.117768595041323,
          27.117768595041323,
          25.180785123966945,
          38.66666666666666,
          25.640242971826257,
          25.640242971826257,
          28.98114343784109,
          30.405292525644025,
          30.405292525644025,
          26.511804065143288,
          27.143037495265748,
          28.068918152229088,
          27.77031263997133,
          27.77031263997133,
          27.77031263997133,
          27.77031263997133,
          27.77031263997133,
          28.997893837184456,
          28.293345405160707,
          28.293345405160707,
          28.293345405160707,
          28.293345405160707,
          28.293345405160707,
          28.293345405160707,
          28.293345405160707,
          28.731921487603305,
          23.484255448094743,
          28.40909090909091,
          28.40909090909091,
          27.458654210326976,
          28.084429605483876,
          26.216410224399983,
          26.004382761139517,
          26.004382761139517,
          26.004382761139517,
          28.384802161348794,
          28.384802161348794,
          28.384802161348794,
          28.384802161348794,
          28.668892437218755,
          28.668892437218755,
          28.668892437218755,
          28.668892437218755,
          28.668892437218755,
          28.084429605483876,
          25.97867956642479,
          25.97867956642479,
          28.084429605483876,
          29.913616800463966,
          28.40909090909091,
          28.40909090909091,
          28.40909090909091,
          28.40909090909091,
          26.729927495071667,
          27.74887270204648,
          29.26334020126011,
          26.81174510620575,
          27.166919271354622,
          27.755102040816325,
          27.755102040816325,
          27.755102040816325,
          27.755102040816325,
          30.436715570602924,
          30.436715570602924,
          30.436715570602924,
          30.436715570602924,
          30.436715570602924,
          30.436715570602924,
          30.436715570602924,
          27.471688898385278,
          27.471688898385278,
          27.471688898385278,
          27.471688898385278,
          27.471688898385278,
          27.471688898385278,
          27.471688898385278,
          27.471688898385278,
          27.471688898385278,
          28.04281659313977,
          28.06642386982525,
          27.755102040816325,
          27.755102040816325,
          27.755102040816325,
          29.14214576731553,
          28.084429605483876,
          28.6661291767446,
          28.08626033057851,
          27.16644791062544,
          27.16644791062544,
          27.16644791062544,
          27.16644791062544,
          27.16644791062544,
          27.16644791062544,
          27.16644791062544,
          28.6661291767446,
          27.39817568244846,
          27.16644791062544,
          25.826446280991732,
          25.826446280991732,
          25.826446280991732,
          25.826446280991732,
          26.27728507868255,
          26.27728507868255,
          29.75274443418488,
          29.75274443418488,
          29.75274443418488,
          29.75274443418488,
          29.75274443418488,
          29.75274443418488,
          29.75274443418488,
          29.75274443418488,
          28.72737719046251,
          29.060607121599386,
          29.060607121599386,
          29.060607121599386,
          28.387411861664784,
          28.387411861664784,
          28.387411861664784,
          28.387411861664784,
          28.387411861664784,
          28.084429605483876,
          28.63403944485025,
          28.326974216672443,
          28.084429605483876,
          37.333333333333336,
          26.312811226799457,
          28.40909090909091,
          30.436715570602924,
          30.436715570602924,
          30.436715570602924,
          30.436715570602924,
          30.436715570602924,
          30.457762250291136,
          30.457762250291136,
          28.084429605483876,
          28.084429605483876,
          27.776929886145112,
          26.56683975365294,
          28.084429605483876,
          29.054752066115704,
          28.04281659313977,
          27.173119065010955,
          25.72755521400648,
          29.06877329776684,
          28.834579099129364,
          26.12244897959184,
          27.77427092538821,
          28.731921487603305,
          28.731921487603305,
          27.173101615455817,
          27.755102040816325,
          29.88769472285956,
          29.35235450069436,
          28.387411861664784,
          28.387411861664784,
          28.387411861664784,
          28.387411861664784,
          28.081632653061224,
          29.025311319871417,
          27.16644791062544,
          27.16644791062544,
          27.16644791062544,
          27.77031263997133,
          29.60837581270413,
          27.25088744666356,
          27.471688898385278,
          27.33564013840831,
          29.40292024457884,
          30.42184964845863,
          30.42184964845863,
          29.054752066115704,
          25.68007405416704,
          31.533446712018144,
          28.084429605483876,
          30.056810675122207,
          26.82742078020452,
          28.084429605483876,
          27.173101615455817,
          27.173101615455817,
          27.173101615455817,
          28.731921487603305,
          27.117768595041323,
          27.117768595041323,
          26.47210743801653,
          26.47210743801653,
          27.117768595041323,
          26.85185185185185,
          28.384802161348794,
          28.40909090909091,
          28.06642386982525,
          28.703703703703702,
          28.703703703703702,
          28.703703703703702,
          23.51020408163265,
          27.117768595041323,
          28.72737719046251,
          28.72737719046251,
          28.72737719046251,
          28.72737719046251,
          27.968016063681024,
          24.441802087462012,
          27.143037495265748,
          28.084429605483876,
          28.084429605483876,
          28.6661291767446,
          28.6661291767446,
          28.084429605483876,
          25.88057063502083,
          26.87854442344045,
          26.07897153351699,
          28.08626033057851,
          27.74474831549742,
          29.87856692524876,
          29.87856692524876,
          28.40909090909091,
          23.66524436157625,
          28.40550435551067,
          28.6661291767446,
          29.75778546712803,
          27.660095935016283,
          29.737044338267232,
          29.737044338267232,
          29.737044338267232,
          29.054752066115704,
          29.054752066115704,
          29.054752066115704,
          29.054752066115704,
          26.28780718336484,
          28.075042938300964,
          28.075042938300964,
          28.075042938300964,
          31.63739669421488,
          28.40054796351365,
          28.40054796351365,
          28.40054796351365,
          29.365763350250564,
          29.365763350250564,
          28.39506172839506,
          30.52409877598364,
          24.332277048438208,
          25.88057063502083,
          25.88057063502083,
          28.084429605483876,
          28.40054796351365,
          27.70083102493075,
          26.42356982428326,
          30.436715570602924,
          30.86300682844026,
          27.77442337881898,
          28.06642386982525,
          25.95155709342561,
          27.776929886145112,
          27.776929886145112,
          28.04281659313977,
          25.746944318696244,
          28.084429605483876,
          28.084429605483876,
          32.50852165130665,
          26.216410224399983,
          28.084429605483876,
          28.084429605483876,
          28.084429605483876,
          28.084429605483876,
          27.358845456721728,
          27.68166089965398,
          29.053287981859416,
          28.08988764044944,
          26.88095170007721,
          28.084429605483876,
          29.26334020126011,
          27.714789619551524,
          28.40550435551067,
          32.74492829989838,
          31.615792841281195,
          28.081632653061224,
          27.46530314097881,
          27.46530314097881,
          29.35235450069436,
          29.06879615089044,
          26.27728507868255,
          24.021275987303035,
          28.088991030674453,
          28.088991030674453,
          28.088991030674453,
          29.069767441860467,
          29.069767441860467,
          29.069767441860467,
          29.069767441860467,
          27.46481071127618,
          27.46481071127618,
          27.46481071127618,
          28.73469387755102,
          28.084429605483876,
          27.68166089965398,
          26.8612069228656,
          30.75636776254889,
          28.726787729557817,
          28.731921487603305,
          28.731921487603305,
          28.731921487603305,
          24.088223117166624,
          26.85185185185185,
          29.3775826446281,
          25.689561925365066,
          26.25072494734593,
          37.333333333333336,
          24.163265306122447,
          28.997893837184456,
          29.913616800463966,
          28.082170873904943,
          28.721121070571897,
          28.344671201814062,
          27.755102040816325,
          27.68166089965398,
          29.04370898920721,
          25.725517400855587,
          27.428571428571427,
          29.64951156330951,
          27.143037495265748,
          25.05930702662969,
          31.0952783480256,
          31.0952783480256,
          31.0952783480256,
          31.0952783480256,
          28.90507573129841,
          28.90507573129841,
          27.17063156623596,
          28.076319285110493,
          29.40292024457884,
          26.25958474843318,
          28.703703703703702,
          28.084429605483876,
          28.393726338561383,
          23.38868655818771,
          28.084429605483876,
          26.874496103198062,
          29.35235450069436,
          22.837370242214536,
          25.725517400855587,
          22.59814049586777,
          28.40816326530612,
          28.40816326530612,
          26.82742078020452,
          28.04967129291453,
          26.06167930769488,
          24.0569347455645,
          25.082863029651524,
          25.082863029651524,
          25.697069943289225,
          28.40909090909091,
          28.96473468900236,
          28.084429605483876,
          28.084429605483876,
          28.084429605483876,
          28.084429605483876,
          28.084429605483876,
          28.084429605483876,
          28.084429605483876,
          28.084429605483876,
          28.084429605483876,
          28.084429605483876,
          28.084429605483876,
          28.084429605483876,
          28.084429605483876,
          28.084429605483876,
          28.084429605483876,
          28.084429605483876,
          28.084429605483876,
          28.084429605483876,
          28.084429605483876,
          28.084429605483876,
          28.084429605483876,
          28.084429605483876,
          28.084429605483876,
          28.084429605483876,
          28.084429605483876,
          28.084429605483876,
          28.084429605483876,
          28.084429605483876,
          28.084429605483876,
          28.084429605483876,
          28.084429605483876,
          28.084429605483876,
          28.084429605483876,
          28.084429605483876,
          28.084429605483876,
          28.084429605483876,
          28.084429605483876,
          28.084429605483876,
          28.084429605483876
         ],
         "xaxis": "x",
         "yaxis": "y"
        },
        {
         "alignmentgroup": "True",
         "bingroup": "x",
         "hovertemplate": "Gender=2<br>bmi=%{x}<br>count=%{y}<extra></extra>",
         "legendgroup": "2",
         "marker": {
          "color": "#EF553B",
          "opacity": 0.7,
          "pattern": {
           "shape": ""
          }
         },
         "name": "2",
         "nbinsx": 20,
         "offsetgroup": "2",
         "orientation": "v",
         "showlegend": true,
         "type": "histogram",
         "x": [
          23.225431847873423,
          24.01308087921364,
          25.34435261707989,
          25.34435261707989,
          25.34435261707989,
          23.25501863821347,
          23.38868655818771,
          25.76571345623458,
          21.45328719723184,
          21.45328719723184,
          21.45328719723184,
          21.45328719723184,
          21.45328719723184,
          21.45328719723184,
          21.45328719723184,
          21.45328719723184,
          21.45328719723184,
          23.49523687470631,
          24.83576349943919,
          24.44727891156463,
          28.19692120103642,
          28.19692120103642,
          28.19692120103642,
          28.19692120103642,
          28.19692120103642,
          28.19692120103642,
          28.19692120103642,
          28.19692120103642,
          28.19692120103642,
          28.19692120103642,
          24.44727891156463,
          24.44727891156463,
          24.44727891156463,
          24.44727891156463,
          24.44727891156463,
          23.225431847873423,
          23.225431847873423,
          23.225431847873423,
          23.225431847873423,
          24.55775234131113,
          24.55775234131113,
          24.55775234131113,
          24.55775234131113,
          24.55775234131113,
          24.55775234131113,
          23.63403300753084,
          23.59700420642249,
          23.59700420642249,
          23.59700420642249,
          23.59700420642249,
          23.59700420642249,
          23.59700420642249,
          24.96494647925858,
          25.351541373715524,
          25.970115548195267,
          25.806451612903224,
          25.806451612903224,
          25.806451612903224,
          25.806451612903224,
          25.806451612903224,
          27.29322416043669,
          23.588329220496444,
          23.588329220496444,
          23.588329220496444,
          23.588329220496444,
          23.588329220496444,
          23.588329220496444,
          23.588329220496444,
          23.588329220496444,
          26.83864765261977,
          24.088223117166624,
          24.088223117166624,
          26.729927495071667,
          26.729927495071667,
          22.91303307000445,
          22.91303307000445,
          24.21875,
          24.61810377477591,
          24.62296091104956,
          24.62296091104956,
          24.62296091104956,
          24.62296091104956,
          24.62296091104956,
          22.27530991735537,
          22.27530991735537,
          22.27530991735537,
          22.27530991735537,
          22.27530991735537,
          22.27530991735537,
          22.27530991735537,
          22.27530991735537,
          22.27530991735537,
          22.27530991735537,
          23.4375,
          22.76146753597469,
          24.01308087921364,
          24.01308087921364,
          22.832879346258608,
          22.832879346258608,
          23.63403300753084,
          23.63403300753084,
          23.63403300753084,
          23.63403300753084,
          23.63403300753084,
          23.63403300753084,
          23.63403300753084,
          23.63403300753084,
          23.63403300753084,
          24.01308087921364,
          25.15589569160998,
          25.15589569160998,
          24.03460983816696,
          24.03460983816696,
          24.03460983816696,
          23.054562464499316,
          23.054562464499316,
          23.054562464499316,
          23.054562464499316,
          23.054562464499316,
          23.054562464499316,
          24.690405462752206,
          23.335466144755166,
          23.335466144755166,
          23.335466144755166,
          23.335466144755166,
          23.335466144755166,
          23.335466144755166,
          23.335466144755166,
          26.722872520606725,
          23.30668005306752,
          23.30668005306752,
          23.30668005306752,
          23.30668005306752,
          23.30668005306752,
          21.887076365377386,
          21.887076365377386,
          23.335466144755166,
          23.335466144755166,
          22.27530991735537,
          24.977043158861346,
          24.755464315903875,
          22.76146753597469,
          23.054562464499316,
          23.9188302920412,
          23.9188302920412,
          23.59700420642249,
          23.59700420642249,
          23.59700420642249,
          23.335466144755166,
          23.53304270668569,
          23.53304270668569,
          21.62964876033058,
          27.76709812465291,
          27.76709812465291,
          27.76709812465291,
          22.49963710262738,
          22.49963710262738,
          23.63403300753084,
          23.63403300753084,
          23.95122659311947,
          20.832529609197174,
          19.83516295612325,
          25.236340330075304,
          25.236340330075304,
          25.236340330075304,
          25.236340330075304,
          22.67573696145125,
          23.225431847873423,
          23.59700420642249,
          23.59700420642249,
          24.28097534284053,
          24.44727891156463,
          23.95122659311947,
          23.95122659311947,
          23.95122659311947,
          23.59700420642249,
          23.59700420642249,
          23.335466144755166,
          23.671253629592226,
          23.671253629592226,
          24.01308087921364,
          21.9671201814059,
          22.321428571428577,
          22.321428571428577,
          26.794938016528928,
          26.794938016528928,
          23.95122659311947,
          23.95122659311947,
          21.30394857667585,
          21.30394857667585,
          21.30394857667585,
          20.28479857195018,
          24.3910588392529,
          25.63691716071142,
          25.63691716071142,
          25.63691716071142,
          21.453573713726524,
          21.453573713726524,
          21.6712580348944,
          25.76571345623458,
          25.76571345623458,
          25.76571345623458,
          23.120623596247853,
          24.609375,
          23.87543252595156,
          23.87543252595156,
          23.87543252595156,
          23.87543252595156,
          23.87543252595156,
          23.87543252595156,
          23.87543252595156,
          23.87543252595156,
          23.87543252595156,
          23.87543252595156,
          23.87543252595156,
          21.545090797168363,
          21.545090797168363,
          21.545090797168363,
          22.20408163265306,
          23.225431847873423,
          23.225431847873423,
          23.225431847873423,
          23.225431847873423,
          24.01308087921364,
          21.936347412254616,
          21.936347412254616,
          21.936347412254616,
          21.936347412254616,
          21.936347412254616,
          21.936347412254616,
          21.936347412254616,
          25.390218522372525,
          24.01308087921364,
          25.099501595611173,
          21.35930624973301,
          24.91990032039872,
          24.91990032039872,
          24.91990032039872,
          24.91990032039872,
          22.386314277122523,
          23.335466144755166,
          25.180785123966945,
          25.180785123966945,
          19.5964581216432,
          23.63403300753084,
          23.63403300753084,
          23.711844630960897,
          23.711844630960897,
          23.711844630960897,
          23.711844630960897,
          25.20398137468495,
          25.20398137468495,
          24.01308087921364,
          22.76146753597469,
          22.892819979188346,
          24.3046178773967,
          23.66524436157625,
          23.66524436157625,
          23.66524436157625,
          23.722810651876102,
          23.49523687470631,
          22.386314277122523,
          22.386314277122523,
          25.03991871098853,
          23.795359904818564,
          23.795359904818564,
          21.38394199605733,
          21.38394199605733,
          22.72043837081092,
          22.72043837081092,
          22.72043837081092,
          22.72043837081092,
          22.72043837081092,
          22.72043837081092,
          23.243408017070564,
          24.01308087921364,
          20.904195011337876,
          25.03991871098853,
          25.03991871098853,
          24.44727891156463,
          22.91303307000445,
          22.031725684986377,
          24.01308087921364,
          24.01308087921364,
          24.01308087921364,
          22.76146753597469,
          22.76146753597469,
          23.63403300753084,
          23.63403300753084,
          23.63403300753084,
          23.63403300753084,
          23.63403300753084,
          24.01308087921364,
          25.15589569160998,
          25.15589569160998,
          25.15589569160998,
          25.15589569160998,
          25.15589569160998,
          25.15589569160998,
          25.15589569160998,
          25.15589569160998,
          22.76146753597469,
          23.63403300753084,
          23.63403300753084,
          23.63403300753084,
          25.34435261707989,
          25.34435261707989,
          24.01308087921364,
          24.01308087921364,
          23.63403300753084,
          24.01308087921364,
          20.70081674131507,
          20.983987603305785,
          22.27530991735537,
          23.38868655818771,
          21.98989236526368,
          29.33333333333333,
          29.33333333333333,
          25.3069320474676,
          22.321428571428577,
          22.321428571428577,
          22.321428571428577,
          24.01308087921364,
          23.63403300753084,
          21.20310522895934,
          23.335466144755166,
          23.335466144755166,
          23.335466144755166,
          23.335466144755166,
          23.722810651876102,
          23.722810651876102,
          24.857954545454547,
          24.857954545454547,
          24.01308087921364,
          24.01308087921364,
          24.83576349943919,
          24.83576349943919,
          24.83576349943919,
          24.83576349943919,
          24.83576349943919,
          24.83576349943919,
          24.01308087921364,
          23.384353741496604,
          23.722810651876102,
          23.9188302920412,
          23.9188302920412,
          24.01308087921364,
          22.49963710262738,
          24.01308087921364,
          21.306818181818183,
          21.306818181818183,
          21.306818181818183,
          21.9671201814059,
          22.95908765854944,
          21.97735111870822,
          21.97735111870822,
          21.97735111870822,
          21.97735111870822,
          24.01308087921364,
          23.711844630960897,
          23.711844630960897,
          24.158817968558527,
          24.158817968558527,
          24.158817968558527,
          24.158817968558527,
          24.158817968558527,
          24.158817968558527,
          24.158817968558527,
          24.158817968558527,
          24.158817968558527,
          20.576131687242796,
          24.44727891156463,
          24.44727891156463,
          25.15589569160998,
          25.15589569160998,
          24.088223117166624,
          24.088223117166624,
          23.59700420642249,
          19.53125,
          25.654372397382517,
          21.230572023714146,
          24.96494647925858,
          24.01308087921364,
          26.722872520606725,
          26.722872520606725,
          26.722872520606725,
          26.722872520606725,
          22.20633068613798,
          22.20633068613798,
          24.01308087921364,
          24.01308087921364,
          24.01308087921364,
          24.01308087921364,
          21.612811791383223,
          25.24933720489837,
          23.9188302920412,
          23.9188302920412,
          24.167162403331357,
          24.167162403331357,
          24.167162403331357,
          24.167162403331357,
          24.167162403331357,
          24.167162403331357,
          25.099501595611173,
          23.9188302920412,
          23.030045351473927,
          23.875114784205696,
          24.801587301587304,
          25.64891761567662,
          25.64891761567662,
          25.64891761567662,
          24.01308087921364,
          27.005130974885223,
          27.005130974885223,
          24.44727891156463,
          24.44727891156463,
          24.088223117166624,
          23.25501863821347,
          20.761245674740486,
          22.375679950619187,
          22.4813290656912,
          22.4813290656912,
          22.4813290656912,
          22.4813290656912,
          22.4813290656912,
          22.4813290656912,
          22.4813290656912,
          22.4813290656912,
          25.15589569160998,
          24.690405462752206,
          24.690405462752206,
          24.690405462752206,
          24.690405462752206,
          24.690405462752206,
          24.44727891156463,
          24.44727891156463,
          24.44727891156463,
          25.076193048107708,
          25.461980633463213,
          22.72043837081092,
          25.510204081632654,
          25.510204081632654,
          25.510204081632654,
          23.030045351473927,
          24.01308087921364,
          22.582709172343712,
          26.491508201480624,
          22.571047501795427,
          23.1404958677686,
          24.31412396574249,
          24.31412396574249,
          24.31412396574249,
          24.31412396574249,
          21.82995219993225,
          21.82995219993225,
          21.82995219993225,
          21.82995219993225,
          21.82995219993225,
          21.82995219993225,
          21.82995219993225,
          21.82995219993225,
          22.27530991735537,
          24.44727891156463,
          24.44727891156463,
          24.44727891156463,
          24.44727891156463,
          24.44727891156463,
          24.44727891156463,
          24.44727891156463,
          24.44727891156463,
          24.96494647925858,
          24.96494647925858,
          24.96494647925858,
          24.96494647925858,
          24.96494647925858,
          24.01308087921364,
          22.27530991735537,
          22.27530991735537,
          24.62296091104956,
          24.62296091104956,
          24.62296091104956,
          24.62296091104956,
          23.671253629592226,
          23.671253629592226,
          22.49963710262738,
          26.61934338952972,
          23.711844630960897,
          23.711844630960897,
          25.63691716071142,
          25.63691716071142,
          24.690405462752206,
          24.690405462752206,
          22.758306781975424,
          23.225431847873423,
          23.046875,
          23.046875,
          23.046875,
          24.01308087921364,
          22.91303307000445,
          23.87543252595156,
          26.23355580417422,
          25.461980633463213,
          25.461980633463213,
          25.461980633463213,
          27.548209366391188,
          23.875114784205696,
          23.875114784205696,
          23.875114784205696,
          23.875114784205696,
          20.177148524332274,
          28.444444444444443,
          28.444444444444443,
          20.177148524332274,
          25.393431120318084,
          22.67573696145125,
          24.28097534284053,
          24.84098008957808,
          25.806451612903224,
          24.609375,
          24.801587301587304,
          24.801587301587304,
          24.221453287197235,
          26.1286108288576,
          23.030045351473927,
          23.233456176894723,
          23.335466144755166,
          23.335466144755166,
          23.335466144755166,
          23.335466144755166,
          23.25501863821347,
          26.22222222222222,
          27.85200797922391,
          24.3046178773967,
          23.92242299970097,
          23.66524436157625,
          24.87771968291449,
          24.023808670084986,
          24.023808670084986,
          24.023808670084986,
          24.690405462752206,
          24.690405462752206,
          24.690405462752206,
          24.690405462752206,
          24.690405462752206,
          24.690405462752206,
          24.690405462752206,
          24.03460983816696,
          24.03460983816696,
          24.03460983816696,
          24.03460983816696,
          24.03460983816696,
          24.03460983816696,
          23.233456176894723,
          23.95122659311947,
          25.390218522372525,
          25.390218522372525,
          24.01308087921364,
          24.221453287197235,
          22.13673973000436,
          22.76146753597469,
          23.87543252595156,
          24.56747404844291,
          24.56747404844291,
          23.87543252595156,
          23.529411764705884,
          22.4813290656912,
          23.243408017070564,
          25.03991871098853,
          23.384353741496604,
          24.01308087921364,
          24.163265306122447,
          22.54657648036074,
          22.476586888657646,
          23.53036634346221,
          26.48553974966893,
          23.828125,
          24.088223117166624,
          24.088223117166624,
          23.051754907792983,
          22.79032897344431,
          24.088223117166624,
          25.21735857578381,
          25.34435261707989,
          25.34435261707989,
          24.01308087921364,
          23.87543252595156,
          23.87543252595156,
          23.87543252595156,
          24.111507464658477,
          31.61177324960485,
          23.233456176894723,
          25.76571345623458,
          24.03460983816696,
          24.03460983816696,
          24.67105263157895,
          29.737044338267232,
          25.78125,
          25.076193048107708,
          25.076193048107708,
          25.076193048107708,
          24.01308087921364,
          25.88757396449704,
          25.88757396449704,
          23.795359904818564,
          23.233456176894723,
          21.20310522895934,
          21.20310522895934,
          23.53036634346221,
          24.221453287197235,
          24.221453287197235,
          24.221453287197235,
          24.221453287197235,
          24.221453287197235,
          24.84098008957808,
          24.84098008957808,
          24.84098008957808,
          24.84098008957808,
          24.84098008957808,
          23.30668005306752,
          24.01308087921364,
          24.01308087921364,
          25.510204081632654,
          21.453573713726524,
          22.308149910767405,
          24.38237297859371,
          22.34351559258195,
          27.636054421768712,
          27.281746031746035,
          27.281746031746035,
          27.636054421768712,
          23.55555555555556,
          21.887076365377386,
          21.887076365377386,
          21.887076365377386,
          21.887076365377386,
          22.30935640886966,
          24.91990032039872,
          24.977043158861346,
          21.9671201814059,
          23.38868655818771,
          24.913494809688583,
          24.913494809688583,
          24.913494809688583,
          24.01308087921364,
          21.82995219993225,
          23.423557406305772,
          25.95155709342561,
          25.95155709342561,
          25.95155709342561,
          25.95155709342561,
          24.977043158861346,
          25.854639471416256,
          23.120623596247853,
          26.61934338952972,
          23.95122659311947,
          24.01308087921364,
          24.092970521541957,
          24.092970521541957,
          28.282828282828287,
          25.970115548195267,
          23.711844630960897,
          23.63403300753084,
          24.62296091104956,
          23.49523687470631,
          24.01308087921364,
          23.147255121330197,
          21.453573713726524,
          26.61934338952972,
          28.577960676726104,
          28.577960676726104,
          24.97398543184183,
          22.49963710262738,
          23.95122659311947,
          24.01308087921364,
          21.92612582222972,
          22.857142857142858,
          25.816630212628635,
          25.816630212628635,
          25.099501595611173,
          21.887076365377386,
          22.832879346258608,
          22.265625,
          25.06574621959237,
          26.722872520606725,
          24.97398543184183,
          21.92612582222972,
          25.34435261707989,
          23.87543252595156,
          23.4375,
          24.44727891156463,
          15.65617029872983,
          23.9188302920412,
          23.9188302920412,
          23.030045351473927,
          23.225431847873423,
          24.141519250780437,
          25.15589569160998,
          25.15589569160998,
          22.265625,
          25.15589569160998,
          25.15589569160998,
          25.86451247165533,
          24.01308087921364,
          24.01308087921364,
          22.308149910767405,
          24.46460160337235,
          24.690405462752206,
          24.088223117166624,
          26.502116213757365,
          24.01308087921364,
          24.01308087921364,
          23.225431847873423,
          24.341758286340216,
          24.01308087921364,
          24.01308087921364,
          24.01308087921364,
          24.01308087921364,
          24.01308087921364,
          24.01308087921364,
          24.01308087921364,
          24.01308087921364,
          24.01308087921364,
          24.01308087921364,
          24.01308087921364,
          24.01308087921364,
          24.01308087921364,
          24.01308087921364,
          24.01308087921364,
          24.01308087921364,
          24.01308087921364,
          24.01308087921364,
          24.01308087921364,
          24.01308087921364,
          24.01308087921364,
          24.01308087921364,
          24.01308087921364,
          24.01308087921364,
          24.01308087921364,
          24.01308087921364,
          24.01308087921364,
          24.01308087921364,
          24.01308087921364,
          24.01308087921364,
          24.01308087921364,
          24.01308087921364,
          24.01308087921364,
          24.01308087921364,
          24.01308087921364,
          24.01308087921364,
          24.01308087921364,
          24.01308087921364,
          24.01308087921364,
          24.01308087921364
         ],
         "xaxis": "x",
         "yaxis": "y"
        }
       ],
       "layout": {
        "barmode": "relative",
        "legend": {
         "title": {
          "text": "Gender"
         },
         "tracegroupgap": 0
        },
        "template": {
         "data": {
          "bar": [
           {
            "error_x": {
             "color": "#2a3f5f"
            },
            "error_y": {
             "color": "#2a3f5f"
            },
            "marker": {
             "line": {
              "color": "#E5ECF6",
              "width": 0.5
             },
             "pattern": {
              "fillmode": "overlay",
              "size": 10,
              "solidity": 0.2
             }
            },
            "type": "bar"
           }
          ],
          "barpolar": [
           {
            "marker": {
             "line": {
              "color": "#E5ECF6",
              "width": 0.5
             },
             "pattern": {
              "fillmode": "overlay",
              "size": 10,
              "solidity": 0.2
             }
            },
            "type": "barpolar"
           }
          ],
          "carpet": [
           {
            "aaxis": {
             "endlinecolor": "#2a3f5f",
             "gridcolor": "white",
             "linecolor": "white",
             "minorgridcolor": "white",
             "startlinecolor": "#2a3f5f"
            },
            "baxis": {
             "endlinecolor": "#2a3f5f",
             "gridcolor": "white",
             "linecolor": "white",
             "minorgridcolor": "white",
             "startlinecolor": "#2a3f5f"
            },
            "type": "carpet"
           }
          ],
          "choropleth": [
           {
            "colorbar": {
             "outlinewidth": 0,
             "ticks": ""
            },
            "type": "choropleth"
           }
          ],
          "contour": [
           {
            "colorbar": {
             "outlinewidth": 0,
             "ticks": ""
            },
            "colorscale": [
             [
              0,
              "#0d0887"
             ],
             [
              0.1111111111111111,
              "#46039f"
             ],
             [
              0.2222222222222222,
              "#7201a8"
             ],
             [
              0.3333333333333333,
              "#9c179e"
             ],
             [
              0.4444444444444444,
              "#bd3786"
             ],
             [
              0.5555555555555556,
              "#d8576b"
             ],
             [
              0.6666666666666666,
              "#ed7953"
             ],
             [
              0.7777777777777778,
              "#fb9f3a"
             ],
             [
              0.8888888888888888,
              "#fdca26"
             ],
             [
              1,
              "#f0f921"
             ]
            ],
            "type": "contour"
           }
          ],
          "contourcarpet": [
           {
            "colorbar": {
             "outlinewidth": 0,
             "ticks": ""
            },
            "type": "contourcarpet"
           }
          ],
          "heatmap": [
           {
            "colorbar": {
             "outlinewidth": 0,
             "ticks": ""
            },
            "colorscale": [
             [
              0,
              "#0d0887"
             ],
             [
              0.1111111111111111,
              "#46039f"
             ],
             [
              0.2222222222222222,
              "#7201a8"
             ],
             [
              0.3333333333333333,
              "#9c179e"
             ],
             [
              0.4444444444444444,
              "#bd3786"
             ],
             [
              0.5555555555555556,
              "#d8576b"
             ],
             [
              0.6666666666666666,
              "#ed7953"
             ],
             [
              0.7777777777777778,
              "#fb9f3a"
             ],
             [
              0.8888888888888888,
              "#fdca26"
             ],
             [
              1,
              "#f0f921"
             ]
            ],
            "type": "heatmap"
           }
          ],
          "heatmapgl": [
           {
            "colorbar": {
             "outlinewidth": 0,
             "ticks": ""
            },
            "colorscale": [
             [
              0,
              "#0d0887"
             ],
             [
              0.1111111111111111,
              "#46039f"
             ],
             [
              0.2222222222222222,
              "#7201a8"
             ],
             [
              0.3333333333333333,
              "#9c179e"
             ],
             [
              0.4444444444444444,
              "#bd3786"
             ],
             [
              0.5555555555555556,
              "#d8576b"
             ],
             [
              0.6666666666666666,
              "#ed7953"
             ],
             [
              0.7777777777777778,
              "#fb9f3a"
             ],
             [
              0.8888888888888888,
              "#fdca26"
             ],
             [
              1,
              "#f0f921"
             ]
            ],
            "type": "heatmapgl"
           }
          ],
          "histogram": [
           {
            "marker": {
             "pattern": {
              "fillmode": "overlay",
              "size": 10,
              "solidity": 0.2
             }
            },
            "type": "histogram"
           }
          ],
          "histogram2d": [
           {
            "colorbar": {
             "outlinewidth": 0,
             "ticks": ""
            },
            "colorscale": [
             [
              0,
              "#0d0887"
             ],
             [
              0.1111111111111111,
              "#46039f"
             ],
             [
              0.2222222222222222,
              "#7201a8"
             ],
             [
              0.3333333333333333,
              "#9c179e"
             ],
             [
              0.4444444444444444,
              "#bd3786"
             ],
             [
              0.5555555555555556,
              "#d8576b"
             ],
             [
              0.6666666666666666,
              "#ed7953"
             ],
             [
              0.7777777777777778,
              "#fb9f3a"
             ],
             [
              0.8888888888888888,
              "#fdca26"
             ],
             [
              1,
              "#f0f921"
             ]
            ],
            "type": "histogram2d"
           }
          ],
          "histogram2dcontour": [
           {
            "colorbar": {
             "outlinewidth": 0,
             "ticks": ""
            },
            "colorscale": [
             [
              0,
              "#0d0887"
             ],
             [
              0.1111111111111111,
              "#46039f"
             ],
             [
              0.2222222222222222,
              "#7201a8"
             ],
             [
              0.3333333333333333,
              "#9c179e"
             ],
             [
              0.4444444444444444,
              "#bd3786"
             ],
             [
              0.5555555555555556,
              "#d8576b"
             ],
             [
              0.6666666666666666,
              "#ed7953"
             ],
             [
              0.7777777777777778,
              "#fb9f3a"
             ],
             [
              0.8888888888888888,
              "#fdca26"
             ],
             [
              1,
              "#f0f921"
             ]
            ],
            "type": "histogram2dcontour"
           }
          ],
          "mesh3d": [
           {
            "colorbar": {
             "outlinewidth": 0,
             "ticks": ""
            },
            "type": "mesh3d"
           }
          ],
          "parcoords": [
           {
            "line": {
             "colorbar": {
              "outlinewidth": 0,
              "ticks": ""
             }
            },
            "type": "parcoords"
           }
          ],
          "pie": [
           {
            "automargin": true,
            "type": "pie"
           }
          ],
          "scatter": [
           {
            "fillpattern": {
             "fillmode": "overlay",
             "size": 10,
             "solidity": 0.2
            },
            "type": "scatter"
           }
          ],
          "scatter3d": [
           {
            "line": {
             "colorbar": {
              "outlinewidth": 0,
              "ticks": ""
             }
            },
            "marker": {
             "colorbar": {
              "outlinewidth": 0,
              "ticks": ""
             }
            },
            "type": "scatter3d"
           }
          ],
          "scattercarpet": [
           {
            "marker": {
             "colorbar": {
              "outlinewidth": 0,
              "ticks": ""
             }
            },
            "type": "scattercarpet"
           }
          ],
          "scattergeo": [
           {
            "marker": {
             "colorbar": {
              "outlinewidth": 0,
              "ticks": ""
             }
            },
            "type": "scattergeo"
           }
          ],
          "scattergl": [
           {
            "marker": {
             "colorbar": {
              "outlinewidth": 0,
              "ticks": ""
             }
            },
            "type": "scattergl"
           }
          ],
          "scattermapbox": [
           {
            "marker": {
             "colorbar": {
              "outlinewidth": 0,
              "ticks": ""
             }
            },
            "type": "scattermapbox"
           }
          ],
          "scatterpolar": [
           {
            "marker": {
             "colorbar": {
              "outlinewidth": 0,
              "ticks": ""
             }
            },
            "type": "scatterpolar"
           }
          ],
          "scatterpolargl": [
           {
            "marker": {
             "colorbar": {
              "outlinewidth": 0,
              "ticks": ""
             }
            },
            "type": "scatterpolargl"
           }
          ],
          "scatterternary": [
           {
            "marker": {
             "colorbar": {
              "outlinewidth": 0,
              "ticks": ""
             }
            },
            "type": "scatterternary"
           }
          ],
          "surface": [
           {
            "colorbar": {
             "outlinewidth": 0,
             "ticks": ""
            },
            "colorscale": [
             [
              0,
              "#0d0887"
             ],
             [
              0.1111111111111111,
              "#46039f"
             ],
             [
              0.2222222222222222,
              "#7201a8"
             ],
             [
              0.3333333333333333,
              "#9c179e"
             ],
             [
              0.4444444444444444,
              "#bd3786"
             ],
             [
              0.5555555555555556,
              "#d8576b"
             ],
             [
              0.6666666666666666,
              "#ed7953"
             ],
             [
              0.7777777777777778,
              "#fb9f3a"
             ],
             [
              0.8888888888888888,
              "#fdca26"
             ],
             [
              1,
              "#f0f921"
             ]
            ],
            "type": "surface"
           }
          ],
          "table": [
           {
            "cells": {
             "fill": {
              "color": "#EBF0F8"
             },
             "line": {
              "color": "white"
             }
            },
            "header": {
             "fill": {
              "color": "#C8D4E3"
             },
             "line": {
              "color": "white"
             }
            },
            "type": "table"
           }
          ]
         },
         "layout": {
          "annotationdefaults": {
           "arrowcolor": "#2a3f5f",
           "arrowhead": 0,
           "arrowwidth": 1
          },
          "autotypenumbers": "strict",
          "coloraxis": {
           "colorbar": {
            "outlinewidth": 0,
            "ticks": ""
           }
          },
          "colorscale": {
           "diverging": [
            [
             0,
             "#8e0152"
            ],
            [
             0.1,
             "#c51b7d"
            ],
            [
             0.2,
             "#de77ae"
            ],
            [
             0.3,
             "#f1b6da"
            ],
            [
             0.4,
             "#fde0ef"
            ],
            [
             0.5,
             "#f7f7f7"
            ],
            [
             0.6,
             "#e6f5d0"
            ],
            [
             0.7,
             "#b8e186"
            ],
            [
             0.8,
             "#7fbc41"
            ],
            [
             0.9,
             "#4d9221"
            ],
            [
             1,
             "#276419"
            ]
           ],
           "sequential": [
            [
             0,
             "#0d0887"
            ],
            [
             0.1111111111111111,
             "#46039f"
            ],
            [
             0.2222222222222222,
             "#7201a8"
            ],
            [
             0.3333333333333333,
             "#9c179e"
            ],
            [
             0.4444444444444444,
             "#bd3786"
            ],
            [
             0.5555555555555556,
             "#d8576b"
            ],
            [
             0.6666666666666666,
             "#ed7953"
            ],
            [
             0.7777777777777778,
             "#fb9f3a"
            ],
            [
             0.8888888888888888,
             "#fdca26"
            ],
            [
             1,
             "#f0f921"
            ]
           ],
           "sequentialminus": [
            [
             0,
             "#0d0887"
            ],
            [
             0.1111111111111111,
             "#46039f"
            ],
            [
             0.2222222222222222,
             "#7201a8"
            ],
            [
             0.3333333333333333,
             "#9c179e"
            ],
            [
             0.4444444444444444,
             "#bd3786"
            ],
            [
             0.5555555555555556,
             "#d8576b"
            ],
            [
             0.6666666666666666,
             "#ed7953"
            ],
            [
             0.7777777777777778,
             "#fb9f3a"
            ],
            [
             0.8888888888888888,
             "#fdca26"
            ],
            [
             1,
             "#f0f921"
            ]
           ]
          },
          "colorway": [
           "#636efa",
           "#EF553B",
           "#00cc96",
           "#ab63fa",
           "#FFA15A",
           "#19d3f3",
           "#FF6692",
           "#B6E880",
           "#FF97FF",
           "#FECB52"
          ],
          "font": {
           "color": "#2a3f5f"
          },
          "geo": {
           "bgcolor": "white",
           "lakecolor": "white",
           "landcolor": "#E5ECF6",
           "showlakes": true,
           "showland": true,
           "subunitcolor": "white"
          },
          "hoverlabel": {
           "align": "left"
          },
          "hovermode": "closest",
          "mapbox": {
           "style": "light"
          },
          "paper_bgcolor": "white",
          "plot_bgcolor": "#E5ECF6",
          "polar": {
           "angularaxis": {
            "gridcolor": "white",
            "linecolor": "white",
            "ticks": ""
           },
           "bgcolor": "#E5ECF6",
           "radialaxis": {
            "gridcolor": "white",
            "linecolor": "white",
            "ticks": ""
           }
          },
          "scene": {
           "xaxis": {
            "backgroundcolor": "#E5ECF6",
            "gridcolor": "white",
            "gridwidth": 2,
            "linecolor": "white",
            "showbackground": true,
            "ticks": "",
            "zerolinecolor": "white"
           },
           "yaxis": {
            "backgroundcolor": "#E5ECF6",
            "gridcolor": "white",
            "gridwidth": 2,
            "linecolor": "white",
            "showbackground": true,
            "ticks": "",
            "zerolinecolor": "white"
           },
           "zaxis": {
            "backgroundcolor": "#E5ECF6",
            "gridcolor": "white",
            "gridwidth": 2,
            "linecolor": "white",
            "showbackground": true,
            "ticks": "",
            "zerolinecolor": "white"
           }
          },
          "shapedefaults": {
           "line": {
            "color": "#2a3f5f"
           }
          },
          "ternary": {
           "aaxis": {
            "gridcolor": "white",
            "linecolor": "white",
            "ticks": ""
           },
           "baxis": {
            "gridcolor": "white",
            "linecolor": "white",
            "ticks": ""
           },
           "bgcolor": "#E5ECF6",
           "caxis": {
            "gridcolor": "white",
            "linecolor": "white",
            "ticks": ""
           }
          },
          "title": {
           "x": 0.05
          },
          "xaxis": {
           "automargin": true,
           "gridcolor": "white",
           "linecolor": "white",
           "ticks": "",
           "title": {
            "standoff": 15
           },
           "zerolinecolor": "white",
           "zerolinewidth": 2
          },
          "yaxis": {
           "automargin": true,
           "gridcolor": "white",
           "linecolor": "white",
           "ticks": "",
           "title": {
            "standoff": 15
           },
           "zerolinecolor": "white",
           "zerolinewidth": 2
          }
         }
        },
        "title": {
         "text": "bmi Distribution by Gender"
        },
        "xaxis": {
         "anchor": "y",
         "domain": [
          0,
          1
         ],
         "title": {
          "text": "bmi"
         }
        },
        "yaxis": {
         "anchor": "x",
         "domain": [
          0,
          1
         ],
         "title": {
          "text": "count"
         }
        }
       }
      }
     },
     "metadata": {},
     "output_type": "display_data"
    }
   ],
   "source": [
    "# Loop over each numeric column in numerical_games\n",
    "for column in numerical_games[['height', 'weight', 'bmi']].columns:\n",
    "    # Create a histogram with breakdown by 'genderId'\n",
    "    fig = px.histogram(\n",
    "        numerical_games,\n",
    "        x=column,\n",
    "        color='genderId',\n",
    "        nbins=20,\n",
    "        title=f\"{column} Distribution by Gender\",\n",
    "        labels={'genderId': 'Gender', column: column},\n",
    "        opacity=0.7,\n",
    "    )\n",
    "\n",
    "    # Show the plot\n",
    "    fig.show()"
   ]
  },
  {
   "cell_type": "markdown",
   "metadata": {},
   "source": [
    "##### Categorical Variables"
   ]
  },
  {
   "cell_type": "code",
   "execution_count": 10,
   "metadata": {},
   "outputs": [
    {
     "data": {
      "text/html": [
       "<div>\n",
       "<style scoped>\n",
       "    .dataframe tbody tr th:only-of-type {\n",
       "        vertical-align: middle;\n",
       "    }\n",
       "\n",
       "    .dataframe tbody tr th {\n",
       "        vertical-align: top;\n",
       "    }\n",
       "\n",
       "    .dataframe thead th {\n",
       "        text-align: right;\n",
       "    }\n",
       "</style>\n",
       "<table border=\"1\" class=\"dataframe\">\n",
       "  <thead>\n",
       "    <tr style=\"text-align: right;\">\n",
       "      <th></th>\n",
       "      <th>count</th>\n",
       "      <th>unique</th>\n",
       "      <th>top</th>\n",
       "      <th>freq</th>\n",
       "    </tr>\n",
       "  </thead>\n",
       "  <tbody>\n",
       "    <tr>\n",
       "      <th>competitorName</th>\n",
       "      <td>1633</td>\n",
       "      <td>951</td>\n",
       "      <td>Annie Thorisdottir</td>\n",
       "      <td>11</td>\n",
       "    </tr>\n",
       "    <tr>\n",
       "      <th>firstName</th>\n",
       "      <td>1633</td>\n",
       "      <td>624</td>\n",
       "      <td>Jason</td>\n",
       "      <td>21</td>\n",
       "    </tr>\n",
       "    <tr>\n",
       "      <th>lastName</th>\n",
       "      <td>1632</td>\n",
       "      <td>846</td>\n",
       "      <td>Smith</td>\n",
       "      <td>31</td>\n",
       "    </tr>\n",
       "    <tr>\n",
       "      <th>gender</th>\n",
       "      <td>1633</td>\n",
       "      <td>2</td>\n",
       "      <td>M</td>\n",
       "      <td>880</td>\n",
       "    </tr>\n",
       "    <tr>\n",
       "      <th>affiliateName</th>\n",
       "      <td>839</td>\n",
       "      <td>448</td>\n",
       "      <td>CrossFit Mayhem</td>\n",
       "      <td>17</td>\n",
       "    </tr>\n",
       "    <tr>\n",
       "      <th>countryOfOriginName</th>\n",
       "      <td>1140</td>\n",
       "      <td>115</td>\n",
       "      <td>United States</td>\n",
       "      <td>596</td>\n",
       "    </tr>\n",
       "    <tr>\n",
       "      <th>regionName</th>\n",
       "      <td>1178</td>\n",
       "      <td>7</td>\n",
       "      <td>North America</td>\n",
       "      <td>694</td>\n",
       "    </tr>\n",
       "    <tr>\n",
       "      <th>status</th>\n",
       "      <td>1633</td>\n",
       "      <td>5</td>\n",
       "      <td>ACT</td>\n",
       "      <td>909</td>\n",
       "    </tr>\n",
       "  </tbody>\n",
       "</table>\n",
       "</div>"
      ],
      "text/plain": [
       "                    count unique                 top freq\n",
       "competitorName       1633    951  Annie Thorisdottir   11\n",
       "firstName            1633    624               Jason   21\n",
       "lastName             1632    846               Smith   31\n",
       "gender               1633      2                   M  880\n",
       "affiliateName         839    448     CrossFit Mayhem   17\n",
       "countryOfOriginName  1140    115       United States  596\n",
       "regionName           1178      7       North America  694\n",
       "status               1633      5                 ACT  909"
      ]
     },
     "execution_count": 10,
     "metadata": {},
     "output_type": "execute_result"
    }
   ],
   "source": [
    "categorical_games = df_games_and_open.select_dtypes(include=[object])\n",
    "categorical_games.describe().T"
   ]
  },
  {
   "cell_type": "code",
   "execution_count": 11,
   "metadata": {},
   "outputs": [
    {
     "data": {
      "application/vnd.plotly.v1+json": {
       "config": {
        "plotlyServerURL": "https://plot.ly"
       },
       "data": [
        {
         "name": "status Distribution",
         "type": "bar",
         "x": [
          "ACT",
          "CUT",
          "DNF",
          "DQ",
          "WD"
         ],
         "y": [
          909,
          650,
          10,
          6,
          58
         ]
        }
       ],
       "layout": {
        "template": {
         "data": {
          "bar": [
           {
            "error_x": {
             "color": "#2a3f5f"
            },
            "error_y": {
             "color": "#2a3f5f"
            },
            "marker": {
             "line": {
              "color": "#E5ECF6",
              "width": 0.5
             },
             "pattern": {
              "fillmode": "overlay",
              "size": 10,
              "solidity": 0.2
             }
            },
            "type": "bar"
           }
          ],
          "barpolar": [
           {
            "marker": {
             "line": {
              "color": "#E5ECF6",
              "width": 0.5
             },
             "pattern": {
              "fillmode": "overlay",
              "size": 10,
              "solidity": 0.2
             }
            },
            "type": "barpolar"
           }
          ],
          "carpet": [
           {
            "aaxis": {
             "endlinecolor": "#2a3f5f",
             "gridcolor": "white",
             "linecolor": "white",
             "minorgridcolor": "white",
             "startlinecolor": "#2a3f5f"
            },
            "baxis": {
             "endlinecolor": "#2a3f5f",
             "gridcolor": "white",
             "linecolor": "white",
             "minorgridcolor": "white",
             "startlinecolor": "#2a3f5f"
            },
            "type": "carpet"
           }
          ],
          "choropleth": [
           {
            "colorbar": {
             "outlinewidth": 0,
             "ticks": ""
            },
            "type": "choropleth"
           }
          ],
          "contour": [
           {
            "colorbar": {
             "outlinewidth": 0,
             "ticks": ""
            },
            "colorscale": [
             [
              0,
              "#0d0887"
             ],
             [
              0.1111111111111111,
              "#46039f"
             ],
             [
              0.2222222222222222,
              "#7201a8"
             ],
             [
              0.3333333333333333,
              "#9c179e"
             ],
             [
              0.4444444444444444,
              "#bd3786"
             ],
             [
              0.5555555555555556,
              "#d8576b"
             ],
             [
              0.6666666666666666,
              "#ed7953"
             ],
             [
              0.7777777777777778,
              "#fb9f3a"
             ],
             [
              0.8888888888888888,
              "#fdca26"
             ],
             [
              1,
              "#f0f921"
             ]
            ],
            "type": "contour"
           }
          ],
          "contourcarpet": [
           {
            "colorbar": {
             "outlinewidth": 0,
             "ticks": ""
            },
            "type": "contourcarpet"
           }
          ],
          "heatmap": [
           {
            "colorbar": {
             "outlinewidth": 0,
             "ticks": ""
            },
            "colorscale": [
             [
              0,
              "#0d0887"
             ],
             [
              0.1111111111111111,
              "#46039f"
             ],
             [
              0.2222222222222222,
              "#7201a8"
             ],
             [
              0.3333333333333333,
              "#9c179e"
             ],
             [
              0.4444444444444444,
              "#bd3786"
             ],
             [
              0.5555555555555556,
              "#d8576b"
             ],
             [
              0.6666666666666666,
              "#ed7953"
             ],
             [
              0.7777777777777778,
              "#fb9f3a"
             ],
             [
              0.8888888888888888,
              "#fdca26"
             ],
             [
              1,
              "#f0f921"
             ]
            ],
            "type": "heatmap"
           }
          ],
          "heatmapgl": [
           {
            "colorbar": {
             "outlinewidth": 0,
             "ticks": ""
            },
            "colorscale": [
             [
              0,
              "#0d0887"
             ],
             [
              0.1111111111111111,
              "#46039f"
             ],
             [
              0.2222222222222222,
              "#7201a8"
             ],
             [
              0.3333333333333333,
              "#9c179e"
             ],
             [
              0.4444444444444444,
              "#bd3786"
             ],
             [
              0.5555555555555556,
              "#d8576b"
             ],
             [
              0.6666666666666666,
              "#ed7953"
             ],
             [
              0.7777777777777778,
              "#fb9f3a"
             ],
             [
              0.8888888888888888,
              "#fdca26"
             ],
             [
              1,
              "#f0f921"
             ]
            ],
            "type": "heatmapgl"
           }
          ],
          "histogram": [
           {
            "marker": {
             "pattern": {
              "fillmode": "overlay",
              "size": 10,
              "solidity": 0.2
             }
            },
            "type": "histogram"
           }
          ],
          "histogram2d": [
           {
            "colorbar": {
             "outlinewidth": 0,
             "ticks": ""
            },
            "colorscale": [
             [
              0,
              "#0d0887"
             ],
             [
              0.1111111111111111,
              "#46039f"
             ],
             [
              0.2222222222222222,
              "#7201a8"
             ],
             [
              0.3333333333333333,
              "#9c179e"
             ],
             [
              0.4444444444444444,
              "#bd3786"
             ],
             [
              0.5555555555555556,
              "#d8576b"
             ],
             [
              0.6666666666666666,
              "#ed7953"
             ],
             [
              0.7777777777777778,
              "#fb9f3a"
             ],
             [
              0.8888888888888888,
              "#fdca26"
             ],
             [
              1,
              "#f0f921"
             ]
            ],
            "type": "histogram2d"
           }
          ],
          "histogram2dcontour": [
           {
            "colorbar": {
             "outlinewidth": 0,
             "ticks": ""
            },
            "colorscale": [
             [
              0,
              "#0d0887"
             ],
             [
              0.1111111111111111,
              "#46039f"
             ],
             [
              0.2222222222222222,
              "#7201a8"
             ],
             [
              0.3333333333333333,
              "#9c179e"
             ],
             [
              0.4444444444444444,
              "#bd3786"
             ],
             [
              0.5555555555555556,
              "#d8576b"
             ],
             [
              0.6666666666666666,
              "#ed7953"
             ],
             [
              0.7777777777777778,
              "#fb9f3a"
             ],
             [
              0.8888888888888888,
              "#fdca26"
             ],
             [
              1,
              "#f0f921"
             ]
            ],
            "type": "histogram2dcontour"
           }
          ],
          "mesh3d": [
           {
            "colorbar": {
             "outlinewidth": 0,
             "ticks": ""
            },
            "type": "mesh3d"
           }
          ],
          "parcoords": [
           {
            "line": {
             "colorbar": {
              "outlinewidth": 0,
              "ticks": ""
             }
            },
            "type": "parcoords"
           }
          ],
          "pie": [
           {
            "automargin": true,
            "type": "pie"
           }
          ],
          "scatter": [
           {
            "fillpattern": {
             "fillmode": "overlay",
             "size": 10,
             "solidity": 0.2
            },
            "type": "scatter"
           }
          ],
          "scatter3d": [
           {
            "line": {
             "colorbar": {
              "outlinewidth": 0,
              "ticks": ""
             }
            },
            "marker": {
             "colorbar": {
              "outlinewidth": 0,
              "ticks": ""
             }
            },
            "type": "scatter3d"
           }
          ],
          "scattercarpet": [
           {
            "marker": {
             "colorbar": {
              "outlinewidth": 0,
              "ticks": ""
             }
            },
            "type": "scattercarpet"
           }
          ],
          "scattergeo": [
           {
            "marker": {
             "colorbar": {
              "outlinewidth": 0,
              "ticks": ""
             }
            },
            "type": "scattergeo"
           }
          ],
          "scattergl": [
           {
            "marker": {
             "colorbar": {
              "outlinewidth": 0,
              "ticks": ""
             }
            },
            "type": "scattergl"
           }
          ],
          "scattermapbox": [
           {
            "marker": {
             "colorbar": {
              "outlinewidth": 0,
              "ticks": ""
             }
            },
            "type": "scattermapbox"
           }
          ],
          "scatterpolar": [
           {
            "marker": {
             "colorbar": {
              "outlinewidth": 0,
              "ticks": ""
             }
            },
            "type": "scatterpolar"
           }
          ],
          "scatterpolargl": [
           {
            "marker": {
             "colorbar": {
              "outlinewidth": 0,
              "ticks": ""
             }
            },
            "type": "scatterpolargl"
           }
          ],
          "scatterternary": [
           {
            "marker": {
             "colorbar": {
              "outlinewidth": 0,
              "ticks": ""
             }
            },
            "type": "scatterternary"
           }
          ],
          "surface": [
           {
            "colorbar": {
             "outlinewidth": 0,
             "ticks": ""
            },
            "colorscale": [
             [
              0,
              "#0d0887"
             ],
             [
              0.1111111111111111,
              "#46039f"
             ],
             [
              0.2222222222222222,
              "#7201a8"
             ],
             [
              0.3333333333333333,
              "#9c179e"
             ],
             [
              0.4444444444444444,
              "#bd3786"
             ],
             [
              0.5555555555555556,
              "#d8576b"
             ],
             [
              0.6666666666666666,
              "#ed7953"
             ],
             [
              0.7777777777777778,
              "#fb9f3a"
             ],
             [
              0.8888888888888888,
              "#fdca26"
             ],
             [
              1,
              "#f0f921"
             ]
            ],
            "type": "surface"
           }
          ],
          "table": [
           {
            "cells": {
             "fill": {
              "color": "#EBF0F8"
             },
             "line": {
              "color": "white"
             }
            },
            "header": {
             "fill": {
              "color": "#C8D4E3"
             },
             "line": {
              "color": "white"
             }
            },
            "type": "table"
           }
          ]
         },
         "layout": {
          "annotationdefaults": {
           "arrowcolor": "#2a3f5f",
           "arrowhead": 0,
           "arrowwidth": 1
          },
          "autotypenumbers": "strict",
          "coloraxis": {
           "colorbar": {
            "outlinewidth": 0,
            "ticks": ""
           }
          },
          "colorscale": {
           "diverging": [
            [
             0,
             "#8e0152"
            ],
            [
             0.1,
             "#c51b7d"
            ],
            [
             0.2,
             "#de77ae"
            ],
            [
             0.3,
             "#f1b6da"
            ],
            [
             0.4,
             "#fde0ef"
            ],
            [
             0.5,
             "#f7f7f7"
            ],
            [
             0.6,
             "#e6f5d0"
            ],
            [
             0.7,
             "#b8e186"
            ],
            [
             0.8,
             "#7fbc41"
            ],
            [
             0.9,
             "#4d9221"
            ],
            [
             1,
             "#276419"
            ]
           ],
           "sequential": [
            [
             0,
             "#0d0887"
            ],
            [
             0.1111111111111111,
             "#46039f"
            ],
            [
             0.2222222222222222,
             "#7201a8"
            ],
            [
             0.3333333333333333,
             "#9c179e"
            ],
            [
             0.4444444444444444,
             "#bd3786"
            ],
            [
             0.5555555555555556,
             "#d8576b"
            ],
            [
             0.6666666666666666,
             "#ed7953"
            ],
            [
             0.7777777777777778,
             "#fb9f3a"
            ],
            [
             0.8888888888888888,
             "#fdca26"
            ],
            [
             1,
             "#f0f921"
            ]
           ],
           "sequentialminus": [
            [
             0,
             "#0d0887"
            ],
            [
             0.1111111111111111,
             "#46039f"
            ],
            [
             0.2222222222222222,
             "#7201a8"
            ],
            [
             0.3333333333333333,
             "#9c179e"
            ],
            [
             0.4444444444444444,
             "#bd3786"
            ],
            [
             0.5555555555555556,
             "#d8576b"
            ],
            [
             0.6666666666666666,
             "#ed7953"
            ],
            [
             0.7777777777777778,
             "#fb9f3a"
            ],
            [
             0.8888888888888888,
             "#fdca26"
            ],
            [
             1,
             "#f0f921"
            ]
           ]
          },
          "colorway": [
           "#636efa",
           "#EF553B",
           "#00cc96",
           "#ab63fa",
           "#FFA15A",
           "#19d3f3",
           "#FF6692",
           "#B6E880",
           "#FF97FF",
           "#FECB52"
          ],
          "font": {
           "color": "#2a3f5f"
          },
          "geo": {
           "bgcolor": "white",
           "lakecolor": "white",
           "landcolor": "#E5ECF6",
           "showlakes": true,
           "showland": true,
           "subunitcolor": "white"
          },
          "hoverlabel": {
           "align": "left"
          },
          "hovermode": "closest",
          "mapbox": {
           "style": "light"
          },
          "paper_bgcolor": "white",
          "plot_bgcolor": "#E5ECF6",
          "polar": {
           "angularaxis": {
            "gridcolor": "white",
            "linecolor": "white",
            "ticks": ""
           },
           "bgcolor": "#E5ECF6",
           "radialaxis": {
            "gridcolor": "white",
            "linecolor": "white",
            "ticks": ""
           }
          },
          "scene": {
           "xaxis": {
            "backgroundcolor": "#E5ECF6",
            "gridcolor": "white",
            "gridwidth": 2,
            "linecolor": "white",
            "showbackground": true,
            "ticks": "",
            "zerolinecolor": "white"
           },
           "yaxis": {
            "backgroundcolor": "#E5ECF6",
            "gridcolor": "white",
            "gridwidth": 2,
            "linecolor": "white",
            "showbackground": true,
            "ticks": "",
            "zerolinecolor": "white"
           },
           "zaxis": {
            "backgroundcolor": "#E5ECF6",
            "gridcolor": "white",
            "gridwidth": 2,
            "linecolor": "white",
            "showbackground": true,
            "ticks": "",
            "zerolinecolor": "white"
           }
          },
          "shapedefaults": {
           "line": {
            "color": "#2a3f5f"
           }
          },
          "ternary": {
           "aaxis": {
            "gridcolor": "white",
            "linecolor": "white",
            "ticks": ""
           },
           "baxis": {
            "gridcolor": "white",
            "linecolor": "white",
            "ticks": ""
           },
           "bgcolor": "#E5ECF6",
           "caxis": {
            "gridcolor": "white",
            "linecolor": "white",
            "ticks": ""
           }
          },
          "title": {
           "x": 0.05
          },
          "xaxis": {
           "automargin": true,
           "gridcolor": "white",
           "linecolor": "white",
           "ticks": "",
           "title": {
            "standoff": 15
           },
           "zerolinecolor": "white",
           "zerolinewidth": 2
          },
          "yaxis": {
           "automargin": true,
           "gridcolor": "white",
           "linecolor": "white",
           "ticks": "",
           "title": {
            "standoff": 15
           },
           "zerolinecolor": "white",
           "zerolinewidth": 2
          }
         }
        },
        "title": {
         "text": "status Distribution"
        },
        "xaxis": {
         "title": {
          "text": "status"
         }
        },
        "yaxis": {
         "title": {
          "text": "Count"
         }
        }
       }
      }
     },
     "metadata": {},
     "output_type": "display_data"
    },
    {
     "data": {
      "application/vnd.plotly.v1+json": {
       "config": {
        "plotlyServerURL": "https://plot.ly"
       },
       "data": [
        {
         "name": "gender Distribution",
         "type": "bar",
         "x": [
          "F",
          "M"
         ],
         "y": [
          753,
          880
         ]
        }
       ],
       "layout": {
        "template": {
         "data": {
          "bar": [
           {
            "error_x": {
             "color": "#2a3f5f"
            },
            "error_y": {
             "color": "#2a3f5f"
            },
            "marker": {
             "line": {
              "color": "#E5ECF6",
              "width": 0.5
             },
             "pattern": {
              "fillmode": "overlay",
              "size": 10,
              "solidity": 0.2
             }
            },
            "type": "bar"
           }
          ],
          "barpolar": [
           {
            "marker": {
             "line": {
              "color": "#E5ECF6",
              "width": 0.5
             },
             "pattern": {
              "fillmode": "overlay",
              "size": 10,
              "solidity": 0.2
             }
            },
            "type": "barpolar"
           }
          ],
          "carpet": [
           {
            "aaxis": {
             "endlinecolor": "#2a3f5f",
             "gridcolor": "white",
             "linecolor": "white",
             "minorgridcolor": "white",
             "startlinecolor": "#2a3f5f"
            },
            "baxis": {
             "endlinecolor": "#2a3f5f",
             "gridcolor": "white",
             "linecolor": "white",
             "minorgridcolor": "white",
             "startlinecolor": "#2a3f5f"
            },
            "type": "carpet"
           }
          ],
          "choropleth": [
           {
            "colorbar": {
             "outlinewidth": 0,
             "ticks": ""
            },
            "type": "choropleth"
           }
          ],
          "contour": [
           {
            "colorbar": {
             "outlinewidth": 0,
             "ticks": ""
            },
            "colorscale": [
             [
              0,
              "#0d0887"
             ],
             [
              0.1111111111111111,
              "#46039f"
             ],
             [
              0.2222222222222222,
              "#7201a8"
             ],
             [
              0.3333333333333333,
              "#9c179e"
             ],
             [
              0.4444444444444444,
              "#bd3786"
             ],
             [
              0.5555555555555556,
              "#d8576b"
             ],
             [
              0.6666666666666666,
              "#ed7953"
             ],
             [
              0.7777777777777778,
              "#fb9f3a"
             ],
             [
              0.8888888888888888,
              "#fdca26"
             ],
             [
              1,
              "#f0f921"
             ]
            ],
            "type": "contour"
           }
          ],
          "contourcarpet": [
           {
            "colorbar": {
             "outlinewidth": 0,
             "ticks": ""
            },
            "type": "contourcarpet"
           }
          ],
          "heatmap": [
           {
            "colorbar": {
             "outlinewidth": 0,
             "ticks": ""
            },
            "colorscale": [
             [
              0,
              "#0d0887"
             ],
             [
              0.1111111111111111,
              "#46039f"
             ],
             [
              0.2222222222222222,
              "#7201a8"
             ],
             [
              0.3333333333333333,
              "#9c179e"
             ],
             [
              0.4444444444444444,
              "#bd3786"
             ],
             [
              0.5555555555555556,
              "#d8576b"
             ],
             [
              0.6666666666666666,
              "#ed7953"
             ],
             [
              0.7777777777777778,
              "#fb9f3a"
             ],
             [
              0.8888888888888888,
              "#fdca26"
             ],
             [
              1,
              "#f0f921"
             ]
            ],
            "type": "heatmap"
           }
          ],
          "heatmapgl": [
           {
            "colorbar": {
             "outlinewidth": 0,
             "ticks": ""
            },
            "colorscale": [
             [
              0,
              "#0d0887"
             ],
             [
              0.1111111111111111,
              "#46039f"
             ],
             [
              0.2222222222222222,
              "#7201a8"
             ],
             [
              0.3333333333333333,
              "#9c179e"
             ],
             [
              0.4444444444444444,
              "#bd3786"
             ],
             [
              0.5555555555555556,
              "#d8576b"
             ],
             [
              0.6666666666666666,
              "#ed7953"
             ],
             [
              0.7777777777777778,
              "#fb9f3a"
             ],
             [
              0.8888888888888888,
              "#fdca26"
             ],
             [
              1,
              "#f0f921"
             ]
            ],
            "type": "heatmapgl"
           }
          ],
          "histogram": [
           {
            "marker": {
             "pattern": {
              "fillmode": "overlay",
              "size": 10,
              "solidity": 0.2
             }
            },
            "type": "histogram"
           }
          ],
          "histogram2d": [
           {
            "colorbar": {
             "outlinewidth": 0,
             "ticks": ""
            },
            "colorscale": [
             [
              0,
              "#0d0887"
             ],
             [
              0.1111111111111111,
              "#46039f"
             ],
             [
              0.2222222222222222,
              "#7201a8"
             ],
             [
              0.3333333333333333,
              "#9c179e"
             ],
             [
              0.4444444444444444,
              "#bd3786"
             ],
             [
              0.5555555555555556,
              "#d8576b"
             ],
             [
              0.6666666666666666,
              "#ed7953"
             ],
             [
              0.7777777777777778,
              "#fb9f3a"
             ],
             [
              0.8888888888888888,
              "#fdca26"
             ],
             [
              1,
              "#f0f921"
             ]
            ],
            "type": "histogram2d"
           }
          ],
          "histogram2dcontour": [
           {
            "colorbar": {
             "outlinewidth": 0,
             "ticks": ""
            },
            "colorscale": [
             [
              0,
              "#0d0887"
             ],
             [
              0.1111111111111111,
              "#46039f"
             ],
             [
              0.2222222222222222,
              "#7201a8"
             ],
             [
              0.3333333333333333,
              "#9c179e"
             ],
             [
              0.4444444444444444,
              "#bd3786"
             ],
             [
              0.5555555555555556,
              "#d8576b"
             ],
             [
              0.6666666666666666,
              "#ed7953"
             ],
             [
              0.7777777777777778,
              "#fb9f3a"
             ],
             [
              0.8888888888888888,
              "#fdca26"
             ],
             [
              1,
              "#f0f921"
             ]
            ],
            "type": "histogram2dcontour"
           }
          ],
          "mesh3d": [
           {
            "colorbar": {
             "outlinewidth": 0,
             "ticks": ""
            },
            "type": "mesh3d"
           }
          ],
          "parcoords": [
           {
            "line": {
             "colorbar": {
              "outlinewidth": 0,
              "ticks": ""
             }
            },
            "type": "parcoords"
           }
          ],
          "pie": [
           {
            "automargin": true,
            "type": "pie"
           }
          ],
          "scatter": [
           {
            "fillpattern": {
             "fillmode": "overlay",
             "size": 10,
             "solidity": 0.2
            },
            "type": "scatter"
           }
          ],
          "scatter3d": [
           {
            "line": {
             "colorbar": {
              "outlinewidth": 0,
              "ticks": ""
             }
            },
            "marker": {
             "colorbar": {
              "outlinewidth": 0,
              "ticks": ""
             }
            },
            "type": "scatter3d"
           }
          ],
          "scattercarpet": [
           {
            "marker": {
             "colorbar": {
              "outlinewidth": 0,
              "ticks": ""
             }
            },
            "type": "scattercarpet"
           }
          ],
          "scattergeo": [
           {
            "marker": {
             "colorbar": {
              "outlinewidth": 0,
              "ticks": ""
             }
            },
            "type": "scattergeo"
           }
          ],
          "scattergl": [
           {
            "marker": {
             "colorbar": {
              "outlinewidth": 0,
              "ticks": ""
             }
            },
            "type": "scattergl"
           }
          ],
          "scattermapbox": [
           {
            "marker": {
             "colorbar": {
              "outlinewidth": 0,
              "ticks": ""
             }
            },
            "type": "scattermapbox"
           }
          ],
          "scatterpolar": [
           {
            "marker": {
             "colorbar": {
              "outlinewidth": 0,
              "ticks": ""
             }
            },
            "type": "scatterpolar"
           }
          ],
          "scatterpolargl": [
           {
            "marker": {
             "colorbar": {
              "outlinewidth": 0,
              "ticks": ""
             }
            },
            "type": "scatterpolargl"
           }
          ],
          "scatterternary": [
           {
            "marker": {
             "colorbar": {
              "outlinewidth": 0,
              "ticks": ""
             }
            },
            "type": "scatterternary"
           }
          ],
          "surface": [
           {
            "colorbar": {
             "outlinewidth": 0,
             "ticks": ""
            },
            "colorscale": [
             [
              0,
              "#0d0887"
             ],
             [
              0.1111111111111111,
              "#46039f"
             ],
             [
              0.2222222222222222,
              "#7201a8"
             ],
             [
              0.3333333333333333,
              "#9c179e"
             ],
             [
              0.4444444444444444,
              "#bd3786"
             ],
             [
              0.5555555555555556,
              "#d8576b"
             ],
             [
              0.6666666666666666,
              "#ed7953"
             ],
             [
              0.7777777777777778,
              "#fb9f3a"
             ],
             [
              0.8888888888888888,
              "#fdca26"
             ],
             [
              1,
              "#f0f921"
             ]
            ],
            "type": "surface"
           }
          ],
          "table": [
           {
            "cells": {
             "fill": {
              "color": "#EBF0F8"
             },
             "line": {
              "color": "white"
             }
            },
            "header": {
             "fill": {
              "color": "#C8D4E3"
             },
             "line": {
              "color": "white"
             }
            },
            "type": "table"
           }
          ]
         },
         "layout": {
          "annotationdefaults": {
           "arrowcolor": "#2a3f5f",
           "arrowhead": 0,
           "arrowwidth": 1
          },
          "autotypenumbers": "strict",
          "coloraxis": {
           "colorbar": {
            "outlinewidth": 0,
            "ticks": ""
           }
          },
          "colorscale": {
           "diverging": [
            [
             0,
             "#8e0152"
            ],
            [
             0.1,
             "#c51b7d"
            ],
            [
             0.2,
             "#de77ae"
            ],
            [
             0.3,
             "#f1b6da"
            ],
            [
             0.4,
             "#fde0ef"
            ],
            [
             0.5,
             "#f7f7f7"
            ],
            [
             0.6,
             "#e6f5d0"
            ],
            [
             0.7,
             "#b8e186"
            ],
            [
             0.8,
             "#7fbc41"
            ],
            [
             0.9,
             "#4d9221"
            ],
            [
             1,
             "#276419"
            ]
           ],
           "sequential": [
            [
             0,
             "#0d0887"
            ],
            [
             0.1111111111111111,
             "#46039f"
            ],
            [
             0.2222222222222222,
             "#7201a8"
            ],
            [
             0.3333333333333333,
             "#9c179e"
            ],
            [
             0.4444444444444444,
             "#bd3786"
            ],
            [
             0.5555555555555556,
             "#d8576b"
            ],
            [
             0.6666666666666666,
             "#ed7953"
            ],
            [
             0.7777777777777778,
             "#fb9f3a"
            ],
            [
             0.8888888888888888,
             "#fdca26"
            ],
            [
             1,
             "#f0f921"
            ]
           ],
           "sequentialminus": [
            [
             0,
             "#0d0887"
            ],
            [
             0.1111111111111111,
             "#46039f"
            ],
            [
             0.2222222222222222,
             "#7201a8"
            ],
            [
             0.3333333333333333,
             "#9c179e"
            ],
            [
             0.4444444444444444,
             "#bd3786"
            ],
            [
             0.5555555555555556,
             "#d8576b"
            ],
            [
             0.6666666666666666,
             "#ed7953"
            ],
            [
             0.7777777777777778,
             "#fb9f3a"
            ],
            [
             0.8888888888888888,
             "#fdca26"
            ],
            [
             1,
             "#f0f921"
            ]
           ]
          },
          "colorway": [
           "#636efa",
           "#EF553B",
           "#00cc96",
           "#ab63fa",
           "#FFA15A",
           "#19d3f3",
           "#FF6692",
           "#B6E880",
           "#FF97FF",
           "#FECB52"
          ],
          "font": {
           "color": "#2a3f5f"
          },
          "geo": {
           "bgcolor": "white",
           "lakecolor": "white",
           "landcolor": "#E5ECF6",
           "showlakes": true,
           "showland": true,
           "subunitcolor": "white"
          },
          "hoverlabel": {
           "align": "left"
          },
          "hovermode": "closest",
          "mapbox": {
           "style": "light"
          },
          "paper_bgcolor": "white",
          "plot_bgcolor": "#E5ECF6",
          "polar": {
           "angularaxis": {
            "gridcolor": "white",
            "linecolor": "white",
            "ticks": ""
           },
           "bgcolor": "#E5ECF6",
           "radialaxis": {
            "gridcolor": "white",
            "linecolor": "white",
            "ticks": ""
           }
          },
          "scene": {
           "xaxis": {
            "backgroundcolor": "#E5ECF6",
            "gridcolor": "white",
            "gridwidth": 2,
            "linecolor": "white",
            "showbackground": true,
            "ticks": "",
            "zerolinecolor": "white"
           },
           "yaxis": {
            "backgroundcolor": "#E5ECF6",
            "gridcolor": "white",
            "gridwidth": 2,
            "linecolor": "white",
            "showbackground": true,
            "ticks": "",
            "zerolinecolor": "white"
           },
           "zaxis": {
            "backgroundcolor": "#E5ECF6",
            "gridcolor": "white",
            "gridwidth": 2,
            "linecolor": "white",
            "showbackground": true,
            "ticks": "",
            "zerolinecolor": "white"
           }
          },
          "shapedefaults": {
           "line": {
            "color": "#2a3f5f"
           }
          },
          "ternary": {
           "aaxis": {
            "gridcolor": "white",
            "linecolor": "white",
            "ticks": ""
           },
           "baxis": {
            "gridcolor": "white",
            "linecolor": "white",
            "ticks": ""
           },
           "bgcolor": "#E5ECF6",
           "caxis": {
            "gridcolor": "white",
            "linecolor": "white",
            "ticks": ""
           }
          },
          "title": {
           "x": 0.05
          },
          "xaxis": {
           "automargin": true,
           "gridcolor": "white",
           "linecolor": "white",
           "ticks": "",
           "title": {
            "standoff": 15
           },
           "zerolinecolor": "white",
           "zerolinewidth": 2
          },
          "yaxis": {
           "automargin": true,
           "gridcolor": "white",
           "linecolor": "white",
           "ticks": "",
           "title": {
            "standoff": 15
           },
           "zerolinecolor": "white",
           "zerolinewidth": 2
          }
         }
        },
        "title": {
         "text": "gender Distribution"
        },
        "xaxis": {
         "title": {
          "text": "gender"
         }
        },
        "yaxis": {
         "title": {
          "text": "Count"
         }
        }
       }
      }
     },
     "metadata": {},
     "output_type": "display_data"
    },
    {
     "data": {
      "application/vnd.plotly.v1+json": {
       "config": {
        "plotlyServerURL": "https://plot.ly"
       },
       "data": [
        {
         "name": "regionName Distribution",
         "type": "bar",
         "x": [
          "Africa",
          "Asia",
          "Central America",
          "Europe",
          "North America",
          "Oceania",
          "South America"
         ],
         "y": [
          32,
          78,
          19,
          206,
          694,
          99,
          50
         ]
        }
       ],
       "layout": {
        "template": {
         "data": {
          "bar": [
           {
            "error_x": {
             "color": "#2a3f5f"
            },
            "error_y": {
             "color": "#2a3f5f"
            },
            "marker": {
             "line": {
              "color": "#E5ECF6",
              "width": 0.5
             },
             "pattern": {
              "fillmode": "overlay",
              "size": 10,
              "solidity": 0.2
             }
            },
            "type": "bar"
           }
          ],
          "barpolar": [
           {
            "marker": {
             "line": {
              "color": "#E5ECF6",
              "width": 0.5
             },
             "pattern": {
              "fillmode": "overlay",
              "size": 10,
              "solidity": 0.2
             }
            },
            "type": "barpolar"
           }
          ],
          "carpet": [
           {
            "aaxis": {
             "endlinecolor": "#2a3f5f",
             "gridcolor": "white",
             "linecolor": "white",
             "minorgridcolor": "white",
             "startlinecolor": "#2a3f5f"
            },
            "baxis": {
             "endlinecolor": "#2a3f5f",
             "gridcolor": "white",
             "linecolor": "white",
             "minorgridcolor": "white",
             "startlinecolor": "#2a3f5f"
            },
            "type": "carpet"
           }
          ],
          "choropleth": [
           {
            "colorbar": {
             "outlinewidth": 0,
             "ticks": ""
            },
            "type": "choropleth"
           }
          ],
          "contour": [
           {
            "colorbar": {
             "outlinewidth": 0,
             "ticks": ""
            },
            "colorscale": [
             [
              0,
              "#0d0887"
             ],
             [
              0.1111111111111111,
              "#46039f"
             ],
             [
              0.2222222222222222,
              "#7201a8"
             ],
             [
              0.3333333333333333,
              "#9c179e"
             ],
             [
              0.4444444444444444,
              "#bd3786"
             ],
             [
              0.5555555555555556,
              "#d8576b"
             ],
             [
              0.6666666666666666,
              "#ed7953"
             ],
             [
              0.7777777777777778,
              "#fb9f3a"
             ],
             [
              0.8888888888888888,
              "#fdca26"
             ],
             [
              1,
              "#f0f921"
             ]
            ],
            "type": "contour"
           }
          ],
          "contourcarpet": [
           {
            "colorbar": {
             "outlinewidth": 0,
             "ticks": ""
            },
            "type": "contourcarpet"
           }
          ],
          "heatmap": [
           {
            "colorbar": {
             "outlinewidth": 0,
             "ticks": ""
            },
            "colorscale": [
             [
              0,
              "#0d0887"
             ],
             [
              0.1111111111111111,
              "#46039f"
             ],
             [
              0.2222222222222222,
              "#7201a8"
             ],
             [
              0.3333333333333333,
              "#9c179e"
             ],
             [
              0.4444444444444444,
              "#bd3786"
             ],
             [
              0.5555555555555556,
              "#d8576b"
             ],
             [
              0.6666666666666666,
              "#ed7953"
             ],
             [
              0.7777777777777778,
              "#fb9f3a"
             ],
             [
              0.8888888888888888,
              "#fdca26"
             ],
             [
              1,
              "#f0f921"
             ]
            ],
            "type": "heatmap"
           }
          ],
          "heatmapgl": [
           {
            "colorbar": {
             "outlinewidth": 0,
             "ticks": ""
            },
            "colorscale": [
             [
              0,
              "#0d0887"
             ],
             [
              0.1111111111111111,
              "#46039f"
             ],
             [
              0.2222222222222222,
              "#7201a8"
             ],
             [
              0.3333333333333333,
              "#9c179e"
             ],
             [
              0.4444444444444444,
              "#bd3786"
             ],
             [
              0.5555555555555556,
              "#d8576b"
             ],
             [
              0.6666666666666666,
              "#ed7953"
             ],
             [
              0.7777777777777778,
              "#fb9f3a"
             ],
             [
              0.8888888888888888,
              "#fdca26"
             ],
             [
              1,
              "#f0f921"
             ]
            ],
            "type": "heatmapgl"
           }
          ],
          "histogram": [
           {
            "marker": {
             "pattern": {
              "fillmode": "overlay",
              "size": 10,
              "solidity": 0.2
             }
            },
            "type": "histogram"
           }
          ],
          "histogram2d": [
           {
            "colorbar": {
             "outlinewidth": 0,
             "ticks": ""
            },
            "colorscale": [
             [
              0,
              "#0d0887"
             ],
             [
              0.1111111111111111,
              "#46039f"
             ],
             [
              0.2222222222222222,
              "#7201a8"
             ],
             [
              0.3333333333333333,
              "#9c179e"
             ],
             [
              0.4444444444444444,
              "#bd3786"
             ],
             [
              0.5555555555555556,
              "#d8576b"
             ],
             [
              0.6666666666666666,
              "#ed7953"
             ],
             [
              0.7777777777777778,
              "#fb9f3a"
             ],
             [
              0.8888888888888888,
              "#fdca26"
             ],
             [
              1,
              "#f0f921"
             ]
            ],
            "type": "histogram2d"
           }
          ],
          "histogram2dcontour": [
           {
            "colorbar": {
             "outlinewidth": 0,
             "ticks": ""
            },
            "colorscale": [
             [
              0,
              "#0d0887"
             ],
             [
              0.1111111111111111,
              "#46039f"
             ],
             [
              0.2222222222222222,
              "#7201a8"
             ],
             [
              0.3333333333333333,
              "#9c179e"
             ],
             [
              0.4444444444444444,
              "#bd3786"
             ],
             [
              0.5555555555555556,
              "#d8576b"
             ],
             [
              0.6666666666666666,
              "#ed7953"
             ],
             [
              0.7777777777777778,
              "#fb9f3a"
             ],
             [
              0.8888888888888888,
              "#fdca26"
             ],
             [
              1,
              "#f0f921"
             ]
            ],
            "type": "histogram2dcontour"
           }
          ],
          "mesh3d": [
           {
            "colorbar": {
             "outlinewidth": 0,
             "ticks": ""
            },
            "type": "mesh3d"
           }
          ],
          "parcoords": [
           {
            "line": {
             "colorbar": {
              "outlinewidth": 0,
              "ticks": ""
             }
            },
            "type": "parcoords"
           }
          ],
          "pie": [
           {
            "automargin": true,
            "type": "pie"
           }
          ],
          "scatter": [
           {
            "fillpattern": {
             "fillmode": "overlay",
             "size": 10,
             "solidity": 0.2
            },
            "type": "scatter"
           }
          ],
          "scatter3d": [
           {
            "line": {
             "colorbar": {
              "outlinewidth": 0,
              "ticks": ""
             }
            },
            "marker": {
             "colorbar": {
              "outlinewidth": 0,
              "ticks": ""
             }
            },
            "type": "scatter3d"
           }
          ],
          "scattercarpet": [
           {
            "marker": {
             "colorbar": {
              "outlinewidth": 0,
              "ticks": ""
             }
            },
            "type": "scattercarpet"
           }
          ],
          "scattergeo": [
           {
            "marker": {
             "colorbar": {
              "outlinewidth": 0,
              "ticks": ""
             }
            },
            "type": "scattergeo"
           }
          ],
          "scattergl": [
           {
            "marker": {
             "colorbar": {
              "outlinewidth": 0,
              "ticks": ""
             }
            },
            "type": "scattergl"
           }
          ],
          "scattermapbox": [
           {
            "marker": {
             "colorbar": {
              "outlinewidth": 0,
              "ticks": ""
             }
            },
            "type": "scattermapbox"
           }
          ],
          "scatterpolar": [
           {
            "marker": {
             "colorbar": {
              "outlinewidth": 0,
              "ticks": ""
             }
            },
            "type": "scatterpolar"
           }
          ],
          "scatterpolargl": [
           {
            "marker": {
             "colorbar": {
              "outlinewidth": 0,
              "ticks": ""
             }
            },
            "type": "scatterpolargl"
           }
          ],
          "scatterternary": [
           {
            "marker": {
             "colorbar": {
              "outlinewidth": 0,
              "ticks": ""
             }
            },
            "type": "scatterternary"
           }
          ],
          "surface": [
           {
            "colorbar": {
             "outlinewidth": 0,
             "ticks": ""
            },
            "colorscale": [
             [
              0,
              "#0d0887"
             ],
             [
              0.1111111111111111,
              "#46039f"
             ],
             [
              0.2222222222222222,
              "#7201a8"
             ],
             [
              0.3333333333333333,
              "#9c179e"
             ],
             [
              0.4444444444444444,
              "#bd3786"
             ],
             [
              0.5555555555555556,
              "#d8576b"
             ],
             [
              0.6666666666666666,
              "#ed7953"
             ],
             [
              0.7777777777777778,
              "#fb9f3a"
             ],
             [
              0.8888888888888888,
              "#fdca26"
             ],
             [
              1,
              "#f0f921"
             ]
            ],
            "type": "surface"
           }
          ],
          "table": [
           {
            "cells": {
             "fill": {
              "color": "#EBF0F8"
             },
             "line": {
              "color": "white"
             }
            },
            "header": {
             "fill": {
              "color": "#C8D4E3"
             },
             "line": {
              "color": "white"
             }
            },
            "type": "table"
           }
          ]
         },
         "layout": {
          "annotationdefaults": {
           "arrowcolor": "#2a3f5f",
           "arrowhead": 0,
           "arrowwidth": 1
          },
          "autotypenumbers": "strict",
          "coloraxis": {
           "colorbar": {
            "outlinewidth": 0,
            "ticks": ""
           }
          },
          "colorscale": {
           "diverging": [
            [
             0,
             "#8e0152"
            ],
            [
             0.1,
             "#c51b7d"
            ],
            [
             0.2,
             "#de77ae"
            ],
            [
             0.3,
             "#f1b6da"
            ],
            [
             0.4,
             "#fde0ef"
            ],
            [
             0.5,
             "#f7f7f7"
            ],
            [
             0.6,
             "#e6f5d0"
            ],
            [
             0.7,
             "#b8e186"
            ],
            [
             0.8,
             "#7fbc41"
            ],
            [
             0.9,
             "#4d9221"
            ],
            [
             1,
             "#276419"
            ]
           ],
           "sequential": [
            [
             0,
             "#0d0887"
            ],
            [
             0.1111111111111111,
             "#46039f"
            ],
            [
             0.2222222222222222,
             "#7201a8"
            ],
            [
             0.3333333333333333,
             "#9c179e"
            ],
            [
             0.4444444444444444,
             "#bd3786"
            ],
            [
             0.5555555555555556,
             "#d8576b"
            ],
            [
             0.6666666666666666,
             "#ed7953"
            ],
            [
             0.7777777777777778,
             "#fb9f3a"
            ],
            [
             0.8888888888888888,
             "#fdca26"
            ],
            [
             1,
             "#f0f921"
            ]
           ],
           "sequentialminus": [
            [
             0,
             "#0d0887"
            ],
            [
             0.1111111111111111,
             "#46039f"
            ],
            [
             0.2222222222222222,
             "#7201a8"
            ],
            [
             0.3333333333333333,
             "#9c179e"
            ],
            [
             0.4444444444444444,
             "#bd3786"
            ],
            [
             0.5555555555555556,
             "#d8576b"
            ],
            [
             0.6666666666666666,
             "#ed7953"
            ],
            [
             0.7777777777777778,
             "#fb9f3a"
            ],
            [
             0.8888888888888888,
             "#fdca26"
            ],
            [
             1,
             "#f0f921"
            ]
           ]
          },
          "colorway": [
           "#636efa",
           "#EF553B",
           "#00cc96",
           "#ab63fa",
           "#FFA15A",
           "#19d3f3",
           "#FF6692",
           "#B6E880",
           "#FF97FF",
           "#FECB52"
          ],
          "font": {
           "color": "#2a3f5f"
          },
          "geo": {
           "bgcolor": "white",
           "lakecolor": "white",
           "landcolor": "#E5ECF6",
           "showlakes": true,
           "showland": true,
           "subunitcolor": "white"
          },
          "hoverlabel": {
           "align": "left"
          },
          "hovermode": "closest",
          "mapbox": {
           "style": "light"
          },
          "paper_bgcolor": "white",
          "plot_bgcolor": "#E5ECF6",
          "polar": {
           "angularaxis": {
            "gridcolor": "white",
            "linecolor": "white",
            "ticks": ""
           },
           "bgcolor": "#E5ECF6",
           "radialaxis": {
            "gridcolor": "white",
            "linecolor": "white",
            "ticks": ""
           }
          },
          "scene": {
           "xaxis": {
            "backgroundcolor": "#E5ECF6",
            "gridcolor": "white",
            "gridwidth": 2,
            "linecolor": "white",
            "showbackground": true,
            "ticks": "",
            "zerolinecolor": "white"
           },
           "yaxis": {
            "backgroundcolor": "#E5ECF6",
            "gridcolor": "white",
            "gridwidth": 2,
            "linecolor": "white",
            "showbackground": true,
            "ticks": "",
            "zerolinecolor": "white"
           },
           "zaxis": {
            "backgroundcolor": "#E5ECF6",
            "gridcolor": "white",
            "gridwidth": 2,
            "linecolor": "white",
            "showbackground": true,
            "ticks": "",
            "zerolinecolor": "white"
           }
          },
          "shapedefaults": {
           "line": {
            "color": "#2a3f5f"
           }
          },
          "ternary": {
           "aaxis": {
            "gridcolor": "white",
            "linecolor": "white",
            "ticks": ""
           },
           "baxis": {
            "gridcolor": "white",
            "linecolor": "white",
            "ticks": ""
           },
           "bgcolor": "#E5ECF6",
           "caxis": {
            "gridcolor": "white",
            "linecolor": "white",
            "ticks": ""
           }
          },
          "title": {
           "x": 0.05
          },
          "xaxis": {
           "automargin": true,
           "gridcolor": "white",
           "linecolor": "white",
           "ticks": "",
           "title": {
            "standoff": 15
           },
           "zerolinecolor": "white",
           "zerolinewidth": 2
          },
          "yaxis": {
           "automargin": true,
           "gridcolor": "white",
           "linecolor": "white",
           "ticks": "",
           "title": {
            "standoff": 15
           },
           "zerolinecolor": "white",
           "zerolinewidth": 2
          }
         }
        },
        "title": {
         "text": "regionName Distribution"
        },
        "xaxis": {
         "title": {
          "text": "regionName"
         }
        },
        "yaxis": {
         "title": {
          "text": "Count"
         }
        }
       }
      }
     },
     "metadata": {},
     "output_type": "display_data"
    }
   ],
   "source": [
    "# Loop over each numeric column in numerical_games\n",
    "for column in categorical_games[['status', 'gender', 'regionName']].columns:\n",
    "    # Create a count for the current column\n",
    "    count = categorical_games[column].value_counts().sort_index()\n",
    "    \n",
    "    # Create a histogram trace for the current column\n",
    "    trace = go.Bar(\n",
    "        x=count.index,\n",
    "        y=count.values,\n",
    "        name=f\"{column} Distribution\"\n",
    "    )\n",
    "\n",
    "    # Create the figure and add the trace\n",
    "    fig = go.Figure(trace)\n",
    "\n",
    "    # Update the layout\n",
    "    fig.update_layout(\n",
    "        title=f\"{column} Distribution\",\n",
    "        xaxis=dict(title=column),\n",
    "        yaxis=dict(title=\"Count\"),\n",
    "    )\n",
    "\n",
    "    # Show the plot\n",
    "    fig.show()"
   ]
  },
  {
   "cell_type": "code",
   "execution_count": 12,
   "metadata": {},
   "outputs": [
    {
     "data": {
      "application/vnd.plotly.v1+json": {
       "config": {
        "plotlyServerURL": "https://plot.ly"
       },
       "data": [
        {
         "type": "bar",
         "x": [
          "Africa",
          "Asia",
          "Central America",
          "Europe",
          "North America",
          "Oceania",
          "South America"
         ],
         "y": [
          118.25,
          107.96153846153847,
          26.68421052631579,
          377.8252427184466,
          496.2406340057637,
          475.2323232323232,
          95.48
         ]
        }
       ],
       "layout": {
        "template": {
         "data": {
          "bar": [
           {
            "error_x": {
             "color": "#2a3f5f"
            },
            "error_y": {
             "color": "#2a3f5f"
            },
            "marker": {
             "line": {
              "color": "#E5ECF6",
              "width": 0.5
             },
             "pattern": {
              "fillmode": "overlay",
              "size": 10,
              "solidity": 0.2
             }
            },
            "type": "bar"
           }
          ],
          "barpolar": [
           {
            "marker": {
             "line": {
              "color": "#E5ECF6",
              "width": 0.5
             },
             "pattern": {
              "fillmode": "overlay",
              "size": 10,
              "solidity": 0.2
             }
            },
            "type": "barpolar"
           }
          ],
          "carpet": [
           {
            "aaxis": {
             "endlinecolor": "#2a3f5f",
             "gridcolor": "white",
             "linecolor": "white",
             "minorgridcolor": "white",
             "startlinecolor": "#2a3f5f"
            },
            "baxis": {
             "endlinecolor": "#2a3f5f",
             "gridcolor": "white",
             "linecolor": "white",
             "minorgridcolor": "white",
             "startlinecolor": "#2a3f5f"
            },
            "type": "carpet"
           }
          ],
          "choropleth": [
           {
            "colorbar": {
             "outlinewidth": 0,
             "ticks": ""
            },
            "type": "choropleth"
           }
          ],
          "contour": [
           {
            "colorbar": {
             "outlinewidth": 0,
             "ticks": ""
            },
            "colorscale": [
             [
              0,
              "#0d0887"
             ],
             [
              0.1111111111111111,
              "#46039f"
             ],
             [
              0.2222222222222222,
              "#7201a8"
             ],
             [
              0.3333333333333333,
              "#9c179e"
             ],
             [
              0.4444444444444444,
              "#bd3786"
             ],
             [
              0.5555555555555556,
              "#d8576b"
             ],
             [
              0.6666666666666666,
              "#ed7953"
             ],
             [
              0.7777777777777778,
              "#fb9f3a"
             ],
             [
              0.8888888888888888,
              "#fdca26"
             ],
             [
              1,
              "#f0f921"
             ]
            ],
            "type": "contour"
           }
          ],
          "contourcarpet": [
           {
            "colorbar": {
             "outlinewidth": 0,
             "ticks": ""
            },
            "type": "contourcarpet"
           }
          ],
          "heatmap": [
           {
            "colorbar": {
             "outlinewidth": 0,
             "ticks": ""
            },
            "colorscale": [
             [
              0,
              "#0d0887"
             ],
             [
              0.1111111111111111,
              "#46039f"
             ],
             [
              0.2222222222222222,
              "#7201a8"
             ],
             [
              0.3333333333333333,
              "#9c179e"
             ],
             [
              0.4444444444444444,
              "#bd3786"
             ],
             [
              0.5555555555555556,
              "#d8576b"
             ],
             [
              0.6666666666666666,
              "#ed7953"
             ],
             [
              0.7777777777777778,
              "#fb9f3a"
             ],
             [
              0.8888888888888888,
              "#fdca26"
             ],
             [
              1,
              "#f0f921"
             ]
            ],
            "type": "heatmap"
           }
          ],
          "heatmapgl": [
           {
            "colorbar": {
             "outlinewidth": 0,
             "ticks": ""
            },
            "colorscale": [
             [
              0,
              "#0d0887"
             ],
             [
              0.1111111111111111,
              "#46039f"
             ],
             [
              0.2222222222222222,
              "#7201a8"
             ],
             [
              0.3333333333333333,
              "#9c179e"
             ],
             [
              0.4444444444444444,
              "#bd3786"
             ],
             [
              0.5555555555555556,
              "#d8576b"
             ],
             [
              0.6666666666666666,
              "#ed7953"
             ],
             [
              0.7777777777777778,
              "#fb9f3a"
             ],
             [
              0.8888888888888888,
              "#fdca26"
             ],
             [
              1,
              "#f0f921"
             ]
            ],
            "type": "heatmapgl"
           }
          ],
          "histogram": [
           {
            "marker": {
             "pattern": {
              "fillmode": "overlay",
              "size": 10,
              "solidity": 0.2
             }
            },
            "type": "histogram"
           }
          ],
          "histogram2d": [
           {
            "colorbar": {
             "outlinewidth": 0,
             "ticks": ""
            },
            "colorscale": [
             [
              0,
              "#0d0887"
             ],
             [
              0.1111111111111111,
              "#46039f"
             ],
             [
              0.2222222222222222,
              "#7201a8"
             ],
             [
              0.3333333333333333,
              "#9c179e"
             ],
             [
              0.4444444444444444,
              "#bd3786"
             ],
             [
              0.5555555555555556,
              "#d8576b"
             ],
             [
              0.6666666666666666,
              "#ed7953"
             ],
             [
              0.7777777777777778,
              "#fb9f3a"
             ],
             [
              0.8888888888888888,
              "#fdca26"
             ],
             [
              1,
              "#f0f921"
             ]
            ],
            "type": "histogram2d"
           }
          ],
          "histogram2dcontour": [
           {
            "colorbar": {
             "outlinewidth": 0,
             "ticks": ""
            },
            "colorscale": [
             [
              0,
              "#0d0887"
             ],
             [
              0.1111111111111111,
              "#46039f"
             ],
             [
              0.2222222222222222,
              "#7201a8"
             ],
             [
              0.3333333333333333,
              "#9c179e"
             ],
             [
              0.4444444444444444,
              "#bd3786"
             ],
             [
              0.5555555555555556,
              "#d8576b"
             ],
             [
              0.6666666666666666,
              "#ed7953"
             ],
             [
              0.7777777777777778,
              "#fb9f3a"
             ],
             [
              0.8888888888888888,
              "#fdca26"
             ],
             [
              1,
              "#f0f921"
             ]
            ],
            "type": "histogram2dcontour"
           }
          ],
          "mesh3d": [
           {
            "colorbar": {
             "outlinewidth": 0,
             "ticks": ""
            },
            "type": "mesh3d"
           }
          ],
          "parcoords": [
           {
            "line": {
             "colorbar": {
              "outlinewidth": 0,
              "ticks": ""
             }
            },
            "type": "parcoords"
           }
          ],
          "pie": [
           {
            "automargin": true,
            "type": "pie"
           }
          ],
          "scatter": [
           {
            "fillpattern": {
             "fillmode": "overlay",
             "size": 10,
             "solidity": 0.2
            },
            "type": "scatter"
           }
          ],
          "scatter3d": [
           {
            "line": {
             "colorbar": {
              "outlinewidth": 0,
              "ticks": ""
             }
            },
            "marker": {
             "colorbar": {
              "outlinewidth": 0,
              "ticks": ""
             }
            },
            "type": "scatter3d"
           }
          ],
          "scattercarpet": [
           {
            "marker": {
             "colorbar": {
              "outlinewidth": 0,
              "ticks": ""
             }
            },
            "type": "scattercarpet"
           }
          ],
          "scattergeo": [
           {
            "marker": {
             "colorbar": {
              "outlinewidth": 0,
              "ticks": ""
             }
            },
            "type": "scattergeo"
           }
          ],
          "scattergl": [
           {
            "marker": {
             "colorbar": {
              "outlinewidth": 0,
              "ticks": ""
             }
            },
            "type": "scattergl"
           }
          ],
          "scattermapbox": [
           {
            "marker": {
             "colorbar": {
              "outlinewidth": 0,
              "ticks": ""
             }
            },
            "type": "scattermapbox"
           }
          ],
          "scatterpolar": [
           {
            "marker": {
             "colorbar": {
              "outlinewidth": 0,
              "ticks": ""
             }
            },
            "type": "scatterpolar"
           }
          ],
          "scatterpolargl": [
           {
            "marker": {
             "colorbar": {
              "outlinewidth": 0,
              "ticks": ""
             }
            },
            "type": "scatterpolargl"
           }
          ],
          "scatterternary": [
           {
            "marker": {
             "colorbar": {
              "outlinewidth": 0,
              "ticks": ""
             }
            },
            "type": "scatterternary"
           }
          ],
          "surface": [
           {
            "colorbar": {
             "outlinewidth": 0,
             "ticks": ""
            },
            "colorscale": [
             [
              0,
              "#0d0887"
             ],
             [
              0.1111111111111111,
              "#46039f"
             ],
             [
              0.2222222222222222,
              "#7201a8"
             ],
             [
              0.3333333333333333,
              "#9c179e"
             ],
             [
              0.4444444444444444,
              "#bd3786"
             ],
             [
              0.5555555555555556,
              "#d8576b"
             ],
             [
              0.6666666666666666,
              "#ed7953"
             ],
             [
              0.7777777777777778,
              "#fb9f3a"
             ],
             [
              0.8888888888888888,
              "#fdca26"
             ],
             [
              1,
              "#f0f921"
             ]
            ],
            "type": "surface"
           }
          ],
          "table": [
           {
            "cells": {
             "fill": {
              "color": "#EBF0F8"
             },
             "line": {
              "color": "white"
             }
            },
            "header": {
             "fill": {
              "color": "#C8D4E3"
             },
             "line": {
              "color": "white"
             }
            },
            "type": "table"
           }
          ]
         },
         "layout": {
          "annotationdefaults": {
           "arrowcolor": "#2a3f5f",
           "arrowhead": 0,
           "arrowwidth": 1
          },
          "autotypenumbers": "strict",
          "coloraxis": {
           "colorbar": {
            "outlinewidth": 0,
            "ticks": ""
           }
          },
          "colorscale": {
           "diverging": [
            [
             0,
             "#8e0152"
            ],
            [
             0.1,
             "#c51b7d"
            ],
            [
             0.2,
             "#de77ae"
            ],
            [
             0.3,
             "#f1b6da"
            ],
            [
             0.4,
             "#fde0ef"
            ],
            [
             0.5,
             "#f7f7f7"
            ],
            [
             0.6,
             "#e6f5d0"
            ],
            [
             0.7,
             "#b8e186"
            ],
            [
             0.8,
             "#7fbc41"
            ],
            [
             0.9,
             "#4d9221"
            ],
            [
             1,
             "#276419"
            ]
           ],
           "sequential": [
            [
             0,
             "#0d0887"
            ],
            [
             0.1111111111111111,
             "#46039f"
            ],
            [
             0.2222222222222222,
             "#7201a8"
            ],
            [
             0.3333333333333333,
             "#9c179e"
            ],
            [
             0.4444444444444444,
             "#bd3786"
            ],
            [
             0.5555555555555556,
             "#d8576b"
            ],
            [
             0.6666666666666666,
             "#ed7953"
            ],
            [
             0.7777777777777778,
             "#fb9f3a"
            ],
            [
             0.8888888888888888,
             "#fdca26"
            ],
            [
             1,
             "#f0f921"
            ]
           ],
           "sequentialminus": [
            [
             0,
             "#0d0887"
            ],
            [
             0.1111111111111111,
             "#46039f"
            ],
            [
             0.2222222222222222,
             "#7201a8"
            ],
            [
             0.3333333333333333,
             "#9c179e"
            ],
            [
             0.4444444444444444,
             "#bd3786"
            ],
            [
             0.5555555555555556,
             "#d8576b"
            ],
            [
             0.6666666666666666,
             "#ed7953"
            ],
            [
             0.7777777777777778,
             "#fb9f3a"
            ],
            [
             0.8888888888888888,
             "#fdca26"
            ],
            [
             1,
             "#f0f921"
            ]
           ]
          },
          "colorway": [
           "#636efa",
           "#EF553B",
           "#00cc96",
           "#ab63fa",
           "#FFA15A",
           "#19d3f3",
           "#FF6692",
           "#B6E880",
           "#FF97FF",
           "#FECB52"
          ],
          "font": {
           "color": "#2a3f5f"
          },
          "geo": {
           "bgcolor": "white",
           "lakecolor": "white",
           "landcolor": "#E5ECF6",
           "showlakes": true,
           "showland": true,
           "subunitcolor": "white"
          },
          "hoverlabel": {
           "align": "left"
          },
          "hovermode": "closest",
          "mapbox": {
           "style": "light"
          },
          "paper_bgcolor": "white",
          "plot_bgcolor": "#E5ECF6",
          "polar": {
           "angularaxis": {
            "gridcolor": "white",
            "linecolor": "white",
            "ticks": ""
           },
           "bgcolor": "#E5ECF6",
           "radialaxis": {
            "gridcolor": "white",
            "linecolor": "white",
            "ticks": ""
           }
          },
          "scene": {
           "xaxis": {
            "backgroundcolor": "#E5ECF6",
            "gridcolor": "white",
            "gridwidth": 2,
            "linecolor": "white",
            "showbackground": true,
            "ticks": "",
            "zerolinecolor": "white"
           },
           "yaxis": {
            "backgroundcolor": "#E5ECF6",
            "gridcolor": "white",
            "gridwidth": 2,
            "linecolor": "white",
            "showbackground": true,
            "ticks": "",
            "zerolinecolor": "white"
           },
           "zaxis": {
            "backgroundcolor": "#E5ECF6",
            "gridcolor": "white",
            "gridwidth": 2,
            "linecolor": "white",
            "showbackground": true,
            "ticks": "",
            "zerolinecolor": "white"
           }
          },
          "shapedefaults": {
           "line": {
            "color": "#2a3f5f"
           }
          },
          "ternary": {
           "aaxis": {
            "gridcolor": "white",
            "linecolor": "white",
            "ticks": ""
           },
           "baxis": {
            "gridcolor": "white",
            "linecolor": "white",
            "ticks": ""
           },
           "bgcolor": "#E5ECF6",
           "caxis": {
            "gridcolor": "white",
            "linecolor": "white",
            "ticks": ""
           }
          },
          "title": {
           "x": 0.05
          },
          "xaxis": {
           "automargin": true,
           "gridcolor": "white",
           "linecolor": "white",
           "ticks": "",
           "title": {
            "standoff": 15
           },
           "zerolinecolor": "white",
           "zerolinewidth": 2
          },
          "yaxis": {
           "automargin": true,
           "gridcolor": "white",
           "linecolor": "white",
           "ticks": "",
           "title": {
            "standoff": 15
           },
           "zerolinecolor": "white",
           "zerolinewidth": 2
          }
         }
        },
        "title": {
         "text": "Average overallScore by regionName"
        },
        "xaxis": {
         "title": {
          "text": "regionName"
         }
        },
        "yaxis": {
         "title": {
          "text": "Average overallScore"
         }
        }
       }
      }
     },
     "metadata": {},
     "output_type": "display_data"
    }
   ],
   "source": [
    "# Create a average score per region\n",
    "average_score = df_games_and_open.groupby('regionName')['overallScore'].mean()\n",
    "\n",
    "# Create a histogram trace for the current column\n",
    "trace = go.Bar(\n",
    "    x=average_score.index,\n",
    "    y=average_score.values\n",
    ")\n",
    "\n",
    "# Create the figure and add the trace\n",
    "fig = go.Figure(trace)\n",
    "\n",
    "# Update the layout\n",
    "fig.update_layout(\n",
    "    title=\"Average overallScore by regionName\",\n",
    "    xaxis=dict(title=\"regionName\"),\n",
    "    yaxis=dict(title=\"Average overallScore\"),\n",
    ")\n",
    "\n",
    "# Show the plot\n",
    "fig.show()"
   ]
  },
  {
   "cell_type": "code",
   "execution_count": 13,
   "metadata": {},
   "outputs": [
    {
     "data": {
      "application/vnd.plotly.v1+json": {
       "config": {
        "plotlyServerURL": "https://plot.ly"
       },
       "data": [
        {
         "type": "bar",
         "x": [
          "Africa",
          "Asia",
          "Central America",
          "Europe",
          "North America",
          "Oceania",
          "South America"
         ],
         "y": [
          72.78125,
          74.7948717948718,
          78.52631578947368,
          33.54368932038835,
          21.412103746397694,
          25.434343434343436,
          72.26
         ]
        }
       ],
       "layout": {
        "template": {
         "data": {
          "bar": [
           {
            "error_x": {
             "color": "#2a3f5f"
            },
            "error_y": {
             "color": "#2a3f5f"
            },
            "marker": {
             "line": {
              "color": "#E5ECF6",
              "width": 0.5
             },
             "pattern": {
              "fillmode": "overlay",
              "size": 10,
              "solidity": 0.2
             }
            },
            "type": "bar"
           }
          ],
          "barpolar": [
           {
            "marker": {
             "line": {
              "color": "#E5ECF6",
              "width": 0.5
             },
             "pattern": {
              "fillmode": "overlay",
              "size": 10,
              "solidity": 0.2
             }
            },
            "type": "barpolar"
           }
          ],
          "carpet": [
           {
            "aaxis": {
             "endlinecolor": "#2a3f5f",
             "gridcolor": "white",
             "linecolor": "white",
             "minorgridcolor": "white",
             "startlinecolor": "#2a3f5f"
            },
            "baxis": {
             "endlinecolor": "#2a3f5f",
             "gridcolor": "white",
             "linecolor": "white",
             "minorgridcolor": "white",
             "startlinecolor": "#2a3f5f"
            },
            "type": "carpet"
           }
          ],
          "choropleth": [
           {
            "colorbar": {
             "outlinewidth": 0,
             "ticks": ""
            },
            "type": "choropleth"
           }
          ],
          "contour": [
           {
            "colorbar": {
             "outlinewidth": 0,
             "ticks": ""
            },
            "colorscale": [
             [
              0,
              "#0d0887"
             ],
             [
              0.1111111111111111,
              "#46039f"
             ],
             [
              0.2222222222222222,
              "#7201a8"
             ],
             [
              0.3333333333333333,
              "#9c179e"
             ],
             [
              0.4444444444444444,
              "#bd3786"
             ],
             [
              0.5555555555555556,
              "#d8576b"
             ],
             [
              0.6666666666666666,
              "#ed7953"
             ],
             [
              0.7777777777777778,
              "#fb9f3a"
             ],
             [
              0.8888888888888888,
              "#fdca26"
             ],
             [
              1,
              "#f0f921"
             ]
            ],
            "type": "contour"
           }
          ],
          "contourcarpet": [
           {
            "colorbar": {
             "outlinewidth": 0,
             "ticks": ""
            },
            "type": "contourcarpet"
           }
          ],
          "heatmap": [
           {
            "colorbar": {
             "outlinewidth": 0,
             "ticks": ""
            },
            "colorscale": [
             [
              0,
              "#0d0887"
             ],
             [
              0.1111111111111111,
              "#46039f"
             ],
             [
              0.2222222222222222,
              "#7201a8"
             ],
             [
              0.3333333333333333,
              "#9c179e"
             ],
             [
              0.4444444444444444,
              "#bd3786"
             ],
             [
              0.5555555555555556,
              "#d8576b"
             ],
             [
              0.6666666666666666,
              "#ed7953"
             ],
             [
              0.7777777777777778,
              "#fb9f3a"
             ],
             [
              0.8888888888888888,
              "#fdca26"
             ],
             [
              1,
              "#f0f921"
             ]
            ],
            "type": "heatmap"
           }
          ],
          "heatmapgl": [
           {
            "colorbar": {
             "outlinewidth": 0,
             "ticks": ""
            },
            "colorscale": [
             [
              0,
              "#0d0887"
             ],
             [
              0.1111111111111111,
              "#46039f"
             ],
             [
              0.2222222222222222,
              "#7201a8"
             ],
             [
              0.3333333333333333,
              "#9c179e"
             ],
             [
              0.4444444444444444,
              "#bd3786"
             ],
             [
              0.5555555555555556,
              "#d8576b"
             ],
             [
              0.6666666666666666,
              "#ed7953"
             ],
             [
              0.7777777777777778,
              "#fb9f3a"
             ],
             [
              0.8888888888888888,
              "#fdca26"
             ],
             [
              1,
              "#f0f921"
             ]
            ],
            "type": "heatmapgl"
           }
          ],
          "histogram": [
           {
            "marker": {
             "pattern": {
              "fillmode": "overlay",
              "size": 10,
              "solidity": 0.2
             }
            },
            "type": "histogram"
           }
          ],
          "histogram2d": [
           {
            "colorbar": {
             "outlinewidth": 0,
             "ticks": ""
            },
            "colorscale": [
             [
              0,
              "#0d0887"
             ],
             [
              0.1111111111111111,
              "#46039f"
             ],
             [
              0.2222222222222222,
              "#7201a8"
             ],
             [
              0.3333333333333333,
              "#9c179e"
             ],
             [
              0.4444444444444444,
              "#bd3786"
             ],
             [
              0.5555555555555556,
              "#d8576b"
             ],
             [
              0.6666666666666666,
              "#ed7953"
             ],
             [
              0.7777777777777778,
              "#fb9f3a"
             ],
             [
              0.8888888888888888,
              "#fdca26"
             ],
             [
              1,
              "#f0f921"
             ]
            ],
            "type": "histogram2d"
           }
          ],
          "histogram2dcontour": [
           {
            "colorbar": {
             "outlinewidth": 0,
             "ticks": ""
            },
            "colorscale": [
             [
              0,
              "#0d0887"
             ],
             [
              0.1111111111111111,
              "#46039f"
             ],
             [
              0.2222222222222222,
              "#7201a8"
             ],
             [
              0.3333333333333333,
              "#9c179e"
             ],
             [
              0.4444444444444444,
              "#bd3786"
             ],
             [
              0.5555555555555556,
              "#d8576b"
             ],
             [
              0.6666666666666666,
              "#ed7953"
             ],
             [
              0.7777777777777778,
              "#fb9f3a"
             ],
             [
              0.8888888888888888,
              "#fdca26"
             ],
             [
              1,
              "#f0f921"
             ]
            ],
            "type": "histogram2dcontour"
           }
          ],
          "mesh3d": [
           {
            "colorbar": {
             "outlinewidth": 0,
             "ticks": ""
            },
            "type": "mesh3d"
           }
          ],
          "parcoords": [
           {
            "line": {
             "colorbar": {
              "outlinewidth": 0,
              "ticks": ""
             }
            },
            "type": "parcoords"
           }
          ],
          "pie": [
           {
            "automargin": true,
            "type": "pie"
           }
          ],
          "scatter": [
           {
            "fillpattern": {
             "fillmode": "overlay",
             "size": 10,
             "solidity": 0.2
            },
            "type": "scatter"
           }
          ],
          "scatter3d": [
           {
            "line": {
             "colorbar": {
              "outlinewidth": 0,
              "ticks": ""
             }
            },
            "marker": {
             "colorbar": {
              "outlinewidth": 0,
              "ticks": ""
             }
            },
            "type": "scatter3d"
           }
          ],
          "scattercarpet": [
           {
            "marker": {
             "colorbar": {
              "outlinewidth": 0,
              "ticks": ""
             }
            },
            "type": "scattercarpet"
           }
          ],
          "scattergeo": [
           {
            "marker": {
             "colorbar": {
              "outlinewidth": 0,
              "ticks": ""
             }
            },
            "type": "scattergeo"
           }
          ],
          "scattergl": [
           {
            "marker": {
             "colorbar": {
              "outlinewidth": 0,
              "ticks": ""
             }
            },
            "type": "scattergl"
           }
          ],
          "scattermapbox": [
           {
            "marker": {
             "colorbar": {
              "outlinewidth": 0,
              "ticks": ""
             }
            },
            "type": "scattermapbox"
           }
          ],
          "scatterpolar": [
           {
            "marker": {
             "colorbar": {
              "outlinewidth": 0,
              "ticks": ""
             }
            },
            "type": "scatterpolar"
           }
          ],
          "scatterpolargl": [
           {
            "marker": {
             "colorbar": {
              "outlinewidth": 0,
              "ticks": ""
             }
            },
            "type": "scatterpolargl"
           }
          ],
          "scatterternary": [
           {
            "marker": {
             "colorbar": {
              "outlinewidth": 0,
              "ticks": ""
             }
            },
            "type": "scatterternary"
           }
          ],
          "surface": [
           {
            "colorbar": {
             "outlinewidth": 0,
             "ticks": ""
            },
            "colorscale": [
             [
              0,
              "#0d0887"
             ],
             [
              0.1111111111111111,
              "#46039f"
             ],
             [
              0.2222222222222222,
              "#7201a8"
             ],
             [
              0.3333333333333333,
              "#9c179e"
             ],
             [
              0.4444444444444444,
              "#bd3786"
             ],
             [
              0.5555555555555556,
              "#d8576b"
             ],
             [
              0.6666666666666666,
              "#ed7953"
             ],
             [
              0.7777777777777778,
              "#fb9f3a"
             ],
             [
              0.8888888888888888,
              "#fdca26"
             ],
             [
              1,
              "#f0f921"
             ]
            ],
            "type": "surface"
           }
          ],
          "table": [
           {
            "cells": {
             "fill": {
              "color": "#EBF0F8"
             },
             "line": {
              "color": "white"
             }
            },
            "header": {
             "fill": {
              "color": "#C8D4E3"
             },
             "line": {
              "color": "white"
             }
            },
            "type": "table"
           }
          ]
         },
         "layout": {
          "annotationdefaults": {
           "arrowcolor": "#2a3f5f",
           "arrowhead": 0,
           "arrowwidth": 1
          },
          "autotypenumbers": "strict",
          "coloraxis": {
           "colorbar": {
            "outlinewidth": 0,
            "ticks": ""
           }
          },
          "colorscale": {
           "diverging": [
            [
             0,
             "#8e0152"
            ],
            [
             0.1,
             "#c51b7d"
            ],
            [
             0.2,
             "#de77ae"
            ],
            [
             0.3,
             "#f1b6da"
            ],
            [
             0.4,
             "#fde0ef"
            ],
            [
             0.5,
             "#f7f7f7"
            ],
            [
             0.6,
             "#e6f5d0"
            ],
            [
             0.7,
             "#b8e186"
            ],
            [
             0.8,
             "#7fbc41"
            ],
            [
             0.9,
             "#4d9221"
            ],
            [
             1,
             "#276419"
            ]
           ],
           "sequential": [
            [
             0,
             "#0d0887"
            ],
            [
             0.1111111111111111,
             "#46039f"
            ],
            [
             0.2222222222222222,
             "#7201a8"
            ],
            [
             0.3333333333333333,
             "#9c179e"
            ],
            [
             0.4444444444444444,
             "#bd3786"
            ],
            [
             0.5555555555555556,
             "#d8576b"
            ],
            [
             0.6666666666666666,
             "#ed7953"
            ],
            [
             0.7777777777777778,
             "#fb9f3a"
            ],
            [
             0.8888888888888888,
             "#fdca26"
            ],
            [
             1,
             "#f0f921"
            ]
           ],
           "sequentialminus": [
            [
             0,
             "#0d0887"
            ],
            [
             0.1111111111111111,
             "#46039f"
            ],
            [
             0.2222222222222222,
             "#7201a8"
            ],
            [
             0.3333333333333333,
             "#9c179e"
            ],
            [
             0.4444444444444444,
             "#bd3786"
            ],
            [
             0.5555555555555556,
             "#d8576b"
            ],
            [
             0.6666666666666666,
             "#ed7953"
            ],
            [
             0.7777777777777778,
             "#fb9f3a"
            ],
            [
             0.8888888888888888,
             "#fdca26"
            ],
            [
             1,
             "#f0f921"
            ]
           ]
          },
          "colorway": [
           "#636efa",
           "#EF553B",
           "#00cc96",
           "#ab63fa",
           "#FFA15A",
           "#19d3f3",
           "#FF6692",
           "#B6E880",
           "#FF97FF",
           "#FECB52"
          ],
          "font": {
           "color": "#2a3f5f"
          },
          "geo": {
           "bgcolor": "white",
           "lakecolor": "white",
           "landcolor": "#E5ECF6",
           "showlakes": true,
           "showland": true,
           "subunitcolor": "white"
          },
          "hoverlabel": {
           "align": "left"
          },
          "hovermode": "closest",
          "mapbox": {
           "style": "light"
          },
          "paper_bgcolor": "white",
          "plot_bgcolor": "#E5ECF6",
          "polar": {
           "angularaxis": {
            "gridcolor": "white",
            "linecolor": "white",
            "ticks": ""
           },
           "bgcolor": "#E5ECF6",
           "radialaxis": {
            "gridcolor": "white",
            "linecolor": "white",
            "ticks": ""
           }
          },
          "scene": {
           "xaxis": {
            "backgroundcolor": "#E5ECF6",
            "gridcolor": "white",
            "gridwidth": 2,
            "linecolor": "white",
            "showbackground": true,
            "ticks": "",
            "zerolinecolor": "white"
           },
           "yaxis": {
            "backgroundcolor": "#E5ECF6",
            "gridcolor": "white",
            "gridwidth": 2,
            "linecolor": "white",
            "showbackground": true,
            "ticks": "",
            "zerolinecolor": "white"
           },
           "zaxis": {
            "backgroundcolor": "#E5ECF6",
            "gridcolor": "white",
            "gridwidth": 2,
            "linecolor": "white",
            "showbackground": true,
            "ticks": "",
            "zerolinecolor": "white"
           }
          },
          "shapedefaults": {
           "line": {
            "color": "#2a3f5f"
           }
          },
          "ternary": {
           "aaxis": {
            "gridcolor": "white",
            "linecolor": "white",
            "ticks": ""
           },
           "baxis": {
            "gridcolor": "white",
            "linecolor": "white",
            "ticks": ""
           },
           "bgcolor": "#E5ECF6",
           "caxis": {
            "gridcolor": "white",
            "linecolor": "white",
            "ticks": ""
           }
          },
          "title": {
           "x": 0.05
          },
          "xaxis": {
           "automargin": true,
           "gridcolor": "white",
           "linecolor": "white",
           "ticks": "",
           "title": {
            "standoff": 15
           },
           "zerolinecolor": "white",
           "zerolinewidth": 2
          },
          "yaxis": {
           "automargin": true,
           "gridcolor": "white",
           "linecolor": "white",
           "ticks": "",
           "title": {
            "standoff": 15
           },
           "zerolinecolor": "white",
           "zerolinewidth": 2
          }
         }
        },
        "title": {
         "text": "Average overallRank by regionName"
        },
        "xaxis": {
         "title": {
          "text": "regionName"
         }
        },
        "yaxis": {
         "title": {
          "text": "Average overallRank"
         }
        }
       }
      }
     },
     "metadata": {},
     "output_type": "display_data"
    }
   ],
   "source": [
    "# Create a average rank per region\n",
    "average_rank = df_games_and_open.groupby('regionName')['overallRank'].mean()\n",
    "\n",
    "# Create a histogram trace for the current column\n",
    "trace = go.Bar(\n",
    "    x=average_rank.index,\n",
    "    y=average_rank.values\n",
    ")\n",
    "\n",
    "# Create the figure and add the trace\n",
    "fig = go.Figure(trace)\n",
    "\n",
    "# Update the layout\n",
    "fig.update_layout(\n",
    "    title=\"Average overallRank by regionName\",\n",
    "    xaxis=dict(title=\"regionName\"),\n",
    "    yaxis=dict(title=\"Average overallRank\"),\n",
    ")\n",
    "\n",
    "# Show the plot\n",
    "fig.show()"
   ]
  }
 ],
 "metadata": {
  "kernelspec": {
   "display_name": "Python 3",
   "language": "python",
   "name": "python3"
  },
  "language_info": {
   "codemirror_mode": {
    "name": "ipython",
    "version": 3
   },
   "file_extension": ".py",
   "mimetype": "text/x-python",
   "name": "python",
   "nbconvert_exporter": "python",
   "pygments_lexer": "ipython3",
   "version": "3.11.4"
  },
  "orig_nbformat": 4
 },
 "nbformat": 4,
 "nbformat_minor": 2
}
