{
 "cells": [
  {
   "cell_type": "markdown",
   "metadata": {},
   "source": [
    "# Imports"
   ]
  },
  {
   "cell_type": "code",
   "execution_count": 1,
   "metadata": {},
   "outputs": [],
   "source": [
    "import pandas as pd\n",
    "import numpy as np\n",
    "import plotly.graph_objects as go\n",
    "import plotly.express as px"
   ]
  },
  {
   "cell_type": "markdown",
   "metadata": {},
   "source": [
    "# Definitions"
   ]
  },
  {
   "cell_type": "code",
   "execution_count": 2,
   "metadata": {},
   "outputs": [],
   "source": [
    "base_path = \"C:/Users/Zi/Documents/data-science-crossfit/\""
   ]
  },
  {
   "cell_type": "markdown",
   "metadata": {},
   "source": [
    "# Data Analysis"
   ]
  },
  {
   "cell_type": "markdown",
   "metadata": {},
   "source": [
    "### Games"
   ]
  },
  {
   "cell_type": "code",
   "execution_count": 3,
   "metadata": {},
   "outputs": [],
   "source": [
    "df_games_conso = pd.read_csv(base_path + \"csv_files/version_2_clean_data/df_games_conso.csv\")\n",
    "df_games_conso = df_games_conso[df_games_conso['year'] != 2023]"
   ]
  },
  {
   "cell_type": "code",
   "execution_count": 4,
   "metadata": {},
   "outputs": [
    {
     "data": {
      "text/html": [
       "<div>\n",
       "<style scoped>\n",
       "    .dataframe tbody tr th:only-of-type {\n",
       "        vertical-align: middle;\n",
       "    }\n",
       "\n",
       "    .dataframe tbody tr th {\n",
       "        vertical-align: top;\n",
       "    }\n",
       "\n",
       "    .dataframe thead th {\n",
       "        text-align: right;\n",
       "    }\n",
       "</style>\n",
       "<table border=\"1\" class=\"dataframe\">\n",
       "  <thead>\n",
       "    <tr style=\"text-align: right;\">\n",
       "      <th></th>\n",
       "      <th>competitorId</th>\n",
       "      <th>competitorName</th>\n",
       "      <th>firstName</th>\n",
       "      <th>lastName</th>\n",
       "      <th>status</th>\n",
       "      <th>gender</th>\n",
       "      <th>countryOfOriginCode</th>\n",
       "      <th>countryOfOriginName</th>\n",
       "      <th>regionId</th>\n",
       "      <th>regionName</th>\n",
       "      <th>affiliateId</th>\n",
       "      <th>affiliateName</th>\n",
       "      <th>age</th>\n",
       "      <th>height</th>\n",
       "      <th>weight</th>\n",
       "      <th>overallRank</th>\n",
       "      <th>overallScore</th>\n",
       "      <th>genderId</th>\n",
       "      <th>year</th>\n",
       "      <th>bmi</th>\n",
       "    </tr>\n",
       "  </thead>\n",
       "  <tbody>\n",
       "    <tr>\n",
       "      <th>0</th>\n",
       "      <td>164070</td>\n",
       "      <td>James Fitzgerald</td>\n",
       "      <td>James</td>\n",
       "      <td>Fitzgerald</td>\n",
       "      <td>ACT</td>\n",
       "      <td>M</td>\n",
       "      <td>0</td>\n",
       "      <td>NaN</td>\n",
       "      <td>0</td>\n",
       "      <td>NaN</td>\n",
       "      <td>0.0</td>\n",
       "      <td>NaN</td>\n",
       "      <td>33.0</td>\n",
       "      <td>176.0</td>\n",
       "      <td>80.0</td>\n",
       "      <td>1</td>\n",
       "      <td>272</td>\n",
       "      <td>1</td>\n",
       "      <td>2007</td>\n",
       "      <td>25.826446</td>\n",
       "    </tr>\n",
       "    <tr>\n",
       "      <th>1</th>\n",
       "      <td>57785</td>\n",
       "      <td>Brett Marshall</td>\n",
       "      <td>Brett</td>\n",
       "      <td>Marshall</td>\n",
       "      <td>ACT</td>\n",
       "      <td>M</td>\n",
       "      <td>0</td>\n",
       "      <td>NaN</td>\n",
       "      <td>0</td>\n",
       "      <td>NaN</td>\n",
       "      <td>0.0</td>\n",
       "      <td>NaN</td>\n",
       "      <td>33.0</td>\n",
       "      <td>168.0</td>\n",
       "      <td>71.0</td>\n",
       "      <td>2</td>\n",
       "      <td>270</td>\n",
       "      <td>1</td>\n",
       "      <td>2007</td>\n",
       "      <td>25.155896</td>\n",
       "    </tr>\n",
       "    <tr>\n",
       "      <th>2</th>\n",
       "      <td>10091</td>\n",
       "      <td>Josh Everett</td>\n",
       "      <td>Josh</td>\n",
       "      <td>Everett</td>\n",
       "      <td>ACT</td>\n",
       "      <td>M</td>\n",
       "      <td>0</td>\n",
       "      <td>NaN</td>\n",
       "      <td>0</td>\n",
       "      <td>NaN</td>\n",
       "      <td>0.0</td>\n",
       "      <td>NaN</td>\n",
       "      <td>32.0</td>\n",
       "      <td>176.0</td>\n",
       "      <td>84.0</td>\n",
       "      <td>3</td>\n",
       "      <td>267</td>\n",
       "      <td>1</td>\n",
       "      <td>2007</td>\n",
       "      <td>27.117769</td>\n",
       "    </tr>\n",
       "    <tr>\n",
       "      <th>3</th>\n",
       "      <td>27065</td>\n",
       "      <td>Chris Spealler</td>\n",
       "      <td>Chris</td>\n",
       "      <td>Spealler</td>\n",
       "      <td>ACT</td>\n",
       "      <td>M</td>\n",
       "      <td>0</td>\n",
       "      <td>NaN</td>\n",
       "      <td>0</td>\n",
       "      <td>NaN</td>\n",
       "      <td>0.0</td>\n",
       "      <td>NaN</td>\n",
       "      <td>28.0</td>\n",
       "      <td>166.0</td>\n",
       "      <td>65.0</td>\n",
       "      <td>4</td>\n",
       "      <td>261</td>\n",
       "      <td>1</td>\n",
       "      <td>2007</td>\n",
       "      <td>23.588329</td>\n",
       "    </tr>\n",
       "    <tr>\n",
       "      <th>4</th>\n",
       "      <td>7173</td>\n",
       "      <td>Breck Berry</td>\n",
       "      <td>Breck</td>\n",
       "      <td>Berry</td>\n",
       "      <td>ACT</td>\n",
       "      <td>M</td>\n",
       "      <td>0</td>\n",
       "      <td>NaN</td>\n",
       "      <td>0</td>\n",
       "      <td>NaN</td>\n",
       "      <td>0.0</td>\n",
       "      <td>NaN</td>\n",
       "      <td>31.0</td>\n",
       "      <td>171.0</td>\n",
       "      <td>78.0</td>\n",
       "      <td>5</td>\n",
       "      <td>252</td>\n",
       "      <td>1</td>\n",
       "      <td>2007</td>\n",
       "      <td>26.674874</td>\n",
       "    </tr>\n",
       "    <tr>\n",
       "      <th>...</th>\n",
       "      <td>...</td>\n",
       "      <td>...</td>\n",
       "      <td>...</td>\n",
       "      <td>...</td>\n",
       "      <td>...</td>\n",
       "      <td>...</td>\n",
       "      <td>...</td>\n",
       "      <td>...</td>\n",
       "      <td>...</td>\n",
       "      <td>...</td>\n",
       "      <td>...</td>\n",
       "      <td>...</td>\n",
       "      <td>...</td>\n",
       "      <td>...</td>\n",
       "      <td>...</td>\n",
       "      <td>...</td>\n",
       "      <td>...</td>\n",
       "      <td>...</td>\n",
       "      <td>...</td>\n",
       "      <td>...</td>\n",
       "    </tr>\n",
       "    <tr>\n",
       "      <th>1628</th>\n",
       "      <td>314703</td>\n",
       "      <td>Caroline Conners</td>\n",
       "      <td>Caroline</td>\n",
       "      <td>Conners</td>\n",
       "      <td>CUT</td>\n",
       "      <td>F</td>\n",
       "      <td>1</td>\n",
       "      <td>United States</td>\n",
       "      <td>1</td>\n",
       "      <td>North America</td>\n",
       "      <td>1926.0</td>\n",
       "      <td>CrossFit MF</td>\n",
       "      <td>29.0</td>\n",
       "      <td>155.0</td>\n",
       "      <td>61.0</td>\n",
       "      <td>36</td>\n",
       "      <td>281</td>\n",
       "      <td>2</td>\n",
       "      <td>2022</td>\n",
       "      <td>25.390219</td>\n",
       "    </tr>\n",
       "    <tr>\n",
       "      <th>1629</th>\n",
       "      <td>1558034</td>\n",
       "      <td>Julia Kato</td>\n",
       "      <td>Julia</td>\n",
       "      <td>Kato</td>\n",
       "      <td>CUT</td>\n",
       "      <td>F</td>\n",
       "      <td>19</td>\n",
       "      <td>Brazil</td>\n",
       "      <td>3</td>\n",
       "      <td>South America</td>\n",
       "      <td>17913.0</td>\n",
       "      <td>CrossFit Al Ain</td>\n",
       "      <td>22.0</td>\n",
       "      <td>159.0</td>\n",
       "      <td>67.0</td>\n",
       "      <td>37</td>\n",
       "      <td>258</td>\n",
       "      <td>2</td>\n",
       "      <td>2022</td>\n",
       "      <td>26.502116</td>\n",
       "    </tr>\n",
       "    <tr>\n",
       "      <th>1630</th>\n",
       "      <td>762495</td>\n",
       "      <td>Elena Carratala Sanahuja</td>\n",
       "      <td>Elena</td>\n",
       "      <td>Carratala Sanahuja</td>\n",
       "      <td>CUT</td>\n",
       "      <td>F</td>\n",
       "      <td>15</td>\n",
       "      <td>Spain</td>\n",
       "      <td>4</td>\n",
       "      <td>Europe</td>\n",
       "      <td>19523.0</td>\n",
       "      <td>CrossFit 4 Friends</td>\n",
       "      <td>28.0</td>\n",
       "      <td>164.0</td>\n",
       "      <td>63.0</td>\n",
       "      <td>38</td>\n",
       "      <td>223</td>\n",
       "      <td>2</td>\n",
       "      <td>2022</td>\n",
       "      <td>23.423557</td>\n",
       "    </tr>\n",
       "    <tr>\n",
       "      <th>1631</th>\n",
       "      <td>505225</td>\n",
       "      <td>Michelle Merand</td>\n",
       "      <td>Michelle</td>\n",
       "      <td>Merand</td>\n",
       "      <td>CUT</td>\n",
       "      <td>F</td>\n",
       "      <td>9</td>\n",
       "      <td>South Africa</td>\n",
       "      <td>5</td>\n",
       "      <td>Africa</td>\n",
       "      <td>0.0</td>\n",
       "      <td>NaN</td>\n",
       "      <td>33.0</td>\n",
       "      <td>158.0</td>\n",
       "      <td>60.0</td>\n",
       "      <td>39</td>\n",
       "      <td>210</td>\n",
       "      <td>2</td>\n",
       "      <td>2022</td>\n",
       "      <td>24.034610</td>\n",
       "    </tr>\n",
       "    <tr>\n",
       "      <th>1632</th>\n",
       "      <td>484380</td>\n",
       "      <td>Emily Rolfe</td>\n",
       "      <td>Emily</td>\n",
       "      <td>Rolfe</td>\n",
       "      <td>WD</td>\n",
       "      <td>F</td>\n",
       "      <td>5</td>\n",
       "      <td>Canada</td>\n",
       "      <td>1</td>\n",
       "      <td>North America</td>\n",
       "      <td>22956.0</td>\n",
       "      <td>CrossFit Sea Level</td>\n",
       "      <td>33.0</td>\n",
       "      <td>170.0</td>\n",
       "      <td>69.0</td>\n",
       "      <td>40</td>\n",
       "      <td>61</td>\n",
       "      <td>2</td>\n",
       "      <td>2022</td>\n",
       "      <td>23.875433</td>\n",
       "    </tr>\n",
       "  </tbody>\n",
       "</table>\n",
       "<p>1633 rows × 20 columns</p>\n",
       "</div>"
      ],
      "text/plain": [
       "      competitorId            competitorName firstName            lastName  \\\n",
       "0           164070          James Fitzgerald     James          Fitzgerald   \n",
       "1            57785            Brett Marshall     Brett            Marshall   \n",
       "2            10091              Josh Everett      Josh             Everett   \n",
       "3            27065            Chris Spealler     Chris            Spealler   \n",
       "4             7173               Breck Berry     Breck               Berry   \n",
       "...            ...                       ...       ...                 ...   \n",
       "1628        314703          Caroline Conners  Caroline             Conners   \n",
       "1629       1558034                Julia Kato     Julia                Kato   \n",
       "1630        762495  Elena Carratala Sanahuja     Elena  Carratala Sanahuja   \n",
       "1631        505225           Michelle Merand  Michelle              Merand   \n",
       "1632        484380               Emily Rolfe     Emily               Rolfe   \n",
       "\n",
       "     status gender  countryOfOriginCode countryOfOriginName  regionId  \\\n",
       "0       ACT      M                    0                 NaN         0   \n",
       "1       ACT      M                    0                 NaN         0   \n",
       "2       ACT      M                    0                 NaN         0   \n",
       "3       ACT      M                    0                 NaN         0   \n",
       "4       ACT      M                    0                 NaN         0   \n",
       "...     ...    ...                  ...                 ...       ...   \n",
       "1628    CUT      F                    1       United States         1   \n",
       "1629    CUT      F                   19              Brazil         3   \n",
       "1630    CUT      F                   15               Spain         4   \n",
       "1631    CUT      F                    9        South Africa         5   \n",
       "1632     WD      F                    5              Canada         1   \n",
       "\n",
       "         regionName  affiliateId       affiliateName   age  height  weight  \\\n",
       "0               NaN          0.0                 NaN  33.0   176.0    80.0   \n",
       "1               NaN          0.0                 NaN  33.0   168.0    71.0   \n",
       "2               NaN          0.0                 NaN  32.0   176.0    84.0   \n",
       "3               NaN          0.0                 NaN  28.0   166.0    65.0   \n",
       "4               NaN          0.0                 NaN  31.0   171.0    78.0   \n",
       "...             ...          ...                 ...   ...     ...     ...   \n",
       "1628  North America       1926.0         CrossFit MF  29.0   155.0    61.0   \n",
       "1629  South America      17913.0     CrossFit Al Ain  22.0   159.0    67.0   \n",
       "1630         Europe      19523.0  CrossFit 4 Friends  28.0   164.0    63.0   \n",
       "1631         Africa          0.0                 NaN  33.0   158.0    60.0   \n",
       "1632  North America      22956.0  CrossFit Sea Level  33.0   170.0    69.0   \n",
       "\n",
       "      overallRank  overallScore  genderId  year        bmi  \n",
       "0               1           272         1  2007  25.826446  \n",
       "1               2           270         1  2007  25.155896  \n",
       "2               3           267         1  2007  27.117769  \n",
       "3               4           261         1  2007  23.588329  \n",
       "4               5           252         1  2007  26.674874  \n",
       "...           ...           ...       ...   ...        ...  \n",
       "1628           36           281         2  2022  25.390219  \n",
       "1629           37           258         2  2022  26.502116  \n",
       "1630           38           223         2  2022  23.423557  \n",
       "1631           39           210         2  2022  24.034610  \n",
       "1632           40            61         2  2022  23.875433  \n",
       "\n",
       "[1633 rows x 20 columns]"
      ]
     },
     "execution_count": 4,
     "metadata": {},
     "output_type": "execute_result"
    }
   ],
   "source": [
    "df_games_conso"
   ]
  },
  {
   "cell_type": "code",
   "execution_count": 5,
   "metadata": {},
   "outputs": [
    {
     "name": "stdout",
     "output_type": "stream",
     "text": [
      "<class 'pandas.core.frame.DataFrame'>\n",
      "Index: 1633 entries, 0 to 1632\n",
      "Data columns (total 20 columns):\n",
      " #   Column               Non-Null Count  Dtype  \n",
      "---  ------               --------------  -----  \n",
      " 0   competitorId         1633 non-null   int64  \n",
      " 1   competitorName       1633 non-null   object \n",
      " 2   firstName            1633 non-null   object \n",
      " 3   lastName             1632 non-null   object \n",
      " 4   status               1633 non-null   object \n",
      " 5   gender               1633 non-null   object \n",
      " 6   countryOfOriginCode  1633 non-null   int64  \n",
      " 7   countryOfOriginName  1140 non-null   object \n",
      " 8   regionId             1633 non-null   int64  \n",
      " 9   regionName           1178 non-null   object \n",
      " 10  affiliateId          1633 non-null   float64\n",
      " 11  affiliateName        839 non-null    object \n",
      " 12  age                  1633 non-null   float64\n",
      " 13  height               1633 non-null   float64\n",
      " 14  weight               1633 non-null   float64\n",
      " 15  overallRank          1633 non-null   int64  \n",
      " 16  overallScore         1633 non-null   int64  \n",
      " 17  genderId             1633 non-null   int64  \n",
      " 18  year                 1633 non-null   int64  \n",
      " 19  bmi                  1633 non-null   float64\n",
      "dtypes: float64(5), int64(7), object(8)\n",
      "memory usage: 267.9+ KB\n"
     ]
    }
   ],
   "source": [
    "df_games_conso.info()"
   ]
  },
  {
   "cell_type": "markdown",
   "metadata": {},
   "source": [
    "##### Numeric Variables"
   ]
  },
  {
   "cell_type": "code",
   "execution_count": 6,
   "metadata": {},
   "outputs": [
    {
     "data": {
      "text/html": [
       "<div>\n",
       "<style scoped>\n",
       "    .dataframe tbody tr th:only-of-type {\n",
       "        vertical-align: middle;\n",
       "    }\n",
       "\n",
       "    .dataframe tbody tr th {\n",
       "        vertical-align: top;\n",
       "    }\n",
       "\n",
       "    .dataframe thead th {\n",
       "        text-align: right;\n",
       "    }\n",
       "</style>\n",
       "<table border=\"1\" class=\"dataframe\">\n",
       "  <thead>\n",
       "    <tr style=\"text-align: right;\">\n",
       "      <th></th>\n",
       "      <th>count</th>\n",
       "      <th>mean</th>\n",
       "      <th>std</th>\n",
       "      <th>min</th>\n",
       "      <th>25%</th>\n",
       "      <th>50%</th>\n",
       "      <th>75%</th>\n",
       "      <th>max</th>\n",
       "    </tr>\n",
       "  </thead>\n",
       "  <tbody>\n",
       "    <tr>\n",
       "      <th>competitorId</th>\n",
       "      <td>1633.0</td>\n",
       "      <td>317673.375383</td>\n",
       "      <td>562906.224038</td>\n",
       "      <td>1616.00000</td>\n",
       "      <td>15679.000000</td>\n",
       "      <td>58489.000000</td>\n",
       "      <td>310970.000000</td>\n",
       "      <td>2.377152e+06</td>\n",
       "    </tr>\n",
       "    <tr>\n",
       "      <th>countryOfOriginCode</th>\n",
       "      <td>1633.0</td>\n",
       "      <td>9.276791</td>\n",
       "      <td>22.034021</td>\n",
       "      <td>0.00000</td>\n",
       "      <td>0.000000</td>\n",
       "      <td>1.000000</td>\n",
       "      <td>5.000000</td>\n",
       "      <td>1.150000e+02</td>\n",
       "    </tr>\n",
       "    <tr>\n",
       "      <th>regionId</th>\n",
       "      <td>1633.0</td>\n",
       "      <td>1.853644</td>\n",
       "      <td>2.124210</td>\n",
       "      <td>0.00000</td>\n",
       "      <td>0.000000</td>\n",
       "      <td>1.000000</td>\n",
       "      <td>4.000000</td>\n",
       "      <td>7.000000e+00</td>\n",
       "    </tr>\n",
       "    <tr>\n",
       "      <th>affiliateId</th>\n",
       "      <td>1633.0</td>\n",
       "      <td>3944.567055</td>\n",
       "      <td>6285.218117</td>\n",
       "      <td>0.00000</td>\n",
       "      <td>0.000000</td>\n",
       "      <td>372.000000</td>\n",
       "      <td>5490.000000</td>\n",
       "      <td>2.960900e+04</td>\n",
       "    </tr>\n",
       "    <tr>\n",
       "      <th>age</th>\n",
       "      <td>1633.0</td>\n",
       "      <td>27.901944</td>\n",
       "      <td>4.540692</td>\n",
       "      <td>13.00000</td>\n",
       "      <td>25.000000</td>\n",
       "      <td>27.881491</td>\n",
       "      <td>30.000000</td>\n",
       "      <td>5.400000e+01</td>\n",
       "    </tr>\n",
       "    <tr>\n",
       "      <th>height</th>\n",
       "      <td>1633.0</td>\n",
       "      <td>171.785128</td>\n",
       "      <td>8.450826</td>\n",
       "      <td>150.00000</td>\n",
       "      <td>165.374825</td>\n",
       "      <td>171.000000</td>\n",
       "      <td>178.000000</td>\n",
       "      <td>1.990000e+02</td>\n",
       "    </tr>\n",
       "    <tr>\n",
       "      <th>weight</th>\n",
       "      <td>1633.0</td>\n",
       "      <td>77.746615</td>\n",
       "      <td>12.987179</td>\n",
       "      <td>50.00000</td>\n",
       "      <td>65.663854</td>\n",
       "      <td>80.000000</td>\n",
       "      <td>88.375447</td>\n",
       "      <td>1.090000e+02</td>\n",
       "    </tr>\n",
       "    <tr>\n",
       "      <th>overallRank</th>\n",
       "      <td>1633.0</td>\n",
       "      <td>33.088794</td>\n",
       "      <td>28.944463</td>\n",
       "      <td>-1.00000</td>\n",
       "      <td>13.000000</td>\n",
       "      <td>26.000000</td>\n",
       "      <td>40.000000</td>\n",
       "      <td>1.410000e+02</td>\n",
       "    </tr>\n",
       "    <tr>\n",
       "      <th>overallScore</th>\n",
       "      <td>1633.0</td>\n",
       "      <td>326.676056</td>\n",
       "      <td>296.719965</td>\n",
       "      <td>0.00000</td>\n",
       "      <td>48.000000</td>\n",
       "      <td>237.000000</td>\n",
       "      <td>562.000000</td>\n",
       "      <td>1.435000e+03</td>\n",
       "    </tr>\n",
       "    <tr>\n",
       "      <th>genderId</th>\n",
       "      <td>1633.0</td>\n",
       "      <td>1.461115</td>\n",
       "      <td>0.498638</td>\n",
       "      <td>1.00000</td>\n",
       "      <td>1.000000</td>\n",
       "      <td>1.000000</td>\n",
       "      <td>2.000000</td>\n",
       "      <td>2.000000e+00</td>\n",
       "    </tr>\n",
       "    <tr>\n",
       "      <th>year</th>\n",
       "      <td>1633.0</td>\n",
       "      <td>2014.430496</td>\n",
       "      <td>4.650029</td>\n",
       "      <td>2007.00000</td>\n",
       "      <td>2010.000000</td>\n",
       "      <td>2014.000000</td>\n",
       "      <td>2019.000000</td>\n",
       "      <td>2.022000e+03</td>\n",
       "    </tr>\n",
       "    <tr>\n",
       "      <th>bmi</th>\n",
       "      <td>1633.0</td>\n",
       "      <td>26.169534</td>\n",
       "      <td>2.659314</td>\n",
       "      <td>15.65617</td>\n",
       "      <td>24.013081</td>\n",
       "      <td>26.216410</td>\n",
       "      <td>28.086260</td>\n",
       "      <td>3.955556e+01</td>\n",
       "    </tr>\n",
       "  </tbody>\n",
       "</table>\n",
       "</div>"
      ],
      "text/plain": [
       "                      count           mean            std         min  \\\n",
       "competitorId         1633.0  317673.375383  562906.224038  1616.00000   \n",
       "countryOfOriginCode  1633.0       9.276791      22.034021     0.00000   \n",
       "regionId             1633.0       1.853644       2.124210     0.00000   \n",
       "affiliateId          1633.0    3944.567055    6285.218117     0.00000   \n",
       "age                  1633.0      27.901944       4.540692    13.00000   \n",
       "height               1633.0     171.785128       8.450826   150.00000   \n",
       "weight               1633.0      77.746615      12.987179    50.00000   \n",
       "overallRank          1633.0      33.088794      28.944463    -1.00000   \n",
       "overallScore         1633.0     326.676056     296.719965     0.00000   \n",
       "genderId             1633.0       1.461115       0.498638     1.00000   \n",
       "year                 1633.0    2014.430496       4.650029  2007.00000   \n",
       "bmi                  1633.0      26.169534       2.659314    15.65617   \n",
       "\n",
       "                              25%           50%            75%           max  \n",
       "competitorId         15679.000000  58489.000000  310970.000000  2.377152e+06  \n",
       "countryOfOriginCode      0.000000      1.000000       5.000000  1.150000e+02  \n",
       "regionId                 0.000000      1.000000       4.000000  7.000000e+00  \n",
       "affiliateId              0.000000    372.000000    5490.000000  2.960900e+04  \n",
       "age                     25.000000     27.881491      30.000000  5.400000e+01  \n",
       "height                 165.374825    171.000000     178.000000  1.990000e+02  \n",
       "weight                  65.663854     80.000000      88.375447  1.090000e+02  \n",
       "overallRank             13.000000     26.000000      40.000000  1.410000e+02  \n",
       "overallScore            48.000000    237.000000     562.000000  1.435000e+03  \n",
       "genderId                 1.000000      1.000000       2.000000  2.000000e+00  \n",
       "year                  2010.000000   2014.000000    2019.000000  2.022000e+03  \n",
       "bmi                     24.013081     26.216410      28.086260  3.955556e+01  "
      ]
     },
     "execution_count": 6,
     "metadata": {},
     "output_type": "execute_result"
    }
   ],
   "source": [
    "numerical_games = df_games_conso.select_dtypes(include=[np.number])\n",
    "numerical_games.describe().T"
   ]
  },
  {
   "cell_type": "code",
   "execution_count": 7,
   "metadata": {},
   "outputs": [
    {
     "data": {
      "application/vnd.plotly.v1+json": {
       "config": {
        "plotlyServerURL": "https://plot.ly"
       },
       "data": [
        {
         "colorbar": {
          "title": {
           "text": "Correlation"
          }
         },
         "colorscale": [
          [
           0,
           "rgb(103,0,31)"
          ],
          [
           0.1,
           "rgb(178,24,43)"
          ],
          [
           0.2,
           "rgb(214,96,77)"
          ],
          [
           0.3,
           "rgb(244,165,130)"
          ],
          [
           0.4,
           "rgb(253,219,199)"
          ],
          [
           0.5,
           "rgb(247,247,247)"
          ],
          [
           0.6,
           "rgb(209,229,240)"
          ],
          [
           0.7,
           "rgb(146,197,222)"
          ],
          [
           0.8,
           "rgb(67,147,195)"
          ],
          [
           0.9,
           "rgb(33,102,172)"
          ],
          [
           1,
           "rgb(5,48,97)"
          ]
         ],
         "type": "heatmap",
         "x": [
          "countryOfOriginCode",
          "regionId",
          "affiliateId",
          "age",
          "height",
          "weight",
          "overallRank",
          "overallScore",
          "genderId",
          "bmi"
         ],
         "y": [
          "countryOfOriginCode",
          "regionId",
          "affiliateId",
          "age",
          "height",
          "weight",
          "overallRank",
          "overallScore",
          "genderId",
          "bmi"
         ],
         "z": [
          [
           1,
           0.4664906116205268,
           0.4202812675201818,
           0.0719522844486972,
           -0.08264679877869632,
           -0.0973962154073632,
           0.6223681484730663,
           -0.2688570031957491,
           0.013416930160100088,
           -0.07838478716438636
          ],
          [
           0.4664906116205268,
           1,
           0.37870294389102926,
           -0.05864744602788304,
           -0.09595378732640884,
           -0.07136965765240258,
           0.20368545962343151,
           0.07873347516590208,
           0.06606738038257177,
           -0.02705145271612045
          ],
          [
           0.4202812675201818,
           0.37870294389102926,
           1,
           -0.026879473600859703,
           -0.061621896917678165,
           -0.046931258288707464,
           0.2099046527888561,
           -0.0019142134421842487,
           0.036118727765045655,
           -0.013524088408305492
          ],
          [
           0.0719522844486972,
           -0.05864744602788304,
           -0.026879473600859703,
           1,
           -0.08181160696075467,
           -0.11405961710795591,
           0.14032111249811152,
           -0.15863894233317882,
           0.07607226914543999,
           -0.10843782675009889
          ],
          [
           -0.08264679877869632,
           -0.09595378732640884,
           -0.061621896917678165,
           -0.08181160696075467,
           1,
           0.8399423474502037,
           0.010496927529127604,
           -0.026574766107614434,
           -0.7055255462302865,
           0.4224399818649403
          ],
          [
           -0.0973962154073632,
           -0.07136965765240258,
           -0.046931258288707464,
           -0.11405961710795591,
           0.8399423474502037,
           1,
           -0.0011749087632072289,
           -0.0019214230738784804,
           -0.8695284214407946,
           0.8410483674075729
          ],
          [
           0.6223681484730663,
           0.20368545962343151,
           0.2099046527888561,
           0.14032111249811152,
           0.010496927529127604,
           -0.0011749087632072289,
           1,
           -0.5976591274826527,
           -0.10676841227166989,
           -0.007688259694237509
          ],
          [
           -0.2688570031957491,
           0.07873347516590208,
           -0.0019142134421842487,
           -0.15863894233317882,
           -0.026574766107614434,
           -0.0019214230738784804,
           -0.5976591274826527,
           1,
           0.06792698915867935,
           0.01886541112820754
          ],
          [
           0.013416930160100088,
           0.06606738038257177,
           0.036118727765045655,
           0.07607226914543999,
           -0.7055255462302865,
           -0.8695284214407946,
           -0.10676841227166989,
           0.06792698915867935,
           1,
           -0.7625813077825482
          ],
          [
           -0.07838478716438636,
           -0.02705145271612045,
           -0.013524088408305492,
           -0.10843782675009889,
           0.4224399818649403,
           0.8410483674075729,
           -0.007688259694237509,
           0.01886541112820754,
           -0.7625813077825482,
           1
          ]
         ]
        }
       ],
       "layout": {
        "template": {
         "data": {
          "bar": [
           {
            "error_x": {
             "color": "#2a3f5f"
            },
            "error_y": {
             "color": "#2a3f5f"
            },
            "marker": {
             "line": {
              "color": "#E5ECF6",
              "width": 0.5
             },
             "pattern": {
              "fillmode": "overlay",
              "size": 10,
              "solidity": 0.2
             }
            },
            "type": "bar"
           }
          ],
          "barpolar": [
           {
            "marker": {
             "line": {
              "color": "#E5ECF6",
              "width": 0.5
             },
             "pattern": {
              "fillmode": "overlay",
              "size": 10,
              "solidity": 0.2
             }
            },
            "type": "barpolar"
           }
          ],
          "carpet": [
           {
            "aaxis": {
             "endlinecolor": "#2a3f5f",
             "gridcolor": "white",
             "linecolor": "white",
             "minorgridcolor": "white",
             "startlinecolor": "#2a3f5f"
            },
            "baxis": {
             "endlinecolor": "#2a3f5f",
             "gridcolor": "white",
             "linecolor": "white",
             "minorgridcolor": "white",
             "startlinecolor": "#2a3f5f"
            },
            "type": "carpet"
           }
          ],
          "choropleth": [
           {
            "colorbar": {
             "outlinewidth": 0,
             "ticks": ""
            },
            "type": "choropleth"
           }
          ],
          "contour": [
           {
            "colorbar": {
             "outlinewidth": 0,
             "ticks": ""
            },
            "colorscale": [
             [
              0,
              "#0d0887"
             ],
             [
              0.1111111111111111,
              "#46039f"
             ],
             [
              0.2222222222222222,
              "#7201a8"
             ],
             [
              0.3333333333333333,
              "#9c179e"
             ],
             [
              0.4444444444444444,
              "#bd3786"
             ],
             [
              0.5555555555555556,
              "#d8576b"
             ],
             [
              0.6666666666666666,
              "#ed7953"
             ],
             [
              0.7777777777777778,
              "#fb9f3a"
             ],
             [
              0.8888888888888888,
              "#fdca26"
             ],
             [
              1,
              "#f0f921"
             ]
            ],
            "type": "contour"
           }
          ],
          "contourcarpet": [
           {
            "colorbar": {
             "outlinewidth": 0,
             "ticks": ""
            },
            "type": "contourcarpet"
           }
          ],
          "heatmap": [
           {
            "colorbar": {
             "outlinewidth": 0,
             "ticks": ""
            },
            "colorscale": [
             [
              0,
              "#0d0887"
             ],
             [
              0.1111111111111111,
              "#46039f"
             ],
             [
              0.2222222222222222,
              "#7201a8"
             ],
             [
              0.3333333333333333,
              "#9c179e"
             ],
             [
              0.4444444444444444,
              "#bd3786"
             ],
             [
              0.5555555555555556,
              "#d8576b"
             ],
             [
              0.6666666666666666,
              "#ed7953"
             ],
             [
              0.7777777777777778,
              "#fb9f3a"
             ],
             [
              0.8888888888888888,
              "#fdca26"
             ],
             [
              1,
              "#f0f921"
             ]
            ],
            "type": "heatmap"
           }
          ],
          "heatmapgl": [
           {
            "colorbar": {
             "outlinewidth": 0,
             "ticks": ""
            },
            "colorscale": [
             [
              0,
              "#0d0887"
             ],
             [
              0.1111111111111111,
              "#46039f"
             ],
             [
              0.2222222222222222,
              "#7201a8"
             ],
             [
              0.3333333333333333,
              "#9c179e"
             ],
             [
              0.4444444444444444,
              "#bd3786"
             ],
             [
              0.5555555555555556,
              "#d8576b"
             ],
             [
              0.6666666666666666,
              "#ed7953"
             ],
             [
              0.7777777777777778,
              "#fb9f3a"
             ],
             [
              0.8888888888888888,
              "#fdca26"
             ],
             [
              1,
              "#f0f921"
             ]
            ],
            "type": "heatmapgl"
           }
          ],
          "histogram": [
           {
            "marker": {
             "pattern": {
              "fillmode": "overlay",
              "size": 10,
              "solidity": 0.2
             }
            },
            "type": "histogram"
           }
          ],
          "histogram2d": [
           {
            "colorbar": {
             "outlinewidth": 0,
             "ticks": ""
            },
            "colorscale": [
             [
              0,
              "#0d0887"
             ],
             [
              0.1111111111111111,
              "#46039f"
             ],
             [
              0.2222222222222222,
              "#7201a8"
             ],
             [
              0.3333333333333333,
              "#9c179e"
             ],
             [
              0.4444444444444444,
              "#bd3786"
             ],
             [
              0.5555555555555556,
              "#d8576b"
             ],
             [
              0.6666666666666666,
              "#ed7953"
             ],
             [
              0.7777777777777778,
              "#fb9f3a"
             ],
             [
              0.8888888888888888,
              "#fdca26"
             ],
             [
              1,
              "#f0f921"
             ]
            ],
            "type": "histogram2d"
           }
          ],
          "histogram2dcontour": [
           {
            "colorbar": {
             "outlinewidth": 0,
             "ticks": ""
            },
            "colorscale": [
             [
              0,
              "#0d0887"
             ],
             [
              0.1111111111111111,
              "#46039f"
             ],
             [
              0.2222222222222222,
              "#7201a8"
             ],
             [
              0.3333333333333333,
              "#9c179e"
             ],
             [
              0.4444444444444444,
              "#bd3786"
             ],
             [
              0.5555555555555556,
              "#d8576b"
             ],
             [
              0.6666666666666666,
              "#ed7953"
             ],
             [
              0.7777777777777778,
              "#fb9f3a"
             ],
             [
              0.8888888888888888,
              "#fdca26"
             ],
             [
              1,
              "#f0f921"
             ]
            ],
            "type": "histogram2dcontour"
           }
          ],
          "mesh3d": [
           {
            "colorbar": {
             "outlinewidth": 0,
             "ticks": ""
            },
            "type": "mesh3d"
           }
          ],
          "parcoords": [
           {
            "line": {
             "colorbar": {
              "outlinewidth": 0,
              "ticks": ""
             }
            },
            "type": "parcoords"
           }
          ],
          "pie": [
           {
            "automargin": true,
            "type": "pie"
           }
          ],
          "scatter": [
           {
            "fillpattern": {
             "fillmode": "overlay",
             "size": 10,
             "solidity": 0.2
            },
            "type": "scatter"
           }
          ],
          "scatter3d": [
           {
            "line": {
             "colorbar": {
              "outlinewidth": 0,
              "ticks": ""
             }
            },
            "marker": {
             "colorbar": {
              "outlinewidth": 0,
              "ticks": ""
             }
            },
            "type": "scatter3d"
           }
          ],
          "scattercarpet": [
           {
            "marker": {
             "colorbar": {
              "outlinewidth": 0,
              "ticks": ""
             }
            },
            "type": "scattercarpet"
           }
          ],
          "scattergeo": [
           {
            "marker": {
             "colorbar": {
              "outlinewidth": 0,
              "ticks": ""
             }
            },
            "type": "scattergeo"
           }
          ],
          "scattergl": [
           {
            "marker": {
             "colorbar": {
              "outlinewidth": 0,
              "ticks": ""
             }
            },
            "type": "scattergl"
           }
          ],
          "scattermapbox": [
           {
            "marker": {
             "colorbar": {
              "outlinewidth": 0,
              "ticks": ""
             }
            },
            "type": "scattermapbox"
           }
          ],
          "scatterpolar": [
           {
            "marker": {
             "colorbar": {
              "outlinewidth": 0,
              "ticks": ""
             }
            },
            "type": "scatterpolar"
           }
          ],
          "scatterpolargl": [
           {
            "marker": {
             "colorbar": {
              "outlinewidth": 0,
              "ticks": ""
             }
            },
            "type": "scatterpolargl"
           }
          ],
          "scatterternary": [
           {
            "marker": {
             "colorbar": {
              "outlinewidth": 0,
              "ticks": ""
             }
            },
            "type": "scatterternary"
           }
          ],
          "surface": [
           {
            "colorbar": {
             "outlinewidth": 0,
             "ticks": ""
            },
            "colorscale": [
             [
              0,
              "#0d0887"
             ],
             [
              0.1111111111111111,
              "#46039f"
             ],
             [
              0.2222222222222222,
              "#7201a8"
             ],
             [
              0.3333333333333333,
              "#9c179e"
             ],
             [
              0.4444444444444444,
              "#bd3786"
             ],
             [
              0.5555555555555556,
              "#d8576b"
             ],
             [
              0.6666666666666666,
              "#ed7953"
             ],
             [
              0.7777777777777778,
              "#fb9f3a"
             ],
             [
              0.8888888888888888,
              "#fdca26"
             ],
             [
              1,
              "#f0f921"
             ]
            ],
            "type": "surface"
           }
          ],
          "table": [
           {
            "cells": {
             "fill": {
              "color": "#EBF0F8"
             },
             "line": {
              "color": "white"
             }
            },
            "header": {
             "fill": {
              "color": "#C8D4E3"
             },
             "line": {
              "color": "white"
             }
            },
            "type": "table"
           }
          ]
         },
         "layout": {
          "annotationdefaults": {
           "arrowcolor": "#2a3f5f",
           "arrowhead": 0,
           "arrowwidth": 1
          },
          "autotypenumbers": "strict",
          "coloraxis": {
           "colorbar": {
            "outlinewidth": 0,
            "ticks": ""
           }
          },
          "colorscale": {
           "diverging": [
            [
             0,
             "#8e0152"
            ],
            [
             0.1,
             "#c51b7d"
            ],
            [
             0.2,
             "#de77ae"
            ],
            [
             0.3,
             "#f1b6da"
            ],
            [
             0.4,
             "#fde0ef"
            ],
            [
             0.5,
             "#f7f7f7"
            ],
            [
             0.6,
             "#e6f5d0"
            ],
            [
             0.7,
             "#b8e186"
            ],
            [
             0.8,
             "#7fbc41"
            ],
            [
             0.9,
             "#4d9221"
            ],
            [
             1,
             "#276419"
            ]
           ],
           "sequential": [
            [
             0,
             "#0d0887"
            ],
            [
             0.1111111111111111,
             "#46039f"
            ],
            [
             0.2222222222222222,
             "#7201a8"
            ],
            [
             0.3333333333333333,
             "#9c179e"
            ],
            [
             0.4444444444444444,
             "#bd3786"
            ],
            [
             0.5555555555555556,
             "#d8576b"
            ],
            [
             0.6666666666666666,
             "#ed7953"
            ],
            [
             0.7777777777777778,
             "#fb9f3a"
            ],
            [
             0.8888888888888888,
             "#fdca26"
            ],
            [
             1,
             "#f0f921"
            ]
           ],
           "sequentialminus": [
            [
             0,
             "#0d0887"
            ],
            [
             0.1111111111111111,
             "#46039f"
            ],
            [
             0.2222222222222222,
             "#7201a8"
            ],
            [
             0.3333333333333333,
             "#9c179e"
            ],
            [
             0.4444444444444444,
             "#bd3786"
            ],
            [
             0.5555555555555556,
             "#d8576b"
            ],
            [
             0.6666666666666666,
             "#ed7953"
            ],
            [
             0.7777777777777778,
             "#fb9f3a"
            ],
            [
             0.8888888888888888,
             "#fdca26"
            ],
            [
             1,
             "#f0f921"
            ]
           ]
          },
          "colorway": [
           "#636efa",
           "#EF553B",
           "#00cc96",
           "#ab63fa",
           "#FFA15A",
           "#19d3f3",
           "#FF6692",
           "#B6E880",
           "#FF97FF",
           "#FECB52"
          ],
          "font": {
           "color": "#2a3f5f"
          },
          "geo": {
           "bgcolor": "white",
           "lakecolor": "white",
           "landcolor": "#E5ECF6",
           "showlakes": true,
           "showland": true,
           "subunitcolor": "white"
          },
          "hoverlabel": {
           "align": "left"
          },
          "hovermode": "closest",
          "mapbox": {
           "style": "light"
          },
          "paper_bgcolor": "white",
          "plot_bgcolor": "#E5ECF6",
          "polar": {
           "angularaxis": {
            "gridcolor": "white",
            "linecolor": "white",
            "ticks": ""
           },
           "bgcolor": "#E5ECF6",
           "radialaxis": {
            "gridcolor": "white",
            "linecolor": "white",
            "ticks": ""
           }
          },
          "scene": {
           "xaxis": {
            "backgroundcolor": "#E5ECF6",
            "gridcolor": "white",
            "gridwidth": 2,
            "linecolor": "white",
            "showbackground": true,
            "ticks": "",
            "zerolinecolor": "white"
           },
           "yaxis": {
            "backgroundcolor": "#E5ECF6",
            "gridcolor": "white",
            "gridwidth": 2,
            "linecolor": "white",
            "showbackground": true,
            "ticks": "",
            "zerolinecolor": "white"
           },
           "zaxis": {
            "backgroundcolor": "#E5ECF6",
            "gridcolor": "white",
            "gridwidth": 2,
            "linecolor": "white",
            "showbackground": true,
            "ticks": "",
            "zerolinecolor": "white"
           }
          },
          "shapedefaults": {
           "line": {
            "color": "#2a3f5f"
           }
          },
          "ternary": {
           "aaxis": {
            "gridcolor": "white",
            "linecolor": "white",
            "ticks": ""
           },
           "baxis": {
            "gridcolor": "white",
            "linecolor": "white",
            "ticks": ""
           },
           "bgcolor": "#E5ECF6",
           "caxis": {
            "gridcolor": "white",
            "linecolor": "white",
            "ticks": ""
           }
          },
          "title": {
           "x": 0.05
          },
          "xaxis": {
           "automargin": true,
           "gridcolor": "white",
           "linecolor": "white",
           "ticks": "",
           "title": {
            "standoff": 15
           },
           "zerolinecolor": "white",
           "zerolinewidth": 2
          },
          "yaxis": {
           "automargin": true,
           "gridcolor": "white",
           "linecolor": "white",
           "ticks": "",
           "title": {
            "standoff": 15
           },
           "zerolinecolor": "white",
           "zerolinewidth": 2
          }
         }
        },
        "title": {
         "text": "correlation heatmap"
        },
        "xaxis": {
         "title": {
          "text": "Columns"
         }
        },
        "yaxis": {
         "autorange": "reversed",
         "title": {
          "text": "Columns"
         }
        }
       }
      }
     },
     "metadata": {},
     "output_type": "display_data"
    }
   ],
   "source": [
    "# Calculate the correlation between desired columns\n",
    "numerical_games_correlation = numerical_games.drop(columns=['competitorId', 'year']).corr()\n",
    "\n",
    "# Create the heatmap using Plotly\n",
    "fig = go.Figure(data=go.Heatmap(\n",
    "    z=numerical_games_correlation.values,\n",
    "    x=numerical_games_correlation.columns,\n",
    "    y=numerical_games_correlation.columns,\n",
    "    colorscale='RdBu',\n",
    "    colorbar=dict(title='Correlation'),\n",
    "))\n",
    "\n",
    "# Set the layout options for the heatmap\n",
    "fig.update_layout(\n",
    "    title='correlation heatmap',\n",
    "    xaxis=dict(title='Columns'),\n",
    "    yaxis=dict(title='Columns', autorange='reversed'),\n",
    ")\n",
    "\n",
    "# Show the plot\n",
    "fig.show()"
   ]
  },
  {
   "cell_type": "code",
   "execution_count": 8,
   "metadata": {},
   "outputs": [
    {
     "data": {
      "application/vnd.plotly.v1+json": {
       "config": {
        "plotlyServerURL": "https://plot.ly"
       },
       "data": [
        {
         "name": "year Distribution",
         "nbinsx": 20,
         "type": "histogram",
         "x": [
          2007,
          2007,
          2007,
          2007,
          2007,
          2007,
          2007,
          2007,
          2007,
          2007,
          2007,
          2007,
          2007,
          2007,
          2007,
          2007,
          2007,
          2007,
          2007,
          2007,
          2007,
          2007,
          2007,
          2007,
          2007,
          2007,
          2007,
          2007,
          2007,
          2007,
          2007,
          2007,
          2007,
          2007,
          2007,
          2007,
          2007,
          2007,
          2007,
          2007,
          2007,
          2007,
          2007,
          2007,
          2007,
          2007,
          2007,
          2007,
          2007,
          2007,
          2007,
          2007,
          2007,
          2007,
          2007,
          2007,
          2007,
          2007,
          2007,
          2007,
          2007,
          2007,
          2007,
          2007,
          2008,
          2008,
          2008,
          2008,
          2008,
          2008,
          2008,
          2008,
          2008,
          2008,
          2008,
          2008,
          2008,
          2008,
          2008,
          2008,
          2008,
          2008,
          2008,
          2008,
          2008,
          2008,
          2008,
          2008,
          2008,
          2008,
          2008,
          2008,
          2008,
          2008,
          2008,
          2008,
          2008,
          2008,
          2008,
          2008,
          2008,
          2008,
          2008,
          2008,
          2008,
          2008,
          2008,
          2008,
          2008,
          2008,
          2008,
          2008,
          2008,
          2008,
          2008,
          2008,
          2008,
          2008,
          2008,
          2008,
          2008,
          2008,
          2008,
          2008,
          2008,
          2008,
          2008,
          2008,
          2008,
          2008,
          2008,
          2008,
          2008,
          2008,
          2008,
          2008,
          2008,
          2008,
          2008,
          2008,
          2008,
          2008,
          2008,
          2008,
          2008,
          2008,
          2008,
          2008,
          2008,
          2008,
          2008,
          2008,
          2008,
          2008,
          2008,
          2008,
          2008,
          2008,
          2008,
          2008,
          2008,
          2008,
          2008,
          2008,
          2008,
          2008,
          2008,
          2008,
          2008,
          2008,
          2008,
          2008,
          2008,
          2008,
          2008,
          2008,
          2008,
          2008,
          2008,
          2008,
          2008,
          2008,
          2008,
          2008,
          2008,
          2008,
          2008,
          2008,
          2008,
          2008,
          2008,
          2008,
          2008,
          2008,
          2008,
          2008,
          2008,
          2008,
          2008,
          2008,
          2008,
          2008,
          2008,
          2008,
          2008,
          2008,
          2008,
          2008,
          2008,
          2008,
          2008,
          2008,
          2008,
          2008,
          2008,
          2008,
          2008,
          2008,
          2008,
          2009,
          2009,
          2009,
          2009,
          2009,
          2009,
          2009,
          2009,
          2009,
          2009,
          2009,
          2009,
          2009,
          2009,
          2009,
          2009,
          2009,
          2009,
          2009,
          2009,
          2009,
          2009,
          2009,
          2009,
          2009,
          2009,
          2009,
          2009,
          2009,
          2009,
          2009,
          2009,
          2009,
          2009,
          2009,
          2009,
          2009,
          2009,
          2009,
          2009,
          2009,
          2009,
          2009,
          2009,
          2009,
          2009,
          2009,
          2009,
          2009,
          2009,
          2009,
          2009,
          2009,
          2009,
          2009,
          2009,
          2009,
          2009,
          2009,
          2009,
          2009,
          2009,
          2009,
          2009,
          2009,
          2009,
          2009,
          2009,
          2009,
          2009,
          2009,
          2009,
          2009,
          2009,
          2009,
          2009,
          2009,
          2009,
          2009,
          2009,
          2009,
          2009,
          2009,
          2009,
          2009,
          2009,
          2009,
          2009,
          2009,
          2009,
          2009,
          2009,
          2009,
          2009,
          2009,
          2009,
          2009,
          2009,
          2009,
          2009,
          2009,
          2009,
          2009,
          2009,
          2009,
          2009,
          2009,
          2009,
          2009,
          2009,
          2009,
          2009,
          2009,
          2009,
          2009,
          2009,
          2009,
          2009,
          2009,
          2009,
          2009,
          2009,
          2009,
          2009,
          2009,
          2009,
          2009,
          2009,
          2009,
          2009,
          2009,
          2009,
          2009,
          2009,
          2009,
          2009,
          2009,
          2009,
          2009,
          2009,
          2009,
          2009,
          2009,
          2009,
          2009,
          2009,
          2010,
          2010,
          2010,
          2010,
          2010,
          2010,
          2010,
          2010,
          2010,
          2010,
          2010,
          2010,
          2010,
          2010,
          2010,
          2010,
          2010,
          2010,
          2010,
          2010,
          2010,
          2010,
          2010,
          2010,
          2010,
          2010,
          2010,
          2010,
          2010,
          2010,
          2010,
          2010,
          2010,
          2010,
          2010,
          2010,
          2010,
          2010,
          2010,
          2010,
          2010,
          2010,
          2010,
          2010,
          2010,
          2010,
          2010,
          2010,
          2010,
          2010,
          2010,
          2010,
          2010,
          2010,
          2010,
          2010,
          2010,
          2010,
          2010,
          2010,
          2010,
          2010,
          2010,
          2010,
          2010,
          2010,
          2010,
          2010,
          2010,
          2010,
          2010,
          2010,
          2010,
          2010,
          2010,
          2010,
          2010,
          2010,
          2010,
          2010,
          2010,
          2010,
          2010,
          2010,
          2010,
          2010,
          2010,
          2010,
          2010,
          2010,
          2011,
          2011,
          2011,
          2011,
          2011,
          2011,
          2011,
          2011,
          2011,
          2011,
          2011,
          2011,
          2011,
          2011,
          2011,
          2011,
          2011,
          2011,
          2011,
          2011,
          2011,
          2011,
          2011,
          2011,
          2011,
          2011,
          2011,
          2011,
          2011,
          2011,
          2011,
          2011,
          2011,
          2011,
          2011,
          2011,
          2011,
          2011,
          2011,
          2011,
          2011,
          2011,
          2011,
          2011,
          2011,
          2011,
          2011,
          2011,
          2011,
          2011,
          2011,
          2011,
          2011,
          2011,
          2011,
          2011,
          2011,
          2011,
          2011,
          2011,
          2011,
          2011,
          2011,
          2011,
          2011,
          2011,
          2011,
          2011,
          2011,
          2011,
          2011,
          2011,
          2011,
          2011,
          2011,
          2011,
          2011,
          2011,
          2011,
          2011,
          2011,
          2011,
          2011,
          2011,
          2011,
          2011,
          2011,
          2011,
          2011,
          2011,
          2011,
          2011,
          2011,
          2011,
          2011,
          2011,
          2012,
          2012,
          2012,
          2012,
          2012,
          2012,
          2012,
          2012,
          2012,
          2012,
          2012,
          2012,
          2012,
          2012,
          2012,
          2012,
          2012,
          2012,
          2012,
          2012,
          2012,
          2012,
          2012,
          2012,
          2012,
          2012,
          2012,
          2012,
          2012,
          2012,
          2012,
          2012,
          2012,
          2012,
          2012,
          2012,
          2012,
          2012,
          2012,
          2012,
          2012,
          2012,
          2012,
          2012,
          2012,
          2012,
          2012,
          2012,
          2012,
          2012,
          2012,
          2012,
          2012,
          2012,
          2012,
          2012,
          2012,
          2012,
          2012,
          2012,
          2012,
          2012,
          2012,
          2012,
          2012,
          2012,
          2012,
          2012,
          2012,
          2012,
          2012,
          2012,
          2012,
          2012,
          2012,
          2012,
          2012,
          2012,
          2012,
          2012,
          2012,
          2012,
          2012,
          2012,
          2012,
          2012,
          2012,
          2012,
          2012,
          2012,
          2012,
          2013,
          2013,
          2013,
          2013,
          2013,
          2013,
          2013,
          2013,
          2013,
          2013,
          2013,
          2013,
          2013,
          2013,
          2013,
          2013,
          2013,
          2013,
          2013,
          2013,
          2013,
          2013,
          2013,
          2013,
          2013,
          2013,
          2013,
          2013,
          2013,
          2013,
          2013,
          2013,
          2013,
          2013,
          2013,
          2013,
          2013,
          2013,
          2013,
          2013,
          2013,
          2013,
          2013,
          2013,
          2013,
          2013,
          2013,
          2013,
          2013,
          2013,
          2013,
          2013,
          2013,
          2013,
          2013,
          2013,
          2013,
          2013,
          2013,
          2013,
          2013,
          2013,
          2013,
          2013,
          2013,
          2013,
          2013,
          2013,
          2013,
          2013,
          2013,
          2013,
          2013,
          2013,
          2013,
          2013,
          2013,
          2013,
          2013,
          2013,
          2013,
          2013,
          2013,
          2013,
          2013,
          2013,
          2013,
          2013,
          2013,
          2013,
          2013,
          2014,
          2014,
          2014,
          2014,
          2014,
          2014,
          2014,
          2014,
          2014,
          2014,
          2014,
          2014,
          2014,
          2014,
          2014,
          2014,
          2014,
          2014,
          2014,
          2014,
          2014,
          2014,
          2014,
          2014,
          2014,
          2014,
          2014,
          2014,
          2014,
          2014,
          2014,
          2014,
          2014,
          2014,
          2014,
          2014,
          2014,
          2014,
          2014,
          2014,
          2014,
          2014,
          2014,
          2014,
          2014,
          2014,
          2014,
          2014,
          2014,
          2014,
          2014,
          2014,
          2014,
          2014,
          2014,
          2014,
          2014,
          2014,
          2014,
          2014,
          2014,
          2014,
          2014,
          2014,
          2014,
          2014,
          2014,
          2014,
          2014,
          2014,
          2014,
          2014,
          2014,
          2014,
          2014,
          2014,
          2014,
          2014,
          2014,
          2014,
          2014,
          2014,
          2014,
          2014,
          2014,
          2014,
          2015,
          2015,
          2015,
          2015,
          2015,
          2015,
          2015,
          2015,
          2015,
          2015,
          2015,
          2015,
          2015,
          2015,
          2015,
          2015,
          2015,
          2015,
          2015,
          2015,
          2015,
          2015,
          2015,
          2015,
          2015,
          2015,
          2015,
          2015,
          2015,
          2015,
          2015,
          2015,
          2015,
          2015,
          2015,
          2015,
          2015,
          2015,
          2015,
          2015,
          2015,
          2015,
          2015,
          2015,
          2015,
          2015,
          2015,
          2015,
          2015,
          2015,
          2015,
          2015,
          2015,
          2015,
          2015,
          2015,
          2015,
          2015,
          2015,
          2015,
          2015,
          2015,
          2015,
          2015,
          2015,
          2015,
          2015,
          2015,
          2015,
          2015,
          2015,
          2015,
          2015,
          2015,
          2015,
          2015,
          2015,
          2015,
          2015,
          2015,
          2016,
          2016,
          2016,
          2016,
          2016,
          2016,
          2016,
          2016,
          2016,
          2016,
          2016,
          2016,
          2016,
          2016,
          2016,
          2016,
          2016,
          2016,
          2016,
          2016,
          2016,
          2016,
          2016,
          2016,
          2016,
          2016,
          2016,
          2016,
          2016,
          2016,
          2016,
          2016,
          2016,
          2016,
          2016,
          2016,
          2016,
          2016,
          2016,
          2016,
          2016,
          2016,
          2016,
          2016,
          2016,
          2016,
          2016,
          2016,
          2016,
          2016,
          2016,
          2016,
          2016,
          2016,
          2016,
          2016,
          2016,
          2016,
          2016,
          2016,
          2016,
          2016,
          2016,
          2016,
          2016,
          2016,
          2016,
          2016,
          2016,
          2016,
          2016,
          2016,
          2016,
          2016,
          2016,
          2016,
          2016,
          2016,
          2016,
          2016,
          2017,
          2017,
          2017,
          2017,
          2017,
          2017,
          2017,
          2017,
          2017,
          2017,
          2017,
          2017,
          2017,
          2017,
          2017,
          2017,
          2017,
          2017,
          2017,
          2017,
          2017,
          2017,
          2017,
          2017,
          2017,
          2017,
          2017,
          2017,
          2017,
          2017,
          2017,
          2017,
          2017,
          2017,
          2017,
          2017,
          2017,
          2017,
          2017,
          2017,
          2017,
          2017,
          2017,
          2017,
          2017,
          2017,
          2017,
          2017,
          2017,
          2017,
          2017,
          2017,
          2017,
          2017,
          2017,
          2017,
          2017,
          2017,
          2017,
          2017,
          2017,
          2017,
          2017,
          2017,
          2017,
          2017,
          2017,
          2017,
          2017,
          2017,
          2017,
          2017,
          2017,
          2017,
          2017,
          2017,
          2017,
          2017,
          2017,
          2018,
          2018,
          2018,
          2018,
          2018,
          2018,
          2018,
          2018,
          2018,
          2018,
          2018,
          2018,
          2018,
          2018,
          2018,
          2018,
          2018,
          2018,
          2018,
          2018,
          2018,
          2018,
          2018,
          2018,
          2018,
          2018,
          2018,
          2018,
          2018,
          2018,
          2018,
          2018,
          2018,
          2018,
          2018,
          2018,
          2018,
          2018,
          2018,
          2018,
          2018,
          2018,
          2018,
          2018,
          2018,
          2018,
          2018,
          2018,
          2018,
          2018,
          2018,
          2018,
          2018,
          2018,
          2018,
          2018,
          2018,
          2018,
          2018,
          2018,
          2018,
          2018,
          2018,
          2018,
          2018,
          2018,
          2018,
          2018,
          2018,
          2018,
          2018,
          2018,
          2018,
          2018,
          2018,
          2018,
          2018,
          2018,
          2018,
          2018,
          2019,
          2019,
          2019,
          2019,
          2019,
          2019,
          2019,
          2019,
          2019,
          2019,
          2019,
          2019,
          2019,
          2019,
          2019,
          2019,
          2019,
          2019,
          2019,
          2019,
          2019,
          2019,
          2019,
          2019,
          2019,
          2019,
          2019,
          2019,
          2019,
          2019,
          2019,
          2019,
          2019,
          2019,
          2019,
          2019,
          2019,
          2019,
          2019,
          2019,
          2019,
          2019,
          2019,
          2019,
          2019,
          2019,
          2019,
          2019,
          2019,
          2019,
          2019,
          2019,
          2019,
          2019,
          2019,
          2019,
          2019,
          2019,
          2019,
          2019,
          2019,
          2019,
          2019,
          2019,
          2019,
          2019,
          2019,
          2019,
          2019,
          2019,
          2019,
          2019,
          2019,
          2019,
          2019,
          2019,
          2019,
          2019,
          2019,
          2019,
          2019,
          2019,
          2019,
          2019,
          2019,
          2019,
          2019,
          2019,
          2019,
          2019,
          2019,
          2019,
          2019,
          2019,
          2019,
          2019,
          2019,
          2019,
          2019,
          2019,
          2019,
          2019,
          2019,
          2019,
          2019,
          2019,
          2019,
          2019,
          2019,
          2019,
          2019,
          2019,
          2019,
          2019,
          2019,
          2019,
          2019,
          2019,
          2019,
          2019,
          2019,
          2019,
          2019,
          2019,
          2019,
          2019,
          2019,
          2019,
          2019,
          2019,
          2019,
          2019,
          2019,
          2019,
          2019,
          2019,
          2019,
          2019,
          2019,
          2019,
          2019,
          2019,
          2019,
          2019,
          2019,
          2019,
          2019,
          2019,
          2019,
          2019,
          2019,
          2019,
          2019,
          2019,
          2019,
          2019,
          2019,
          2019,
          2019,
          2019,
          2019,
          2019,
          2019,
          2019,
          2019,
          2019,
          2019,
          2019,
          2019,
          2019,
          2019,
          2019,
          2019,
          2019,
          2019,
          2019,
          2019,
          2019,
          2019,
          2019,
          2019,
          2019,
          2019,
          2019,
          2019,
          2019,
          2019,
          2019,
          2019,
          2019,
          2019,
          2019,
          2019,
          2019,
          2019,
          2019,
          2019,
          2019,
          2019,
          2019,
          2019,
          2019,
          2019,
          2019,
          2019,
          2019,
          2019,
          2019,
          2019,
          2019,
          2019,
          2019,
          2019,
          2019,
          2019,
          2019,
          2019,
          2019,
          2019,
          2019,
          2019,
          2019,
          2019,
          2019,
          2019,
          2019,
          2019,
          2019,
          2019,
          2019,
          2019,
          2019,
          2019,
          2019,
          2019,
          2019,
          2019,
          2019,
          2019,
          2019,
          2019,
          2019,
          2019,
          2019,
          2019,
          2019,
          2019,
          2019,
          2019,
          2019,
          2019,
          2019,
          2019,
          2019,
          2019,
          2019,
          2019,
          2019,
          2019,
          2019,
          2019,
          2019,
          2019,
          2019,
          2019,
          2019,
          2019,
          2019,
          2019,
          2019,
          2019,
          2019,
          2019,
          2019,
          2019,
          2020,
          2020,
          2020,
          2020,
          2020,
          2020,
          2020,
          2020,
          2020,
          2020,
          2020,
          2020,
          2020,
          2020,
          2020,
          2020,
          2020,
          2020,
          2020,
          2020,
          2020,
          2020,
          2020,
          2020,
          2020,
          2020,
          2020,
          2020,
          2020,
          2020,
          2020,
          2020,
          2020,
          2020,
          2020,
          2020,
          2020,
          2020,
          2020,
          2020,
          2020,
          2020,
          2020,
          2020,
          2020,
          2020,
          2020,
          2020,
          2020,
          2020,
          2020,
          2020,
          2020,
          2020,
          2020,
          2020,
          2020,
          2020,
          2020,
          2020,
          2021,
          2021,
          2021,
          2021,
          2021,
          2021,
          2021,
          2021,
          2021,
          2021,
          2021,
          2021,
          2021,
          2021,
          2021,
          2021,
          2021,
          2021,
          2021,
          2021,
          2021,
          2021,
          2021,
          2021,
          2021,
          2021,
          2021,
          2021,
          2021,
          2021,
          2021,
          2021,
          2021,
          2021,
          2021,
          2021,
          2021,
          2021,
          2021,
          2021,
          2021,
          2021,
          2021,
          2021,
          2021,
          2021,
          2021,
          2021,
          2021,
          2021,
          2021,
          2021,
          2021,
          2021,
          2021,
          2021,
          2021,
          2021,
          2021,
          2021,
          2021,
          2021,
          2021,
          2021,
          2021,
          2021,
          2021,
          2021,
          2021,
          2021,
          2021,
          2021,
          2021,
          2021,
          2021,
          2021,
          2021,
          2021,
          2021,
          2021,
          2022,
          2022,
          2022,
          2022,
          2022,
          2022,
          2022,
          2022,
          2022,
          2022,
          2022,
          2022,
          2022,
          2022,
          2022,
          2022,
          2022,
          2022,
          2022,
          2022,
          2022,
          2022,
          2022,
          2022,
          2022,
          2022,
          2022,
          2022,
          2022,
          2022,
          2022,
          2022,
          2022,
          2022,
          2022,
          2022,
          2022,
          2022,
          2022,
          2022,
          2022,
          2022,
          2022,
          2022,
          2022,
          2022,
          2022,
          2022,
          2022,
          2022,
          2022,
          2022,
          2022,
          2022,
          2022,
          2022,
          2022,
          2022,
          2022,
          2022,
          2022,
          2022,
          2022,
          2022,
          2022,
          2022,
          2022,
          2022,
          2022,
          2022,
          2022,
          2022,
          2022,
          2022,
          2022,
          2022,
          2022,
          2022,
          2022,
          2022
         ]
        }
       ],
       "layout": {
        "template": {
         "data": {
          "bar": [
           {
            "error_x": {
             "color": "#2a3f5f"
            },
            "error_y": {
             "color": "#2a3f5f"
            },
            "marker": {
             "line": {
              "color": "#E5ECF6",
              "width": 0.5
             },
             "pattern": {
              "fillmode": "overlay",
              "size": 10,
              "solidity": 0.2
             }
            },
            "type": "bar"
           }
          ],
          "barpolar": [
           {
            "marker": {
             "line": {
              "color": "#E5ECF6",
              "width": 0.5
             },
             "pattern": {
              "fillmode": "overlay",
              "size": 10,
              "solidity": 0.2
             }
            },
            "type": "barpolar"
           }
          ],
          "carpet": [
           {
            "aaxis": {
             "endlinecolor": "#2a3f5f",
             "gridcolor": "white",
             "linecolor": "white",
             "minorgridcolor": "white",
             "startlinecolor": "#2a3f5f"
            },
            "baxis": {
             "endlinecolor": "#2a3f5f",
             "gridcolor": "white",
             "linecolor": "white",
             "minorgridcolor": "white",
             "startlinecolor": "#2a3f5f"
            },
            "type": "carpet"
           }
          ],
          "choropleth": [
           {
            "colorbar": {
             "outlinewidth": 0,
             "ticks": ""
            },
            "type": "choropleth"
           }
          ],
          "contour": [
           {
            "colorbar": {
             "outlinewidth": 0,
             "ticks": ""
            },
            "colorscale": [
             [
              0,
              "#0d0887"
             ],
             [
              0.1111111111111111,
              "#46039f"
             ],
             [
              0.2222222222222222,
              "#7201a8"
             ],
             [
              0.3333333333333333,
              "#9c179e"
             ],
             [
              0.4444444444444444,
              "#bd3786"
             ],
             [
              0.5555555555555556,
              "#d8576b"
             ],
             [
              0.6666666666666666,
              "#ed7953"
             ],
             [
              0.7777777777777778,
              "#fb9f3a"
             ],
             [
              0.8888888888888888,
              "#fdca26"
             ],
             [
              1,
              "#f0f921"
             ]
            ],
            "type": "contour"
           }
          ],
          "contourcarpet": [
           {
            "colorbar": {
             "outlinewidth": 0,
             "ticks": ""
            },
            "type": "contourcarpet"
           }
          ],
          "heatmap": [
           {
            "colorbar": {
             "outlinewidth": 0,
             "ticks": ""
            },
            "colorscale": [
             [
              0,
              "#0d0887"
             ],
             [
              0.1111111111111111,
              "#46039f"
             ],
             [
              0.2222222222222222,
              "#7201a8"
             ],
             [
              0.3333333333333333,
              "#9c179e"
             ],
             [
              0.4444444444444444,
              "#bd3786"
             ],
             [
              0.5555555555555556,
              "#d8576b"
             ],
             [
              0.6666666666666666,
              "#ed7953"
             ],
             [
              0.7777777777777778,
              "#fb9f3a"
             ],
             [
              0.8888888888888888,
              "#fdca26"
             ],
             [
              1,
              "#f0f921"
             ]
            ],
            "type": "heatmap"
           }
          ],
          "heatmapgl": [
           {
            "colorbar": {
             "outlinewidth": 0,
             "ticks": ""
            },
            "colorscale": [
             [
              0,
              "#0d0887"
             ],
             [
              0.1111111111111111,
              "#46039f"
             ],
             [
              0.2222222222222222,
              "#7201a8"
             ],
             [
              0.3333333333333333,
              "#9c179e"
             ],
             [
              0.4444444444444444,
              "#bd3786"
             ],
             [
              0.5555555555555556,
              "#d8576b"
             ],
             [
              0.6666666666666666,
              "#ed7953"
             ],
             [
              0.7777777777777778,
              "#fb9f3a"
             ],
             [
              0.8888888888888888,
              "#fdca26"
             ],
             [
              1,
              "#f0f921"
             ]
            ],
            "type": "heatmapgl"
           }
          ],
          "histogram": [
           {
            "marker": {
             "pattern": {
              "fillmode": "overlay",
              "size": 10,
              "solidity": 0.2
             }
            },
            "type": "histogram"
           }
          ],
          "histogram2d": [
           {
            "colorbar": {
             "outlinewidth": 0,
             "ticks": ""
            },
            "colorscale": [
             [
              0,
              "#0d0887"
             ],
             [
              0.1111111111111111,
              "#46039f"
             ],
             [
              0.2222222222222222,
              "#7201a8"
             ],
             [
              0.3333333333333333,
              "#9c179e"
             ],
             [
              0.4444444444444444,
              "#bd3786"
             ],
             [
              0.5555555555555556,
              "#d8576b"
             ],
             [
              0.6666666666666666,
              "#ed7953"
             ],
             [
              0.7777777777777778,
              "#fb9f3a"
             ],
             [
              0.8888888888888888,
              "#fdca26"
             ],
             [
              1,
              "#f0f921"
             ]
            ],
            "type": "histogram2d"
           }
          ],
          "histogram2dcontour": [
           {
            "colorbar": {
             "outlinewidth": 0,
             "ticks": ""
            },
            "colorscale": [
             [
              0,
              "#0d0887"
             ],
             [
              0.1111111111111111,
              "#46039f"
             ],
             [
              0.2222222222222222,
              "#7201a8"
             ],
             [
              0.3333333333333333,
              "#9c179e"
             ],
             [
              0.4444444444444444,
              "#bd3786"
             ],
             [
              0.5555555555555556,
              "#d8576b"
             ],
             [
              0.6666666666666666,
              "#ed7953"
             ],
             [
              0.7777777777777778,
              "#fb9f3a"
             ],
             [
              0.8888888888888888,
              "#fdca26"
             ],
             [
              1,
              "#f0f921"
             ]
            ],
            "type": "histogram2dcontour"
           }
          ],
          "mesh3d": [
           {
            "colorbar": {
             "outlinewidth": 0,
             "ticks": ""
            },
            "type": "mesh3d"
           }
          ],
          "parcoords": [
           {
            "line": {
             "colorbar": {
              "outlinewidth": 0,
              "ticks": ""
             }
            },
            "type": "parcoords"
           }
          ],
          "pie": [
           {
            "automargin": true,
            "type": "pie"
           }
          ],
          "scatter": [
           {
            "fillpattern": {
             "fillmode": "overlay",
             "size": 10,
             "solidity": 0.2
            },
            "type": "scatter"
           }
          ],
          "scatter3d": [
           {
            "line": {
             "colorbar": {
              "outlinewidth": 0,
              "ticks": ""
             }
            },
            "marker": {
             "colorbar": {
              "outlinewidth": 0,
              "ticks": ""
             }
            },
            "type": "scatter3d"
           }
          ],
          "scattercarpet": [
           {
            "marker": {
             "colorbar": {
              "outlinewidth": 0,
              "ticks": ""
             }
            },
            "type": "scattercarpet"
           }
          ],
          "scattergeo": [
           {
            "marker": {
             "colorbar": {
              "outlinewidth": 0,
              "ticks": ""
             }
            },
            "type": "scattergeo"
           }
          ],
          "scattergl": [
           {
            "marker": {
             "colorbar": {
              "outlinewidth": 0,
              "ticks": ""
             }
            },
            "type": "scattergl"
           }
          ],
          "scattermapbox": [
           {
            "marker": {
             "colorbar": {
              "outlinewidth": 0,
              "ticks": ""
             }
            },
            "type": "scattermapbox"
           }
          ],
          "scatterpolar": [
           {
            "marker": {
             "colorbar": {
              "outlinewidth": 0,
              "ticks": ""
             }
            },
            "type": "scatterpolar"
           }
          ],
          "scatterpolargl": [
           {
            "marker": {
             "colorbar": {
              "outlinewidth": 0,
              "ticks": ""
             }
            },
            "type": "scatterpolargl"
           }
          ],
          "scatterternary": [
           {
            "marker": {
             "colorbar": {
              "outlinewidth": 0,
              "ticks": ""
             }
            },
            "type": "scatterternary"
           }
          ],
          "surface": [
           {
            "colorbar": {
             "outlinewidth": 0,
             "ticks": ""
            },
            "colorscale": [
             [
              0,
              "#0d0887"
             ],
             [
              0.1111111111111111,
              "#46039f"
             ],
             [
              0.2222222222222222,
              "#7201a8"
             ],
             [
              0.3333333333333333,
              "#9c179e"
             ],
             [
              0.4444444444444444,
              "#bd3786"
             ],
             [
              0.5555555555555556,
              "#d8576b"
             ],
             [
              0.6666666666666666,
              "#ed7953"
             ],
             [
              0.7777777777777778,
              "#fb9f3a"
             ],
             [
              0.8888888888888888,
              "#fdca26"
             ],
             [
              1,
              "#f0f921"
             ]
            ],
            "type": "surface"
           }
          ],
          "table": [
           {
            "cells": {
             "fill": {
              "color": "#EBF0F8"
             },
             "line": {
              "color": "white"
             }
            },
            "header": {
             "fill": {
              "color": "#C8D4E3"
             },
             "line": {
              "color": "white"
             }
            },
            "type": "table"
           }
          ]
         },
         "layout": {
          "annotationdefaults": {
           "arrowcolor": "#2a3f5f",
           "arrowhead": 0,
           "arrowwidth": 1
          },
          "autotypenumbers": "strict",
          "coloraxis": {
           "colorbar": {
            "outlinewidth": 0,
            "ticks": ""
           }
          },
          "colorscale": {
           "diverging": [
            [
             0,
             "#8e0152"
            ],
            [
             0.1,
             "#c51b7d"
            ],
            [
             0.2,
             "#de77ae"
            ],
            [
             0.3,
             "#f1b6da"
            ],
            [
             0.4,
             "#fde0ef"
            ],
            [
             0.5,
             "#f7f7f7"
            ],
            [
             0.6,
             "#e6f5d0"
            ],
            [
             0.7,
             "#b8e186"
            ],
            [
             0.8,
             "#7fbc41"
            ],
            [
             0.9,
             "#4d9221"
            ],
            [
             1,
             "#276419"
            ]
           ],
           "sequential": [
            [
             0,
             "#0d0887"
            ],
            [
             0.1111111111111111,
             "#46039f"
            ],
            [
             0.2222222222222222,
             "#7201a8"
            ],
            [
             0.3333333333333333,
             "#9c179e"
            ],
            [
             0.4444444444444444,
             "#bd3786"
            ],
            [
             0.5555555555555556,
             "#d8576b"
            ],
            [
             0.6666666666666666,
             "#ed7953"
            ],
            [
             0.7777777777777778,
             "#fb9f3a"
            ],
            [
             0.8888888888888888,
             "#fdca26"
            ],
            [
             1,
             "#f0f921"
            ]
           ],
           "sequentialminus": [
            [
             0,
             "#0d0887"
            ],
            [
             0.1111111111111111,
             "#46039f"
            ],
            [
             0.2222222222222222,
             "#7201a8"
            ],
            [
             0.3333333333333333,
             "#9c179e"
            ],
            [
             0.4444444444444444,
             "#bd3786"
            ],
            [
             0.5555555555555556,
             "#d8576b"
            ],
            [
             0.6666666666666666,
             "#ed7953"
            ],
            [
             0.7777777777777778,
             "#fb9f3a"
            ],
            [
             0.8888888888888888,
             "#fdca26"
            ],
            [
             1,
             "#f0f921"
            ]
           ]
          },
          "colorway": [
           "#636efa",
           "#EF553B",
           "#00cc96",
           "#ab63fa",
           "#FFA15A",
           "#19d3f3",
           "#FF6692",
           "#B6E880",
           "#FF97FF",
           "#FECB52"
          ],
          "font": {
           "color": "#2a3f5f"
          },
          "geo": {
           "bgcolor": "white",
           "lakecolor": "white",
           "landcolor": "#E5ECF6",
           "showlakes": true,
           "showland": true,
           "subunitcolor": "white"
          },
          "hoverlabel": {
           "align": "left"
          },
          "hovermode": "closest",
          "mapbox": {
           "style": "light"
          },
          "paper_bgcolor": "white",
          "plot_bgcolor": "#E5ECF6",
          "polar": {
           "angularaxis": {
            "gridcolor": "white",
            "linecolor": "white",
            "ticks": ""
           },
           "bgcolor": "#E5ECF6",
           "radialaxis": {
            "gridcolor": "white",
            "linecolor": "white",
            "ticks": ""
           }
          },
          "scene": {
           "xaxis": {
            "backgroundcolor": "#E5ECF6",
            "gridcolor": "white",
            "gridwidth": 2,
            "linecolor": "white",
            "showbackground": true,
            "ticks": "",
            "zerolinecolor": "white"
           },
           "yaxis": {
            "backgroundcolor": "#E5ECF6",
            "gridcolor": "white",
            "gridwidth": 2,
            "linecolor": "white",
            "showbackground": true,
            "ticks": "",
            "zerolinecolor": "white"
           },
           "zaxis": {
            "backgroundcolor": "#E5ECF6",
            "gridcolor": "white",
            "gridwidth": 2,
            "linecolor": "white",
            "showbackground": true,
            "ticks": "",
            "zerolinecolor": "white"
           }
          },
          "shapedefaults": {
           "line": {
            "color": "#2a3f5f"
           }
          },
          "ternary": {
           "aaxis": {
            "gridcolor": "white",
            "linecolor": "white",
            "ticks": ""
           },
           "baxis": {
            "gridcolor": "white",
            "linecolor": "white",
            "ticks": ""
           },
           "bgcolor": "#E5ECF6",
           "caxis": {
            "gridcolor": "white",
            "linecolor": "white",
            "ticks": ""
           }
          },
          "title": {
           "x": 0.05
          },
          "xaxis": {
           "automargin": true,
           "gridcolor": "white",
           "linecolor": "white",
           "ticks": "",
           "title": {
            "standoff": 15
           },
           "zerolinecolor": "white",
           "zerolinewidth": 2
          },
          "yaxis": {
           "automargin": true,
           "gridcolor": "white",
           "linecolor": "white",
           "ticks": "",
           "title": {
            "standoff": 15
           },
           "zerolinecolor": "white",
           "zerolinewidth": 2
          }
         }
        },
        "title": {
         "text": "year Distribution"
        },
        "xaxis": {
         "title": {
          "text": "year"
         }
        },
        "yaxis": {
         "title": {
          "text": "Frequency"
         }
        }
       }
      }
     },
     "metadata": {},
     "output_type": "display_data"
    },
    {
     "data": {
      "application/vnd.plotly.v1+json": {
       "config": {
        "plotlyServerURL": "https://plot.ly"
       },
       "data": [
        {
         "name": "regionId Distribution",
         "nbinsx": 20,
         "type": "histogram",
         "x": [
          0,
          0,
          0,
          0,
          0,
          0,
          0,
          0,
          0,
          0,
          0,
          0,
          0,
          0,
          0,
          0,
          0,
          0,
          0,
          0,
          0,
          0,
          0,
          0,
          0,
          0,
          0,
          0,
          0,
          0,
          0,
          0,
          0,
          0,
          0,
          0,
          0,
          0,
          0,
          0,
          0,
          0,
          0,
          0,
          0,
          0,
          0,
          0,
          0,
          0,
          0,
          0,
          0,
          0,
          0,
          0,
          0,
          0,
          0,
          0,
          0,
          0,
          0,
          0,
          0,
          0,
          0,
          0,
          0,
          0,
          0,
          0,
          0,
          0,
          0,
          0,
          0,
          0,
          0,
          0,
          0,
          0,
          0,
          0,
          0,
          0,
          0,
          0,
          0,
          0,
          0,
          0,
          0,
          0,
          0,
          0,
          0,
          0,
          0,
          0,
          0,
          0,
          0,
          0,
          0,
          0,
          0,
          0,
          0,
          0,
          0,
          0,
          0,
          0,
          0,
          0,
          0,
          0,
          0,
          0,
          0,
          0,
          0,
          0,
          0,
          0,
          0,
          0,
          0,
          0,
          0,
          0,
          0,
          0,
          0,
          0,
          0,
          0,
          0,
          0,
          0,
          0,
          0,
          0,
          0,
          0,
          0,
          0,
          0,
          0,
          0,
          0,
          0,
          0,
          0,
          0,
          0,
          0,
          0,
          0,
          0,
          0,
          0,
          0,
          0,
          0,
          0,
          0,
          0,
          0,
          0,
          0,
          0,
          0,
          0,
          0,
          0,
          0,
          0,
          0,
          0,
          0,
          0,
          0,
          0,
          0,
          0,
          0,
          0,
          0,
          0,
          0,
          0,
          0,
          0,
          0,
          0,
          0,
          0,
          0,
          0,
          0,
          0,
          0,
          0,
          0,
          0,
          0,
          0,
          0,
          0,
          0,
          0,
          0,
          0,
          0,
          0,
          0,
          0,
          0,
          0,
          0,
          0,
          0,
          0,
          0,
          0,
          0,
          0,
          0,
          0,
          0,
          0,
          0,
          0,
          0,
          0,
          0,
          0,
          0,
          0,
          0,
          0,
          0,
          0,
          0,
          0,
          0,
          0,
          0,
          0,
          0,
          0,
          0,
          0,
          0,
          0,
          0,
          0,
          0,
          0,
          0,
          0,
          0,
          0,
          0,
          0,
          0,
          0,
          0,
          0,
          0,
          0,
          0,
          0,
          0,
          0,
          0,
          0,
          0,
          0,
          0,
          0,
          0,
          0,
          0,
          0,
          0,
          0,
          0,
          0,
          0,
          0,
          0,
          0,
          0,
          0,
          0,
          0,
          0,
          0,
          0,
          0,
          0,
          0,
          0,
          0,
          0,
          0,
          0,
          0,
          0,
          0,
          0,
          0,
          0,
          0,
          0,
          0,
          0,
          0,
          0,
          0,
          0,
          0,
          0,
          0,
          0,
          0,
          0,
          0,
          0,
          0,
          0,
          0,
          0,
          0,
          0,
          0,
          0,
          0,
          0,
          0,
          0,
          0,
          0,
          0,
          0,
          0,
          0,
          0,
          0,
          0,
          0,
          0,
          0,
          0,
          0,
          0,
          0,
          0,
          0,
          0,
          0,
          0,
          0,
          0,
          0,
          0,
          0,
          0,
          0,
          0,
          0,
          0,
          0,
          0,
          0,
          0,
          0,
          0,
          0,
          0,
          0,
          0,
          0,
          0,
          0,
          0,
          0,
          0,
          0,
          0,
          0,
          0,
          0,
          0,
          0,
          0,
          0,
          0,
          0,
          0,
          0,
          0,
          0,
          0,
          0,
          0,
          0,
          0,
          0,
          0,
          0,
          0,
          0,
          0,
          0,
          0,
          0,
          0,
          0,
          0,
          0,
          0,
          0,
          0,
          0,
          0,
          0,
          0,
          0,
          0,
          0,
          0,
          0,
          0,
          0,
          0,
          0,
          0,
          0,
          0,
          0,
          0,
          0,
          0,
          0,
          0,
          0,
          0,
          0,
          0,
          0,
          0,
          1,
          1,
          1,
          1,
          1,
          1,
          1,
          7,
          1,
          1,
          1,
          1,
          1,
          1,
          1,
          1,
          7,
          1,
          4,
          1,
          1,
          1,
          1,
          1,
          1,
          1,
          1,
          1,
          1,
          7,
          1,
          1,
          1,
          4,
          1,
          1,
          1,
          1,
          1,
          1,
          1,
          4,
          6,
          1,
          1,
          1,
          5,
          4,
          1,
          4,
          1,
          1,
          4,
          1,
          1,
          1,
          1,
          1,
          1,
          7,
          1,
          1,
          1,
          1,
          1,
          1,
          1,
          7,
          1,
          1,
          1,
          1,
          1,
          1,
          1,
          1,
          1,
          1,
          1,
          7,
          1,
          1,
          1,
          1,
          1,
          1,
          1,
          1,
          1,
          4,
          1,
          1,
          6,
          5,
          1,
          4,
          1,
          1,
          1,
          1,
          1,
          1,
          1,
          1,
          7,
          1,
          1,
          1,
          1,
          1,
          1,
          1,
          1,
          1,
          1,
          1,
          1,
          1,
          1,
          4,
          1,
          1,
          1,
          1,
          1,
          4,
          1,
          4,
          6,
          1,
          7,
          5,
          1,
          1,
          1,
          1,
          7,
          1,
          1,
          1,
          1,
          3,
          4,
          1,
          1,
          1,
          1,
          1,
          1,
          1,
          1,
          1,
          1,
          1,
          1,
          1,
          1,
          1,
          7,
          1,
          7,
          1,
          1,
          1,
          1,
          1,
          4,
          1,
          1,
          1,
          1,
          4,
          1,
          1,
          1,
          1,
          4,
          1,
          1,
          1,
          1,
          1,
          6,
          3,
          5,
          7,
          1,
          1,
          1,
          1,
          1,
          1,
          1,
          1,
          1,
          1,
          1,
          7,
          1,
          1,
          1,
          4,
          1,
          1,
          1,
          1,
          1,
          1,
          1,
          1,
          1,
          4,
          1,
          1,
          1,
          1,
          4,
          1,
          5,
          7,
          1,
          1,
          1,
          1,
          1,
          1,
          1,
          1,
          1,
          3,
          1,
          7,
          6,
          4,
          4,
          1,
          1,
          1,
          1,
          1,
          1,
          1,
          1,
          1,
          1,
          7,
          1,
          1,
          7,
          1,
          4,
          1,
          1,
          1,
          1,
          1,
          1,
          4,
          1,
          1,
          1,
          1,
          1,
          1,
          1,
          1,
          1,
          1,
          1,
          7,
          1,
          5,
          6,
          1,
          1,
          3,
          1,
          1,
          1,
          1,
          1,
          1,
          1,
          1,
          1,
          1,
          1,
          1,
          1,
          7,
          1,
          1,
          1,
          1,
          1,
          1,
          1,
          1,
          1,
          1,
          4,
          1,
          1,
          4,
          7,
          1,
          1,
          7,
          1,
          4,
          1,
          1,
          1,
          1,
          1,
          1,
          6,
          3,
          1,
          5,
          1,
          1,
          4,
          1,
          1,
          1,
          1,
          1,
          1,
          1,
          1,
          1,
          1,
          1,
          1,
          1,
          4,
          7,
          1,
          4,
          1,
          1,
          1,
          1,
          1,
          1,
          1,
          1,
          1,
          1,
          1,
          7,
          1,
          1,
          1,
          1,
          1,
          1,
          1,
          5,
          6,
          7,
          3,
          1,
          1,
          1,
          4,
          1,
          1,
          1,
          1,
          1,
          4,
          1,
          1,
          1,
          1,
          1,
          7,
          1,
          7,
          1,
          1,
          1,
          1,
          1,
          7,
          1,
          1,
          4,
          1,
          1,
          6,
          4,
          1,
          1,
          7,
          1,
          1,
          1,
          1,
          1,
          1,
          7,
          4,
          7,
          4,
          1,
          7,
          1,
          1,
          1,
          1,
          1,
          1,
          7,
          1,
          1,
          1,
          1,
          4,
          1,
          1,
          7,
          1,
          1,
          7,
          1,
          1,
          1,
          1,
          4,
          1,
          1,
          1,
          1,
          1,
          1,
          1,
          1,
          1,
          4,
          1,
          1,
          1,
          1,
          1,
          1,
          1,
          1,
          1,
          4,
          1,
          1,
          1,
          1,
          1,
          4,
          1,
          1,
          7,
          1,
          1,
          1,
          4,
          1,
          1,
          7,
          1,
          1,
          1,
          1,
          1,
          1,
          1,
          1,
          1,
          4,
          1,
          1,
          7,
          7,
          7,
          4,
          1,
          7,
          4,
          4,
          1,
          1,
          7,
          1,
          1,
          1,
          1,
          4,
          4,
          1,
          1,
          1,
          1,
          1,
          4,
          1,
          1,
          1,
          1,
          1,
          1,
          1,
          1,
          1,
          1,
          1,
          1,
          1,
          1,
          1,
          1,
          1,
          1,
          7,
          7,
          7,
          1,
          1,
          7,
          1,
          1,
          4,
          1,
          1,
          1,
          4,
          5,
          1,
          1,
          1,
          1,
          1,
          1,
          1,
          4,
          1,
          1,
          1,
          1,
          1,
          4,
          7,
          7,
          1,
          1,
          1,
          1,
          1,
          1,
          7,
          1,
          1,
          1,
          1,
          7,
          7,
          7,
          4,
          1,
          1,
          1,
          4,
          7,
          4,
          1,
          1,
          1,
          1,
          1,
          1,
          1,
          1,
          4,
          1,
          1,
          7,
          1,
          1,
          1,
          1,
          1,
          1,
          1,
          1,
          1,
          1,
          1,
          1,
          1,
          7,
          7,
          1,
          1,
          1,
          1,
          1,
          1,
          4,
          1,
          4,
          1,
          1,
          6,
          4,
          1,
          1,
          1,
          1,
          7,
          1,
          4,
          4,
          7,
          1,
          1,
          4,
          1,
          1,
          7,
          1,
          6,
          1,
          1,
          1,
          7,
          1,
          1,
          1,
          7,
          1,
          1,
          1,
          3,
          1,
          6,
          7,
          4,
          1,
          7,
          4,
          1,
          4,
          1,
          1,
          1,
          6,
          1,
          1,
          1,
          1,
          1,
          1,
          1,
          1,
          7,
          1,
          1,
          7,
          4,
          1,
          6,
          1,
          1,
          1,
          1,
          6,
          1,
          1,
          2,
          6,
          1,
          4,
          7,
          1,
          1,
          1,
          1,
          4,
          1,
          7,
          1,
          7,
          4,
          1,
          1,
          1,
          1,
          1,
          1,
          1,
          1,
          4,
          4,
          4,
          4,
          4,
          1,
          1,
          1,
          1,
          4,
          6,
          1,
          5,
          1,
          4,
          1,
          1,
          4,
          1,
          7,
          4,
          1,
          1,
          4,
          1,
          4,
          4,
          6,
          4,
          1,
          4,
          4,
          3,
          3,
          3,
          4,
          7,
          2,
          2,
          6,
          4,
          6,
          4,
          4,
          6,
          1,
          4,
          4,
          6,
          6,
          3,
          4,
          5,
          4,
          4,
          4,
          6,
          3,
          5,
          5,
          6,
          3,
          4,
          2,
          4,
          2,
          1,
          2,
          1,
          6,
          2,
          1,
          5,
          1,
          4,
          4,
          3,
          4,
          7,
          3,
          5,
          6,
          6,
          1,
          4,
          3,
          4,
          6,
          3,
          7,
          1,
          6,
          3,
          3,
          3,
          2,
          6,
          6,
          3,
          6,
          5,
          3,
          2,
          3,
          6,
          5,
          6,
          4,
          6,
          4,
          5,
          4,
          5,
          3,
          5,
          6,
          6,
          2,
          6,
          6,
          6,
          3,
          6,
          4,
          7,
          6,
          4,
          6,
          7,
          4,
          7,
          4,
          1,
          1,
          1,
          1,
          4,
          4,
          1,
          4,
          1,
          4,
          4,
          1,
          1,
          4,
          1,
          4,
          4,
          4,
          7,
          1,
          1,
          1,
          1,
          1,
          4,
          7,
          1,
          4,
          1,
          4,
          1,
          4,
          3,
          4,
          4,
          1,
          1,
          5,
          4,
          1,
          4,
          4,
          4,
          4,
          3,
          1,
          4,
          1,
          6,
          6,
          1,
          2,
          4,
          4,
          7,
          4,
          4,
          3,
          1,
          6,
          3,
          3,
          6,
          2,
          4,
          6,
          4,
          6,
          4,
          4,
          4,
          2,
          4,
          4,
          3,
          4,
          2,
          4,
          6,
          2,
          2,
          6,
          4,
          6,
          6,
          6,
          5,
          2,
          6,
          3,
          4,
          4,
          3,
          3,
          3,
          5,
          3,
          6,
          6,
          6,
          3,
          6,
          6,
          6,
          3,
          5,
          2,
          4,
          5,
          6,
          4,
          2,
          3,
          6,
          6,
          5,
          7,
          3,
          4,
          3,
          6,
          6,
          5,
          4,
          4,
          6,
          5,
          1,
          1,
          1,
          1,
          1,
          1,
          4,
          4,
          1,
          1,
          7,
          1,
          6,
          1,
          1,
          1,
          1,
          7,
          1,
          1,
          1,
          1,
          1,
          1,
          1,
          7,
          1,
          1,
          1,
          4,
          7,
          4,
          1,
          1,
          1,
          4,
          1,
          7,
          1,
          1,
          1,
          7,
          1,
          4,
          1,
          1,
          3,
          4,
          4,
          1,
          4,
          1,
          4,
          4,
          4,
          7,
          4,
          7,
          1,
          4,
          1,
          1,
          1,
          4,
          1,
          4,
          3,
          1,
          4,
          1,
          1,
          1,
          1,
          1,
          4,
          7,
          7,
          4,
          1,
          1,
          1,
          7,
          1,
          1,
          4,
          5,
          1,
          1,
          4,
          1,
          1,
          3,
          4,
          1,
          4,
          1,
          4,
          6,
          6,
          6,
          7,
          4,
          4,
          4,
          1,
          4,
          1,
          1,
          1,
          4,
          1,
          4,
          4,
          1,
          1,
          1,
          4,
          1,
          4,
          1,
          4,
          1,
          1,
          7,
          1,
          7,
          1,
          1,
          4,
          1,
          3,
          5,
          1,
          6,
          1,
          7,
          1,
          3,
          1,
          6,
          1,
          6,
          7,
          1,
          1,
          1,
          1,
          4,
          4,
          3,
          1,
          1,
          1,
          1,
          4,
          1,
          4,
          1,
          1,
          1,
          4,
          1,
          1,
          4,
          1,
          4,
          4,
          7,
          4,
          1,
          7,
          1,
          1,
          1,
          1,
          4,
          4,
          3,
          6,
          5,
          7,
          1,
          4,
          1,
          1,
          1,
          7,
          4,
          1,
          1,
          1,
          4,
          1,
          1,
          4,
          4,
          1,
          7,
          4,
          4,
          1,
          4,
          1,
          1,
          1,
          6,
          1,
          1,
          6,
          1,
          1,
          1,
          3,
          4,
          4,
          1,
          3,
          4,
          5,
          1
         ]
        }
       ],
       "layout": {
        "template": {
         "data": {
          "bar": [
           {
            "error_x": {
             "color": "#2a3f5f"
            },
            "error_y": {
             "color": "#2a3f5f"
            },
            "marker": {
             "line": {
              "color": "#E5ECF6",
              "width": 0.5
             },
             "pattern": {
              "fillmode": "overlay",
              "size": 10,
              "solidity": 0.2
             }
            },
            "type": "bar"
           }
          ],
          "barpolar": [
           {
            "marker": {
             "line": {
              "color": "#E5ECF6",
              "width": 0.5
             },
             "pattern": {
              "fillmode": "overlay",
              "size": 10,
              "solidity": 0.2
             }
            },
            "type": "barpolar"
           }
          ],
          "carpet": [
           {
            "aaxis": {
             "endlinecolor": "#2a3f5f",
             "gridcolor": "white",
             "linecolor": "white",
             "minorgridcolor": "white",
             "startlinecolor": "#2a3f5f"
            },
            "baxis": {
             "endlinecolor": "#2a3f5f",
             "gridcolor": "white",
             "linecolor": "white",
             "minorgridcolor": "white",
             "startlinecolor": "#2a3f5f"
            },
            "type": "carpet"
           }
          ],
          "choropleth": [
           {
            "colorbar": {
             "outlinewidth": 0,
             "ticks": ""
            },
            "type": "choropleth"
           }
          ],
          "contour": [
           {
            "colorbar": {
             "outlinewidth": 0,
             "ticks": ""
            },
            "colorscale": [
             [
              0,
              "#0d0887"
             ],
             [
              0.1111111111111111,
              "#46039f"
             ],
             [
              0.2222222222222222,
              "#7201a8"
             ],
             [
              0.3333333333333333,
              "#9c179e"
             ],
             [
              0.4444444444444444,
              "#bd3786"
             ],
             [
              0.5555555555555556,
              "#d8576b"
             ],
             [
              0.6666666666666666,
              "#ed7953"
             ],
             [
              0.7777777777777778,
              "#fb9f3a"
             ],
             [
              0.8888888888888888,
              "#fdca26"
             ],
             [
              1,
              "#f0f921"
             ]
            ],
            "type": "contour"
           }
          ],
          "contourcarpet": [
           {
            "colorbar": {
             "outlinewidth": 0,
             "ticks": ""
            },
            "type": "contourcarpet"
           }
          ],
          "heatmap": [
           {
            "colorbar": {
             "outlinewidth": 0,
             "ticks": ""
            },
            "colorscale": [
             [
              0,
              "#0d0887"
             ],
             [
              0.1111111111111111,
              "#46039f"
             ],
             [
              0.2222222222222222,
              "#7201a8"
             ],
             [
              0.3333333333333333,
              "#9c179e"
             ],
             [
              0.4444444444444444,
              "#bd3786"
             ],
             [
              0.5555555555555556,
              "#d8576b"
             ],
             [
              0.6666666666666666,
              "#ed7953"
             ],
             [
              0.7777777777777778,
              "#fb9f3a"
             ],
             [
              0.8888888888888888,
              "#fdca26"
             ],
             [
              1,
              "#f0f921"
             ]
            ],
            "type": "heatmap"
           }
          ],
          "heatmapgl": [
           {
            "colorbar": {
             "outlinewidth": 0,
             "ticks": ""
            },
            "colorscale": [
             [
              0,
              "#0d0887"
             ],
             [
              0.1111111111111111,
              "#46039f"
             ],
             [
              0.2222222222222222,
              "#7201a8"
             ],
             [
              0.3333333333333333,
              "#9c179e"
             ],
             [
              0.4444444444444444,
              "#bd3786"
             ],
             [
              0.5555555555555556,
              "#d8576b"
             ],
             [
              0.6666666666666666,
              "#ed7953"
             ],
             [
              0.7777777777777778,
              "#fb9f3a"
             ],
             [
              0.8888888888888888,
              "#fdca26"
             ],
             [
              1,
              "#f0f921"
             ]
            ],
            "type": "heatmapgl"
           }
          ],
          "histogram": [
           {
            "marker": {
             "pattern": {
              "fillmode": "overlay",
              "size": 10,
              "solidity": 0.2
             }
            },
            "type": "histogram"
           }
          ],
          "histogram2d": [
           {
            "colorbar": {
             "outlinewidth": 0,
             "ticks": ""
            },
            "colorscale": [
             [
              0,
              "#0d0887"
             ],
             [
              0.1111111111111111,
              "#46039f"
             ],
             [
              0.2222222222222222,
              "#7201a8"
             ],
             [
              0.3333333333333333,
              "#9c179e"
             ],
             [
              0.4444444444444444,
              "#bd3786"
             ],
             [
              0.5555555555555556,
              "#d8576b"
             ],
             [
              0.6666666666666666,
              "#ed7953"
             ],
             [
              0.7777777777777778,
              "#fb9f3a"
             ],
             [
              0.8888888888888888,
              "#fdca26"
             ],
             [
              1,
              "#f0f921"
             ]
            ],
            "type": "histogram2d"
           }
          ],
          "histogram2dcontour": [
           {
            "colorbar": {
             "outlinewidth": 0,
             "ticks": ""
            },
            "colorscale": [
             [
              0,
              "#0d0887"
             ],
             [
              0.1111111111111111,
              "#46039f"
             ],
             [
              0.2222222222222222,
              "#7201a8"
             ],
             [
              0.3333333333333333,
              "#9c179e"
             ],
             [
              0.4444444444444444,
              "#bd3786"
             ],
             [
              0.5555555555555556,
              "#d8576b"
             ],
             [
              0.6666666666666666,
              "#ed7953"
             ],
             [
              0.7777777777777778,
              "#fb9f3a"
             ],
             [
              0.8888888888888888,
              "#fdca26"
             ],
             [
              1,
              "#f0f921"
             ]
            ],
            "type": "histogram2dcontour"
           }
          ],
          "mesh3d": [
           {
            "colorbar": {
             "outlinewidth": 0,
             "ticks": ""
            },
            "type": "mesh3d"
           }
          ],
          "parcoords": [
           {
            "line": {
             "colorbar": {
              "outlinewidth": 0,
              "ticks": ""
             }
            },
            "type": "parcoords"
           }
          ],
          "pie": [
           {
            "automargin": true,
            "type": "pie"
           }
          ],
          "scatter": [
           {
            "fillpattern": {
             "fillmode": "overlay",
             "size": 10,
             "solidity": 0.2
            },
            "type": "scatter"
           }
          ],
          "scatter3d": [
           {
            "line": {
             "colorbar": {
              "outlinewidth": 0,
              "ticks": ""
             }
            },
            "marker": {
             "colorbar": {
              "outlinewidth": 0,
              "ticks": ""
             }
            },
            "type": "scatter3d"
           }
          ],
          "scattercarpet": [
           {
            "marker": {
             "colorbar": {
              "outlinewidth": 0,
              "ticks": ""
             }
            },
            "type": "scattercarpet"
           }
          ],
          "scattergeo": [
           {
            "marker": {
             "colorbar": {
              "outlinewidth": 0,
              "ticks": ""
             }
            },
            "type": "scattergeo"
           }
          ],
          "scattergl": [
           {
            "marker": {
             "colorbar": {
              "outlinewidth": 0,
              "ticks": ""
             }
            },
            "type": "scattergl"
           }
          ],
          "scattermapbox": [
           {
            "marker": {
             "colorbar": {
              "outlinewidth": 0,
              "ticks": ""
             }
            },
            "type": "scattermapbox"
           }
          ],
          "scatterpolar": [
           {
            "marker": {
             "colorbar": {
              "outlinewidth": 0,
              "ticks": ""
             }
            },
            "type": "scatterpolar"
           }
          ],
          "scatterpolargl": [
           {
            "marker": {
             "colorbar": {
              "outlinewidth": 0,
              "ticks": ""
             }
            },
            "type": "scatterpolargl"
           }
          ],
          "scatterternary": [
           {
            "marker": {
             "colorbar": {
              "outlinewidth": 0,
              "ticks": ""
             }
            },
            "type": "scatterternary"
           }
          ],
          "surface": [
           {
            "colorbar": {
             "outlinewidth": 0,
             "ticks": ""
            },
            "colorscale": [
             [
              0,
              "#0d0887"
             ],
             [
              0.1111111111111111,
              "#46039f"
             ],
             [
              0.2222222222222222,
              "#7201a8"
             ],
             [
              0.3333333333333333,
              "#9c179e"
             ],
             [
              0.4444444444444444,
              "#bd3786"
             ],
             [
              0.5555555555555556,
              "#d8576b"
             ],
             [
              0.6666666666666666,
              "#ed7953"
             ],
             [
              0.7777777777777778,
              "#fb9f3a"
             ],
             [
              0.8888888888888888,
              "#fdca26"
             ],
             [
              1,
              "#f0f921"
             ]
            ],
            "type": "surface"
           }
          ],
          "table": [
           {
            "cells": {
             "fill": {
              "color": "#EBF0F8"
             },
             "line": {
              "color": "white"
             }
            },
            "header": {
             "fill": {
              "color": "#C8D4E3"
             },
             "line": {
              "color": "white"
             }
            },
            "type": "table"
           }
          ]
         },
         "layout": {
          "annotationdefaults": {
           "arrowcolor": "#2a3f5f",
           "arrowhead": 0,
           "arrowwidth": 1
          },
          "autotypenumbers": "strict",
          "coloraxis": {
           "colorbar": {
            "outlinewidth": 0,
            "ticks": ""
           }
          },
          "colorscale": {
           "diverging": [
            [
             0,
             "#8e0152"
            ],
            [
             0.1,
             "#c51b7d"
            ],
            [
             0.2,
             "#de77ae"
            ],
            [
             0.3,
             "#f1b6da"
            ],
            [
             0.4,
             "#fde0ef"
            ],
            [
             0.5,
             "#f7f7f7"
            ],
            [
             0.6,
             "#e6f5d0"
            ],
            [
             0.7,
             "#b8e186"
            ],
            [
             0.8,
             "#7fbc41"
            ],
            [
             0.9,
             "#4d9221"
            ],
            [
             1,
             "#276419"
            ]
           ],
           "sequential": [
            [
             0,
             "#0d0887"
            ],
            [
             0.1111111111111111,
             "#46039f"
            ],
            [
             0.2222222222222222,
             "#7201a8"
            ],
            [
             0.3333333333333333,
             "#9c179e"
            ],
            [
             0.4444444444444444,
             "#bd3786"
            ],
            [
             0.5555555555555556,
             "#d8576b"
            ],
            [
             0.6666666666666666,
             "#ed7953"
            ],
            [
             0.7777777777777778,
             "#fb9f3a"
            ],
            [
             0.8888888888888888,
             "#fdca26"
            ],
            [
             1,
             "#f0f921"
            ]
           ],
           "sequentialminus": [
            [
             0,
             "#0d0887"
            ],
            [
             0.1111111111111111,
             "#46039f"
            ],
            [
             0.2222222222222222,
             "#7201a8"
            ],
            [
             0.3333333333333333,
             "#9c179e"
            ],
            [
             0.4444444444444444,
             "#bd3786"
            ],
            [
             0.5555555555555556,
             "#d8576b"
            ],
            [
             0.6666666666666666,
             "#ed7953"
            ],
            [
             0.7777777777777778,
             "#fb9f3a"
            ],
            [
             0.8888888888888888,
             "#fdca26"
            ],
            [
             1,
             "#f0f921"
            ]
           ]
          },
          "colorway": [
           "#636efa",
           "#EF553B",
           "#00cc96",
           "#ab63fa",
           "#FFA15A",
           "#19d3f3",
           "#FF6692",
           "#B6E880",
           "#FF97FF",
           "#FECB52"
          ],
          "font": {
           "color": "#2a3f5f"
          },
          "geo": {
           "bgcolor": "white",
           "lakecolor": "white",
           "landcolor": "#E5ECF6",
           "showlakes": true,
           "showland": true,
           "subunitcolor": "white"
          },
          "hoverlabel": {
           "align": "left"
          },
          "hovermode": "closest",
          "mapbox": {
           "style": "light"
          },
          "paper_bgcolor": "white",
          "plot_bgcolor": "#E5ECF6",
          "polar": {
           "angularaxis": {
            "gridcolor": "white",
            "linecolor": "white",
            "ticks": ""
           },
           "bgcolor": "#E5ECF6",
           "radialaxis": {
            "gridcolor": "white",
            "linecolor": "white",
            "ticks": ""
           }
          },
          "scene": {
           "xaxis": {
            "backgroundcolor": "#E5ECF6",
            "gridcolor": "white",
            "gridwidth": 2,
            "linecolor": "white",
            "showbackground": true,
            "ticks": "",
            "zerolinecolor": "white"
           },
           "yaxis": {
            "backgroundcolor": "#E5ECF6",
            "gridcolor": "white",
            "gridwidth": 2,
            "linecolor": "white",
            "showbackground": true,
            "ticks": "",
            "zerolinecolor": "white"
           },
           "zaxis": {
            "backgroundcolor": "#E5ECF6",
            "gridcolor": "white",
            "gridwidth": 2,
            "linecolor": "white",
            "showbackground": true,
            "ticks": "",
            "zerolinecolor": "white"
           }
          },
          "shapedefaults": {
           "line": {
            "color": "#2a3f5f"
           }
          },
          "ternary": {
           "aaxis": {
            "gridcolor": "white",
            "linecolor": "white",
            "ticks": ""
           },
           "baxis": {
            "gridcolor": "white",
            "linecolor": "white",
            "ticks": ""
           },
           "bgcolor": "#E5ECF6",
           "caxis": {
            "gridcolor": "white",
            "linecolor": "white",
            "ticks": ""
           }
          },
          "title": {
           "x": 0.05
          },
          "xaxis": {
           "automargin": true,
           "gridcolor": "white",
           "linecolor": "white",
           "ticks": "",
           "title": {
            "standoff": 15
           },
           "zerolinecolor": "white",
           "zerolinewidth": 2
          },
          "yaxis": {
           "automargin": true,
           "gridcolor": "white",
           "linecolor": "white",
           "ticks": "",
           "title": {
            "standoff": 15
           },
           "zerolinecolor": "white",
           "zerolinewidth": 2
          }
         }
        },
        "title": {
         "text": "regionId Distribution"
        },
        "xaxis": {
         "title": {
          "text": "regionId"
         }
        },
        "yaxis": {
         "title": {
          "text": "Frequency"
         }
        }
       }
      }
     },
     "metadata": {},
     "output_type": "display_data"
    },
    {
     "data": {
      "application/vnd.plotly.v1+json": {
       "config": {
        "plotlyServerURL": "https://plot.ly"
       },
       "data": [
        {
         "name": "age Distribution",
         "nbinsx": 20,
         "type": "histogram",
         "x": [
          33,
          33,
          32,
          28,
          31,
          25,
          30,
          27.88149053145999,
          27.88149053145999,
          21,
          20,
          37,
          42,
          24,
          24,
          27.88149053145999,
          27.88149053145999,
          44,
          27,
          29,
          23,
          27.88149053145999,
          16,
          46,
          27.88149053145999,
          27.88149053145999,
          27.88149053145999,
          27.88149053145999,
          27.88149053145999,
          54,
          27.88149053145999,
          16,
          38,
          30,
          27.88149053145999,
          27.88149053145999,
          31,
          29,
          45,
          26,
          31,
          27.88149053145999,
          27.88149053145999,
          13,
          27.88149053145999,
          27.88149053145999,
          21,
          27.88149053145999,
          42,
          27.88149053145999,
          27.88149053145999,
          27,
          27.88149053145999,
          40,
          21,
          27.88149053145999,
          27.88149053145999,
          27.88149053145999,
          16,
          27.88149053145999,
          32,
          27.88149053145999,
          27.88149053145999,
          27.88149053145999,
          22,
          33,
          26,
          22,
          39,
          30,
          26,
          30,
          27.88149053145999,
          29,
          30,
          34,
          29,
          26,
          32,
          29,
          27.88149053145999,
          34,
          25,
          28,
          22,
          31,
          27,
          27,
          43,
          28,
          27.88149053145999,
          25,
          26,
          27,
          27.88149053145999,
          29,
          31,
          23,
          28,
          20,
          32,
          27,
          34,
          29,
          32,
          23,
          36,
          27,
          43,
          28,
          38,
          33,
          28,
          35,
          26,
          44,
          21,
          34,
          28,
          27,
          27.88149053145999,
          27.88149053145999,
          27.88149053145999,
          34,
          27.88149053145999,
          27,
          29,
          21,
          18,
          36,
          38,
          27.88149053145999,
          43,
          27,
          25,
          25,
          27.88149053145999,
          33,
          27.88149053145999,
          29,
          20,
          29,
          30,
          27,
          25,
          27.88149053145999,
          27.88149053145999,
          24,
          32,
          24,
          34,
          27,
          19,
          27.88149053145999,
          29,
          39,
          27.88149053145999,
          27.88149053145999,
          24,
          32,
          44,
          24,
          26,
          35,
          22,
          26,
          27.88149053145999,
          33,
          39,
          34,
          19,
          28,
          30,
          24,
          21,
          27,
          33,
          27.88149053145999,
          19,
          17,
          40,
          36,
          40,
          25,
          26,
          27.88149053145999,
          34,
          27.88149053145999,
          20,
          27,
          27.88149053145999,
          31,
          28,
          26,
          40,
          25,
          33,
          34,
          32,
          27.88149053145999,
          25,
          30,
          27.88149053145999,
          33,
          25,
          42,
          27.88149053145999,
          27.88149053145999,
          27.88149053145999,
          42,
          27,
          28,
          28,
          27,
          27.88149053145999,
          24,
          27.88149053145999,
          27,
          44,
          29,
          27,
          32,
          33,
          23,
          23,
          27,
          28,
          22,
          25,
          23,
          20,
          35,
          33,
          28,
          27,
          35,
          31,
          24,
          29,
          25,
          34,
          22,
          21,
          30,
          28,
          24,
          33,
          30,
          26,
          23,
          27,
          40,
          27,
          34,
          23,
          37,
          31,
          28,
          27,
          36,
          27,
          30,
          33,
          27,
          23,
          28,
          35,
          27.88149053145999,
          33,
          23,
          30,
          27,
          26,
          21,
          27,
          27.88149053145999,
          33,
          33,
          20,
          27.88149053145999,
          42,
          30,
          19,
          28,
          23,
          28,
          28,
          28,
          23,
          29,
          25,
          27,
          22,
          27,
          33,
          34,
          27,
          26,
          24,
          27.88149053145999,
          38,
          25,
          26,
          19,
          34,
          28,
          27,
          34,
          35,
          32,
          26,
          20,
          28,
          18,
          27.88149053145999,
          31,
          22,
          33,
          30,
          27.88149053145999,
          37,
          21,
          35,
          24,
          27.88149053145999,
          31,
          23,
          29,
          24,
          28,
          27,
          27,
          41,
          27.88149053145999,
          27.88149053145999,
          29,
          37,
          28,
          27,
          21,
          27.88149053145999,
          29,
          27.88149053145999,
          47,
          27.88149053145999,
          27,
          32,
          27.88149053145999,
          38,
          28,
          31,
          27.88149053145999,
          27.88149053145999,
          27.88149053145999,
          26,
          26,
          31,
          23,
          37,
          25,
          24,
          29,
          30,
          31,
          27.88149053145999,
          25,
          22,
          31,
          32,
          30,
          23,
          29,
          20,
          28,
          24,
          27,
          28,
          27,
          33,
          35,
          24,
          21,
          24,
          29,
          36,
          34,
          26,
          28,
          29,
          32,
          24,
          29,
          36,
          26,
          33,
          33,
          28,
          27,
          36,
          30,
          28,
          24,
          30,
          22,
          29,
          27.88149053145999,
          25,
          23,
          34,
          23,
          28,
          20,
          31,
          26,
          21,
          25,
          29,
          33,
          21,
          26,
          25,
          27,
          39,
          25,
          28,
          35,
          25,
          23,
          28,
          34,
          45,
          35,
          30,
          26,
          25,
          17,
          25,
          34,
          28,
          28,
          27.88149053145999,
          38,
          30,
          28,
          38,
          21,
          33,
          20,
          34,
          28,
          31,
          36,
          27.88149053145999,
          27.88149053145999,
          26,
          23,
          28,
          21,
          26,
          29,
          27,
          25,
          25,
          22,
          33,
          32,
          25,
          30,
          26,
          21,
          25,
          25,
          24,
          25,
          24,
          26,
          28,
          29,
          29,
          25,
          21,
          30,
          24,
          26,
          24,
          28,
          33,
          21,
          27,
          25,
          27,
          28,
          33,
          29,
          32,
          28,
          20,
          25,
          31,
          24,
          23,
          42,
          31,
          36,
          21,
          29,
          30,
          29,
          22,
          29,
          40,
          22,
          35,
          35,
          30,
          25,
          32,
          28,
          28,
          28,
          27,
          29,
          40,
          28,
          26,
          28,
          26,
          39,
          25,
          25,
          25,
          36,
          26,
          31,
          27,
          33,
          27,
          24,
          22,
          35,
          26,
          27,
          23,
          37,
          36,
          26,
          27,
          26,
          22,
          31,
          34,
          23,
          33,
          29,
          23,
          25,
          27,
          22,
          24,
          29,
          26,
          21,
          26,
          22,
          25,
          21,
          30,
          23,
          30,
          25,
          33,
          24,
          32,
          28,
          31,
          21,
          25,
          28,
          28,
          30,
          24,
          32,
          27,
          25,
          26,
          24,
          33,
          23,
          27,
          30,
          24,
          20,
          28,
          28,
          34,
          34,
          23,
          21,
          22,
          30,
          29,
          32,
          22,
          32,
          28,
          24,
          30,
          26,
          26,
          31,
          39,
          40,
          35,
          27,
          25,
          21,
          25,
          28,
          29,
          35,
          25,
          26,
          25,
          29,
          26,
          26,
          18,
          25,
          32,
          23,
          31,
          19,
          23,
          29,
          35,
          26,
          16,
          24,
          27,
          32,
          31,
          32,
          25,
          27,
          23,
          25,
          22,
          24,
          30,
          29,
          35,
          24,
          31,
          23,
          25,
          28,
          26,
          26,
          27,
          22,
          23,
          31,
          35,
          26,
          25,
          29,
          26,
          24,
          26,
          25,
          28,
          29,
          22,
          35,
          26,
          27,
          27,
          29,
          28,
          25,
          29,
          26,
          26,
          27,
          25,
          29,
          22,
          29,
          33,
          31,
          26,
          34,
          27,
          32,
          28,
          28,
          29,
          30,
          34,
          32,
          23,
          27,
          22,
          29,
          24,
          28,
          25,
          27,
          28,
          33,
          27,
          31,
          20,
          29,
          28,
          26,
          24,
          25,
          27,
          32,
          31,
          36,
          27,
          22,
          23,
          32,
          37,
          24,
          27,
          29,
          30,
          29,
          33,
          26,
          24,
          28,
          31,
          26,
          32,
          24,
          23,
          27,
          30,
          27,
          27,
          32,
          25,
          36,
          25,
          23,
          24,
          26,
          30,
          28,
          22,
          23,
          29,
          29,
          21,
          24,
          35,
          23,
          23,
          27,
          19,
          33,
          24,
          25,
          22,
          26,
          30,
          26,
          24,
          33,
          28,
          24,
          25,
          24,
          25,
          28,
          35,
          27,
          27,
          26,
          20,
          29,
          33,
          30,
          32,
          35,
          27,
          28,
          34,
          26,
          26,
          23,
          29,
          31,
          28,
          33,
          26,
          28,
          30,
          30,
          34,
          27,
          24,
          27,
          33,
          29,
          25,
          28,
          30,
          26,
          26,
          30,
          24,
          39,
          23,
          25,
          25,
          22,
          31,
          26,
          27,
          24,
          24,
          20,
          25,
          23,
          26,
          25,
          25,
          26,
          27,
          29,
          32,
          27,
          25,
          29,
          28,
          28,
          30,
          25,
          27,
          24,
          31,
          24,
          24,
          29,
          23,
          25,
          28,
          25,
          23,
          27,
          29,
          37,
          33,
          22,
          21,
          22,
          33,
          25,
          28,
          28,
          26,
          30,
          24,
          30,
          27,
          26,
          25,
          28,
          20,
          29,
          29,
          30,
          31,
          26,
          32,
          35,
          28,
          36,
          27,
          27,
          23,
          30,
          25,
          34,
          29,
          28,
          30,
          26,
          31,
          31,
          25,
          18,
          27,
          26,
          26,
          26,
          25,
          25,
          28,
          26,
          23,
          24,
          25,
          26,
          31,
          33,
          25,
          25,
          20,
          29,
          23,
          24,
          25,
          23,
          26,
          23,
          25,
          24,
          26,
          28,
          29,
          23,
          24,
          25,
          29,
          27,
          23,
          29,
          25,
          26,
          26,
          24,
          21,
          23,
          22,
          23,
          34,
          27,
          21,
          26,
          27,
          30,
          33,
          28,
          30,
          26,
          28,
          25,
          30,
          29,
          31,
          24,
          27,
          27,
          31,
          32,
          31,
          22,
          29,
          31,
          31,
          29,
          28,
          25,
          26,
          24,
          28,
          35,
          30,
          25,
          26,
          19,
          32,
          27,
          26,
          23,
          27,
          26,
          24,
          29,
          27,
          27,
          22,
          33,
          26,
          26,
          26,
          22,
          25,
          26,
          23,
          24,
          27,
          21,
          26,
          25,
          25,
          30,
          30,
          26,
          27,
          28,
          34,
          24,
          22,
          20,
          25,
          29,
          29,
          24,
          26,
          27,
          23,
          27,
          27,
          24,
          24,
          29,
          31,
          26,
          35,
          28,
          31,
          29,
          28,
          22,
          29,
          30,
          30,
          25,
          28,
          29,
          33,
          23,
          29,
          32,
          34,
          32,
          32,
          35,
          30,
          23,
          26,
          38,
          26,
          25,
          20,
          28,
          31,
          33,
          28,
          31,
          28,
          28,
          27,
          27,
          25,
          27,
          27,
          26,
          25,
          26,
          30,
          28,
          28,
          27,
          27,
          25,
          25,
          27,
          22,
          34,
          31,
          26,
          31,
          28,
          25,
          24,
          31,
          29,
          28,
          26,
          35,
          25,
          22,
          27,
          29,
          23,
          28,
          25,
          22,
          23,
          24,
          21,
          25,
          28,
          28,
          29,
          32,
          23,
          29,
          30,
          27,
          30,
          29,
          32,
          26,
          24,
          29,
          30,
          30,
          21,
          31,
          33,
          23,
          27,
          26,
          29,
          37,
          33,
          30,
          30,
          24,
          26,
          30,
          29,
          26,
          32,
          25,
          28,
          31,
          30,
          29,
          28,
          26,
          31,
          28,
          29,
          26,
          26,
          23,
          30,
          28,
          28,
          23,
          28,
          26,
          29,
          28,
          27,
          25,
          28,
          26,
          26,
          28,
          27,
          27,
          27,
          29,
          29,
          35,
          25,
          21,
          20,
          25,
          26,
          23,
          28,
          24,
          31,
          30,
          29,
          33,
          30,
          26,
          31,
          28,
          26,
          26,
          28,
          19,
          22,
          21,
          24,
          29,
          30,
          33,
          29,
          27,
          26,
          29,
          29,
          33,
          30,
          25,
          29,
          32,
          25,
          27,
          22,
          29,
          31,
          29,
          24,
          24,
          27,
          28,
          27,
          32,
          28,
          31,
          30,
          24,
          34,
          30,
          33,
          25,
          25,
          31,
          24,
          28,
          25,
          24,
          27,
          25,
          29,
          36,
          23,
          30,
          32,
          28,
          29,
          24,
          22,
          26,
          33,
          46,
          24,
          29,
          28,
          28,
          33,
          28,
          31,
          29,
          29,
          30,
          29,
          28,
          32,
          28,
          30,
          31,
          30,
          30,
          32,
          29,
          28,
          39,
          30,
          31,
          38,
          29,
          31,
          30,
          21,
          31,
          25,
          24,
          26,
          30,
          32,
          38,
          31,
          32,
          27,
          25,
          33,
          28,
          26,
          30,
          18,
          27,
          25,
          29,
          27,
          23,
          29,
          29,
          33,
          22,
          24,
          31,
          37,
          30,
          26,
          29,
          24,
          22,
          27,
          24,
          31,
          25,
          29,
          28,
          24,
          27,
          27,
          27,
          30,
          34,
          25,
          23,
          26,
          30,
          34,
          27,
          30,
          30,
          28,
          25,
          30,
          27,
          32,
          26,
          27,
          28,
          28,
          34,
          37,
          30,
          30,
          32,
          27,
          27,
          30,
          35,
          23,
          28,
          27,
          36,
          29,
          30,
          30,
          25,
          26,
          28,
          26,
          32,
          27,
          25,
          35,
          20,
          29,
          31,
          35,
          26,
          31,
          31,
          21,
          30,
          24,
          24,
          36,
          32,
          26,
          31,
          20,
          28,
          32,
          32,
          19,
          37,
          33,
          23,
          30,
          17,
          33,
          30,
          25,
          28,
          32,
          26,
          27,
          31,
          36,
          28,
          30,
          38,
          26,
          43,
          44,
          21,
          33,
          34,
          41,
          37,
          25,
          27,
          41,
          34,
          27,
          35,
          25,
          23,
          22,
          33,
          30,
          24,
          21,
          29,
          26,
          27,
          25,
          27,
          30,
          24,
          25,
          30,
          25,
          30,
          29,
          24,
          27,
          21,
          29,
          29,
          24,
          26,
          25,
          30,
          28,
          30,
          28,
          33,
          30,
          30,
          26,
          27,
          31,
          19,
          25,
          34,
          28,
          30,
          31,
          31,
          32,
          29,
          26,
          25,
          24,
          30,
          24,
          21,
          30,
          26,
          27,
          26,
          29,
          23,
          38,
          26,
          24,
          28,
          31,
          29,
          22,
          31,
          30,
          28,
          25,
          26,
          21,
          29,
          25,
          30,
          33,
          30,
          27,
          30,
          27,
          30,
          26,
          26,
          23,
          32,
          28,
          22,
          25,
          25,
          23,
          37,
          26,
          31,
          22,
          25,
          23,
          24,
          26,
          34,
          28,
          29,
          24,
          31,
          36,
          26,
          27,
          24,
          31,
          35,
          20,
          22,
          17,
          32,
          29,
          28,
          25,
          31,
          29,
          27,
          32,
          17,
          29,
          25,
          29,
          26,
          39,
          35,
          33,
          26,
          21,
          23,
          31,
          29,
          34,
          34,
          23,
          24,
          28,
          22,
          27,
          31,
          32,
          30,
          27,
          30,
          23,
          27,
          28,
          26,
          28,
          32,
          24,
          26,
          29,
          22,
          26,
          31,
          31,
          28,
          27,
          31,
          29,
          31,
          20,
          26,
          24,
          33,
          32,
          27,
          30,
          28,
          28,
          23,
          24,
          26,
          27,
          24,
          22,
          19,
          29,
          27,
          27,
          25,
          29,
          29,
          28,
          18,
          25,
          26,
          27,
          17,
          32,
          23,
          21,
          23,
          28,
          32,
          33,
          30,
          30,
          26,
          28,
          24,
          26,
          27,
          30,
          30,
          32,
          20,
          19,
          23,
          30,
          26,
          24,
          22,
          22,
          20,
          29,
          27,
          26,
          29,
          22,
          28,
          33,
          33
         ]
        }
       ],
       "layout": {
        "template": {
         "data": {
          "bar": [
           {
            "error_x": {
             "color": "#2a3f5f"
            },
            "error_y": {
             "color": "#2a3f5f"
            },
            "marker": {
             "line": {
              "color": "#E5ECF6",
              "width": 0.5
             },
             "pattern": {
              "fillmode": "overlay",
              "size": 10,
              "solidity": 0.2
             }
            },
            "type": "bar"
           }
          ],
          "barpolar": [
           {
            "marker": {
             "line": {
              "color": "#E5ECF6",
              "width": 0.5
             },
             "pattern": {
              "fillmode": "overlay",
              "size": 10,
              "solidity": 0.2
             }
            },
            "type": "barpolar"
           }
          ],
          "carpet": [
           {
            "aaxis": {
             "endlinecolor": "#2a3f5f",
             "gridcolor": "white",
             "linecolor": "white",
             "minorgridcolor": "white",
             "startlinecolor": "#2a3f5f"
            },
            "baxis": {
             "endlinecolor": "#2a3f5f",
             "gridcolor": "white",
             "linecolor": "white",
             "minorgridcolor": "white",
             "startlinecolor": "#2a3f5f"
            },
            "type": "carpet"
           }
          ],
          "choropleth": [
           {
            "colorbar": {
             "outlinewidth": 0,
             "ticks": ""
            },
            "type": "choropleth"
           }
          ],
          "contour": [
           {
            "colorbar": {
             "outlinewidth": 0,
             "ticks": ""
            },
            "colorscale": [
             [
              0,
              "#0d0887"
             ],
             [
              0.1111111111111111,
              "#46039f"
             ],
             [
              0.2222222222222222,
              "#7201a8"
             ],
             [
              0.3333333333333333,
              "#9c179e"
             ],
             [
              0.4444444444444444,
              "#bd3786"
             ],
             [
              0.5555555555555556,
              "#d8576b"
             ],
             [
              0.6666666666666666,
              "#ed7953"
             ],
             [
              0.7777777777777778,
              "#fb9f3a"
             ],
             [
              0.8888888888888888,
              "#fdca26"
             ],
             [
              1,
              "#f0f921"
             ]
            ],
            "type": "contour"
           }
          ],
          "contourcarpet": [
           {
            "colorbar": {
             "outlinewidth": 0,
             "ticks": ""
            },
            "type": "contourcarpet"
           }
          ],
          "heatmap": [
           {
            "colorbar": {
             "outlinewidth": 0,
             "ticks": ""
            },
            "colorscale": [
             [
              0,
              "#0d0887"
             ],
             [
              0.1111111111111111,
              "#46039f"
             ],
             [
              0.2222222222222222,
              "#7201a8"
             ],
             [
              0.3333333333333333,
              "#9c179e"
             ],
             [
              0.4444444444444444,
              "#bd3786"
             ],
             [
              0.5555555555555556,
              "#d8576b"
             ],
             [
              0.6666666666666666,
              "#ed7953"
             ],
             [
              0.7777777777777778,
              "#fb9f3a"
             ],
             [
              0.8888888888888888,
              "#fdca26"
             ],
             [
              1,
              "#f0f921"
             ]
            ],
            "type": "heatmap"
           }
          ],
          "heatmapgl": [
           {
            "colorbar": {
             "outlinewidth": 0,
             "ticks": ""
            },
            "colorscale": [
             [
              0,
              "#0d0887"
             ],
             [
              0.1111111111111111,
              "#46039f"
             ],
             [
              0.2222222222222222,
              "#7201a8"
             ],
             [
              0.3333333333333333,
              "#9c179e"
             ],
             [
              0.4444444444444444,
              "#bd3786"
             ],
             [
              0.5555555555555556,
              "#d8576b"
             ],
             [
              0.6666666666666666,
              "#ed7953"
             ],
             [
              0.7777777777777778,
              "#fb9f3a"
             ],
             [
              0.8888888888888888,
              "#fdca26"
             ],
             [
              1,
              "#f0f921"
             ]
            ],
            "type": "heatmapgl"
           }
          ],
          "histogram": [
           {
            "marker": {
             "pattern": {
              "fillmode": "overlay",
              "size": 10,
              "solidity": 0.2
             }
            },
            "type": "histogram"
           }
          ],
          "histogram2d": [
           {
            "colorbar": {
             "outlinewidth": 0,
             "ticks": ""
            },
            "colorscale": [
             [
              0,
              "#0d0887"
             ],
             [
              0.1111111111111111,
              "#46039f"
             ],
             [
              0.2222222222222222,
              "#7201a8"
             ],
             [
              0.3333333333333333,
              "#9c179e"
             ],
             [
              0.4444444444444444,
              "#bd3786"
             ],
             [
              0.5555555555555556,
              "#d8576b"
             ],
             [
              0.6666666666666666,
              "#ed7953"
             ],
             [
              0.7777777777777778,
              "#fb9f3a"
             ],
             [
              0.8888888888888888,
              "#fdca26"
             ],
             [
              1,
              "#f0f921"
             ]
            ],
            "type": "histogram2d"
           }
          ],
          "histogram2dcontour": [
           {
            "colorbar": {
             "outlinewidth": 0,
             "ticks": ""
            },
            "colorscale": [
             [
              0,
              "#0d0887"
             ],
             [
              0.1111111111111111,
              "#46039f"
             ],
             [
              0.2222222222222222,
              "#7201a8"
             ],
             [
              0.3333333333333333,
              "#9c179e"
             ],
             [
              0.4444444444444444,
              "#bd3786"
             ],
             [
              0.5555555555555556,
              "#d8576b"
             ],
             [
              0.6666666666666666,
              "#ed7953"
             ],
             [
              0.7777777777777778,
              "#fb9f3a"
             ],
             [
              0.8888888888888888,
              "#fdca26"
             ],
             [
              1,
              "#f0f921"
             ]
            ],
            "type": "histogram2dcontour"
           }
          ],
          "mesh3d": [
           {
            "colorbar": {
             "outlinewidth": 0,
             "ticks": ""
            },
            "type": "mesh3d"
           }
          ],
          "parcoords": [
           {
            "line": {
             "colorbar": {
              "outlinewidth": 0,
              "ticks": ""
             }
            },
            "type": "parcoords"
           }
          ],
          "pie": [
           {
            "automargin": true,
            "type": "pie"
           }
          ],
          "scatter": [
           {
            "fillpattern": {
             "fillmode": "overlay",
             "size": 10,
             "solidity": 0.2
            },
            "type": "scatter"
           }
          ],
          "scatter3d": [
           {
            "line": {
             "colorbar": {
              "outlinewidth": 0,
              "ticks": ""
             }
            },
            "marker": {
             "colorbar": {
              "outlinewidth": 0,
              "ticks": ""
             }
            },
            "type": "scatter3d"
           }
          ],
          "scattercarpet": [
           {
            "marker": {
             "colorbar": {
              "outlinewidth": 0,
              "ticks": ""
             }
            },
            "type": "scattercarpet"
           }
          ],
          "scattergeo": [
           {
            "marker": {
             "colorbar": {
              "outlinewidth": 0,
              "ticks": ""
             }
            },
            "type": "scattergeo"
           }
          ],
          "scattergl": [
           {
            "marker": {
             "colorbar": {
              "outlinewidth": 0,
              "ticks": ""
             }
            },
            "type": "scattergl"
           }
          ],
          "scattermapbox": [
           {
            "marker": {
             "colorbar": {
              "outlinewidth": 0,
              "ticks": ""
             }
            },
            "type": "scattermapbox"
           }
          ],
          "scatterpolar": [
           {
            "marker": {
             "colorbar": {
              "outlinewidth": 0,
              "ticks": ""
             }
            },
            "type": "scatterpolar"
           }
          ],
          "scatterpolargl": [
           {
            "marker": {
             "colorbar": {
              "outlinewidth": 0,
              "ticks": ""
             }
            },
            "type": "scatterpolargl"
           }
          ],
          "scatterternary": [
           {
            "marker": {
             "colorbar": {
              "outlinewidth": 0,
              "ticks": ""
             }
            },
            "type": "scatterternary"
           }
          ],
          "surface": [
           {
            "colorbar": {
             "outlinewidth": 0,
             "ticks": ""
            },
            "colorscale": [
             [
              0,
              "#0d0887"
             ],
             [
              0.1111111111111111,
              "#46039f"
             ],
             [
              0.2222222222222222,
              "#7201a8"
             ],
             [
              0.3333333333333333,
              "#9c179e"
             ],
             [
              0.4444444444444444,
              "#bd3786"
             ],
             [
              0.5555555555555556,
              "#d8576b"
             ],
             [
              0.6666666666666666,
              "#ed7953"
             ],
             [
              0.7777777777777778,
              "#fb9f3a"
             ],
             [
              0.8888888888888888,
              "#fdca26"
             ],
             [
              1,
              "#f0f921"
             ]
            ],
            "type": "surface"
           }
          ],
          "table": [
           {
            "cells": {
             "fill": {
              "color": "#EBF0F8"
             },
             "line": {
              "color": "white"
             }
            },
            "header": {
             "fill": {
              "color": "#C8D4E3"
             },
             "line": {
              "color": "white"
             }
            },
            "type": "table"
           }
          ]
         },
         "layout": {
          "annotationdefaults": {
           "arrowcolor": "#2a3f5f",
           "arrowhead": 0,
           "arrowwidth": 1
          },
          "autotypenumbers": "strict",
          "coloraxis": {
           "colorbar": {
            "outlinewidth": 0,
            "ticks": ""
           }
          },
          "colorscale": {
           "diverging": [
            [
             0,
             "#8e0152"
            ],
            [
             0.1,
             "#c51b7d"
            ],
            [
             0.2,
             "#de77ae"
            ],
            [
             0.3,
             "#f1b6da"
            ],
            [
             0.4,
             "#fde0ef"
            ],
            [
             0.5,
             "#f7f7f7"
            ],
            [
             0.6,
             "#e6f5d0"
            ],
            [
             0.7,
             "#b8e186"
            ],
            [
             0.8,
             "#7fbc41"
            ],
            [
             0.9,
             "#4d9221"
            ],
            [
             1,
             "#276419"
            ]
           ],
           "sequential": [
            [
             0,
             "#0d0887"
            ],
            [
             0.1111111111111111,
             "#46039f"
            ],
            [
             0.2222222222222222,
             "#7201a8"
            ],
            [
             0.3333333333333333,
             "#9c179e"
            ],
            [
             0.4444444444444444,
             "#bd3786"
            ],
            [
             0.5555555555555556,
             "#d8576b"
            ],
            [
             0.6666666666666666,
             "#ed7953"
            ],
            [
             0.7777777777777778,
             "#fb9f3a"
            ],
            [
             0.8888888888888888,
             "#fdca26"
            ],
            [
             1,
             "#f0f921"
            ]
           ],
           "sequentialminus": [
            [
             0,
             "#0d0887"
            ],
            [
             0.1111111111111111,
             "#46039f"
            ],
            [
             0.2222222222222222,
             "#7201a8"
            ],
            [
             0.3333333333333333,
             "#9c179e"
            ],
            [
             0.4444444444444444,
             "#bd3786"
            ],
            [
             0.5555555555555556,
             "#d8576b"
            ],
            [
             0.6666666666666666,
             "#ed7953"
            ],
            [
             0.7777777777777778,
             "#fb9f3a"
            ],
            [
             0.8888888888888888,
             "#fdca26"
            ],
            [
             1,
             "#f0f921"
            ]
           ]
          },
          "colorway": [
           "#636efa",
           "#EF553B",
           "#00cc96",
           "#ab63fa",
           "#FFA15A",
           "#19d3f3",
           "#FF6692",
           "#B6E880",
           "#FF97FF",
           "#FECB52"
          ],
          "font": {
           "color": "#2a3f5f"
          },
          "geo": {
           "bgcolor": "white",
           "lakecolor": "white",
           "landcolor": "#E5ECF6",
           "showlakes": true,
           "showland": true,
           "subunitcolor": "white"
          },
          "hoverlabel": {
           "align": "left"
          },
          "hovermode": "closest",
          "mapbox": {
           "style": "light"
          },
          "paper_bgcolor": "white",
          "plot_bgcolor": "#E5ECF6",
          "polar": {
           "angularaxis": {
            "gridcolor": "white",
            "linecolor": "white",
            "ticks": ""
           },
           "bgcolor": "#E5ECF6",
           "radialaxis": {
            "gridcolor": "white",
            "linecolor": "white",
            "ticks": ""
           }
          },
          "scene": {
           "xaxis": {
            "backgroundcolor": "#E5ECF6",
            "gridcolor": "white",
            "gridwidth": 2,
            "linecolor": "white",
            "showbackground": true,
            "ticks": "",
            "zerolinecolor": "white"
           },
           "yaxis": {
            "backgroundcolor": "#E5ECF6",
            "gridcolor": "white",
            "gridwidth": 2,
            "linecolor": "white",
            "showbackground": true,
            "ticks": "",
            "zerolinecolor": "white"
           },
           "zaxis": {
            "backgroundcolor": "#E5ECF6",
            "gridcolor": "white",
            "gridwidth": 2,
            "linecolor": "white",
            "showbackground": true,
            "ticks": "",
            "zerolinecolor": "white"
           }
          },
          "shapedefaults": {
           "line": {
            "color": "#2a3f5f"
           }
          },
          "ternary": {
           "aaxis": {
            "gridcolor": "white",
            "linecolor": "white",
            "ticks": ""
           },
           "baxis": {
            "gridcolor": "white",
            "linecolor": "white",
            "ticks": ""
           },
           "bgcolor": "#E5ECF6",
           "caxis": {
            "gridcolor": "white",
            "linecolor": "white",
            "ticks": ""
           }
          },
          "title": {
           "x": 0.05
          },
          "xaxis": {
           "automargin": true,
           "gridcolor": "white",
           "linecolor": "white",
           "ticks": "",
           "title": {
            "standoff": 15
           },
           "zerolinecolor": "white",
           "zerolinewidth": 2
          },
          "yaxis": {
           "automargin": true,
           "gridcolor": "white",
           "linecolor": "white",
           "ticks": "",
           "title": {
            "standoff": 15
           },
           "zerolinecolor": "white",
           "zerolinewidth": 2
          }
         }
        },
        "title": {
         "text": "age Distribution"
        },
        "xaxis": {
         "title": {
          "text": "age"
         }
        },
        "yaxis": {
         "title": {
          "text": "Frequency"
         }
        }
       }
      }
     },
     "metadata": {},
     "output_type": "display_data"
    },
    {
     "data": {
      "application/vnd.plotly.v1+json": {
       "config": {
        "plotlyServerURL": "https://plot.ly"
       },
       "data": [
        {
         "name": "height Distribution",
         "nbinsx": 20,
         "type": "histogram",
         "x": [
          176,
          168,
          176,
          166,
          171,
          177.3722891566265,
          183,
          177.3722891566265,
          177.3722891566265,
          181,
          178,
          168,
          173,
          191,
          177.3722891566265,
          177.3722891566265,
          177.3722891566265,
          177.3722891566265,
          183,
          171,
          186,
          177.3722891566265,
          177.3722891566265,
          176,
          177.3722891566265,
          177.3722891566265,
          177.3722891566265,
          177.3722891566265,
          177.3722891566265,
          171,
          177.3722891566265,
          178,
          181,
          177.3722891566265,
          177.3722891566265,
          177.3722891566265,
          150,
          177.3722891566265,
          171,
          176,
          161,
          177.3722891566265,
          177.3722891566265,
          181,
          165.37482517482516,
          165.37482517482516,
          163,
          165.37482517482516,
          176,
          165.37482517482516,
          165.37482517482516,
          158,
          165.37482517482516,
          165.37482517482516,
          165.37482517482516,
          165.37482517482516,
          165.37482517482516,
          165.37482517482516,
          165.37482517482516,
          165.37482517482516,
          163,
          165.37482517482516,
          165.37482517482516,
          165.37482517482516,
          176,
          176,
          177.3722891566265,
          171,
          176,
          166,
          177.3722891566265,
          176,
          177.3722891566265,
          166,
          166,
          176,
          188,
          183,
          171,
          171,
          177.3722891566265,
          177.3722891566265,
          176,
          178,
          181,
          183,
          178,
          178,
          173,
          176,
          177.3722891566265,
          171,
          168,
          181,
          177.3722891566265,
          163,
          177.3722891566265,
          177.3722891566265,
          177.3722891566265,
          181,
          150,
          173,
          168,
          173,
          177.3722891566265,
          177.3722891566265,
          176,
          176,
          186,
          191,
          168,
          178,
          176,
          177.3722891566265,
          177.3722891566265,
          177.3722891566265,
          178,
          181,
          194,
          186,
          177.3722891566265,
          177.3722891566265,
          177.3722891566265,
          178,
          177.3722891566265,
          177.3722891566265,
          177.3722891566265,
          177.3722891566265,
          183,
          178,
          177.3722891566265,
          177.3722891566265,
          186,
          177.3722891566265,
          191,
          177.3722891566265,
          177.3722891566265,
          177.3722891566265,
          177.3722891566265,
          158,
          176,
          178,
          176,
          173,
          186,
          177.3722891566265,
          177.3722891566265,
          188,
          178,
          181,
          173,
          177.3722891566265,
          177.3722891566265,
          177.3722891566265,
          181,
          178,
          177.3722891566265,
          177.3722891566265,
          176,
          177.3722891566265,
          188,
          173,
          161,
          173,
          173,
          178,
          177.3722891566265,
          183,
          177.3722891566265,
          176,
          177.3722891566265,
          163,
          177,
          177.3722891566265,
          177.3722891566265,
          188,
          177.3722891566265,
          177.3722891566265,
          178,
          178,
          177.3722891566265,
          199,
          183,
          176,
          168,
          165.37482517482516,
          176,
          165.37482517482516,
          165.37482517482516,
          176,
          165.37482517482516,
          165.37482517482516,
          165.37482517482516,
          166,
          163,
          176,
          165.37482517482516,
          168,
          165.37482517482516,
          165.37482517482516,
          165.37482517482516,
          165.37482517482516,
          165.37482517482516,
          168,
          166,
          166,
          165.37482517482516,
          165.37482517482516,
          165.37482517482516,
          166,
          173,
          168,
          165.37482517482516,
          163,
          165.37482517482516,
          176,
          165.37482517482516,
          165.37482517482516,
          153,
          175,
          186,
          188,
          177.3722891566265,
          176,
          181,
          183,
          178,
          181,
          188,
          186,
          188,
          176,
          191,
          186,
          177.3722891566265,
          191,
          176,
          181,
          178,
          177.3722891566265,
          173,
          173,
          181,
          166,
          178,
          181,
          171,
          178,
          181,
          179,
          177.3722891566265,
          176,
          181,
          176,
          171,
          176,
          166,
          186,
          176,
          177.3722891566265,
          173,
          177.3722891566265,
          176,
          183,
          177.3722891566265,
          173,
          171,
          177.3722891566265,
          180,
          183,
          171,
          177.3722891566265,
          181,
          173,
          181,
          177.3722891566265,
          173,
          177.3722891566265,
          183,
          177.3722891566265,
          173,
          173,
          181,
          180,
          171,
          199,
          161,
          176,
          173,
          178,
          186,
          177.3722891566265,
          159,
          168,
          165.37482517482516,
          171,
          158,
          181,
          163,
          165.37482517482516,
          168,
          176,
          173,
          170,
          168,
          165.37482517482516,
          176,
          178,
          176,
          166,
          176,
          165.37482517482516,
          176,
          165.37482517482516,
          165.37482517482516,
          165.37482517482516,
          171,
          163,
          161,
          165.37482517482516,
          173,
          163,
          171,
          173,
          165.37482517482516,
          161,
          158,
          166,
          166,
          166,
          165.37482517482516,
          161,
          163,
          165.37482517482516,
          165.37482517482516,
          165.37482517482516,
          165.37482517482516,
          153,
          173,
          161,
          165.37482517482516,
          158,
          165.37482517482516,
          165.37482517482516,
          165.37482517482516,
          166,
          165.37482517482516,
          165.37482517482516,
          158,
          165.37482517482516,
          165.37482517482516,
          165.37482517482516,
          165.37482517482516,
          165.37482517482516,
          176,
          161,
          163,
          157,
          161,
          159,
          165.37482517482516,
          165.37482517482516,
          158,
          161,
          165.37482517482516,
          181,
          176,
          166,
          176,
          175,
          166,
          178,
          181,
          186,
          181,
          181,
          186,
          181,
          188,
          173,
          176,
          188,
          173,
          178,
          177.3722891566265,
          171,
          188,
          183,
          176,
          178,
          179,
          161,
          176,
          183,
          176,
          177.3722891566265,
          177.3722891566265,
          188,
          191,
          178,
          177.3722891566265,
          186,
          183,
          177.3722891566265,
          186,
          177.3722891566265,
          179,
          188,
          177.3722891566265,
          188,
          158,
          170,
          158,
          163,
          163,
          163,
          176,
          166,
          158,
          163,
          158,
          181,
          158,
          166,
          173,
          171,
          165.37482517482516,
          173,
          170,
          173,
          166,
          178,
          160,
          158,
          165.37482517482516,
          165.37482517482516,
          176,
          163,
          161,
          176,
          165.37482517482516,
          175,
          165.37482517482516,
          176,
          172,
          150,
          165.37482517482516,
          165.37482517482516,
          165.37482517482516,
          163,
          160,
          171,
          165.37482517482516,
          165.37482517482516,
          171,
          176,
          181,
          181,
          181,
          183,
          171,
          176,
          171,
          188,
          176,
          166,
          171,
          178,
          186,
          183,
          181,
          179,
          166,
          177.3722891566265,
          171,
          181,
          181,
          186,
          178,
          176,
          173,
          176,
          196,
          178,
          174,
          181,
          178,
          178,
          178,
          178,
          178,
          183,
          168,
          183,
          178,
          178,
          177.3722891566265,
          188,
          186,
          183,
          178,
          178,
          175,
          173,
          170,
          158,
          176,
          170,
          163,
          171,
          158,
          158,
          153,
          168,
          160,
          158,
          171,
          165.37482517482516,
          173,
          181,
          163,
          163,
          167,
          176,
          163,
          166,
          158,
          161,
          155,
          161,
          163,
          171,
          176,
          168,
          167,
          173,
          158,
          168,
          150,
          163,
          166,
          163,
          173,
          168,
          162,
          163,
          171,
          168,
          165.37482517482516,
          166,
          165.37482517482516,
          176,
          176,
          173,
          176,
          176,
          171,
          178,
          166,
          186,
          181,
          181,
          186,
          188,
          176,
          173,
          178,
          173,
          176,
          181,
          178,
          196,
          166,
          178,
          182,
          178,
          183,
          181,
          183,
          171,
          174,
          178,
          178,
          188,
          183,
          174,
          178,
          171,
          178,
          183,
          183,
          175,
          181,
          176,
          171,
          183,
          162,
          170,
          163,
          171,
          158,
          158,
          158,
          171,
          166,
          168,
          176,
          163,
          166,
          166,
          161,
          158,
          168,
          167,
          178,
          162,
          163,
          181,
          176,
          153,
          155,
          173,
          158,
          166,
          166,
          161,
          169,
          161,
          158,
          163,
          163,
          164,
          173,
          171,
          163,
          176,
          158,
          168,
          171,
          182,
          165,
          166,
          176,
          176,
          181,
          176,
          177.3722891566265,
          178,
          166,
          171,
          178,
          188,
          186,
          178,
          181,
          181,
          174,
          171,
          183,
          150,
          173,
          173,
          176,
          173,
          186,
          178,
          174,
          181,
          196,
          173,
          176,
          178,
          186,
          178,
          174,
          176,
          181,
          186,
          178,
          178,
          181,
          181,
          166,
          171,
          162,
          178,
          175,
          176,
          175,
          170,
          168,
          158,
          168,
          171,
          166,
          163,
          163,
          167,
          171,
          176,
          162,
          155,
          178,
          167,
          158,
          173,
          168,
          173,
          166,
          166,
          168,
          158,
          169,
          168,
          171,
          171,
          171,
          161,
          155,
          161,
          158,
          171,
          158,
          153,
          164,
          163,
          174,
          166,
          163,
          161,
          158,
          158,
          163,
          176,
          171,
          176,
          166,
          176,
          186,
          181,
          171,
          171,
          171,
          183,
          174,
          173,
          176,
          178,
          181,
          181,
          171,
          173,
          178,
          173,
          171,
          183,
          186,
          178,
          178,
          183,
          166,
          181,
          175,
          178,
          171,
          178,
          173,
          183,
          176,
          186,
          186,
          181,
          150,
          173,
          175,
          178,
          158,
          170,
          163,
          155,
          158,
          155,
          171,
          161,
          166,
          166,
          161,
          163,
          158,
          171,
          173,
          162,
          165,
          168,
          160,
          153,
          163,
          167,
          168,
          176,
          153,
          166,
          158,
          155,
          168,
          166,
          162,
          171,
          171,
          171,
          171,
          158,
          165.37482517482516,
          168,
          168,
          165,
          164,
          166,
          178,
          181,
          171,
          178,
          171,
          188,
          176,
          181,
          171,
          171,
          171,
          181,
          186,
          178,
          173,
          165,
          183,
          187,
          178,
          186,
          173,
          178,
          173,
          174,
          181,
          171,
          173,
          178,
          178,
          180,
          183,
          176,
          176,
          183,
          166,
          178,
          176,
          171,
          183,
          178,
          186,
          169,
          163,
          173,
          170,
          162,
          173,
          168,
          171,
          171,
          153,
          166,
          165,
          158,
          171,
          171,
          168,
          162,
          155,
          171,
          160,
          161,
          167,
          165,
          155,
          171,
          161,
          164,
          164,
          166,
          168,
          176,
          168,
          166,
          158,
          171,
          158,
          158,
          170,
          158,
          168,
          171,
          181,
          181,
          188,
          181,
          176,
          171,
          178,
          181,
          181,
          178,
          178,
          166,
          183,
          171,
          181,
          174,
          176,
          176,
          177.3722891566265,
          181,
          173,
          176,
          177,
          183,
          178,
          178,
          171,
          173,
          176,
          171,
          178,
          188,
          172,
          173,
          183,
          172,
          183,
          169,
          171,
          169,
          163,
          173,
          170,
          161,
          168,
          162,
          158,
          168,
          167,
          168,
          162,
          170,
          164,
          166,
          155,
          173,
          161,
          164,
          171,
          158,
          171,
          158,
          163,
          166,
          173,
          161,
          166,
          155,
          173,
          158,
          164,
          168,
          153,
          176,
          168,
          161,
          163,
          159,
          160,
          171,
          188,
          179,
          181,
          171,
          178,
          176,
          181,
          178,
          171,
          185,
          171,
          181,
          177.3722891566265,
          176,
          171,
          181,
          183,
          181,
          186,
          181,
          186,
          163,
          176,
          174,
          174,
          177,
          181,
          178,
          166,
          176,
          176,
          181,
          169,
          168,
          183,
          181,
          183,
          172,
          163,
          162,
          170,
          173,
          169,
          168,
          162,
          163,
          170,
          161,
          168,
          161,
          158,
          168,
          164,
          155,
          173,
          164,
          171,
          168,
          160,
          163,
          163,
          171,
          167,
          171,
          166,
          176,
          166,
          166,
          161,
          158,
          158,
          168,
          159,
          166,
          163,
          158,
          158,
          166,
          171,
          181,
          183,
          188,
          178,
          171,
          181,
          183,
          179,
          171,
          176,
          181,
          178,
          172,
          171,
          172,
          181,
          177,
          176,
          178,
          174,
          176,
          173,
          183,
          181,
          185,
          183,
          176,
          186,
          169,
          166,
          176,
          181,
          183,
          168,
          183,
          181,
          173,
          181,
          182,
          163,
          170,
          169,
          162,
          170,
          161,
          162,
          168,
          158,
          161,
          163,
          168,
          158,
          168,
          171,
          163,
          171,
          163,
          164,
          159,
          173,
          171,
          165,
          165,
          171,
          163,
          176,
          171,
          158,
          163,
          166,
          161,
          168,
          150,
          166,
          168,
          173,
          163,
          155,
          166,
          171,
          171,
          178,
          176,
          177,
          171,
          168,
          172,
          176,
          176,
          181,
          181,
          181,
          171,
          173,
          181,
          183,
          183,
          185,
          185,
          179,
          178,
          188,
          176,
          181,
          183,
          179,
          181,
          185,
          173,
          174,
          176,
          176,
          181,
          180,
          172,
          171,
          181,
          178,
          182,
          183,
          182,
          176,
          180,
          181,
          178,
          180,
          173,
          177,
          173,
          169,
          175,
          176,
          171,
          176,
          175,
          174,
          176,
          179,
          171,
          173,
          188,
          183,
          181,
          150,
          171,
          167,
          184,
          184,
          181,
          184,
          187,
          173,
          183,
          172,
          178,
          175,
          183,
          182,
          173,
          171,
          179,
          176,
          150,
          176,
          174,
          167,
          176,
          173,
          183,
          181,
          170,
          173,
          177,
          177,
          188,
          185,
          176,
          178,
          181,
          178,
          170,
          178,
          170,
          188,
          177,
          186,
          170,
          171,
          173,
          186,
          187,
          174,
          179,
          167,
          173,
          175,
          170,
          171,
          178,
          175,
          181,
          175,
          171,
          178,
          174,
          173,
          173,
          170,
          171,
          175,
          170,
          176,
          172,
          167,
          175,
          165,
          176,
          169,
          170,
          169,
          163,
          174,
          178,
          163,
          162,
          163,
          169,
          161,
          171,
          171,
          163,
          160,
          164,
          170,
          170,
          161,
          168,
          170,
          168,
          164,
          170,
          170,
          173,
          165,
          170,
          159,
          168,
          155,
          163,
          168,
          173,
          165,
          165,
          161,
          168,
          161,
          170,
          173,
          168,
          167,
          177,
          163,
          163,
          150,
          158,
          177,
          161,
          171,
          167,
          167,
          168,
          157,
          166,
          160,
          171,
          170,
          170,
          161,
          150,
          165,
          161,
          171,
          161,
          170,
          155,
          166,
          161,
          174,
          171,
          154,
          162,
          166,
          163,
          169,
          165.37482517482516,
          165,
          173,
          174,
          152,
          170,
          159,
          167,
          167,
          161,
          167,
          158,
          160,
          153,
          161,
          170,
          158,
          154,
          163,
          168,
          199,
          155,
          163,
          160,
          165,
          171,
          165,
          156,
          178,
          166,
          162,
          159,
          155,
          161,
          154,
          163,
          157,
          166,
          175,
          168,
          162,
          165,
          158,
          168,
          150,
          171,
          175,
          165,
          164,
          153,
          171,
          172,
          163,
          163,
          160,
          160,
          168,
          163,
          164,
          165,
          171,
          181,
          176,
          171,
          176,
          173,
          171,
          178,
          181,
          180,
          177,
          171,
          182,
          186,
          188,
          181,
          161,
          175,
          181,
          181,
          176,
          173,
          183,
          178,
          178,
          183,
          178,
          173,
          185,
          189,
          163,
          169,
          161,
          171,
          168,
          162,
          171,
          162,
          158,
          168,
          164,
          163,
          168,
          170,
          170,
          161,
          156,
          170,
          165,
          163,
          173,
          158,
          165,
          170,
          170,
          162,
          164,
          171,
          161,
          164,
          176,
          181,
          188,
          178,
          176,
          171,
          177,
          181,
          182,
          171,
          176,
          181,
          176,
          181,
          183,
          183,
          177,
          185,
          186,
          176,
          173,
          175,
          180,
          181,
          174,
          185,
          183,
          186,
          181,
          183,
          163,
          173,
          177,
          173,
          172,
          176,
          176,
          175,
          175,
          182,
          163,
          170,
          170,
          162,
          171,
          170,
          161,
          158,
          171,
          169,
          170,
          165,
          164,
          161,
          170,
          163,
          167,
          171,
          168,
          168,
          170,
          168,
          163,
          162,
          168,
          167,
          161,
          168,
          165,
          166,
          156,
          163,
          155,
          168,
          168,
          162,
          161,
          153,
          163,
          155,
          176,
          182,
          179,
          181,
          176,
          181,
          186,
          182,
          178,
          177,
          176,
          171,
          181,
          176,
          171,
          188,
          179,
          181,
          183,
          173,
          174,
          176,
          186,
          185,
          181,
          180,
          183,
          175,
          178,
          181,
          177,
          163,
          183,
          178,
          178,
          179,
          177,
          173,
          189,
          168,
          163,
          161,
          170,
          170,
          168,
          166,
          162,
          170,
          171,
          166,
          161,
          165,
          158,
          171,
          167,
          168,
          168,
          167,
          174,
          170,
          161,
          164,
          161,
          168,
          163,
          168,
          168,
          171,
          161,
          158,
          168,
          165,
          161,
          170,
          157,
          155,
          159,
          164,
          158,
          170
         ]
        }
       ],
       "layout": {
        "template": {
         "data": {
          "bar": [
           {
            "error_x": {
             "color": "#2a3f5f"
            },
            "error_y": {
             "color": "#2a3f5f"
            },
            "marker": {
             "line": {
              "color": "#E5ECF6",
              "width": 0.5
             },
             "pattern": {
              "fillmode": "overlay",
              "size": 10,
              "solidity": 0.2
             }
            },
            "type": "bar"
           }
          ],
          "barpolar": [
           {
            "marker": {
             "line": {
              "color": "#E5ECF6",
              "width": 0.5
             },
             "pattern": {
              "fillmode": "overlay",
              "size": 10,
              "solidity": 0.2
             }
            },
            "type": "barpolar"
           }
          ],
          "carpet": [
           {
            "aaxis": {
             "endlinecolor": "#2a3f5f",
             "gridcolor": "white",
             "linecolor": "white",
             "minorgridcolor": "white",
             "startlinecolor": "#2a3f5f"
            },
            "baxis": {
             "endlinecolor": "#2a3f5f",
             "gridcolor": "white",
             "linecolor": "white",
             "minorgridcolor": "white",
             "startlinecolor": "#2a3f5f"
            },
            "type": "carpet"
           }
          ],
          "choropleth": [
           {
            "colorbar": {
             "outlinewidth": 0,
             "ticks": ""
            },
            "type": "choropleth"
           }
          ],
          "contour": [
           {
            "colorbar": {
             "outlinewidth": 0,
             "ticks": ""
            },
            "colorscale": [
             [
              0,
              "#0d0887"
             ],
             [
              0.1111111111111111,
              "#46039f"
             ],
             [
              0.2222222222222222,
              "#7201a8"
             ],
             [
              0.3333333333333333,
              "#9c179e"
             ],
             [
              0.4444444444444444,
              "#bd3786"
             ],
             [
              0.5555555555555556,
              "#d8576b"
             ],
             [
              0.6666666666666666,
              "#ed7953"
             ],
             [
              0.7777777777777778,
              "#fb9f3a"
             ],
             [
              0.8888888888888888,
              "#fdca26"
             ],
             [
              1,
              "#f0f921"
             ]
            ],
            "type": "contour"
           }
          ],
          "contourcarpet": [
           {
            "colorbar": {
             "outlinewidth": 0,
             "ticks": ""
            },
            "type": "contourcarpet"
           }
          ],
          "heatmap": [
           {
            "colorbar": {
             "outlinewidth": 0,
             "ticks": ""
            },
            "colorscale": [
             [
              0,
              "#0d0887"
             ],
             [
              0.1111111111111111,
              "#46039f"
             ],
             [
              0.2222222222222222,
              "#7201a8"
             ],
             [
              0.3333333333333333,
              "#9c179e"
             ],
             [
              0.4444444444444444,
              "#bd3786"
             ],
             [
              0.5555555555555556,
              "#d8576b"
             ],
             [
              0.6666666666666666,
              "#ed7953"
             ],
             [
              0.7777777777777778,
              "#fb9f3a"
             ],
             [
              0.8888888888888888,
              "#fdca26"
             ],
             [
              1,
              "#f0f921"
             ]
            ],
            "type": "heatmap"
           }
          ],
          "heatmapgl": [
           {
            "colorbar": {
             "outlinewidth": 0,
             "ticks": ""
            },
            "colorscale": [
             [
              0,
              "#0d0887"
             ],
             [
              0.1111111111111111,
              "#46039f"
             ],
             [
              0.2222222222222222,
              "#7201a8"
             ],
             [
              0.3333333333333333,
              "#9c179e"
             ],
             [
              0.4444444444444444,
              "#bd3786"
             ],
             [
              0.5555555555555556,
              "#d8576b"
             ],
             [
              0.6666666666666666,
              "#ed7953"
             ],
             [
              0.7777777777777778,
              "#fb9f3a"
             ],
             [
              0.8888888888888888,
              "#fdca26"
             ],
             [
              1,
              "#f0f921"
             ]
            ],
            "type": "heatmapgl"
           }
          ],
          "histogram": [
           {
            "marker": {
             "pattern": {
              "fillmode": "overlay",
              "size": 10,
              "solidity": 0.2
             }
            },
            "type": "histogram"
           }
          ],
          "histogram2d": [
           {
            "colorbar": {
             "outlinewidth": 0,
             "ticks": ""
            },
            "colorscale": [
             [
              0,
              "#0d0887"
             ],
             [
              0.1111111111111111,
              "#46039f"
             ],
             [
              0.2222222222222222,
              "#7201a8"
             ],
             [
              0.3333333333333333,
              "#9c179e"
             ],
             [
              0.4444444444444444,
              "#bd3786"
             ],
             [
              0.5555555555555556,
              "#d8576b"
             ],
             [
              0.6666666666666666,
              "#ed7953"
             ],
             [
              0.7777777777777778,
              "#fb9f3a"
             ],
             [
              0.8888888888888888,
              "#fdca26"
             ],
             [
              1,
              "#f0f921"
             ]
            ],
            "type": "histogram2d"
           }
          ],
          "histogram2dcontour": [
           {
            "colorbar": {
             "outlinewidth": 0,
             "ticks": ""
            },
            "colorscale": [
             [
              0,
              "#0d0887"
             ],
             [
              0.1111111111111111,
              "#46039f"
             ],
             [
              0.2222222222222222,
              "#7201a8"
             ],
             [
              0.3333333333333333,
              "#9c179e"
             ],
             [
              0.4444444444444444,
              "#bd3786"
             ],
             [
              0.5555555555555556,
              "#d8576b"
             ],
             [
              0.6666666666666666,
              "#ed7953"
             ],
             [
              0.7777777777777778,
              "#fb9f3a"
             ],
             [
              0.8888888888888888,
              "#fdca26"
             ],
             [
              1,
              "#f0f921"
             ]
            ],
            "type": "histogram2dcontour"
           }
          ],
          "mesh3d": [
           {
            "colorbar": {
             "outlinewidth": 0,
             "ticks": ""
            },
            "type": "mesh3d"
           }
          ],
          "parcoords": [
           {
            "line": {
             "colorbar": {
              "outlinewidth": 0,
              "ticks": ""
             }
            },
            "type": "parcoords"
           }
          ],
          "pie": [
           {
            "automargin": true,
            "type": "pie"
           }
          ],
          "scatter": [
           {
            "fillpattern": {
             "fillmode": "overlay",
             "size": 10,
             "solidity": 0.2
            },
            "type": "scatter"
           }
          ],
          "scatter3d": [
           {
            "line": {
             "colorbar": {
              "outlinewidth": 0,
              "ticks": ""
             }
            },
            "marker": {
             "colorbar": {
              "outlinewidth": 0,
              "ticks": ""
             }
            },
            "type": "scatter3d"
           }
          ],
          "scattercarpet": [
           {
            "marker": {
             "colorbar": {
              "outlinewidth": 0,
              "ticks": ""
             }
            },
            "type": "scattercarpet"
           }
          ],
          "scattergeo": [
           {
            "marker": {
             "colorbar": {
              "outlinewidth": 0,
              "ticks": ""
             }
            },
            "type": "scattergeo"
           }
          ],
          "scattergl": [
           {
            "marker": {
             "colorbar": {
              "outlinewidth": 0,
              "ticks": ""
             }
            },
            "type": "scattergl"
           }
          ],
          "scattermapbox": [
           {
            "marker": {
             "colorbar": {
              "outlinewidth": 0,
              "ticks": ""
             }
            },
            "type": "scattermapbox"
           }
          ],
          "scatterpolar": [
           {
            "marker": {
             "colorbar": {
              "outlinewidth": 0,
              "ticks": ""
             }
            },
            "type": "scatterpolar"
           }
          ],
          "scatterpolargl": [
           {
            "marker": {
             "colorbar": {
              "outlinewidth": 0,
              "ticks": ""
             }
            },
            "type": "scatterpolargl"
           }
          ],
          "scatterternary": [
           {
            "marker": {
             "colorbar": {
              "outlinewidth": 0,
              "ticks": ""
             }
            },
            "type": "scatterternary"
           }
          ],
          "surface": [
           {
            "colorbar": {
             "outlinewidth": 0,
             "ticks": ""
            },
            "colorscale": [
             [
              0,
              "#0d0887"
             ],
             [
              0.1111111111111111,
              "#46039f"
             ],
             [
              0.2222222222222222,
              "#7201a8"
             ],
             [
              0.3333333333333333,
              "#9c179e"
             ],
             [
              0.4444444444444444,
              "#bd3786"
             ],
             [
              0.5555555555555556,
              "#d8576b"
             ],
             [
              0.6666666666666666,
              "#ed7953"
             ],
             [
              0.7777777777777778,
              "#fb9f3a"
             ],
             [
              0.8888888888888888,
              "#fdca26"
             ],
             [
              1,
              "#f0f921"
             ]
            ],
            "type": "surface"
           }
          ],
          "table": [
           {
            "cells": {
             "fill": {
              "color": "#EBF0F8"
             },
             "line": {
              "color": "white"
             }
            },
            "header": {
             "fill": {
              "color": "#C8D4E3"
             },
             "line": {
              "color": "white"
             }
            },
            "type": "table"
           }
          ]
         },
         "layout": {
          "annotationdefaults": {
           "arrowcolor": "#2a3f5f",
           "arrowhead": 0,
           "arrowwidth": 1
          },
          "autotypenumbers": "strict",
          "coloraxis": {
           "colorbar": {
            "outlinewidth": 0,
            "ticks": ""
           }
          },
          "colorscale": {
           "diverging": [
            [
             0,
             "#8e0152"
            ],
            [
             0.1,
             "#c51b7d"
            ],
            [
             0.2,
             "#de77ae"
            ],
            [
             0.3,
             "#f1b6da"
            ],
            [
             0.4,
             "#fde0ef"
            ],
            [
             0.5,
             "#f7f7f7"
            ],
            [
             0.6,
             "#e6f5d0"
            ],
            [
             0.7,
             "#b8e186"
            ],
            [
             0.8,
             "#7fbc41"
            ],
            [
             0.9,
             "#4d9221"
            ],
            [
             1,
             "#276419"
            ]
           ],
           "sequential": [
            [
             0,
             "#0d0887"
            ],
            [
             0.1111111111111111,
             "#46039f"
            ],
            [
             0.2222222222222222,
             "#7201a8"
            ],
            [
             0.3333333333333333,
             "#9c179e"
            ],
            [
             0.4444444444444444,
             "#bd3786"
            ],
            [
             0.5555555555555556,
             "#d8576b"
            ],
            [
             0.6666666666666666,
             "#ed7953"
            ],
            [
             0.7777777777777778,
             "#fb9f3a"
            ],
            [
             0.8888888888888888,
             "#fdca26"
            ],
            [
             1,
             "#f0f921"
            ]
           ],
           "sequentialminus": [
            [
             0,
             "#0d0887"
            ],
            [
             0.1111111111111111,
             "#46039f"
            ],
            [
             0.2222222222222222,
             "#7201a8"
            ],
            [
             0.3333333333333333,
             "#9c179e"
            ],
            [
             0.4444444444444444,
             "#bd3786"
            ],
            [
             0.5555555555555556,
             "#d8576b"
            ],
            [
             0.6666666666666666,
             "#ed7953"
            ],
            [
             0.7777777777777778,
             "#fb9f3a"
            ],
            [
             0.8888888888888888,
             "#fdca26"
            ],
            [
             1,
             "#f0f921"
            ]
           ]
          },
          "colorway": [
           "#636efa",
           "#EF553B",
           "#00cc96",
           "#ab63fa",
           "#FFA15A",
           "#19d3f3",
           "#FF6692",
           "#B6E880",
           "#FF97FF",
           "#FECB52"
          ],
          "font": {
           "color": "#2a3f5f"
          },
          "geo": {
           "bgcolor": "white",
           "lakecolor": "white",
           "landcolor": "#E5ECF6",
           "showlakes": true,
           "showland": true,
           "subunitcolor": "white"
          },
          "hoverlabel": {
           "align": "left"
          },
          "hovermode": "closest",
          "mapbox": {
           "style": "light"
          },
          "paper_bgcolor": "white",
          "plot_bgcolor": "#E5ECF6",
          "polar": {
           "angularaxis": {
            "gridcolor": "white",
            "linecolor": "white",
            "ticks": ""
           },
           "bgcolor": "#E5ECF6",
           "radialaxis": {
            "gridcolor": "white",
            "linecolor": "white",
            "ticks": ""
           }
          },
          "scene": {
           "xaxis": {
            "backgroundcolor": "#E5ECF6",
            "gridcolor": "white",
            "gridwidth": 2,
            "linecolor": "white",
            "showbackground": true,
            "ticks": "",
            "zerolinecolor": "white"
           },
           "yaxis": {
            "backgroundcolor": "#E5ECF6",
            "gridcolor": "white",
            "gridwidth": 2,
            "linecolor": "white",
            "showbackground": true,
            "ticks": "",
            "zerolinecolor": "white"
           },
           "zaxis": {
            "backgroundcolor": "#E5ECF6",
            "gridcolor": "white",
            "gridwidth": 2,
            "linecolor": "white",
            "showbackground": true,
            "ticks": "",
            "zerolinecolor": "white"
           }
          },
          "shapedefaults": {
           "line": {
            "color": "#2a3f5f"
           }
          },
          "ternary": {
           "aaxis": {
            "gridcolor": "white",
            "linecolor": "white",
            "ticks": ""
           },
           "baxis": {
            "gridcolor": "white",
            "linecolor": "white",
            "ticks": ""
           },
           "bgcolor": "#E5ECF6",
           "caxis": {
            "gridcolor": "white",
            "linecolor": "white",
            "ticks": ""
           }
          },
          "title": {
           "x": 0.05
          },
          "xaxis": {
           "automargin": true,
           "gridcolor": "white",
           "linecolor": "white",
           "ticks": "",
           "title": {
            "standoff": 15
           },
           "zerolinecolor": "white",
           "zerolinewidth": 2
          },
          "yaxis": {
           "automargin": true,
           "gridcolor": "white",
           "linecolor": "white",
           "ticks": "",
           "title": {
            "standoff": 15
           },
           "zerolinecolor": "white",
           "zerolinewidth": 2
          }
         }
        },
        "title": {
         "text": "height Distribution"
        },
        "xaxis": {
         "title": {
          "text": "height"
         }
        },
        "yaxis": {
         "title": {
          "text": "Frequency"
         }
        }
       }
      }
     },
     "metadata": {},
     "output_type": "display_data"
    },
    {
     "data": {
      "application/vnd.plotly.v1+json": {
       "config": {
        "plotlyServerURL": "https://plot.ly"
       },
       "data": [
        {
         "name": "weight Distribution",
         "nbinsx": 20,
         "type": "histogram",
         "x": [
          80,
          71,
          84,
          65,
          78,
          93,
          84,
          88.37544696066746,
          88.37544696066746,
          88,
          83,
          87,
          87,
          109,
          88.37544696066746,
          88.37544696066746,
          88.37544696066746,
          88.37544696066746,
          96,
          71,
          89,
          88.37544696066746,
          88.37544696066746,
          80,
          88.37544696066746,
          88.37544696066746,
          88.37544696066746,
          88.37544696066746,
          88.37544696066746,
          80,
          88.37544696066746,
          75,
          89,
          96,
          88.37544696066746,
          88.37544696066746,
          84,
          88.37544696066746,
          80,
          78,
          65,
          88.37544696066746,
          88.37544696066746,
          83,
          65.66385372714487,
          65.66385372714487,
          65.66385372714487,
          65.66385372714487,
          65,
          65.66385372714487,
          65.66385372714487,
          53,
          65.66385372714487,
          65.66385372714487,
          65.66385372714487,
          65.66385372714487,
          65.66385372714487,
          65.66385372714487,
          65.66385372714487,
          65.66385372714487,
          64,
          65.66385372714487,
          65.66385372714487,
          65.66385372714487,
          96,
          84,
          93,
          80,
          84,
          73,
          88.37544696066746,
          99,
          88.37544696066746,
          65,
          80,
          80,
          96,
          96,
          78,
          76,
          88.37544696066746,
          88.37544696066746,
          90,
          85,
          88,
          84,
          83,
          84,
          87,
          91,
          88.37544696066746,
          82,
          74,
          89,
          88.37544696066746,
          82,
          88.37544696066746,
          88.37544696066746,
          88.37544696066746,
          96,
          84,
          82,
          71,
          103,
          88.37544696066746,
          88.37544696066746,
          90,
          91,
          84,
          91,
          87,
          82,
          91,
          88,
          88.37544696066746,
          88.37544696066746,
          83,
          89,
          100,
          98,
          88.37544696066746,
          88.37544696066746,
          88.37544696066746,
          89,
          88.37544696066746,
          88.37544696066746,
          88.37544696066746,
          88.37544696066746,
          89,
          80,
          91,
          88.37544696066746,
          88,
          88.37544696066746,
          109,
          88.37544696066746,
          88.37544696066746,
          88.37544696066746,
          88.37544696066746,
          71,
          82,
          89,
          87,
          72,
          98,
          88.37544696066746,
          88.37544696066746,
          88.37544696066746,
          84,
          84,
          84,
          88.37544696066746,
          88.37544696066746,
          88.37544696066746,
          96,
          96,
          88.37544696066746,
          88.37544696066746,
          88,
          88.37544696066746,
          89,
          84,
          69,
          77,
          84,
          75,
          88.37544696066746,
          82,
          88.37544696066746,
          100,
          88.37544696066746,
          62,
          109,
          88.37544696066746,
          98,
          105,
          81,
          88.37544696066746,
          80,
          75,
          88.37544696066746,
          107,
          107,
          65.66385372714487,
          69,
          65.66385372714487,
          83,
          65.66385372714487,
          65.66385372714487,
          69,
          65.66385372714487,
          65.66385372714487,
          65.66385372714487,
          71,
          57,
          69,
          65.66385372714487,
          63,
          67,
          65.66385372714487,
          65.66385372714487,
          65.66385372714487,
          65.66385372714487,
          71,
          64,
          54,
          65.66385372714487,
          65.66385372714487,
          65.66385372714487,
          72,
          70,
          69,
          65.66385372714487,
          65.66385372714487,
          65.66385372714487,
          69,
          65.66385372714487,
          65.66385372714487,
          50,
          85,
          97,
          98,
          88.37544696066746,
          96,
          88,
          87,
          84,
          84,
          103,
          91,
          98,
          80,
          109,
          90,
          93,
          100,
          99,
          89,
          87,
          88.37544696066746,
          89,
          75,
          96,
          65,
          83,
          93,
          78,
          89,
          97,
          91,
          84,
          84,
          82,
          84,
          80,
          90,
          73,
          98,
          83,
          88,
          87,
          88.37544696066746,
          90,
          96,
          88.37544696066746,
          82,
          78,
          88.37544696066746,
          87,
          78,
          75,
          88.37544696066746,
          82,
          87,
          103,
          88.37544696066746,
          88.37544696066746,
          88.37544696066746,
          98,
          88.37544696066746,
          73,
          80,
          89,
          80,
          82,
          93,
          66,
          91,
          84,
          85,
          98,
          88.37544696066746,
          63,
          69,
          65.66385372714487,
          63,
          59,
          72,
          62,
          65.66385372714487,
          62,
          69,
          71,
          69,
          71,
          65.66385372714487,
          77,
          75,
          83,
          62,
          78,
          64,
          69,
          65.66385372714487,
          65.66385372714487,
          65.66385372714487,
          74,
          63,
          59,
          65.66385372714487,
          71,
          65.66385372714487,
          67,
          73,
          65.66385372714487,
          59,
          65.66385372714487,
          66,
          65,
          62,
          65.66385372714487,
          59,
          57,
          65.66385372714487,
          65.66385372714487,
          65.66385372714487,
          65.66385372714487,
          55,
          64,
          59,
          65.66385372714487,
          55,
          65.66385372714487,
          62,
          65.66385372714487,
          71,
          65.66385372714487,
          65.66385372714487,
          59,
          65.66385372714487,
          65.66385372714487,
          65.66385372714487,
          65.66385372714487,
          65.66385372714487,
          65.66385372714487,
          54,
          55,
          50,
          63,
          69,
          65.66385372714487,
          65.66385372714487,
          62,
          57,
          65.66385372714487,
          89,
          88,
          65,
          99,
          85,
          80,
          84,
          89,
          97,
          88,
          98,
          107,
          82,
          98,
          89,
          96,
          98,
          84,
          83,
          88.37544696066746,
          78,
          103,
          87,
          87,
          98,
          91,
          82,
          80,
          89,
          82,
          88.37544696066746,
          88.37544696066746,
          91,
          100,
          85,
          84,
          91,
          83,
          88.37544696066746,
          90,
          88.37544696066746,
          82,
          90,
          88.37544696066746,
          84,
          59,
          69,
          62,
          63,
          62,
          62,
          69,
          62,
          59,
          64,
          57,
          72,
          60,
          65,
          64,
          63,
          65.66385372714487,
          68,
          62,
          89,
          62,
          75,
          50,
          59,
          66,
          65.66385372714487,
          66,
          63,
          64,
          69,
          65.66385372714487,
          68,
          65.66385372714487,
          77,
          75,
          66,
          65.66385372714487,
          65.66385372714487,
          65.66385372714487,
          64,
          60,
          62,
          65.66385372714487,
          65.66385372714487,
          73,
          88,
          98,
          89,
          87,
          87,
          82,
          96,
          80,
          98,
          99,
          65,
          82,
          84,
          100,
          89,
          87,
          91,
          80,
          88.37544696066746,
          82,
          93,
          87,
          97,
          84,
          89,
          87,
          87,
          100,
          91,
          89,
          98,
          98,
          91,
          92,
          82,
          88,
          91,
          81,
          89,
          89,
          92,
          88.37544696066746,
          103,
          94,
          96,
          88,
          96,
          85,
          89,
          69,
          59,
          69,
          62,
          62,
          69,
          60,
          59,
          56,
          71,
          62,
          63,
          72,
          65.66385372714487,
          71,
          72,
          64,
          62,
          70,
          78,
          62,
          69,
          57,
          59,
          59,
          62,
          61,
          63,
          66,
          64,
          66,
          67,
          59,
          69,
          66,
          63,
          65,
          63,
          80,
          63,
          61,
          62,
          64,
          69,
          65.66385372714487,
          66,
          65.66385372714487,
          88,
          99,
          87,
          85,
          96,
          82,
          91,
          80,
          107,
          87,
          89,
          100,
          98,
          89,
          87,
          84,
          84,
          87,
          87,
          98,
          100,
          65,
          92,
          83,
          91,
          95,
          82,
          91,
          82,
          84,
          89,
          92,
          103,
          105,
          89,
          91,
          88,
          87,
          93,
          96,
          89,
          98,
          91,
          87,
          100,
          50,
          69,
          62,
          69,
          59,
          62,
          59,
          72,
          69,
          69,
          69,
          62,
          65,
          66,
          59,
          60,
          71,
          66,
          78,
          74,
          62,
          72,
          67,
          55,
          59,
          67,
          63,
          71,
          64,
          61,
          69,
          62,
          59,
          71,
          63,
          59,
          80,
          69,
          63,
          66,
          65.66385372714487,
          66,
          64,
          82,
          58,
          66,
          88,
          96,
          89,
          85,
          88.37544696066746,
          91,
          79,
          82,
          98,
          103,
          107,
          91,
          96,
          89,
          84,
          82,
          95,
          87,
          87,
          87,
          99,
          91,
          93,
          84,
          85,
          93,
          103,
          84,
          91,
          92,
          96,
          91,
          89,
          89,
          85,
          84,
          89,
          82,
          93,
          93,
          80,
          82,
          50,
          83,
          89,
          81,
          85,
          62,
          69,
          62,
          71,
          69,
          64,
          62,
          64,
          65,
          72,
          69,
          74,
          59,
          75,
          66,
          59,
          67,
          69,
          69,
          65,
          66,
          63,
          59,
          69,
          59,
          69,
          71,
          67,
          64,
          55,
          62,
          59,
          58,
          63,
          65,
          64,
          69,
          70,
          69,
          62,
          65.66385372714487,
          59,
          59,
          63,
          88,
          89,
          96,
          79,
          85,
          97,
          89,
          87,
          82,
          82,
          87,
          89,
          87,
          87,
          98,
          98,
          90,
          89,
          84,
          84,
          84,
          78,
          96,
          100,
          89,
          87,
          93,
          65,
          93,
          89,
          91,
          87,
          84,
          87,
          94,
          88,
          93,
          84,
          96,
          89,
          89,
          85,
          91,
          59,
          69,
          62,
          59,
          62,
          62,
          73,
          64,
          64,
          64,
          62,
          64,
          59,
          72,
          68,
          59,
          58,
          69,
          63,
          65,
          62,
          65,
          71,
          69,
          59,
          66,
          59,
          61,
          62,
          67,
          74,
          69,
          69,
          69,
          72,
          63,
          65.66385372714487,
          71,
          61,
          59,
          64,
          64,
          75,
          89,
          89,
          87,
          82,
          98,
          85,
          90,
          87,
          87,
          89,
          93,
          98,
          93,
          87,
          82,
          88,
          95,
          92,
          93,
          82,
          92,
          91,
          89,
          89,
          89,
          85,
          84,
          88,
          96,
          96,
          89,
          92,
          93,
          80,
          90,
          88,
          88,
          89,
          98,
          107,
          69,
          58,
          69,
          62,
          74,
          68,
          69,
          72,
          69,
          65,
          65,
          68,
          59,
          69,
          69,
          69,
          59,
          59,
          75,
          59,
          64,
          65,
          58,
          62,
          72,
          64,
          65,
          59,
          64,
          65,
          69,
          71,
          67,
          62,
          67,
          64,
          59,
          69,
          58,
          69,
          89,
          89,
          89,
          100,
          90,
          85,
          89,
          87,
          93,
          93,
          93,
          89,
          79,
          96,
          87,
          94,
          89,
          87,
          92,
          88.37544696066746,
          91,
          87,
          84,
          87,
          98,
          91,
          82,
          82,
          84,
          88,
          83,
          103,
          98,
          86,
          89,
          98,
          90,
          93,
          83,
          87,
          69,
          58,
          69,
          62,
          64,
          69,
          74,
          60,
          71,
          65,
          72,
          59,
          69,
          65,
          73,
          59,
          68,
          69,
          59,
          72,
          59,
          69,
          64,
          62,
          64,
          68,
          61,
          65,
          62,
          71,
          64,
          69,
          69,
          59,
          69,
          63,
          62,
          64,
          63,
          59,
          89,
          100,
          91,
          89,
          87,
          87,
          85,
          89,
          93,
          87,
          89,
          83,
          93,
          88.37544696066746,
          89,
          78,
          90,
          96,
          91,
          98,
          94,
          96,
          77,
          92,
          84,
          89,
          87,
          91,
          82,
          79,
          84,
          98,
          98,
          83,
          80,
          88,
          84,
          91,
          90,
          58,
          74,
          69,
          69,
          69,
          72,
          59,
          62,
          62,
          64,
          71,
          64,
          60,
          69,
          65,
          62,
          68,
          59,
          72,
          69,
          59,
          66,
          71,
          69,
          65,
          75,
          65,
          69,
          67,
          64,
          62,
          62,
          64,
          70,
          63,
          66,
          66,
          64,
          59,
          62,
          89,
          89,
          96,
          100,
          87,
          87,
          90,
          98,
          88,
          78,
          85,
          89,
          93,
          87,
          83,
          86,
          91,
          87,
          84,
          88,
          84,
          88,
          89,
          93,
          84,
          90,
          87,
          89,
          98,
          83,
          79,
          88,
          100,
          102,
          89,
          91,
          91,
          88,
          93,
          103,
          58,
          70,
          69,
          74,
          69,
          64,
          59,
          69,
          60,
          64,
          62,
          72,
          59,
          71,
          73,
          66,
          72,
          71,
          65,
          63,
          68,
          69,
          69,
          69,
          67,
          59,
          69,
          75,
          67,
          60,
          64,
          65,
          69,
          64,
          69,
          63,
          69,
          64,
          62,
          71,
          89,
          87,
          87,
          85,
          87,
          89,
          82,
          86,
          84,
          87,
          90,
          93,
          94,
          83,
          89,
          89,
          96,
          86,
          90,
          93,
          88,
          87,
          100,
          88,
          93,
          96,
          89,
          89,
          89,
          87,
          85,
          84,
          90,
          91,
          93,
          87,
          87,
          96,
          82,
          92,
          100,
          99,
          87,
          92,
          95,
          88,
          87,
          85,
          88,
          85,
          79,
          86,
          90,
          82,
          90,
          87,
          74,
          88,
          84,
          81,
          77,
          93,
          96,
          95,
          84,
          83,
          76,
          91,
          87,
          90,
          89,
          94,
          88,
          90,
          76,
          86,
          88,
          88,
          88,
          78,
          85,
          93,
          87,
          84,
          89,
          84,
          78,
          89,
          90,
          103,
          88,
          80,
          84,
          90,
          81,
          91,
          96,
          80,
          85,
          91,
          90,
          80,
          90,
          68,
          86,
          90,
          98,
          79,
          82,
          84,
          89,
          84,
          80,
          84,
          81,
          70,
          84,
          80,
          84,
          86,
          72,
          86,
          80,
          80,
          86,
          91,
          72,
          84,
          66,
          82,
          74,
          75,
          70,
          84,
          66,
          86,
          71,
          88,
          74,
          86,
          75,
          64,
          84,
          85,
          58,
          59,
          62,
          69,
          64,
          64,
          73,
          66,
          63,
          59,
          69,
          69,
          66,
          71,
          70,
          69,
          65,
          62,
          69,
          69,
          65,
          72,
          63,
          69,
          62,
          71,
          78,
          76,
          69,
          69,
          65,
          68,
          62,
          70,
          70,
          66,
          65,
          81,
          59,
          62,
          59,
          60,
          70,
          68,
          71,
          70,
          67,
          65,
          58,
          66,
          66,
          66,
          69,
          68,
          70,
          64,
          69,
          58,
          68,
          64,
          60,
          58,
          64,
          69,
          73,
          59,
          52,
          59,
          61,
          67,
          65,
          65.66385372714487,
          63,
          70,
          69,
          57,
          75,
          63,
          66,
          70,
          69,
          68,
          58,
          57,
          55,
          60,
          69,
          59,
          59,
          57,
          65,
          62,
          54,
          58,
          61,
          68,
          59,
          75,
          63,
          80,
          64,
          54,
          57,
          60,
          59,
          52,
          63,
          58,
          66,
          70,
          62,
          61,
          65,
          57,
          64,
          53,
          64,
          74,
          68,
          60,
          74,
          68,
          66,
          74,
          57,
          57,
          60,
          65,
          65,
          60,
          77,
          89,
          94,
          89,
          86,
          90,
          89,
          87,
          87,
          89,
          93,
          90,
          89,
          103,
          98,
          100,
          93,
          80,
          85,
          93,
          90,
          82,
          84,
          91,
          89,
          93,
          93,
          93,
          89,
          98,
          103,
          58,
          69,
          64,
          64,
          69,
          59,
          73,
          74,
          60,
          70,
          65,
          62,
          77,
          72,
          71,
          63,
          63,
          75,
          65,
          66,
          69,
          58,
          69,
          70,
          62,
          75,
          62,
          68,
          70,
          64,
          89,
          89,
          100,
          87,
          82,
          87,
          88,
          93,
          90,
          86,
          85,
          93,
          90,
          90,
          96,
          102,
          90,
          94,
          100,
          87,
          89,
          85,
          93,
          93,
          85,
          89,
          91,
          98,
          92,
          93,
          87,
          85,
          92,
          89,
          86,
          88,
          87,
          87,
          85,
          103,
          58,
          70,
          69,
          59,
          64,
          75,
          62,
          60,
          73,
          69,
          71,
          65,
          59,
          65,
          69,
          64,
          67,
          62,
          68,
          69,
          62,
          71,
          71,
          75,
          71,
          72,
          66,
          70,
          69,
          67,
          61,
          69,
          61,
          71,
          77,
          74,
          64,
          62,
          66,
          60,
          89,
          103,
          91,
          94,
          90,
          89,
          100,
          93,
          87,
          88,
          84,
          87,
          90,
          91,
          87,
          100,
          88,
          93,
          98,
          82,
          85,
          87,
          98,
          94,
          93,
          93,
          96,
          85,
          86,
          93,
          90,
          84,
          97,
          91,
          93,
          95,
          92,
          85,
          99,
          80,
          58,
          62,
          70,
          69,
          69,
          64,
          74,
          75,
          64,
          71,
          66,
          65,
          60,
          73,
          67,
          73,
          78,
          72,
          70,
          72,
          65,
          59,
          66,
          69,
          71,
          71,
          72,
          62,
          64,
          58,
          71,
          69,
          64,
          70,
          60,
          61,
          67,
          63,
          60,
          69
         ]
        }
       ],
       "layout": {
        "template": {
         "data": {
          "bar": [
           {
            "error_x": {
             "color": "#2a3f5f"
            },
            "error_y": {
             "color": "#2a3f5f"
            },
            "marker": {
             "line": {
              "color": "#E5ECF6",
              "width": 0.5
             },
             "pattern": {
              "fillmode": "overlay",
              "size": 10,
              "solidity": 0.2
             }
            },
            "type": "bar"
           }
          ],
          "barpolar": [
           {
            "marker": {
             "line": {
              "color": "#E5ECF6",
              "width": 0.5
             },
             "pattern": {
              "fillmode": "overlay",
              "size": 10,
              "solidity": 0.2
             }
            },
            "type": "barpolar"
           }
          ],
          "carpet": [
           {
            "aaxis": {
             "endlinecolor": "#2a3f5f",
             "gridcolor": "white",
             "linecolor": "white",
             "minorgridcolor": "white",
             "startlinecolor": "#2a3f5f"
            },
            "baxis": {
             "endlinecolor": "#2a3f5f",
             "gridcolor": "white",
             "linecolor": "white",
             "minorgridcolor": "white",
             "startlinecolor": "#2a3f5f"
            },
            "type": "carpet"
           }
          ],
          "choropleth": [
           {
            "colorbar": {
             "outlinewidth": 0,
             "ticks": ""
            },
            "type": "choropleth"
           }
          ],
          "contour": [
           {
            "colorbar": {
             "outlinewidth": 0,
             "ticks": ""
            },
            "colorscale": [
             [
              0,
              "#0d0887"
             ],
             [
              0.1111111111111111,
              "#46039f"
             ],
             [
              0.2222222222222222,
              "#7201a8"
             ],
             [
              0.3333333333333333,
              "#9c179e"
             ],
             [
              0.4444444444444444,
              "#bd3786"
             ],
             [
              0.5555555555555556,
              "#d8576b"
             ],
             [
              0.6666666666666666,
              "#ed7953"
             ],
             [
              0.7777777777777778,
              "#fb9f3a"
             ],
             [
              0.8888888888888888,
              "#fdca26"
             ],
             [
              1,
              "#f0f921"
             ]
            ],
            "type": "contour"
           }
          ],
          "contourcarpet": [
           {
            "colorbar": {
             "outlinewidth": 0,
             "ticks": ""
            },
            "type": "contourcarpet"
           }
          ],
          "heatmap": [
           {
            "colorbar": {
             "outlinewidth": 0,
             "ticks": ""
            },
            "colorscale": [
             [
              0,
              "#0d0887"
             ],
             [
              0.1111111111111111,
              "#46039f"
             ],
             [
              0.2222222222222222,
              "#7201a8"
             ],
             [
              0.3333333333333333,
              "#9c179e"
             ],
             [
              0.4444444444444444,
              "#bd3786"
             ],
             [
              0.5555555555555556,
              "#d8576b"
             ],
             [
              0.6666666666666666,
              "#ed7953"
             ],
             [
              0.7777777777777778,
              "#fb9f3a"
             ],
             [
              0.8888888888888888,
              "#fdca26"
             ],
             [
              1,
              "#f0f921"
             ]
            ],
            "type": "heatmap"
           }
          ],
          "heatmapgl": [
           {
            "colorbar": {
             "outlinewidth": 0,
             "ticks": ""
            },
            "colorscale": [
             [
              0,
              "#0d0887"
             ],
             [
              0.1111111111111111,
              "#46039f"
             ],
             [
              0.2222222222222222,
              "#7201a8"
             ],
             [
              0.3333333333333333,
              "#9c179e"
             ],
             [
              0.4444444444444444,
              "#bd3786"
             ],
             [
              0.5555555555555556,
              "#d8576b"
             ],
             [
              0.6666666666666666,
              "#ed7953"
             ],
             [
              0.7777777777777778,
              "#fb9f3a"
             ],
             [
              0.8888888888888888,
              "#fdca26"
             ],
             [
              1,
              "#f0f921"
             ]
            ],
            "type": "heatmapgl"
           }
          ],
          "histogram": [
           {
            "marker": {
             "pattern": {
              "fillmode": "overlay",
              "size": 10,
              "solidity": 0.2
             }
            },
            "type": "histogram"
           }
          ],
          "histogram2d": [
           {
            "colorbar": {
             "outlinewidth": 0,
             "ticks": ""
            },
            "colorscale": [
             [
              0,
              "#0d0887"
             ],
             [
              0.1111111111111111,
              "#46039f"
             ],
             [
              0.2222222222222222,
              "#7201a8"
             ],
             [
              0.3333333333333333,
              "#9c179e"
             ],
             [
              0.4444444444444444,
              "#bd3786"
             ],
             [
              0.5555555555555556,
              "#d8576b"
             ],
             [
              0.6666666666666666,
              "#ed7953"
             ],
             [
              0.7777777777777778,
              "#fb9f3a"
             ],
             [
              0.8888888888888888,
              "#fdca26"
             ],
             [
              1,
              "#f0f921"
             ]
            ],
            "type": "histogram2d"
           }
          ],
          "histogram2dcontour": [
           {
            "colorbar": {
             "outlinewidth": 0,
             "ticks": ""
            },
            "colorscale": [
             [
              0,
              "#0d0887"
             ],
             [
              0.1111111111111111,
              "#46039f"
             ],
             [
              0.2222222222222222,
              "#7201a8"
             ],
             [
              0.3333333333333333,
              "#9c179e"
             ],
             [
              0.4444444444444444,
              "#bd3786"
             ],
             [
              0.5555555555555556,
              "#d8576b"
             ],
             [
              0.6666666666666666,
              "#ed7953"
             ],
             [
              0.7777777777777778,
              "#fb9f3a"
             ],
             [
              0.8888888888888888,
              "#fdca26"
             ],
             [
              1,
              "#f0f921"
             ]
            ],
            "type": "histogram2dcontour"
           }
          ],
          "mesh3d": [
           {
            "colorbar": {
             "outlinewidth": 0,
             "ticks": ""
            },
            "type": "mesh3d"
           }
          ],
          "parcoords": [
           {
            "line": {
             "colorbar": {
              "outlinewidth": 0,
              "ticks": ""
             }
            },
            "type": "parcoords"
           }
          ],
          "pie": [
           {
            "automargin": true,
            "type": "pie"
           }
          ],
          "scatter": [
           {
            "fillpattern": {
             "fillmode": "overlay",
             "size": 10,
             "solidity": 0.2
            },
            "type": "scatter"
           }
          ],
          "scatter3d": [
           {
            "line": {
             "colorbar": {
              "outlinewidth": 0,
              "ticks": ""
             }
            },
            "marker": {
             "colorbar": {
              "outlinewidth": 0,
              "ticks": ""
             }
            },
            "type": "scatter3d"
           }
          ],
          "scattercarpet": [
           {
            "marker": {
             "colorbar": {
              "outlinewidth": 0,
              "ticks": ""
             }
            },
            "type": "scattercarpet"
           }
          ],
          "scattergeo": [
           {
            "marker": {
             "colorbar": {
              "outlinewidth": 0,
              "ticks": ""
             }
            },
            "type": "scattergeo"
           }
          ],
          "scattergl": [
           {
            "marker": {
             "colorbar": {
              "outlinewidth": 0,
              "ticks": ""
             }
            },
            "type": "scattergl"
           }
          ],
          "scattermapbox": [
           {
            "marker": {
             "colorbar": {
              "outlinewidth": 0,
              "ticks": ""
             }
            },
            "type": "scattermapbox"
           }
          ],
          "scatterpolar": [
           {
            "marker": {
             "colorbar": {
              "outlinewidth": 0,
              "ticks": ""
             }
            },
            "type": "scatterpolar"
           }
          ],
          "scatterpolargl": [
           {
            "marker": {
             "colorbar": {
              "outlinewidth": 0,
              "ticks": ""
             }
            },
            "type": "scatterpolargl"
           }
          ],
          "scatterternary": [
           {
            "marker": {
             "colorbar": {
              "outlinewidth": 0,
              "ticks": ""
             }
            },
            "type": "scatterternary"
           }
          ],
          "surface": [
           {
            "colorbar": {
             "outlinewidth": 0,
             "ticks": ""
            },
            "colorscale": [
             [
              0,
              "#0d0887"
             ],
             [
              0.1111111111111111,
              "#46039f"
             ],
             [
              0.2222222222222222,
              "#7201a8"
             ],
             [
              0.3333333333333333,
              "#9c179e"
             ],
             [
              0.4444444444444444,
              "#bd3786"
             ],
             [
              0.5555555555555556,
              "#d8576b"
             ],
             [
              0.6666666666666666,
              "#ed7953"
             ],
             [
              0.7777777777777778,
              "#fb9f3a"
             ],
             [
              0.8888888888888888,
              "#fdca26"
             ],
             [
              1,
              "#f0f921"
             ]
            ],
            "type": "surface"
           }
          ],
          "table": [
           {
            "cells": {
             "fill": {
              "color": "#EBF0F8"
             },
             "line": {
              "color": "white"
             }
            },
            "header": {
             "fill": {
              "color": "#C8D4E3"
             },
             "line": {
              "color": "white"
             }
            },
            "type": "table"
           }
          ]
         },
         "layout": {
          "annotationdefaults": {
           "arrowcolor": "#2a3f5f",
           "arrowhead": 0,
           "arrowwidth": 1
          },
          "autotypenumbers": "strict",
          "coloraxis": {
           "colorbar": {
            "outlinewidth": 0,
            "ticks": ""
           }
          },
          "colorscale": {
           "diverging": [
            [
             0,
             "#8e0152"
            ],
            [
             0.1,
             "#c51b7d"
            ],
            [
             0.2,
             "#de77ae"
            ],
            [
             0.3,
             "#f1b6da"
            ],
            [
             0.4,
             "#fde0ef"
            ],
            [
             0.5,
             "#f7f7f7"
            ],
            [
             0.6,
             "#e6f5d0"
            ],
            [
             0.7,
             "#b8e186"
            ],
            [
             0.8,
             "#7fbc41"
            ],
            [
             0.9,
             "#4d9221"
            ],
            [
             1,
             "#276419"
            ]
           ],
           "sequential": [
            [
             0,
             "#0d0887"
            ],
            [
             0.1111111111111111,
             "#46039f"
            ],
            [
             0.2222222222222222,
             "#7201a8"
            ],
            [
             0.3333333333333333,
             "#9c179e"
            ],
            [
             0.4444444444444444,
             "#bd3786"
            ],
            [
             0.5555555555555556,
             "#d8576b"
            ],
            [
             0.6666666666666666,
             "#ed7953"
            ],
            [
             0.7777777777777778,
             "#fb9f3a"
            ],
            [
             0.8888888888888888,
             "#fdca26"
            ],
            [
             1,
             "#f0f921"
            ]
           ],
           "sequentialminus": [
            [
             0,
             "#0d0887"
            ],
            [
             0.1111111111111111,
             "#46039f"
            ],
            [
             0.2222222222222222,
             "#7201a8"
            ],
            [
             0.3333333333333333,
             "#9c179e"
            ],
            [
             0.4444444444444444,
             "#bd3786"
            ],
            [
             0.5555555555555556,
             "#d8576b"
            ],
            [
             0.6666666666666666,
             "#ed7953"
            ],
            [
             0.7777777777777778,
             "#fb9f3a"
            ],
            [
             0.8888888888888888,
             "#fdca26"
            ],
            [
             1,
             "#f0f921"
            ]
           ]
          },
          "colorway": [
           "#636efa",
           "#EF553B",
           "#00cc96",
           "#ab63fa",
           "#FFA15A",
           "#19d3f3",
           "#FF6692",
           "#B6E880",
           "#FF97FF",
           "#FECB52"
          ],
          "font": {
           "color": "#2a3f5f"
          },
          "geo": {
           "bgcolor": "white",
           "lakecolor": "white",
           "landcolor": "#E5ECF6",
           "showlakes": true,
           "showland": true,
           "subunitcolor": "white"
          },
          "hoverlabel": {
           "align": "left"
          },
          "hovermode": "closest",
          "mapbox": {
           "style": "light"
          },
          "paper_bgcolor": "white",
          "plot_bgcolor": "#E5ECF6",
          "polar": {
           "angularaxis": {
            "gridcolor": "white",
            "linecolor": "white",
            "ticks": ""
           },
           "bgcolor": "#E5ECF6",
           "radialaxis": {
            "gridcolor": "white",
            "linecolor": "white",
            "ticks": ""
           }
          },
          "scene": {
           "xaxis": {
            "backgroundcolor": "#E5ECF6",
            "gridcolor": "white",
            "gridwidth": 2,
            "linecolor": "white",
            "showbackground": true,
            "ticks": "",
            "zerolinecolor": "white"
           },
           "yaxis": {
            "backgroundcolor": "#E5ECF6",
            "gridcolor": "white",
            "gridwidth": 2,
            "linecolor": "white",
            "showbackground": true,
            "ticks": "",
            "zerolinecolor": "white"
           },
           "zaxis": {
            "backgroundcolor": "#E5ECF6",
            "gridcolor": "white",
            "gridwidth": 2,
            "linecolor": "white",
            "showbackground": true,
            "ticks": "",
            "zerolinecolor": "white"
           }
          },
          "shapedefaults": {
           "line": {
            "color": "#2a3f5f"
           }
          },
          "ternary": {
           "aaxis": {
            "gridcolor": "white",
            "linecolor": "white",
            "ticks": ""
           },
           "baxis": {
            "gridcolor": "white",
            "linecolor": "white",
            "ticks": ""
           },
           "bgcolor": "#E5ECF6",
           "caxis": {
            "gridcolor": "white",
            "linecolor": "white",
            "ticks": ""
           }
          },
          "title": {
           "x": 0.05
          },
          "xaxis": {
           "automargin": true,
           "gridcolor": "white",
           "linecolor": "white",
           "ticks": "",
           "title": {
            "standoff": 15
           },
           "zerolinecolor": "white",
           "zerolinewidth": 2
          },
          "yaxis": {
           "automargin": true,
           "gridcolor": "white",
           "linecolor": "white",
           "ticks": "",
           "title": {
            "standoff": 15
           },
           "zerolinecolor": "white",
           "zerolinewidth": 2
          }
         }
        },
        "title": {
         "text": "weight Distribution"
        },
        "xaxis": {
         "title": {
          "text": "weight"
         }
        },
        "yaxis": {
         "title": {
          "text": "Frequency"
         }
        }
       }
      }
     },
     "metadata": {},
     "output_type": "display_data"
    },
    {
     "data": {
      "application/vnd.plotly.v1+json": {
       "config": {
        "plotlyServerURL": "https://plot.ly"
       },
       "data": [
        {
         "name": "bmi Distribution",
         "nbinsx": 20,
         "type": "histogram",
         "x": [
          25.826446280991732,
          25.15589569160998,
          27.117768595041323,
          23.588329220496444,
          26.674874320303687,
          28.084429605483876,
          25.082863029651524,
          28.084429605483876,
          28.084429605483876,
          26.8612069228656,
          26.19618735008206,
          30.824829931972797,
          29.06879615089044,
          29.87856692524876,
          28.084429605483876,
          28.084429605483876,
          28.084429605483876,
          28.084429605483876,
          28.6661291767446,
          24.28097534284053,
          25.725517400855587,
          28.084429605483876,
          28.084429605483876,
          25.826446280991732,
          28.084429605483876,
          28.084429605483876,
          28.084429605483876,
          28.084429605483876,
          28.084429605483876,
          27.358845456721728,
          28.084429605483876,
          23.671253629592226,
          27.16644791062544,
          28.084429605483876,
          28.084429605483876,
          28.084429605483876,
          37.333333333333336,
          28.084429605483876,
          27.358845456721728,
          25.180785123966945,
          25.076193048107708,
          28.084429605483876,
          28.084429605483876,
          25.33500198406642,
          24.01308087921364,
          24.01308087921364,
          24.01308087921364,
          24.01308087921364,
          20.983987603305785,
          24.01308087921364,
          24.01308087921364,
          21.230572023714146,
          24.01308087921364,
          24.01308087921364,
          24.01308087921364,
          24.01308087921364,
          24.01308087921364,
          24.01308087921364,
          24.01308087921364,
          24.01308087921364,
          24.088223117166624,
          24.01308087921364,
          24.01308087921364,
          24.01308087921364,
          30.991735537190085,
          27.117768595041323,
          28.084429605483876,
          27.358845456721728,
          27.117768595041323,
          26.491508201480624,
          28.084429605483876,
          31.960227272727277,
          28.084429605483876,
          23.588329220496444,
          29.03178980984178,
          25.826446280991732,
          27.16161158895428,
          28.6661291767446,
          26.674874320303687,
          25.99090318388564,
          28.084429605483876,
          28.084429605483876,
          29.054752066115704,
          26.82742078020452,
          26.8612069228656,
          25.082863029651524,
          26.19618735008206,
          26.511804065143288,
          29.06879615089044,
          29.3775826446281,
          28.084429605483876,
          28.04281659313977,
          26.218820861678008,
          27.16644791062544,
          28.084429605483876,
          30.863035868869737,
          28.084429605483876,
          28.084429605483876,
          28.084429605483876,
          29.30313482494429,
          37.333333333333336,
          27.39817568244846,
          25.15589569160998,
          34.414781649904775,
          28.084429605483876,
          28.084429605483876,
          29.054752066115704,
          29.3775826446281,
          24.280263614290668,
          24.94449165318933,
          30.824829931972797,
          25.88057063502083,
          29.3775826446281,
          28.084429605483876,
          28.084429605483876,
          28.084429605483876,
          26.19618735008206,
          27.16644791062544,
          26.570305027101718,
          28.326974216672443,
          28.084429605483876,
          28.084429605483876,
          28.084429605483876,
          28.08988764044944,
          28.084429605483876,
          28.084429605483876,
          28.084429605483876,
          28.084429605483876,
          26.575890590940304,
          25.24933720489837,
          28.084429605483876,
          28.084429605483876,
          25.4364666435426,
          28.084429605483876,
          29.87856692524876,
          28.084429605483876,
          28.084429605483876,
          28.084429605483876,
          28.084429605483876,
          28.44095497516423,
          26.47210743801653,
          28.08988764044944,
          28.08626033057851,
          24.0569347455645,
          28.326974216672443,
          28.084429605483876,
          28.084429605483876,
          28.084429605483876,
          26.511804065143288,
          25.640242971826257,
          28.06642386982525,
          28.084429605483876,
          28.084429605483876,
          28.084429605483876,
          29.30313482494429,
          30.29920464587805,
          28.084429605483876,
          28.084429605483876,
          28.40909090909091,
          28.084429605483876,
          25.18107741059303,
          28.06642386982525,
          26.61934338952972,
          25.72755521400648,
          28.06642386982525,
          23.671253629592226,
          28.084429605483876,
          24.48565200513601,
          28.084429605483876,
          32.28305785123967,
          28.084429605483876,
          23.335466144755166,
          34.79204570844904,
          28.084429605483876,
          28.084429605483876,
          29.708012675418743,
          28.084429605483876,
          28.084429605483876,
          25.24933720489837,
          23.671253629592226,
          28.084429605483876,
          27.01951970909825,
          31.95078981157992,
          24.01308087921364,
          24.44727891156463,
          24.01308087921364,
          26.794938016528928,
          24.01308087921364,
          24.01308087921364,
          22.27530991735537,
          24.01308087921364,
          24.01308087921364,
          24.01308087921364,
          25.76571345623458,
          21.453573713726524,
          22.27530991735537,
          24.01308087921364,
          22.321428571428577,
          24.01308087921364,
          24.01308087921364,
          24.01308087921364,
          24.01308087921364,
          24.01308087921364,
          25.15589569160998,
          23.225431847873423,
          19.5964581216432,
          24.01308087921364,
          24.01308087921364,
          24.01308087921364,
          26.1286108288576,
          23.38868655818771,
          24.44727891156463,
          24.01308087921364,
          24.01308087921364,
          24.01308087921364,
          22.27530991735537,
          24.01308087921364,
          24.01308087921364,
          21.35930624973301,
          27.755102040816325,
          28.037923459359455,
          27.727478497057493,
          28.084429605483876,
          30.991735537190085,
          26.8612069228656,
          25.97867956642479,
          26.511804065143288,
          25.640242971826257,
          29.14214576731553,
          26.303618915481557,
          27.727478497057493,
          25.826446280991732,
          29.87856692524876,
          26.01456815816857,
          28.084429605483876,
          27.411529289219047,
          31.960227272727277,
          27.16644791062544,
          27.458654210326976,
          28.084429605483876,
          29.737044338267232,
          25.05930702662969,
          29.30313482494429,
          23.588329220496444,
          26.19618735008206,
          28.387411861664784,
          26.674874320303687,
          28.08988764044944,
          29.60837581270413,
          28.40111107643332,
          28.084429605483876,
          27.117768595041323,
          25.029760996306585,
          27.117768595041323,
          27.358845456721728,
          29.054752066115704,
          26.491508201480624,
          28.326974216672443,
          26.794938016528928,
          28.084429605483876,
          29.06879615089044,
          28.084429605483876,
          29.054752066115704,
          28.6661291767446,
          28.084429605483876,
          27.39817568244846,
          26.674874320303687,
          28.084429605483876,
          26.85185185185185,
          23.291229956104985,
          25.64891761567662,
          28.084429605483876,
          25.029760996306585,
          29.06879615089044,
          31.43982173926315,
          28.084429605483876,
          28.084429605483876,
          28.084429605483876,
          29.26334020126011,
          28.084429605483876,
          24.3910588392529,
          26.729927495071667,
          27.16644791062544,
          24.69135802469136,
          28.04281659313977,
          23.484255448094743,
          25.461980633463213,
          29.3775826446281,
          28.06642386982525,
          26.82742078020452,
          28.326974216672443,
          28.084429605483876,
          24.91990032039872,
          24.44727891156463,
          24.01308087921364,
          21.545090797168363,
          23.63403300753084,
          21.97735111870822,
          23.335466144755166,
          24.01308087921364,
          21.9671201814059,
          22.27530991735537,
          23.722810651876102,
          23.87543252595156,
          25.15589569160998,
          24.01308087921364,
          24.857954545454547,
          23.671253629592226,
          26.794938016528928,
          22.49963710262738,
          25.180785123966945,
          24.01308087921364,
          22.27530991735537,
          24.01308087921364,
          24.01308087921364,
          24.01308087921364,
          25.3069320474676,
          23.711844630960897,
          22.76146753597469,
          24.01308087921364,
          23.722810651876102,
          24.01308087921364,
          22.91303307000445,
          24.3910588392529,
          24.01308087921364,
          22.76146753597469,
          24.01308087921364,
          23.95122659311947,
          23.588329220496444,
          22.49963710262738,
          24.01308087921364,
          22.76146753597469,
          21.453573713726524,
          24.01308087921364,
          24.01308087921364,
          24.01308087921364,
          24.01308087921364,
          23.49523687470631,
          21.38394199605733,
          22.76146753597469,
          24.01308087921364,
          22.031725684986377,
          24.01308087921364,
          24.01308087921364,
          24.01308087921364,
          25.76571345623458,
          24.01308087921364,
          24.01308087921364,
          23.63403300753084,
          24.01308087921364,
          24.01308087921364,
          24.01308087921364,
          24.01308087921364,
          24.01308087921364,
          24.01308087921364,
          20.832529609197174,
          20.70081674131507,
          20.28479857195018,
          24.3046178773967,
          27.29322416043669,
          24.01308087921364,
          24.01308087921364,
          24.83576349943919,
          21.98989236526368,
          24.01308087921364,
          27.16644791062544,
          28.40909090909091,
          23.588329220496444,
          31.960227272727277,
          27.755102040816325,
          29.03178980984178,
          26.511804065143288,
          27.16644791062544,
          28.037923459359455,
          26.8612069228656,
          29.913616800463966,
          30.9284310324893,
          25.029760996306585,
          27.727478497057493,
          29.737044338267232,
          30.991735537190085,
          27.727478497057493,
          28.06642386982525,
          26.19618735008206,
          28.084429605483876,
          26.674874320303687,
          29.14214576731553,
          25.97867956642479,
          28.08626033057851,
          30.930438076000502,
          28.40111107643332,
          31.634581999151266,
          25.826446280991732,
          26.575890590940304,
          26.47210743801653,
          28.084429605483876,
          28.084429605483876,
          25.746944318696244,
          27.411529289219047,
          26.82742078020452,
          28.084429605483876,
          26.303618915481557,
          24.78425751739377,
          28.084429605483876,
          26.01456815816857,
          28.084429605483876,
          25.592209980961893,
          25.46401086464464,
          28.084429605483876,
          23.766410140334997,
          23.63403300753084,
          23.87543252595156,
          24.83576349943919,
          23.711844630960897,
          23.335466144755166,
          23.335466144755166,
          22.27530991735537,
          22.49963710262738,
          23.63403300753084,
          24.088223117166624,
          22.832879346258608,
          21.97735111870822,
          24.03460983816696,
          23.588329220496444,
          21.38394199605733,
          21.545090797168363,
          24.01308087921364,
          22.72043837081092,
          21.45328719723184,
          29.737044338267232,
          22.49963710262738,
          23.671253629592226,
          19.53125,
          23.63403300753084,
          24.01308087921364,
          24.01308087921364,
          21.306818181818183,
          23.711844630960897,
          24.690405462752206,
          22.27530991735537,
          24.01308087921364,
          22.20408163265306,
          24.01308087921364,
          24.857954545454547,
          25.351541373715524,
          29.33333333333333,
          24.01308087921364,
          24.01308087921364,
          24.01308087921364,
          24.088223117166624,
          23.4375,
          21.20310522895934,
          24.01308087921364,
          24.01308087921364,
          24.96494647925858,
          28.40909090909091,
          29.913616800463966,
          27.16644791062544,
          26.555965935105768,
          25.97867956642479,
          28.04281659313977,
          30.991735537190085,
          27.358845456721728,
          27.727478497057493,
          31.960227272727277,
          23.588329220496444,
          28.04281659313977,
          26.511804065143288,
          28.90507573129841,
          26.575890590940304,
          26.555965935105768,
          28.40111107643332,
          29.03178980984178,
          28.084429605483876,
          28.04281659313977,
          28.387411861664784,
          26.555965935105768,
          28.037923459359455,
          26.511804065143288,
          28.731921487603305,
          29.06879615089044,
          28.08626033057851,
          26.03082049146189,
          28.721121070571897,
          29.396221429515126,
          29.913616800463966,
          30.930438076000502,
          28.721121070571897,
          29.036737785633125,
          25.88057063502083,
          27.77427092538821,
          27.173101615455817,
          28.69897959183674,
          26.575890590940304,
          28.08988764044944,
          29.036737785633125,
          28.084429605483876,
          29.14214576731553,
          27.170771187420502,
          28.6661291767446,
          27.77427092538821,
          30.29920464587805,
          27.755102040816325,
          29.737044338267232,
          23.87543252595156,
          23.63403300753084,
          22.27530991735537,
          21.45328719723184,
          23.335466144755166,
          23.59700420642249,
          24.03460983816696,
          23.63403300753084,
          23.92242299970097,
          25.15589569160998,
          24.21875,
          25.236340330075304,
          24.62296091104956,
          24.01308087921364,
          23.722810651876102,
          21.97735111870822,
          24.088223117166624,
          23.335466144755166,
          25.099501595611173,
          25.180785123966945,
          23.335466144755166,
          25.03991871098853,
          22.832879346258608,
          22.76146753597469,
          24.55775234131113,
          23.9188302920412,
          22.95908765854944,
          21.545090797168363,
          21.306818181818183,
          22.67573696145125,
          23.66524436157625,
          22.386314277122523,
          23.63403300753084,
          24.44727891156463,
          29.33333333333333,
          23.711844630960897,
          23.588329220496444,
          23.711844630960897,
          26.729927495071667,
          22.321428571428577,
          23.243408017070564,
          23.335466144755166,
          21.887076365377386,
          24.44727891156463,
          24.01308087921364,
          23.95122659311947,
          24.01308087921364,
          28.40909090909091,
          31.960227272727277,
          29.06879615089044,
          27.44059917355372,
          30.991735537190085,
          28.04281659313977,
          28.721121070571897,
          29.03178980984178,
          30.9284310324893,
          26.555965935105768,
          27.16644791062544,
          28.90507573129841,
          27.727478497057493,
          28.731921487603305,
          29.06879615089044,
          26.511804065143288,
          28.06642386982525,
          28.08626033057851,
          26.555965935105768,
          30.930438076000502,
          26.03082049146189,
          23.588329220496444,
          29.036737785633125,
          25.057360222195385,
          28.721121070571897,
          28.367523664486843,
          25.029760996306585,
          27.173101615455817,
          28.04281659313977,
          27.74474831549742,
          28.08988764044944,
          29.036737785633125,
          29.14214576731553,
          31.353578787064404,
          29.396221429515126,
          28.721121070571897,
          30.094730002393906,
          27.458654210326976,
          27.77031263997133,
          28.6661291767446,
          29.06122448979592,
          29.913616800463966,
          29.3775826446281,
          29.75274443418488,
          29.860551225775623,
          19.05197378448407,
          23.87543252595156,
          23.335466144755166,
          23.59700420642249,
          23.63403300753084,
          24.83576349943919,
          23.63403300753084,
          24.62296091104956,
          25.03991871098853,
          24.44727891156463,
          22.27530991735537,
          23.335466144755166,
          23.588329220496444,
          23.95122659311947,
          22.76146753597469,
          24.03460983816696,
          25.15589569160998,
          23.66524436157625,
          24.61810377477591,
          28.19692120103642,
          23.335466144755166,
          21.97735111870822,
          21.62964876033058,
          23.49523687470631,
          24.55775234131113,
          22.386314277122523,
          25.236340330075304,
          25.76571345623458,
          23.225431847873423,
          23.53304270668569,
          24.158817968558527,
          23.9188302920412,
          23.63403300753084,
          26.722872520606725,
          23.711844630960897,
          21.936347412254616,
          26.729927495071667,
          23.59700420642249,
          23.711844630960897,
          21.306818181818183,
          24.01308087921364,
          23.384353741496604,
          21.887076365377386,
          24.755464315903875,
          21.30394857667585,
          23.95122659311947,
          28.40909090909091,
          30.991735537190085,
          27.16644791062544,
          27.44059917355372,
          28.084429605483876,
          28.721121070571897,
          28.668892437218755,
          28.04281659313977,
          30.930438076000502,
          29.14214576731553,
          30.9284310324893,
          28.721121070571897,
          29.30313482494429,
          27.16644791062544,
          27.74474831549742,
          28.04281659313977,
          28.367523664486843,
          38.66666666666666,
          29.06879615089044,
          29.06879615089044,
          31.960227272727277,
          30.405292525644025,
          26.881720430107524,
          26.511804065143288,
          28.075042938300964,
          28.387411861664784,
          26.81174510620575,
          28.06642386982525,
          29.3775826446281,
          29.036737785633125,
          27.74887270204648,
          28.721121070571897,
          29.396221429515126,
          28.731921487603305,
          25.94548395958609,
          24.280263614290668,
          28.08988764044944,
          25.88057063502083,
          28.387411861664784,
          28.387411861664784,
          29.03178980984178,
          28.04281659313977,
          19.05197378448407,
          26.19618735008206,
          29.06122448979592,
          26.14927685950413,
          27.755102040816325,
          21.45328719723184,
          24.44727891156463,
          24.83576349943919,
          25.15589569160998,
          23.59700420642249,
          23.225431847873423,
          23.335466144755166,
          24.088223117166624,
          23.30668005306752,
          24.62296091104956,
          22.27530991735537,
          28.19692120103642,
          24.55775234131113,
          23.671253629592226,
          23.66524436157625,
          23.63403300753084,
          22.386314277122523,
          24.44727891156463,
          23.054562464499316,
          23.588329220496444,
          23.95122659311947,
          22.321428571428577,
          23.63403300753084,
          24.158817968558527,
          20.904195011337876,
          23.59700420642249,
          24.28097534284053,
          22.91303307000445,
          24.690405462752206,
          22.892819979188346,
          23.9188302920412,
          23.63403300753084,
          19.83516295612325,
          25.236340330075304,
          27.76709812465291,
          23.795359904818564,
          25.970115548195267,
          23.120623596247853,
          25.03991871098853,
          23.335466144755166,
          24.01308087921364,
          23.63403300753084,
          23.63403300753084,
          23.711844630960897,
          28.40909090909091,
          30.436715570602924,
          30.991735537190085,
          28.668892437218755,
          27.44059917355372,
          28.037923459359455,
          27.16644791062544,
          29.75274443418488,
          28.04281659313977,
          28.04281659313977,
          25.97867956642479,
          29.396221429515126,
          29.06879615089044,
          28.08626033057851,
          30.930438076000502,
          29.913616800463966,
          27.471688898385278,
          30.436715570602924,
          28.06642386982525,
          26.511804065143288,
          28.06642386982525,
          26.674874320303687,
          28.6661291767446,
          28.90507573129841,
          28.08988764044944,
          27.458654210326976,
          27.77031263997133,
          23.588329220496444,
          28.387411861664784,
          29.06122448979592,
          28.721121070571897,
          29.75274443418488,
          26.511804065143288,
          29.06879615089044,
          28.068918152229088,
          28.40909090909091,
          26.881720430107524,
          24.280263614290668,
          29.30313482494429,
          39.55555555555556,
          29.737044338267232,
          27.755102040816325,
          28.721121070571897,
          23.63403300753084,
          23.87543252595156,
          23.335466144755166,
          24.55775234131113,
          24.83576349943919,
          25.806451612903224,
          24.96494647925858,
          24.690405462752206,
          23.225431847873423,
          23.225431847873423,
          23.9188302920412,
          24.088223117166624,
          23.63403300753084,
          24.62296091104956,
          22.72043837081092,
          22.4813290656912,
          21.30394857667585,
          24.44727891156463,
          24.609375,
          27.76709812465291,
          23.335466144755166,
          23.30668005306752,
          25.15589569160998,
          22.27530991735537,
          25.20398137468495,
          23.95122659311947,
          23.63403300753084,
          25.390218522372525,
          21.9671201814059,
          24.31412396574249,
          28.19692120103642,
          23.59700420642249,
          23.59700420642249,
          23.59700420642249,
          24.62296091104956,
          25.236340330075304,
          24.01308087921364,
          25.15589569160998,
          21.612811791383223,
          21.6712580348944,
          23.795359904818564,
          23.225431847873423,
          23.671253629592226,
          27.16644791062544,
          30.436715570602924,
          27.458654210326976,
          28.04281659313977,
          27.727478497057493,
          27.44059917355372,
          27.471688898385278,
          29.75274443418488,
          29.75274443418488,
          30.436715570602924,
          28.387411861664784,
          28.326974216672443,
          29.35235450069436,
          29.06879615089044,
          30.119375573921037,
          26.27728507868255,
          27.166919271354622,
          29.036737785633125,
          26.881720430107524,
          27.39817568244846,
          29.036737785633125,
          30.405292525644025,
          29.396221429515126,
          27.16644791062544,
          30.436715570602924,
          28.40054796351365,
          26.511804065143288,
          27.77427092538821,
          29.629629629629623,
          28.6661291767446,
          28.731921487603305,
          29.700413223140497,
          27.77031263997133,
          29.03178980984178,
          28.40550435551067,
          28.40909090909091,
          30.094730002393906,
          26.575890590940304,
          30.930438076000502,
          30.9284310324893,
          24.158817968558527,
          21.82995219993225,
          23.054562464499316,
          21.45328719723184,
          28.19692120103642,
          22.72043837081092,
          24.44727891156463,
          24.62296091104956,
          23.59700420642249,
          27.76709812465291,
          23.588329220496444,
          24.977043158861346,
          23.63403300753084,
          23.59700420642249,
          23.59700420642249,
          24.44727891156463,
          22.4813290656912,
          24.55775234131113,
          25.64891761567662,
          23.046875,
          24.690405462752206,
          23.30668005306752,
          21.30394857667585,
          25.806451612903224,
          24.62296091104956,
          24.690405462752206,
          24.167162403331357,
          21.936347412254616,
          23.225431847873423,
          23.030045351473927,
          22.27530991735537,
          25.15589569160998,
          24.31412396574249,
          24.83576349943919,
          22.91303307000445,
          25.63691716071142,
          23.63403300753084,
          23.87543252595156,
          23.233456176894723,
          24.44727891156463,
          30.436715570602924,
          27.16644791062544,
          27.16644791062544,
          28.293345405160707,
          27.471688898385278,
          27.44059917355372,
          30.436715570602924,
          27.458654210326976,
          28.387411861664784,
          28.387411861664784,
          29.35235450069436,
          28.08988764044944,
          28.668892437218755,
          28.6661291767446,
          29.75274443418488,
          28.692652849424626,
          29.396221429515126,
          28.08626033057851,
          29.700413223140497,
          28.084429605483876,
          27.776929886145112,
          29.06879615089044,
          27.117768595041323,
          27.769797950780426,
          29.26334020126011,
          28.721121070571897,
          25.88057063502083,
          28.04281659313977,
          28.06642386982525,
          28.40909090909091,
          28.384802161348794,
          32.50852165130665,
          27.727478497057493,
          29.069767441860467,
          29.737044338267232,
          29.26334020126011,
          30.42184964845863,
          27.77031263997133,
          29.060607121599386,
          29.75274443418488,
          24.158817968558527,
          21.82995219993225,
          23.054562464499316,
          21.45328719723184,
          24.690405462752206,
          24.44727891156463,
          28.19692120103642,
          24.03460983816696,
          25.15589569160998,
          23.30668005306752,
          25.510204081632654,
          22.4813290656912,
          23.87543252595156,
          24.167162403331357,
          26.491508201480624,
          24.55775234131113,
          22.72043837081092,
          26.61934338952972,
          21.936347412254616,
          24.62296091104956,
          23.63403300753084,
          23.59700420642249,
          25.63691716071142,
          23.335466144755166,
          23.225431847873423,
          22.72043837081092,
          23.53304270668569,
          23.588329220496444,
          25.806451612903224,
          23.722810651876102,
          25.63691716071142,
          25.654372397382517,
          24.44727891156463,
          25.20398137468495,
          22.27530991735537,
          22.321428571428577,
          23.9188302920412,
          24.088223117166624,
          24.91990032039872,
          23.046875,
          30.436715570602924,
          28.293345405160707,
          28.40111107643332,
          27.16644791062544,
          29.75274443418488,
          27.458654210326976,
          27.44059917355372,
          27.16644791062544,
          29.35235450069436,
          29.75274443418488,
          26.004382761139517,
          28.384802161348794,
          28.387411861664784,
          28.084429605483876,
          28.731921487603305,
          26.674874320303687,
          27.471688898385278,
          28.6661291767446,
          27.776929886145112,
          28.326974216672443,
          28.692652849424626,
          27.74887270204648,
          28.98114343784109,
          29.700413223140497,
          27.74474831549742,
          29.396221429515126,
          27.769797950780426,
          27.776929886145112,
          25.88057063502083,
          28.668892437218755,
          27.117768595041323,
          31.63739669421488,
          29.913616800463966,
          29.060607121599386,
          28.344671201814062,
          26.27728507868255,
          25.640242971826257,
          27.173101615455817,
          30.42184964845863,
          21.82995219993225,
          28.19692120103642,
          23.87543252595156,
          23.054562464499316,
          24.158817968558527,
          25.510204081632654,
          22.4813290656912,
          23.335466144755166,
          21.45328719723184,
          24.690405462752206,
          25.15589569160998,
          24.690405462752206,
          24.03460983816696,
          24.44727891156463,
          24.167162403331357,
          25.806451612903224,
          22.72043837081092,
          21.936347412254616,
          24.62296091104956,
          24.44727891156463,
          23.046875,
          24.84098008957808,
          26.722872520606725,
          23.59700420642249,
          23.30668005306752,
          25.64891761567662,
          23.588329220496444,
          22.27530991735537,
          24.31412396574249,
          23.225431847873423,
          23.9188302920412,
          24.83576349943919,
          25.63691716071142,
          24.801587301587304,
          24.91990032039872,
          23.95122659311947,
          24.84098008957808,
          25.63691716071142,
          23.63403300753084,
          22.49963710262738,
          30.436715570602924,
          27.16644791062544,
          28.6661291767446,
          28.293345405160707,
          27.458654210326976,
          29.75274443418488,
          27.471688898385278,
          29.26334020126011,
          27.46481071127618,
          26.674874320303687,
          27.44059917355372,
          27.16644791062544,
          29.35235450069436,
          29.40778799351001,
          28.384802161348794,
          29.069767441860467,
          27.776929886145112,
          27.769797950780426,
          27.117768595041323,
          27.77427092538821,
          27.74474831549742,
          28.40909090909091,
          29.737044338267232,
          27.77031263997133,
          25.640242971826257,
          26.29656683710737,
          25.97867956642479,
          28.731921487603305,
          28.326974216672443,
          29.060607121599386,
          28.668892437218755,
          28.40909090909091,
          30.52409877598364,
          30.457762250291136,
          31.533446712018144,
          27.173101615455817,
          27.776929886145112,
          29.40292024457884,
          28.387411861664784,
          31.0952783480256,
          21.82995219993225,
          24.221453287197235,
          24.158817968558527,
          28.19692120103642,
          23.87543252595156,
          24.690405462752206,
          22.4813290656912,
          24.44727891156463,
          24.03460983816696,
          24.690405462752206,
          23.335466144755166,
          25.510204081632654,
          23.63403300753084,
          25.15589569160998,
          24.96494647925858,
          24.84098008957808,
          24.62296091104956,
          26.722872520606725,
          24.167162403331357,
          24.91990032039872,
          22.72043837081092,
          23.59700420642249,
          25.34435261707989,
          25.34435261707989,
          22.91303307000445,
          22.20633068613798,
          22.27530991735537,
          25.64891761567662,
          26.83864765261977,
          22.582709172343712,
          23.225431847873423,
          25.076193048107708,
          24.44727891156463,
          28.444444444444443,
          25.03991871098853,
          22.321428571428577,
          23.054562464499316,
          24.088223117166624,
          25.806451612903224,
          25.76571345623458,
          30.436715570602924,
          29.75274443418488,
          27.458654210326976,
          27.44059917355372,
          27.769797950780426,
          30.436715570602924,
          29.053287981859416,
          29.069767441860467,
          27.117768595041323,
          28.08626033057851,
          27.471688898385278,
          28.387411861664784,
          28.692652849424626,
          28.384802161348794,
          29.737044338267232,
          27.16644791062544,
          28.6661291767446,
          25.68007405416704,
          26.29656683710737,
          27.173119065010955,
          27.46481071127618,
          27.458654210326976,
          28.293345405160707,
          28.40909090909091,
          28.387411861664784,
          28.6661291767446,
          27.776910832995224,
          27.16644791062544,
          26.004382761139517,
          29.06879615089044,
          28.075042938300964,
          27.117768595041323,
          29.054752066115704,
          27.776929886145112,
          28.703703703703702,
          29.40778799351001,
          29.75274443418488,
          29.30313482494429,
          25.88057063502083,
          27.77442337881898,
          29.860551225775623,
          29.88769472285956,
          28.08626033057851,
          28.39506172839506,
          28.997893837184456,
          27.77427092538821,
          26.85185185185185,
          28.40054796351365,
          28.088991030674453,
          28.40054796351365,
          27.660095935016283,
          28.081632653061224,
          29.054752066115704,
          28.04281659313977,
          29.054752066115704,
          28.40816326530612,
          24.441802087462012,
          28.40909090909091,
          26.216410224399983,
          27.70083102493075,
          25.72755521400648,
          26.312811226799457,
          28.6661291767446,
          28.997893837184456,
          37.333333333333336,
          28.384802161348794,
          27.25088744666356,
          26.87854442344045,
          25.697069943289225,
          27.471688898385278,
          26.28780718336484,
          26.88095170007721,
          29.40292024457884,
          26.874496103198062,
          25.689561925365066,
          27.143037495265748,
          28.73469387755102,
          26.27728507868255,
          26.56683975365294,
          26.06167930769488,
          29.06877329776684,
          29.025311319871417,
          28.08626033057851,
          37.333333333333336,
          28.731921487603305,
          27.74474831549742,
          27.968016063681024,
          28.731921487603305,
          30.071168431955627,
          30.75636776254889,
          26.8612069228656,
          27.68166089965398,
          28.06642386982525,
          28.72737719046251,
          25.854639471416256,
          25.746944318696244,
          28.04967129291453,
          25.826446280991732,
          26.82742078020452,
          27.776929886145112,
          28.40550435551067,
          27.68166089965398,
          28.40550435551067,
          23.529411764705884,
          24.332277048438208,
          28.72737719046251,
          28.326974216672443,
          27.33564013840831,
          28.04281659313977,
          28.06642386982525,
          25.725517400855587,
          24.021275987303035,
          26.42356982428326,
          26.216410224399983,
          29.04370898920721,
          23.38868655818771,
          27.428571428571427,
          27.68166089965398,
          28.726787729557817,
          27.143037495265748,
          23.51020408163265,
          26.25072494734593,
          26.12244897959184,
          27.358845456721728,
          27.143037495265748,
          30.056810675122207,
          24.0569347455645,
          28.06642386982525,
          22.837370242214536,
          28.04281659313977,
          24.163265306122447,
          25.95155709342561,
          22.59814049586777,
          28.393726338561383,
          23.66524436157625,
          28.081632653061224,
          26.07897153351699,
          28.40909090909091,
          25.909456951787405,
          29.75778546712803,
          26.25958474843318,
          24.088223117166624,
          27.74474831549742,
          26.82742078020452,
          21.82995219993225,
          22.4813290656912,
          23.335466144755166,
          24.158817968558527,
          24.690405462752206,
          21.887076365377386,
          24.96494647925858,
          24.84098008957808,
          24.609375,
          21.936347412254616,
          23.87543252595156,
          23.87543252595156,
          25.461980633463213,
          25.15589569160998,
          24.221453287197235,
          24.44727891156463,
          24.167162403331357,
          21.45328719723184,
          23.87543252595156,
          23.054562464499316,
          23.875114784205696,
          24.913494809688583,
          24.91990032039872,
          24.44727891156463,
          25.806451612903224,
          26.722872520606725,
          27.636054421768712,
          25.393431120318084,
          25.34435261707989,
          25.34435261707989,
          25.076193048107708,
          24.092970521541957,
          23.9188302920412,
          24.221453287197235,
          23.38868655818771,
          23.384353741496604,
          23.30668005306752,
          25.854639471416256,
          22.20633068613798,
          23.335466144755166,
          26.22222222222222,
          24.03460983816696,
          22.34351559258195,
          26.23355580417422,
          24.28097534284053,
          25.099501595611173,
          24.023808670084986,
          23.030045351473927,
          23.53036634346221,
          23.95122659311947,
          25.78125,
          22.571047501795427,
          23.87543252595156,
          23.529411764705884,
          27.005130974885223,
          28.444444444444443,
          25.34435261707989,
          22.375679950619187,
          23.25501863821347,
          24.690405462752206,
          20.761245674740486,
          24.141519250780437,
          23.225431847873423,
          26.61934338952972,
          24.111507464658477,
          20.177148524332274,
          21.92612582222972,
          22.4813290656912,
          22.13673973000436,
          25.21735857578381,
          22.758306781975424,
          24.01308087921364,
          23.1404958677686,
          23.38868655818771,
          22.79032897344431,
          24.67105263157895,
          25.95155709342561,
          24.91990032039872,
          23.66524436157625,
          25.099501595611173,
          26.61934338952972,
          24.38237297859371,
          23.233456176894723,
          22.265625,
          23.49523687470631,
          23.147255121330197,
          23.87543252595156,
          23.63403300753084,
          24.87771968291449,
          21.453573713726524,
          23.030045351473927,
          15.65617029872983,
          22.476586888657646,
          21.82995219993225,
          23.828125,
          24.977043158861346,
          20.177148524332274,
          27.548209366391188,
          25.88757396449704,
          25.24933720489837,
          23.225431847873423,
          20.576131687242796,
          22.54657648036074,
          24.97398543184183,
          22.76146753597469,
          21.92612582222972,
          23.711844630960897,
          23.53036634346221,
          23.95122659311947,
          22.857142857142858,
          21.9671201814059,
          23.243408017070564,
          23.875114784205696,
          22.832879346258608,
          22.67573696145125,
          23.55555555555556,
          21.887076365377386,
          24.163265306122447,
          24.977043158861346,
          22.308149910767405,
          31.61177324960485,
          23.25501863821347,
          22.30935640886966,
          27.85200797922391,
          21.453573713726524,
          22.265625,
          23.4375,
          23.030045351473927,
          24.46460160337235,
          22.308149910767405,
          28.282828282828287,
          30.436715570602924,
          28.692652849424626,
          28.731921487603305,
          29.410758865975858,
          29.054752066115704,
          29.737044338267232,
          29.75274443418488,
          27.458654210326976,
          27.16644791062544,
          28.703703703703702,
          28.72737719046251,
          30.436715570602924,
          31.0952783480256,
          28.326974216672443,
          28.293345405160707,
          28.387411861664784,
          30.86300682844026,
          27.755102040816325,
          28.387411861664784,
          27.471688898385278,
          26.47210743801653,
          28.06642386982525,
          27.173101615455817,
          28.08988764044944,
          29.35235450069436,
          27.77031263997133,
          29.35235450069436,
          29.737044338267232,
          28.63403944485025,
          28.834579099129364,
          21.82995219993225,
          24.158817968558527,
          24.690405462752206,
          21.887076365377386,
          24.44727891156463,
          22.4813290656912,
          24.96494647925858,
          28.19692120103642,
          24.03460983816696,
          24.801587301587304,
          24.167162403331357,
          23.335466144755166,
          27.281746031746035,
          24.913494809688583,
          24.56747404844291,
          24.3046178773967,
          25.88757396449704,
          25.95155709342561,
          23.875114784205696,
          24.84098008957808,
          23.054562464499316,
          23.233456176894723,
          25.34435261707989,
          24.221453287197235,
          21.45328719723184,
          28.577960676726104,
          23.051754907792983,
          23.25501863821347,
          27.005130974885223,
          23.795359904818564,
          28.731921487603305,
          27.16644791062544,
          28.293345405160707,
          27.458654210326976,
          26.47210743801653,
          29.75274443418488,
          28.088991030674453,
          28.387411861664784,
          27.17063156623596,
          29.410758865975858,
          27.44059917355372,
          28.387411861664784,
          29.054752066115704,
          27.471688898385278,
          28.6661291767446,
          30.457762250291136,
          28.72737719046251,
          27.46530314097881,
          28.90507573129841,
          28.08626033057851,
          29.737044338267232,
          27.755102040816325,
          28.703703703703702,
          28.387411861664784,
          28.075042938300964,
          26.004382761139517,
          27.173101615455817,
          28.326974216672443,
          28.082170873904943,
          27.77031263997133,
          32.74492829989838,
          28.40054796351365,
          29.365763350250564,
          29.737044338267232,
          29.069767441860467,
          28.40909090909091,
          28.08626033057851,
          28.40816326530612,
          27.755102040816325,
          31.0952783480256,
          21.82995219993225,
          24.221453287197235,
          23.87543252595156,
          22.4813290656912,
          21.887076365377386,
          25.95155709342561,
          23.9188302920412,
          24.03460983816696,
          24.96494647925858,
          24.158817968558527,
          24.56747404844291,
          23.875114784205696,
          21.936347412254616,
          25.076193048107708,
          23.87543252595156,
          24.088223117166624,
          24.023808670084986,
          21.20310522895934,
          24.092970521541957,
          24.44727891156463,
          21.45328719723184,
          25.15589569160998,
          26.722872520606725,
          28.577960676726104,
          25.15589569160998,
          25.816630212628635,
          25.461980633463213,
          24.801587301587304,
          25.34435261707989,
          24.31412396574249,
          25.06574621959237,
          25.970115548195267,
          25.390218522372525,
          25.15589569160998,
          27.281746031746035,
          28.19692120103642,
          24.690405462752206,
          26.48553974966893,
          24.84098008957808,
          24.97398543184183,
          28.731921487603305,
          31.0952783480256,
          28.40111107643332,
          28.692652849424626,
          29.054752066115704,
          27.16644791062544,
          28.90507573129841,
          28.076319285110493,
          27.458654210326976,
          28.088991030674453,
          27.117768595041323,
          29.75274443418488,
          27.471688898385278,
          29.3775826446281,
          29.75274443418488,
          28.293345405160707,
          27.46481071127618,
          28.387411861664784,
          29.26334020126011,
          27.39817568244846,
          28.075042938300964,
          28.08626033057851,
          28.326974216672443,
          27.46530314097881,
          28.387411861664784,
          28.703703703703702,
          28.6661291767446,
          27.755102040816325,
          27.143037495265748,
          28.387411861664784,
          28.72737719046251,
          31.615792841281195,
          28.96473468900236,
          28.721121070571897,
          29.35235450069436,
          29.64951156330951,
          29.365763350250564,
          28.40054796351365,
          27.714789619551524,
          28.344671201814062,
          21.82995219993225,
          23.9188302920412,
          24.221453287197235,
          23.87543252595156,
          24.44727891156463,
          23.225431847873423,
          28.19692120103642,
          25.95155709342561,
          21.887076365377386,
          25.76571345623458,
          25.461980633463213,
          23.875114784205696,
          24.03460983816696,
          24.96494647925858,
          24.023808670084986,
          25.86451247165533,
          27.636054421768712,
          25.816630212628635,
          23.120623596247853,
          24.913494809688583,
          25.076193048107708,
          21.936347412254616,
          25.461980633463213,
          24.44727891156463,
          26.722872520606725,
          25.15589569160998,
          25.510204081632654,
          21.20310522895934,
          24.690405462752206,
          23.233456176894723,
          25.15589569160998,
          25.34435261707989,
          24.690405462752206,
          24.221453287197235,
          24.341758286340216,
          25.390218522372525,
          26.502116213757365,
          23.423557406305772,
          24.03460983816696,
          23.87543252595156
         ]
        }
       ],
       "layout": {
        "template": {
         "data": {
          "bar": [
           {
            "error_x": {
             "color": "#2a3f5f"
            },
            "error_y": {
             "color": "#2a3f5f"
            },
            "marker": {
             "line": {
              "color": "#E5ECF6",
              "width": 0.5
             },
             "pattern": {
              "fillmode": "overlay",
              "size": 10,
              "solidity": 0.2
             }
            },
            "type": "bar"
           }
          ],
          "barpolar": [
           {
            "marker": {
             "line": {
              "color": "#E5ECF6",
              "width": 0.5
             },
             "pattern": {
              "fillmode": "overlay",
              "size": 10,
              "solidity": 0.2
             }
            },
            "type": "barpolar"
           }
          ],
          "carpet": [
           {
            "aaxis": {
             "endlinecolor": "#2a3f5f",
             "gridcolor": "white",
             "linecolor": "white",
             "minorgridcolor": "white",
             "startlinecolor": "#2a3f5f"
            },
            "baxis": {
             "endlinecolor": "#2a3f5f",
             "gridcolor": "white",
             "linecolor": "white",
             "minorgridcolor": "white",
             "startlinecolor": "#2a3f5f"
            },
            "type": "carpet"
           }
          ],
          "choropleth": [
           {
            "colorbar": {
             "outlinewidth": 0,
             "ticks": ""
            },
            "type": "choropleth"
           }
          ],
          "contour": [
           {
            "colorbar": {
             "outlinewidth": 0,
             "ticks": ""
            },
            "colorscale": [
             [
              0,
              "#0d0887"
             ],
             [
              0.1111111111111111,
              "#46039f"
             ],
             [
              0.2222222222222222,
              "#7201a8"
             ],
             [
              0.3333333333333333,
              "#9c179e"
             ],
             [
              0.4444444444444444,
              "#bd3786"
             ],
             [
              0.5555555555555556,
              "#d8576b"
             ],
             [
              0.6666666666666666,
              "#ed7953"
             ],
             [
              0.7777777777777778,
              "#fb9f3a"
             ],
             [
              0.8888888888888888,
              "#fdca26"
             ],
             [
              1,
              "#f0f921"
             ]
            ],
            "type": "contour"
           }
          ],
          "contourcarpet": [
           {
            "colorbar": {
             "outlinewidth": 0,
             "ticks": ""
            },
            "type": "contourcarpet"
           }
          ],
          "heatmap": [
           {
            "colorbar": {
             "outlinewidth": 0,
             "ticks": ""
            },
            "colorscale": [
             [
              0,
              "#0d0887"
             ],
             [
              0.1111111111111111,
              "#46039f"
             ],
             [
              0.2222222222222222,
              "#7201a8"
             ],
             [
              0.3333333333333333,
              "#9c179e"
             ],
             [
              0.4444444444444444,
              "#bd3786"
             ],
             [
              0.5555555555555556,
              "#d8576b"
             ],
             [
              0.6666666666666666,
              "#ed7953"
             ],
             [
              0.7777777777777778,
              "#fb9f3a"
             ],
             [
              0.8888888888888888,
              "#fdca26"
             ],
             [
              1,
              "#f0f921"
             ]
            ],
            "type": "heatmap"
           }
          ],
          "heatmapgl": [
           {
            "colorbar": {
             "outlinewidth": 0,
             "ticks": ""
            },
            "colorscale": [
             [
              0,
              "#0d0887"
             ],
             [
              0.1111111111111111,
              "#46039f"
             ],
             [
              0.2222222222222222,
              "#7201a8"
             ],
             [
              0.3333333333333333,
              "#9c179e"
             ],
             [
              0.4444444444444444,
              "#bd3786"
             ],
             [
              0.5555555555555556,
              "#d8576b"
             ],
             [
              0.6666666666666666,
              "#ed7953"
             ],
             [
              0.7777777777777778,
              "#fb9f3a"
             ],
             [
              0.8888888888888888,
              "#fdca26"
             ],
             [
              1,
              "#f0f921"
             ]
            ],
            "type": "heatmapgl"
           }
          ],
          "histogram": [
           {
            "marker": {
             "pattern": {
              "fillmode": "overlay",
              "size": 10,
              "solidity": 0.2
             }
            },
            "type": "histogram"
           }
          ],
          "histogram2d": [
           {
            "colorbar": {
             "outlinewidth": 0,
             "ticks": ""
            },
            "colorscale": [
             [
              0,
              "#0d0887"
             ],
             [
              0.1111111111111111,
              "#46039f"
             ],
             [
              0.2222222222222222,
              "#7201a8"
             ],
             [
              0.3333333333333333,
              "#9c179e"
             ],
             [
              0.4444444444444444,
              "#bd3786"
             ],
             [
              0.5555555555555556,
              "#d8576b"
             ],
             [
              0.6666666666666666,
              "#ed7953"
             ],
             [
              0.7777777777777778,
              "#fb9f3a"
             ],
             [
              0.8888888888888888,
              "#fdca26"
             ],
             [
              1,
              "#f0f921"
             ]
            ],
            "type": "histogram2d"
           }
          ],
          "histogram2dcontour": [
           {
            "colorbar": {
             "outlinewidth": 0,
             "ticks": ""
            },
            "colorscale": [
             [
              0,
              "#0d0887"
             ],
             [
              0.1111111111111111,
              "#46039f"
             ],
             [
              0.2222222222222222,
              "#7201a8"
             ],
             [
              0.3333333333333333,
              "#9c179e"
             ],
             [
              0.4444444444444444,
              "#bd3786"
             ],
             [
              0.5555555555555556,
              "#d8576b"
             ],
             [
              0.6666666666666666,
              "#ed7953"
             ],
             [
              0.7777777777777778,
              "#fb9f3a"
             ],
             [
              0.8888888888888888,
              "#fdca26"
             ],
             [
              1,
              "#f0f921"
             ]
            ],
            "type": "histogram2dcontour"
           }
          ],
          "mesh3d": [
           {
            "colorbar": {
             "outlinewidth": 0,
             "ticks": ""
            },
            "type": "mesh3d"
           }
          ],
          "parcoords": [
           {
            "line": {
             "colorbar": {
              "outlinewidth": 0,
              "ticks": ""
             }
            },
            "type": "parcoords"
           }
          ],
          "pie": [
           {
            "automargin": true,
            "type": "pie"
           }
          ],
          "scatter": [
           {
            "fillpattern": {
             "fillmode": "overlay",
             "size": 10,
             "solidity": 0.2
            },
            "type": "scatter"
           }
          ],
          "scatter3d": [
           {
            "line": {
             "colorbar": {
              "outlinewidth": 0,
              "ticks": ""
             }
            },
            "marker": {
             "colorbar": {
              "outlinewidth": 0,
              "ticks": ""
             }
            },
            "type": "scatter3d"
           }
          ],
          "scattercarpet": [
           {
            "marker": {
             "colorbar": {
              "outlinewidth": 0,
              "ticks": ""
             }
            },
            "type": "scattercarpet"
           }
          ],
          "scattergeo": [
           {
            "marker": {
             "colorbar": {
              "outlinewidth": 0,
              "ticks": ""
             }
            },
            "type": "scattergeo"
           }
          ],
          "scattergl": [
           {
            "marker": {
             "colorbar": {
              "outlinewidth": 0,
              "ticks": ""
             }
            },
            "type": "scattergl"
           }
          ],
          "scattermapbox": [
           {
            "marker": {
             "colorbar": {
              "outlinewidth": 0,
              "ticks": ""
             }
            },
            "type": "scattermapbox"
           }
          ],
          "scatterpolar": [
           {
            "marker": {
             "colorbar": {
              "outlinewidth": 0,
              "ticks": ""
             }
            },
            "type": "scatterpolar"
           }
          ],
          "scatterpolargl": [
           {
            "marker": {
             "colorbar": {
              "outlinewidth": 0,
              "ticks": ""
             }
            },
            "type": "scatterpolargl"
           }
          ],
          "scatterternary": [
           {
            "marker": {
             "colorbar": {
              "outlinewidth": 0,
              "ticks": ""
             }
            },
            "type": "scatterternary"
           }
          ],
          "surface": [
           {
            "colorbar": {
             "outlinewidth": 0,
             "ticks": ""
            },
            "colorscale": [
             [
              0,
              "#0d0887"
             ],
             [
              0.1111111111111111,
              "#46039f"
             ],
             [
              0.2222222222222222,
              "#7201a8"
             ],
             [
              0.3333333333333333,
              "#9c179e"
             ],
             [
              0.4444444444444444,
              "#bd3786"
             ],
             [
              0.5555555555555556,
              "#d8576b"
             ],
             [
              0.6666666666666666,
              "#ed7953"
             ],
             [
              0.7777777777777778,
              "#fb9f3a"
             ],
             [
              0.8888888888888888,
              "#fdca26"
             ],
             [
              1,
              "#f0f921"
             ]
            ],
            "type": "surface"
           }
          ],
          "table": [
           {
            "cells": {
             "fill": {
              "color": "#EBF0F8"
             },
             "line": {
              "color": "white"
             }
            },
            "header": {
             "fill": {
              "color": "#C8D4E3"
             },
             "line": {
              "color": "white"
             }
            },
            "type": "table"
           }
          ]
         },
         "layout": {
          "annotationdefaults": {
           "arrowcolor": "#2a3f5f",
           "arrowhead": 0,
           "arrowwidth": 1
          },
          "autotypenumbers": "strict",
          "coloraxis": {
           "colorbar": {
            "outlinewidth": 0,
            "ticks": ""
           }
          },
          "colorscale": {
           "diverging": [
            [
             0,
             "#8e0152"
            ],
            [
             0.1,
             "#c51b7d"
            ],
            [
             0.2,
             "#de77ae"
            ],
            [
             0.3,
             "#f1b6da"
            ],
            [
             0.4,
             "#fde0ef"
            ],
            [
             0.5,
             "#f7f7f7"
            ],
            [
             0.6,
             "#e6f5d0"
            ],
            [
             0.7,
             "#b8e186"
            ],
            [
             0.8,
             "#7fbc41"
            ],
            [
             0.9,
             "#4d9221"
            ],
            [
             1,
             "#276419"
            ]
           ],
           "sequential": [
            [
             0,
             "#0d0887"
            ],
            [
             0.1111111111111111,
             "#46039f"
            ],
            [
             0.2222222222222222,
             "#7201a8"
            ],
            [
             0.3333333333333333,
             "#9c179e"
            ],
            [
             0.4444444444444444,
             "#bd3786"
            ],
            [
             0.5555555555555556,
             "#d8576b"
            ],
            [
             0.6666666666666666,
             "#ed7953"
            ],
            [
             0.7777777777777778,
             "#fb9f3a"
            ],
            [
             0.8888888888888888,
             "#fdca26"
            ],
            [
             1,
             "#f0f921"
            ]
           ],
           "sequentialminus": [
            [
             0,
             "#0d0887"
            ],
            [
             0.1111111111111111,
             "#46039f"
            ],
            [
             0.2222222222222222,
             "#7201a8"
            ],
            [
             0.3333333333333333,
             "#9c179e"
            ],
            [
             0.4444444444444444,
             "#bd3786"
            ],
            [
             0.5555555555555556,
             "#d8576b"
            ],
            [
             0.6666666666666666,
             "#ed7953"
            ],
            [
             0.7777777777777778,
             "#fb9f3a"
            ],
            [
             0.8888888888888888,
             "#fdca26"
            ],
            [
             1,
             "#f0f921"
            ]
           ]
          },
          "colorway": [
           "#636efa",
           "#EF553B",
           "#00cc96",
           "#ab63fa",
           "#FFA15A",
           "#19d3f3",
           "#FF6692",
           "#B6E880",
           "#FF97FF",
           "#FECB52"
          ],
          "font": {
           "color": "#2a3f5f"
          },
          "geo": {
           "bgcolor": "white",
           "lakecolor": "white",
           "landcolor": "#E5ECF6",
           "showlakes": true,
           "showland": true,
           "subunitcolor": "white"
          },
          "hoverlabel": {
           "align": "left"
          },
          "hovermode": "closest",
          "mapbox": {
           "style": "light"
          },
          "paper_bgcolor": "white",
          "plot_bgcolor": "#E5ECF6",
          "polar": {
           "angularaxis": {
            "gridcolor": "white",
            "linecolor": "white",
            "ticks": ""
           },
           "bgcolor": "#E5ECF6",
           "radialaxis": {
            "gridcolor": "white",
            "linecolor": "white",
            "ticks": ""
           }
          },
          "scene": {
           "xaxis": {
            "backgroundcolor": "#E5ECF6",
            "gridcolor": "white",
            "gridwidth": 2,
            "linecolor": "white",
            "showbackground": true,
            "ticks": "",
            "zerolinecolor": "white"
           },
           "yaxis": {
            "backgroundcolor": "#E5ECF6",
            "gridcolor": "white",
            "gridwidth": 2,
            "linecolor": "white",
            "showbackground": true,
            "ticks": "",
            "zerolinecolor": "white"
           },
           "zaxis": {
            "backgroundcolor": "#E5ECF6",
            "gridcolor": "white",
            "gridwidth": 2,
            "linecolor": "white",
            "showbackground": true,
            "ticks": "",
            "zerolinecolor": "white"
           }
          },
          "shapedefaults": {
           "line": {
            "color": "#2a3f5f"
           }
          },
          "ternary": {
           "aaxis": {
            "gridcolor": "white",
            "linecolor": "white",
            "ticks": ""
           },
           "baxis": {
            "gridcolor": "white",
            "linecolor": "white",
            "ticks": ""
           },
           "bgcolor": "#E5ECF6",
           "caxis": {
            "gridcolor": "white",
            "linecolor": "white",
            "ticks": ""
           }
          },
          "title": {
           "x": 0.05
          },
          "xaxis": {
           "automargin": true,
           "gridcolor": "white",
           "linecolor": "white",
           "ticks": "",
           "title": {
            "standoff": 15
           },
           "zerolinecolor": "white",
           "zerolinewidth": 2
          },
          "yaxis": {
           "automargin": true,
           "gridcolor": "white",
           "linecolor": "white",
           "ticks": "",
           "title": {
            "standoff": 15
           },
           "zerolinecolor": "white",
           "zerolinewidth": 2
          }
         }
        },
        "title": {
         "text": "bmi Distribution"
        },
        "xaxis": {
         "title": {
          "text": "bmi"
         }
        },
        "yaxis": {
         "title": {
          "text": "Frequency"
         }
        }
       }
      }
     },
     "metadata": {},
     "output_type": "display_data"
    }
   ],
   "source": [
    "# Loop over each numeric column in numerical_games\n",
    "for column in numerical_games[['year', 'regionId', 'age', 'height', 'weight', 'bmi']].columns:\n",
    "    # Create a histogram trace for the current column\n",
    "    trace = go.Histogram(\n",
    "        x=numerical_games[column],\n",
    "        nbinsx=20,\n",
    "        name=f\"{column} Distribution\"\n",
    "    )\n",
    "\n",
    "    # Create the figure and add the trace\n",
    "    fig = go.Figure(trace)\n",
    "\n",
    "    # Update the layout\n",
    "    fig.update_layout(\n",
    "        title=f\"{column} Distribution\",\n",
    "        xaxis=dict(title=column),\n",
    "        yaxis=dict(title=\"Frequency\"),\n",
    "    )\n",
    "\n",
    "    # Show the plot\n",
    "    fig.show()"
   ]
  },
  {
   "cell_type": "code",
   "execution_count": 9,
   "metadata": {},
   "outputs": [
    {
     "data": {
      "application/vnd.plotly.v1+json": {
       "config": {
        "plotlyServerURL": "https://plot.ly"
       },
       "data": [
        {
         "alignmentgroup": "True",
         "bingroup": "x",
         "hovertemplate": "Gender=1<br>height=%{x}<br>count=%{y}<extra></extra>",
         "legendgroup": "1",
         "marker": {
          "color": "#636efa",
          "opacity": 0.7,
          "pattern": {
           "shape": ""
          }
         },
         "name": "1",
         "nbinsx": 20,
         "offsetgroup": "1",
         "orientation": "v",
         "showlegend": true,
         "type": "histogram",
         "x": [
          176,
          168,
          176,
          166,
          171,
          177.3722891566265,
          183,
          177.3722891566265,
          177.3722891566265,
          181,
          178,
          168,
          173,
          191,
          177.3722891566265,
          177.3722891566265,
          177.3722891566265,
          177.3722891566265,
          183,
          171,
          186,
          177.3722891566265,
          177.3722891566265,
          176,
          177.3722891566265,
          177.3722891566265,
          177.3722891566265,
          177.3722891566265,
          177.3722891566265,
          171,
          177.3722891566265,
          178,
          181,
          177.3722891566265,
          177.3722891566265,
          177.3722891566265,
          150,
          177.3722891566265,
          171,
          176,
          161,
          177.3722891566265,
          177.3722891566265,
          181,
          176,
          176,
          177.3722891566265,
          171,
          176,
          166,
          177.3722891566265,
          176,
          177.3722891566265,
          166,
          166,
          176,
          188,
          183,
          171,
          171,
          177.3722891566265,
          177.3722891566265,
          176,
          178,
          181,
          183,
          178,
          178,
          173,
          176,
          177.3722891566265,
          171,
          168,
          181,
          177.3722891566265,
          163,
          177.3722891566265,
          177.3722891566265,
          177.3722891566265,
          181,
          150,
          173,
          168,
          173,
          177.3722891566265,
          177.3722891566265,
          176,
          176,
          186,
          191,
          168,
          178,
          176,
          177.3722891566265,
          177.3722891566265,
          177.3722891566265,
          178,
          181,
          194,
          186,
          177.3722891566265,
          177.3722891566265,
          177.3722891566265,
          178,
          177.3722891566265,
          177.3722891566265,
          177.3722891566265,
          177.3722891566265,
          183,
          178,
          177.3722891566265,
          177.3722891566265,
          186,
          177.3722891566265,
          191,
          177.3722891566265,
          177.3722891566265,
          177.3722891566265,
          177.3722891566265,
          158,
          176,
          178,
          176,
          173,
          186,
          177.3722891566265,
          177.3722891566265,
          188,
          178,
          181,
          173,
          177.3722891566265,
          177.3722891566265,
          177.3722891566265,
          181,
          178,
          177.3722891566265,
          177.3722891566265,
          176,
          177.3722891566265,
          188,
          173,
          161,
          173,
          173,
          178,
          177.3722891566265,
          183,
          177.3722891566265,
          176,
          177.3722891566265,
          163,
          177,
          177.3722891566265,
          177.3722891566265,
          188,
          177.3722891566265,
          177.3722891566265,
          178,
          178,
          177.3722891566265,
          199,
          183,
          175,
          186,
          188,
          177.3722891566265,
          176,
          181,
          183,
          178,
          181,
          188,
          186,
          188,
          176,
          191,
          186,
          177.3722891566265,
          191,
          176,
          181,
          178,
          177.3722891566265,
          173,
          173,
          181,
          166,
          178,
          181,
          171,
          178,
          181,
          179,
          177.3722891566265,
          176,
          181,
          176,
          171,
          176,
          166,
          186,
          176,
          177.3722891566265,
          173,
          177.3722891566265,
          176,
          183,
          177.3722891566265,
          173,
          171,
          177.3722891566265,
          180,
          183,
          171,
          177.3722891566265,
          181,
          173,
          181,
          177.3722891566265,
          173,
          177.3722891566265,
          183,
          177.3722891566265,
          173,
          173,
          181,
          180,
          171,
          199,
          161,
          176,
          173,
          178,
          186,
          177.3722891566265,
          159,
          181,
          176,
          166,
          176,
          175,
          166,
          178,
          181,
          186,
          181,
          181,
          186,
          181,
          188,
          173,
          176,
          188,
          173,
          178,
          177.3722891566265,
          171,
          188,
          183,
          176,
          178,
          179,
          161,
          176,
          183,
          176,
          177.3722891566265,
          177.3722891566265,
          188,
          191,
          178,
          177.3722891566265,
          186,
          183,
          177.3722891566265,
          186,
          177.3722891566265,
          179,
          188,
          177.3722891566265,
          188,
          176,
          181,
          181,
          181,
          183,
          171,
          176,
          171,
          188,
          176,
          166,
          171,
          178,
          186,
          183,
          181,
          179,
          166,
          177.3722891566265,
          171,
          181,
          181,
          186,
          178,
          176,
          173,
          176,
          196,
          178,
          174,
          181,
          178,
          178,
          178,
          178,
          178,
          183,
          168,
          183,
          178,
          178,
          177.3722891566265,
          188,
          186,
          183,
          178,
          178,
          175,
          173,
          176,
          176,
          173,
          176,
          176,
          171,
          178,
          166,
          186,
          181,
          181,
          186,
          188,
          176,
          173,
          178,
          173,
          176,
          181,
          178,
          196,
          166,
          178,
          182,
          178,
          183,
          181,
          183,
          171,
          174,
          178,
          178,
          188,
          183,
          174,
          178,
          171,
          178,
          183,
          183,
          175,
          181,
          176,
          171,
          183,
          162,
          176,
          176,
          181,
          176,
          177.3722891566265,
          178,
          166,
          171,
          178,
          188,
          186,
          178,
          181,
          181,
          174,
          171,
          183,
          150,
          173,
          173,
          176,
          173,
          186,
          178,
          174,
          181,
          196,
          173,
          176,
          178,
          186,
          178,
          174,
          176,
          181,
          186,
          178,
          178,
          181,
          181,
          166,
          171,
          162,
          178,
          175,
          176,
          175,
          176,
          171,
          176,
          166,
          176,
          186,
          181,
          171,
          171,
          171,
          183,
          174,
          173,
          176,
          178,
          181,
          181,
          171,
          173,
          178,
          173,
          171,
          183,
          186,
          178,
          178,
          183,
          166,
          181,
          175,
          178,
          171,
          178,
          173,
          183,
          176,
          186,
          186,
          181,
          150,
          173,
          175,
          178,
          181,
          171,
          178,
          171,
          188,
          176,
          181,
          171,
          171,
          171,
          181,
          186,
          178,
          173,
          165,
          183,
          187,
          178,
          186,
          173,
          178,
          173,
          174,
          181,
          171,
          173,
          178,
          178,
          180,
          183,
          176,
          176,
          183,
          166,
          178,
          176,
          171,
          183,
          178,
          186,
          171,
          181,
          181,
          188,
          181,
          176,
          171,
          178,
          181,
          181,
          178,
          178,
          166,
          183,
          171,
          181,
          174,
          176,
          176,
          177.3722891566265,
          181,
          173,
          176,
          177,
          183,
          178,
          178,
          171,
          173,
          176,
          171,
          178,
          188,
          172,
          173,
          183,
          172,
          183,
          169,
          171,
          171,
          188,
          179,
          181,
          171,
          178,
          176,
          181,
          178,
          171,
          185,
          171,
          181,
          177.3722891566265,
          176,
          171,
          181,
          183,
          181,
          186,
          181,
          186,
          163,
          176,
          174,
          174,
          177,
          181,
          178,
          166,
          176,
          176,
          181,
          169,
          168,
          183,
          181,
          183,
          172,
          171,
          181,
          183,
          188,
          178,
          171,
          181,
          183,
          179,
          171,
          176,
          181,
          178,
          172,
          171,
          172,
          181,
          177,
          176,
          178,
          174,
          176,
          173,
          183,
          181,
          185,
          183,
          176,
          186,
          169,
          166,
          176,
          181,
          183,
          168,
          183,
          181,
          173,
          181,
          182,
          171,
          171,
          178,
          176,
          177,
          171,
          168,
          172,
          176,
          176,
          181,
          181,
          181,
          171,
          173,
          181,
          183,
          183,
          185,
          185,
          179,
          178,
          188,
          176,
          181,
          183,
          179,
          181,
          185,
          173,
          174,
          176,
          176,
          181,
          180,
          172,
          171,
          181,
          178,
          182,
          183,
          182,
          176,
          180,
          181,
          178,
          180,
          173,
          177,
          173,
          169,
          175,
          176,
          171,
          176,
          175,
          174,
          176,
          179,
          171,
          173,
          188,
          183,
          181,
          150,
          171,
          167,
          184,
          184,
          181,
          184,
          187,
          173,
          183,
          172,
          178,
          175,
          183,
          182,
          173,
          171,
          179,
          176,
          150,
          176,
          174,
          167,
          176,
          173,
          183,
          181,
          170,
          173,
          177,
          177,
          188,
          185,
          176,
          178,
          181,
          178,
          170,
          178,
          170,
          188,
          177,
          186,
          170,
          171,
          173,
          186,
          187,
          174,
          179,
          167,
          173,
          175,
          170,
          171,
          178,
          175,
          181,
          175,
          171,
          178,
          174,
          173,
          173,
          170,
          171,
          175,
          170,
          176,
          172,
          167,
          175,
          165,
          176,
          169,
          170,
          169,
          163,
          174,
          178,
          171,
          181,
          176,
          171,
          176,
          173,
          171,
          178,
          181,
          180,
          177,
          171,
          182,
          186,
          188,
          181,
          161,
          175,
          181,
          181,
          176,
          173,
          183,
          178,
          178,
          183,
          178,
          173,
          185,
          189,
          176,
          181,
          188,
          178,
          176,
          171,
          177,
          181,
          182,
          171,
          176,
          181,
          176,
          181,
          183,
          183,
          177,
          185,
          186,
          176,
          173,
          175,
          180,
          181,
          174,
          185,
          183,
          186,
          181,
          183,
          163,
          173,
          177,
          173,
          172,
          176,
          176,
          175,
          175,
          182,
          176,
          182,
          179,
          181,
          176,
          181,
          186,
          182,
          178,
          177,
          176,
          171,
          181,
          176,
          171,
          188,
          179,
          181,
          183,
          173,
          174,
          176,
          186,
          185,
          181,
          180,
          183,
          175,
          178,
          181,
          177,
          163,
          183,
          178,
          178,
          179,
          177,
          173,
          189,
          168
         ],
         "xaxis": "x",
         "yaxis": "y"
        },
        {
         "alignmentgroup": "True",
         "bingroup": "x",
         "hovertemplate": "Gender=2<br>height=%{x}<br>count=%{y}<extra></extra>",
         "legendgroup": "2",
         "marker": {
          "color": "#EF553B",
          "opacity": 0.7,
          "pattern": {
           "shape": ""
          }
         },
         "name": "2",
         "nbinsx": 20,
         "offsetgroup": "2",
         "orientation": "v",
         "showlegend": true,
         "type": "histogram",
         "x": [
          165.37482517482516,
          165.37482517482516,
          163,
          165.37482517482516,
          176,
          165.37482517482516,
          165.37482517482516,
          158,
          165.37482517482516,
          165.37482517482516,
          165.37482517482516,
          165.37482517482516,
          165.37482517482516,
          165.37482517482516,
          165.37482517482516,
          165.37482517482516,
          163,
          165.37482517482516,
          165.37482517482516,
          165.37482517482516,
          176,
          168,
          165.37482517482516,
          176,
          165.37482517482516,
          165.37482517482516,
          176,
          165.37482517482516,
          165.37482517482516,
          165.37482517482516,
          166,
          163,
          176,
          165.37482517482516,
          168,
          165.37482517482516,
          165.37482517482516,
          165.37482517482516,
          165.37482517482516,
          165.37482517482516,
          168,
          166,
          166,
          165.37482517482516,
          165.37482517482516,
          165.37482517482516,
          166,
          173,
          168,
          165.37482517482516,
          163,
          165.37482517482516,
          176,
          165.37482517482516,
          165.37482517482516,
          153,
          168,
          165.37482517482516,
          171,
          158,
          181,
          163,
          165.37482517482516,
          168,
          176,
          173,
          170,
          168,
          165.37482517482516,
          176,
          178,
          176,
          166,
          176,
          165.37482517482516,
          176,
          165.37482517482516,
          165.37482517482516,
          165.37482517482516,
          171,
          163,
          161,
          165.37482517482516,
          173,
          163,
          171,
          173,
          165.37482517482516,
          161,
          158,
          166,
          166,
          166,
          165.37482517482516,
          161,
          163,
          165.37482517482516,
          165.37482517482516,
          165.37482517482516,
          165.37482517482516,
          153,
          173,
          161,
          165.37482517482516,
          158,
          165.37482517482516,
          165.37482517482516,
          165.37482517482516,
          166,
          165.37482517482516,
          165.37482517482516,
          158,
          165.37482517482516,
          165.37482517482516,
          165.37482517482516,
          165.37482517482516,
          165.37482517482516,
          176,
          161,
          163,
          157,
          161,
          159,
          165.37482517482516,
          165.37482517482516,
          158,
          161,
          165.37482517482516,
          158,
          170,
          158,
          163,
          163,
          163,
          176,
          166,
          158,
          163,
          158,
          181,
          158,
          166,
          173,
          171,
          165.37482517482516,
          173,
          170,
          173,
          166,
          178,
          160,
          158,
          165.37482517482516,
          165.37482517482516,
          176,
          163,
          161,
          176,
          165.37482517482516,
          175,
          165.37482517482516,
          176,
          172,
          150,
          165.37482517482516,
          165.37482517482516,
          165.37482517482516,
          163,
          160,
          171,
          165.37482517482516,
          165.37482517482516,
          171,
          170,
          158,
          176,
          170,
          163,
          171,
          158,
          158,
          153,
          168,
          160,
          158,
          171,
          165.37482517482516,
          173,
          181,
          163,
          163,
          167,
          176,
          163,
          166,
          158,
          161,
          155,
          161,
          163,
          171,
          176,
          168,
          167,
          173,
          158,
          168,
          150,
          163,
          166,
          163,
          173,
          168,
          162,
          163,
          171,
          168,
          165.37482517482516,
          166,
          165.37482517482516,
          170,
          163,
          171,
          158,
          158,
          158,
          171,
          166,
          168,
          176,
          163,
          166,
          166,
          161,
          158,
          168,
          167,
          178,
          162,
          163,
          181,
          176,
          153,
          155,
          173,
          158,
          166,
          166,
          161,
          169,
          161,
          158,
          163,
          163,
          164,
          173,
          171,
          163,
          176,
          158,
          168,
          171,
          182,
          165,
          166,
          170,
          168,
          158,
          168,
          171,
          166,
          163,
          163,
          167,
          171,
          176,
          162,
          155,
          178,
          167,
          158,
          173,
          168,
          173,
          166,
          166,
          168,
          158,
          169,
          168,
          171,
          171,
          171,
          161,
          155,
          161,
          158,
          171,
          158,
          153,
          164,
          163,
          174,
          166,
          163,
          161,
          158,
          158,
          163,
          158,
          170,
          163,
          155,
          158,
          155,
          171,
          161,
          166,
          166,
          161,
          163,
          158,
          171,
          173,
          162,
          165,
          168,
          160,
          153,
          163,
          167,
          168,
          176,
          153,
          166,
          158,
          155,
          168,
          166,
          162,
          171,
          171,
          171,
          171,
          158,
          165.37482517482516,
          168,
          168,
          165,
          164,
          166,
          178,
          169,
          163,
          173,
          170,
          162,
          173,
          168,
          171,
          171,
          153,
          166,
          165,
          158,
          171,
          171,
          168,
          162,
          155,
          171,
          160,
          161,
          167,
          165,
          155,
          171,
          161,
          164,
          164,
          166,
          168,
          176,
          168,
          166,
          158,
          171,
          158,
          158,
          170,
          158,
          168,
          169,
          163,
          173,
          170,
          161,
          168,
          162,
          158,
          168,
          167,
          168,
          162,
          170,
          164,
          166,
          155,
          173,
          161,
          164,
          171,
          158,
          171,
          158,
          163,
          166,
          173,
          161,
          166,
          155,
          173,
          158,
          164,
          168,
          153,
          176,
          168,
          161,
          163,
          159,
          160,
          163,
          162,
          170,
          173,
          169,
          168,
          162,
          163,
          170,
          161,
          168,
          161,
          158,
          168,
          164,
          155,
          173,
          164,
          171,
          168,
          160,
          163,
          163,
          171,
          167,
          171,
          166,
          176,
          166,
          166,
          161,
          158,
          158,
          168,
          159,
          166,
          163,
          158,
          158,
          166,
          163,
          170,
          169,
          162,
          170,
          161,
          162,
          168,
          158,
          161,
          163,
          168,
          158,
          168,
          171,
          163,
          171,
          163,
          164,
          159,
          173,
          171,
          165,
          165,
          171,
          163,
          176,
          171,
          158,
          163,
          166,
          161,
          168,
          150,
          166,
          168,
          173,
          163,
          155,
          166,
          163,
          162,
          163,
          169,
          161,
          171,
          171,
          163,
          160,
          164,
          170,
          170,
          161,
          168,
          170,
          168,
          164,
          170,
          170,
          173,
          165,
          170,
          159,
          168,
          155,
          163,
          168,
          173,
          165,
          165,
          161,
          168,
          161,
          170,
          173,
          168,
          167,
          177,
          163,
          163,
          150,
          158,
          177,
          161,
          171,
          167,
          167,
          168,
          157,
          166,
          160,
          171,
          170,
          170,
          161,
          150,
          165,
          161,
          171,
          161,
          170,
          155,
          166,
          161,
          174,
          171,
          154,
          162,
          166,
          163,
          169,
          165.37482517482516,
          165,
          173,
          174,
          152,
          170,
          159,
          167,
          167,
          161,
          167,
          158,
          160,
          153,
          161,
          170,
          158,
          154,
          163,
          168,
          199,
          155,
          163,
          160,
          165,
          171,
          165,
          156,
          178,
          166,
          162,
          159,
          155,
          161,
          154,
          163,
          157,
          166,
          175,
          168,
          162,
          165,
          158,
          168,
          150,
          171,
          175,
          165,
          164,
          153,
          171,
          172,
          163,
          163,
          160,
          160,
          168,
          163,
          164,
          165,
          163,
          169,
          161,
          171,
          168,
          162,
          171,
          162,
          158,
          168,
          164,
          163,
          168,
          170,
          170,
          161,
          156,
          170,
          165,
          163,
          173,
          158,
          165,
          170,
          170,
          162,
          164,
          171,
          161,
          164,
          163,
          170,
          170,
          162,
          171,
          170,
          161,
          158,
          171,
          169,
          170,
          165,
          164,
          161,
          170,
          163,
          167,
          171,
          168,
          168,
          170,
          168,
          163,
          162,
          168,
          167,
          161,
          168,
          165,
          166,
          156,
          163,
          155,
          168,
          168,
          162,
          161,
          153,
          163,
          155,
          163,
          161,
          170,
          170,
          168,
          166,
          162,
          170,
          171,
          166,
          161,
          165,
          158,
          171,
          167,
          168,
          168,
          167,
          174,
          170,
          161,
          164,
          161,
          168,
          163,
          168,
          168,
          171,
          161,
          158,
          168,
          165,
          161,
          170,
          157,
          155,
          159,
          164,
          158,
          170
         ],
         "xaxis": "x",
         "yaxis": "y"
        }
       ],
       "layout": {
        "barmode": "relative",
        "legend": {
         "title": {
          "text": "Gender"
         },
         "tracegroupgap": 0
        },
        "template": {
         "data": {
          "bar": [
           {
            "error_x": {
             "color": "#2a3f5f"
            },
            "error_y": {
             "color": "#2a3f5f"
            },
            "marker": {
             "line": {
              "color": "#E5ECF6",
              "width": 0.5
             },
             "pattern": {
              "fillmode": "overlay",
              "size": 10,
              "solidity": 0.2
             }
            },
            "type": "bar"
           }
          ],
          "barpolar": [
           {
            "marker": {
             "line": {
              "color": "#E5ECF6",
              "width": 0.5
             },
             "pattern": {
              "fillmode": "overlay",
              "size": 10,
              "solidity": 0.2
             }
            },
            "type": "barpolar"
           }
          ],
          "carpet": [
           {
            "aaxis": {
             "endlinecolor": "#2a3f5f",
             "gridcolor": "white",
             "linecolor": "white",
             "minorgridcolor": "white",
             "startlinecolor": "#2a3f5f"
            },
            "baxis": {
             "endlinecolor": "#2a3f5f",
             "gridcolor": "white",
             "linecolor": "white",
             "minorgridcolor": "white",
             "startlinecolor": "#2a3f5f"
            },
            "type": "carpet"
           }
          ],
          "choropleth": [
           {
            "colorbar": {
             "outlinewidth": 0,
             "ticks": ""
            },
            "type": "choropleth"
           }
          ],
          "contour": [
           {
            "colorbar": {
             "outlinewidth": 0,
             "ticks": ""
            },
            "colorscale": [
             [
              0,
              "#0d0887"
             ],
             [
              0.1111111111111111,
              "#46039f"
             ],
             [
              0.2222222222222222,
              "#7201a8"
             ],
             [
              0.3333333333333333,
              "#9c179e"
             ],
             [
              0.4444444444444444,
              "#bd3786"
             ],
             [
              0.5555555555555556,
              "#d8576b"
             ],
             [
              0.6666666666666666,
              "#ed7953"
             ],
             [
              0.7777777777777778,
              "#fb9f3a"
             ],
             [
              0.8888888888888888,
              "#fdca26"
             ],
             [
              1,
              "#f0f921"
             ]
            ],
            "type": "contour"
           }
          ],
          "contourcarpet": [
           {
            "colorbar": {
             "outlinewidth": 0,
             "ticks": ""
            },
            "type": "contourcarpet"
           }
          ],
          "heatmap": [
           {
            "colorbar": {
             "outlinewidth": 0,
             "ticks": ""
            },
            "colorscale": [
             [
              0,
              "#0d0887"
             ],
             [
              0.1111111111111111,
              "#46039f"
             ],
             [
              0.2222222222222222,
              "#7201a8"
             ],
             [
              0.3333333333333333,
              "#9c179e"
             ],
             [
              0.4444444444444444,
              "#bd3786"
             ],
             [
              0.5555555555555556,
              "#d8576b"
             ],
             [
              0.6666666666666666,
              "#ed7953"
             ],
             [
              0.7777777777777778,
              "#fb9f3a"
             ],
             [
              0.8888888888888888,
              "#fdca26"
             ],
             [
              1,
              "#f0f921"
             ]
            ],
            "type": "heatmap"
           }
          ],
          "heatmapgl": [
           {
            "colorbar": {
             "outlinewidth": 0,
             "ticks": ""
            },
            "colorscale": [
             [
              0,
              "#0d0887"
             ],
             [
              0.1111111111111111,
              "#46039f"
             ],
             [
              0.2222222222222222,
              "#7201a8"
             ],
             [
              0.3333333333333333,
              "#9c179e"
             ],
             [
              0.4444444444444444,
              "#bd3786"
             ],
             [
              0.5555555555555556,
              "#d8576b"
             ],
             [
              0.6666666666666666,
              "#ed7953"
             ],
             [
              0.7777777777777778,
              "#fb9f3a"
             ],
             [
              0.8888888888888888,
              "#fdca26"
             ],
             [
              1,
              "#f0f921"
             ]
            ],
            "type": "heatmapgl"
           }
          ],
          "histogram": [
           {
            "marker": {
             "pattern": {
              "fillmode": "overlay",
              "size": 10,
              "solidity": 0.2
             }
            },
            "type": "histogram"
           }
          ],
          "histogram2d": [
           {
            "colorbar": {
             "outlinewidth": 0,
             "ticks": ""
            },
            "colorscale": [
             [
              0,
              "#0d0887"
             ],
             [
              0.1111111111111111,
              "#46039f"
             ],
             [
              0.2222222222222222,
              "#7201a8"
             ],
             [
              0.3333333333333333,
              "#9c179e"
             ],
             [
              0.4444444444444444,
              "#bd3786"
             ],
             [
              0.5555555555555556,
              "#d8576b"
             ],
             [
              0.6666666666666666,
              "#ed7953"
             ],
             [
              0.7777777777777778,
              "#fb9f3a"
             ],
             [
              0.8888888888888888,
              "#fdca26"
             ],
             [
              1,
              "#f0f921"
             ]
            ],
            "type": "histogram2d"
           }
          ],
          "histogram2dcontour": [
           {
            "colorbar": {
             "outlinewidth": 0,
             "ticks": ""
            },
            "colorscale": [
             [
              0,
              "#0d0887"
             ],
             [
              0.1111111111111111,
              "#46039f"
             ],
             [
              0.2222222222222222,
              "#7201a8"
             ],
             [
              0.3333333333333333,
              "#9c179e"
             ],
             [
              0.4444444444444444,
              "#bd3786"
             ],
             [
              0.5555555555555556,
              "#d8576b"
             ],
             [
              0.6666666666666666,
              "#ed7953"
             ],
             [
              0.7777777777777778,
              "#fb9f3a"
             ],
             [
              0.8888888888888888,
              "#fdca26"
             ],
             [
              1,
              "#f0f921"
             ]
            ],
            "type": "histogram2dcontour"
           }
          ],
          "mesh3d": [
           {
            "colorbar": {
             "outlinewidth": 0,
             "ticks": ""
            },
            "type": "mesh3d"
           }
          ],
          "parcoords": [
           {
            "line": {
             "colorbar": {
              "outlinewidth": 0,
              "ticks": ""
             }
            },
            "type": "parcoords"
           }
          ],
          "pie": [
           {
            "automargin": true,
            "type": "pie"
           }
          ],
          "scatter": [
           {
            "fillpattern": {
             "fillmode": "overlay",
             "size": 10,
             "solidity": 0.2
            },
            "type": "scatter"
           }
          ],
          "scatter3d": [
           {
            "line": {
             "colorbar": {
              "outlinewidth": 0,
              "ticks": ""
             }
            },
            "marker": {
             "colorbar": {
              "outlinewidth": 0,
              "ticks": ""
             }
            },
            "type": "scatter3d"
           }
          ],
          "scattercarpet": [
           {
            "marker": {
             "colorbar": {
              "outlinewidth": 0,
              "ticks": ""
             }
            },
            "type": "scattercarpet"
           }
          ],
          "scattergeo": [
           {
            "marker": {
             "colorbar": {
              "outlinewidth": 0,
              "ticks": ""
             }
            },
            "type": "scattergeo"
           }
          ],
          "scattergl": [
           {
            "marker": {
             "colorbar": {
              "outlinewidth": 0,
              "ticks": ""
             }
            },
            "type": "scattergl"
           }
          ],
          "scattermapbox": [
           {
            "marker": {
             "colorbar": {
              "outlinewidth": 0,
              "ticks": ""
             }
            },
            "type": "scattermapbox"
           }
          ],
          "scatterpolar": [
           {
            "marker": {
             "colorbar": {
              "outlinewidth": 0,
              "ticks": ""
             }
            },
            "type": "scatterpolar"
           }
          ],
          "scatterpolargl": [
           {
            "marker": {
             "colorbar": {
              "outlinewidth": 0,
              "ticks": ""
             }
            },
            "type": "scatterpolargl"
           }
          ],
          "scatterternary": [
           {
            "marker": {
             "colorbar": {
              "outlinewidth": 0,
              "ticks": ""
             }
            },
            "type": "scatterternary"
           }
          ],
          "surface": [
           {
            "colorbar": {
             "outlinewidth": 0,
             "ticks": ""
            },
            "colorscale": [
             [
              0,
              "#0d0887"
             ],
             [
              0.1111111111111111,
              "#46039f"
             ],
             [
              0.2222222222222222,
              "#7201a8"
             ],
             [
              0.3333333333333333,
              "#9c179e"
             ],
             [
              0.4444444444444444,
              "#bd3786"
             ],
             [
              0.5555555555555556,
              "#d8576b"
             ],
             [
              0.6666666666666666,
              "#ed7953"
             ],
             [
              0.7777777777777778,
              "#fb9f3a"
             ],
             [
              0.8888888888888888,
              "#fdca26"
             ],
             [
              1,
              "#f0f921"
             ]
            ],
            "type": "surface"
           }
          ],
          "table": [
           {
            "cells": {
             "fill": {
              "color": "#EBF0F8"
             },
             "line": {
              "color": "white"
             }
            },
            "header": {
             "fill": {
              "color": "#C8D4E3"
             },
             "line": {
              "color": "white"
             }
            },
            "type": "table"
           }
          ]
         },
         "layout": {
          "annotationdefaults": {
           "arrowcolor": "#2a3f5f",
           "arrowhead": 0,
           "arrowwidth": 1
          },
          "autotypenumbers": "strict",
          "coloraxis": {
           "colorbar": {
            "outlinewidth": 0,
            "ticks": ""
           }
          },
          "colorscale": {
           "diverging": [
            [
             0,
             "#8e0152"
            ],
            [
             0.1,
             "#c51b7d"
            ],
            [
             0.2,
             "#de77ae"
            ],
            [
             0.3,
             "#f1b6da"
            ],
            [
             0.4,
             "#fde0ef"
            ],
            [
             0.5,
             "#f7f7f7"
            ],
            [
             0.6,
             "#e6f5d0"
            ],
            [
             0.7,
             "#b8e186"
            ],
            [
             0.8,
             "#7fbc41"
            ],
            [
             0.9,
             "#4d9221"
            ],
            [
             1,
             "#276419"
            ]
           ],
           "sequential": [
            [
             0,
             "#0d0887"
            ],
            [
             0.1111111111111111,
             "#46039f"
            ],
            [
             0.2222222222222222,
             "#7201a8"
            ],
            [
             0.3333333333333333,
             "#9c179e"
            ],
            [
             0.4444444444444444,
             "#bd3786"
            ],
            [
             0.5555555555555556,
             "#d8576b"
            ],
            [
             0.6666666666666666,
             "#ed7953"
            ],
            [
             0.7777777777777778,
             "#fb9f3a"
            ],
            [
             0.8888888888888888,
             "#fdca26"
            ],
            [
             1,
             "#f0f921"
            ]
           ],
           "sequentialminus": [
            [
             0,
             "#0d0887"
            ],
            [
             0.1111111111111111,
             "#46039f"
            ],
            [
             0.2222222222222222,
             "#7201a8"
            ],
            [
             0.3333333333333333,
             "#9c179e"
            ],
            [
             0.4444444444444444,
             "#bd3786"
            ],
            [
             0.5555555555555556,
             "#d8576b"
            ],
            [
             0.6666666666666666,
             "#ed7953"
            ],
            [
             0.7777777777777778,
             "#fb9f3a"
            ],
            [
             0.8888888888888888,
             "#fdca26"
            ],
            [
             1,
             "#f0f921"
            ]
           ]
          },
          "colorway": [
           "#636efa",
           "#EF553B",
           "#00cc96",
           "#ab63fa",
           "#FFA15A",
           "#19d3f3",
           "#FF6692",
           "#B6E880",
           "#FF97FF",
           "#FECB52"
          ],
          "font": {
           "color": "#2a3f5f"
          },
          "geo": {
           "bgcolor": "white",
           "lakecolor": "white",
           "landcolor": "#E5ECF6",
           "showlakes": true,
           "showland": true,
           "subunitcolor": "white"
          },
          "hoverlabel": {
           "align": "left"
          },
          "hovermode": "closest",
          "mapbox": {
           "style": "light"
          },
          "paper_bgcolor": "white",
          "plot_bgcolor": "#E5ECF6",
          "polar": {
           "angularaxis": {
            "gridcolor": "white",
            "linecolor": "white",
            "ticks": ""
           },
           "bgcolor": "#E5ECF6",
           "radialaxis": {
            "gridcolor": "white",
            "linecolor": "white",
            "ticks": ""
           }
          },
          "scene": {
           "xaxis": {
            "backgroundcolor": "#E5ECF6",
            "gridcolor": "white",
            "gridwidth": 2,
            "linecolor": "white",
            "showbackground": true,
            "ticks": "",
            "zerolinecolor": "white"
           },
           "yaxis": {
            "backgroundcolor": "#E5ECF6",
            "gridcolor": "white",
            "gridwidth": 2,
            "linecolor": "white",
            "showbackground": true,
            "ticks": "",
            "zerolinecolor": "white"
           },
           "zaxis": {
            "backgroundcolor": "#E5ECF6",
            "gridcolor": "white",
            "gridwidth": 2,
            "linecolor": "white",
            "showbackground": true,
            "ticks": "",
            "zerolinecolor": "white"
           }
          },
          "shapedefaults": {
           "line": {
            "color": "#2a3f5f"
           }
          },
          "ternary": {
           "aaxis": {
            "gridcolor": "white",
            "linecolor": "white",
            "ticks": ""
           },
           "baxis": {
            "gridcolor": "white",
            "linecolor": "white",
            "ticks": ""
           },
           "bgcolor": "#E5ECF6",
           "caxis": {
            "gridcolor": "white",
            "linecolor": "white",
            "ticks": ""
           }
          },
          "title": {
           "x": 0.05
          },
          "xaxis": {
           "automargin": true,
           "gridcolor": "white",
           "linecolor": "white",
           "ticks": "",
           "title": {
            "standoff": 15
           },
           "zerolinecolor": "white",
           "zerolinewidth": 2
          },
          "yaxis": {
           "automargin": true,
           "gridcolor": "white",
           "linecolor": "white",
           "ticks": "",
           "title": {
            "standoff": 15
           },
           "zerolinecolor": "white",
           "zerolinewidth": 2
          }
         }
        },
        "title": {
         "text": "height Distribution by Gender"
        },
        "xaxis": {
         "anchor": "y",
         "domain": [
          0,
          1
         ],
         "title": {
          "text": "height"
         }
        },
        "yaxis": {
         "anchor": "x",
         "domain": [
          0,
          1
         ],
         "title": {
          "text": "count"
         }
        }
       }
      }
     },
     "metadata": {},
     "output_type": "display_data"
    },
    {
     "data": {
      "application/vnd.plotly.v1+json": {
       "config": {
        "plotlyServerURL": "https://plot.ly"
       },
       "data": [
        {
         "alignmentgroup": "True",
         "bingroup": "x",
         "hovertemplate": "Gender=1<br>weight=%{x}<br>count=%{y}<extra></extra>",
         "legendgroup": "1",
         "marker": {
          "color": "#636efa",
          "opacity": 0.7,
          "pattern": {
           "shape": ""
          }
         },
         "name": "1",
         "nbinsx": 20,
         "offsetgroup": "1",
         "orientation": "v",
         "showlegend": true,
         "type": "histogram",
         "x": [
          80,
          71,
          84,
          65,
          78,
          93,
          84,
          88.37544696066746,
          88.37544696066746,
          88,
          83,
          87,
          87,
          109,
          88.37544696066746,
          88.37544696066746,
          88.37544696066746,
          88.37544696066746,
          96,
          71,
          89,
          88.37544696066746,
          88.37544696066746,
          80,
          88.37544696066746,
          88.37544696066746,
          88.37544696066746,
          88.37544696066746,
          88.37544696066746,
          80,
          88.37544696066746,
          75,
          89,
          96,
          88.37544696066746,
          88.37544696066746,
          84,
          88.37544696066746,
          80,
          78,
          65,
          88.37544696066746,
          88.37544696066746,
          83,
          96,
          84,
          93,
          80,
          84,
          73,
          88.37544696066746,
          99,
          88.37544696066746,
          65,
          80,
          80,
          96,
          96,
          78,
          76,
          88.37544696066746,
          88.37544696066746,
          90,
          85,
          88,
          84,
          83,
          84,
          87,
          91,
          88.37544696066746,
          82,
          74,
          89,
          88.37544696066746,
          82,
          88.37544696066746,
          88.37544696066746,
          88.37544696066746,
          96,
          84,
          82,
          71,
          103,
          88.37544696066746,
          88.37544696066746,
          90,
          91,
          84,
          91,
          87,
          82,
          91,
          88,
          88.37544696066746,
          88.37544696066746,
          83,
          89,
          100,
          98,
          88.37544696066746,
          88.37544696066746,
          88.37544696066746,
          89,
          88.37544696066746,
          88.37544696066746,
          88.37544696066746,
          88.37544696066746,
          89,
          80,
          91,
          88.37544696066746,
          88,
          88.37544696066746,
          109,
          88.37544696066746,
          88.37544696066746,
          88.37544696066746,
          88.37544696066746,
          71,
          82,
          89,
          87,
          72,
          98,
          88.37544696066746,
          88.37544696066746,
          88.37544696066746,
          84,
          84,
          84,
          88.37544696066746,
          88.37544696066746,
          88.37544696066746,
          96,
          96,
          88.37544696066746,
          88.37544696066746,
          88,
          88.37544696066746,
          89,
          84,
          69,
          77,
          84,
          75,
          88.37544696066746,
          82,
          88.37544696066746,
          100,
          88.37544696066746,
          62,
          109,
          88.37544696066746,
          98,
          105,
          81,
          88.37544696066746,
          80,
          75,
          88.37544696066746,
          107,
          107,
          85,
          97,
          98,
          88.37544696066746,
          96,
          88,
          87,
          84,
          84,
          103,
          91,
          98,
          80,
          109,
          90,
          93,
          100,
          99,
          89,
          87,
          88.37544696066746,
          89,
          75,
          96,
          65,
          83,
          93,
          78,
          89,
          97,
          91,
          84,
          84,
          82,
          84,
          80,
          90,
          73,
          98,
          83,
          88,
          87,
          88.37544696066746,
          90,
          96,
          88.37544696066746,
          82,
          78,
          88.37544696066746,
          87,
          78,
          75,
          88.37544696066746,
          82,
          87,
          103,
          88.37544696066746,
          88.37544696066746,
          88.37544696066746,
          98,
          88.37544696066746,
          73,
          80,
          89,
          80,
          82,
          93,
          66,
          91,
          84,
          85,
          98,
          88.37544696066746,
          63,
          89,
          88,
          65,
          99,
          85,
          80,
          84,
          89,
          97,
          88,
          98,
          107,
          82,
          98,
          89,
          96,
          98,
          84,
          83,
          88.37544696066746,
          78,
          103,
          87,
          87,
          98,
          91,
          82,
          80,
          89,
          82,
          88.37544696066746,
          88.37544696066746,
          91,
          100,
          85,
          84,
          91,
          83,
          88.37544696066746,
          90,
          88.37544696066746,
          82,
          90,
          88.37544696066746,
          84,
          88,
          98,
          89,
          87,
          87,
          82,
          96,
          80,
          98,
          99,
          65,
          82,
          84,
          100,
          89,
          87,
          91,
          80,
          88.37544696066746,
          82,
          93,
          87,
          97,
          84,
          89,
          87,
          87,
          100,
          91,
          89,
          98,
          98,
          91,
          92,
          82,
          88,
          91,
          81,
          89,
          89,
          92,
          88.37544696066746,
          103,
          94,
          96,
          88,
          96,
          85,
          89,
          88,
          99,
          87,
          85,
          96,
          82,
          91,
          80,
          107,
          87,
          89,
          100,
          98,
          89,
          87,
          84,
          84,
          87,
          87,
          98,
          100,
          65,
          92,
          83,
          91,
          95,
          82,
          91,
          82,
          84,
          89,
          92,
          103,
          105,
          89,
          91,
          88,
          87,
          93,
          96,
          89,
          98,
          91,
          87,
          100,
          50,
          88,
          96,
          89,
          85,
          88.37544696066746,
          91,
          79,
          82,
          98,
          103,
          107,
          91,
          96,
          89,
          84,
          82,
          95,
          87,
          87,
          87,
          99,
          91,
          93,
          84,
          85,
          93,
          103,
          84,
          91,
          92,
          96,
          91,
          89,
          89,
          85,
          84,
          89,
          82,
          93,
          93,
          80,
          82,
          50,
          83,
          89,
          81,
          85,
          88,
          89,
          96,
          79,
          85,
          97,
          89,
          87,
          82,
          82,
          87,
          89,
          87,
          87,
          98,
          98,
          90,
          89,
          84,
          84,
          84,
          78,
          96,
          100,
          89,
          87,
          93,
          65,
          93,
          89,
          91,
          87,
          84,
          87,
          94,
          88,
          93,
          84,
          96,
          89,
          89,
          85,
          91,
          89,
          89,
          87,
          82,
          98,
          85,
          90,
          87,
          87,
          89,
          93,
          98,
          93,
          87,
          82,
          88,
          95,
          92,
          93,
          82,
          92,
          91,
          89,
          89,
          89,
          85,
          84,
          88,
          96,
          96,
          89,
          92,
          93,
          80,
          90,
          88,
          88,
          89,
          98,
          107,
          89,
          89,
          89,
          100,
          90,
          85,
          89,
          87,
          93,
          93,
          93,
          89,
          79,
          96,
          87,
          94,
          89,
          87,
          92,
          88.37544696066746,
          91,
          87,
          84,
          87,
          98,
          91,
          82,
          82,
          84,
          88,
          83,
          103,
          98,
          86,
          89,
          98,
          90,
          93,
          83,
          87,
          89,
          100,
          91,
          89,
          87,
          87,
          85,
          89,
          93,
          87,
          89,
          83,
          93,
          88.37544696066746,
          89,
          78,
          90,
          96,
          91,
          98,
          94,
          96,
          77,
          92,
          84,
          89,
          87,
          91,
          82,
          79,
          84,
          98,
          98,
          83,
          80,
          88,
          84,
          91,
          90,
          89,
          89,
          96,
          100,
          87,
          87,
          90,
          98,
          88,
          78,
          85,
          89,
          93,
          87,
          83,
          86,
          91,
          87,
          84,
          88,
          84,
          88,
          89,
          93,
          84,
          90,
          87,
          89,
          98,
          83,
          79,
          88,
          100,
          102,
          89,
          91,
          91,
          88,
          93,
          103,
          89,
          87,
          87,
          85,
          87,
          89,
          82,
          86,
          84,
          87,
          90,
          93,
          94,
          83,
          89,
          89,
          96,
          86,
          90,
          93,
          88,
          87,
          100,
          88,
          93,
          96,
          89,
          89,
          89,
          87,
          85,
          84,
          90,
          91,
          93,
          87,
          87,
          96,
          82,
          92,
          100,
          99,
          87,
          92,
          95,
          88,
          87,
          85,
          88,
          85,
          79,
          86,
          90,
          82,
          90,
          87,
          74,
          88,
          84,
          81,
          77,
          93,
          96,
          95,
          84,
          83,
          76,
          91,
          87,
          90,
          89,
          94,
          88,
          90,
          76,
          86,
          88,
          88,
          88,
          78,
          85,
          93,
          87,
          84,
          89,
          84,
          78,
          89,
          90,
          103,
          88,
          80,
          84,
          90,
          81,
          91,
          96,
          80,
          85,
          91,
          90,
          80,
          90,
          68,
          86,
          90,
          98,
          79,
          82,
          84,
          89,
          84,
          80,
          84,
          81,
          70,
          84,
          80,
          84,
          86,
          72,
          86,
          80,
          80,
          86,
          91,
          72,
          84,
          66,
          82,
          74,
          75,
          70,
          84,
          66,
          86,
          71,
          88,
          74,
          86,
          75,
          64,
          84,
          85,
          89,
          94,
          89,
          86,
          90,
          89,
          87,
          87,
          89,
          93,
          90,
          89,
          103,
          98,
          100,
          93,
          80,
          85,
          93,
          90,
          82,
          84,
          91,
          89,
          93,
          93,
          93,
          89,
          98,
          103,
          89,
          89,
          100,
          87,
          82,
          87,
          88,
          93,
          90,
          86,
          85,
          93,
          90,
          90,
          96,
          102,
          90,
          94,
          100,
          87,
          89,
          85,
          93,
          93,
          85,
          89,
          91,
          98,
          92,
          93,
          87,
          85,
          92,
          89,
          86,
          88,
          87,
          87,
          85,
          103,
          89,
          103,
          91,
          94,
          90,
          89,
          100,
          93,
          87,
          88,
          84,
          87,
          90,
          91,
          87,
          100,
          88,
          93,
          98,
          82,
          85,
          87,
          98,
          94,
          93,
          93,
          96,
          85,
          86,
          93,
          90,
          84,
          97,
          91,
          93,
          95,
          92,
          85,
          99,
          80
         ],
         "xaxis": "x",
         "yaxis": "y"
        },
        {
         "alignmentgroup": "True",
         "bingroup": "x",
         "hovertemplate": "Gender=2<br>weight=%{x}<br>count=%{y}<extra></extra>",
         "legendgroup": "2",
         "marker": {
          "color": "#EF553B",
          "opacity": 0.7,
          "pattern": {
           "shape": ""
          }
         },
         "name": "2",
         "nbinsx": 20,
         "offsetgroup": "2",
         "orientation": "v",
         "showlegend": true,
         "type": "histogram",
         "x": [
          65.66385372714487,
          65.66385372714487,
          65.66385372714487,
          65.66385372714487,
          65,
          65.66385372714487,
          65.66385372714487,
          53,
          65.66385372714487,
          65.66385372714487,
          65.66385372714487,
          65.66385372714487,
          65.66385372714487,
          65.66385372714487,
          65.66385372714487,
          65.66385372714487,
          64,
          65.66385372714487,
          65.66385372714487,
          65.66385372714487,
          65.66385372714487,
          69,
          65.66385372714487,
          83,
          65.66385372714487,
          65.66385372714487,
          69,
          65.66385372714487,
          65.66385372714487,
          65.66385372714487,
          71,
          57,
          69,
          65.66385372714487,
          63,
          67,
          65.66385372714487,
          65.66385372714487,
          65.66385372714487,
          65.66385372714487,
          71,
          64,
          54,
          65.66385372714487,
          65.66385372714487,
          65.66385372714487,
          72,
          70,
          69,
          65.66385372714487,
          65.66385372714487,
          65.66385372714487,
          69,
          65.66385372714487,
          65.66385372714487,
          50,
          69,
          65.66385372714487,
          63,
          59,
          72,
          62,
          65.66385372714487,
          62,
          69,
          71,
          69,
          71,
          65.66385372714487,
          77,
          75,
          83,
          62,
          78,
          64,
          69,
          65.66385372714487,
          65.66385372714487,
          65.66385372714487,
          74,
          63,
          59,
          65.66385372714487,
          71,
          65.66385372714487,
          67,
          73,
          65.66385372714487,
          59,
          65.66385372714487,
          66,
          65,
          62,
          65.66385372714487,
          59,
          57,
          65.66385372714487,
          65.66385372714487,
          65.66385372714487,
          65.66385372714487,
          55,
          64,
          59,
          65.66385372714487,
          55,
          65.66385372714487,
          62,
          65.66385372714487,
          71,
          65.66385372714487,
          65.66385372714487,
          59,
          65.66385372714487,
          65.66385372714487,
          65.66385372714487,
          65.66385372714487,
          65.66385372714487,
          65.66385372714487,
          54,
          55,
          50,
          63,
          69,
          65.66385372714487,
          65.66385372714487,
          62,
          57,
          65.66385372714487,
          59,
          69,
          62,
          63,
          62,
          62,
          69,
          62,
          59,
          64,
          57,
          72,
          60,
          65,
          64,
          63,
          65.66385372714487,
          68,
          62,
          89,
          62,
          75,
          50,
          59,
          66,
          65.66385372714487,
          66,
          63,
          64,
          69,
          65.66385372714487,
          68,
          65.66385372714487,
          77,
          75,
          66,
          65.66385372714487,
          65.66385372714487,
          65.66385372714487,
          64,
          60,
          62,
          65.66385372714487,
          65.66385372714487,
          73,
          69,
          59,
          69,
          62,
          62,
          69,
          60,
          59,
          56,
          71,
          62,
          63,
          72,
          65.66385372714487,
          71,
          72,
          64,
          62,
          70,
          78,
          62,
          69,
          57,
          59,
          59,
          62,
          61,
          63,
          66,
          64,
          66,
          67,
          59,
          69,
          66,
          63,
          65,
          63,
          80,
          63,
          61,
          62,
          64,
          69,
          65.66385372714487,
          66,
          65.66385372714487,
          69,
          62,
          69,
          59,
          62,
          59,
          72,
          69,
          69,
          69,
          62,
          65,
          66,
          59,
          60,
          71,
          66,
          78,
          74,
          62,
          72,
          67,
          55,
          59,
          67,
          63,
          71,
          64,
          61,
          69,
          62,
          59,
          71,
          63,
          59,
          80,
          69,
          63,
          66,
          65.66385372714487,
          66,
          64,
          82,
          58,
          66,
          62,
          69,
          62,
          71,
          69,
          64,
          62,
          64,
          65,
          72,
          69,
          74,
          59,
          75,
          66,
          59,
          67,
          69,
          69,
          65,
          66,
          63,
          59,
          69,
          59,
          69,
          71,
          67,
          64,
          55,
          62,
          59,
          58,
          63,
          65,
          64,
          69,
          70,
          69,
          62,
          65.66385372714487,
          59,
          59,
          63,
          59,
          69,
          62,
          59,
          62,
          62,
          73,
          64,
          64,
          64,
          62,
          64,
          59,
          72,
          68,
          59,
          58,
          69,
          63,
          65,
          62,
          65,
          71,
          69,
          59,
          66,
          59,
          61,
          62,
          67,
          74,
          69,
          69,
          69,
          72,
          63,
          65.66385372714487,
          71,
          61,
          59,
          64,
          64,
          75,
          69,
          58,
          69,
          62,
          74,
          68,
          69,
          72,
          69,
          65,
          65,
          68,
          59,
          69,
          69,
          69,
          59,
          59,
          75,
          59,
          64,
          65,
          58,
          62,
          72,
          64,
          65,
          59,
          64,
          65,
          69,
          71,
          67,
          62,
          67,
          64,
          59,
          69,
          58,
          69,
          69,
          58,
          69,
          62,
          64,
          69,
          74,
          60,
          71,
          65,
          72,
          59,
          69,
          65,
          73,
          59,
          68,
          69,
          59,
          72,
          59,
          69,
          64,
          62,
          64,
          68,
          61,
          65,
          62,
          71,
          64,
          69,
          69,
          59,
          69,
          63,
          62,
          64,
          63,
          59,
          58,
          74,
          69,
          69,
          69,
          72,
          59,
          62,
          62,
          64,
          71,
          64,
          60,
          69,
          65,
          62,
          68,
          59,
          72,
          69,
          59,
          66,
          71,
          69,
          65,
          75,
          65,
          69,
          67,
          64,
          62,
          62,
          64,
          70,
          63,
          66,
          66,
          64,
          59,
          62,
          58,
          70,
          69,
          74,
          69,
          64,
          59,
          69,
          60,
          64,
          62,
          72,
          59,
          71,
          73,
          66,
          72,
          71,
          65,
          63,
          68,
          69,
          69,
          69,
          67,
          59,
          69,
          75,
          67,
          60,
          64,
          65,
          69,
          64,
          69,
          63,
          69,
          64,
          62,
          71,
          58,
          59,
          62,
          69,
          64,
          64,
          73,
          66,
          63,
          59,
          69,
          69,
          66,
          71,
          70,
          69,
          65,
          62,
          69,
          69,
          65,
          72,
          63,
          69,
          62,
          71,
          78,
          76,
          69,
          69,
          65,
          68,
          62,
          70,
          70,
          66,
          65,
          81,
          59,
          62,
          59,
          60,
          70,
          68,
          71,
          70,
          67,
          65,
          58,
          66,
          66,
          66,
          69,
          68,
          70,
          64,
          69,
          58,
          68,
          64,
          60,
          58,
          64,
          69,
          73,
          59,
          52,
          59,
          61,
          67,
          65,
          65.66385372714487,
          63,
          70,
          69,
          57,
          75,
          63,
          66,
          70,
          69,
          68,
          58,
          57,
          55,
          60,
          69,
          59,
          59,
          57,
          65,
          62,
          54,
          58,
          61,
          68,
          59,
          75,
          63,
          80,
          64,
          54,
          57,
          60,
          59,
          52,
          63,
          58,
          66,
          70,
          62,
          61,
          65,
          57,
          64,
          53,
          64,
          74,
          68,
          60,
          74,
          68,
          66,
          74,
          57,
          57,
          60,
          65,
          65,
          60,
          77,
          58,
          69,
          64,
          64,
          69,
          59,
          73,
          74,
          60,
          70,
          65,
          62,
          77,
          72,
          71,
          63,
          63,
          75,
          65,
          66,
          69,
          58,
          69,
          70,
          62,
          75,
          62,
          68,
          70,
          64,
          58,
          70,
          69,
          59,
          64,
          75,
          62,
          60,
          73,
          69,
          71,
          65,
          59,
          65,
          69,
          64,
          67,
          62,
          68,
          69,
          62,
          71,
          71,
          75,
          71,
          72,
          66,
          70,
          69,
          67,
          61,
          69,
          61,
          71,
          77,
          74,
          64,
          62,
          66,
          60,
          58,
          62,
          70,
          69,
          69,
          64,
          74,
          75,
          64,
          71,
          66,
          65,
          60,
          73,
          67,
          73,
          78,
          72,
          70,
          72,
          65,
          59,
          66,
          69,
          71,
          71,
          72,
          62,
          64,
          58,
          71,
          69,
          64,
          70,
          60,
          61,
          67,
          63,
          60,
          69
         ],
         "xaxis": "x",
         "yaxis": "y"
        }
       ],
       "layout": {
        "barmode": "relative",
        "legend": {
         "title": {
          "text": "Gender"
         },
         "tracegroupgap": 0
        },
        "template": {
         "data": {
          "bar": [
           {
            "error_x": {
             "color": "#2a3f5f"
            },
            "error_y": {
             "color": "#2a3f5f"
            },
            "marker": {
             "line": {
              "color": "#E5ECF6",
              "width": 0.5
             },
             "pattern": {
              "fillmode": "overlay",
              "size": 10,
              "solidity": 0.2
             }
            },
            "type": "bar"
           }
          ],
          "barpolar": [
           {
            "marker": {
             "line": {
              "color": "#E5ECF6",
              "width": 0.5
             },
             "pattern": {
              "fillmode": "overlay",
              "size": 10,
              "solidity": 0.2
             }
            },
            "type": "barpolar"
           }
          ],
          "carpet": [
           {
            "aaxis": {
             "endlinecolor": "#2a3f5f",
             "gridcolor": "white",
             "linecolor": "white",
             "minorgridcolor": "white",
             "startlinecolor": "#2a3f5f"
            },
            "baxis": {
             "endlinecolor": "#2a3f5f",
             "gridcolor": "white",
             "linecolor": "white",
             "minorgridcolor": "white",
             "startlinecolor": "#2a3f5f"
            },
            "type": "carpet"
           }
          ],
          "choropleth": [
           {
            "colorbar": {
             "outlinewidth": 0,
             "ticks": ""
            },
            "type": "choropleth"
           }
          ],
          "contour": [
           {
            "colorbar": {
             "outlinewidth": 0,
             "ticks": ""
            },
            "colorscale": [
             [
              0,
              "#0d0887"
             ],
             [
              0.1111111111111111,
              "#46039f"
             ],
             [
              0.2222222222222222,
              "#7201a8"
             ],
             [
              0.3333333333333333,
              "#9c179e"
             ],
             [
              0.4444444444444444,
              "#bd3786"
             ],
             [
              0.5555555555555556,
              "#d8576b"
             ],
             [
              0.6666666666666666,
              "#ed7953"
             ],
             [
              0.7777777777777778,
              "#fb9f3a"
             ],
             [
              0.8888888888888888,
              "#fdca26"
             ],
             [
              1,
              "#f0f921"
             ]
            ],
            "type": "contour"
           }
          ],
          "contourcarpet": [
           {
            "colorbar": {
             "outlinewidth": 0,
             "ticks": ""
            },
            "type": "contourcarpet"
           }
          ],
          "heatmap": [
           {
            "colorbar": {
             "outlinewidth": 0,
             "ticks": ""
            },
            "colorscale": [
             [
              0,
              "#0d0887"
             ],
             [
              0.1111111111111111,
              "#46039f"
             ],
             [
              0.2222222222222222,
              "#7201a8"
             ],
             [
              0.3333333333333333,
              "#9c179e"
             ],
             [
              0.4444444444444444,
              "#bd3786"
             ],
             [
              0.5555555555555556,
              "#d8576b"
             ],
             [
              0.6666666666666666,
              "#ed7953"
             ],
             [
              0.7777777777777778,
              "#fb9f3a"
             ],
             [
              0.8888888888888888,
              "#fdca26"
             ],
             [
              1,
              "#f0f921"
             ]
            ],
            "type": "heatmap"
           }
          ],
          "heatmapgl": [
           {
            "colorbar": {
             "outlinewidth": 0,
             "ticks": ""
            },
            "colorscale": [
             [
              0,
              "#0d0887"
             ],
             [
              0.1111111111111111,
              "#46039f"
             ],
             [
              0.2222222222222222,
              "#7201a8"
             ],
             [
              0.3333333333333333,
              "#9c179e"
             ],
             [
              0.4444444444444444,
              "#bd3786"
             ],
             [
              0.5555555555555556,
              "#d8576b"
             ],
             [
              0.6666666666666666,
              "#ed7953"
             ],
             [
              0.7777777777777778,
              "#fb9f3a"
             ],
             [
              0.8888888888888888,
              "#fdca26"
             ],
             [
              1,
              "#f0f921"
             ]
            ],
            "type": "heatmapgl"
           }
          ],
          "histogram": [
           {
            "marker": {
             "pattern": {
              "fillmode": "overlay",
              "size": 10,
              "solidity": 0.2
             }
            },
            "type": "histogram"
           }
          ],
          "histogram2d": [
           {
            "colorbar": {
             "outlinewidth": 0,
             "ticks": ""
            },
            "colorscale": [
             [
              0,
              "#0d0887"
             ],
             [
              0.1111111111111111,
              "#46039f"
             ],
             [
              0.2222222222222222,
              "#7201a8"
             ],
             [
              0.3333333333333333,
              "#9c179e"
             ],
             [
              0.4444444444444444,
              "#bd3786"
             ],
             [
              0.5555555555555556,
              "#d8576b"
             ],
             [
              0.6666666666666666,
              "#ed7953"
             ],
             [
              0.7777777777777778,
              "#fb9f3a"
             ],
             [
              0.8888888888888888,
              "#fdca26"
             ],
             [
              1,
              "#f0f921"
             ]
            ],
            "type": "histogram2d"
           }
          ],
          "histogram2dcontour": [
           {
            "colorbar": {
             "outlinewidth": 0,
             "ticks": ""
            },
            "colorscale": [
             [
              0,
              "#0d0887"
             ],
             [
              0.1111111111111111,
              "#46039f"
             ],
             [
              0.2222222222222222,
              "#7201a8"
             ],
             [
              0.3333333333333333,
              "#9c179e"
             ],
             [
              0.4444444444444444,
              "#bd3786"
             ],
             [
              0.5555555555555556,
              "#d8576b"
             ],
             [
              0.6666666666666666,
              "#ed7953"
             ],
             [
              0.7777777777777778,
              "#fb9f3a"
             ],
             [
              0.8888888888888888,
              "#fdca26"
             ],
             [
              1,
              "#f0f921"
             ]
            ],
            "type": "histogram2dcontour"
           }
          ],
          "mesh3d": [
           {
            "colorbar": {
             "outlinewidth": 0,
             "ticks": ""
            },
            "type": "mesh3d"
           }
          ],
          "parcoords": [
           {
            "line": {
             "colorbar": {
              "outlinewidth": 0,
              "ticks": ""
             }
            },
            "type": "parcoords"
           }
          ],
          "pie": [
           {
            "automargin": true,
            "type": "pie"
           }
          ],
          "scatter": [
           {
            "fillpattern": {
             "fillmode": "overlay",
             "size": 10,
             "solidity": 0.2
            },
            "type": "scatter"
           }
          ],
          "scatter3d": [
           {
            "line": {
             "colorbar": {
              "outlinewidth": 0,
              "ticks": ""
             }
            },
            "marker": {
             "colorbar": {
              "outlinewidth": 0,
              "ticks": ""
             }
            },
            "type": "scatter3d"
           }
          ],
          "scattercarpet": [
           {
            "marker": {
             "colorbar": {
              "outlinewidth": 0,
              "ticks": ""
             }
            },
            "type": "scattercarpet"
           }
          ],
          "scattergeo": [
           {
            "marker": {
             "colorbar": {
              "outlinewidth": 0,
              "ticks": ""
             }
            },
            "type": "scattergeo"
           }
          ],
          "scattergl": [
           {
            "marker": {
             "colorbar": {
              "outlinewidth": 0,
              "ticks": ""
             }
            },
            "type": "scattergl"
           }
          ],
          "scattermapbox": [
           {
            "marker": {
             "colorbar": {
              "outlinewidth": 0,
              "ticks": ""
             }
            },
            "type": "scattermapbox"
           }
          ],
          "scatterpolar": [
           {
            "marker": {
             "colorbar": {
              "outlinewidth": 0,
              "ticks": ""
             }
            },
            "type": "scatterpolar"
           }
          ],
          "scatterpolargl": [
           {
            "marker": {
             "colorbar": {
              "outlinewidth": 0,
              "ticks": ""
             }
            },
            "type": "scatterpolargl"
           }
          ],
          "scatterternary": [
           {
            "marker": {
             "colorbar": {
              "outlinewidth": 0,
              "ticks": ""
             }
            },
            "type": "scatterternary"
           }
          ],
          "surface": [
           {
            "colorbar": {
             "outlinewidth": 0,
             "ticks": ""
            },
            "colorscale": [
             [
              0,
              "#0d0887"
             ],
             [
              0.1111111111111111,
              "#46039f"
             ],
             [
              0.2222222222222222,
              "#7201a8"
             ],
             [
              0.3333333333333333,
              "#9c179e"
             ],
             [
              0.4444444444444444,
              "#bd3786"
             ],
             [
              0.5555555555555556,
              "#d8576b"
             ],
             [
              0.6666666666666666,
              "#ed7953"
             ],
             [
              0.7777777777777778,
              "#fb9f3a"
             ],
             [
              0.8888888888888888,
              "#fdca26"
             ],
             [
              1,
              "#f0f921"
             ]
            ],
            "type": "surface"
           }
          ],
          "table": [
           {
            "cells": {
             "fill": {
              "color": "#EBF0F8"
             },
             "line": {
              "color": "white"
             }
            },
            "header": {
             "fill": {
              "color": "#C8D4E3"
             },
             "line": {
              "color": "white"
             }
            },
            "type": "table"
           }
          ]
         },
         "layout": {
          "annotationdefaults": {
           "arrowcolor": "#2a3f5f",
           "arrowhead": 0,
           "arrowwidth": 1
          },
          "autotypenumbers": "strict",
          "coloraxis": {
           "colorbar": {
            "outlinewidth": 0,
            "ticks": ""
           }
          },
          "colorscale": {
           "diverging": [
            [
             0,
             "#8e0152"
            ],
            [
             0.1,
             "#c51b7d"
            ],
            [
             0.2,
             "#de77ae"
            ],
            [
             0.3,
             "#f1b6da"
            ],
            [
             0.4,
             "#fde0ef"
            ],
            [
             0.5,
             "#f7f7f7"
            ],
            [
             0.6,
             "#e6f5d0"
            ],
            [
             0.7,
             "#b8e186"
            ],
            [
             0.8,
             "#7fbc41"
            ],
            [
             0.9,
             "#4d9221"
            ],
            [
             1,
             "#276419"
            ]
           ],
           "sequential": [
            [
             0,
             "#0d0887"
            ],
            [
             0.1111111111111111,
             "#46039f"
            ],
            [
             0.2222222222222222,
             "#7201a8"
            ],
            [
             0.3333333333333333,
             "#9c179e"
            ],
            [
             0.4444444444444444,
             "#bd3786"
            ],
            [
             0.5555555555555556,
             "#d8576b"
            ],
            [
             0.6666666666666666,
             "#ed7953"
            ],
            [
             0.7777777777777778,
             "#fb9f3a"
            ],
            [
             0.8888888888888888,
             "#fdca26"
            ],
            [
             1,
             "#f0f921"
            ]
           ],
           "sequentialminus": [
            [
             0,
             "#0d0887"
            ],
            [
             0.1111111111111111,
             "#46039f"
            ],
            [
             0.2222222222222222,
             "#7201a8"
            ],
            [
             0.3333333333333333,
             "#9c179e"
            ],
            [
             0.4444444444444444,
             "#bd3786"
            ],
            [
             0.5555555555555556,
             "#d8576b"
            ],
            [
             0.6666666666666666,
             "#ed7953"
            ],
            [
             0.7777777777777778,
             "#fb9f3a"
            ],
            [
             0.8888888888888888,
             "#fdca26"
            ],
            [
             1,
             "#f0f921"
            ]
           ]
          },
          "colorway": [
           "#636efa",
           "#EF553B",
           "#00cc96",
           "#ab63fa",
           "#FFA15A",
           "#19d3f3",
           "#FF6692",
           "#B6E880",
           "#FF97FF",
           "#FECB52"
          ],
          "font": {
           "color": "#2a3f5f"
          },
          "geo": {
           "bgcolor": "white",
           "lakecolor": "white",
           "landcolor": "#E5ECF6",
           "showlakes": true,
           "showland": true,
           "subunitcolor": "white"
          },
          "hoverlabel": {
           "align": "left"
          },
          "hovermode": "closest",
          "mapbox": {
           "style": "light"
          },
          "paper_bgcolor": "white",
          "plot_bgcolor": "#E5ECF6",
          "polar": {
           "angularaxis": {
            "gridcolor": "white",
            "linecolor": "white",
            "ticks": ""
           },
           "bgcolor": "#E5ECF6",
           "radialaxis": {
            "gridcolor": "white",
            "linecolor": "white",
            "ticks": ""
           }
          },
          "scene": {
           "xaxis": {
            "backgroundcolor": "#E5ECF6",
            "gridcolor": "white",
            "gridwidth": 2,
            "linecolor": "white",
            "showbackground": true,
            "ticks": "",
            "zerolinecolor": "white"
           },
           "yaxis": {
            "backgroundcolor": "#E5ECF6",
            "gridcolor": "white",
            "gridwidth": 2,
            "linecolor": "white",
            "showbackground": true,
            "ticks": "",
            "zerolinecolor": "white"
           },
           "zaxis": {
            "backgroundcolor": "#E5ECF6",
            "gridcolor": "white",
            "gridwidth": 2,
            "linecolor": "white",
            "showbackground": true,
            "ticks": "",
            "zerolinecolor": "white"
           }
          },
          "shapedefaults": {
           "line": {
            "color": "#2a3f5f"
           }
          },
          "ternary": {
           "aaxis": {
            "gridcolor": "white",
            "linecolor": "white",
            "ticks": ""
           },
           "baxis": {
            "gridcolor": "white",
            "linecolor": "white",
            "ticks": ""
           },
           "bgcolor": "#E5ECF6",
           "caxis": {
            "gridcolor": "white",
            "linecolor": "white",
            "ticks": ""
           }
          },
          "title": {
           "x": 0.05
          },
          "xaxis": {
           "automargin": true,
           "gridcolor": "white",
           "linecolor": "white",
           "ticks": "",
           "title": {
            "standoff": 15
           },
           "zerolinecolor": "white",
           "zerolinewidth": 2
          },
          "yaxis": {
           "automargin": true,
           "gridcolor": "white",
           "linecolor": "white",
           "ticks": "",
           "title": {
            "standoff": 15
           },
           "zerolinecolor": "white",
           "zerolinewidth": 2
          }
         }
        },
        "title": {
         "text": "weight Distribution by Gender"
        },
        "xaxis": {
         "anchor": "y",
         "domain": [
          0,
          1
         ],
         "title": {
          "text": "weight"
         }
        },
        "yaxis": {
         "anchor": "x",
         "domain": [
          0,
          1
         ],
         "title": {
          "text": "count"
         }
        }
       }
      }
     },
     "metadata": {},
     "output_type": "display_data"
    },
    {
     "data": {
      "application/vnd.plotly.v1+json": {
       "config": {
        "plotlyServerURL": "https://plot.ly"
       },
       "data": [
        {
         "alignmentgroup": "True",
         "bingroup": "x",
         "hovertemplate": "Gender=1<br>bmi=%{x}<br>count=%{y}<extra></extra>",
         "legendgroup": "1",
         "marker": {
          "color": "#636efa",
          "opacity": 0.7,
          "pattern": {
           "shape": ""
          }
         },
         "name": "1",
         "nbinsx": 20,
         "offsetgroup": "1",
         "orientation": "v",
         "showlegend": true,
         "type": "histogram",
         "x": [
          25.826446280991732,
          25.15589569160998,
          27.117768595041323,
          23.588329220496444,
          26.674874320303687,
          28.084429605483876,
          25.082863029651524,
          28.084429605483876,
          28.084429605483876,
          26.8612069228656,
          26.19618735008206,
          30.824829931972797,
          29.06879615089044,
          29.87856692524876,
          28.084429605483876,
          28.084429605483876,
          28.084429605483876,
          28.084429605483876,
          28.6661291767446,
          24.28097534284053,
          25.725517400855587,
          28.084429605483876,
          28.084429605483876,
          25.826446280991732,
          28.084429605483876,
          28.084429605483876,
          28.084429605483876,
          28.084429605483876,
          28.084429605483876,
          27.358845456721728,
          28.084429605483876,
          23.671253629592226,
          27.16644791062544,
          28.084429605483876,
          28.084429605483876,
          28.084429605483876,
          37.333333333333336,
          28.084429605483876,
          27.358845456721728,
          25.180785123966945,
          25.076193048107708,
          28.084429605483876,
          28.084429605483876,
          25.33500198406642,
          30.991735537190085,
          27.117768595041323,
          28.084429605483876,
          27.358845456721728,
          27.117768595041323,
          26.491508201480624,
          28.084429605483876,
          31.960227272727277,
          28.084429605483876,
          23.588329220496444,
          29.03178980984178,
          25.826446280991732,
          27.16161158895428,
          28.6661291767446,
          26.674874320303687,
          25.99090318388564,
          28.084429605483876,
          28.084429605483876,
          29.054752066115704,
          26.82742078020452,
          26.8612069228656,
          25.082863029651524,
          26.19618735008206,
          26.511804065143288,
          29.06879615089044,
          29.3775826446281,
          28.084429605483876,
          28.04281659313977,
          26.218820861678008,
          27.16644791062544,
          28.084429605483876,
          30.863035868869737,
          28.084429605483876,
          28.084429605483876,
          28.084429605483876,
          29.30313482494429,
          37.333333333333336,
          27.39817568244846,
          25.15589569160998,
          34.414781649904775,
          28.084429605483876,
          28.084429605483876,
          29.054752066115704,
          29.3775826446281,
          24.280263614290668,
          24.94449165318933,
          30.824829931972797,
          25.88057063502083,
          29.3775826446281,
          28.084429605483876,
          28.084429605483876,
          28.084429605483876,
          26.19618735008206,
          27.16644791062544,
          26.570305027101718,
          28.326974216672443,
          28.084429605483876,
          28.084429605483876,
          28.084429605483876,
          28.08988764044944,
          28.084429605483876,
          28.084429605483876,
          28.084429605483876,
          28.084429605483876,
          26.575890590940304,
          25.24933720489837,
          28.084429605483876,
          28.084429605483876,
          25.4364666435426,
          28.084429605483876,
          29.87856692524876,
          28.084429605483876,
          28.084429605483876,
          28.084429605483876,
          28.084429605483876,
          28.44095497516423,
          26.47210743801653,
          28.08988764044944,
          28.08626033057851,
          24.0569347455645,
          28.326974216672443,
          28.084429605483876,
          28.084429605483876,
          28.084429605483876,
          26.511804065143288,
          25.640242971826257,
          28.06642386982525,
          28.084429605483876,
          28.084429605483876,
          28.084429605483876,
          29.30313482494429,
          30.29920464587805,
          28.084429605483876,
          28.084429605483876,
          28.40909090909091,
          28.084429605483876,
          25.18107741059303,
          28.06642386982525,
          26.61934338952972,
          25.72755521400648,
          28.06642386982525,
          23.671253629592226,
          28.084429605483876,
          24.48565200513601,
          28.084429605483876,
          32.28305785123967,
          28.084429605483876,
          23.335466144755166,
          34.79204570844904,
          28.084429605483876,
          28.084429605483876,
          29.708012675418743,
          28.084429605483876,
          28.084429605483876,
          25.24933720489837,
          23.671253629592226,
          28.084429605483876,
          27.01951970909825,
          31.95078981157992,
          27.755102040816325,
          28.037923459359455,
          27.727478497057493,
          28.084429605483876,
          30.991735537190085,
          26.8612069228656,
          25.97867956642479,
          26.511804065143288,
          25.640242971826257,
          29.14214576731553,
          26.303618915481557,
          27.727478497057493,
          25.826446280991732,
          29.87856692524876,
          26.01456815816857,
          28.084429605483876,
          27.411529289219047,
          31.960227272727277,
          27.16644791062544,
          27.458654210326976,
          28.084429605483876,
          29.737044338267232,
          25.05930702662969,
          29.30313482494429,
          23.588329220496444,
          26.19618735008206,
          28.387411861664784,
          26.674874320303687,
          28.08988764044944,
          29.60837581270413,
          28.40111107643332,
          28.084429605483876,
          27.117768595041323,
          25.029760996306585,
          27.117768595041323,
          27.358845456721728,
          29.054752066115704,
          26.491508201480624,
          28.326974216672443,
          26.794938016528928,
          28.084429605483876,
          29.06879615089044,
          28.084429605483876,
          29.054752066115704,
          28.6661291767446,
          28.084429605483876,
          27.39817568244846,
          26.674874320303687,
          28.084429605483876,
          26.85185185185185,
          23.291229956104985,
          25.64891761567662,
          28.084429605483876,
          25.029760996306585,
          29.06879615089044,
          31.43982173926315,
          28.084429605483876,
          28.084429605483876,
          28.084429605483876,
          29.26334020126011,
          28.084429605483876,
          24.3910588392529,
          26.729927495071667,
          27.16644791062544,
          24.69135802469136,
          28.04281659313977,
          23.484255448094743,
          25.461980633463213,
          29.3775826446281,
          28.06642386982525,
          26.82742078020452,
          28.326974216672443,
          28.084429605483876,
          24.91990032039872,
          27.16644791062544,
          28.40909090909091,
          23.588329220496444,
          31.960227272727277,
          27.755102040816325,
          29.03178980984178,
          26.511804065143288,
          27.16644791062544,
          28.037923459359455,
          26.8612069228656,
          29.913616800463966,
          30.9284310324893,
          25.029760996306585,
          27.727478497057493,
          29.737044338267232,
          30.991735537190085,
          27.727478497057493,
          28.06642386982525,
          26.19618735008206,
          28.084429605483876,
          26.674874320303687,
          29.14214576731553,
          25.97867956642479,
          28.08626033057851,
          30.930438076000502,
          28.40111107643332,
          31.634581999151266,
          25.826446280991732,
          26.575890590940304,
          26.47210743801653,
          28.084429605483876,
          28.084429605483876,
          25.746944318696244,
          27.411529289219047,
          26.82742078020452,
          28.084429605483876,
          26.303618915481557,
          24.78425751739377,
          28.084429605483876,
          26.01456815816857,
          28.084429605483876,
          25.592209980961893,
          25.46401086464464,
          28.084429605483876,
          23.766410140334997,
          28.40909090909091,
          29.913616800463966,
          27.16644791062544,
          26.555965935105768,
          25.97867956642479,
          28.04281659313977,
          30.991735537190085,
          27.358845456721728,
          27.727478497057493,
          31.960227272727277,
          23.588329220496444,
          28.04281659313977,
          26.511804065143288,
          28.90507573129841,
          26.575890590940304,
          26.555965935105768,
          28.40111107643332,
          29.03178980984178,
          28.084429605483876,
          28.04281659313977,
          28.387411861664784,
          26.555965935105768,
          28.037923459359455,
          26.511804065143288,
          28.731921487603305,
          29.06879615089044,
          28.08626033057851,
          26.03082049146189,
          28.721121070571897,
          29.396221429515126,
          29.913616800463966,
          30.930438076000502,
          28.721121070571897,
          29.036737785633125,
          25.88057063502083,
          27.77427092538821,
          27.173101615455817,
          28.69897959183674,
          26.575890590940304,
          28.08988764044944,
          29.036737785633125,
          28.084429605483876,
          29.14214576731553,
          27.170771187420502,
          28.6661291767446,
          27.77427092538821,
          30.29920464587805,
          27.755102040816325,
          29.737044338267232,
          28.40909090909091,
          31.960227272727277,
          29.06879615089044,
          27.44059917355372,
          30.991735537190085,
          28.04281659313977,
          28.721121070571897,
          29.03178980984178,
          30.9284310324893,
          26.555965935105768,
          27.16644791062544,
          28.90507573129841,
          27.727478497057493,
          28.731921487603305,
          29.06879615089044,
          26.511804065143288,
          28.06642386982525,
          28.08626033057851,
          26.555965935105768,
          30.930438076000502,
          26.03082049146189,
          23.588329220496444,
          29.036737785633125,
          25.057360222195385,
          28.721121070571897,
          28.367523664486843,
          25.029760996306585,
          27.173101615455817,
          28.04281659313977,
          27.74474831549742,
          28.08988764044944,
          29.036737785633125,
          29.14214576731553,
          31.353578787064404,
          29.396221429515126,
          28.721121070571897,
          30.094730002393906,
          27.458654210326976,
          27.77031263997133,
          28.6661291767446,
          29.06122448979592,
          29.913616800463966,
          29.3775826446281,
          29.75274443418488,
          29.860551225775623,
          19.05197378448407,
          28.40909090909091,
          30.991735537190085,
          27.16644791062544,
          27.44059917355372,
          28.084429605483876,
          28.721121070571897,
          28.668892437218755,
          28.04281659313977,
          30.930438076000502,
          29.14214576731553,
          30.9284310324893,
          28.721121070571897,
          29.30313482494429,
          27.16644791062544,
          27.74474831549742,
          28.04281659313977,
          28.367523664486843,
          38.66666666666666,
          29.06879615089044,
          29.06879615089044,
          31.960227272727277,
          30.405292525644025,
          26.881720430107524,
          26.511804065143288,
          28.075042938300964,
          28.387411861664784,
          26.81174510620575,
          28.06642386982525,
          29.3775826446281,
          29.036737785633125,
          27.74887270204648,
          28.721121070571897,
          29.396221429515126,
          28.731921487603305,
          25.94548395958609,
          24.280263614290668,
          28.08988764044944,
          25.88057063502083,
          28.387411861664784,
          28.387411861664784,
          29.03178980984178,
          28.04281659313977,
          19.05197378448407,
          26.19618735008206,
          29.06122448979592,
          26.14927685950413,
          27.755102040816325,
          28.40909090909091,
          30.436715570602924,
          30.991735537190085,
          28.668892437218755,
          27.44059917355372,
          28.037923459359455,
          27.16644791062544,
          29.75274443418488,
          28.04281659313977,
          28.04281659313977,
          25.97867956642479,
          29.396221429515126,
          29.06879615089044,
          28.08626033057851,
          30.930438076000502,
          29.913616800463966,
          27.471688898385278,
          30.436715570602924,
          28.06642386982525,
          26.511804065143288,
          28.06642386982525,
          26.674874320303687,
          28.6661291767446,
          28.90507573129841,
          28.08988764044944,
          27.458654210326976,
          27.77031263997133,
          23.588329220496444,
          28.387411861664784,
          29.06122448979592,
          28.721121070571897,
          29.75274443418488,
          26.511804065143288,
          29.06879615089044,
          28.068918152229088,
          28.40909090909091,
          26.881720430107524,
          24.280263614290668,
          29.30313482494429,
          39.55555555555556,
          29.737044338267232,
          27.755102040816325,
          28.721121070571897,
          27.16644791062544,
          30.436715570602924,
          27.458654210326976,
          28.04281659313977,
          27.727478497057493,
          27.44059917355372,
          27.471688898385278,
          29.75274443418488,
          29.75274443418488,
          30.436715570602924,
          28.387411861664784,
          28.326974216672443,
          29.35235450069436,
          29.06879615089044,
          30.119375573921037,
          26.27728507868255,
          27.166919271354622,
          29.036737785633125,
          26.881720430107524,
          27.39817568244846,
          29.036737785633125,
          30.405292525644025,
          29.396221429515126,
          27.16644791062544,
          30.436715570602924,
          28.40054796351365,
          26.511804065143288,
          27.77427092538821,
          29.629629629629623,
          28.6661291767446,
          28.731921487603305,
          29.700413223140497,
          27.77031263997133,
          29.03178980984178,
          28.40550435551067,
          28.40909090909091,
          30.094730002393906,
          26.575890590940304,
          30.930438076000502,
          30.9284310324893,
          30.436715570602924,
          27.16644791062544,
          27.16644791062544,
          28.293345405160707,
          27.471688898385278,
          27.44059917355372,
          30.436715570602924,
          27.458654210326976,
          28.387411861664784,
          28.387411861664784,
          29.35235450069436,
          28.08988764044944,
          28.668892437218755,
          28.6661291767446,
          29.75274443418488,
          28.692652849424626,
          29.396221429515126,
          28.08626033057851,
          29.700413223140497,
          28.084429605483876,
          27.776929886145112,
          29.06879615089044,
          27.117768595041323,
          27.769797950780426,
          29.26334020126011,
          28.721121070571897,
          25.88057063502083,
          28.04281659313977,
          28.06642386982525,
          28.40909090909091,
          28.384802161348794,
          32.50852165130665,
          27.727478497057493,
          29.069767441860467,
          29.737044338267232,
          29.26334020126011,
          30.42184964845863,
          27.77031263997133,
          29.060607121599386,
          29.75274443418488,
          30.436715570602924,
          28.293345405160707,
          28.40111107643332,
          27.16644791062544,
          29.75274443418488,
          27.458654210326976,
          27.44059917355372,
          27.16644791062544,
          29.35235450069436,
          29.75274443418488,
          26.004382761139517,
          28.384802161348794,
          28.387411861664784,
          28.084429605483876,
          28.731921487603305,
          26.674874320303687,
          27.471688898385278,
          28.6661291767446,
          27.776929886145112,
          28.326974216672443,
          28.692652849424626,
          27.74887270204648,
          28.98114343784109,
          29.700413223140497,
          27.74474831549742,
          29.396221429515126,
          27.769797950780426,
          27.776929886145112,
          25.88057063502083,
          28.668892437218755,
          27.117768595041323,
          31.63739669421488,
          29.913616800463966,
          29.060607121599386,
          28.344671201814062,
          26.27728507868255,
          25.640242971826257,
          27.173101615455817,
          30.42184964845863,
          30.436715570602924,
          27.16644791062544,
          28.6661291767446,
          28.293345405160707,
          27.458654210326976,
          29.75274443418488,
          27.471688898385278,
          29.26334020126011,
          27.46481071127618,
          26.674874320303687,
          27.44059917355372,
          27.16644791062544,
          29.35235450069436,
          29.40778799351001,
          28.384802161348794,
          29.069767441860467,
          27.776929886145112,
          27.769797950780426,
          27.117768595041323,
          27.77427092538821,
          27.74474831549742,
          28.40909090909091,
          29.737044338267232,
          27.77031263997133,
          25.640242971826257,
          26.29656683710737,
          25.97867956642479,
          28.731921487603305,
          28.326974216672443,
          29.060607121599386,
          28.668892437218755,
          28.40909090909091,
          30.52409877598364,
          30.457762250291136,
          31.533446712018144,
          27.173101615455817,
          27.776929886145112,
          29.40292024457884,
          28.387411861664784,
          31.0952783480256,
          30.436715570602924,
          29.75274443418488,
          27.458654210326976,
          27.44059917355372,
          27.769797950780426,
          30.436715570602924,
          29.053287981859416,
          29.069767441860467,
          27.117768595041323,
          28.08626033057851,
          27.471688898385278,
          28.387411861664784,
          28.692652849424626,
          28.384802161348794,
          29.737044338267232,
          27.16644791062544,
          28.6661291767446,
          25.68007405416704,
          26.29656683710737,
          27.173119065010955,
          27.46481071127618,
          27.458654210326976,
          28.293345405160707,
          28.40909090909091,
          28.387411861664784,
          28.6661291767446,
          27.776910832995224,
          27.16644791062544,
          26.004382761139517,
          29.06879615089044,
          28.075042938300964,
          27.117768595041323,
          29.054752066115704,
          27.776929886145112,
          28.703703703703702,
          29.40778799351001,
          29.75274443418488,
          29.30313482494429,
          25.88057063502083,
          27.77442337881898,
          29.860551225775623,
          29.88769472285956,
          28.08626033057851,
          28.39506172839506,
          28.997893837184456,
          27.77427092538821,
          26.85185185185185,
          28.40054796351365,
          28.088991030674453,
          28.40054796351365,
          27.660095935016283,
          28.081632653061224,
          29.054752066115704,
          28.04281659313977,
          29.054752066115704,
          28.40816326530612,
          24.441802087462012,
          28.40909090909091,
          26.216410224399983,
          27.70083102493075,
          25.72755521400648,
          26.312811226799457,
          28.6661291767446,
          28.997893837184456,
          37.333333333333336,
          28.384802161348794,
          27.25088744666356,
          26.87854442344045,
          25.697069943289225,
          27.471688898385278,
          26.28780718336484,
          26.88095170007721,
          29.40292024457884,
          26.874496103198062,
          25.689561925365066,
          27.143037495265748,
          28.73469387755102,
          26.27728507868255,
          26.56683975365294,
          26.06167930769488,
          29.06877329776684,
          29.025311319871417,
          28.08626033057851,
          37.333333333333336,
          28.731921487603305,
          27.74474831549742,
          27.968016063681024,
          28.731921487603305,
          30.071168431955627,
          30.75636776254889,
          26.8612069228656,
          27.68166089965398,
          28.06642386982525,
          28.72737719046251,
          25.854639471416256,
          25.746944318696244,
          28.04967129291453,
          25.826446280991732,
          26.82742078020452,
          27.776929886145112,
          28.40550435551067,
          27.68166089965398,
          28.40550435551067,
          23.529411764705884,
          24.332277048438208,
          28.72737719046251,
          28.326974216672443,
          27.33564013840831,
          28.04281659313977,
          28.06642386982525,
          25.725517400855587,
          24.021275987303035,
          26.42356982428326,
          26.216410224399983,
          29.04370898920721,
          23.38868655818771,
          27.428571428571427,
          27.68166089965398,
          28.726787729557817,
          27.143037495265748,
          23.51020408163265,
          26.25072494734593,
          26.12244897959184,
          27.358845456721728,
          27.143037495265748,
          30.056810675122207,
          24.0569347455645,
          28.06642386982525,
          22.837370242214536,
          28.04281659313977,
          24.163265306122447,
          25.95155709342561,
          22.59814049586777,
          28.393726338561383,
          23.66524436157625,
          28.081632653061224,
          26.07897153351699,
          28.40909090909091,
          25.909456951787405,
          29.75778546712803,
          26.25958474843318,
          24.088223117166624,
          27.74474831549742,
          26.82742078020452,
          30.436715570602924,
          28.692652849424626,
          28.731921487603305,
          29.410758865975858,
          29.054752066115704,
          29.737044338267232,
          29.75274443418488,
          27.458654210326976,
          27.16644791062544,
          28.703703703703702,
          28.72737719046251,
          30.436715570602924,
          31.0952783480256,
          28.326974216672443,
          28.293345405160707,
          28.387411861664784,
          30.86300682844026,
          27.755102040816325,
          28.387411861664784,
          27.471688898385278,
          26.47210743801653,
          28.06642386982525,
          27.173101615455817,
          28.08988764044944,
          29.35235450069436,
          27.77031263997133,
          29.35235450069436,
          29.737044338267232,
          28.63403944485025,
          28.834579099129364,
          28.731921487603305,
          27.16644791062544,
          28.293345405160707,
          27.458654210326976,
          26.47210743801653,
          29.75274443418488,
          28.088991030674453,
          28.387411861664784,
          27.17063156623596,
          29.410758865975858,
          27.44059917355372,
          28.387411861664784,
          29.054752066115704,
          27.471688898385278,
          28.6661291767446,
          30.457762250291136,
          28.72737719046251,
          27.46530314097881,
          28.90507573129841,
          28.08626033057851,
          29.737044338267232,
          27.755102040816325,
          28.703703703703702,
          28.387411861664784,
          28.075042938300964,
          26.004382761139517,
          27.173101615455817,
          28.326974216672443,
          28.082170873904943,
          27.77031263997133,
          32.74492829989838,
          28.40054796351365,
          29.365763350250564,
          29.737044338267232,
          29.069767441860467,
          28.40909090909091,
          28.08626033057851,
          28.40816326530612,
          27.755102040816325,
          31.0952783480256,
          28.731921487603305,
          31.0952783480256,
          28.40111107643332,
          28.692652849424626,
          29.054752066115704,
          27.16644791062544,
          28.90507573129841,
          28.076319285110493,
          27.458654210326976,
          28.088991030674453,
          27.117768595041323,
          29.75274443418488,
          27.471688898385278,
          29.3775826446281,
          29.75274443418488,
          28.293345405160707,
          27.46481071127618,
          28.387411861664784,
          29.26334020126011,
          27.39817568244846,
          28.075042938300964,
          28.08626033057851,
          28.326974216672443,
          27.46530314097881,
          28.387411861664784,
          28.703703703703702,
          28.6661291767446,
          27.755102040816325,
          27.143037495265748,
          28.387411861664784,
          28.72737719046251,
          31.615792841281195,
          28.96473468900236,
          28.721121070571897,
          29.35235450069436,
          29.64951156330951,
          29.365763350250564,
          28.40054796351365,
          27.714789619551524,
          28.344671201814062
         ],
         "xaxis": "x",
         "yaxis": "y"
        },
        {
         "alignmentgroup": "True",
         "bingroup": "x",
         "hovertemplate": "Gender=2<br>bmi=%{x}<br>count=%{y}<extra></extra>",
         "legendgroup": "2",
         "marker": {
          "color": "#EF553B",
          "opacity": 0.7,
          "pattern": {
           "shape": ""
          }
         },
         "name": "2",
         "nbinsx": 20,
         "offsetgroup": "2",
         "orientation": "v",
         "showlegend": true,
         "type": "histogram",
         "x": [
          24.01308087921364,
          24.01308087921364,
          24.01308087921364,
          24.01308087921364,
          20.983987603305785,
          24.01308087921364,
          24.01308087921364,
          21.230572023714146,
          24.01308087921364,
          24.01308087921364,
          24.01308087921364,
          24.01308087921364,
          24.01308087921364,
          24.01308087921364,
          24.01308087921364,
          24.01308087921364,
          24.088223117166624,
          24.01308087921364,
          24.01308087921364,
          24.01308087921364,
          24.01308087921364,
          24.44727891156463,
          24.01308087921364,
          26.794938016528928,
          24.01308087921364,
          24.01308087921364,
          22.27530991735537,
          24.01308087921364,
          24.01308087921364,
          24.01308087921364,
          25.76571345623458,
          21.453573713726524,
          22.27530991735537,
          24.01308087921364,
          22.321428571428577,
          24.01308087921364,
          24.01308087921364,
          24.01308087921364,
          24.01308087921364,
          24.01308087921364,
          25.15589569160998,
          23.225431847873423,
          19.5964581216432,
          24.01308087921364,
          24.01308087921364,
          24.01308087921364,
          26.1286108288576,
          23.38868655818771,
          24.44727891156463,
          24.01308087921364,
          24.01308087921364,
          24.01308087921364,
          22.27530991735537,
          24.01308087921364,
          24.01308087921364,
          21.35930624973301,
          24.44727891156463,
          24.01308087921364,
          21.545090797168363,
          23.63403300753084,
          21.97735111870822,
          23.335466144755166,
          24.01308087921364,
          21.9671201814059,
          22.27530991735537,
          23.722810651876102,
          23.87543252595156,
          25.15589569160998,
          24.01308087921364,
          24.857954545454547,
          23.671253629592226,
          26.794938016528928,
          22.49963710262738,
          25.180785123966945,
          24.01308087921364,
          22.27530991735537,
          24.01308087921364,
          24.01308087921364,
          24.01308087921364,
          25.3069320474676,
          23.711844630960897,
          22.76146753597469,
          24.01308087921364,
          23.722810651876102,
          24.01308087921364,
          22.91303307000445,
          24.3910588392529,
          24.01308087921364,
          22.76146753597469,
          24.01308087921364,
          23.95122659311947,
          23.588329220496444,
          22.49963710262738,
          24.01308087921364,
          22.76146753597469,
          21.453573713726524,
          24.01308087921364,
          24.01308087921364,
          24.01308087921364,
          24.01308087921364,
          23.49523687470631,
          21.38394199605733,
          22.76146753597469,
          24.01308087921364,
          22.031725684986377,
          24.01308087921364,
          24.01308087921364,
          24.01308087921364,
          25.76571345623458,
          24.01308087921364,
          24.01308087921364,
          23.63403300753084,
          24.01308087921364,
          24.01308087921364,
          24.01308087921364,
          24.01308087921364,
          24.01308087921364,
          24.01308087921364,
          20.832529609197174,
          20.70081674131507,
          20.28479857195018,
          24.3046178773967,
          27.29322416043669,
          24.01308087921364,
          24.01308087921364,
          24.83576349943919,
          21.98989236526368,
          24.01308087921364,
          23.63403300753084,
          23.87543252595156,
          24.83576349943919,
          23.711844630960897,
          23.335466144755166,
          23.335466144755166,
          22.27530991735537,
          22.49963710262738,
          23.63403300753084,
          24.088223117166624,
          22.832879346258608,
          21.97735111870822,
          24.03460983816696,
          23.588329220496444,
          21.38394199605733,
          21.545090797168363,
          24.01308087921364,
          22.72043837081092,
          21.45328719723184,
          29.737044338267232,
          22.49963710262738,
          23.671253629592226,
          19.53125,
          23.63403300753084,
          24.01308087921364,
          24.01308087921364,
          21.306818181818183,
          23.711844630960897,
          24.690405462752206,
          22.27530991735537,
          24.01308087921364,
          22.20408163265306,
          24.01308087921364,
          24.857954545454547,
          25.351541373715524,
          29.33333333333333,
          24.01308087921364,
          24.01308087921364,
          24.01308087921364,
          24.088223117166624,
          23.4375,
          21.20310522895934,
          24.01308087921364,
          24.01308087921364,
          24.96494647925858,
          23.87543252595156,
          23.63403300753084,
          22.27530991735537,
          21.45328719723184,
          23.335466144755166,
          23.59700420642249,
          24.03460983816696,
          23.63403300753084,
          23.92242299970097,
          25.15589569160998,
          24.21875,
          25.236340330075304,
          24.62296091104956,
          24.01308087921364,
          23.722810651876102,
          21.97735111870822,
          24.088223117166624,
          23.335466144755166,
          25.099501595611173,
          25.180785123966945,
          23.335466144755166,
          25.03991871098853,
          22.832879346258608,
          22.76146753597469,
          24.55775234131113,
          23.9188302920412,
          22.95908765854944,
          21.545090797168363,
          21.306818181818183,
          22.67573696145125,
          23.66524436157625,
          22.386314277122523,
          23.63403300753084,
          24.44727891156463,
          29.33333333333333,
          23.711844630960897,
          23.588329220496444,
          23.711844630960897,
          26.729927495071667,
          22.321428571428577,
          23.243408017070564,
          23.335466144755166,
          21.887076365377386,
          24.44727891156463,
          24.01308087921364,
          23.95122659311947,
          24.01308087921364,
          23.87543252595156,
          23.335466144755166,
          23.59700420642249,
          23.63403300753084,
          24.83576349943919,
          23.63403300753084,
          24.62296091104956,
          25.03991871098853,
          24.44727891156463,
          22.27530991735537,
          23.335466144755166,
          23.588329220496444,
          23.95122659311947,
          22.76146753597469,
          24.03460983816696,
          25.15589569160998,
          23.66524436157625,
          24.61810377477591,
          28.19692120103642,
          23.335466144755166,
          21.97735111870822,
          21.62964876033058,
          23.49523687470631,
          24.55775234131113,
          22.386314277122523,
          25.236340330075304,
          25.76571345623458,
          23.225431847873423,
          23.53304270668569,
          24.158817968558527,
          23.9188302920412,
          23.63403300753084,
          26.722872520606725,
          23.711844630960897,
          21.936347412254616,
          26.729927495071667,
          23.59700420642249,
          23.711844630960897,
          21.306818181818183,
          24.01308087921364,
          23.384353741496604,
          21.887076365377386,
          24.755464315903875,
          21.30394857667585,
          23.95122659311947,
          21.45328719723184,
          24.44727891156463,
          24.83576349943919,
          25.15589569160998,
          23.59700420642249,
          23.225431847873423,
          23.335466144755166,
          24.088223117166624,
          23.30668005306752,
          24.62296091104956,
          22.27530991735537,
          28.19692120103642,
          24.55775234131113,
          23.671253629592226,
          23.66524436157625,
          23.63403300753084,
          22.386314277122523,
          24.44727891156463,
          23.054562464499316,
          23.588329220496444,
          23.95122659311947,
          22.321428571428577,
          23.63403300753084,
          24.158817968558527,
          20.904195011337876,
          23.59700420642249,
          24.28097534284053,
          22.91303307000445,
          24.690405462752206,
          22.892819979188346,
          23.9188302920412,
          23.63403300753084,
          19.83516295612325,
          25.236340330075304,
          27.76709812465291,
          23.795359904818564,
          25.970115548195267,
          23.120623596247853,
          25.03991871098853,
          23.335466144755166,
          24.01308087921364,
          23.63403300753084,
          23.63403300753084,
          23.711844630960897,
          23.63403300753084,
          23.87543252595156,
          23.335466144755166,
          24.55775234131113,
          24.83576349943919,
          25.806451612903224,
          24.96494647925858,
          24.690405462752206,
          23.225431847873423,
          23.225431847873423,
          23.9188302920412,
          24.088223117166624,
          23.63403300753084,
          24.62296091104956,
          22.72043837081092,
          22.4813290656912,
          21.30394857667585,
          24.44727891156463,
          24.609375,
          27.76709812465291,
          23.335466144755166,
          23.30668005306752,
          25.15589569160998,
          22.27530991735537,
          25.20398137468495,
          23.95122659311947,
          23.63403300753084,
          25.390218522372525,
          21.9671201814059,
          24.31412396574249,
          28.19692120103642,
          23.59700420642249,
          23.59700420642249,
          23.59700420642249,
          24.62296091104956,
          25.236340330075304,
          24.01308087921364,
          25.15589569160998,
          21.612811791383223,
          21.6712580348944,
          23.795359904818564,
          23.225431847873423,
          23.671253629592226,
          24.158817968558527,
          21.82995219993225,
          23.054562464499316,
          21.45328719723184,
          28.19692120103642,
          22.72043837081092,
          24.44727891156463,
          24.62296091104956,
          23.59700420642249,
          27.76709812465291,
          23.588329220496444,
          24.977043158861346,
          23.63403300753084,
          23.59700420642249,
          23.59700420642249,
          24.44727891156463,
          22.4813290656912,
          24.55775234131113,
          25.64891761567662,
          23.046875,
          24.690405462752206,
          23.30668005306752,
          21.30394857667585,
          25.806451612903224,
          24.62296091104956,
          24.690405462752206,
          24.167162403331357,
          21.936347412254616,
          23.225431847873423,
          23.030045351473927,
          22.27530991735537,
          25.15589569160998,
          24.31412396574249,
          24.83576349943919,
          22.91303307000445,
          25.63691716071142,
          23.63403300753084,
          23.87543252595156,
          23.233456176894723,
          24.44727891156463,
          24.158817968558527,
          21.82995219993225,
          23.054562464499316,
          21.45328719723184,
          24.690405462752206,
          24.44727891156463,
          28.19692120103642,
          24.03460983816696,
          25.15589569160998,
          23.30668005306752,
          25.510204081632654,
          22.4813290656912,
          23.87543252595156,
          24.167162403331357,
          26.491508201480624,
          24.55775234131113,
          22.72043837081092,
          26.61934338952972,
          21.936347412254616,
          24.62296091104956,
          23.63403300753084,
          23.59700420642249,
          25.63691716071142,
          23.335466144755166,
          23.225431847873423,
          22.72043837081092,
          23.53304270668569,
          23.588329220496444,
          25.806451612903224,
          23.722810651876102,
          25.63691716071142,
          25.654372397382517,
          24.44727891156463,
          25.20398137468495,
          22.27530991735537,
          22.321428571428577,
          23.9188302920412,
          24.088223117166624,
          24.91990032039872,
          23.046875,
          21.82995219993225,
          28.19692120103642,
          23.87543252595156,
          23.054562464499316,
          24.158817968558527,
          25.510204081632654,
          22.4813290656912,
          23.335466144755166,
          21.45328719723184,
          24.690405462752206,
          25.15589569160998,
          24.690405462752206,
          24.03460983816696,
          24.44727891156463,
          24.167162403331357,
          25.806451612903224,
          22.72043837081092,
          21.936347412254616,
          24.62296091104956,
          24.44727891156463,
          23.046875,
          24.84098008957808,
          26.722872520606725,
          23.59700420642249,
          23.30668005306752,
          25.64891761567662,
          23.588329220496444,
          22.27530991735537,
          24.31412396574249,
          23.225431847873423,
          23.9188302920412,
          24.83576349943919,
          25.63691716071142,
          24.801587301587304,
          24.91990032039872,
          23.95122659311947,
          24.84098008957808,
          25.63691716071142,
          23.63403300753084,
          22.49963710262738,
          21.82995219993225,
          24.221453287197235,
          24.158817968558527,
          28.19692120103642,
          23.87543252595156,
          24.690405462752206,
          22.4813290656912,
          24.44727891156463,
          24.03460983816696,
          24.690405462752206,
          23.335466144755166,
          25.510204081632654,
          23.63403300753084,
          25.15589569160998,
          24.96494647925858,
          24.84098008957808,
          24.62296091104956,
          26.722872520606725,
          24.167162403331357,
          24.91990032039872,
          22.72043837081092,
          23.59700420642249,
          25.34435261707989,
          25.34435261707989,
          22.91303307000445,
          22.20633068613798,
          22.27530991735537,
          25.64891761567662,
          26.83864765261977,
          22.582709172343712,
          23.225431847873423,
          25.076193048107708,
          24.44727891156463,
          28.444444444444443,
          25.03991871098853,
          22.321428571428577,
          23.054562464499316,
          24.088223117166624,
          25.806451612903224,
          25.76571345623458,
          21.82995219993225,
          22.4813290656912,
          23.335466144755166,
          24.158817968558527,
          24.690405462752206,
          21.887076365377386,
          24.96494647925858,
          24.84098008957808,
          24.609375,
          21.936347412254616,
          23.87543252595156,
          23.87543252595156,
          25.461980633463213,
          25.15589569160998,
          24.221453287197235,
          24.44727891156463,
          24.167162403331357,
          21.45328719723184,
          23.87543252595156,
          23.054562464499316,
          23.875114784205696,
          24.913494809688583,
          24.91990032039872,
          24.44727891156463,
          25.806451612903224,
          26.722872520606725,
          27.636054421768712,
          25.393431120318084,
          25.34435261707989,
          25.34435261707989,
          25.076193048107708,
          24.092970521541957,
          23.9188302920412,
          24.221453287197235,
          23.38868655818771,
          23.384353741496604,
          23.30668005306752,
          25.854639471416256,
          22.20633068613798,
          23.335466144755166,
          26.22222222222222,
          24.03460983816696,
          22.34351559258195,
          26.23355580417422,
          24.28097534284053,
          25.099501595611173,
          24.023808670084986,
          23.030045351473927,
          23.53036634346221,
          23.95122659311947,
          25.78125,
          22.571047501795427,
          23.87543252595156,
          23.529411764705884,
          27.005130974885223,
          28.444444444444443,
          25.34435261707989,
          22.375679950619187,
          23.25501863821347,
          24.690405462752206,
          20.761245674740486,
          24.141519250780437,
          23.225431847873423,
          26.61934338952972,
          24.111507464658477,
          20.177148524332274,
          21.92612582222972,
          22.4813290656912,
          22.13673973000436,
          25.21735857578381,
          22.758306781975424,
          24.01308087921364,
          23.1404958677686,
          23.38868655818771,
          22.79032897344431,
          24.67105263157895,
          25.95155709342561,
          24.91990032039872,
          23.66524436157625,
          25.099501595611173,
          26.61934338952972,
          24.38237297859371,
          23.233456176894723,
          22.265625,
          23.49523687470631,
          23.147255121330197,
          23.87543252595156,
          23.63403300753084,
          24.87771968291449,
          21.453573713726524,
          23.030045351473927,
          15.65617029872983,
          22.476586888657646,
          21.82995219993225,
          23.828125,
          24.977043158861346,
          20.177148524332274,
          27.548209366391188,
          25.88757396449704,
          25.24933720489837,
          23.225431847873423,
          20.576131687242796,
          22.54657648036074,
          24.97398543184183,
          22.76146753597469,
          21.92612582222972,
          23.711844630960897,
          23.53036634346221,
          23.95122659311947,
          22.857142857142858,
          21.9671201814059,
          23.243408017070564,
          23.875114784205696,
          22.832879346258608,
          22.67573696145125,
          23.55555555555556,
          21.887076365377386,
          24.163265306122447,
          24.977043158861346,
          22.308149910767405,
          31.61177324960485,
          23.25501863821347,
          22.30935640886966,
          27.85200797922391,
          21.453573713726524,
          22.265625,
          23.4375,
          23.030045351473927,
          24.46460160337235,
          22.308149910767405,
          28.282828282828287,
          21.82995219993225,
          24.158817968558527,
          24.690405462752206,
          21.887076365377386,
          24.44727891156463,
          22.4813290656912,
          24.96494647925858,
          28.19692120103642,
          24.03460983816696,
          24.801587301587304,
          24.167162403331357,
          23.335466144755166,
          27.281746031746035,
          24.913494809688583,
          24.56747404844291,
          24.3046178773967,
          25.88757396449704,
          25.95155709342561,
          23.875114784205696,
          24.84098008957808,
          23.054562464499316,
          23.233456176894723,
          25.34435261707989,
          24.221453287197235,
          21.45328719723184,
          28.577960676726104,
          23.051754907792983,
          23.25501863821347,
          27.005130974885223,
          23.795359904818564,
          21.82995219993225,
          24.221453287197235,
          23.87543252595156,
          22.4813290656912,
          21.887076365377386,
          25.95155709342561,
          23.9188302920412,
          24.03460983816696,
          24.96494647925858,
          24.158817968558527,
          24.56747404844291,
          23.875114784205696,
          21.936347412254616,
          25.076193048107708,
          23.87543252595156,
          24.088223117166624,
          24.023808670084986,
          21.20310522895934,
          24.092970521541957,
          24.44727891156463,
          21.45328719723184,
          25.15589569160998,
          26.722872520606725,
          28.577960676726104,
          25.15589569160998,
          25.816630212628635,
          25.461980633463213,
          24.801587301587304,
          25.34435261707989,
          24.31412396574249,
          25.06574621959237,
          25.970115548195267,
          25.390218522372525,
          25.15589569160998,
          27.281746031746035,
          28.19692120103642,
          24.690405462752206,
          26.48553974966893,
          24.84098008957808,
          24.97398543184183,
          21.82995219993225,
          23.9188302920412,
          24.221453287197235,
          23.87543252595156,
          24.44727891156463,
          23.225431847873423,
          28.19692120103642,
          25.95155709342561,
          21.887076365377386,
          25.76571345623458,
          25.461980633463213,
          23.875114784205696,
          24.03460983816696,
          24.96494647925858,
          24.023808670084986,
          25.86451247165533,
          27.636054421768712,
          25.816630212628635,
          23.120623596247853,
          24.913494809688583,
          25.076193048107708,
          21.936347412254616,
          25.461980633463213,
          24.44727891156463,
          26.722872520606725,
          25.15589569160998,
          25.510204081632654,
          21.20310522895934,
          24.690405462752206,
          23.233456176894723,
          25.15589569160998,
          25.34435261707989,
          24.690405462752206,
          24.221453287197235,
          24.341758286340216,
          25.390218522372525,
          26.502116213757365,
          23.423557406305772,
          24.03460983816696,
          23.87543252595156
         ],
         "xaxis": "x",
         "yaxis": "y"
        }
       ],
       "layout": {
        "barmode": "relative",
        "legend": {
         "title": {
          "text": "Gender"
         },
         "tracegroupgap": 0
        },
        "template": {
         "data": {
          "bar": [
           {
            "error_x": {
             "color": "#2a3f5f"
            },
            "error_y": {
             "color": "#2a3f5f"
            },
            "marker": {
             "line": {
              "color": "#E5ECF6",
              "width": 0.5
             },
             "pattern": {
              "fillmode": "overlay",
              "size": 10,
              "solidity": 0.2
             }
            },
            "type": "bar"
           }
          ],
          "barpolar": [
           {
            "marker": {
             "line": {
              "color": "#E5ECF6",
              "width": 0.5
             },
             "pattern": {
              "fillmode": "overlay",
              "size": 10,
              "solidity": 0.2
             }
            },
            "type": "barpolar"
           }
          ],
          "carpet": [
           {
            "aaxis": {
             "endlinecolor": "#2a3f5f",
             "gridcolor": "white",
             "linecolor": "white",
             "minorgridcolor": "white",
             "startlinecolor": "#2a3f5f"
            },
            "baxis": {
             "endlinecolor": "#2a3f5f",
             "gridcolor": "white",
             "linecolor": "white",
             "minorgridcolor": "white",
             "startlinecolor": "#2a3f5f"
            },
            "type": "carpet"
           }
          ],
          "choropleth": [
           {
            "colorbar": {
             "outlinewidth": 0,
             "ticks": ""
            },
            "type": "choropleth"
           }
          ],
          "contour": [
           {
            "colorbar": {
             "outlinewidth": 0,
             "ticks": ""
            },
            "colorscale": [
             [
              0,
              "#0d0887"
             ],
             [
              0.1111111111111111,
              "#46039f"
             ],
             [
              0.2222222222222222,
              "#7201a8"
             ],
             [
              0.3333333333333333,
              "#9c179e"
             ],
             [
              0.4444444444444444,
              "#bd3786"
             ],
             [
              0.5555555555555556,
              "#d8576b"
             ],
             [
              0.6666666666666666,
              "#ed7953"
             ],
             [
              0.7777777777777778,
              "#fb9f3a"
             ],
             [
              0.8888888888888888,
              "#fdca26"
             ],
             [
              1,
              "#f0f921"
             ]
            ],
            "type": "contour"
           }
          ],
          "contourcarpet": [
           {
            "colorbar": {
             "outlinewidth": 0,
             "ticks": ""
            },
            "type": "contourcarpet"
           }
          ],
          "heatmap": [
           {
            "colorbar": {
             "outlinewidth": 0,
             "ticks": ""
            },
            "colorscale": [
             [
              0,
              "#0d0887"
             ],
             [
              0.1111111111111111,
              "#46039f"
             ],
             [
              0.2222222222222222,
              "#7201a8"
             ],
             [
              0.3333333333333333,
              "#9c179e"
             ],
             [
              0.4444444444444444,
              "#bd3786"
             ],
             [
              0.5555555555555556,
              "#d8576b"
             ],
             [
              0.6666666666666666,
              "#ed7953"
             ],
             [
              0.7777777777777778,
              "#fb9f3a"
             ],
             [
              0.8888888888888888,
              "#fdca26"
             ],
             [
              1,
              "#f0f921"
             ]
            ],
            "type": "heatmap"
           }
          ],
          "heatmapgl": [
           {
            "colorbar": {
             "outlinewidth": 0,
             "ticks": ""
            },
            "colorscale": [
             [
              0,
              "#0d0887"
             ],
             [
              0.1111111111111111,
              "#46039f"
             ],
             [
              0.2222222222222222,
              "#7201a8"
             ],
             [
              0.3333333333333333,
              "#9c179e"
             ],
             [
              0.4444444444444444,
              "#bd3786"
             ],
             [
              0.5555555555555556,
              "#d8576b"
             ],
             [
              0.6666666666666666,
              "#ed7953"
             ],
             [
              0.7777777777777778,
              "#fb9f3a"
             ],
             [
              0.8888888888888888,
              "#fdca26"
             ],
             [
              1,
              "#f0f921"
             ]
            ],
            "type": "heatmapgl"
           }
          ],
          "histogram": [
           {
            "marker": {
             "pattern": {
              "fillmode": "overlay",
              "size": 10,
              "solidity": 0.2
             }
            },
            "type": "histogram"
           }
          ],
          "histogram2d": [
           {
            "colorbar": {
             "outlinewidth": 0,
             "ticks": ""
            },
            "colorscale": [
             [
              0,
              "#0d0887"
             ],
             [
              0.1111111111111111,
              "#46039f"
             ],
             [
              0.2222222222222222,
              "#7201a8"
             ],
             [
              0.3333333333333333,
              "#9c179e"
             ],
             [
              0.4444444444444444,
              "#bd3786"
             ],
             [
              0.5555555555555556,
              "#d8576b"
             ],
             [
              0.6666666666666666,
              "#ed7953"
             ],
             [
              0.7777777777777778,
              "#fb9f3a"
             ],
             [
              0.8888888888888888,
              "#fdca26"
             ],
             [
              1,
              "#f0f921"
             ]
            ],
            "type": "histogram2d"
           }
          ],
          "histogram2dcontour": [
           {
            "colorbar": {
             "outlinewidth": 0,
             "ticks": ""
            },
            "colorscale": [
             [
              0,
              "#0d0887"
             ],
             [
              0.1111111111111111,
              "#46039f"
             ],
             [
              0.2222222222222222,
              "#7201a8"
             ],
             [
              0.3333333333333333,
              "#9c179e"
             ],
             [
              0.4444444444444444,
              "#bd3786"
             ],
             [
              0.5555555555555556,
              "#d8576b"
             ],
             [
              0.6666666666666666,
              "#ed7953"
             ],
             [
              0.7777777777777778,
              "#fb9f3a"
             ],
             [
              0.8888888888888888,
              "#fdca26"
             ],
             [
              1,
              "#f0f921"
             ]
            ],
            "type": "histogram2dcontour"
           }
          ],
          "mesh3d": [
           {
            "colorbar": {
             "outlinewidth": 0,
             "ticks": ""
            },
            "type": "mesh3d"
           }
          ],
          "parcoords": [
           {
            "line": {
             "colorbar": {
              "outlinewidth": 0,
              "ticks": ""
             }
            },
            "type": "parcoords"
           }
          ],
          "pie": [
           {
            "automargin": true,
            "type": "pie"
           }
          ],
          "scatter": [
           {
            "fillpattern": {
             "fillmode": "overlay",
             "size": 10,
             "solidity": 0.2
            },
            "type": "scatter"
           }
          ],
          "scatter3d": [
           {
            "line": {
             "colorbar": {
              "outlinewidth": 0,
              "ticks": ""
             }
            },
            "marker": {
             "colorbar": {
              "outlinewidth": 0,
              "ticks": ""
             }
            },
            "type": "scatter3d"
           }
          ],
          "scattercarpet": [
           {
            "marker": {
             "colorbar": {
              "outlinewidth": 0,
              "ticks": ""
             }
            },
            "type": "scattercarpet"
           }
          ],
          "scattergeo": [
           {
            "marker": {
             "colorbar": {
              "outlinewidth": 0,
              "ticks": ""
             }
            },
            "type": "scattergeo"
           }
          ],
          "scattergl": [
           {
            "marker": {
             "colorbar": {
              "outlinewidth": 0,
              "ticks": ""
             }
            },
            "type": "scattergl"
           }
          ],
          "scattermapbox": [
           {
            "marker": {
             "colorbar": {
              "outlinewidth": 0,
              "ticks": ""
             }
            },
            "type": "scattermapbox"
           }
          ],
          "scatterpolar": [
           {
            "marker": {
             "colorbar": {
              "outlinewidth": 0,
              "ticks": ""
             }
            },
            "type": "scatterpolar"
           }
          ],
          "scatterpolargl": [
           {
            "marker": {
             "colorbar": {
              "outlinewidth": 0,
              "ticks": ""
             }
            },
            "type": "scatterpolargl"
           }
          ],
          "scatterternary": [
           {
            "marker": {
             "colorbar": {
              "outlinewidth": 0,
              "ticks": ""
             }
            },
            "type": "scatterternary"
           }
          ],
          "surface": [
           {
            "colorbar": {
             "outlinewidth": 0,
             "ticks": ""
            },
            "colorscale": [
             [
              0,
              "#0d0887"
             ],
             [
              0.1111111111111111,
              "#46039f"
             ],
             [
              0.2222222222222222,
              "#7201a8"
             ],
             [
              0.3333333333333333,
              "#9c179e"
             ],
             [
              0.4444444444444444,
              "#bd3786"
             ],
             [
              0.5555555555555556,
              "#d8576b"
             ],
             [
              0.6666666666666666,
              "#ed7953"
             ],
             [
              0.7777777777777778,
              "#fb9f3a"
             ],
             [
              0.8888888888888888,
              "#fdca26"
             ],
             [
              1,
              "#f0f921"
             ]
            ],
            "type": "surface"
           }
          ],
          "table": [
           {
            "cells": {
             "fill": {
              "color": "#EBF0F8"
             },
             "line": {
              "color": "white"
             }
            },
            "header": {
             "fill": {
              "color": "#C8D4E3"
             },
             "line": {
              "color": "white"
             }
            },
            "type": "table"
           }
          ]
         },
         "layout": {
          "annotationdefaults": {
           "arrowcolor": "#2a3f5f",
           "arrowhead": 0,
           "arrowwidth": 1
          },
          "autotypenumbers": "strict",
          "coloraxis": {
           "colorbar": {
            "outlinewidth": 0,
            "ticks": ""
           }
          },
          "colorscale": {
           "diverging": [
            [
             0,
             "#8e0152"
            ],
            [
             0.1,
             "#c51b7d"
            ],
            [
             0.2,
             "#de77ae"
            ],
            [
             0.3,
             "#f1b6da"
            ],
            [
             0.4,
             "#fde0ef"
            ],
            [
             0.5,
             "#f7f7f7"
            ],
            [
             0.6,
             "#e6f5d0"
            ],
            [
             0.7,
             "#b8e186"
            ],
            [
             0.8,
             "#7fbc41"
            ],
            [
             0.9,
             "#4d9221"
            ],
            [
             1,
             "#276419"
            ]
           ],
           "sequential": [
            [
             0,
             "#0d0887"
            ],
            [
             0.1111111111111111,
             "#46039f"
            ],
            [
             0.2222222222222222,
             "#7201a8"
            ],
            [
             0.3333333333333333,
             "#9c179e"
            ],
            [
             0.4444444444444444,
             "#bd3786"
            ],
            [
             0.5555555555555556,
             "#d8576b"
            ],
            [
             0.6666666666666666,
             "#ed7953"
            ],
            [
             0.7777777777777778,
             "#fb9f3a"
            ],
            [
             0.8888888888888888,
             "#fdca26"
            ],
            [
             1,
             "#f0f921"
            ]
           ],
           "sequentialminus": [
            [
             0,
             "#0d0887"
            ],
            [
             0.1111111111111111,
             "#46039f"
            ],
            [
             0.2222222222222222,
             "#7201a8"
            ],
            [
             0.3333333333333333,
             "#9c179e"
            ],
            [
             0.4444444444444444,
             "#bd3786"
            ],
            [
             0.5555555555555556,
             "#d8576b"
            ],
            [
             0.6666666666666666,
             "#ed7953"
            ],
            [
             0.7777777777777778,
             "#fb9f3a"
            ],
            [
             0.8888888888888888,
             "#fdca26"
            ],
            [
             1,
             "#f0f921"
            ]
           ]
          },
          "colorway": [
           "#636efa",
           "#EF553B",
           "#00cc96",
           "#ab63fa",
           "#FFA15A",
           "#19d3f3",
           "#FF6692",
           "#B6E880",
           "#FF97FF",
           "#FECB52"
          ],
          "font": {
           "color": "#2a3f5f"
          },
          "geo": {
           "bgcolor": "white",
           "lakecolor": "white",
           "landcolor": "#E5ECF6",
           "showlakes": true,
           "showland": true,
           "subunitcolor": "white"
          },
          "hoverlabel": {
           "align": "left"
          },
          "hovermode": "closest",
          "mapbox": {
           "style": "light"
          },
          "paper_bgcolor": "white",
          "plot_bgcolor": "#E5ECF6",
          "polar": {
           "angularaxis": {
            "gridcolor": "white",
            "linecolor": "white",
            "ticks": ""
           },
           "bgcolor": "#E5ECF6",
           "radialaxis": {
            "gridcolor": "white",
            "linecolor": "white",
            "ticks": ""
           }
          },
          "scene": {
           "xaxis": {
            "backgroundcolor": "#E5ECF6",
            "gridcolor": "white",
            "gridwidth": 2,
            "linecolor": "white",
            "showbackground": true,
            "ticks": "",
            "zerolinecolor": "white"
           },
           "yaxis": {
            "backgroundcolor": "#E5ECF6",
            "gridcolor": "white",
            "gridwidth": 2,
            "linecolor": "white",
            "showbackground": true,
            "ticks": "",
            "zerolinecolor": "white"
           },
           "zaxis": {
            "backgroundcolor": "#E5ECF6",
            "gridcolor": "white",
            "gridwidth": 2,
            "linecolor": "white",
            "showbackground": true,
            "ticks": "",
            "zerolinecolor": "white"
           }
          },
          "shapedefaults": {
           "line": {
            "color": "#2a3f5f"
           }
          },
          "ternary": {
           "aaxis": {
            "gridcolor": "white",
            "linecolor": "white",
            "ticks": ""
           },
           "baxis": {
            "gridcolor": "white",
            "linecolor": "white",
            "ticks": ""
           },
           "bgcolor": "#E5ECF6",
           "caxis": {
            "gridcolor": "white",
            "linecolor": "white",
            "ticks": ""
           }
          },
          "title": {
           "x": 0.05
          },
          "xaxis": {
           "automargin": true,
           "gridcolor": "white",
           "linecolor": "white",
           "ticks": "",
           "title": {
            "standoff": 15
           },
           "zerolinecolor": "white",
           "zerolinewidth": 2
          },
          "yaxis": {
           "automargin": true,
           "gridcolor": "white",
           "linecolor": "white",
           "ticks": "",
           "title": {
            "standoff": 15
           },
           "zerolinecolor": "white",
           "zerolinewidth": 2
          }
         }
        },
        "title": {
         "text": "bmi Distribution by Gender"
        },
        "xaxis": {
         "anchor": "y",
         "domain": [
          0,
          1
         ],
         "title": {
          "text": "bmi"
         }
        },
        "yaxis": {
         "anchor": "x",
         "domain": [
          0,
          1
         ],
         "title": {
          "text": "count"
         }
        }
       }
      }
     },
     "metadata": {},
     "output_type": "display_data"
    }
   ],
   "source": [
    "# Loop over each numeric column in numerical_games\n",
    "for column in numerical_games[['height', 'weight', 'bmi']].columns:\n",
    "    # Create a histogram with breakdown by 'genderId'\n",
    "    fig = px.histogram(\n",
    "        numerical_games,\n",
    "        x=column,\n",
    "        color='genderId',\n",
    "        nbins=20,\n",
    "        title=f\"{column} Distribution by Gender\",\n",
    "        labels={'genderId': 'Gender', column: column},\n",
    "        opacity=0.7,\n",
    "    )\n",
    "\n",
    "    # Show the plot\n",
    "    fig.show()"
   ]
  },
  {
   "cell_type": "markdown",
   "metadata": {},
   "source": [
    "##### Categorical Variables"
   ]
  },
  {
   "cell_type": "code",
   "execution_count": 10,
   "metadata": {},
   "outputs": [
    {
     "data": {
      "text/html": [
       "<div>\n",
       "<style scoped>\n",
       "    .dataframe tbody tr th:only-of-type {\n",
       "        vertical-align: middle;\n",
       "    }\n",
       "\n",
       "    .dataframe tbody tr th {\n",
       "        vertical-align: top;\n",
       "    }\n",
       "\n",
       "    .dataframe thead th {\n",
       "        text-align: right;\n",
       "    }\n",
       "</style>\n",
       "<table border=\"1\" class=\"dataframe\">\n",
       "  <thead>\n",
       "    <tr style=\"text-align: right;\">\n",
       "      <th></th>\n",
       "      <th>count</th>\n",
       "      <th>unique</th>\n",
       "      <th>top</th>\n",
       "      <th>freq</th>\n",
       "    </tr>\n",
       "  </thead>\n",
       "  <tbody>\n",
       "    <tr>\n",
       "      <th>competitorName</th>\n",
       "      <td>1633</td>\n",
       "      <td>951</td>\n",
       "      <td>Ben Smith</td>\n",
       "      <td>11</td>\n",
       "    </tr>\n",
       "    <tr>\n",
       "      <th>firstName</th>\n",
       "      <td>1633</td>\n",
       "      <td>624</td>\n",
       "      <td>Jason</td>\n",
       "      <td>21</td>\n",
       "    </tr>\n",
       "    <tr>\n",
       "      <th>lastName</th>\n",
       "      <td>1632</td>\n",
       "      <td>846</td>\n",
       "      <td>Smith</td>\n",
       "      <td>31</td>\n",
       "    </tr>\n",
       "    <tr>\n",
       "      <th>status</th>\n",
       "      <td>1633</td>\n",
       "      <td>5</td>\n",
       "      <td>ACT</td>\n",
       "      <td>909</td>\n",
       "    </tr>\n",
       "    <tr>\n",
       "      <th>gender</th>\n",
       "      <td>1633</td>\n",
       "      <td>2</td>\n",
       "      <td>M</td>\n",
       "      <td>880</td>\n",
       "    </tr>\n",
       "    <tr>\n",
       "      <th>countryOfOriginName</th>\n",
       "      <td>1140</td>\n",
       "      <td>115</td>\n",
       "      <td>United States</td>\n",
       "      <td>596</td>\n",
       "    </tr>\n",
       "    <tr>\n",
       "      <th>regionName</th>\n",
       "      <td>1178</td>\n",
       "      <td>7</td>\n",
       "      <td>North America</td>\n",
       "      <td>694</td>\n",
       "    </tr>\n",
       "    <tr>\n",
       "      <th>affiliateName</th>\n",
       "      <td>839</td>\n",
       "      <td>448</td>\n",
       "      <td>CrossFit Mayhem</td>\n",
       "      <td>17</td>\n",
       "    </tr>\n",
       "  </tbody>\n",
       "</table>\n",
       "</div>"
      ],
      "text/plain": [
       "                    count unique              top freq\n",
       "competitorName       1633    951        Ben Smith   11\n",
       "firstName            1633    624            Jason   21\n",
       "lastName             1632    846            Smith   31\n",
       "status               1633      5              ACT  909\n",
       "gender               1633      2                M  880\n",
       "countryOfOriginName  1140    115    United States  596\n",
       "regionName           1178      7    North America  694\n",
       "affiliateName         839    448  CrossFit Mayhem   17"
      ]
     },
     "execution_count": 10,
     "metadata": {},
     "output_type": "execute_result"
    }
   ],
   "source": [
    "categorical_games = df_games_conso.select_dtypes(include=[object])\n",
    "categorical_games.describe().T"
   ]
  },
  {
   "cell_type": "code",
   "execution_count": 11,
   "metadata": {},
   "outputs": [
    {
     "data": {
      "application/vnd.plotly.v1+json": {
       "config": {
        "plotlyServerURL": "https://plot.ly"
       },
       "data": [
        {
         "name": "status Distribution",
         "type": "bar",
         "x": [
          "ACT",
          "CUT",
          "DNF",
          "DQ",
          "WD"
         ],
         "y": [
          909,
          650,
          10,
          6,
          58
         ]
        }
       ],
       "layout": {
        "template": {
         "data": {
          "bar": [
           {
            "error_x": {
             "color": "#2a3f5f"
            },
            "error_y": {
             "color": "#2a3f5f"
            },
            "marker": {
             "line": {
              "color": "#E5ECF6",
              "width": 0.5
             },
             "pattern": {
              "fillmode": "overlay",
              "size": 10,
              "solidity": 0.2
             }
            },
            "type": "bar"
           }
          ],
          "barpolar": [
           {
            "marker": {
             "line": {
              "color": "#E5ECF6",
              "width": 0.5
             },
             "pattern": {
              "fillmode": "overlay",
              "size": 10,
              "solidity": 0.2
             }
            },
            "type": "barpolar"
           }
          ],
          "carpet": [
           {
            "aaxis": {
             "endlinecolor": "#2a3f5f",
             "gridcolor": "white",
             "linecolor": "white",
             "minorgridcolor": "white",
             "startlinecolor": "#2a3f5f"
            },
            "baxis": {
             "endlinecolor": "#2a3f5f",
             "gridcolor": "white",
             "linecolor": "white",
             "minorgridcolor": "white",
             "startlinecolor": "#2a3f5f"
            },
            "type": "carpet"
           }
          ],
          "choropleth": [
           {
            "colorbar": {
             "outlinewidth": 0,
             "ticks": ""
            },
            "type": "choropleth"
           }
          ],
          "contour": [
           {
            "colorbar": {
             "outlinewidth": 0,
             "ticks": ""
            },
            "colorscale": [
             [
              0,
              "#0d0887"
             ],
             [
              0.1111111111111111,
              "#46039f"
             ],
             [
              0.2222222222222222,
              "#7201a8"
             ],
             [
              0.3333333333333333,
              "#9c179e"
             ],
             [
              0.4444444444444444,
              "#bd3786"
             ],
             [
              0.5555555555555556,
              "#d8576b"
             ],
             [
              0.6666666666666666,
              "#ed7953"
             ],
             [
              0.7777777777777778,
              "#fb9f3a"
             ],
             [
              0.8888888888888888,
              "#fdca26"
             ],
             [
              1,
              "#f0f921"
             ]
            ],
            "type": "contour"
           }
          ],
          "contourcarpet": [
           {
            "colorbar": {
             "outlinewidth": 0,
             "ticks": ""
            },
            "type": "contourcarpet"
           }
          ],
          "heatmap": [
           {
            "colorbar": {
             "outlinewidth": 0,
             "ticks": ""
            },
            "colorscale": [
             [
              0,
              "#0d0887"
             ],
             [
              0.1111111111111111,
              "#46039f"
             ],
             [
              0.2222222222222222,
              "#7201a8"
             ],
             [
              0.3333333333333333,
              "#9c179e"
             ],
             [
              0.4444444444444444,
              "#bd3786"
             ],
             [
              0.5555555555555556,
              "#d8576b"
             ],
             [
              0.6666666666666666,
              "#ed7953"
             ],
             [
              0.7777777777777778,
              "#fb9f3a"
             ],
             [
              0.8888888888888888,
              "#fdca26"
             ],
             [
              1,
              "#f0f921"
             ]
            ],
            "type": "heatmap"
           }
          ],
          "heatmapgl": [
           {
            "colorbar": {
             "outlinewidth": 0,
             "ticks": ""
            },
            "colorscale": [
             [
              0,
              "#0d0887"
             ],
             [
              0.1111111111111111,
              "#46039f"
             ],
             [
              0.2222222222222222,
              "#7201a8"
             ],
             [
              0.3333333333333333,
              "#9c179e"
             ],
             [
              0.4444444444444444,
              "#bd3786"
             ],
             [
              0.5555555555555556,
              "#d8576b"
             ],
             [
              0.6666666666666666,
              "#ed7953"
             ],
             [
              0.7777777777777778,
              "#fb9f3a"
             ],
             [
              0.8888888888888888,
              "#fdca26"
             ],
             [
              1,
              "#f0f921"
             ]
            ],
            "type": "heatmapgl"
           }
          ],
          "histogram": [
           {
            "marker": {
             "pattern": {
              "fillmode": "overlay",
              "size": 10,
              "solidity": 0.2
             }
            },
            "type": "histogram"
           }
          ],
          "histogram2d": [
           {
            "colorbar": {
             "outlinewidth": 0,
             "ticks": ""
            },
            "colorscale": [
             [
              0,
              "#0d0887"
             ],
             [
              0.1111111111111111,
              "#46039f"
             ],
             [
              0.2222222222222222,
              "#7201a8"
             ],
             [
              0.3333333333333333,
              "#9c179e"
             ],
             [
              0.4444444444444444,
              "#bd3786"
             ],
             [
              0.5555555555555556,
              "#d8576b"
             ],
             [
              0.6666666666666666,
              "#ed7953"
             ],
             [
              0.7777777777777778,
              "#fb9f3a"
             ],
             [
              0.8888888888888888,
              "#fdca26"
             ],
             [
              1,
              "#f0f921"
             ]
            ],
            "type": "histogram2d"
           }
          ],
          "histogram2dcontour": [
           {
            "colorbar": {
             "outlinewidth": 0,
             "ticks": ""
            },
            "colorscale": [
             [
              0,
              "#0d0887"
             ],
             [
              0.1111111111111111,
              "#46039f"
             ],
             [
              0.2222222222222222,
              "#7201a8"
             ],
             [
              0.3333333333333333,
              "#9c179e"
             ],
             [
              0.4444444444444444,
              "#bd3786"
             ],
             [
              0.5555555555555556,
              "#d8576b"
             ],
             [
              0.6666666666666666,
              "#ed7953"
             ],
             [
              0.7777777777777778,
              "#fb9f3a"
             ],
             [
              0.8888888888888888,
              "#fdca26"
             ],
             [
              1,
              "#f0f921"
             ]
            ],
            "type": "histogram2dcontour"
           }
          ],
          "mesh3d": [
           {
            "colorbar": {
             "outlinewidth": 0,
             "ticks": ""
            },
            "type": "mesh3d"
           }
          ],
          "parcoords": [
           {
            "line": {
             "colorbar": {
              "outlinewidth": 0,
              "ticks": ""
             }
            },
            "type": "parcoords"
           }
          ],
          "pie": [
           {
            "automargin": true,
            "type": "pie"
           }
          ],
          "scatter": [
           {
            "fillpattern": {
             "fillmode": "overlay",
             "size": 10,
             "solidity": 0.2
            },
            "type": "scatter"
           }
          ],
          "scatter3d": [
           {
            "line": {
             "colorbar": {
              "outlinewidth": 0,
              "ticks": ""
             }
            },
            "marker": {
             "colorbar": {
              "outlinewidth": 0,
              "ticks": ""
             }
            },
            "type": "scatter3d"
           }
          ],
          "scattercarpet": [
           {
            "marker": {
             "colorbar": {
              "outlinewidth": 0,
              "ticks": ""
             }
            },
            "type": "scattercarpet"
           }
          ],
          "scattergeo": [
           {
            "marker": {
             "colorbar": {
              "outlinewidth": 0,
              "ticks": ""
             }
            },
            "type": "scattergeo"
           }
          ],
          "scattergl": [
           {
            "marker": {
             "colorbar": {
              "outlinewidth": 0,
              "ticks": ""
             }
            },
            "type": "scattergl"
           }
          ],
          "scattermapbox": [
           {
            "marker": {
             "colorbar": {
              "outlinewidth": 0,
              "ticks": ""
             }
            },
            "type": "scattermapbox"
           }
          ],
          "scatterpolar": [
           {
            "marker": {
             "colorbar": {
              "outlinewidth": 0,
              "ticks": ""
             }
            },
            "type": "scatterpolar"
           }
          ],
          "scatterpolargl": [
           {
            "marker": {
             "colorbar": {
              "outlinewidth": 0,
              "ticks": ""
             }
            },
            "type": "scatterpolargl"
           }
          ],
          "scatterternary": [
           {
            "marker": {
             "colorbar": {
              "outlinewidth": 0,
              "ticks": ""
             }
            },
            "type": "scatterternary"
           }
          ],
          "surface": [
           {
            "colorbar": {
             "outlinewidth": 0,
             "ticks": ""
            },
            "colorscale": [
             [
              0,
              "#0d0887"
             ],
             [
              0.1111111111111111,
              "#46039f"
             ],
             [
              0.2222222222222222,
              "#7201a8"
             ],
             [
              0.3333333333333333,
              "#9c179e"
             ],
             [
              0.4444444444444444,
              "#bd3786"
             ],
             [
              0.5555555555555556,
              "#d8576b"
             ],
             [
              0.6666666666666666,
              "#ed7953"
             ],
             [
              0.7777777777777778,
              "#fb9f3a"
             ],
             [
              0.8888888888888888,
              "#fdca26"
             ],
             [
              1,
              "#f0f921"
             ]
            ],
            "type": "surface"
           }
          ],
          "table": [
           {
            "cells": {
             "fill": {
              "color": "#EBF0F8"
             },
             "line": {
              "color": "white"
             }
            },
            "header": {
             "fill": {
              "color": "#C8D4E3"
             },
             "line": {
              "color": "white"
             }
            },
            "type": "table"
           }
          ]
         },
         "layout": {
          "annotationdefaults": {
           "arrowcolor": "#2a3f5f",
           "arrowhead": 0,
           "arrowwidth": 1
          },
          "autotypenumbers": "strict",
          "coloraxis": {
           "colorbar": {
            "outlinewidth": 0,
            "ticks": ""
           }
          },
          "colorscale": {
           "diverging": [
            [
             0,
             "#8e0152"
            ],
            [
             0.1,
             "#c51b7d"
            ],
            [
             0.2,
             "#de77ae"
            ],
            [
             0.3,
             "#f1b6da"
            ],
            [
             0.4,
             "#fde0ef"
            ],
            [
             0.5,
             "#f7f7f7"
            ],
            [
             0.6,
             "#e6f5d0"
            ],
            [
             0.7,
             "#b8e186"
            ],
            [
             0.8,
             "#7fbc41"
            ],
            [
             0.9,
             "#4d9221"
            ],
            [
             1,
             "#276419"
            ]
           ],
           "sequential": [
            [
             0,
             "#0d0887"
            ],
            [
             0.1111111111111111,
             "#46039f"
            ],
            [
             0.2222222222222222,
             "#7201a8"
            ],
            [
             0.3333333333333333,
             "#9c179e"
            ],
            [
             0.4444444444444444,
             "#bd3786"
            ],
            [
             0.5555555555555556,
             "#d8576b"
            ],
            [
             0.6666666666666666,
             "#ed7953"
            ],
            [
             0.7777777777777778,
             "#fb9f3a"
            ],
            [
             0.8888888888888888,
             "#fdca26"
            ],
            [
             1,
             "#f0f921"
            ]
           ],
           "sequentialminus": [
            [
             0,
             "#0d0887"
            ],
            [
             0.1111111111111111,
             "#46039f"
            ],
            [
             0.2222222222222222,
             "#7201a8"
            ],
            [
             0.3333333333333333,
             "#9c179e"
            ],
            [
             0.4444444444444444,
             "#bd3786"
            ],
            [
             0.5555555555555556,
             "#d8576b"
            ],
            [
             0.6666666666666666,
             "#ed7953"
            ],
            [
             0.7777777777777778,
             "#fb9f3a"
            ],
            [
             0.8888888888888888,
             "#fdca26"
            ],
            [
             1,
             "#f0f921"
            ]
           ]
          },
          "colorway": [
           "#636efa",
           "#EF553B",
           "#00cc96",
           "#ab63fa",
           "#FFA15A",
           "#19d3f3",
           "#FF6692",
           "#B6E880",
           "#FF97FF",
           "#FECB52"
          ],
          "font": {
           "color": "#2a3f5f"
          },
          "geo": {
           "bgcolor": "white",
           "lakecolor": "white",
           "landcolor": "#E5ECF6",
           "showlakes": true,
           "showland": true,
           "subunitcolor": "white"
          },
          "hoverlabel": {
           "align": "left"
          },
          "hovermode": "closest",
          "mapbox": {
           "style": "light"
          },
          "paper_bgcolor": "white",
          "plot_bgcolor": "#E5ECF6",
          "polar": {
           "angularaxis": {
            "gridcolor": "white",
            "linecolor": "white",
            "ticks": ""
           },
           "bgcolor": "#E5ECF6",
           "radialaxis": {
            "gridcolor": "white",
            "linecolor": "white",
            "ticks": ""
           }
          },
          "scene": {
           "xaxis": {
            "backgroundcolor": "#E5ECF6",
            "gridcolor": "white",
            "gridwidth": 2,
            "linecolor": "white",
            "showbackground": true,
            "ticks": "",
            "zerolinecolor": "white"
           },
           "yaxis": {
            "backgroundcolor": "#E5ECF6",
            "gridcolor": "white",
            "gridwidth": 2,
            "linecolor": "white",
            "showbackground": true,
            "ticks": "",
            "zerolinecolor": "white"
           },
           "zaxis": {
            "backgroundcolor": "#E5ECF6",
            "gridcolor": "white",
            "gridwidth": 2,
            "linecolor": "white",
            "showbackground": true,
            "ticks": "",
            "zerolinecolor": "white"
           }
          },
          "shapedefaults": {
           "line": {
            "color": "#2a3f5f"
           }
          },
          "ternary": {
           "aaxis": {
            "gridcolor": "white",
            "linecolor": "white",
            "ticks": ""
           },
           "baxis": {
            "gridcolor": "white",
            "linecolor": "white",
            "ticks": ""
           },
           "bgcolor": "#E5ECF6",
           "caxis": {
            "gridcolor": "white",
            "linecolor": "white",
            "ticks": ""
           }
          },
          "title": {
           "x": 0.05
          },
          "xaxis": {
           "automargin": true,
           "gridcolor": "white",
           "linecolor": "white",
           "ticks": "",
           "title": {
            "standoff": 15
           },
           "zerolinecolor": "white",
           "zerolinewidth": 2
          },
          "yaxis": {
           "automargin": true,
           "gridcolor": "white",
           "linecolor": "white",
           "ticks": "",
           "title": {
            "standoff": 15
           },
           "zerolinecolor": "white",
           "zerolinewidth": 2
          }
         }
        },
        "title": {
         "text": "status Distribution"
        },
        "xaxis": {
         "title": {
          "text": "status"
         }
        },
        "yaxis": {
         "title": {
          "text": "Count"
         }
        }
       }
      }
     },
     "metadata": {},
     "output_type": "display_data"
    },
    {
     "data": {
      "application/vnd.plotly.v1+json": {
       "config": {
        "plotlyServerURL": "https://plot.ly"
       },
       "data": [
        {
         "name": "gender Distribution",
         "type": "bar",
         "x": [
          "F",
          "M"
         ],
         "y": [
          753,
          880
         ]
        }
       ],
       "layout": {
        "template": {
         "data": {
          "bar": [
           {
            "error_x": {
             "color": "#2a3f5f"
            },
            "error_y": {
             "color": "#2a3f5f"
            },
            "marker": {
             "line": {
              "color": "#E5ECF6",
              "width": 0.5
             },
             "pattern": {
              "fillmode": "overlay",
              "size": 10,
              "solidity": 0.2
             }
            },
            "type": "bar"
           }
          ],
          "barpolar": [
           {
            "marker": {
             "line": {
              "color": "#E5ECF6",
              "width": 0.5
             },
             "pattern": {
              "fillmode": "overlay",
              "size": 10,
              "solidity": 0.2
             }
            },
            "type": "barpolar"
           }
          ],
          "carpet": [
           {
            "aaxis": {
             "endlinecolor": "#2a3f5f",
             "gridcolor": "white",
             "linecolor": "white",
             "minorgridcolor": "white",
             "startlinecolor": "#2a3f5f"
            },
            "baxis": {
             "endlinecolor": "#2a3f5f",
             "gridcolor": "white",
             "linecolor": "white",
             "minorgridcolor": "white",
             "startlinecolor": "#2a3f5f"
            },
            "type": "carpet"
           }
          ],
          "choropleth": [
           {
            "colorbar": {
             "outlinewidth": 0,
             "ticks": ""
            },
            "type": "choropleth"
           }
          ],
          "contour": [
           {
            "colorbar": {
             "outlinewidth": 0,
             "ticks": ""
            },
            "colorscale": [
             [
              0,
              "#0d0887"
             ],
             [
              0.1111111111111111,
              "#46039f"
             ],
             [
              0.2222222222222222,
              "#7201a8"
             ],
             [
              0.3333333333333333,
              "#9c179e"
             ],
             [
              0.4444444444444444,
              "#bd3786"
             ],
             [
              0.5555555555555556,
              "#d8576b"
             ],
             [
              0.6666666666666666,
              "#ed7953"
             ],
             [
              0.7777777777777778,
              "#fb9f3a"
             ],
             [
              0.8888888888888888,
              "#fdca26"
             ],
             [
              1,
              "#f0f921"
             ]
            ],
            "type": "contour"
           }
          ],
          "contourcarpet": [
           {
            "colorbar": {
             "outlinewidth": 0,
             "ticks": ""
            },
            "type": "contourcarpet"
           }
          ],
          "heatmap": [
           {
            "colorbar": {
             "outlinewidth": 0,
             "ticks": ""
            },
            "colorscale": [
             [
              0,
              "#0d0887"
             ],
             [
              0.1111111111111111,
              "#46039f"
             ],
             [
              0.2222222222222222,
              "#7201a8"
             ],
             [
              0.3333333333333333,
              "#9c179e"
             ],
             [
              0.4444444444444444,
              "#bd3786"
             ],
             [
              0.5555555555555556,
              "#d8576b"
             ],
             [
              0.6666666666666666,
              "#ed7953"
             ],
             [
              0.7777777777777778,
              "#fb9f3a"
             ],
             [
              0.8888888888888888,
              "#fdca26"
             ],
             [
              1,
              "#f0f921"
             ]
            ],
            "type": "heatmap"
           }
          ],
          "heatmapgl": [
           {
            "colorbar": {
             "outlinewidth": 0,
             "ticks": ""
            },
            "colorscale": [
             [
              0,
              "#0d0887"
             ],
             [
              0.1111111111111111,
              "#46039f"
             ],
             [
              0.2222222222222222,
              "#7201a8"
             ],
             [
              0.3333333333333333,
              "#9c179e"
             ],
             [
              0.4444444444444444,
              "#bd3786"
             ],
             [
              0.5555555555555556,
              "#d8576b"
             ],
             [
              0.6666666666666666,
              "#ed7953"
             ],
             [
              0.7777777777777778,
              "#fb9f3a"
             ],
             [
              0.8888888888888888,
              "#fdca26"
             ],
             [
              1,
              "#f0f921"
             ]
            ],
            "type": "heatmapgl"
           }
          ],
          "histogram": [
           {
            "marker": {
             "pattern": {
              "fillmode": "overlay",
              "size": 10,
              "solidity": 0.2
             }
            },
            "type": "histogram"
           }
          ],
          "histogram2d": [
           {
            "colorbar": {
             "outlinewidth": 0,
             "ticks": ""
            },
            "colorscale": [
             [
              0,
              "#0d0887"
             ],
             [
              0.1111111111111111,
              "#46039f"
             ],
             [
              0.2222222222222222,
              "#7201a8"
             ],
             [
              0.3333333333333333,
              "#9c179e"
             ],
             [
              0.4444444444444444,
              "#bd3786"
             ],
             [
              0.5555555555555556,
              "#d8576b"
             ],
             [
              0.6666666666666666,
              "#ed7953"
             ],
             [
              0.7777777777777778,
              "#fb9f3a"
             ],
             [
              0.8888888888888888,
              "#fdca26"
             ],
             [
              1,
              "#f0f921"
             ]
            ],
            "type": "histogram2d"
           }
          ],
          "histogram2dcontour": [
           {
            "colorbar": {
             "outlinewidth": 0,
             "ticks": ""
            },
            "colorscale": [
             [
              0,
              "#0d0887"
             ],
             [
              0.1111111111111111,
              "#46039f"
             ],
             [
              0.2222222222222222,
              "#7201a8"
             ],
             [
              0.3333333333333333,
              "#9c179e"
             ],
             [
              0.4444444444444444,
              "#bd3786"
             ],
             [
              0.5555555555555556,
              "#d8576b"
             ],
             [
              0.6666666666666666,
              "#ed7953"
             ],
             [
              0.7777777777777778,
              "#fb9f3a"
             ],
             [
              0.8888888888888888,
              "#fdca26"
             ],
             [
              1,
              "#f0f921"
             ]
            ],
            "type": "histogram2dcontour"
           }
          ],
          "mesh3d": [
           {
            "colorbar": {
             "outlinewidth": 0,
             "ticks": ""
            },
            "type": "mesh3d"
           }
          ],
          "parcoords": [
           {
            "line": {
             "colorbar": {
              "outlinewidth": 0,
              "ticks": ""
             }
            },
            "type": "parcoords"
           }
          ],
          "pie": [
           {
            "automargin": true,
            "type": "pie"
           }
          ],
          "scatter": [
           {
            "fillpattern": {
             "fillmode": "overlay",
             "size": 10,
             "solidity": 0.2
            },
            "type": "scatter"
           }
          ],
          "scatter3d": [
           {
            "line": {
             "colorbar": {
              "outlinewidth": 0,
              "ticks": ""
             }
            },
            "marker": {
             "colorbar": {
              "outlinewidth": 0,
              "ticks": ""
             }
            },
            "type": "scatter3d"
           }
          ],
          "scattercarpet": [
           {
            "marker": {
             "colorbar": {
              "outlinewidth": 0,
              "ticks": ""
             }
            },
            "type": "scattercarpet"
           }
          ],
          "scattergeo": [
           {
            "marker": {
             "colorbar": {
              "outlinewidth": 0,
              "ticks": ""
             }
            },
            "type": "scattergeo"
           }
          ],
          "scattergl": [
           {
            "marker": {
             "colorbar": {
              "outlinewidth": 0,
              "ticks": ""
             }
            },
            "type": "scattergl"
           }
          ],
          "scattermapbox": [
           {
            "marker": {
             "colorbar": {
              "outlinewidth": 0,
              "ticks": ""
             }
            },
            "type": "scattermapbox"
           }
          ],
          "scatterpolar": [
           {
            "marker": {
             "colorbar": {
              "outlinewidth": 0,
              "ticks": ""
             }
            },
            "type": "scatterpolar"
           }
          ],
          "scatterpolargl": [
           {
            "marker": {
             "colorbar": {
              "outlinewidth": 0,
              "ticks": ""
             }
            },
            "type": "scatterpolargl"
           }
          ],
          "scatterternary": [
           {
            "marker": {
             "colorbar": {
              "outlinewidth": 0,
              "ticks": ""
             }
            },
            "type": "scatterternary"
           }
          ],
          "surface": [
           {
            "colorbar": {
             "outlinewidth": 0,
             "ticks": ""
            },
            "colorscale": [
             [
              0,
              "#0d0887"
             ],
             [
              0.1111111111111111,
              "#46039f"
             ],
             [
              0.2222222222222222,
              "#7201a8"
             ],
             [
              0.3333333333333333,
              "#9c179e"
             ],
             [
              0.4444444444444444,
              "#bd3786"
             ],
             [
              0.5555555555555556,
              "#d8576b"
             ],
             [
              0.6666666666666666,
              "#ed7953"
             ],
             [
              0.7777777777777778,
              "#fb9f3a"
             ],
             [
              0.8888888888888888,
              "#fdca26"
             ],
             [
              1,
              "#f0f921"
             ]
            ],
            "type": "surface"
           }
          ],
          "table": [
           {
            "cells": {
             "fill": {
              "color": "#EBF0F8"
             },
             "line": {
              "color": "white"
             }
            },
            "header": {
             "fill": {
              "color": "#C8D4E3"
             },
             "line": {
              "color": "white"
             }
            },
            "type": "table"
           }
          ]
         },
         "layout": {
          "annotationdefaults": {
           "arrowcolor": "#2a3f5f",
           "arrowhead": 0,
           "arrowwidth": 1
          },
          "autotypenumbers": "strict",
          "coloraxis": {
           "colorbar": {
            "outlinewidth": 0,
            "ticks": ""
           }
          },
          "colorscale": {
           "diverging": [
            [
             0,
             "#8e0152"
            ],
            [
             0.1,
             "#c51b7d"
            ],
            [
             0.2,
             "#de77ae"
            ],
            [
             0.3,
             "#f1b6da"
            ],
            [
             0.4,
             "#fde0ef"
            ],
            [
             0.5,
             "#f7f7f7"
            ],
            [
             0.6,
             "#e6f5d0"
            ],
            [
             0.7,
             "#b8e186"
            ],
            [
             0.8,
             "#7fbc41"
            ],
            [
             0.9,
             "#4d9221"
            ],
            [
             1,
             "#276419"
            ]
           ],
           "sequential": [
            [
             0,
             "#0d0887"
            ],
            [
             0.1111111111111111,
             "#46039f"
            ],
            [
             0.2222222222222222,
             "#7201a8"
            ],
            [
             0.3333333333333333,
             "#9c179e"
            ],
            [
             0.4444444444444444,
             "#bd3786"
            ],
            [
             0.5555555555555556,
             "#d8576b"
            ],
            [
             0.6666666666666666,
             "#ed7953"
            ],
            [
             0.7777777777777778,
             "#fb9f3a"
            ],
            [
             0.8888888888888888,
             "#fdca26"
            ],
            [
             1,
             "#f0f921"
            ]
           ],
           "sequentialminus": [
            [
             0,
             "#0d0887"
            ],
            [
             0.1111111111111111,
             "#46039f"
            ],
            [
             0.2222222222222222,
             "#7201a8"
            ],
            [
             0.3333333333333333,
             "#9c179e"
            ],
            [
             0.4444444444444444,
             "#bd3786"
            ],
            [
             0.5555555555555556,
             "#d8576b"
            ],
            [
             0.6666666666666666,
             "#ed7953"
            ],
            [
             0.7777777777777778,
             "#fb9f3a"
            ],
            [
             0.8888888888888888,
             "#fdca26"
            ],
            [
             1,
             "#f0f921"
            ]
           ]
          },
          "colorway": [
           "#636efa",
           "#EF553B",
           "#00cc96",
           "#ab63fa",
           "#FFA15A",
           "#19d3f3",
           "#FF6692",
           "#B6E880",
           "#FF97FF",
           "#FECB52"
          ],
          "font": {
           "color": "#2a3f5f"
          },
          "geo": {
           "bgcolor": "white",
           "lakecolor": "white",
           "landcolor": "#E5ECF6",
           "showlakes": true,
           "showland": true,
           "subunitcolor": "white"
          },
          "hoverlabel": {
           "align": "left"
          },
          "hovermode": "closest",
          "mapbox": {
           "style": "light"
          },
          "paper_bgcolor": "white",
          "plot_bgcolor": "#E5ECF6",
          "polar": {
           "angularaxis": {
            "gridcolor": "white",
            "linecolor": "white",
            "ticks": ""
           },
           "bgcolor": "#E5ECF6",
           "radialaxis": {
            "gridcolor": "white",
            "linecolor": "white",
            "ticks": ""
           }
          },
          "scene": {
           "xaxis": {
            "backgroundcolor": "#E5ECF6",
            "gridcolor": "white",
            "gridwidth": 2,
            "linecolor": "white",
            "showbackground": true,
            "ticks": "",
            "zerolinecolor": "white"
           },
           "yaxis": {
            "backgroundcolor": "#E5ECF6",
            "gridcolor": "white",
            "gridwidth": 2,
            "linecolor": "white",
            "showbackground": true,
            "ticks": "",
            "zerolinecolor": "white"
           },
           "zaxis": {
            "backgroundcolor": "#E5ECF6",
            "gridcolor": "white",
            "gridwidth": 2,
            "linecolor": "white",
            "showbackground": true,
            "ticks": "",
            "zerolinecolor": "white"
           }
          },
          "shapedefaults": {
           "line": {
            "color": "#2a3f5f"
           }
          },
          "ternary": {
           "aaxis": {
            "gridcolor": "white",
            "linecolor": "white",
            "ticks": ""
           },
           "baxis": {
            "gridcolor": "white",
            "linecolor": "white",
            "ticks": ""
           },
           "bgcolor": "#E5ECF6",
           "caxis": {
            "gridcolor": "white",
            "linecolor": "white",
            "ticks": ""
           }
          },
          "title": {
           "x": 0.05
          },
          "xaxis": {
           "automargin": true,
           "gridcolor": "white",
           "linecolor": "white",
           "ticks": "",
           "title": {
            "standoff": 15
           },
           "zerolinecolor": "white",
           "zerolinewidth": 2
          },
          "yaxis": {
           "automargin": true,
           "gridcolor": "white",
           "linecolor": "white",
           "ticks": "",
           "title": {
            "standoff": 15
           },
           "zerolinecolor": "white",
           "zerolinewidth": 2
          }
         }
        },
        "title": {
         "text": "gender Distribution"
        },
        "xaxis": {
         "title": {
          "text": "gender"
         }
        },
        "yaxis": {
         "title": {
          "text": "Count"
         }
        }
       }
      }
     },
     "metadata": {},
     "output_type": "display_data"
    },
    {
     "data": {
      "application/vnd.plotly.v1+json": {
       "config": {
        "plotlyServerURL": "https://plot.ly"
       },
       "data": [
        {
         "name": "regionName Distribution",
         "type": "bar",
         "x": [
          "Africa",
          "Asia",
          "Central America",
          "Europe",
          "North America",
          "Oceania",
          "South America"
         ],
         "y": [
          32,
          78,
          19,
          206,
          694,
          99,
          50
         ]
        }
       ],
       "layout": {
        "template": {
         "data": {
          "bar": [
           {
            "error_x": {
             "color": "#2a3f5f"
            },
            "error_y": {
             "color": "#2a3f5f"
            },
            "marker": {
             "line": {
              "color": "#E5ECF6",
              "width": 0.5
             },
             "pattern": {
              "fillmode": "overlay",
              "size": 10,
              "solidity": 0.2
             }
            },
            "type": "bar"
           }
          ],
          "barpolar": [
           {
            "marker": {
             "line": {
              "color": "#E5ECF6",
              "width": 0.5
             },
             "pattern": {
              "fillmode": "overlay",
              "size": 10,
              "solidity": 0.2
             }
            },
            "type": "barpolar"
           }
          ],
          "carpet": [
           {
            "aaxis": {
             "endlinecolor": "#2a3f5f",
             "gridcolor": "white",
             "linecolor": "white",
             "minorgridcolor": "white",
             "startlinecolor": "#2a3f5f"
            },
            "baxis": {
             "endlinecolor": "#2a3f5f",
             "gridcolor": "white",
             "linecolor": "white",
             "minorgridcolor": "white",
             "startlinecolor": "#2a3f5f"
            },
            "type": "carpet"
           }
          ],
          "choropleth": [
           {
            "colorbar": {
             "outlinewidth": 0,
             "ticks": ""
            },
            "type": "choropleth"
           }
          ],
          "contour": [
           {
            "colorbar": {
             "outlinewidth": 0,
             "ticks": ""
            },
            "colorscale": [
             [
              0,
              "#0d0887"
             ],
             [
              0.1111111111111111,
              "#46039f"
             ],
             [
              0.2222222222222222,
              "#7201a8"
             ],
             [
              0.3333333333333333,
              "#9c179e"
             ],
             [
              0.4444444444444444,
              "#bd3786"
             ],
             [
              0.5555555555555556,
              "#d8576b"
             ],
             [
              0.6666666666666666,
              "#ed7953"
             ],
             [
              0.7777777777777778,
              "#fb9f3a"
             ],
             [
              0.8888888888888888,
              "#fdca26"
             ],
             [
              1,
              "#f0f921"
             ]
            ],
            "type": "contour"
           }
          ],
          "contourcarpet": [
           {
            "colorbar": {
             "outlinewidth": 0,
             "ticks": ""
            },
            "type": "contourcarpet"
           }
          ],
          "heatmap": [
           {
            "colorbar": {
             "outlinewidth": 0,
             "ticks": ""
            },
            "colorscale": [
             [
              0,
              "#0d0887"
             ],
             [
              0.1111111111111111,
              "#46039f"
             ],
             [
              0.2222222222222222,
              "#7201a8"
             ],
             [
              0.3333333333333333,
              "#9c179e"
             ],
             [
              0.4444444444444444,
              "#bd3786"
             ],
             [
              0.5555555555555556,
              "#d8576b"
             ],
             [
              0.6666666666666666,
              "#ed7953"
             ],
             [
              0.7777777777777778,
              "#fb9f3a"
             ],
             [
              0.8888888888888888,
              "#fdca26"
             ],
             [
              1,
              "#f0f921"
             ]
            ],
            "type": "heatmap"
           }
          ],
          "heatmapgl": [
           {
            "colorbar": {
             "outlinewidth": 0,
             "ticks": ""
            },
            "colorscale": [
             [
              0,
              "#0d0887"
             ],
             [
              0.1111111111111111,
              "#46039f"
             ],
             [
              0.2222222222222222,
              "#7201a8"
             ],
             [
              0.3333333333333333,
              "#9c179e"
             ],
             [
              0.4444444444444444,
              "#bd3786"
             ],
             [
              0.5555555555555556,
              "#d8576b"
             ],
             [
              0.6666666666666666,
              "#ed7953"
             ],
             [
              0.7777777777777778,
              "#fb9f3a"
             ],
             [
              0.8888888888888888,
              "#fdca26"
             ],
             [
              1,
              "#f0f921"
             ]
            ],
            "type": "heatmapgl"
           }
          ],
          "histogram": [
           {
            "marker": {
             "pattern": {
              "fillmode": "overlay",
              "size": 10,
              "solidity": 0.2
             }
            },
            "type": "histogram"
           }
          ],
          "histogram2d": [
           {
            "colorbar": {
             "outlinewidth": 0,
             "ticks": ""
            },
            "colorscale": [
             [
              0,
              "#0d0887"
             ],
             [
              0.1111111111111111,
              "#46039f"
             ],
             [
              0.2222222222222222,
              "#7201a8"
             ],
             [
              0.3333333333333333,
              "#9c179e"
             ],
             [
              0.4444444444444444,
              "#bd3786"
             ],
             [
              0.5555555555555556,
              "#d8576b"
             ],
             [
              0.6666666666666666,
              "#ed7953"
             ],
             [
              0.7777777777777778,
              "#fb9f3a"
             ],
             [
              0.8888888888888888,
              "#fdca26"
             ],
             [
              1,
              "#f0f921"
             ]
            ],
            "type": "histogram2d"
           }
          ],
          "histogram2dcontour": [
           {
            "colorbar": {
             "outlinewidth": 0,
             "ticks": ""
            },
            "colorscale": [
             [
              0,
              "#0d0887"
             ],
             [
              0.1111111111111111,
              "#46039f"
             ],
             [
              0.2222222222222222,
              "#7201a8"
             ],
             [
              0.3333333333333333,
              "#9c179e"
             ],
             [
              0.4444444444444444,
              "#bd3786"
             ],
             [
              0.5555555555555556,
              "#d8576b"
             ],
             [
              0.6666666666666666,
              "#ed7953"
             ],
             [
              0.7777777777777778,
              "#fb9f3a"
             ],
             [
              0.8888888888888888,
              "#fdca26"
             ],
             [
              1,
              "#f0f921"
             ]
            ],
            "type": "histogram2dcontour"
           }
          ],
          "mesh3d": [
           {
            "colorbar": {
             "outlinewidth": 0,
             "ticks": ""
            },
            "type": "mesh3d"
           }
          ],
          "parcoords": [
           {
            "line": {
             "colorbar": {
              "outlinewidth": 0,
              "ticks": ""
             }
            },
            "type": "parcoords"
           }
          ],
          "pie": [
           {
            "automargin": true,
            "type": "pie"
           }
          ],
          "scatter": [
           {
            "fillpattern": {
             "fillmode": "overlay",
             "size": 10,
             "solidity": 0.2
            },
            "type": "scatter"
           }
          ],
          "scatter3d": [
           {
            "line": {
             "colorbar": {
              "outlinewidth": 0,
              "ticks": ""
             }
            },
            "marker": {
             "colorbar": {
              "outlinewidth": 0,
              "ticks": ""
             }
            },
            "type": "scatter3d"
           }
          ],
          "scattercarpet": [
           {
            "marker": {
             "colorbar": {
              "outlinewidth": 0,
              "ticks": ""
             }
            },
            "type": "scattercarpet"
           }
          ],
          "scattergeo": [
           {
            "marker": {
             "colorbar": {
              "outlinewidth": 0,
              "ticks": ""
             }
            },
            "type": "scattergeo"
           }
          ],
          "scattergl": [
           {
            "marker": {
             "colorbar": {
              "outlinewidth": 0,
              "ticks": ""
             }
            },
            "type": "scattergl"
           }
          ],
          "scattermapbox": [
           {
            "marker": {
             "colorbar": {
              "outlinewidth": 0,
              "ticks": ""
             }
            },
            "type": "scattermapbox"
           }
          ],
          "scatterpolar": [
           {
            "marker": {
             "colorbar": {
              "outlinewidth": 0,
              "ticks": ""
             }
            },
            "type": "scatterpolar"
           }
          ],
          "scatterpolargl": [
           {
            "marker": {
             "colorbar": {
              "outlinewidth": 0,
              "ticks": ""
             }
            },
            "type": "scatterpolargl"
           }
          ],
          "scatterternary": [
           {
            "marker": {
             "colorbar": {
              "outlinewidth": 0,
              "ticks": ""
             }
            },
            "type": "scatterternary"
           }
          ],
          "surface": [
           {
            "colorbar": {
             "outlinewidth": 0,
             "ticks": ""
            },
            "colorscale": [
             [
              0,
              "#0d0887"
             ],
             [
              0.1111111111111111,
              "#46039f"
             ],
             [
              0.2222222222222222,
              "#7201a8"
             ],
             [
              0.3333333333333333,
              "#9c179e"
             ],
             [
              0.4444444444444444,
              "#bd3786"
             ],
             [
              0.5555555555555556,
              "#d8576b"
             ],
             [
              0.6666666666666666,
              "#ed7953"
             ],
             [
              0.7777777777777778,
              "#fb9f3a"
             ],
             [
              0.8888888888888888,
              "#fdca26"
             ],
             [
              1,
              "#f0f921"
             ]
            ],
            "type": "surface"
           }
          ],
          "table": [
           {
            "cells": {
             "fill": {
              "color": "#EBF0F8"
             },
             "line": {
              "color": "white"
             }
            },
            "header": {
             "fill": {
              "color": "#C8D4E3"
             },
             "line": {
              "color": "white"
             }
            },
            "type": "table"
           }
          ]
         },
         "layout": {
          "annotationdefaults": {
           "arrowcolor": "#2a3f5f",
           "arrowhead": 0,
           "arrowwidth": 1
          },
          "autotypenumbers": "strict",
          "coloraxis": {
           "colorbar": {
            "outlinewidth": 0,
            "ticks": ""
           }
          },
          "colorscale": {
           "diverging": [
            [
             0,
             "#8e0152"
            ],
            [
             0.1,
             "#c51b7d"
            ],
            [
             0.2,
             "#de77ae"
            ],
            [
             0.3,
             "#f1b6da"
            ],
            [
             0.4,
             "#fde0ef"
            ],
            [
             0.5,
             "#f7f7f7"
            ],
            [
             0.6,
             "#e6f5d0"
            ],
            [
             0.7,
             "#b8e186"
            ],
            [
             0.8,
             "#7fbc41"
            ],
            [
             0.9,
             "#4d9221"
            ],
            [
             1,
             "#276419"
            ]
           ],
           "sequential": [
            [
             0,
             "#0d0887"
            ],
            [
             0.1111111111111111,
             "#46039f"
            ],
            [
             0.2222222222222222,
             "#7201a8"
            ],
            [
             0.3333333333333333,
             "#9c179e"
            ],
            [
             0.4444444444444444,
             "#bd3786"
            ],
            [
             0.5555555555555556,
             "#d8576b"
            ],
            [
             0.6666666666666666,
             "#ed7953"
            ],
            [
             0.7777777777777778,
             "#fb9f3a"
            ],
            [
             0.8888888888888888,
             "#fdca26"
            ],
            [
             1,
             "#f0f921"
            ]
           ],
           "sequentialminus": [
            [
             0,
             "#0d0887"
            ],
            [
             0.1111111111111111,
             "#46039f"
            ],
            [
             0.2222222222222222,
             "#7201a8"
            ],
            [
             0.3333333333333333,
             "#9c179e"
            ],
            [
             0.4444444444444444,
             "#bd3786"
            ],
            [
             0.5555555555555556,
             "#d8576b"
            ],
            [
             0.6666666666666666,
             "#ed7953"
            ],
            [
             0.7777777777777778,
             "#fb9f3a"
            ],
            [
             0.8888888888888888,
             "#fdca26"
            ],
            [
             1,
             "#f0f921"
            ]
           ]
          },
          "colorway": [
           "#636efa",
           "#EF553B",
           "#00cc96",
           "#ab63fa",
           "#FFA15A",
           "#19d3f3",
           "#FF6692",
           "#B6E880",
           "#FF97FF",
           "#FECB52"
          ],
          "font": {
           "color": "#2a3f5f"
          },
          "geo": {
           "bgcolor": "white",
           "lakecolor": "white",
           "landcolor": "#E5ECF6",
           "showlakes": true,
           "showland": true,
           "subunitcolor": "white"
          },
          "hoverlabel": {
           "align": "left"
          },
          "hovermode": "closest",
          "mapbox": {
           "style": "light"
          },
          "paper_bgcolor": "white",
          "plot_bgcolor": "#E5ECF6",
          "polar": {
           "angularaxis": {
            "gridcolor": "white",
            "linecolor": "white",
            "ticks": ""
           },
           "bgcolor": "#E5ECF6",
           "radialaxis": {
            "gridcolor": "white",
            "linecolor": "white",
            "ticks": ""
           }
          },
          "scene": {
           "xaxis": {
            "backgroundcolor": "#E5ECF6",
            "gridcolor": "white",
            "gridwidth": 2,
            "linecolor": "white",
            "showbackground": true,
            "ticks": "",
            "zerolinecolor": "white"
           },
           "yaxis": {
            "backgroundcolor": "#E5ECF6",
            "gridcolor": "white",
            "gridwidth": 2,
            "linecolor": "white",
            "showbackground": true,
            "ticks": "",
            "zerolinecolor": "white"
           },
           "zaxis": {
            "backgroundcolor": "#E5ECF6",
            "gridcolor": "white",
            "gridwidth": 2,
            "linecolor": "white",
            "showbackground": true,
            "ticks": "",
            "zerolinecolor": "white"
           }
          },
          "shapedefaults": {
           "line": {
            "color": "#2a3f5f"
           }
          },
          "ternary": {
           "aaxis": {
            "gridcolor": "white",
            "linecolor": "white",
            "ticks": ""
           },
           "baxis": {
            "gridcolor": "white",
            "linecolor": "white",
            "ticks": ""
           },
           "bgcolor": "#E5ECF6",
           "caxis": {
            "gridcolor": "white",
            "linecolor": "white",
            "ticks": ""
           }
          },
          "title": {
           "x": 0.05
          },
          "xaxis": {
           "automargin": true,
           "gridcolor": "white",
           "linecolor": "white",
           "ticks": "",
           "title": {
            "standoff": 15
           },
           "zerolinecolor": "white",
           "zerolinewidth": 2
          },
          "yaxis": {
           "automargin": true,
           "gridcolor": "white",
           "linecolor": "white",
           "ticks": "",
           "title": {
            "standoff": 15
           },
           "zerolinecolor": "white",
           "zerolinewidth": 2
          }
         }
        },
        "title": {
         "text": "regionName Distribution"
        },
        "xaxis": {
         "title": {
          "text": "regionName"
         }
        },
        "yaxis": {
         "title": {
          "text": "Count"
         }
        }
       }
      }
     },
     "metadata": {},
     "output_type": "display_data"
    }
   ],
   "source": [
    "# Loop over each numeric column in numerical_games\n",
    "for column in categorical_games[['status', 'gender', 'regionName']].columns:\n",
    "    # Create a count for the current column\n",
    "    count = categorical_games[column].value_counts().sort_index()\n",
    "    \n",
    "    # Create a histogram trace for the current column\n",
    "    trace = go.Bar(\n",
    "        x=count.index,\n",
    "        y=count.values,\n",
    "        name=f\"{column} Distribution\"\n",
    "    )\n",
    "\n",
    "    # Create the figure and add the trace\n",
    "    fig = go.Figure(trace)\n",
    "\n",
    "    # Update the layout\n",
    "    fig.update_layout(\n",
    "        title=f\"{column} Distribution\",\n",
    "        xaxis=dict(title=column),\n",
    "        yaxis=dict(title=\"Count\"),\n",
    "    )\n",
    "\n",
    "    # Show the plot\n",
    "    fig.show()"
   ]
  },
  {
   "cell_type": "code",
   "execution_count": 12,
   "metadata": {},
   "outputs": [
    {
     "data": {
      "application/vnd.plotly.v1+json": {
       "config": {
        "plotlyServerURL": "https://plot.ly"
       },
       "data": [
        {
         "type": "bar",
         "x": [
          "Africa",
          "Asia",
          "Central America",
          "Europe",
          "North America",
          "Oceania",
          "South America"
         ],
         "y": [
          118.25,
          107.96153846153847,
          26.68421052631579,
          377.8252427184466,
          496.2406340057637,
          475.2323232323232,
          95.48
         ]
        }
       ],
       "layout": {
        "template": {
         "data": {
          "bar": [
           {
            "error_x": {
             "color": "#2a3f5f"
            },
            "error_y": {
             "color": "#2a3f5f"
            },
            "marker": {
             "line": {
              "color": "#E5ECF6",
              "width": 0.5
             },
             "pattern": {
              "fillmode": "overlay",
              "size": 10,
              "solidity": 0.2
             }
            },
            "type": "bar"
           }
          ],
          "barpolar": [
           {
            "marker": {
             "line": {
              "color": "#E5ECF6",
              "width": 0.5
             },
             "pattern": {
              "fillmode": "overlay",
              "size": 10,
              "solidity": 0.2
             }
            },
            "type": "barpolar"
           }
          ],
          "carpet": [
           {
            "aaxis": {
             "endlinecolor": "#2a3f5f",
             "gridcolor": "white",
             "linecolor": "white",
             "minorgridcolor": "white",
             "startlinecolor": "#2a3f5f"
            },
            "baxis": {
             "endlinecolor": "#2a3f5f",
             "gridcolor": "white",
             "linecolor": "white",
             "minorgridcolor": "white",
             "startlinecolor": "#2a3f5f"
            },
            "type": "carpet"
           }
          ],
          "choropleth": [
           {
            "colorbar": {
             "outlinewidth": 0,
             "ticks": ""
            },
            "type": "choropleth"
           }
          ],
          "contour": [
           {
            "colorbar": {
             "outlinewidth": 0,
             "ticks": ""
            },
            "colorscale": [
             [
              0,
              "#0d0887"
             ],
             [
              0.1111111111111111,
              "#46039f"
             ],
             [
              0.2222222222222222,
              "#7201a8"
             ],
             [
              0.3333333333333333,
              "#9c179e"
             ],
             [
              0.4444444444444444,
              "#bd3786"
             ],
             [
              0.5555555555555556,
              "#d8576b"
             ],
             [
              0.6666666666666666,
              "#ed7953"
             ],
             [
              0.7777777777777778,
              "#fb9f3a"
             ],
             [
              0.8888888888888888,
              "#fdca26"
             ],
             [
              1,
              "#f0f921"
             ]
            ],
            "type": "contour"
           }
          ],
          "contourcarpet": [
           {
            "colorbar": {
             "outlinewidth": 0,
             "ticks": ""
            },
            "type": "contourcarpet"
           }
          ],
          "heatmap": [
           {
            "colorbar": {
             "outlinewidth": 0,
             "ticks": ""
            },
            "colorscale": [
             [
              0,
              "#0d0887"
             ],
             [
              0.1111111111111111,
              "#46039f"
             ],
             [
              0.2222222222222222,
              "#7201a8"
             ],
             [
              0.3333333333333333,
              "#9c179e"
             ],
             [
              0.4444444444444444,
              "#bd3786"
             ],
             [
              0.5555555555555556,
              "#d8576b"
             ],
             [
              0.6666666666666666,
              "#ed7953"
             ],
             [
              0.7777777777777778,
              "#fb9f3a"
             ],
             [
              0.8888888888888888,
              "#fdca26"
             ],
             [
              1,
              "#f0f921"
             ]
            ],
            "type": "heatmap"
           }
          ],
          "heatmapgl": [
           {
            "colorbar": {
             "outlinewidth": 0,
             "ticks": ""
            },
            "colorscale": [
             [
              0,
              "#0d0887"
             ],
             [
              0.1111111111111111,
              "#46039f"
             ],
             [
              0.2222222222222222,
              "#7201a8"
             ],
             [
              0.3333333333333333,
              "#9c179e"
             ],
             [
              0.4444444444444444,
              "#bd3786"
             ],
             [
              0.5555555555555556,
              "#d8576b"
             ],
             [
              0.6666666666666666,
              "#ed7953"
             ],
             [
              0.7777777777777778,
              "#fb9f3a"
             ],
             [
              0.8888888888888888,
              "#fdca26"
             ],
             [
              1,
              "#f0f921"
             ]
            ],
            "type": "heatmapgl"
           }
          ],
          "histogram": [
           {
            "marker": {
             "pattern": {
              "fillmode": "overlay",
              "size": 10,
              "solidity": 0.2
             }
            },
            "type": "histogram"
           }
          ],
          "histogram2d": [
           {
            "colorbar": {
             "outlinewidth": 0,
             "ticks": ""
            },
            "colorscale": [
             [
              0,
              "#0d0887"
             ],
             [
              0.1111111111111111,
              "#46039f"
             ],
             [
              0.2222222222222222,
              "#7201a8"
             ],
             [
              0.3333333333333333,
              "#9c179e"
             ],
             [
              0.4444444444444444,
              "#bd3786"
             ],
             [
              0.5555555555555556,
              "#d8576b"
             ],
             [
              0.6666666666666666,
              "#ed7953"
             ],
             [
              0.7777777777777778,
              "#fb9f3a"
             ],
             [
              0.8888888888888888,
              "#fdca26"
             ],
             [
              1,
              "#f0f921"
             ]
            ],
            "type": "histogram2d"
           }
          ],
          "histogram2dcontour": [
           {
            "colorbar": {
             "outlinewidth": 0,
             "ticks": ""
            },
            "colorscale": [
             [
              0,
              "#0d0887"
             ],
             [
              0.1111111111111111,
              "#46039f"
             ],
             [
              0.2222222222222222,
              "#7201a8"
             ],
             [
              0.3333333333333333,
              "#9c179e"
             ],
             [
              0.4444444444444444,
              "#bd3786"
             ],
             [
              0.5555555555555556,
              "#d8576b"
             ],
             [
              0.6666666666666666,
              "#ed7953"
             ],
             [
              0.7777777777777778,
              "#fb9f3a"
             ],
             [
              0.8888888888888888,
              "#fdca26"
             ],
             [
              1,
              "#f0f921"
             ]
            ],
            "type": "histogram2dcontour"
           }
          ],
          "mesh3d": [
           {
            "colorbar": {
             "outlinewidth": 0,
             "ticks": ""
            },
            "type": "mesh3d"
           }
          ],
          "parcoords": [
           {
            "line": {
             "colorbar": {
              "outlinewidth": 0,
              "ticks": ""
             }
            },
            "type": "parcoords"
           }
          ],
          "pie": [
           {
            "automargin": true,
            "type": "pie"
           }
          ],
          "scatter": [
           {
            "fillpattern": {
             "fillmode": "overlay",
             "size": 10,
             "solidity": 0.2
            },
            "type": "scatter"
           }
          ],
          "scatter3d": [
           {
            "line": {
             "colorbar": {
              "outlinewidth": 0,
              "ticks": ""
             }
            },
            "marker": {
             "colorbar": {
              "outlinewidth": 0,
              "ticks": ""
             }
            },
            "type": "scatter3d"
           }
          ],
          "scattercarpet": [
           {
            "marker": {
             "colorbar": {
              "outlinewidth": 0,
              "ticks": ""
             }
            },
            "type": "scattercarpet"
           }
          ],
          "scattergeo": [
           {
            "marker": {
             "colorbar": {
              "outlinewidth": 0,
              "ticks": ""
             }
            },
            "type": "scattergeo"
           }
          ],
          "scattergl": [
           {
            "marker": {
             "colorbar": {
              "outlinewidth": 0,
              "ticks": ""
             }
            },
            "type": "scattergl"
           }
          ],
          "scattermapbox": [
           {
            "marker": {
             "colorbar": {
              "outlinewidth": 0,
              "ticks": ""
             }
            },
            "type": "scattermapbox"
           }
          ],
          "scatterpolar": [
           {
            "marker": {
             "colorbar": {
              "outlinewidth": 0,
              "ticks": ""
             }
            },
            "type": "scatterpolar"
           }
          ],
          "scatterpolargl": [
           {
            "marker": {
             "colorbar": {
              "outlinewidth": 0,
              "ticks": ""
             }
            },
            "type": "scatterpolargl"
           }
          ],
          "scatterternary": [
           {
            "marker": {
             "colorbar": {
              "outlinewidth": 0,
              "ticks": ""
             }
            },
            "type": "scatterternary"
           }
          ],
          "surface": [
           {
            "colorbar": {
             "outlinewidth": 0,
             "ticks": ""
            },
            "colorscale": [
             [
              0,
              "#0d0887"
             ],
             [
              0.1111111111111111,
              "#46039f"
             ],
             [
              0.2222222222222222,
              "#7201a8"
             ],
             [
              0.3333333333333333,
              "#9c179e"
             ],
             [
              0.4444444444444444,
              "#bd3786"
             ],
             [
              0.5555555555555556,
              "#d8576b"
             ],
             [
              0.6666666666666666,
              "#ed7953"
             ],
             [
              0.7777777777777778,
              "#fb9f3a"
             ],
             [
              0.8888888888888888,
              "#fdca26"
             ],
             [
              1,
              "#f0f921"
             ]
            ],
            "type": "surface"
           }
          ],
          "table": [
           {
            "cells": {
             "fill": {
              "color": "#EBF0F8"
             },
             "line": {
              "color": "white"
             }
            },
            "header": {
             "fill": {
              "color": "#C8D4E3"
             },
             "line": {
              "color": "white"
             }
            },
            "type": "table"
           }
          ]
         },
         "layout": {
          "annotationdefaults": {
           "arrowcolor": "#2a3f5f",
           "arrowhead": 0,
           "arrowwidth": 1
          },
          "autotypenumbers": "strict",
          "coloraxis": {
           "colorbar": {
            "outlinewidth": 0,
            "ticks": ""
           }
          },
          "colorscale": {
           "diverging": [
            [
             0,
             "#8e0152"
            ],
            [
             0.1,
             "#c51b7d"
            ],
            [
             0.2,
             "#de77ae"
            ],
            [
             0.3,
             "#f1b6da"
            ],
            [
             0.4,
             "#fde0ef"
            ],
            [
             0.5,
             "#f7f7f7"
            ],
            [
             0.6,
             "#e6f5d0"
            ],
            [
             0.7,
             "#b8e186"
            ],
            [
             0.8,
             "#7fbc41"
            ],
            [
             0.9,
             "#4d9221"
            ],
            [
             1,
             "#276419"
            ]
           ],
           "sequential": [
            [
             0,
             "#0d0887"
            ],
            [
             0.1111111111111111,
             "#46039f"
            ],
            [
             0.2222222222222222,
             "#7201a8"
            ],
            [
             0.3333333333333333,
             "#9c179e"
            ],
            [
             0.4444444444444444,
             "#bd3786"
            ],
            [
             0.5555555555555556,
             "#d8576b"
            ],
            [
             0.6666666666666666,
             "#ed7953"
            ],
            [
             0.7777777777777778,
             "#fb9f3a"
            ],
            [
             0.8888888888888888,
             "#fdca26"
            ],
            [
             1,
             "#f0f921"
            ]
           ],
           "sequentialminus": [
            [
             0,
             "#0d0887"
            ],
            [
             0.1111111111111111,
             "#46039f"
            ],
            [
             0.2222222222222222,
             "#7201a8"
            ],
            [
             0.3333333333333333,
             "#9c179e"
            ],
            [
             0.4444444444444444,
             "#bd3786"
            ],
            [
             0.5555555555555556,
             "#d8576b"
            ],
            [
             0.6666666666666666,
             "#ed7953"
            ],
            [
             0.7777777777777778,
             "#fb9f3a"
            ],
            [
             0.8888888888888888,
             "#fdca26"
            ],
            [
             1,
             "#f0f921"
            ]
           ]
          },
          "colorway": [
           "#636efa",
           "#EF553B",
           "#00cc96",
           "#ab63fa",
           "#FFA15A",
           "#19d3f3",
           "#FF6692",
           "#B6E880",
           "#FF97FF",
           "#FECB52"
          ],
          "font": {
           "color": "#2a3f5f"
          },
          "geo": {
           "bgcolor": "white",
           "lakecolor": "white",
           "landcolor": "#E5ECF6",
           "showlakes": true,
           "showland": true,
           "subunitcolor": "white"
          },
          "hoverlabel": {
           "align": "left"
          },
          "hovermode": "closest",
          "mapbox": {
           "style": "light"
          },
          "paper_bgcolor": "white",
          "plot_bgcolor": "#E5ECF6",
          "polar": {
           "angularaxis": {
            "gridcolor": "white",
            "linecolor": "white",
            "ticks": ""
           },
           "bgcolor": "#E5ECF6",
           "radialaxis": {
            "gridcolor": "white",
            "linecolor": "white",
            "ticks": ""
           }
          },
          "scene": {
           "xaxis": {
            "backgroundcolor": "#E5ECF6",
            "gridcolor": "white",
            "gridwidth": 2,
            "linecolor": "white",
            "showbackground": true,
            "ticks": "",
            "zerolinecolor": "white"
           },
           "yaxis": {
            "backgroundcolor": "#E5ECF6",
            "gridcolor": "white",
            "gridwidth": 2,
            "linecolor": "white",
            "showbackground": true,
            "ticks": "",
            "zerolinecolor": "white"
           },
           "zaxis": {
            "backgroundcolor": "#E5ECF6",
            "gridcolor": "white",
            "gridwidth": 2,
            "linecolor": "white",
            "showbackground": true,
            "ticks": "",
            "zerolinecolor": "white"
           }
          },
          "shapedefaults": {
           "line": {
            "color": "#2a3f5f"
           }
          },
          "ternary": {
           "aaxis": {
            "gridcolor": "white",
            "linecolor": "white",
            "ticks": ""
           },
           "baxis": {
            "gridcolor": "white",
            "linecolor": "white",
            "ticks": ""
           },
           "bgcolor": "#E5ECF6",
           "caxis": {
            "gridcolor": "white",
            "linecolor": "white",
            "ticks": ""
           }
          },
          "title": {
           "x": 0.05
          },
          "xaxis": {
           "automargin": true,
           "gridcolor": "white",
           "linecolor": "white",
           "ticks": "",
           "title": {
            "standoff": 15
           },
           "zerolinecolor": "white",
           "zerolinewidth": 2
          },
          "yaxis": {
           "automargin": true,
           "gridcolor": "white",
           "linecolor": "white",
           "ticks": "",
           "title": {
            "standoff": 15
           },
           "zerolinecolor": "white",
           "zerolinewidth": 2
          }
         }
        },
        "title": {
         "text": "Average overallScore by regionName"
        },
        "xaxis": {
         "title": {
          "text": "regionName"
         }
        },
        "yaxis": {
         "title": {
          "text": "Average overallScore"
         }
        }
       }
      }
     },
     "metadata": {},
     "output_type": "display_data"
    }
   ],
   "source": [
    "# Create a average score per region\n",
    "average_score = df_games_conso.groupby('regionName')['overallScore'].mean()\n",
    "\n",
    "# Create a histogram trace for the current column\n",
    "trace = go.Bar(\n",
    "    x=average_score.index,\n",
    "    y=average_score.values\n",
    ")\n",
    "\n",
    "# Create the figure and add the trace\n",
    "fig = go.Figure(trace)\n",
    "\n",
    "# Update the layout\n",
    "fig.update_layout(\n",
    "    title=\"Average overallScore by regionName\",\n",
    "    xaxis=dict(title=\"regionName\"),\n",
    "    yaxis=dict(title=\"Average overallScore\"),\n",
    ")\n",
    "\n",
    "# Show the plot\n",
    "fig.show()"
   ]
  },
  {
   "cell_type": "code",
   "execution_count": 13,
   "metadata": {},
   "outputs": [
    {
     "data": {
      "application/vnd.plotly.v1+json": {
       "config": {
        "plotlyServerURL": "https://plot.ly"
       },
       "data": [
        {
         "type": "bar",
         "x": [
          "Africa",
          "Asia",
          "Central America",
          "Europe",
          "North America",
          "Oceania",
          "South America"
         ],
         "y": [
          72.78125,
          74.7948717948718,
          78.52631578947368,
          33.54368932038835,
          21.412103746397694,
          25.434343434343436,
          72.26
         ]
        }
       ],
       "layout": {
        "template": {
         "data": {
          "bar": [
           {
            "error_x": {
             "color": "#2a3f5f"
            },
            "error_y": {
             "color": "#2a3f5f"
            },
            "marker": {
             "line": {
              "color": "#E5ECF6",
              "width": 0.5
             },
             "pattern": {
              "fillmode": "overlay",
              "size": 10,
              "solidity": 0.2
             }
            },
            "type": "bar"
           }
          ],
          "barpolar": [
           {
            "marker": {
             "line": {
              "color": "#E5ECF6",
              "width": 0.5
             },
             "pattern": {
              "fillmode": "overlay",
              "size": 10,
              "solidity": 0.2
             }
            },
            "type": "barpolar"
           }
          ],
          "carpet": [
           {
            "aaxis": {
             "endlinecolor": "#2a3f5f",
             "gridcolor": "white",
             "linecolor": "white",
             "minorgridcolor": "white",
             "startlinecolor": "#2a3f5f"
            },
            "baxis": {
             "endlinecolor": "#2a3f5f",
             "gridcolor": "white",
             "linecolor": "white",
             "minorgridcolor": "white",
             "startlinecolor": "#2a3f5f"
            },
            "type": "carpet"
           }
          ],
          "choropleth": [
           {
            "colorbar": {
             "outlinewidth": 0,
             "ticks": ""
            },
            "type": "choropleth"
           }
          ],
          "contour": [
           {
            "colorbar": {
             "outlinewidth": 0,
             "ticks": ""
            },
            "colorscale": [
             [
              0,
              "#0d0887"
             ],
             [
              0.1111111111111111,
              "#46039f"
             ],
             [
              0.2222222222222222,
              "#7201a8"
             ],
             [
              0.3333333333333333,
              "#9c179e"
             ],
             [
              0.4444444444444444,
              "#bd3786"
             ],
             [
              0.5555555555555556,
              "#d8576b"
             ],
             [
              0.6666666666666666,
              "#ed7953"
             ],
             [
              0.7777777777777778,
              "#fb9f3a"
             ],
             [
              0.8888888888888888,
              "#fdca26"
             ],
             [
              1,
              "#f0f921"
             ]
            ],
            "type": "contour"
           }
          ],
          "contourcarpet": [
           {
            "colorbar": {
             "outlinewidth": 0,
             "ticks": ""
            },
            "type": "contourcarpet"
           }
          ],
          "heatmap": [
           {
            "colorbar": {
             "outlinewidth": 0,
             "ticks": ""
            },
            "colorscale": [
             [
              0,
              "#0d0887"
             ],
             [
              0.1111111111111111,
              "#46039f"
             ],
             [
              0.2222222222222222,
              "#7201a8"
             ],
             [
              0.3333333333333333,
              "#9c179e"
             ],
             [
              0.4444444444444444,
              "#bd3786"
             ],
             [
              0.5555555555555556,
              "#d8576b"
             ],
             [
              0.6666666666666666,
              "#ed7953"
             ],
             [
              0.7777777777777778,
              "#fb9f3a"
             ],
             [
              0.8888888888888888,
              "#fdca26"
             ],
             [
              1,
              "#f0f921"
             ]
            ],
            "type": "heatmap"
           }
          ],
          "heatmapgl": [
           {
            "colorbar": {
             "outlinewidth": 0,
             "ticks": ""
            },
            "colorscale": [
             [
              0,
              "#0d0887"
             ],
             [
              0.1111111111111111,
              "#46039f"
             ],
             [
              0.2222222222222222,
              "#7201a8"
             ],
             [
              0.3333333333333333,
              "#9c179e"
             ],
             [
              0.4444444444444444,
              "#bd3786"
             ],
             [
              0.5555555555555556,
              "#d8576b"
             ],
             [
              0.6666666666666666,
              "#ed7953"
             ],
             [
              0.7777777777777778,
              "#fb9f3a"
             ],
             [
              0.8888888888888888,
              "#fdca26"
             ],
             [
              1,
              "#f0f921"
             ]
            ],
            "type": "heatmapgl"
           }
          ],
          "histogram": [
           {
            "marker": {
             "pattern": {
              "fillmode": "overlay",
              "size": 10,
              "solidity": 0.2
             }
            },
            "type": "histogram"
           }
          ],
          "histogram2d": [
           {
            "colorbar": {
             "outlinewidth": 0,
             "ticks": ""
            },
            "colorscale": [
             [
              0,
              "#0d0887"
             ],
             [
              0.1111111111111111,
              "#46039f"
             ],
             [
              0.2222222222222222,
              "#7201a8"
             ],
             [
              0.3333333333333333,
              "#9c179e"
             ],
             [
              0.4444444444444444,
              "#bd3786"
             ],
             [
              0.5555555555555556,
              "#d8576b"
             ],
             [
              0.6666666666666666,
              "#ed7953"
             ],
             [
              0.7777777777777778,
              "#fb9f3a"
             ],
             [
              0.8888888888888888,
              "#fdca26"
             ],
             [
              1,
              "#f0f921"
             ]
            ],
            "type": "histogram2d"
           }
          ],
          "histogram2dcontour": [
           {
            "colorbar": {
             "outlinewidth": 0,
             "ticks": ""
            },
            "colorscale": [
             [
              0,
              "#0d0887"
             ],
             [
              0.1111111111111111,
              "#46039f"
             ],
             [
              0.2222222222222222,
              "#7201a8"
             ],
             [
              0.3333333333333333,
              "#9c179e"
             ],
             [
              0.4444444444444444,
              "#bd3786"
             ],
             [
              0.5555555555555556,
              "#d8576b"
             ],
             [
              0.6666666666666666,
              "#ed7953"
             ],
             [
              0.7777777777777778,
              "#fb9f3a"
             ],
             [
              0.8888888888888888,
              "#fdca26"
             ],
             [
              1,
              "#f0f921"
             ]
            ],
            "type": "histogram2dcontour"
           }
          ],
          "mesh3d": [
           {
            "colorbar": {
             "outlinewidth": 0,
             "ticks": ""
            },
            "type": "mesh3d"
           }
          ],
          "parcoords": [
           {
            "line": {
             "colorbar": {
              "outlinewidth": 0,
              "ticks": ""
             }
            },
            "type": "parcoords"
           }
          ],
          "pie": [
           {
            "automargin": true,
            "type": "pie"
           }
          ],
          "scatter": [
           {
            "fillpattern": {
             "fillmode": "overlay",
             "size": 10,
             "solidity": 0.2
            },
            "type": "scatter"
           }
          ],
          "scatter3d": [
           {
            "line": {
             "colorbar": {
              "outlinewidth": 0,
              "ticks": ""
             }
            },
            "marker": {
             "colorbar": {
              "outlinewidth": 0,
              "ticks": ""
             }
            },
            "type": "scatter3d"
           }
          ],
          "scattercarpet": [
           {
            "marker": {
             "colorbar": {
              "outlinewidth": 0,
              "ticks": ""
             }
            },
            "type": "scattercarpet"
           }
          ],
          "scattergeo": [
           {
            "marker": {
             "colorbar": {
              "outlinewidth": 0,
              "ticks": ""
             }
            },
            "type": "scattergeo"
           }
          ],
          "scattergl": [
           {
            "marker": {
             "colorbar": {
              "outlinewidth": 0,
              "ticks": ""
             }
            },
            "type": "scattergl"
           }
          ],
          "scattermapbox": [
           {
            "marker": {
             "colorbar": {
              "outlinewidth": 0,
              "ticks": ""
             }
            },
            "type": "scattermapbox"
           }
          ],
          "scatterpolar": [
           {
            "marker": {
             "colorbar": {
              "outlinewidth": 0,
              "ticks": ""
             }
            },
            "type": "scatterpolar"
           }
          ],
          "scatterpolargl": [
           {
            "marker": {
             "colorbar": {
              "outlinewidth": 0,
              "ticks": ""
             }
            },
            "type": "scatterpolargl"
           }
          ],
          "scatterternary": [
           {
            "marker": {
             "colorbar": {
              "outlinewidth": 0,
              "ticks": ""
             }
            },
            "type": "scatterternary"
           }
          ],
          "surface": [
           {
            "colorbar": {
             "outlinewidth": 0,
             "ticks": ""
            },
            "colorscale": [
             [
              0,
              "#0d0887"
             ],
             [
              0.1111111111111111,
              "#46039f"
             ],
             [
              0.2222222222222222,
              "#7201a8"
             ],
             [
              0.3333333333333333,
              "#9c179e"
             ],
             [
              0.4444444444444444,
              "#bd3786"
             ],
             [
              0.5555555555555556,
              "#d8576b"
             ],
             [
              0.6666666666666666,
              "#ed7953"
             ],
             [
              0.7777777777777778,
              "#fb9f3a"
             ],
             [
              0.8888888888888888,
              "#fdca26"
             ],
             [
              1,
              "#f0f921"
             ]
            ],
            "type": "surface"
           }
          ],
          "table": [
           {
            "cells": {
             "fill": {
              "color": "#EBF0F8"
             },
             "line": {
              "color": "white"
             }
            },
            "header": {
             "fill": {
              "color": "#C8D4E3"
             },
             "line": {
              "color": "white"
             }
            },
            "type": "table"
           }
          ]
         },
         "layout": {
          "annotationdefaults": {
           "arrowcolor": "#2a3f5f",
           "arrowhead": 0,
           "arrowwidth": 1
          },
          "autotypenumbers": "strict",
          "coloraxis": {
           "colorbar": {
            "outlinewidth": 0,
            "ticks": ""
           }
          },
          "colorscale": {
           "diverging": [
            [
             0,
             "#8e0152"
            ],
            [
             0.1,
             "#c51b7d"
            ],
            [
             0.2,
             "#de77ae"
            ],
            [
             0.3,
             "#f1b6da"
            ],
            [
             0.4,
             "#fde0ef"
            ],
            [
             0.5,
             "#f7f7f7"
            ],
            [
             0.6,
             "#e6f5d0"
            ],
            [
             0.7,
             "#b8e186"
            ],
            [
             0.8,
             "#7fbc41"
            ],
            [
             0.9,
             "#4d9221"
            ],
            [
             1,
             "#276419"
            ]
           ],
           "sequential": [
            [
             0,
             "#0d0887"
            ],
            [
             0.1111111111111111,
             "#46039f"
            ],
            [
             0.2222222222222222,
             "#7201a8"
            ],
            [
             0.3333333333333333,
             "#9c179e"
            ],
            [
             0.4444444444444444,
             "#bd3786"
            ],
            [
             0.5555555555555556,
             "#d8576b"
            ],
            [
             0.6666666666666666,
             "#ed7953"
            ],
            [
             0.7777777777777778,
             "#fb9f3a"
            ],
            [
             0.8888888888888888,
             "#fdca26"
            ],
            [
             1,
             "#f0f921"
            ]
           ],
           "sequentialminus": [
            [
             0,
             "#0d0887"
            ],
            [
             0.1111111111111111,
             "#46039f"
            ],
            [
             0.2222222222222222,
             "#7201a8"
            ],
            [
             0.3333333333333333,
             "#9c179e"
            ],
            [
             0.4444444444444444,
             "#bd3786"
            ],
            [
             0.5555555555555556,
             "#d8576b"
            ],
            [
             0.6666666666666666,
             "#ed7953"
            ],
            [
             0.7777777777777778,
             "#fb9f3a"
            ],
            [
             0.8888888888888888,
             "#fdca26"
            ],
            [
             1,
             "#f0f921"
            ]
           ]
          },
          "colorway": [
           "#636efa",
           "#EF553B",
           "#00cc96",
           "#ab63fa",
           "#FFA15A",
           "#19d3f3",
           "#FF6692",
           "#B6E880",
           "#FF97FF",
           "#FECB52"
          ],
          "font": {
           "color": "#2a3f5f"
          },
          "geo": {
           "bgcolor": "white",
           "lakecolor": "white",
           "landcolor": "#E5ECF6",
           "showlakes": true,
           "showland": true,
           "subunitcolor": "white"
          },
          "hoverlabel": {
           "align": "left"
          },
          "hovermode": "closest",
          "mapbox": {
           "style": "light"
          },
          "paper_bgcolor": "white",
          "plot_bgcolor": "#E5ECF6",
          "polar": {
           "angularaxis": {
            "gridcolor": "white",
            "linecolor": "white",
            "ticks": ""
           },
           "bgcolor": "#E5ECF6",
           "radialaxis": {
            "gridcolor": "white",
            "linecolor": "white",
            "ticks": ""
           }
          },
          "scene": {
           "xaxis": {
            "backgroundcolor": "#E5ECF6",
            "gridcolor": "white",
            "gridwidth": 2,
            "linecolor": "white",
            "showbackground": true,
            "ticks": "",
            "zerolinecolor": "white"
           },
           "yaxis": {
            "backgroundcolor": "#E5ECF6",
            "gridcolor": "white",
            "gridwidth": 2,
            "linecolor": "white",
            "showbackground": true,
            "ticks": "",
            "zerolinecolor": "white"
           },
           "zaxis": {
            "backgroundcolor": "#E5ECF6",
            "gridcolor": "white",
            "gridwidth": 2,
            "linecolor": "white",
            "showbackground": true,
            "ticks": "",
            "zerolinecolor": "white"
           }
          },
          "shapedefaults": {
           "line": {
            "color": "#2a3f5f"
           }
          },
          "ternary": {
           "aaxis": {
            "gridcolor": "white",
            "linecolor": "white",
            "ticks": ""
           },
           "baxis": {
            "gridcolor": "white",
            "linecolor": "white",
            "ticks": ""
           },
           "bgcolor": "#E5ECF6",
           "caxis": {
            "gridcolor": "white",
            "linecolor": "white",
            "ticks": ""
           }
          },
          "title": {
           "x": 0.05
          },
          "xaxis": {
           "automargin": true,
           "gridcolor": "white",
           "linecolor": "white",
           "ticks": "",
           "title": {
            "standoff": 15
           },
           "zerolinecolor": "white",
           "zerolinewidth": 2
          },
          "yaxis": {
           "automargin": true,
           "gridcolor": "white",
           "linecolor": "white",
           "ticks": "",
           "title": {
            "standoff": 15
           },
           "zerolinecolor": "white",
           "zerolinewidth": 2
          }
         }
        },
        "title": {
         "text": "Average overallRank by regionName"
        },
        "xaxis": {
         "title": {
          "text": "regionName"
         }
        },
        "yaxis": {
         "title": {
          "text": "Average overallRank"
         }
        }
       }
      }
     },
     "metadata": {},
     "output_type": "display_data"
    }
   ],
   "source": [
    "# Create a average rank per region\n",
    "average_rank = df_games_conso.groupby('regionName')['overallRank'].mean()\n",
    "\n",
    "# Create a histogram trace for the current column\n",
    "trace = go.Bar(\n",
    "    x=average_rank.index,\n",
    "    y=average_rank.values\n",
    ")\n",
    "\n",
    "# Create the figure and add the trace\n",
    "fig = go.Figure(trace)\n",
    "\n",
    "# Update the layout\n",
    "fig.update_layout(\n",
    "    title=\"Average overallRank by regionName\",\n",
    "    xaxis=dict(title=\"regionName\"),\n",
    "    yaxis=dict(title=\"Average overallRank\"),\n",
    ")\n",
    "\n",
    "# Show the plot\n",
    "fig.show()"
   ]
  }
 ],
 "metadata": {
  "kernelspec": {
   "display_name": "Python 3",
   "language": "python",
   "name": "python3"
  },
  "language_info": {
   "codemirror_mode": {
    "name": "ipython",
    "version": 3
   },
   "file_extension": ".py",
   "mimetype": "text/x-python",
   "name": "python",
   "nbconvert_exporter": "python",
   "pygments_lexer": "ipython3",
   "version": "3.11.4"
  },
  "orig_nbformat": 4
 },
 "nbformat": 4,
 "nbformat_minor": 2
}
