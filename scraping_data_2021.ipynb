{
 "cells": [
  {
   "attachments": {},
   "cell_type": "markdown",
   "metadata": {},
   "source": [
    "# Imports"
   ]
  },
  {
   "cell_type": "code",
   "execution_count": null,
   "metadata": {},
   "outputs": [],
   "source": [
    "import pandas as pd\n",
    "import requests\n",
    "import nbimporter\n",
    "from nbimporter import NotebookLoader\n",
    "\n",
    "loader = NotebookLoader('.')\n",
    "module = loader.load_module('scraping_data_functions')"
   ]
  },
  {
   "attachments": {},
   "cell_type": "markdown",
   "metadata": {},
   "source": [
    "# Data Scraping"
   ]
  },
  {
   "attachments": {},
   "cell_type": "markdown",
   "metadata": {},
   "source": [
    "### 2021"
   ]
  },
  {
   "attachments": {},
   "cell_type": "markdown",
   "metadata": {},
   "source": [
    "##### Open"
   ]
  },
  {
   "attachments": {},
   "cell_type": "markdown",
   "metadata": {},
   "source": [
    "###### Athletes information"
   ]
  },
  {
   "cell_type": "code",
   "execution_count": null,
   "metadata": {},
   "outputs": [],
   "source": [
    "# Query 1 - 2021 Open Not Scores\n",
    "df_2021_open_not_scores = module.scraping_data_open_and_games('2021', 'open')\n",
    "\n",
    "df_2021_open_not_scores"
   ]
  },
  {
   "attachments": {},
   "cell_type": "markdown",
   "metadata": {},
   "source": [
    "###### Athletes scores"
   ]
  },
  {
   "cell_type": "code",
   "execution_count": null,
   "metadata": {},
   "outputs": [],
   "source": [
    "# Query 2 - 2021 Open Scores\n",
    "df_2021_open_scores = module.scraping_data_open_and_games('2021', 'open', scores=True)\n",
    "\n",
    "df_2021_open_scores"
   ]
  },
  {
   "attachments": {},
   "cell_type": "markdown",
   "metadata": {},
   "source": [
    "##### Quarterfinals"
   ]
  },
  {
   "attachments": {},
   "cell_type": "markdown",
   "metadata": {},
   "source": [
    "###### Athletes information"
   ]
  },
  {
   "cell_type": "code",
   "execution_count": null,
   "metadata": {},
   "outputs": [],
   "source": [
    "base_url = \"https://c3po.crossfit.com/api/leaderboards/v2/competitions/quarterfinalsindividual/2021/leaderboards\"\n",
    "\n",
    "data_list = []\n",
    "genders = [1, 2]\n",
    "\n",
    "# Iterate over each gender\n",
    "for gender in genders:\n",
    "    # Create the initial API URL to fetch the data for the first page\n",
    "    url = f\"{base_url}?division={gender}&page=1\"\n",
    "    try:\n",
    "        # Fetch the response for the first page\n",
    "        response = requests.get(url).json()\n",
    "        # Extract the total number of pages from the response\n",
    "        total_pages = response['pagination']['totalPages']\n",
    "        # Iterate over each page\n",
    "        for page in range(1, total_pages + 1):\n",
    "            # Create the API URL for each page\n",
    "            url = f\"{base_url}?division={gender}&page={page}\"\n",
    "            try:\n",
    "                # Fetch the response for the current page\n",
    "                response = requests.get(url).json()\n",
    "                # Extract the data for each row in the leaderboardRows\n",
    "                for row in response['leaderboardRows']:\n",
    "                    # Copy the entrant data and add additional fields for overallRank and overallScore\n",
    "                    row_data = row['entrant'].copy()\n",
    "                    row_data['overallRank'] = row['overallRank']\n",
    "                    row_data['overallScore'] = row['overallScore']\n",
    "                    # Append the row data to the data_list\n",
    "                    data_list.append(row_data)\n",
    "            except Exception as e:\n",
    "                # Handle any errors that occur during the API request for a specific page\n",
    "                print(f\"Error occurred while fetching data for gender={gender}, page={page}: {e}\")\n",
    "    except Exception as e:\n",
    "        # Handle any errors that occur during the API request for fetching total_pages\n",
    "        print(f\"Error occurred while fetching total_pages for gender={gender}: {e}\")\n",
    "\n",
    "# Create a DataFrame from the collected data_list\n",
    "df = pd.DataFrame(data_list)\n",
    "\n",
    "df"
   ]
  },
  {
   "attachments": {},
   "cell_type": "markdown",
   "metadata": {},
   "source": [
    "###### Athletes scores"
   ]
  },
  {
   "cell_type": "code",
   "execution_count": null,
   "metadata": {},
   "outputs": [],
   "source": [
    "base_url = \"https://c3po.crossfit.com/api/leaderboards/v2/competitions/quarterfinalsindividual/2021/leaderboards\"\n",
    "\n",
    "data_list = []\n",
    "genders = [1, 2]\n",
    "\n",
    "# Iterate over each gender\n",
    "for gender in genders:\n",
    "    # Create the initial API URL to fetch the data for the first page\n",
    "    url = f\"{base_url}?division={gender}&page=1\"\n",
    "    try:\n",
    "        # Fetch the response for the first page\n",
    "        response = requests.get(url).json()\n",
    "        # Extract the total number of pages from the response\n",
    "        total_pages = response['pagination']['totalPages']\n",
    "        # Iterate over each page\n",
    "        for page in range(1, total_pages + 1):\n",
    "            # Create the API URL for each page\n",
    "            url = f\"{base_url}?division={gender}&page={page}\"\n",
    "            try:\n",
    "                # Fetch the response for the current page\n",
    "                response = requests.get(url).json()\n",
    "                # Extract the data for each row in the leaderboardRows\n",
    "                for row in response['leaderboardRows']:\n",
    "                    # Extract the total number of ordinals from the scores\n",
    "                    total_ordinals = pd.DataFrame(row['scores'] for row in response['leaderboardRows']).shape[1]\n",
    "                    # Iterate over each ordinal\n",
    "                    for ordinal in range(0, total_ordinals):\n",
    "                        # Copy the entrant data and add additional fields for overallRank and overallScore\n",
    "                        row_data = row['scores'][ordinal].copy()\n",
    "                        row_data['competitorId'] = row['entrant']['competitorId']\n",
    "                        # Append the row data to the data_list\n",
    "                        data_list.append(row_data)\n",
    "            except Exception as e:\n",
    "                # Handle any errors that occur during the API request for a specific page\n",
    "                print(f\"Error occurred while fetching data for gender={gender}, page={page}: {e}\")\n",
    "    except Exception as e:\n",
    "        # Handle any errors that occur during the API request for fetching total_pages\n",
    "        print(f\"Error occurred while fetching total_pages for gender={gender}: {e}\")\n",
    "\n",
    "# Create a DataFrame from the collected data_list\n",
    "df = pd.DataFrame(data_list)\n",
    "\n",
    "df"
   ]
  },
  {
   "attachments": {},
   "cell_type": "markdown",
   "metadata": {},
   "source": [
    "##### Semifinals"
   ]
  },
  {
   "attachments": {},
   "cell_type": "markdown",
   "metadata": {},
   "source": [
    "###### Athletes information"
   ]
  },
  {
   "cell_type": "code",
   "execution_count": null,
   "metadata": {},
   "outputs": [],
   "source": [
    "base_url = \"https://c3po.crossfit.com/api/leaderboards/v2/competitions/semifinals/2021/leaderboards\"\n",
    "\n",
    "data_list = []\n",
    "semifinals = [176, 177, 178, 179, 180, 181, 182, 183, 184, 185, 187]\n",
    "genders = [1, 2]\n",
    "\n",
    "# Iterate over each semifinal\n",
    "for semifinal in semifinals:\n",
    "    # Iterate over each gender\n",
    "    for gender in genders:\n",
    "        # Create the initial API URL to fetch the data for the first page\n",
    "        url = f\"{base_url}?semifinal={semifinal}&division={gender}&page=1\"\n",
    "        try:\n",
    "            # Fetch the response for the first page\n",
    "            response = requests.get(url).json()\n",
    "            # Extract the total number of pages from the response\n",
    "            total_pages = response['pagination']['totalPages']\n",
    "            # Iterate over each page\n",
    "            for page in range(1, total_pages + 1):\n",
    "                # Create the API URL for each page\n",
    "                url = f\"{base_url}?semifinal={semifinal}&division={gender}&page={page}\"\n",
    "                try:\n",
    "                    # Fetch the response for the current page\n",
    "                    response = requests.get(url).json()\n",
    "                    # Extract the data for each row in the leaderboardRows\n",
    "                    for row in response['leaderboardRows']:\n",
    "                        # Copy the entrant data and add additional fields for overallRank and overallScore\n",
    "                        row_data = row['entrant'].copy()\n",
    "                        row_data['overallRank'] = row['overallRank']\n",
    "                        row_data['overallScore'] = row['overallScore']\n",
    "                        # Append the row data to the data_list\n",
    "                        data_list.append(row_data)\n",
    "                except Exception as e:\n",
    "                    # Handle any errors that occur during the API request for a specific page\n",
    "                    print(f\"Error occurred while fetching data for semifinal={semifinal}, gender={gender}, page={page}: {e}\")\n",
    "        except Exception as e:\n",
    "            # Handle any errors that occur during the API request for fetching total_pages\n",
    "            print(f\"Error occurred while fetching total_pages for semifinal={semifinal}, gender={gender}: {e}\")\n",
    "\n",
    "# Create a DataFrame from the collected data_list\n",
    "df = pd.DataFrame(data_list)\n",
    "\n",
    "df"
   ]
  },
  {
   "attachments": {},
   "cell_type": "markdown",
   "metadata": {},
   "source": [
    "###### Athletes scores"
   ]
  },
  {
   "cell_type": "code",
   "execution_count": null,
   "metadata": {},
   "outputs": [],
   "source": [
    "base_url = \"https://c3po.crossfit.com/api/leaderboards/v2/competitions/semifinals/2021/leaderboards\"\n",
    "\n",
    "data_list = []\n",
    "semifinals = [176, 177, 178, 179, 180, 181, 182, 183, 184, 185, 187]\n",
    "genders = [1, 2]\n",
    "\n",
    "# Iterate over each semifinal\n",
    "for semifinal in semifinals:\n",
    "    # Iterate over each gender\n",
    "    for gender in genders:\n",
    "        # Create the initial API URL to fetch the data for the first page\n",
    "        url = f\"{base_url}?semifinal={semifinal}&division={gender}&page=1\"\n",
    "        try:\n",
    "            # Fetch the response for the first page\n",
    "            response = requests.get(url).json()\n",
    "            # Extract the total number of pages from the response\n",
    "            total_pages = response['pagination']['totalPages']\n",
    "            # Iterate over each page\n",
    "            for page in range(1, total_pages + 1):\n",
    "                # Create the API URL for each page\n",
    "                url = f\"{base_url}?semifinal={semifinal}&division={gender}&page={page}\"\n",
    "                try:\n",
    "                    # Fetch the response for the current page\n",
    "                    response = requests.get(url).json()\n",
    "                    # Extract the data for each row in the leaderboardRows\n",
    "                    for row in response['leaderboardRows']:\n",
    "                        # Extract the total number of ordinals from the scores\n",
    "                        total_ordinals = pd.DataFrame(row['scores'] for row in response['leaderboardRows']).shape[1]\n",
    "                        # Iterate over each ordinal\n",
    "                        for ordinal in range(0, total_ordinals):\n",
    "                            # Copy the entrant data and add additional fields for overallRank and overallScore\n",
    "                            row_data = row['scores'][ordinal].copy()\n",
    "                            row_data['competitorId'] = row['entrant']['competitorId']\n",
    "                            # Append the row data to the data_list\n",
    "                            data_list.append(row_data)\n",
    "                except Exception as e:\n",
    "                    # Handle any errors that occur during the API request for a specific page\n",
    "                    print(f\"Error occurred while fetching data for semifinal={semifinal}, gender={gender}, page={page}: {e}\")\n",
    "        except Exception as e:\n",
    "            # Handle any errors that occur during the API request for fetching total_pages\n",
    "            print(f\"Error occurred while fetching total_pages for semifinal={semifinal}, gender={gender}: {e}\")\n",
    "\n",
    "# Create a DataFrame from the collected data_list\n",
    "df = pd.DataFrame(data_list)\n",
    "\n",
    "df"
   ]
  },
  {
   "attachments": {},
   "cell_type": "markdown",
   "metadata": {},
   "source": [
    "##### Games"
   ]
  },
  {
   "attachments": {},
   "cell_type": "markdown",
   "metadata": {},
   "source": [
    "###### Athletes information"
   ]
  },
  {
   "cell_type": "code",
   "execution_count": null,
   "metadata": {},
   "outputs": [],
   "source": [
    "# Query 7 - 2021 Games Not Scores\n",
    "df_2021_games_not_scores = module.scraping_data_open_and_games('2021', 'games')\n",
    "\n",
    "df_2021_games_not_scores"
   ]
  },
  {
   "attachments": {},
   "cell_type": "markdown",
   "metadata": {},
   "source": [
    "###### Athletes scores"
   ]
  },
  {
   "cell_type": "code",
   "execution_count": null,
   "metadata": {},
   "outputs": [],
   "source": [
    "# Query 8 - 2021 Games Scores\n",
    "df_2021_games_scores = module.scraping_data_open_and_games('2021', 'games', scores=True)\n",
    "\n",
    "df_2021_games_scores"
   ]
  }
 ],
 "metadata": {
  "kernelspec": {
   "display_name": "Python 3",
   "language": "python",
   "name": "python3"
  },
  "language_info": {
   "codemirror_mode": {
    "name": "ipython",
    "version": 3
   },
   "file_extension": ".py",
   "mimetype": "text/x-python",
   "name": "python",
   "nbconvert_exporter": "python",
   "pygments_lexer": "ipython3",
   "version": "3.11.4"
  },
  "orig_nbformat": 4
 },
 "nbformat": 4,
 "nbformat_minor": 2
}
