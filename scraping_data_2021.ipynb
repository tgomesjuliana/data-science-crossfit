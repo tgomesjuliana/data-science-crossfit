{
 "cells": [
  {
   "attachments": {},
   "cell_type": "markdown",
   "metadata": {},
   "source": [
    "# Imports"
   ]
  },
  {
   "cell_type": "code",
   "execution_count": null,
   "metadata": {},
   "outputs": [],
   "source": [
    "import pandas as pd\n",
    "import requests\n",
    "import nbimporter\n",
    "from nbimporter import NotebookLoader\n",
    "\n",
    "loader = NotebookLoader('.')\n",
    "module = loader.load_module('scraping_data_functions')"
   ]
  },
  {
   "attachments": {},
   "cell_type": "markdown",
   "metadata": {},
   "source": [
    "# Data Scraping"
   ]
  },
  {
   "attachments": {},
   "cell_type": "markdown",
   "metadata": {},
   "source": [
    "### 2021"
   ]
  },
  {
   "attachments": {},
   "cell_type": "markdown",
   "metadata": {},
   "source": [
    "##### Open"
   ]
  },
  {
   "attachments": {},
   "cell_type": "markdown",
   "metadata": {},
   "source": [
    "###### Athletes information"
   ]
  },
  {
   "cell_type": "code",
   "execution_count": null,
   "metadata": {},
   "outputs": [],
   "source": [
    "# Query 1 - 2021 Open Not Scores\n",
    "df_2021_open_not_scores = module.scraping_data_open_and_games('2021', 'open')\n",
    "\n",
    "df_2021_open_not_scores"
   ]
  },
  {
   "attachments": {},
   "cell_type": "markdown",
   "metadata": {},
   "source": [
    "###### Athletes scores"
   ]
  },
  {
   "cell_type": "code",
   "execution_count": null,
   "metadata": {},
   "outputs": [],
   "source": [
    "# Query 2 - 2021 Open Scores\n",
    "df_2021_open_scores = module.scraping_data_open_and_games('2021', 'open', scores=True)\n",
    "\n",
    "df_2021_open_scores"
   ]
  },
  {
   "attachments": {},
   "cell_type": "markdown",
   "metadata": {},
   "source": [
    "##### Quarterfinals"
   ]
  },
  {
   "attachments": {},
   "cell_type": "markdown",
   "metadata": {},
   "source": [
    "###### Athletes information"
   ]
  },
  {
   "cell_type": "code",
   "execution_count": null,
   "metadata": {},
   "outputs": [],
   "source": [
    "# Query 3 - 2021 Quarterfinals Not Scores\n",
    "df_2021_quarterfinals_not_scores = module.scraping_data_open_and_games('2021', 'quarterfinalsindividual')\n",
    "\n",
    "df_2021_quarterfinals_not_scores"
   ]
  },
  {
   "attachments": {},
   "cell_type": "markdown",
   "metadata": {},
   "source": [
    "###### Athletes scores"
   ]
  },
  {
   "cell_type": "code",
   "execution_count": null,
   "metadata": {},
   "outputs": [],
   "source": [
    "# Query 4 - 2021 Quarterfinals Scores\n",
    "df_2021_quarterfinals_scores = module.scraping_data_open_and_games('2021', 'quarterfinalsindividual', scores=True)\n",
    "\n",
    "df_2021_quarterfinals_scores"
   ]
  },
  {
   "attachments": {},
   "cell_type": "markdown",
   "metadata": {},
   "source": [
    "##### Semifinals"
   ]
  },
  {
   "attachments": {},
   "cell_type": "markdown",
   "metadata": {},
   "source": [
    "###### Athletes information"
   ]
  },
  {
   "cell_type": "code",
   "execution_count": null,
   "metadata": {},
   "outputs": [],
   "source": [
    "# Query 5 - 2021 Semifinals Not Scores\n",
    "parameters = [176, 177, 178, 179, 180, 181, 182, 183, 184, 185, 187]\n",
    "\n",
    "df_2021_semifinals_not_scores = module.scraping_data_quarterfinal_and_semifinal('2021', 'semifinal', parameters)\n",
    "\n",
    "df_2021_semifinals_not_scores"
   ]
  },
  {
   "attachments": {},
   "cell_type": "markdown",
   "metadata": {},
   "source": [
    "###### Athletes scores"
   ]
  },
  {
   "cell_type": "code",
   "execution_count": null,
   "metadata": {},
   "outputs": [],
   "source": [
    "# Query 6 - 2021 Semifinals Scores\n",
    "parameters = [176, 177, 178, 179, 180, 181, 182, 183, 184, 185, 187]\n",
    "\n",
    "df_2021_semifinals_scores = module.scraping_data_quarterfinal_and_semifinal('2021', 'semifinal', parameters, scores=True)\n",
    "\n",
    "df_2021_semifinals_scores"
   ]
  },
  {
   "attachments": {},
   "cell_type": "markdown",
   "metadata": {},
   "source": [
    "##### Games"
   ]
  },
  {
   "attachments": {},
   "cell_type": "markdown",
   "metadata": {},
   "source": [
    "###### Athletes information"
   ]
  },
  {
   "cell_type": "code",
   "execution_count": null,
   "metadata": {},
   "outputs": [],
   "source": [
    "# Query 7 - 2021 Games Not Scores\n",
    "df_2021_games_not_scores = module.scraping_data_open_and_games('2021', 'games')\n",
    "\n",
    "df_2021_games_not_scores"
   ]
  },
  {
   "attachments": {},
   "cell_type": "markdown",
   "metadata": {},
   "source": [
    "###### Athletes scores"
   ]
  },
  {
   "cell_type": "code",
   "execution_count": null,
   "metadata": {},
   "outputs": [],
   "source": [
    "# Query 8 - 2021 Games Scores\n",
    "df_2021_games_scores = module.scraping_data_open_and_games('2021', 'games', scores=True)\n",
    "\n",
    "df_2021_games_scores"
   ]
  }
 ],
 "metadata": {
  "kernelspec": {
   "display_name": "Python 3",
   "language": "python",
   "name": "python3"
  },
  "language_info": {
   "codemirror_mode": {
    "name": "ipython",
    "version": 3
   },
   "file_extension": ".py",
   "mimetype": "text/x-python",
   "name": "python",
   "nbconvert_exporter": "python",
   "pygments_lexer": "ipython3",
   "version": "3.11.4"
  },
  "orig_nbformat": 4
 },
 "nbformat": 4,
 "nbformat_minor": 2
}
